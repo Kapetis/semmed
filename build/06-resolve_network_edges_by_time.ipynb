{
 "cells": [
  {
   "cell_type": "markdown",
   "metadata": {},
   "source": [
    "# Build Time-networks based on year of first PMID for an edge\n",
    "\n",
    "We will build networks representing the state of knowledge at different timepoints.  This will be done by filtering edges by date, using the PMID associated with the earliest timepoint for each given edge."
   ]
  },
  {
   "cell_type": "code",
   "execution_count": 1,
   "metadata": {
    "collapsed": true
   },
   "outputs": [],
   "source": [
    "import os\n",
    "import pickle\n",
    "import pandas as pd\n",
    "from tqdm import tqdm, tqdm_pandas\n",
    "\n",
    "%matplotlib inline\n",
    "import seaborn as sns\n",
    "import matplotlib.pyplot as plt\n",
    "sns.set_style('white')\n",
    "\n",
    "import sys\n",
    "sys.path.append('../../hetnet-ml/src')\n",
    "import graph_tools as gt"
   ]
  },
  {
   "cell_type": "markdown",
   "metadata": {},
   "source": [
    "## Build a final ID to year map\n",
    "\n",
    "Each map came from a different source, so make sure they are consistent in type"
   ]
  },
  {
   "cell_type": "code",
   "execution_count": 2,
   "metadata": {
    "collapsed": true
   },
   "outputs": [],
   "source": [
    "nlm = pickle.load(open('../data/pmid_to_year_NLM.pkl', 'rb'))\n",
    "pmc = pickle.load(open('../data/pmid_to_year_PMC.pkl', 'rb'))\n",
    "eur = pickle.load(open('../data/pmid_to_year_Eur.pkl', 'rb'))\n",
    "ebi = pickle.load(open('../data/pmid_to_year_EBI.pkl', 'rb'))"
   ]
  },
  {
   "cell_type": "markdown",
   "metadata": {},
   "source": [
    "There may be type differences between these maps, lets check.  \n",
    "Ideally we want, `key=str: value=int`."
   ]
  },
  {
   "cell_type": "code",
   "execution_count": 4,
   "metadata": {},
   "outputs": [
    {
     "name": "stdout",
     "output_type": "stream",
     "text": [
      "'19875528': '2009'\n"
     ]
    }
   ],
   "source": [
    "key = list(nlm.keys())[0]\n",
    "value = nlm[key]\n",
    "print('{!r}: {!r}'.format(key, value))"
   ]
  },
  {
   "cell_type": "markdown",
   "metadata": {},
   "source": [
    "`{str: str}`"
   ]
  },
  {
   "cell_type": "code",
   "execution_count": 3,
   "metadata": {},
   "outputs": [
    {
     "name": "stdout",
     "output_type": "stream",
     "text": [
      "'19014497': 2008\n"
     ]
    }
   ],
   "source": [
    "key = list(pmc.keys())[0]\n",
    "value = pmc[key]\n",
    "print('{!r}: {!r}'.format(key, value))"
   ]
  },
  {
   "cell_type": "markdown",
   "metadata": {},
   "source": [
    "`{str: int}`"
   ]
  },
  {
   "cell_type": "code",
   "execution_count": 5,
   "metadata": {
    "scrolled": true
   },
   "outputs": [
    {
     "name": "stdout",
     "output_type": "stream",
     "text": [
      "'19014497': '2008'\n"
     ]
    }
   ],
   "source": [
    "key = list(eur.keys())[0]\n",
    "value = eur[key]\n",
    "print('{!r}: {!r}'.format(key, value))"
   ]
  },
  {
   "cell_type": "markdown",
   "metadata": {},
   "source": [
    "`{str: str}`"
   ]
  },
  {
   "cell_type": "code",
   "execution_count": 6,
   "metadata": {
    "scrolled": true
   },
   "outputs": [
    {
     "name": "stdout",
     "output_type": "stream",
     "text": [
      "'22420013': '2010-03-01'\n"
     ]
    }
   ],
   "source": [
    "key = list(ebi.keys())[0]\n",
    "value = ebi[key]\n",
    "print('{!r}: {!r}'.format(key, value))"
   ]
  },
  {
   "cell_type": "markdown",
   "metadata": {},
   "source": [
    "`{str: str}` with year formatted as `YYYY-MM-DD`"
   ]
  },
  {
   "cell_type": "markdown",
   "metadata": {},
   "source": [
    "#### Reformatting the maps\n",
    "\n",
    "`{str: int}` with only the year is the most useful for our purposes, so format all of these maps to this schema"
   ]
  },
  {
   "cell_type": "code",
   "execution_count": 7,
   "metadata": {},
   "outputs": [
    {
     "name": "stderr",
     "output_type": "stream",
     "text": [
      "100%|██████████| 27836723/27836723 [00:34<00:00, 805878.04it/s]\n"
     ]
    }
   ],
   "source": [
    "for k, v in tqdm(nlm.items()):\n",
    "    nlm[k] = int(v)"
   ]
  },
  {
   "cell_type": "code",
   "execution_count": 8,
   "metadata": {},
   "outputs": [
    {
     "name": "stderr",
     "output_type": "stream",
     "text": [
      "100%|██████████| 3561213/3561213 [00:03<00:00, 905320.85it/s]\n"
     ]
    }
   ],
   "source": [
    "for k, v in tqdm(eur.items()):\n",
    "    eur[k] = int(v)"
   ]
  },
  {
   "cell_type": "code",
   "execution_count": 9,
   "metadata": {},
   "outputs": [
    {
     "name": "stderr",
     "output_type": "stream",
     "text": [
      "100%|██████████| 7937/7937 [00:00<00:00, 598443.07it/s]\n"
     ]
    }
   ],
   "source": [
    "for k, v in tqdm(ebi.items()):\n",
    "    ebi[k] = int(v.split('-')[0])"
   ]
  },
  {
   "cell_type": "code",
   "execution_count": 10,
   "metadata": {
    "collapsed": true
   },
   "outputs": [],
   "source": [
    "# order of importance right to left. (pmc values will replace all others)\n",
    "id_to_year = {**eur, **nlm, **ebi, **pmc}\n",
    "id_to_year = {str(k): v for k, v in id_to_year.items()}"
   ]
  },
  {
   "cell_type": "markdown",
   "metadata": {},
   "source": [
    "## Bring in the nodes and edges files"
   ]
  },
  {
   "cell_type": "code",
   "execution_count": 11,
   "metadata": {
    "collapsed": true,
    "scrolled": true
   },
   "outputs": [],
   "source": [
    "tqdm.pandas()"
   ]
  },
  {
   "cell_type": "code",
   "execution_count": 12,
   "metadata": {},
   "outputs": [
    {
     "data": {
      "text/html": [
       "<div>\n",
       "<style scoped>\n",
       "    .dataframe tbody tr th:only-of-type {\n",
       "        vertical-align: middle;\n",
       "    }\n",
       "\n",
       "    .dataframe tbody tr th {\n",
       "        vertical-align: top;\n",
       "    }\n",
       "\n",
       "    .dataframe thead th {\n",
       "        text-align: right;\n",
       "    }\n",
       "</style>\n",
       "<table border=\"1\" class=\"dataframe\">\n",
       "  <thead>\n",
       "    <tr style=\"text-align: right;\">\n",
       "      <th></th>\n",
       "      <th>id</th>\n",
       "      <th>name</th>\n",
       "      <th>label</th>\n",
       "      <th>id_source</th>\n",
       "    </tr>\n",
       "  </thead>\n",
       "  <tbody>\n",
       "    <tr>\n",
       "      <th>0</th>\n",
       "      <td>C0229664</td>\n",
       "      <td>peripheral blood</td>\n",
       "      <td>Anatomy</td>\n",
       "      <td>UMLS</td>\n",
       "    </tr>\n",
       "    <tr>\n",
       "      <th>1</th>\n",
       "      <td>C0545822</td>\n",
       "      <td>Esophagus, stomach and duodenum</td>\n",
       "      <td>Anatomy</td>\n",
       "      <td>UMLS</td>\n",
       "    </tr>\n",
       "  </tbody>\n",
       "</table>\n",
       "</div>"
      ],
      "text/plain": [
       "         id                             name    label id_source\n",
       "0  C0229664                 peripheral blood  Anatomy      UMLS\n",
       "1  C0545822  Esophagus, stomach and duodenum  Anatomy      UMLS"
      ]
     },
     "execution_count": 12,
     "metadata": {},
     "output_type": "execute_result"
    }
   ],
   "source": [
    "nodes = gt.remove_colons(pd.read_csv('../data/nodes_VER31_R_cons_6_metanode.csv'))\n",
    "nodes.head(2)"
   ]
  },
  {
   "cell_type": "code",
   "execution_count": 13,
   "metadata": {},
   "outputs": [
    {
     "name": "stderr",
     "output_type": "stream",
     "text": [
      "100%|██████████| 7171021/7171021 [02:16<00:00, 52512.01it/s]\n"
     ]
    },
    {
     "data": {
      "text/html": [
       "<div>\n",
       "<style scoped>\n",
       "    .dataframe tbody tr th:only-of-type {\n",
       "        vertical-align: middle;\n",
       "    }\n",
       "\n",
       "    .dataframe tbody tr th {\n",
       "        vertical-align: top;\n",
       "    }\n",
       "\n",
       "    .dataframe thead th {\n",
       "        text-align: right;\n",
       "    }\n",
       "</style>\n",
       "<table border=\"1\" class=\"dataframe\">\n",
       "  <thead>\n",
       "    <tr style=\"text-align: right;\">\n",
       "      <th></th>\n",
       "      <th>start_id</th>\n",
       "      <th>end_id</th>\n",
       "      <th>type</th>\n",
       "      <th>pmids</th>\n",
       "      <th>n_pmids</th>\n",
       "    </tr>\n",
       "  </thead>\n",
       "  <tbody>\n",
       "    <tr>\n",
       "      <th>0</th>\n",
       "      <td>C083299</td>\n",
       "      <td>D022101</td>\n",
       "      <td>AFFECTS_CDafA</td>\n",
       "      <td>{7553900}</td>\n",
       "      <td>1</td>\n",
       "    </tr>\n",
       "    <tr>\n",
       "      <th>1</th>\n",
       "      <td>D051219</td>\n",
       "      <td>D046790</td>\n",
       "      <td>AFFECTS_CDafA</td>\n",
       "      <td>{7881813}</td>\n",
       "      <td>1</td>\n",
       "    </tr>\n",
       "  </tbody>\n",
       "</table>\n",
       "</div>"
      ],
      "text/plain": [
       "  start_id   end_id           type      pmids  n_pmids\n",
       "0  C083299  D022101  AFFECTS_CDafA  {7553900}        1\n",
       "1  D051219  D046790  AFFECTS_CDafA  {7881813}        1"
      ]
     },
     "execution_count": 13,
     "metadata": {},
     "output_type": "execute_result"
    }
   ],
   "source": [
    "edges = gt.remove_colons(pd.read_csv('../data/edges_VER31_R_cons_6_metanode.csv'))\n",
    "edges['pmids'] = edges['pmids'].progress_apply(eval)\n",
    "edges.head(2)"
   ]
  },
  {
   "cell_type": "markdown",
   "metadata": {},
   "source": [
    "## Edge type breakdown by PMID count in final network"
   ]
  },
  {
   "cell_type": "code",
   "execution_count": 14,
   "metadata": {},
   "outputs": [
    {
     "data": {
      "image/png": "[encoded data removed]",
      "text/plain": [
       "<Figure size 864x1440 with 1 Axes>"
      ]
     },
     "metadata": {},
     "output_type": "display_data"
    }
   ],
   "source": [
    "frame = pd.DataFrame()\n",
    "for i in range(10):\n",
    "\n",
    "    to_plot = edges.query('n_pmids > @i')['type'].value_counts()\n",
    "    to_plot = to_plot / to_plot.sum()\n",
    "    frame[i+1] = to_plot\n",
    "    \n",
    "    \n",
    "fig = frame.T.plot.bar(stacked=True, figsize=(12, 20))\n",
    "handels, labels = fig.axes.get_legend_handles_labels()\n",
    "plt.legend(handels[::-1], labels[::-1], loc=7, bbox_to_anchor=(1.3, 0.5))\n",
    "plt.ylim(0, 1)\n",
    "plt.xticks(rotation=0)\n",
    "plt.title('Makeup of edges at different PMID cutoffs', size=24)\n",
    "plt.xlabel('Minimum number of PMIDs per edge', size=20)\n",
    "plt.ylabel('Fraction of total edges', size = 20);"
   ]
  },
  {
   "cell_type": "markdown",
   "metadata": {},
   "source": [
    "## Now apply the ID to Year Map"
   ]
  },
  {
   "cell_type": "code",
   "execution_count": 15,
   "metadata": {},
   "outputs": [
    {
     "data": {
      "text/html": [
       "<div>\n",
       "<style scoped>\n",
       "    .dataframe tbody tr th:only-of-type {\n",
       "        vertical-align: middle;\n",
       "    }\n",
       "\n",
       "    .dataframe tbody tr th {\n",
       "        vertical-align: top;\n",
       "    }\n",
       "\n",
       "    .dataframe thead th {\n",
       "        text-align: right;\n",
       "    }\n",
       "</style>\n",
       "<table border=\"1\" class=\"dataframe\">\n",
       "  <thead>\n",
       "    <tr style=\"text-align: right;\">\n",
       "      <th></th>\n",
       "      <th>start_id</th>\n",
       "      <th>end_id</th>\n",
       "      <th>type</th>\n",
       "      <th>pmids</th>\n",
       "      <th>n_pmids</th>\n",
       "    </tr>\n",
       "  </thead>\n",
       "  <tbody>\n",
       "    <tr>\n",
       "      <th>0</th>\n",
       "      <td>C083299</td>\n",
       "      <td>D022101</td>\n",
       "      <td>AFFECTS_CDafA</td>\n",
       "      <td>[7553900]</td>\n",
       "      <td>1</td>\n",
       "    </tr>\n",
       "    <tr>\n",
       "      <th>1</th>\n",
       "      <td>D051219</td>\n",
       "      <td>D046790</td>\n",
       "      <td>AFFECTS_CDafA</td>\n",
       "      <td>[7881813]</td>\n",
       "      <td>1</td>\n",
       "    </tr>\n",
       "  </tbody>\n",
       "</table>\n",
       "</div>"
      ],
      "text/plain": [
       "  start_id   end_id           type      pmids  n_pmids\n",
       "0  C083299  D022101  AFFECTS_CDafA  [7553900]        1\n",
       "1  D051219  D046790  AFFECTS_CDafA  [7881813]        1"
      ]
     },
     "execution_count": 15,
     "metadata": {},
     "output_type": "execute_result"
    }
   ],
   "source": [
    "# turn pmids into a list so order is preserved\n",
    "edges['pmids'] = edges['pmids'].apply(list)\n",
    "edges.head(2)"
   ]
  },
  {
   "cell_type": "code",
   "execution_count": 16,
   "metadata": {},
   "outputs": [
    {
     "name": "stderr",
     "output_type": "stream",
     "text": [
      "100%|██████████| 7171021/7171021 [00:55<00:00, 130310.76it/s]\n"
     ]
    },
    {
     "data": {
      "text/html": [
       "<div>\n",
       "<style scoped>\n",
       "    .dataframe tbody tr th:only-of-type {\n",
       "        vertical-align: middle;\n",
       "    }\n",
       "\n",
       "    .dataframe tbody tr th {\n",
       "        vertical-align: top;\n",
       "    }\n",
       "\n",
       "    .dataframe thead th {\n",
       "        text-align: right;\n",
       "    }\n",
       "</style>\n",
       "<table border=\"1\" class=\"dataframe\">\n",
       "  <thead>\n",
       "    <tr style=\"text-align: right;\">\n",
       "      <th></th>\n",
       "      <th>start_id</th>\n",
       "      <th>end_id</th>\n",
       "      <th>type</th>\n",
       "      <th>pmids</th>\n",
       "      <th>n_pmids</th>\n",
       "      <th>pub_years</th>\n",
       "    </tr>\n",
       "  </thead>\n",
       "  <tbody>\n",
       "    <tr>\n",
       "      <th>0</th>\n",
       "      <td>C083299</td>\n",
       "      <td>D022101</td>\n",
       "      <td>AFFECTS_CDafA</td>\n",
       "      <td>[7553900]</td>\n",
       "      <td>1</td>\n",
       "      <td>[1995]</td>\n",
       "    </tr>\n",
       "    <tr>\n",
       "      <th>1</th>\n",
       "      <td>D051219</td>\n",
       "      <td>D046790</td>\n",
       "      <td>AFFECTS_CDafA</td>\n",
       "      <td>[7881813]</td>\n",
       "      <td>1</td>\n",
       "      <td>[1994]</td>\n",
       "    </tr>\n",
       "  </tbody>\n",
       "</table>\n",
       "</div>"
      ],
      "text/plain": [
       "  start_id   end_id           type      pmids  n_pmids pub_years\n",
       "0  C083299  D022101  AFFECTS_CDafA  [7553900]        1    [1995]\n",
       "1  D051219  D046790  AFFECTS_CDafA  [7881813]        1    [1994]"
      ]
     },
     "execution_count": 16,
     "metadata": {},
     "output_type": "execute_result"
    }
   ],
   "source": [
    "# Ideally just want minimum year for a given edge, so supplying 9999 for not found pmids will\n",
    "# allow min() to be used on the resulting list.\n",
    "edges['pub_years'] = edges['pmids'].progress_apply(lambda pmids: [id_to_year.get(str(p), 9999) for p in pmids])\n",
    "edges.head(2)"
   ]
  },
  {
   "cell_type": "code",
   "execution_count": 17,
   "metadata": {},
   "outputs": [
    {
     "name": "stderr",
     "output_type": "stream",
     "text": [
      "100%|██████████| 7171021/7171021 [00:18<00:00, 382585.09it/s]\n"
     ]
    },
    {
     "data": {
      "text/html": [
       "<div>\n",
       "<style scoped>\n",
       "    .dataframe tbody tr th:only-of-type {\n",
       "        vertical-align: middle;\n",
       "    }\n",
       "\n",
       "    .dataframe tbody tr th {\n",
       "        vertical-align: top;\n",
       "    }\n",
       "\n",
       "    .dataframe thead th {\n",
       "        text-align: right;\n",
       "    }\n",
       "</style>\n",
       "<table border=\"1\" class=\"dataframe\">\n",
       "  <thead>\n",
       "    <tr style=\"text-align: right;\">\n",
       "      <th></th>\n",
       "      <th>start_id</th>\n",
       "      <th>end_id</th>\n",
       "      <th>type</th>\n",
       "      <th>pmids</th>\n",
       "      <th>n_pmids</th>\n",
       "      <th>pub_years</th>\n",
       "      <th>first_pub</th>\n",
       "    </tr>\n",
       "  </thead>\n",
       "  <tbody>\n",
       "    <tr>\n",
       "      <th>0</th>\n",
       "      <td>C083299</td>\n",
       "      <td>D022101</td>\n",
       "      <td>AFFECTS_CDafA</td>\n",
       "      <td>[7553900]</td>\n",
       "      <td>1</td>\n",
       "      <td>[1995]</td>\n",
       "      <td>1995</td>\n",
       "    </tr>\n",
       "    <tr>\n",
       "      <th>1</th>\n",
       "      <td>D051219</td>\n",
       "      <td>D046790</td>\n",
       "      <td>AFFECTS_CDafA</td>\n",
       "      <td>[7881813]</td>\n",
       "      <td>1</td>\n",
       "      <td>[1994]</td>\n",
       "      <td>1994</td>\n",
       "    </tr>\n",
       "  </tbody>\n",
       "</table>\n",
       "</div>"
      ],
      "text/plain": [
       "  start_id   end_id           type      pmids  n_pmids pub_years  first_pub\n",
       "0  C083299  D022101  AFFECTS_CDafA  [7553900]        1    [1995]       1995\n",
       "1  D051219  D046790  AFFECTS_CDafA  [7881813]        1    [1994]       1994"
      ]
     },
     "execution_count": 17,
     "metadata": {},
     "output_type": "execute_result"
    }
   ],
   "source": [
    "edges['first_pub'] = edges['pub_years'].progress_apply(min)\n",
    "edges.head(2)"
   ]
  },
  {
   "cell_type": "markdown",
   "metadata": {},
   "source": [
    "## Now the get the dates from the gold standard."
   ]
  },
  {
   "cell_type": "code",
   "execution_count": 18,
   "metadata": {},
   "outputs": [
    {
     "data": {
      "text/html": [
       "<div>\n",
       "<style scoped>\n",
       "    .dataframe tbody tr th:only-of-type {\n",
       "        vertical-align: middle;\n",
       "    }\n",
       "\n",
       "    .dataframe tbody tr th {\n",
       "        vertical-align: top;\n",
       "    }\n",
       "\n",
       "    .dataframe thead th {\n",
       "        text-align: right;\n",
       "    }\n",
       "</style>\n",
       "<table border=\"1\" class=\"dataframe\">\n",
       "  <thead>\n",
       "    <tr style=\"text-align: right;\">\n",
       "      <th></th>\n",
       "      <th>id</th>\n",
       "      <th>struct_id</th>\n",
       "      <th>concept_id</th>\n",
       "      <th>relationship_name</th>\n",
       "      <th>disease_name</th>\n",
       "      <th>umls_cui</th>\n",
       "      <th>snomed_full_name</th>\n",
       "      <th>cui_semantic_type</th>\n",
       "      <th>snomed_conceptid</th>\n",
       "      <th>compound_name</th>\n",
       "      <th>compound_semmed_id</th>\n",
       "      <th>disease_semmed_id</th>\n",
       "      <th>approval_date</th>\n",
       "      <th>approval_year</th>\n",
       "    </tr>\n",
       "  </thead>\n",
       "  <tbody>\n",
       "    <tr>\n",
       "      <th>0</th>\n",
       "      <td>173432</td>\n",
       "      <td>965</td>\n",
       "      <td>40249340</td>\n",
       "      <td>indication</td>\n",
       "      <td>Malignant tumor of breast</td>\n",
       "      <td>C0006142</td>\n",
       "      <td>Malignant tumor of breast</td>\n",
       "      <td>T191</td>\n",
       "      <td>254837009.0</td>\n",
       "      <td>drostanolone propionate</td>\n",
       "      <td>C007561</td>\n",
       "      <td>D001943</td>\n",
       "      <td>NaN</td>\n",
       "      <td>NaN</td>\n",
       "    </tr>\n",
       "    <tr>\n",
       "      <th>1</th>\n",
       "      <td>173433</td>\n",
       "      <td>318</td>\n",
       "      <td>21000716</td>\n",
       "      <td>indication</td>\n",
       "      <td>Gout</td>\n",
       "      <td>C0018099</td>\n",
       "      <td>Gout</td>\n",
       "      <td>T047</td>\n",
       "      <td>90560007.0</td>\n",
       "      <td>benzbromarone</td>\n",
       "      <td>D001553</td>\n",
       "      <td>D006073</td>\n",
       "      <td>NaN</td>\n",
       "      <td>NaN</td>\n",
       "    </tr>\n",
       "  </tbody>\n",
       "</table>\n",
       "</div>"
      ],
      "text/plain": [
       "       id  struct_id  concept_id relationship_name               disease_name  \\\n",
       "0  173432        965    40249340        indication  Malignant tumor of breast   \n",
       "1  173433        318    21000716        indication                       Gout   \n",
       "\n",
       "   umls_cui           snomed_full_name cui_semantic_type  snomed_conceptid  \\\n",
       "0  C0006142  Malignant tumor of breast              T191       254837009.0   \n",
       "1  C0018099                       Gout              T047        90560007.0   \n",
       "\n",
       "             compound_name compound_semmed_id disease_semmed_id approval_date  \\\n",
       "0  drostanolone propionate            C007561           D001943           NaN   \n",
       "1            benzbromarone            D001553           D006073           NaN   \n",
       "\n",
       "   approval_year  \n",
       "0            NaN  \n",
       "1            NaN  "
      ]
     },
     "execution_count": 18,
     "metadata": {},
     "output_type": "execute_result"
    }
   ],
   "source": [
    "indications = pd.read_csv('../data/indications_nodemerge.csv')\n",
    "indications.head(2)"
   ]
  },
  {
   "cell_type": "code",
   "execution_count": 19,
   "metadata": {},
   "outputs": [
    {
     "data": {
      "text/plain": [
       "8279"
      ]
     },
     "execution_count": 19,
     "metadata": {},
     "output_type": "execute_result"
    }
   ],
   "source": [
    "len(indications)"
   ]
  },
  {
   "cell_type": "markdown",
   "metadata": {},
   "source": [
    "Some NA values in the date, won't be useul for this analysis so just drop them"
   ]
  },
  {
   "cell_type": "code",
   "execution_count": 20,
   "metadata": {
    "collapsed": true
   },
   "outputs": [],
   "source": [
    "indications.dropna(subset=['approval_year'], inplace=True)\n",
    "indications['approval_year'] = indications['approval_year'].astype(int)"
   ]
  },
  {
   "cell_type": "code",
   "execution_count": 21,
   "metadata": {},
   "outputs": [
    {
     "data": {
      "text/plain": [
       "7100"
      ]
     },
     "execution_count": 21,
     "metadata": {},
     "output_type": "execute_result"
    }
   ],
   "source": [
    "len(indications)"
   ]
  },
  {
   "cell_type": "markdown",
   "metadata": {},
   "source": [
    "## Filter nodes and edges by year to build the network"
   ]
  },
  {
   "cell_type": "code",
   "execution_count": 22,
   "metadata": {
    "collapsed": true
   },
   "outputs": [],
   "source": [
    "base_dir = '../data/time_networks-6_metanode'"
   ]
  },
  {
   "cell_type": "code",
   "execution_count": 23,
   "metadata": {
    "collapsed": true
   },
   "outputs": [],
   "source": [
    "def get_year_category(diff):\n",
    "    if diff > 20:\n",
    "        return '20+ After'\n",
    "    elif diff >= 15 and diff < 20:\n",
    "        return '15-20 After'\n",
    "    elif diff >= 10 and diff < 15:\n",
    "        return '10-15 After'\n",
    "    elif diff >= 5 and diff < 10:\n",
    "        return '5-10 After'\n",
    "    elif diff >= 0 and diff < 5:\n",
    "        return '0-5 After'\n",
    "    elif diff >= -5 and diff < 0:\n",
    "        return '0-5 Before'\n",
    "    elif diff >= -10 and diff < -5:\n",
    "        return '5-10 Before'\n",
    "    elif diff >= -15 and diff < -10:\n",
    "        return '10-15 Before'\n",
    "    elif diff >= -20 and diff < -15:\n",
    "        return '15-20 Before'\n",
    "    elif diff < -20:\n",
    "        return '20+ Before'"
   ]
  },
  {
   "cell_type": "code",
   "execution_count": 24,
   "metadata": {
    "collapsed": true
   },
   "outputs": [],
   "source": [
    "def plot_figure(indications, year, out_dir):\n",
    "    \n",
    "    order = ['20+ Before',\n",
    "         '15-20 Before',\n",
    "         '10-15 Before',\n",
    "         '5-10 Before',\n",
    "         '0-5 Before',\n",
    "         '0-5 After',\n",
    "         '5-10 After',\n",
    "         '10-15 After',\n",
    "         '15-20 After',\n",
    "         '20+ After']\n",
    "    \n",
    "    \n",
    "    plt.clf()\n",
    "    plt.figure(figsize=(6, 4.5))\n",
    "\n",
    "    f = sns.countplot(x='year_cat', data=indications, order=order)\n",
    "    \n",
    "    plt.ylabel('Count')\n",
    "    plt.xlabel('Years from approval and {}'.format(year))\n",
    "    plt.xticks(rotation=45)\n",
    "\n",
    "    xlim = f.axes.get_xlim()\n",
    "    x_mid = (xlim[1] + xlim[0]) / 2\n",
    "\n",
    "    tick_diff = f.get_yticks()[1] - f.get_yticks()[0]\n",
    "    y_height = f.get_yticks()[-2] - tick_diff/5 \n",
    "\n",
    "    plt.text(3*x_mid/2, y_height, 'Total indications:\\n          {}'.format(len(indications)))\n",
    "\n",
    "\n",
    "    plt.title('Distribution of approval years for {}'.format(year))\n",
    "    plt.tight_layout()\n",
    "    plt.savefig(os.path.join(out_dir, 'ind-distribution.png'));"
   ]
  },
  {
   "cell_type": "code",
   "execution_count": 25,
   "metadata": {
    "scrolled": false
   },
   "outputs": [
    {
     "name": "stderr",
     "output_type": "stream",
     "text": [
      "\r",
      "  0%|          | 0/15 [00:00<?, ?it/s]"
     ]
    },
    {
     "name": "stdout",
     "output_type": "stream",
     "text": [
      "Year: 1950\n",
      "IDs: 8,584\n",
      "Nodes: 8,584\n",
      "Edges: 30,736\n",
      "Indications: 694\n",
      "\n",
      "\n"
     ]
    },
    {
     "name": "stderr",
     "output_type": "stream",
     "text": [
      "\r",
      "  7%|▋         | 1/15 [00:03<00:51,  3.71s/it]"
     ]
    },
    {
     "name": "stdout",
     "output_type": "stream",
     "text": [
      "Year: 1955\n",
      "IDs: 12,540\n",
      "Nodes: 12,540\n",
      "Edges: 59,693\n",
      "Indications: 1,104\n",
      "\n",
      "\n"
     ]
    },
    {
     "name": "stderr",
     "output_type": "stream",
     "text": [
      "\r",
      " 13%|█▎        | 2/15 [00:06<00:45,  3.54s/it]"
     ]
    },
    {
     "name": "stdout",
     "output_type": "stream",
     "text": [
      "Year: 1960\n",
      "IDs: 16,033\n",
      "Nodes: 16,033\n",
      "Edges: 89,225\n",
      "Indications: 1,726\n",
      "\n",
      "\n"
     ]
    },
    {
     "name": "stderr",
     "output_type": "stream",
     "text": [
      "\r",
      " 20%|██        | 3/15 [00:11<00:44,  3.74s/it]"
     ]
    },
    {
     "name": "stdout",
     "output_type": "stream",
     "text": [
      "Year: 1965\n",
      "IDs: 20,267\n",
      "Nodes: 20,267\n",
      "Edges: 128,980\n",
      "Indications: 2,140\n",
      "\n",
      "\n"
     ]
    },
    {
     "name": "stderr",
     "output_type": "stream",
     "text": [
      "\r",
      " 27%|██▋       | 4/15 [00:16<00:45,  4.11s/it]"
     ]
    },
    {
     "name": "stdout",
     "output_type": "stream",
     "text": [
      "Year: 1970\n",
      "IDs: 25,699\n",
      "Nodes: 25,699\n",
      "Edges: 189,430\n",
      "Indications: 2,499\n",
      "\n",
      "\n"
     ]
    },
    {
     "name": "stderr",
     "output_type": "stream",
     "text": [
      "\r",
      " 33%|███▎      | 5/15 [00:22<00:48,  4.86s/it]"
     ]
    },
    {
     "name": "stdout",
     "output_type": "stream",
     "text": [
      "Year: 1975\n",
      "IDs: 33,965\n",
      "Nodes: 33,965\n",
      "Edges: 304,723\n",
      "Indications: 3,012\n",
      "\n",
      "\n"
     ]
    },
    {
     "name": "stderr",
     "output_type": "stream",
     "text": [
      "\r",
      " 40%|████      | 6/15 [00:31<00:53,  5.96s/it]"
     ]
    },
    {
     "name": "stdout",
     "output_type": "stream",
     "text": [
      "Year: 1980\n",
      "IDs: 46,685\n",
      "Nodes: 46,685\n",
      "Edges: 565,736\n",
      "Indications: 3,560\n",
      "\n",
      "\n"
     ]
    },
    {
     "name": "stderr",
     "output_type": "stream",
     "text": [
      "\r",
      " 47%|████▋     | 7/15 [00:44<01:05,  8.13s/it]"
     ]
    },
    {
     "name": "stdout",
     "output_type": "stream",
     "text": [
      "Year: 1985\n",
      "IDs: 59,827\n",
      "Nodes: 59,827\n",
      "Edges: 940,502\n",
      "Indications: 4,086\n",
      "\n",
      "\n"
     ]
    },
    {
     "name": "stderr",
     "output_type": "stream",
     "text": [
      "\r",
      " 53%|█████▎    | 8/15 [01:02<01:17, 11.04s/it]"
     ]
    },
    {
     "name": "stdout",
     "output_type": "stream",
     "text": [
      "Year: 1990\n",
      "IDs: 73,794\n",
      "Nodes: 73,794\n",
      "Edges: 1,470,937\n",
      "Indications: 4,446\n",
      "\n",
      "\n"
     ]
    },
    {
     "name": "stderr",
     "output_type": "stream",
     "text": [
      "\r",
      " 60%|██████    | 9/15 [01:25<01:27, 14.59s/it]"
     ]
    },
    {
     "name": "stdout",
     "output_type": "stream",
     "text": [
      "Year: 1995\n",
      "IDs: 88,827\n",
      "Nodes: 88,827\n",
      "Edges: 2,175,260\n",
      "Indications: 4,741\n",
      "\n",
      "\n"
     ]
    },
    {
     "name": "stderr",
     "output_type": "stream",
     "text": [
      "\r",
      " 67%|██████▋   | 10/15 [01:54<01:35, 19.08s/it]"
     ]
    },
    {
     "name": "stdout",
     "output_type": "stream",
     "text": [
      "Year: 2000\n",
      "IDs: 103,149\n",
      "Nodes: 103,149\n",
      "Edges: 3,033,520\n",
      "Indications: 4,950\n",
      "\n",
      "\n"
     ]
    },
    {
     "name": "stderr",
     "output_type": "stream",
     "text": [
      "\r",
      " 73%|███████▎  | 11/15 [02:32<01:39, 24.84s/it]"
     ]
    },
    {
     "name": "stdout",
     "output_type": "stream",
     "text": [
      "Year: 2005\n",
      "IDs: 116,080\n",
      "Nodes: 116,080\n",
      "Edges: 4,075,704\n",
      "Indications: 5,085\n",
      "\n",
      "\n"
     ]
    },
    {
     "name": "stderr",
     "output_type": "stream",
     "text": [
      "\r",
      " 80%|████████  | 12/15 [03:18<01:33, 31.00s/it]"
     ]
    },
    {
     "name": "stdout",
     "output_type": "stream",
     "text": [
      "Year: 2010\n",
      "IDs: 123,992\n",
      "Nodes: 123,992\n",
      "Edges: 5,213,450\n",
      "Indications: 5,158\n",
      "\n",
      "\n"
     ]
    },
    {
     "name": "stderr",
     "output_type": "stream",
     "text": [
      "\r",
      " 87%|████████▋ | 13/15 [04:12<01:16, 38.07s/it]"
     ]
    },
    {
     "name": "stdout",
     "output_type": "stream",
     "text": [
      "Year: 2015\n",
      "IDs: 130,541\n",
      "Nodes: 130,541\n",
      "Edges: 6,507,375\n",
      "Indications: 5,176\n",
      "\n",
      "\n"
     ]
    },
    {
     "name": "stderr",
     "output_type": "stream",
     "text": [
      "\r",
      " 93%|█████████▎| 14/15 [05:16<00:45, 45.84s/it]"
     ]
    },
    {
     "name": "stdout",
     "output_type": "stream",
     "text": [
      "Year: 2020\n",
      "IDs: 132,906\n",
      "Nodes: 132,906\n",
      "Edges: 7,028,583\n",
      "Indications: 5,218\n",
      "\n",
      "\n"
     ]
    },
    {
     "name": "stderr",
     "output_type": "stream",
     "text": [
      "100%|██████████| 15/15 [06:23<00:00, 52.00s/it]\n"
     ]
    },
    {
     "data": {
      "text/plain": [
       "<Figure size 432x288 with 0 Axes>"
      ]
     },
     "metadata": {},
     "output_type": "display_data"
    },
    {
     "data": {
      "text/plain": [
       "<Figure size 432x324 with 0 Axes>"
      ]
     },
     "metadata": {},
     "output_type": "display_data"
    },
    {
     "data": {
      "text/plain": [
       "<Figure size 432x324 with 0 Axes>"
      ]
     },
     "metadata": {},
     "output_type": "display_data"
    },
    {
     "data": {
      "text/plain": [
       "<Figure size 432x324 with 0 Axes>"
      ]
     },
     "metadata": {},
     "output_type": "display_data"
    },
    {
     "data": {
      "text/plain": [
       "<Figure size 432x324 with 0 Axes>"
      ]
     },
     "metadata": {},
     "output_type": "display_data"
    },
    {
     "data": {
      "text/plain": [
       "<Figure size 432x324 with 0 Axes>"
      ]
     },
     "metadata": {},
     "output_type": "display_data"
    },
    {
     "data": {
      "text/plain": [
       "<Figure size 432x324 with 0 Axes>"
      ]
     },
     "metadata": {},
     "output_type": "display_data"
    },
    {
     "data": {
      "text/plain": [
       "<Figure size 432x324 with 0 Axes>"
      ]
     },
     "metadata": {},
     "output_type": "display_data"
    },
    {
     "data": {
      "text/plain": [
       "<Figure size 432x324 with 0 Axes>"
      ]
     },
     "metadata": {},
     "output_type": "display_data"
    },
    {
     "data": {
      "text/plain": [
       "<Figure size 432x324 with 0 Axes>"
      ]
     },
     "metadata": {},
     "output_type": "display_data"
    },
    {
     "data": {
      "text/plain": [
       "<Figure size 432x324 with 0 Axes>"
      ]
     },
     "metadata": {},
     "output_type": "display_data"
    },
    {
     "data": {
      "text/plain": [
       "<Figure size 432x324 with 0 Axes>"
      ]
     },
     "metadata": {},
     "output_type": "display_data"
    },
    {
     "data": {
      "text/plain": [
       "<Figure size 432x324 with 0 Axes>"
      ]
     },
     "metadata": {},
     "output_type": "display_data"
    },
    {
     "data": {
      "text/plain": [
       "<Figure size 432x324 with 0 Axes>"
      ]
     },
     "metadata": {},
     "output_type": "display_data"
    },
    {
     "data": {
      "text/plain": [
       "<Figure size 432x324 with 0 Axes>"
      ]
     },
     "metadata": {},
     "output_type": "display_data"
    },
    {
     "data": {
      "image/png": "[encoded data removed]",
      "text/plain": [
       "<Figure size 432x324 with 1 Axes>"
      ]
     },
     "metadata": {},
     "output_type": "display_data"
    }
   ],
   "source": [
    "for year in tqdm(range(1950, 2025, 5)):\n",
    "\n",
    "    # Define the save directory\n",
    "    out_dir = os.path.join(base_dir, str(year))\n",
    "\n",
    "    # Make sure the save directory exists, if not, make it\n",
    "    try:\n",
    "        os.stat(out_dir)\n",
    "    except:\n",
    "        os.makedirs(out_dir)       \n",
    "    \n",
    "    # Filter the edges by year\n",
    "    e_filt = edges.query('first_pub <= @year')\n",
    "\n",
    "    # Keep only nodes that have edges joining them\n",
    "    node_ids = set(e_filt['start_id']).union(set(e_filt['end_id']))\n",
    "    n_filt = nodes.query('id in @node_ids')\n",
    "\n",
    "    # Keep only indications that have both the compound and disease still existing in the network\n",
    "    ind_filt = indications.query('compound_semmed_id in @node_ids and disease_semmed_id in @node_ids').reset_index(drop=True)\n",
    "\n",
    "    # Determine the difference between the current year and approval\n",
    "    ind_filt['year_diff'] = ind_filt['approval_year'] - year\n",
    "    ind_filt['year_cat'] = ind_filt['year_diff'].apply(get_year_category)\n",
    "\n",
    "    print(\"Year: {}\\nIDs: {:,}\\nNodes: {:,}\\nEdges: {:,}\\nIndications: {:,}\\n\\n\".format(\n",
    "        year, len(node_ids), len(n_filt), len(e_filt), len(ind_filt)))\n",
    "    \n",
    "    # Save the network, indications, and summary figure\n",
    "    (gt.add_colons(n_filt, id_name='cui')\n",
    "       .to_csv(os.path.join(out_dir, 'nodes.csv'), index=False))\n",
    "    (gt.add_colons(e_filt, col_types={'n_pmids':'INT', 'first_pub':'INT'})\n",
    "       .to_csv(os.path.join(out_dir, 'edges.csv'), index=False))\n",
    "    ind_filt.to_csv(os.path.join(out_dir, 'indications.csv'), index=False)\n",
    "    plot_figure(ind_filt, year, out_dir);"
   ]
  }
 ],
 "metadata": {
  "kernelspec": {
   "display_name": "Python 3",
   "language": "python",
   "name": "python3"
  },
  "language_info": {
   "codemirror_mode": {
    "name": "ipython",
    "version": 3
   },
   "file_extension": ".py",
   "mimetype": "text/x-python",
   "name": "python",
   "nbconvert_exporter": "python",
   "pygments_lexer": "ipython3",
   "version": "3.5.3"
  }
 },
 "nbformat": 4,
 "nbformat_minor": 2
}
