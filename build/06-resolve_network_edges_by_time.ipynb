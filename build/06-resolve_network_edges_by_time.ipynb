{
 "cells": [
  {
   "cell_type": "markdown",
   "metadata": {},
   "source": [
    "# Build Time-networks based on year of first PMID for an edge\n",
    "\n",
    "We will build networks representing the state of knowledge at different timepoints.  This will be done by filtering edges by date, using the PMID associated with the earliest timepoint for each given edge."
   ]
  },
  {
   "cell_type": "code",
   "execution_count": 1,
   "metadata": {
    "collapsed": true
   },
   "outputs": [],
   "source": [
    "import os\n",
    "import pickle\n",
    "import pandas as pd\n",
    "from tqdm import tqdm, tqdm_pandas\n",
    "\n",
    "%matplotlib inline\n",
    "import seaborn as sns\n",
    "import matplotlib.pyplot as plt\n",
    "sns.set_style('white')\n",
    "\n",
    "import sys\n",
    "sys.path.append('../../hetnet-ml/src')\n",
    "import graph_tools as gt"
   ]
  },
  {
   "cell_type": "markdown",
   "metadata": {},
   "source": [
    "## Build a final ID to year map\n",
    "\n",
    "Each map came from a different source, so make sure they are consistent in type"
   ]
  },
  {
   "cell_type": "code",
   "execution_count": 2,
   "metadata": {
    "collapsed": true
   },
   "outputs": [],
   "source": [
    "nlm = pickle.load(open('../data/pmid_to_year_NLM.pkl', 'rb'))\n",
    "pmc = pickle.load(open('../data/pmid_to_year_PMC.pkl', 'rb'))\n",
    "eur = pickle.load(open('../data/pmid_to_year_Eur.pkl', 'rb'))\n",
    "ebi = pickle.load(open('../data/pmid_to_year_EBI.pkl', 'rb'))"
   ]
  },
  {
   "cell_type": "markdown",
   "metadata": {},
   "source": [
    "There may be type differences between these maps, lets check.  \n",
    "Ideally we want, `key=str: value=int`."
   ]
  },
  {
   "cell_type": "code",
   "execution_count": 3,
   "metadata": {},
   "outputs": [
    {
     "name": "stdout",
     "output_type": "stream",
     "text": [
      "'8496615': '1993'\n"
     ]
    }
   ],
   "source": [
    "key = list(nlm.keys())[0]\n",
    "value = nlm[key]\n",
    "print('{!r}: {!r}'.format(key, value))"
   ]
  },
  {
   "cell_type": "markdown",
   "metadata": {},
   "source": [
    "`{str: str}`"
   ]
  },
  {
   "cell_type": "code",
   "execution_count": 4,
   "metadata": {},
   "outputs": [
    {
     "name": "stdout",
     "output_type": "stream",
     "text": [
      "'10834904': 2000\n"
     ]
    }
   ],
   "source": [
    "key = list(pmc.keys())[0]\n",
    "value = pmc[key]\n",
    "print('{!r}: {!r}'.format(key, value))"
   ]
  },
  {
   "cell_type": "markdown",
   "metadata": {},
   "source": [
    "`{str: int}`"
   ]
  },
  {
   "cell_type": "code",
   "execution_count": 5,
   "metadata": {
    "scrolled": true
   },
   "outputs": [
    {
     "name": "stdout",
     "output_type": "stream",
     "text": [
      "'26788178': '2015'\n"
     ]
    }
   ],
   "source": [
    "key = list(eur.keys())[0]\n",
    "value = eur[key]\n",
    "print('{!r}: {!r}'.format(key, value))"
   ]
  },
  {
   "cell_type": "markdown",
   "metadata": {},
   "source": [
    "`{str: str}`"
   ]
  },
  {
   "cell_type": "code",
   "execution_count": 6,
   "metadata": {
    "scrolled": true
   },
   "outputs": [
    {
     "name": "stdout",
     "output_type": "stream",
     "text": [
      "'26726691': '2016-01-05'\n"
     ]
    }
   ],
   "source": [
    "key = list(ebi.keys())[0]\n",
    "value = ebi[key]\n",
    "print('{!r}: {!r}'.format(key, value))"
   ]
  },
  {
   "cell_type": "markdown",
   "metadata": {},
   "source": [
    "`{str: str}` with year formatted as `YYYY-MM-DD`"
   ]
  },
  {
   "cell_type": "markdown",
   "metadata": {},
   "source": [
    "#### Reformatting the maps\n",
    "\n",
    "`{str: int}` with only the year is the most useful for our purposes, so format all of these maps to this schema"
   ]
  },
  {
   "cell_type": "code",
   "execution_count": 7,
   "metadata": {},
   "outputs": [
    {
     "name": "stderr",
     "output_type": "stream",
     "text": [
      "100%|██████████| 27836723/27836723 [00:44<00:00, 631862.26it/s]\n"
     ]
    }
   ],
   "source": [
    "for k, v in tqdm(nlm.items()):\n",
    "    nlm[k] = int(v)"
   ]
  },
  {
   "cell_type": "code",
   "execution_count": 8,
   "metadata": {},
   "outputs": [
    {
     "name": "stderr",
     "output_type": "stream",
     "text": [
      "100%|██████████| 3561213/3561213 [00:04<00:00, 833546.18it/s]\n"
     ]
    }
   ],
   "source": [
    "for k, v in tqdm(eur.items()):\n",
    "    eur[k] = int(v)"
   ]
  },
  {
   "cell_type": "code",
   "execution_count": 9,
   "metadata": {},
   "outputs": [
    {
     "name": "stderr",
     "output_type": "stream",
     "text": [
      "100%|██████████| 7937/7937 [00:00<00:00, 572065.21it/s]\n"
     ]
    }
   ],
   "source": [
    "for k, v in tqdm(ebi.items()):\n",
    "    ebi[k] = int(v.split('-')[0])"
   ]
  },
  {
   "cell_type": "code",
   "execution_count": 10,
   "metadata": {
    "collapsed": true
   },
   "outputs": [],
   "source": [
    "# order of importance right to left. (pmc values will replace all others)\n",
    "id_to_year = {**eur, **nlm, **ebi, **pmc}\n",
    "id_to_year = {str(k): v for k, v in id_to_year.items()}"
   ]
  },
  {
   "cell_type": "markdown",
   "metadata": {},
   "source": [
    "## Bring in the nodes and edges files"
   ]
  },
  {
   "cell_type": "code",
   "execution_count": 11,
   "metadata": {
    "collapsed": true,
    "scrolled": true
   },
   "outputs": [],
   "source": [
    "tqdm.pandas()"
   ]
  },
  {
   "cell_type": "code",
   "execution_count": 12,
   "metadata": {},
   "outputs": [
    {
     "data": {
      "text/html": [
       "<div>\n",
       "<style scoped>\n",
       "    .dataframe tbody tr th:only-of-type {\n",
       "        vertical-align: middle;\n",
       "    }\n",
       "\n",
       "    .dataframe tbody tr th {\n",
       "        vertical-align: top;\n",
       "    }\n",
       "\n",
       "    .dataframe thead th {\n",
       "        text-align: right;\n",
       "    }\n",
       "</style>\n",
       "<table border=\"1\" class=\"dataframe\">\n",
       "  <thead>\n",
       "    <tr style=\"text-align: right;\">\n",
       "      <th></th>\n",
       "      <th>id</th>\n",
       "      <th>name</th>\n",
       "      <th>label</th>\n",
       "      <th>id_source</th>\n",
       "    </tr>\n",
       "  </thead>\n",
       "  <tbody>\n",
       "    <tr>\n",
       "      <th>0</th>\n",
       "      <td>C0229664</td>\n",
       "      <td>peripheral blood</td>\n",
       "      <td>Anatomy</td>\n",
       "      <td>UMLS</td>\n",
       "    </tr>\n",
       "    <tr>\n",
       "      <th>1</th>\n",
       "      <td>C0545822</td>\n",
       "      <td>Esophagus, stomach and duodenum</td>\n",
       "      <td>Anatomy</td>\n",
       "      <td>UMLS</td>\n",
       "    </tr>\n",
       "  </tbody>\n",
       "</table>\n",
       "</div>"
      ],
      "text/plain": [
       "         id                             name    label id_source\n",
       "0  C0229664                 peripheral blood  Anatomy      UMLS\n",
       "1  C0545822  Esophagus, stomach and duodenum  Anatomy      UMLS"
      ]
     },
     "execution_count": 12,
     "metadata": {},
     "output_type": "execute_result"
    }
   ],
   "source": [
    "nodes = gt.remove_colons(pd.read_csv('../data/nodes_VER31_R_cons_6_metanode.csv'))\n",
    "nodes.head(2)"
   ]
  },
  {
   "cell_type": "code",
   "execution_count": 13,
   "metadata": {},
   "outputs": [
    {
     "name": "stderr",
     "output_type": "stream",
     "text": [
      "100%|██████████| 7784275/7784275 [02:27<00:00, 52618.01it/s]\n"
     ]
    },
    {
     "data": {
      "text/html": [
       "<div>\n",
       "<style scoped>\n",
       "    .dataframe tbody tr th:only-of-type {\n",
       "        vertical-align: middle;\n",
       "    }\n",
       "\n",
       "    .dataframe tbody tr th {\n",
       "        vertical-align: top;\n",
       "    }\n",
       "\n",
       "    .dataframe thead th {\n",
       "        text-align: right;\n",
       "    }\n",
       "</style>\n",
       "<table border=\"1\" class=\"dataframe\">\n",
       "  <thead>\n",
       "    <tr style=\"text-align: right;\">\n",
       "      <th></th>\n",
       "      <th>start_id</th>\n",
       "      <th>end_id</th>\n",
       "      <th>type</th>\n",
       "      <th>pmids</th>\n",
       "      <th>n_pmids</th>\n",
       "    </tr>\n",
       "  </thead>\n",
       "  <tbody>\n",
       "    <tr>\n",
       "      <th>0</th>\n",
       "      <td>D010447</td>\n",
       "      <td>D010519</td>\n",
       "      <td>AFFECTS_CDafA</td>\n",
       "      <td>{10920248, 19040577}</td>\n",
       "      <td>2</td>\n",
       "    </tr>\n",
       "    <tr>\n",
       "      <th>1</th>\n",
       "      <td>D008239</td>\n",
       "      <td>D022781</td>\n",
       "      <td>AFFECTS_CDafA</td>\n",
       "      <td>{496661, 21106925, 6696070}</td>\n",
       "      <td>3</td>\n",
       "    </tr>\n",
       "  </tbody>\n",
       "</table>\n",
       "</div>"
      ],
      "text/plain": [
       "  start_id   end_id           type                        pmids  n_pmids\n",
       "0  D010447  D010519  AFFECTS_CDafA         {10920248, 19040577}        2\n",
       "1  D008239  D022781  AFFECTS_CDafA  {496661, 21106925, 6696070}        3"
      ]
     },
     "execution_count": 13,
     "metadata": {},
     "output_type": "execute_result"
    }
   ],
   "source": [
    "edges = gt.remove_colons(pd.read_csv('../data/edges_VER31_R_cons_6_metanode.csv'))\n",
    "edges['pmids'] = edges['pmids'].progress_apply(eval)\n",
    "edges.head(2)"
   ]
  },
  {
   "cell_type": "markdown",
   "metadata": {},
   "source": [
    "## Edge type breakdown by PMID count in final network"
   ]
  },
  {
   "cell_type": "code",
   "execution_count": 14,
   "metadata": {},
   "outputs": [
    {
     "data": {
      "image/png": "[encoded data removed]",
      "text/plain": [
       "<Figure size 864x1440 with 1 Axes>"
      ]
     },
     "metadata": {},
     "output_type": "display_data"
    }
   ],
   "source": [
    "frame = pd.DataFrame()\n",
    "for i in range(10):\n",
    "\n",
    "    to_plot = edges.query('n_pmids > @i')['type'].value_counts()\n",
    "    to_plot = to_plot / to_plot.sum()\n",
    "    frame[i+1] = to_plot\n",
    "    \n",
    "    \n",
    "fig = frame.T.plot.bar(stacked=True, figsize=(12, 20))\n",
    "handels, labels = fig.axes.get_legend_handles_labels()\n",
    "plt.legend(handels[::-1], labels[::-1], loc=7, bbox_to_anchor=(1.3, 0.5))\n",
    "plt.ylim(0, 1)\n",
    "plt.xticks(rotation=0)\n",
    "plt.title('Makeup of edges at different PMID cutoffs', size=24)\n",
    "plt.xlabel('Minimum number of PMIDs per edge', size=20)\n",
    "plt.ylabel('Fraction of total edges', size = 20);"
   ]
  },
  {
   "cell_type": "markdown",
   "metadata": {},
   "source": [
    "## Now apply the ID to Year Map"
   ]
  },
  {
   "cell_type": "code",
   "execution_count": 15,
   "metadata": {},
   "outputs": [
    {
     "data": {
      "text/html": [
       "<div>\n",
       "<style scoped>\n",
       "    .dataframe tbody tr th:only-of-type {\n",
       "        vertical-align: middle;\n",
       "    }\n",
       "\n",
       "    .dataframe tbody tr th {\n",
       "        vertical-align: top;\n",
       "    }\n",
       "\n",
       "    .dataframe thead th {\n",
       "        text-align: right;\n",
       "    }\n",
       "</style>\n",
       "<table border=\"1\" class=\"dataframe\">\n",
       "  <thead>\n",
       "    <tr style=\"text-align: right;\">\n",
       "      <th></th>\n",
       "      <th>start_id</th>\n",
       "      <th>end_id</th>\n",
       "      <th>type</th>\n",
       "      <th>pmids</th>\n",
       "      <th>n_pmids</th>\n",
       "    </tr>\n",
       "  </thead>\n",
       "  <tbody>\n",
       "    <tr>\n",
       "      <th>0</th>\n",
       "      <td>D010447</td>\n",
       "      <td>D010519</td>\n",
       "      <td>AFFECTS_CDafA</td>\n",
       "      <td>[10920248, 19040577]</td>\n",
       "      <td>2</td>\n",
       "    </tr>\n",
       "    <tr>\n",
       "      <th>1</th>\n",
       "      <td>D008239</td>\n",
       "      <td>D022781</td>\n",
       "      <td>AFFECTS_CDafA</td>\n",
       "      <td>[496661, 21106925, 6696070]</td>\n",
       "      <td>3</td>\n",
       "    </tr>\n",
       "  </tbody>\n",
       "</table>\n",
       "</div>"
      ],
      "text/plain": [
       "  start_id   end_id           type                        pmids  n_pmids\n",
       "0  D010447  D010519  AFFECTS_CDafA         [10920248, 19040577]        2\n",
       "1  D008239  D022781  AFFECTS_CDafA  [496661, 21106925, 6696070]        3"
      ]
     },
     "execution_count": 15,
     "metadata": {},
     "output_type": "execute_result"
    }
   ],
   "source": [
    "# turn pmids into a list so order is preserved\n",
    "edges['pmids'] = edges['pmids'].apply(list)\n",
    "edges.head(2)"
   ]
  },
  {
   "cell_type": "code",
   "execution_count": 16,
   "metadata": {},
   "outputs": [
    {
     "name": "stderr",
     "output_type": "stream",
     "text": [
      "100%|██████████| 7784275/7784275 [01:09<00:00, 112528.28it/s]\n"
     ]
    },
    {
     "data": {
      "text/html": [
       "<div>\n",
       "<style scoped>\n",
       "    .dataframe tbody tr th:only-of-type {\n",
       "        vertical-align: middle;\n",
       "    }\n",
       "\n",
       "    .dataframe tbody tr th {\n",
       "        vertical-align: top;\n",
       "    }\n",
       "\n",
       "    .dataframe thead th {\n",
       "        text-align: right;\n",
       "    }\n",
       "</style>\n",
       "<table border=\"1\" class=\"dataframe\">\n",
       "  <thead>\n",
       "    <tr style=\"text-align: right;\">\n",
       "      <th></th>\n",
       "      <th>start_id</th>\n",
       "      <th>end_id</th>\n",
       "      <th>type</th>\n",
       "      <th>pmids</th>\n",
       "      <th>n_pmids</th>\n",
       "      <th>pub_years</th>\n",
       "    </tr>\n",
       "  </thead>\n",
       "  <tbody>\n",
       "    <tr>\n",
       "      <th>0</th>\n",
       "      <td>D010447</td>\n",
       "      <td>D010519</td>\n",
       "      <td>AFFECTS_CDafA</td>\n",
       "      <td>[10920248, 19040577]</td>\n",
       "      <td>2</td>\n",
       "      <td>[2000, 2008]</td>\n",
       "    </tr>\n",
       "    <tr>\n",
       "      <th>1</th>\n",
       "      <td>D008239</td>\n",
       "      <td>D022781</td>\n",
       "      <td>AFFECTS_CDafA</td>\n",
       "      <td>[496661, 21106925, 6696070]</td>\n",
       "      <td>3</td>\n",
       "      <td>[1979, 2010, 1984]</td>\n",
       "    </tr>\n",
       "  </tbody>\n",
       "</table>\n",
       "</div>"
      ],
      "text/plain": [
       "  start_id   end_id           type                        pmids  n_pmids  \\\n",
       "0  D010447  D010519  AFFECTS_CDafA         [10920248, 19040577]        2   \n",
       "1  D008239  D022781  AFFECTS_CDafA  [496661, 21106925, 6696070]        3   \n",
       "\n",
       "            pub_years  \n",
       "0        [2000, 2008]  \n",
       "1  [1979, 2010, 1984]  "
      ]
     },
     "execution_count": 16,
     "metadata": {},
     "output_type": "execute_result"
    }
   ],
   "source": [
    "# Ideally just want minimum year for a given edge, so supplying 9999 for not found pmids will\n",
    "# allow min() to be used on the resulting list.\n",
    "edges['pub_years'] = edges['pmids'].progress_apply(lambda pmids: [id_to_year.get(str(p), 9999) for p in pmids])\n",
    "edges.head(2)"
   ]
  },
  {
   "cell_type": "code",
   "execution_count": 17,
   "metadata": {},
   "outputs": [
    {
     "name": "stderr",
     "output_type": "stream",
     "text": [
      "100%|██████████| 7784275/7784275 [00:22<00:00, 351991.19it/s]\n"
     ]
    },
    {
     "data": {
      "text/html": [
       "<div>\n",
       "<style scoped>\n",
       "    .dataframe tbody tr th:only-of-type {\n",
       "        vertical-align: middle;\n",
       "    }\n",
       "\n",
       "    .dataframe tbody tr th {\n",
       "        vertical-align: top;\n",
       "    }\n",
       "\n",
       "    .dataframe thead th {\n",
       "        text-align: right;\n",
       "    }\n",
       "</style>\n",
       "<table border=\"1\" class=\"dataframe\">\n",
       "  <thead>\n",
       "    <tr style=\"text-align: right;\">\n",
       "      <th></th>\n",
       "      <th>start_id</th>\n",
       "      <th>end_id</th>\n",
       "      <th>type</th>\n",
       "      <th>pmids</th>\n",
       "      <th>n_pmids</th>\n",
       "      <th>pub_years</th>\n",
       "      <th>first_pub</th>\n",
       "    </tr>\n",
       "  </thead>\n",
       "  <tbody>\n",
       "    <tr>\n",
       "      <th>0</th>\n",
       "      <td>D010447</td>\n",
       "      <td>D010519</td>\n",
       "      <td>AFFECTS_CDafA</td>\n",
       "      <td>[10920248, 19040577]</td>\n",
       "      <td>2</td>\n",
       "      <td>[2000, 2008]</td>\n",
       "      <td>2000</td>\n",
       "    </tr>\n",
       "    <tr>\n",
       "      <th>1</th>\n",
       "      <td>D008239</td>\n",
       "      <td>D022781</td>\n",
       "      <td>AFFECTS_CDafA</td>\n",
       "      <td>[496661, 21106925, 6696070]</td>\n",
       "      <td>3</td>\n",
       "      <td>[1979, 2010, 1984]</td>\n",
       "      <td>1979</td>\n",
       "    </tr>\n",
       "  </tbody>\n",
       "</table>\n",
       "</div>"
      ],
      "text/plain": [
       "  start_id   end_id           type                        pmids  n_pmids  \\\n",
       "0  D010447  D010519  AFFECTS_CDafA         [10920248, 19040577]        2   \n",
       "1  D008239  D022781  AFFECTS_CDafA  [496661, 21106925, 6696070]        3   \n",
       "\n",
       "            pub_years  first_pub  \n",
       "0        [2000, 2008]       2000  \n",
       "1  [1979, 2010, 1984]       1979  "
      ]
     },
     "execution_count": 17,
     "metadata": {},
     "output_type": "execute_result"
    }
   ],
   "source": [
    "edges['first_pub'] = edges['pub_years'].progress_apply(min)\n",
    "edges.head(2)"
   ]
  },
  {
   "cell_type": "markdown",
   "metadata": {},
   "source": [
    "## Now the get the dates from the gold standard."
   ]
  },
  {
   "cell_type": "code",
   "execution_count": 18,
   "metadata": {},
   "outputs": [
    {
     "data": {
      "text/html": [
       "<div>\n",
       "<style scoped>\n",
       "    .dataframe tbody tr th:only-of-type {\n",
       "        vertical-align: middle;\n",
       "    }\n",
       "\n",
       "    .dataframe tbody tr th {\n",
       "        vertical-align: top;\n",
       "    }\n",
       "\n",
       "    .dataframe thead th {\n",
       "        text-align: right;\n",
       "    }\n",
       "</style>\n",
       "<table border=\"1\" class=\"dataframe\">\n",
       "  <thead>\n",
       "    <tr style=\"text-align: right;\">\n",
       "      <th></th>\n",
       "      <th>id</th>\n",
       "      <th>struct_id</th>\n",
       "      <th>concept_id</th>\n",
       "      <th>relationship_name</th>\n",
       "      <th>disease_name</th>\n",
       "      <th>umls_cui</th>\n",
       "      <th>snomed_full_name</th>\n",
       "      <th>cui_semantic_type</th>\n",
       "      <th>snomed_conceptid</th>\n",
       "      <th>compound_name</th>\n",
       "      <th>compound_semmed_id</th>\n",
       "      <th>disease_semmed_id</th>\n",
       "      <th>approval_date</th>\n",
       "      <th>approval_year</th>\n",
       "    </tr>\n",
       "  </thead>\n",
       "  <tbody>\n",
       "    <tr>\n",
       "      <th>0</th>\n",
       "      <td>173432</td>\n",
       "      <td>965</td>\n",
       "      <td>40249340</td>\n",
       "      <td>indication</td>\n",
       "      <td>Malignant tumor of breast</td>\n",
       "      <td>C0006142</td>\n",
       "      <td>Malignant tumor of breast</td>\n",
       "      <td>T191</td>\n",
       "      <td>254837009.0</td>\n",
       "      <td>drostanolone propionate</td>\n",
       "      <td>C007561</td>\n",
       "      <td>DOID:1612</td>\n",
       "      <td>NaN</td>\n",
       "      <td>NaN</td>\n",
       "    </tr>\n",
       "    <tr>\n",
       "      <th>1</th>\n",
       "      <td>173433</td>\n",
       "      <td>318</td>\n",
       "      <td>21000716</td>\n",
       "      <td>indication</td>\n",
       "      <td>Gout</td>\n",
       "      <td>C0018099</td>\n",
       "      <td>Gout</td>\n",
       "      <td>T047</td>\n",
       "      <td>90560007.0</td>\n",
       "      <td>benzbromarone</td>\n",
       "      <td>D001553</td>\n",
       "      <td>DOID:13189</td>\n",
       "      <td>NaN</td>\n",
       "      <td>NaN</td>\n",
       "    </tr>\n",
       "  </tbody>\n",
       "</table>\n",
       "</div>"
      ],
      "text/plain": [
       "       id  struct_id  concept_id relationship_name               disease_name  \\\n",
       "0  173432        965    40249340        indication  Malignant tumor of breast   \n",
       "1  173433        318    21000716        indication                       Gout   \n",
       "\n",
       "   umls_cui           snomed_full_name cui_semantic_type  snomed_conceptid  \\\n",
       "0  C0006142  Malignant tumor of breast              T191       254837009.0   \n",
       "1  C0018099                       Gout              T047        90560007.0   \n",
       "\n",
       "             compound_name compound_semmed_id disease_semmed_id approval_date  \\\n",
       "0  drostanolone propionate            C007561         DOID:1612           NaN   \n",
       "1            benzbromarone            D001553        DOID:13189           NaN   \n",
       "\n",
       "   approval_year  \n",
       "0            NaN  \n",
       "1            NaN  "
      ]
     },
     "execution_count": 18,
     "metadata": {},
     "output_type": "execute_result"
    }
   ],
   "source": [
    "indications = pd.read_csv('../data/indications_nodemerge.csv')\n",
    "indications.head(2)"
   ]
  },
  {
   "cell_type": "code",
   "execution_count": 19,
   "metadata": {},
   "outputs": [
    {
     "data": {
      "text/plain": [
       "8279"
      ]
     },
     "execution_count": 19,
     "metadata": {},
     "output_type": "execute_result"
    }
   ],
   "source": [
    "len(indications)"
   ]
  },
  {
   "cell_type": "markdown",
   "metadata": {},
   "source": [
    "Some NA values in the date, won't be useul for this analysis so just drop them"
   ]
  },
  {
   "cell_type": "code",
   "execution_count": 20,
   "metadata": {
    "collapsed": true
   },
   "outputs": [],
   "source": [
    "indications.dropna(subset=['approval_year'], inplace=True)\n",
    "indications['approval_year'] = indications['approval_year'].astype(int)"
   ]
  },
  {
   "cell_type": "code",
   "execution_count": 21,
   "metadata": {},
   "outputs": [
    {
     "data": {
      "text/plain": [
       "7100"
      ]
     },
     "execution_count": 21,
     "metadata": {},
     "output_type": "execute_result"
    }
   ],
   "source": [
    "len(indications)"
   ]
  },
  {
   "cell_type": "markdown",
   "metadata": {},
   "source": [
    "## Filter nodes and edges by year to build the network"
   ]
  },
  {
   "cell_type": "code",
   "execution_count": 22,
   "metadata": {
    "collapsed": true
   },
   "outputs": [],
   "source": [
    "base_dir = '../data/time_networks-6_metanode'"
   ]
  },
  {
   "cell_type": "code",
   "execution_count": 23,
   "metadata": {
    "collapsed": true
   },
   "outputs": [],
   "source": [
    "def get_year_category(diff):\n",
    "    if diff > 20:\n",
    "        return '20+ After'\n",
    "    elif diff >= 15 and diff < 20:\n",
    "        return '15-20 After'\n",
    "    elif diff >= 10 and diff < 15:\n",
    "        return '10-15 After'\n",
    "    elif diff >= 5 and diff < 10:\n",
    "        return '5-10 After'\n",
    "    elif diff >= 0 and diff < 5:\n",
    "        return '0-5 After'\n",
    "    elif diff >= -5 and diff < 0:\n",
    "        return '0-5 Before'\n",
    "    elif diff >= -10 and diff < -5:\n",
    "        return '5-10 Before'\n",
    "    elif diff >= -15 and diff < -10:\n",
    "        return '10-15 Before'\n",
    "    elif diff >= -20 and diff < -15:\n",
    "        return '15-20 Before'\n",
    "    elif diff < -20:\n",
    "        return '20+ Before'"
   ]
  },
  {
   "cell_type": "code",
   "execution_count": 24,
   "metadata": {
    "collapsed": true
   },
   "outputs": [],
   "source": [
    "def plot_figure(indications, year, out_dir):\n",
    "    \n",
    "    order = ['20+ Before',\n",
    "         '15-20 Before',\n",
    "         '10-15 Before',\n",
    "         '5-10 Before',\n",
    "         '0-5 Before',\n",
    "         '0-5 After',\n",
    "         '5-10 After',\n",
    "         '10-15 After',\n",
    "         '15-20 After',\n",
    "         '20+ After']\n",
    "    \n",
    "    \n",
    "    plt.clf()\n",
    "    plt.figure(figsize=(6, 4.5))\n",
    "\n",
    "    f = sns.countplot(x='year_cat', data=indications, order=order)\n",
    "    \n",
    "    plt.ylabel('Count')\n",
    "    plt.xlabel('Years from approval and {}'.format(year))\n",
    "    plt.xticks(rotation=45)\n",
    "\n",
    "    xlim = f.axes.get_xlim()\n",
    "    x_mid = (xlim[1] + xlim[0]) / 2\n",
    "\n",
    "    tick_diff = f.get_yticks()[1] - f.get_yticks()[0]\n",
    "    y_height = f.get_yticks()[-2] - tick_diff/5 \n",
    "\n",
    "    plt.text(3*x_mid/2, y_height, 'Total indications:\\n          {}'.format(len(indications)))\n",
    "\n",
    "\n",
    "    plt.title('Distribution of approval years for {}'.format(year))\n",
    "    plt.tight_layout()\n",
    "    plt.savefig(os.path.join(out_dir, 'ind-distribution.png'));"
   ]
  },
  {
   "cell_type": "code",
   "execution_count": 25,
   "metadata": {
    "scrolled": false
   },
   "outputs": [
    {
     "name": "stderr",
     "output_type": "stream",
     "text": [
      "\r",
      "  0%|          | 0/15 [00:00<?, ?it/s]"
     ]
    },
    {
     "name": "stdout",
     "output_type": "stream",
     "text": [
      "Year: 1950\n",
      "IDs: 8,760\n",
      "Nodes: 8,760\n",
      "Edges: 32,132\n",
      "Indications: 702\n",
      "\n",
      "\n"
     ]
    },
    {
     "name": "stderr",
     "output_type": "stream",
     "text": [
      "\r",
      "  7%|▋         | 1/15 [00:04<01:01,  4.41s/it]"
     ]
    },
    {
     "name": "stdout",
     "output_type": "stream",
     "text": [
      "Year: 1955\n",
      "IDs: 12,789\n",
      "Nodes: 12,789\n",
      "Edges: 62,045\n",
      "Indications: 1,121\n",
      "\n",
      "\n"
     ]
    },
    {
     "name": "stderr",
     "output_type": "stream",
     "text": [
      "\r",
      " 13%|█▎        | 2/15 [00:08<00:54,  4.17s/it]"
     ]
    },
    {
     "name": "stdout",
     "output_type": "stream",
     "text": [
      "Year: 1960\n",
      "IDs: 16,327\n",
      "Nodes: 16,327\n",
      "Edges: 92,536\n",
      "Indications: 1,756\n",
      "\n",
      "\n"
     ]
    },
    {
     "name": "stderr",
     "output_type": "stream",
     "text": [
      "\r",
      " 20%|██        | 3/15 [00:12<00:52,  4.35s/it]"
     ]
    },
    {
     "name": "stdout",
     "output_type": "stream",
     "text": [
      "Year: 1965\n",
      "IDs: 20,631\n",
      "Nodes: 20,631\n",
      "Edges: 133,854\n",
      "Indications: 2,187\n",
      "\n",
      "\n"
     ]
    },
    {
     "name": "stderr",
     "output_type": "stream",
     "text": [
      "\r",
      " 27%|██▋       | 4/15 [00:18<00:52,  4.74s/it]"
     ]
    },
    {
     "name": "stdout",
     "output_type": "stream",
     "text": [
      "Year: 1970\n",
      "IDs: 26,194\n",
      "Nodes: 26,194\n",
      "Edges: 197,535\n",
      "Indications: 2,550\n",
      "\n",
      "\n"
     ]
    },
    {
     "name": "stderr",
     "output_type": "stream",
     "text": [
      "\r",
      " 33%|███▎      | 5/15 [00:25<00:55,  5.52s/it]"
     ]
    },
    {
     "name": "stdout",
     "output_type": "stream",
     "text": [
      "Year: 1975\n",
      "IDs: 34,637\n",
      "Nodes: 34,637\n",
      "Edges: 320,145\n",
      "Indications: 3,076\n",
      "\n",
      "\n"
     ]
    },
    {
     "name": "stderr",
     "output_type": "stream",
     "text": [
      "\r",
      " 40%|████      | 6/15 [00:35<01:01,  6.88s/it]"
     ]
    },
    {
     "name": "stdout",
     "output_type": "stream",
     "text": [
      "Year: 1980\n",
      "IDs: 47,613\n",
      "Nodes: 47,613\n",
      "Edges: 600,155\n",
      "Indications: 3,637\n",
      "\n",
      "\n"
     ]
    },
    {
     "name": "stderr",
     "output_type": "stream",
     "text": [
      "\r",
      " 47%|████▋     | 7/15 [00:49<01:11,  8.93s/it]"
     ]
    },
    {
     "name": "stdout",
     "output_type": "stream",
     "text": [
      "Year: 1985\n",
      "IDs: 61,017\n",
      "Nodes: 61,017\n",
      "Edges: 1,004,502\n",
      "Indications: 4,171\n",
      "\n",
      "\n"
     ]
    },
    {
     "name": "stderr",
     "output_type": "stream",
     "text": [
      "\r",
      " 53%|█████▎    | 8/15 [01:08<01:23, 11.90s/it]"
     ]
    },
    {
     "name": "stdout",
     "output_type": "stream",
     "text": [
      "Year: 1990\n",
      "IDs: 75,302\n",
      "Nodes: 75,302\n",
      "Edges: 1,575,901\n",
      "Indications: 4,586\n",
      "\n",
      "\n"
     ]
    },
    {
     "name": "stderr",
     "output_type": "stream",
     "text": [
      "\r",
      " 60%|██████    | 9/15 [01:33<01:34, 15.82s/it]"
     ]
    },
    {
     "name": "stdout",
     "output_type": "stream",
     "text": [
      "Year: 1995\n",
      "IDs: 90,705\n",
      "Nodes: 90,705\n",
      "Edges: 2,336,569\n",
      "Indications: 4,882\n",
      "\n",
      "\n"
     ]
    },
    {
     "name": "stderr",
     "output_type": "stream",
     "text": [
      "\r",
      " 67%|██████▋   | 10/15 [02:06<01:45, 21.06s/it]"
     ]
    },
    {
     "name": "stdout",
     "output_type": "stream",
     "text": [
      "Year: 2000\n",
      "IDs: 105,381\n",
      "Nodes: 105,381\n",
      "Edges: 3,267,627\n",
      "Indications: 5,102\n",
      "\n",
      "\n"
     ]
    },
    {
     "name": "stderr",
     "output_type": "stream",
     "text": [
      "\r",
      " 73%|███████▎  | 11/15 [02:47<01:48, 27.14s/it]"
     ]
    },
    {
     "name": "stdout",
     "output_type": "stream",
     "text": [
      "Year: 2005\n",
      "IDs: 118,537\n",
      "Nodes: 118,537\n",
      "Edges: 4,401,455\n",
      "Indications: 5,239\n",
      "\n",
      "\n"
     ]
    },
    {
     "name": "stderr",
     "output_type": "stream",
     "text": [
      "\r",
      " 80%|████████  | 12/15 [03:39<01:42, 34.32s/it]"
     ]
    },
    {
     "name": "stdout",
     "output_type": "stream",
     "text": [
      "Year: 2010\n",
      "IDs: 126,417\n",
      "Nodes: 126,417\n",
      "Edges: 5,642,719\n",
      "Indications: 5,313\n",
      "\n",
      "\n"
     ]
    },
    {
     "name": "stderr",
     "output_type": "stream",
     "text": [
      "\r",
      " 87%|████████▋ | 13/15 [04:40<01:24, 42.32s/it]"
     ]
    },
    {
     "name": "stdout",
     "output_type": "stream",
     "text": [
      "Year: 2015\n",
      "IDs: 132,921\n",
      "Nodes: 132,921\n",
      "Edges: 7,056,865\n",
      "Indications: 5,331\n",
      "\n",
      "\n"
     ]
    },
    {
     "name": "stderr",
     "output_type": "stream",
     "text": [
      "\r",
      " 93%|█████████▎| 14/15 [05:48<00:50, 50.20s/it]"
     ]
    },
    {
     "name": "stdout",
     "output_type": "stream",
     "text": [
      "Year: 2020\n",
      "IDs: 135,261\n",
      "Nodes: 135,261\n",
      "Edges: 7,628,080\n",
      "Indications: 5,337\n",
      "\n",
      "\n"
     ]
    },
    {
     "name": "stderr",
     "output_type": "stream",
     "text": [
      "100%|██████████| 15/15 [07:01<00:00, 56.88s/it]\n"
     ]
    },
    {
     "data": {
      "text/plain": [
       "<Figure size 432x288 with 0 Axes>"
      ]
     },
     "metadata": {},
     "output_type": "display_data"
    },
    {
     "data": {
      "text/plain": [
       "<Figure size 432x324 with 0 Axes>"
      ]
     },
     "metadata": {},
     "output_type": "display_data"
    },
    {
     "data": {
      "text/plain": [
       "<Figure size 432x324 with 0 Axes>"
      ]
     },
     "metadata": {},
     "output_type": "display_data"
    },
    {
     "data": {
      "text/plain": [
       "<Figure size 432x324 with 0 Axes>"
      ]
     },
     "metadata": {},
     "output_type": "display_data"
    },
    {
     "data": {
      "text/plain": [
       "<Figure size 432x324 with 0 Axes>"
      ]
     },
     "metadata": {},
     "output_type": "display_data"
    },
    {
     "data": {
      "text/plain": [
       "<Figure size 432x324 with 0 Axes>"
      ]
     },
     "metadata": {},
     "output_type": "display_data"
    },
    {
     "data": {
      "text/plain": [
       "<Figure size 432x324 with 0 Axes>"
      ]
     },
     "metadata": {},
     "output_type": "display_data"
    },
    {
     "data": {
      "text/plain": [
       "<Figure size 432x324 with 0 Axes>"
      ]
     },
     "metadata": {},
     "output_type": "display_data"
    },
    {
     "data": {
      "text/plain": [
       "<Figure size 432x324 with 0 Axes>"
      ]
     },
     "metadata": {},
     "output_type": "display_data"
    },
    {
     "data": {
      "text/plain": [
       "<Figure size 432x324 with 0 Axes>"
      ]
     },
     "metadata": {},
     "output_type": "display_data"
    },
    {
     "data": {
      "text/plain": [
       "<Figure size 432x324 with 0 Axes>"
      ]
     },
     "metadata": {},
     "output_type": "display_data"
    },
    {
     "data": {
      "text/plain": [
       "<Figure size 432x324 with 0 Axes>"
      ]
     },
     "metadata": {},
     "output_type": "display_data"
    },
    {
     "data": {
      "text/plain": [
       "<Figure size 432x324 with 0 Axes>"
      ]
     },
     "metadata": {},
     "output_type": "display_data"
    },
    {
     "data": {
      "text/plain": [
       "<Figure size 432x324 with 0 Axes>"
      ]
     },
     "metadata": {},
     "output_type": "display_data"
    },
    {
     "data": {
      "text/plain": [
       "<Figure size 432x324 with 0 Axes>"
      ]
     },
     "metadata": {},
     "output_type": "display_data"
    },
    {
     "data": {
      "image/png": "[encoded data removed]",
      "text/plain": [
       "<Figure size 432x324 with 1 Axes>"
      ]
     },
     "metadata": {},
     "output_type": "display_data"
    }
   ],
   "source": [
    "for year in tqdm(range(1950, 2025, 5)):\n",
    "\n",
    "    # Define the save directory\n",
    "    out_dir = os.path.join(base_dir, str(year))\n",
    "\n",
    "    # Make sure the save directory exists, if not, make it\n",
    "    try:\n",
    "        os.stat(out_dir)\n",
    "    except:\n",
    "        os.makedirs(out_dir)       \n",
    "    \n",
    "    # Filter the edges by year\n",
    "    e_filt = edges.query('first_pub <= @year')\n",
    "\n",
    "    # Keep only nodes that have edges joining them\n",
    "    node_ids = set(e_filt['start_id']).union(set(e_filt['end_id']))\n",
    "    n_filt = nodes.query('id in @node_ids')\n",
    "\n",
    "    # Keep only indications that have both the compound and disease still existing in the network\n",
    "    ind_filt = indications.query('compound_semmed_id in @node_ids and disease_semmed_id in @node_ids').reset_index(drop=True)\n",
    "\n",
    "    # Determine the difference between the current year and approval\n",
    "    ind_filt['year_diff'] = ind_filt['approval_year'] - year\n",
    "    ind_filt['year_cat'] = ind_filt['year_diff'].apply(get_year_category)\n",
    "\n",
    "    print(\"Year: {}\\nIDs: {:,}\\nNodes: {:,}\\nEdges: {:,}\\nIndications: {:,}\\n\\n\".format(\n",
    "        year, len(node_ids), len(n_filt), len(e_filt), len(ind_filt)))\n",
    "    \n",
    "    # Save the network, indications, and summary figure\n",
    "    (gt.add_colons(n_filt, id_name='cui')\n",
    "       .to_csv(os.path.join(out_dir, 'nodes.csv'), index=False))\n",
    "    (gt.add_colons(e_filt, col_types={'n_pmids':'INT', 'first_pub':'INT'})\n",
    "       .to_csv(os.path.join(out_dir, 'edges.csv'), index=False))\n",
    "    ind_filt.to_csv(os.path.join(out_dir, 'indications.csv'), index=False)\n",
    "    plot_figure(ind_filt, year, out_dir);"
   ]
  }
 ],
 "metadata": {
  "kernelspec": {
   "display_name": "Python 3",
   "language": "python",
   "name": "python3"
  },
  "language_info": {
   "codemirror_mode": {
    "name": "ipython",
    "version": 3
   },
   "file_extension": ".py",
   "mimetype": "text/x-python",
   "name": "python",
   "nbconvert_exporter": "python",
   "pygments_lexer": "ipython3",
   "version": "3.5.3"
  }
 },
 "nbformat": 4,
 "nbformat_minor": 2
}
