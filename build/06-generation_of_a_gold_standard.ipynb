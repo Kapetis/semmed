{
 "cells": [
  {
   "cell_type": "code",
   "execution_count": 1,
   "metadata": {
    "collapsed": true
   },
   "outputs": [],
   "source": [
    "import os\n",
    "import pickle\n",
    "%matplotlib inline\n",
    "import pandas as pd\n",
    "import seaborn as sns\n",
    "from tqdm import tqdm\n",
    "import matplotlib.pyplot as plt"
   ]
  },
  {
   "cell_type": "markdown",
   "metadata": {
    "collapsed": true
   },
   "source": [
    "# Creating an indication Gold Standard in UMLS CUI space"
   ]
  },
  {
   "cell_type": "markdown",
   "metadata": {},
   "source": [
    "### Relationships"
   ]
  },
  {
   "cell_type": "code",
   "execution_count": 2,
   "metadata": {},
   "outputs": [
    {
     "data": {
      "text/html": [
       "<div>\n",
       "<style>\n",
       "    .dataframe thead tr:only-child th {\n",
       "        text-align: right;\n",
       "    }\n",
       "\n",
       "    .dataframe thead th {\n",
       "        text-align: left;\n",
       "    }\n",
       "\n",
       "    .dataframe tbody tr th {\n",
       "        vertical-align: top;\n",
       "    }\n",
       "</style>\n",
       "<table border=\"1\" class=\"dataframe\">\n",
       "  <thead>\n",
       "    <tr style=\"text-align: right;\">\n",
       "      <th></th>\n",
       "      <th>id</th>\n",
       "      <th>struct_id</th>\n",
       "      <th>concept_id</th>\n",
       "      <th>relationship_name</th>\n",
       "      <th>concept_name</th>\n",
       "      <th>umls_cui</th>\n",
       "      <th>snomed_full_name</th>\n",
       "      <th>cui_semantic_type</th>\n",
       "      <th>snomed_conceptid</th>\n",
       "    </tr>\n",
       "  </thead>\n",
       "  <tbody>\n",
       "    <tr>\n",
       "      <th>0</th>\n",
       "      <td>132463</td>\n",
       "      <td>1253</td>\n",
       "      <td>21000041</td>\n",
       "      <td>indication</td>\n",
       "      <td>Tuberculosis</td>\n",
       "      <td>C0041296</td>\n",
       "      <td>Tuberculosis</td>\n",
       "      <td>T047</td>\n",
       "      <td>56717001.0</td>\n",
       "    </tr>\n",
       "    <tr>\n",
       "      <th>1</th>\n",
       "      <td>132464</td>\n",
       "      <td>5203</td>\n",
       "      <td>21000533</td>\n",
       "      <td>indication</td>\n",
       "      <td>Malignant tumor of ovary</td>\n",
       "      <td>C1140680</td>\n",
       "      <td>Malignant tumor of ovary</td>\n",
       "      <td>T191</td>\n",
       "      <td>363443007.0</td>\n",
       "    </tr>\n",
       "  </tbody>\n",
       "</table>\n",
       "</div>"
      ],
      "text/plain": [
       "       id  struct_id  concept_id relationship_name              concept_name  \\\n",
       "0  132463       1253    21000041        indication              Tuberculosis   \n",
       "1  132464       5203    21000533        indication  Malignant tumor of ovary   \n",
       "\n",
       "   umls_cui          snomed_full_name cui_semantic_type  snomed_conceptid  \n",
       "0  C0041296              Tuberculosis              T047        56717001.0  \n",
       "1  C1140680  Malignant tumor of ovary              T191       363443007.0  "
      ]
     },
     "execution_count": 2,
     "metadata": {},
     "output_type": "execute_result"
    }
   ],
   "source": [
    "rels = pd.read_csv('../data/drugcentral_rel.csv')\n",
    "rels.head(2)"
   ]
  },
  {
   "cell_type": "code",
   "execution_count": 3,
   "metadata": {
    "scrolled": true
   },
   "outputs": [
    {
     "data": {
      "text/plain": [
       "contraindication    27547\n",
       "indication          10875\n",
       "off-label use        2442\n",
       "reduce risk             1\n",
       "Name: relationship_name, dtype: int64"
      ]
     },
     "execution_count": 3,
     "metadata": {},
     "output_type": "execute_result"
    }
   ],
   "source": [
    "rels['relationship_name'].value_counts()"
   ]
  },
  {
   "cell_type": "code",
   "execution_count": 4,
   "metadata": {},
   "outputs": [
    {
     "data": {
      "text/html": [
       "<div>\n",
       "<style>\n",
       "    .dataframe thead tr:only-child th {\n",
       "        text-align: right;\n",
       "    }\n",
       "\n",
       "    .dataframe thead th {\n",
       "        text-align: left;\n",
       "    }\n",
       "\n",
       "    .dataframe tbody tr th {\n",
       "        vertical-align: top;\n",
       "    }\n",
       "</style>\n",
       "<table border=\"1\" class=\"dataframe\">\n",
       "  <thead>\n",
       "    <tr style=\"text-align: right;\">\n",
       "      <th></th>\n",
       "      <th>id</th>\n",
       "      <th>struct_id</th>\n",
       "      <th>concept_id</th>\n",
       "      <th>relationship_name</th>\n",
       "      <th>concept_name</th>\n",
       "      <th>umls_cui</th>\n",
       "      <th>snomed_full_name</th>\n",
       "      <th>cui_semantic_type</th>\n",
       "      <th>snomed_conceptid</th>\n",
       "    </tr>\n",
       "  </thead>\n",
       "  <tbody>\n",
       "    <tr>\n",
       "      <th>166</th>\n",
       "      <td>132629</td>\n",
       "      <td>5022</td>\n",
       "      <td>40249237</td>\n",
       "      <td>contraindication</td>\n",
       "      <td>Decreased liver function</td>\n",
       "      <td>C0232744</td>\n",
       "      <td>Decreased liver function</td>\n",
       "      <td>T033</td>\n",
       "      <td>77981007.0</td>\n",
       "    </tr>\n",
       "    <tr>\n",
       "      <th>252</th>\n",
       "      <td>132714</td>\n",
       "      <td>4976</td>\n",
       "      <td>21000873</td>\n",
       "      <td>contraindication</td>\n",
       "      <td>Idiopathic thrombocytopenic purpura</td>\n",
       "      <td>C0043117</td>\n",
       "      <td>Idiopathic thrombocytopenic purpura</td>\n",
       "      <td>T047</td>\n",
       "      <td>32273002.0</td>\n",
       "    </tr>\n",
       "    <tr>\n",
       "      <th>260</th>\n",
       "      <td>132722</td>\n",
       "      <td>4978</td>\n",
       "      <td>40249212</td>\n",
       "      <td>contraindication</td>\n",
       "      <td>Sepsis</td>\n",
       "      <td>C0243026</td>\n",
       "      <td>Sepsis</td>\n",
       "      <td>T047</td>\n",
       "      <td>91302008.0</td>\n",
       "    </tr>\n",
       "    <tr>\n",
       "      <th>377</th>\n",
       "      <td>132838</td>\n",
       "      <td>4881</td>\n",
       "      <td>21001119</td>\n",
       "      <td>contraindication</td>\n",
       "      <td>Narcolepsy</td>\n",
       "      <td>C0027404</td>\n",
       "      <td>Narcolepsy</td>\n",
       "      <td>T047</td>\n",
       "      <td>60380001.0</td>\n",
       "    </tr>\n",
       "    <tr>\n",
       "      <th>385</th>\n",
       "      <td>132846</td>\n",
       "      <td>1917</td>\n",
       "      <td>21001709</td>\n",
       "      <td>contraindication</td>\n",
       "      <td>Low blood pressure</td>\n",
       "      <td>C0020649</td>\n",
       "      <td>Low blood pressure</td>\n",
       "      <td>T033</td>\n",
       "      <td>45007003.0</td>\n",
       "    </tr>\n",
       "  </tbody>\n",
       "</table>\n",
       "</div>"
      ],
      "text/plain": [
       "         id  struct_id  concept_id relationship_name  \\\n",
       "166  132629       5022    40249237  contraindication   \n",
       "252  132714       4976    21000873  contraindication   \n",
       "260  132722       4978    40249212  contraindication   \n",
       "377  132838       4881    21001119  contraindication   \n",
       "385  132846       1917    21001709  contraindication   \n",
       "\n",
       "                            concept_name  umls_cui  \\\n",
       "166             Decreased liver function  C0232744   \n",
       "252  Idiopathic thrombocytopenic purpura  C0043117   \n",
       "260                               Sepsis  C0243026   \n",
       "377                           Narcolepsy  C0027404   \n",
       "385                   Low blood pressure  C0020649   \n",
       "\n",
       "                        snomed_full_name cui_semantic_type  snomed_conceptid  \n",
       "166             Decreased liver function              T033        77981007.0  \n",
       "252  Idiopathic thrombocytopenic purpura              T047        32273002.0  \n",
       "260                               Sepsis              T047        91302008.0  \n",
       "377                           Narcolepsy              T047        60380001.0  \n",
       "385                   Low blood pressure              T033        45007003.0  "
      ]
     },
     "execution_count": 4,
     "metadata": {},
     "output_type": "execute_result"
    }
   ],
   "source": [
    "rels.query('relationship_name == \"contraindication\"').head(5)"
   ]
  },
  {
   "cell_type": "code",
   "execution_count": 5,
   "metadata": {},
   "outputs": [
    {
     "data": {
      "text/plain": [
       "2317"
      ]
     },
     "execution_count": 5,
     "metadata": {},
     "output_type": "execute_result"
    }
   ],
   "source": [
    "rels.query('relationship_name == \"indication\"')['struct_id'].nunique()"
   ]
  },
  {
   "cell_type": "code",
   "execution_count": 6,
   "metadata": {},
   "outputs": [
    {
     "data": {
      "text/plain": [
       "2234"
      ]
     },
     "execution_count": 6,
     "metadata": {},
     "output_type": "execute_result"
    }
   ],
   "source": [
    "rels.query('relationship_name == \"indication\"')['concept_id'].nunique()"
   ]
  },
  {
   "cell_type": "markdown",
   "metadata": {},
   "source": [
    "### IDs"
   ]
  },
  {
   "cell_type": "code",
   "execution_count": 7,
   "metadata": {},
   "outputs": [
    {
     "data": {
      "text/html": [
       "<div>\n",
       "<style>\n",
       "    .dataframe thead tr:only-child th {\n",
       "        text-align: right;\n",
       "    }\n",
       "\n",
       "    .dataframe thead th {\n",
       "        text-align: left;\n",
       "    }\n",
       "\n",
       "    .dataframe tbody tr th {\n",
       "        vertical-align: top;\n",
       "    }\n",
       "</style>\n",
       "<table border=\"1\" class=\"dataframe\">\n",
       "  <thead>\n",
       "    <tr style=\"text-align: right;\">\n",
       "      <th></th>\n",
       "      <th>id</th>\n",
       "      <th>identifier</th>\n",
       "      <th>id_type</th>\n",
       "      <th>struct_id</th>\n",
       "      <th>parent_match</th>\n",
       "    </tr>\n",
       "  </thead>\n",
       "  <tbody>\n",
       "    <tr>\n",
       "      <th>0</th>\n",
       "      <td>1056309</td>\n",
       "      <td>DB00001</td>\n",
       "      <td>DRUGBANK_ID</td>\n",
       "      <td>2995</td>\n",
       "      <td>NaN</td>\n",
       "    </tr>\n",
       "    <tr>\n",
       "      <th>1</th>\n",
       "      <td>1056310</td>\n",
       "      <td>DB00002</td>\n",
       "      <td>DRUGBANK_ID</td>\n",
       "      <td>4954</td>\n",
       "      <td>NaN</td>\n",
       "    </tr>\n",
       "  </tbody>\n",
       "</table>\n",
       "</div>"
      ],
      "text/plain": [
       "        id identifier      id_type  struct_id parent_match\n",
       "0  1056309    DB00001  DRUGBANK_ID       2995          NaN\n",
       "1  1056310    DB00002  DRUGBANK_ID       4954          NaN"
      ]
     },
     "execution_count": 7,
     "metadata": {},
     "output_type": "execute_result"
    }
   ],
   "source": [
    "ids = pd.read_csv('../data/drugcentral_ids.csv')\n",
    "ids.head(2)"
   ]
  },
  {
   "cell_type": "code",
   "execution_count": 8,
   "metadata": {
    "collapsed": true
   },
   "outputs": [],
   "source": [
    "id_cols = ['identifier', 'id_type', 'struct_id'] #only need the information from these ids"
   ]
  },
  {
   "cell_type": "markdown",
   "metadata": {},
   "source": [
    "### Synonyms"
   ]
  },
  {
   "cell_type": "code",
   "execution_count": 9,
   "metadata": {},
   "outputs": [
    {
     "data": {
      "text/html": [
       "<div>\n",
       "<style>\n",
       "    .dataframe thead tr:only-child th {\n",
       "        text-align: right;\n",
       "    }\n",
       "\n",
       "    .dataframe thead th {\n",
       "        text-align: left;\n",
       "    }\n",
       "\n",
       "    .dataframe tbody tr th {\n",
       "        vertical-align: top;\n",
       "    }\n",
       "</style>\n",
       "<table border=\"1\" class=\"dataframe\">\n",
       "  <thead>\n",
       "    <tr style=\"text-align: right;\">\n",
       "      <th></th>\n",
       "      <th>syn_id</th>\n",
       "      <th>id</th>\n",
       "      <th>name</th>\n",
       "      <th>preferred_name</th>\n",
       "      <th>parent_id</th>\n",
       "      <th>lname</th>\n",
       "    </tr>\n",
       "  </thead>\n",
       "  <tbody>\n",
       "    <tr>\n",
       "      <th>0</th>\n",
       "      <td>22226</td>\n",
       "      <td>2210.0</td>\n",
       "      <td>piroxicam olamine</td>\n",
       "      <td>NaN</td>\n",
       "      <td>NaN</td>\n",
       "      <td>piroxicam olamine</td>\n",
       "    </tr>\n",
       "    <tr>\n",
       "      <th>1</th>\n",
       "      <td>22227</td>\n",
       "      <td>NaN</td>\n",
       "      <td>Blood-coagulation factor VIII</td>\n",
       "      <td>1.0</td>\n",
       "      <td>221.0</td>\n",
       "      <td>blood-coagulation factor viii</td>\n",
       "    </tr>\n",
       "  </tbody>\n",
       "</table>\n",
       "</div>"
      ],
      "text/plain": [
       "   syn_id      id                           name  preferred_name  parent_id  \\\n",
       "0   22226  2210.0              piroxicam olamine             NaN        NaN   \n",
       "1   22227     NaN  Blood-coagulation factor VIII             1.0      221.0   \n",
       "\n",
       "                           lname  \n",
       "0              piroxicam olamine  \n",
       "1  blood-coagulation factor viii  "
      ]
     },
     "execution_count": 9,
     "metadata": {},
     "output_type": "execute_result"
    }
   ],
   "source": [
    "syn = pd.read_csv('../data/drugcentral_syn.csv')\n",
    "syn.head(2)"
   ]
  },
  {
   "cell_type": "code",
   "execution_count": 10,
   "metadata": {
    "collapsed": true
   },
   "outputs": [],
   "source": [
    "# Rename to match other data sources column names\n",
    "syn.rename(columns={'id': 'struct_id'}, inplace=True)\n",
    "syn_cols = ['struct_id', 'name'] # only interested in these two columns"
   ]
  },
  {
   "cell_type": "markdown",
   "metadata": {},
   "source": [
    "## UMLS CUIs"
   ]
  },
  {
   "cell_type": "code",
   "execution_count": 11,
   "metadata": {},
   "outputs": [
    {
     "data": {
      "text/plain": [
       "'9.582773%'"
      ]
     },
     "execution_count": 11,
     "metadata": {},
     "output_type": "execute_result"
    }
   ],
   "source": [
    "# What percentage (if any) of lines in the relactionships table do not have a umls_cui for the disease?\n",
    "'{0:%}'.format((len(rels) - rels['umls_cui'].count()) / len(rels))"
   ]
  },
  {
   "cell_type": "markdown",
   "metadata": {},
   "source": [
    "May have to fix later... \n",
    "\n",
    "Lets look at compounds"
   ]
  },
  {
   "cell_type": "code",
   "execution_count": 12,
   "metadata": {},
   "outputs": [
    {
     "data": {
      "text/plain": [
       "2388"
      ]
     },
     "execution_count": 12,
     "metadata": {},
     "output_type": "execute_result"
    }
   ],
   "source": [
    "# number of total compounds with a relationship\n",
    "rels['struct_id'].nunique()"
   ]
  },
  {
   "cell_type": "code",
   "execution_count": 13,
   "metadata": {},
   "outputs": [
    {
     "data": {
      "text/plain": [
       "4483"
      ]
     },
     "execution_count": 13,
     "metadata": {},
     "output_type": "execute_result"
    }
   ],
   "source": [
    "# number of total compounds with an id\n",
    "ids['struct_id'].nunique()"
   ]
  },
  {
   "cell_type": "code",
   "execution_count": 14,
   "metadata": {},
   "outputs": [
    {
     "data": {
      "text/plain": [
       "4486"
      ]
     },
     "execution_count": 14,
     "metadata": {},
     "output_type": "execute_result"
    }
   ],
   "source": [
    "# number of total compounds with a preferred name\n",
    "syn.query('preferred_name == 1')['struct_id'].nunique()"
   ]
  },
  {
   "cell_type": "code",
   "execution_count": 15,
   "metadata": {},
   "outputs": [
    {
     "data": {
      "text/plain": [
       "array(['DRUGBANK_ID', 'IUPHAR_LIGAND_ID', 'KEGG_DRUG',\n",
       "       'MESH_DESCRIPTOR_UI', 'VUID', 'NUI', 'UMLSCUI',\n",
       "       'MESH_SUPPLEMENTAL_RECORD_UI', 'ChEMBL_ID', 'UNII',\n",
       "       'SECONDARY_CAS_RN', 'INN_ID', 'CHEBI', 'PUBCHEM_CID', 'RXNORM',\n",
       "       'NDDF', 'VANDF', 'MMSL', 'NDFRT', 'SNOMEDCT_US', 'PDB_CHEM_ID'], dtype=object)"
      ]
     },
     "execution_count": 15,
     "metadata": {},
     "output_type": "execute_result"
    }
   ],
   "source": [
    "ids['id_type'].unique()"
   ]
  },
  {
   "cell_type": "code",
   "execution_count": 16,
   "metadata": {},
   "outputs": [
    {
     "data": {
      "text/plain": [
       "0.6330582199420032"
      ]
     },
     "execution_count": 16,
     "metadata": {},
     "output_type": "execute_result"
    }
   ],
   "source": [
    "ids.query('id_type == \"UMLSCUI\"')['struct_id'].nunique() / ids['struct_id'].nunique()"
   ]
  },
  {
   "cell_type": "markdown",
   "metadata": {},
   "source": [
    "only about 63% of compunds have a UMLS CUI in the database"
   ]
  },
  {
   "cell_type": "code",
   "execution_count": 17,
   "metadata": {},
   "outputs": [
    {
     "data": {
      "text/plain": [
       "406"
      ]
     },
     "execution_count": 17,
     "metadata": {},
     "output_type": "execute_result"
    }
   ],
   "source": [
    "# How many structures in the relationships table don't have an associated UMLSCUI?\n",
    "len(set(rels['struct_id'].unique()) - set(ids.query('id_type == \"UMLSCUI\"')['struct_id'].unique()))"
   ]
  },
  {
   "cell_type": "code",
   "execution_count": 18,
   "metadata": {
    "collapsed": true
   },
   "outputs": [],
   "source": [
    "no_cui = list(set(rels['struct_id'].unique()) - set(ids.query('id_type == \"UMLSCUI\"')['struct_id'].unique()))"
   ]
  },
  {
   "cell_type": "code",
   "execution_count": 19,
   "metadata": {},
   "outputs": [
    {
     "data": {
      "text/html": [
       "<div>\n",
       "<style>\n",
       "    .dataframe thead tr:only-child th {\n",
       "        text-align: right;\n",
       "    }\n",
       "\n",
       "    .dataframe thead th {\n",
       "        text-align: left;\n",
       "    }\n",
       "\n",
       "    .dataframe tbody tr th {\n",
       "        vertical-align: top;\n",
       "    }\n",
       "</style>\n",
       "<table border=\"1\" class=\"dataframe\">\n",
       "  <thead>\n",
       "    <tr style=\"text-align: right;\">\n",
       "      <th></th>\n",
       "      <th>syn_id</th>\n",
       "      <th>struct_id</th>\n",
       "      <th>name</th>\n",
       "      <th>preferred_name</th>\n",
       "      <th>parent_id</th>\n",
       "      <th>lname</th>\n",
       "    </tr>\n",
       "  </thead>\n",
       "  <tbody>\n",
       "    <tr>\n",
       "      <th>5622</th>\n",
       "      <td>3826</td>\n",
       "      <td>6.0</td>\n",
       "      <td>(S)-nitrendipine</td>\n",
       "      <td>1.0</td>\n",
       "      <td>NaN</td>\n",
       "      <td>(s)-nitrendipine</td>\n",
       "    </tr>\n",
       "    <tr>\n",
       "      <th>11520</th>\n",
       "      <td>9884</td>\n",
       "      <td>49.0</td>\n",
       "      <td>acefylline</td>\n",
       "      <td>1.0</td>\n",
       "      <td>NaN</td>\n",
       "      <td>acefylline</td>\n",
       "    </tr>\n",
       "    <tr>\n",
       "      <th>12302</th>\n",
       "      <td>10675</td>\n",
       "      <td>55.0</td>\n",
       "      <td>acetarsol</td>\n",
       "      <td>1.0</td>\n",
       "      <td>NaN</td>\n",
       "      <td>acetarsol</td>\n",
       "    </tr>\n",
       "    <tr>\n",
       "      <th>4347</th>\n",
       "      <td>2520</td>\n",
       "      <td>72.0</td>\n",
       "      <td>acetylpheneturide</td>\n",
       "      <td>1.0</td>\n",
       "      <td>NaN</td>\n",
       "      <td>acetylpheneturide</td>\n",
       "    </tr>\n",
       "    <tr>\n",
       "      <th>4195</th>\n",
       "      <td>2364</td>\n",
       "      <td>77.0</td>\n",
       "      <td>acitazanolast</td>\n",
       "      <td>1.0</td>\n",
       "      <td>NaN</td>\n",
       "      <td>acitazanolast</td>\n",
       "    </tr>\n",
       "  </tbody>\n",
       "</table>\n",
       "</div>"
      ],
      "text/plain": [
       "       syn_id  struct_id               name  preferred_name  parent_id  \\\n",
       "5622     3826        6.0   (S)-nitrendipine             1.0        NaN   \n",
       "11520    9884       49.0         acefylline             1.0        NaN   \n",
       "12302   10675       55.0          acetarsol             1.0        NaN   \n",
       "4347     2520       72.0  acetylpheneturide             1.0        NaN   \n",
       "4195     2364       77.0      acitazanolast             1.0        NaN   \n",
       "\n",
       "                   lname  \n",
       "5622    (s)-nitrendipine  \n",
       "11520         acefylline  \n",
       "12302          acetarsol  \n",
       "4347   acetylpheneturide  \n",
       "4195       acitazanolast  "
      ]
     },
     "execution_count": 19,
     "metadata": {},
     "output_type": "execute_result"
    }
   ],
   "source": [
    "syn.query('struct_id in @no_cui and preferred_name == 1').sort_values('struct_id').head()"
   ]
  },
  {
   "cell_type": "code",
   "execution_count": 20,
   "metadata": {
    "collapsed": true
   },
   "outputs": [],
   "source": [
    "import requests\n",
    "from pyquery import PyQuery as pq"
   ]
  },
  {
   "cell_type": "code",
   "execution_count": 21,
   "metadata": {
    "collapsed": true
   },
   "outputs": [],
   "source": [
    "def handshake():\n",
    "    # insane umls api instructions\n",
    "    # https://documentation.uts.nlm.nih.gov/rest/authentication.html\n",
    "    r = requests.post(\"https://utslogin.nlm.nih.gov/cas/v1/api-key\", data={'apikey': TICKET})\n",
    "    d = pq(r.text)\n",
    "    tgt = d.find('form').attr('action')\n",
    "    return tgt"
   ]
  },
  {
   "cell_type": "code",
   "execution_count": 22,
   "metadata": {
    "collapsed": true
   },
   "outputs": [],
   "source": [
    "def name_to_umls(name, tgt):\n",
    "    \"\"\"\n",
    "    given a name, get the umls cui\n",
    "    \"\"\"\n",
    "    data = {'service': 'http://umlsks.nlm.nih.gov'}\n",
    "    r = requests.post(tgt, data=data)\n",
    "    st = r.text\n",
    "    url = \"https://uts-ws.nlm.nih.gov/rest/search/current?string={}&ticket={}\"\n",
    "    d = requests.get(url.format(name, st)).json()\n",
    "    for res in d['result']['results']:\n",
    "        if res['name'].lower() == name.lower():\n",
    "            return res['uri'].split('/')[-1]\n",
    "    \n",
    "    return float('NaN')"
   ]
  },
  {
   "cell_type": "code",
   "execution_count": 23,
   "metadata": {
    "collapsed": true
   },
   "outputs": [],
   "source": [
    "with open('../data/api.key', 'r') as fin: \n",
    "    TICKET = fin.read().rstrip()"
   ]
  },
  {
   "cell_type": "code",
   "execution_count": 24,
   "metadata": {
    "collapsed": true
   },
   "outputs": [],
   "source": [
    "need_cui = syn.query('struct_id in @no_cui and preferred_name == 1').sort_values('struct_id').reset_index(drop=True)"
   ]
  },
  {
   "cell_type": "code",
   "execution_count": 25,
   "metadata": {},
   "outputs": [
    {
     "name": "stdout",
     "output_type": "stream",
     "text": [
      "CPU times: user 11 s, sys: 412 ms, total: 11.4 s\n",
      "Wall time: 4min 16s\n"
     ]
    }
   ],
   "source": [
    "%%time\n",
    "tgt = handshake()\n",
    "need_cui['UMLSCUI'] = need_cui['name'].apply(lambda n: name_to_umls(n, tgt))"
   ]
  },
  {
   "cell_type": "code",
   "execution_count": 26,
   "metadata": {},
   "outputs": [
    {
     "data": {
      "text/plain": [
       "'85.714286% of compound were able to obtain a CUI'"
      ]
     },
     "execution_count": 26,
     "metadata": {},
     "output_type": "execute_result"
    }
   ],
   "source": [
    "\"{:%} of compound were able to obtain a CUI\".format(need_cui['UMLSCUI'].count() / len(need_cui))"
   ]
  },
  {
   "cell_type": "markdown",
   "metadata": {},
   "source": [
    "May be some parenthesis issues sill, lets look at them and see if htey can be fixed"
   ]
  },
  {
   "cell_type": "code",
   "execution_count": 27,
   "metadata": {},
   "outputs": [
    {
     "data": {
      "text/html": [
       "<div>\n",
       "<style>\n",
       "    .dataframe thead tr:only-child th {\n",
       "        text-align: right;\n",
       "    }\n",
       "\n",
       "    .dataframe thead th {\n",
       "        text-align: left;\n",
       "    }\n",
       "\n",
       "    .dataframe tbody tr th {\n",
       "        vertical-align: top;\n",
       "    }\n",
       "</style>\n",
       "<table border=\"1\" class=\"dataframe\">\n",
       "  <thead>\n",
       "    <tr style=\"text-align: right;\">\n",
       "      <th></th>\n",
       "      <th>syn_id</th>\n",
       "      <th>struct_id</th>\n",
       "      <th>name</th>\n",
       "      <th>preferred_name</th>\n",
       "      <th>parent_id</th>\n",
       "      <th>lname</th>\n",
       "      <th>UMLSCUI</th>\n",
       "    </tr>\n",
       "  </thead>\n",
       "  <tbody>\n",
       "    <tr>\n",
       "      <th>0</th>\n",
       "      <td>3826</td>\n",
       "      <td>6.0</td>\n",
       "      <td>(S)-nitrendipine</td>\n",
       "      <td>1.0</td>\n",
       "      <td>NaN</td>\n",
       "      <td>(s)-nitrendipine</td>\n",
       "      <td>NaN</td>\n",
       "    </tr>\n",
       "    <tr>\n",
       "      <th>265</th>\n",
       "      <td>19413</td>\n",
       "      <td>5041.0</td>\n",
       "      <td>technetium (99mTc) nofetumomab merpentan</td>\n",
       "      <td>1.0</td>\n",
       "      <td>NaN</td>\n",
       "      <td>technetium (99mtc) nofetumomab merpentan</td>\n",
       "      <td>NaN</td>\n",
       "    </tr>\n",
       "    <tr>\n",
       "      <th>272</th>\n",
       "      <td>19612</td>\n",
       "      <td>5053.0</td>\n",
       "      <td>amino(diphenylhydantoin) valeric acid</td>\n",
       "      <td>1.0</td>\n",
       "      <td>NaN</td>\n",
       "      <td>amino(diphenylhydantoin) valeric acid</td>\n",
       "      <td>C3652632</td>\n",
       "    </tr>\n",
       "    <tr>\n",
       "      <th>325</th>\n",
       "      <td>21193</td>\n",
       "      <td>5124.0</td>\n",
       "      <td>technetium (99mTc) sestamibi</td>\n",
       "      <td>1.0</td>\n",
       "      <td>NaN</td>\n",
       "      <td>technetium (99mtc) sestamibi</td>\n",
       "      <td>NaN</td>\n",
       "    </tr>\n",
       "    <tr>\n",
       "      <th>345</th>\n",
       "      <td>21499</td>\n",
       "      <td>5153.0</td>\n",
       "      <td>fluciclovine (18F)</td>\n",
       "      <td>1.0</td>\n",
       "      <td>NaN</td>\n",
       "      <td>fluciclovine (18f)</td>\n",
       "      <td>NaN</td>\n",
       "    </tr>\n",
       "    <tr>\n",
       "      <th>350</th>\n",
       "      <td>21596</td>\n",
       "      <td>5159.0</td>\n",
       "      <td>eptacog alfa (activated)</td>\n",
       "      <td>1.0</td>\n",
       "      <td>NaN</td>\n",
       "      <td>eptacog alfa (activated)</td>\n",
       "      <td>NaN</td>\n",
       "    </tr>\n",
       "  </tbody>\n",
       "</table>\n",
       "</div>"
      ],
      "text/plain": [
       "     syn_id  struct_id                                      name  \\\n",
       "0      3826        6.0                          (S)-nitrendipine   \n",
       "265   19413     5041.0  technetium (99mTc) nofetumomab merpentan   \n",
       "272   19612     5053.0     amino(diphenylhydantoin) valeric acid   \n",
       "325   21193     5124.0              technetium (99mTc) sestamibi   \n",
       "345   21499     5153.0                        fluciclovine (18F)   \n",
       "350   21596     5159.0                  eptacog alfa (activated)   \n",
       "\n",
       "     preferred_name  parent_id                                     lname  \\\n",
       "0               1.0        NaN                          (s)-nitrendipine   \n",
       "265             1.0        NaN  technetium (99mtc) nofetumomab merpentan   \n",
       "272             1.0        NaN     amino(diphenylhydantoin) valeric acid   \n",
       "325             1.0        NaN              technetium (99mtc) sestamibi   \n",
       "345             1.0        NaN                        fluciclovine (18f)   \n",
       "350             1.0        NaN                  eptacog alfa (activated)   \n",
       "\n",
       "      UMLSCUI  \n",
       "0         NaN  \n",
       "265       NaN  \n",
       "272  C3652632  \n",
       "325       NaN  \n",
       "345       NaN  \n",
       "350       NaN  "
      ]
     },
     "execution_count": 27,
     "metadata": {},
     "output_type": "execute_result"
    }
   ],
   "source": [
    "need_cui[need_cui['name'].str.contains('(', regex=False)]"
   ]
  },
  {
   "cell_type": "markdown",
   "metadata": {},
   "source": [
    "### Start to put things together"
   ]
  },
  {
   "cell_type": "code",
   "execution_count": 28,
   "metadata": {
    "collapsed": true
   },
   "outputs": [],
   "source": [
    "pref = syn.query('preferred_name == 1').reset_index(drop=True)\n",
    "pref = pref.dropna(subset=['struct_id'])\n",
    "pref['struct_id'] = pref['struct_id'].astype('int64')\n",
    "cui_map = ids.query('id_type == \"UMLSCUI\"')[['struct_id', 'identifier']].set_index('struct_id')['identifier'].to_dict()\n",
    "pref['UMLSCUI'] = pref['struct_id'].apply(lambda i: cui_map.get(i, float('NaN')))"
   ]
  },
  {
   "cell_type": "code",
   "execution_count": 29,
   "metadata": {
    "collapsed": true
   },
   "outputs": [],
   "source": [
    "pref = pref.dropna(subset=['UMLSCUI'])"
   ]
  },
  {
   "cell_type": "code",
   "execution_count": 30,
   "metadata": {
    "collapsed": true
   },
   "outputs": [],
   "source": [
    "new_syn = pd.concat([pref, need_cui.dropna(subset=['UMLSCUI']).reset_index(drop=True)]).reset_index(drop=True)"
   ]
  },
  {
   "cell_type": "code",
   "execution_count": 31,
   "metadata": {
    "collapsed": true
   },
   "outputs": [],
   "source": [
    "still_need_cui = need_cui[need_cui['UMLSCUI'].isnull()].reset_index(drop=True)"
   ]
  },
  {
   "cell_type": "code",
   "execution_count": 32,
   "metadata": {},
   "outputs": [
    {
     "name": "stdout",
     "output_type": "stream",
     "text": [
      "CPU times: user 1.57 s, sys: 76 ms, total: 1.65 s\n",
      "Wall time: 35.5 s\n"
     ]
    }
   ],
   "source": [
    "%%time\n",
    "tgt = handshake()\n",
    "still_need_cui['UMLSCUI'] = still_need_cui['name'].apply(lambda n: name_to_umls(n, tgt))"
   ]
  },
  {
   "cell_type": "code",
   "execution_count": 33,
   "metadata": {},
   "outputs": [
    {
     "data": {
      "text/plain": [
       "'0.000000% of remaining were to find CUI'"
      ]
     },
     "execution_count": 33,
     "metadata": {},
     "output_type": "execute_result"
    }
   ],
   "source": [
    "'{:%} of remaining were to find CUI'.format(still_need_cui['UMLSCUI'].count() / len(still_need_cui))"
   ]
  },
  {
   "cell_type": "code",
   "execution_count": 34,
   "metadata": {
    "collapsed": true
   },
   "outputs": [],
   "source": [
    "new_syn = pd.concat([new_syn, still_need_cui.dropna(subset=['UMLSCUI']).reset_index(drop=True)]).reset_index(drop=True)"
   ]
  },
  {
   "cell_type": "code",
   "execution_count": 35,
   "metadata": {
    "collapsed": true
   },
   "outputs": [],
   "source": [
    "syn_cols = ['struct_id', 'name', 'UMLSCUI']"
   ]
  },
  {
   "cell_type": "code",
   "execution_count": 36,
   "metadata": {
    "collapsed": true
   },
   "outputs": [],
   "source": [
    "rel_with_cui = pd.merge(rels, new_syn[syn_cols], how='left', on='struct_id')"
   ]
  },
  {
   "cell_type": "code",
   "execution_count": 37,
   "metadata": {},
   "outputs": [
    {
     "data": {
      "text/plain": [
       "'99.341735% of relationships now have a UMLSCUI for the compound'"
      ]
     },
     "execution_count": 37,
     "metadata": {},
     "output_type": "execute_result"
    }
   ],
   "source": [
    "\"{:%} of relationships now have a UMLSCUI for the compound\".format(rel_with_cui['UMLSCUI'].count() / rel_with_cui.shape[0])"
   ]
  },
  {
   "cell_type": "markdown",
   "metadata": {},
   "source": [
    "### Add in approval Dates"
   ]
  },
  {
   "cell_type": "code",
   "execution_count": 38,
   "metadata": {},
   "outputs": [
    {
     "data": {
      "text/html": [
       "<div>\n",
       "<style>\n",
       "    .dataframe thead tr:only-child th {\n",
       "        text-align: right;\n",
       "    }\n",
       "\n",
       "    .dataframe thead th {\n",
       "        text-align: left;\n",
       "    }\n",
       "\n",
       "    .dataframe tbody tr th {\n",
       "        vertical-align: top;\n",
       "    }\n",
       "</style>\n",
       "<table border=\"1\" class=\"dataframe\">\n",
       "  <thead>\n",
       "    <tr style=\"text-align: right;\">\n",
       "      <th></th>\n",
       "      <th>id</th>\n",
       "      <th>struct_id</th>\n",
       "      <th>approval</th>\n",
       "      <th>type</th>\n",
       "      <th>applicant</th>\n",
       "      <th>orphan</th>\n",
       "    </tr>\n",
       "  </thead>\n",
       "  <tbody>\n",
       "    <tr>\n",
       "      <th>0</th>\n",
       "      <td>3578</td>\n",
       "      <td>5204</td>\n",
       "      <td>2009-06-30</td>\n",
       "      <td>FDA</td>\n",
       "      <td>AMAG PHARMS INC</td>\n",
       "      <td>NaN</td>\n",
       "    </tr>\n",
       "    <tr>\n",
       "      <th>1</th>\n",
       "      <td>3579</td>\n",
       "      <td>5200</td>\n",
       "      <td>NaN</td>\n",
       "      <td>FDA</td>\n",
       "      <td>NaN</td>\n",
       "      <td>NaN</td>\n",
       "    </tr>\n",
       "    <tr>\n",
       "      <th>2</th>\n",
       "      <td>3580</td>\n",
       "      <td>5198</td>\n",
       "      <td>NaN</td>\n",
       "      <td>FDA</td>\n",
       "      <td>NaN</td>\n",
       "      <td>NaN</td>\n",
       "    </tr>\n",
       "    <tr>\n",
       "      <th>3</th>\n",
       "      <td>3535</td>\n",
       "      <td>5201</td>\n",
       "      <td>2016-12-14</td>\n",
       "      <td>FDA</td>\n",
       "      <td>ANACOR PHARMS INC</td>\n",
       "      <td>NaN</td>\n",
       "    </tr>\n",
       "    <tr>\n",
       "      <th>4</th>\n",
       "      <td>3536</td>\n",
       "      <td>5203</td>\n",
       "      <td>2016-12-19</td>\n",
       "      <td>FDA</td>\n",
       "      <td>Clovis Oncology, Inc.</td>\n",
       "      <td>NaN</td>\n",
       "    </tr>\n",
       "  </tbody>\n",
       "</table>\n",
       "</div>"
      ],
      "text/plain": [
       "     id  struct_id    approval type              applicant orphan\n",
       "0  3578       5204  2009-06-30  FDA        AMAG PHARMS INC    NaN\n",
       "1  3579       5200         NaN  FDA                    NaN    NaN\n",
       "2  3580       5198         NaN  FDA                    NaN    NaN\n",
       "3  3535       5201  2016-12-14  FDA      ANACOR PHARMS INC    NaN\n",
       "4  3536       5203  2016-12-19  FDA  Clovis Oncology, Inc.    NaN"
      ]
     },
     "execution_count": 38,
     "metadata": {},
     "output_type": "execute_result"
    }
   ],
   "source": [
    "app = pd.read_csv('../data/drugcentral_approvals.csv')\n",
    "app.head()"
   ]
  },
  {
   "cell_type": "code",
   "execution_count": 39,
   "metadata": {
    "collapsed": true
   },
   "outputs": [],
   "source": [
    "app = (app.dropna(subset=['approval']) # Remove NaN values\n",
    "          .sort_values('approval')     # Put the earliest approval first\n",
    "          .groupby('struct_id')        # Group by the compound's id\n",
    "          .first()                     # And select the first instance of that id\n",
    "          .reset_index())              # Return struct_id to a column from the index"
   ]
  },
  {
   "cell_type": "code",
   "execution_count": 40,
   "metadata": {},
   "outputs": [
    {
     "data": {
      "text/html": [
       "<div>\n",
       "<style>\n",
       "    .dataframe thead tr:only-child th {\n",
       "        text-align: right;\n",
       "    }\n",
       "\n",
       "    .dataframe thead th {\n",
       "        text-align: left;\n",
       "    }\n",
       "\n",
       "    .dataframe tbody tr th {\n",
       "        vertical-align: top;\n",
       "    }\n",
       "</style>\n",
       "<table border=\"1\" class=\"dataframe\">\n",
       "  <thead>\n",
       "    <tr style=\"text-align: right;\">\n",
       "      <th></th>\n",
       "      <th>id</th>\n",
       "      <th>struct_id</th>\n",
       "      <th>concept_id</th>\n",
       "      <th>relationship_name</th>\n",
       "      <th>concept_name</th>\n",
       "      <th>umls_cui</th>\n",
       "      <th>snomed_full_name</th>\n",
       "      <th>cui_semantic_type</th>\n",
       "      <th>snomed_conceptid</th>\n",
       "      <th>name</th>\n",
       "      <th>UMLSCUI</th>\n",
       "      <th>approval</th>\n",
       "    </tr>\n",
       "  </thead>\n",
       "  <tbody>\n",
       "    <tr>\n",
       "      <th>0</th>\n",
       "      <td>132463</td>\n",
       "      <td>1253</td>\n",
       "      <td>21000041</td>\n",
       "      <td>indication</td>\n",
       "      <td>Tuberculosis</td>\n",
       "      <td>C0041296</td>\n",
       "      <td>Tuberculosis</td>\n",
       "      <td>T047</td>\n",
       "      <td>56717001.0</td>\n",
       "      <td>NaN</td>\n",
       "      <td>NaN</td>\n",
       "      <td>NaN</td>\n",
       "    </tr>\n",
       "    <tr>\n",
       "      <th>1</th>\n",
       "      <td>132464</td>\n",
       "      <td>5203</td>\n",
       "      <td>21000533</td>\n",
       "      <td>indication</td>\n",
       "      <td>Malignant tumor of ovary</td>\n",
       "      <td>C1140680</td>\n",
       "      <td>Malignant tumor of ovary</td>\n",
       "      <td>T191</td>\n",
       "      <td>363443007.0</td>\n",
       "      <td>rucaparib</td>\n",
       "      <td>C3661315</td>\n",
       "      <td>2016-12-19</td>\n",
       "    </tr>\n",
       "  </tbody>\n",
       "</table>\n",
       "</div>"
      ],
      "text/plain": [
       "       id struct_id  concept_id relationship_name              concept_name  \\\n",
       "0  132463      1253    21000041        indication              Tuberculosis   \n",
       "1  132464      5203    21000533        indication  Malignant tumor of ovary   \n",
       "\n",
       "   umls_cui          snomed_full_name cui_semantic_type  snomed_conceptid  \\\n",
       "0  C0041296              Tuberculosis              T047        56717001.0   \n",
       "1  C1140680  Malignant tumor of ovary              T191       363443007.0   \n",
       "\n",
       "        name   UMLSCUI    approval  \n",
       "0        NaN       NaN         NaN  \n",
       "1  rucaparib  C3661315  2016-12-19  "
      ]
     },
     "execution_count": 40,
     "metadata": {},
     "output_type": "execute_result"
    }
   ],
   "source": [
    "rel_with_cui = pd.merge(rel_with_cui, app[['struct_id', 'approval']], how='left', on='struct_id')\n",
    "rel_with_cui.head(2)"
   ]
  },
  {
   "cell_type": "code",
   "execution_count": 41,
   "metadata": {
    "collapsed": true
   },
   "outputs": [],
   "source": [
    "rel_columns = ['struct_id', 'UMLSCUI', 'name', 'relationship_name', 'concept_id', 'umls_cui', 'concept_name', 'cui_semantic_type', 'approval']\n",
    "rel_rename = {'struct_id': 'dc_struct_id',\n",
    "              'UMLSCUI': 'compound_umlscui', \n",
    "              'name': 'compound_name', \n",
    "              'relationship_name': 'relationship', \n",
    "              'concept_id': 'dc_disease_id', \n",
    "              'umls_cui': 'disease_umlscui', \n",
    "              'concept_name': 'disease_name', \n",
    "              'cui_semantic_type': 'disease_umls_semantic_type',\n",
    "              'approval': 'date_approved'}\n",
    "\n",
    "rel_with_cui = rel_with_cui[rel_columns].rename(columns = rel_rename)"
   ]
  },
  {
   "cell_type": "code",
   "execution_count": 42,
   "metadata": {},
   "outputs": [
    {
     "data": {
      "text/html": [
       "<div>\n",
       "<style>\n",
       "    .dataframe thead tr:only-child th {\n",
       "        text-align: right;\n",
       "    }\n",
       "\n",
       "    .dataframe thead th {\n",
       "        text-align: left;\n",
       "    }\n",
       "\n",
       "    .dataframe tbody tr th {\n",
       "        vertical-align: top;\n",
       "    }\n",
       "</style>\n",
       "<table border=\"1\" class=\"dataframe\">\n",
       "  <thead>\n",
       "    <tr style=\"text-align: right;\">\n",
       "      <th></th>\n",
       "      <th>dc_struct_id</th>\n",
       "      <th>compound_umlscui</th>\n",
       "      <th>compound_name</th>\n",
       "      <th>relationship</th>\n",
       "      <th>dc_disease_id</th>\n",
       "      <th>disease_umlscui</th>\n",
       "      <th>disease_name</th>\n",
       "      <th>disease_umls_semantic_type</th>\n",
       "      <th>date_approved</th>\n",
       "    </tr>\n",
       "  </thead>\n",
       "  <tbody>\n",
       "    <tr>\n",
       "      <th>0</th>\n",
       "      <td>1253</td>\n",
       "      <td>NaN</td>\n",
       "      <td>NaN</td>\n",
       "      <td>indication</td>\n",
       "      <td>21000041</td>\n",
       "      <td>C0041296</td>\n",
       "      <td>Tuberculosis</td>\n",
       "      <td>T047</td>\n",
       "      <td>NaN</td>\n",
       "    </tr>\n",
       "    <tr>\n",
       "      <th>1</th>\n",
       "      <td>5203</td>\n",
       "      <td>C3661315</td>\n",
       "      <td>rucaparib</td>\n",
       "      <td>indication</td>\n",
       "      <td>21000533</td>\n",
       "      <td>C1140680</td>\n",
       "      <td>Malignant tumor of ovary</td>\n",
       "      <td>T191</td>\n",
       "      <td>2016-12-19</td>\n",
       "    </tr>\n",
       "  </tbody>\n",
       "</table>\n",
       "</div>"
      ],
      "text/plain": [
       "  dc_struct_id compound_umlscui compound_name relationship  dc_disease_id  \\\n",
       "0         1253              NaN           NaN   indication       21000041   \n",
       "1         5203         C3661315     rucaparib   indication       21000533   \n",
       "\n",
       "  disease_umlscui              disease_name disease_umls_semantic_type  \\\n",
       "0        C0041296              Tuberculosis                       T047   \n",
       "1        C1140680  Malignant tumor of ovary                       T191   \n",
       "\n",
       "  date_approved  \n",
       "0           NaN  \n",
       "1    2016-12-19  "
      ]
     },
     "execution_count": 42,
     "metadata": {},
     "output_type": "execute_result"
    }
   ],
   "source": [
    "rel_with_cui.head(2)"
   ]
  },
  {
   "cell_type": "code",
   "execution_count": 43,
   "metadata": {
    "collapsed": true
   },
   "outputs": [],
   "source": [
    "rel_with_cui = rel_with_cui.dropna(subset=['compound_umlscui', 'disease_umlscui'])\n",
    "rel_with_cui.to_csv('../data/umls_formatted_drugcentral_relationships.csv', index=False)"
   ]
  },
  {
   "cell_type": "code",
   "execution_count": 44,
   "metadata": {
    "collapsed": true
   },
   "outputs": [],
   "source": [
    "indications = rel_with_cui.query('relationship == \"indication\"').reset_index(drop=True)"
   ]
  },
  {
   "cell_type": "code",
   "execution_count": 45,
   "metadata": {},
   "outputs": [
    {
     "name": "stdout",
     "output_type": "stream",
     "text": [
      "Indications:  8270\n",
      "Number of compounds:  2170\n",
      "Number of diseases:  1308\n",
      "Indications with dates:  7074\n"
     ]
    }
   ],
   "source": [
    "print('Indications: ', len(indications))\n",
    "print('Number of compounds: ', indications['compound_umlscui'].nunique())\n",
    "print('Number of diseases: ', indications['disease_umlscui'].nunique())\n",
    "print('Indications with dates: ', indications['date_approved'].count())"
   ]
  },
  {
   "cell_type": "code",
   "execution_count": 46,
   "metadata": {
    "collapsed": true
   },
   "outputs": [],
   "source": [
    "indications.to_csv('../data/indications.csv', index=False)"
   ]
  }
 ],
 "metadata": {
  "kernelspec": {
   "display_name": "Python 3",
   "language": "python",
   "name": "python3"
  },
  "language_info": {
   "codemirror_mode": {
    "name": "ipython",
    "version": 3
   },
   "file_extension": ".py",
   "mimetype": "text/x-python",
   "name": "python",
   "nbconvert_exporter": "python",
   "pygments_lexer": "ipython3",
   "version": "3.5.4"
  }
 },
 "nbformat": 4,
 "nbformat_minor": 1
}
