{
 "cells": [
  {
   "cell_type": "markdown",
   "metadata": {},
   "source": [
    "# Building the Hetnet\n",
    "\n",
    "This file does the initial conversion of SemmedDB into a Hetnet that will be used for future analysis\n",
    "\n",
    "This has multiples steps:\n",
    "\n",
    "1. Some minor processing steps\n",
    "    1. Remove general terms\n",
    "    2. Combining PMIDs for each unique S-P-O triple and saving\n",
    "3. Prepare the Nodes file for saving\n",
    "    4. Ensuring Correct Semanntic Types of the nodes\n",
    "        1. Resolving Issues with Multiple types for a single CUI\n",
    "4. Edge File Preparations\n",
    "    5. Developing Edge Abbreviations for the network\n",
    "    6. Ensuring that all edges directions follow the same convention\n",
    "    7. Restoring the PMID information to the Edges\n",
    "    8. De-duplicating the edges\n",
    "9. Saving"
   ]
  },
  {
   "cell_type": "code",
   "execution_count": 1,
   "metadata": {
    "collapsed": true
   },
   "outputs": [],
   "source": [
    "import os\n",
    "import pickle\n",
    "%matplotlib inline\n",
    "import numpy as np\n",
    "import pandas as pd\n",
    "import seaborn as sns\n",
    "from tqdm import tqdm\n",
    "import matplotlib.pyplot as plt\n",
    "\n",
    "import sys\n",
    "sys.path.append('../../hetnet-ml/src')\n",
    "import graph_tools as gt\n",
    "\n",
    "sys.path.append('../tools')\n",
    "import load_umls"
   ]
  },
  {
   "cell_type": "code",
   "execution_count": 2,
   "metadata": {},
   "outputs": [
    {
     "name": "stderr",
     "output_type": "stream",
     "text": [
      "/opt/mmayers/software/anaconda3/envs/integrate/lib/python3.5/site-packages/IPython/core/interactiveshell.py:2698: DtypeWarning: Columns (2) have mixed types. Specify dtype option on import or set low_memory=False.\n",
      "  interactivity=interactivity, compiler=compiler, result=result)\n"
     ]
    }
   ],
   "source": [
    "sem_df = pd.read_csv('../data/semmedVER31_R_clean_de-depricate.csv')"
   ]
  },
  {
   "cell_type": "code",
   "execution_count": 3,
   "metadata": {},
   "outputs": [
    {
     "name": "stdout",
     "output_type": "stream",
     "text": [
      "Rows: 104,814,789\n",
      "Cols: 12\n"
     ]
    }
   ],
   "source": [
    "print('Rows: {:,}'.format(sem_df.shape[0]))\n",
    "print('Cols: {}'.format(sem_df.shape[1]))"
   ]
  },
  {
   "cell_type": "code",
   "execution_count": 4,
   "metadata": {},
   "outputs": [
    {
     "data": {
      "text/html": [
       "<div>\n",
       "<style scoped>\n",
       "    .dataframe tbody tr th:only-of-type {\n",
       "        vertical-align: middle;\n",
       "    }\n",
       "\n",
       "    .dataframe tbody tr th {\n",
       "        vertical-align: top;\n",
       "    }\n",
       "\n",
       "    .dataframe thead th {\n",
       "        text-align: right;\n",
       "    }\n",
       "</style>\n",
       "<table border=\"1\" class=\"dataframe\">\n",
       "  <thead>\n",
       "    <tr style=\"text-align: right;\">\n",
       "      <th></th>\n",
       "      <th>PREDICATION_ID</th>\n",
       "      <th>SENTENCE_ID</th>\n",
       "      <th>PMID</th>\n",
       "      <th>PREDICATE</th>\n",
       "      <th>SUBJECT_CUI</th>\n",
       "      <th>SUBJECT_NAME</th>\n",
       "      <th>SUBJECT_SEMTYPE</th>\n",
       "      <th>SUBJECT_NOVELTY</th>\n",
       "      <th>OBJECT_CUI</th>\n",
       "      <th>OBJECT_NAME</th>\n",
       "      <th>OBJECT_SEMTYPE</th>\n",
       "      <th>OBJECT_NOVELTY</th>\n",
       "    </tr>\n",
       "  </thead>\n",
       "  <tbody>\n",
       "    <tr>\n",
       "      <th>0</th>\n",
       "      <td>38999</td>\n",
       "      <td>87169</td>\n",
       "      <td>4958141</td>\n",
       "      <td>PART_OF</td>\n",
       "      <td>C0040291</td>\n",
       "      <td>Tissue Extracts</td>\n",
       "      <td>bacs</td>\n",
       "      <td>1</td>\n",
       "      <td>C0085979</td>\n",
       "      <td>Cavia</td>\n",
       "      <td>mamm</td>\n",
       "      <td>1</td>\n",
       "    </tr>\n",
       "    <tr>\n",
       "      <th>1</th>\n",
       "      <td>39000</td>\n",
       "      <td>87167</td>\n",
       "      <td>13997680</td>\n",
       "      <td>LOCATION_OF</td>\n",
       "      <td>C0005767</td>\n",
       "      <td>Blood</td>\n",
       "      <td>tisu</td>\n",
       "      <td>1</td>\n",
       "      <td>C0007061</td>\n",
       "      <td>Carboxyhemoglobin</td>\n",
       "      <td>aapp</td>\n",
       "      <td>1</td>\n",
       "    </tr>\n",
       "  </tbody>\n",
       "</table>\n",
       "</div>"
      ],
      "text/plain": [
       "   PREDICATION_ID  SENTENCE_ID      PMID    PREDICATE SUBJECT_CUI  \\\n",
       "0           38999        87169   4958141      PART_OF    C0040291   \n",
       "1           39000        87167  13997680  LOCATION_OF    C0005767   \n",
       "\n",
       "      SUBJECT_NAME SUBJECT_SEMTYPE  SUBJECT_NOVELTY OBJECT_CUI  \\\n",
       "0  Tissue Extracts            bacs                1   C0085979   \n",
       "1            Blood            tisu                1   C0007061   \n",
       "\n",
       "         OBJECT_NAME OBJECT_SEMTYPE  OBJECT_NOVELTY  \n",
       "0              Cavia           mamm               1  \n",
       "1  Carboxyhemoglobin           aapp               1  "
      ]
     },
     "execution_count": 4,
     "metadata": {},
     "output_type": "execute_result"
    }
   ],
   "source": [
    "sem_df.head(2)"
   ]
  },
  {
   "cell_type": "markdown",
   "metadata": {},
   "source": [
    "# 1. Processing\n",
    "\n",
    "## Remove Generic Concepts\n",
    "\n",
    "Generic concepts ([defined here](https://skr3.nlm.nih.gov/SemMedDB/dbinfo.html)) are too generic for this analysis and should be removed from the data. These concepts have a `SUBJECT_NOVELTY` or `OBJECT_NOVELTY` value of 0.  So we will only keep non-zero values in both columns"
   ]
  },
  {
   "cell_type": "code",
   "execution_count": 5,
   "metadata": {},
   "outputs": [
    {
     "name": "stdout",
     "output_type": "stream",
     "text": [
      "Rows 74,560,150\n"
     ]
    }
   ],
   "source": [
    "sem_df = sem_df.query('SUBJECT_NOVELTY != 0 and OBJECT_NOVELTY != 0')\n",
    "print('Rows {:,}'.format(sem_df.shape[0]))"
   ]
  },
  {
   "cell_type": "markdown",
   "metadata": {},
   "source": [
    "## Count PMIDs\n",
    "\n",
    "Lets see how many PMIDs there are for each unique S-P-O triple"
   ]
  },
  {
   "cell_type": "code",
   "execution_count": 6,
   "metadata": {
    "collapsed": true
   },
   "outputs": [],
   "source": [
    "from collections import defaultdict"
   ]
  },
  {
   "cell_type": "markdown",
   "metadata": {},
   "source": [
    "DataFrame.grouby is terrible:\n",
    "\n",
    "    pmids = sem_df.groupby(['SUBJECT_CUI', 'PREDICATE', 'OBJECT_CUI'])['PMID'].apply(set).to_dict()\n",
    "    \n",
    "This will take 45+ min... DONT DO THIS!!!"
   ]
  },
  {
   "cell_type": "code",
   "execution_count": 7,
   "metadata": {},
   "outputs": [
    {
     "name": "stderr",
     "output_type": "stream",
     "text": [
      "100%|██████████| 74560150/74560150 [08:04<00:00, 154042.62it/s] \n"
     ]
    }
   ],
   "source": [
    "pmids = defaultdict(set)\n",
    "\n",
    "col_names = sem_df.columns.tolist()\n",
    "\n",
    "pmid_idx = col_names.index('PMID')\n",
    "sub_idx = col_names.index('SUBJECT_CUI')\n",
    "pred_idx = col_names.index('PREDICATE')\n",
    "obj_idx = col_names.index('OBJECT_CUI')\n",
    "\n",
    "for tup in tqdm(sem_df.itertuples(False, None), total=len(sem_df)):\n",
    "    \n",
    "    pmid = tup[pmid_idx]\n",
    "    sub = tup[sub_idx]\n",
    "    pred = tup[pred_idx]\n",
    "    obj = tup[obj_idx]\n",
    "    \n",
    "    pmids[(sub, pred, obj)].add(pmid)"
   ]
  },
  {
   "cell_type": "code",
   "execution_count": 8,
   "metadata": {
    "scrolled": true
   },
   "outputs": [
    {
     "data": {
      "text/plain": [
       "{464373, 4958141, 4960005, 5188517, 14810953, 15777937}"
      ]
     },
     "execution_count": 8,
     "metadata": {},
     "output_type": "execute_result"
    }
   ],
   "source": [
    "# See the PMIDs Associated with the first line above\n",
    "row_idx = 0\n",
    "\n",
    "s = sem_df.loc[row_idx, 'SUBJECT_CUI']\n",
    "p = sem_df.loc[row_idx, 'PREDICATE']\n",
    "o = sem_df.loc[row_idx, 'OBJECT_CUI']\n",
    "\n",
    "pmids[(s, p, o)]"
   ]
  },
  {
   "cell_type": "code",
   "execution_count": 9,
   "metadata": {},
   "outputs": [],
   "source": [
    "counts = [len(v) for v in pmids.values()]"
   ]
  },
  {
   "cell_type": "code",
   "execution_count": 10,
   "metadata": {
    "collapsed": true
   },
   "outputs": [],
   "source": [
    "counts = (pd.Series(counts)\n",
    "            .value_counts()\n",
    "            .to_frame()\n",
    "            .reset_index()\n",
    "            .rename(columns={'index': 'Num PMIDs', 0: 'SPO Triples'}))"
   ]
  },
  {
   "cell_type": "code",
   "execution_count": 11,
   "metadata": {},
   "outputs": [
    {
     "data": {
      "image/png": "[encoded data removed]",
      "text/plain": [
       "<Figure size 432x288 with 1 Axes>"
      ]
     },
     "metadata": {},
     "output_type": "display_data"
    }
   ],
   "source": [
    "data = counts[counts['Num PMIDs'] < 21]\n",
    "\n",
    "sns.barplot(x='Num PMIDs', y='SPO Triples', data=data, color = sns.color_palette()[0])\n",
    "plt.title('Number of edges with 1-20 supporting PMIDs');"
   ]
  },
  {
   "cell_type": "code",
   "execution_count": 12,
   "metadata": {},
   "outputs": [
    {
     "data": {
      "image/png": "[encoded data removed]",
      "text/plain": [
       "<Figure size 432x288 with 1 Axes>"
      ]
     },
     "metadata": {},
     "output_type": "display_data"
    }
   ],
   "source": [
    "counts['log Triples'] = np.log(counts['SPO Triples'])\n",
    "data=counts[counts['Num PMIDs'] < 21]\n",
    "\n",
    "sns.barplot(x='Num PMIDs', y='log Triples', data=data, color=sns.color_palette()[0])\n",
    "plt.title('Log number of edges with 1-20 supporting PMIDs');"
   ]
  },
  {
   "cell_type": "code",
   "execution_count": 13,
   "metadata": {},
   "outputs": [
    {
     "name": "stdout",
     "output_type": "stream",
     "text": [
      "Edges with at least 1 unique PMIDs: 19,812,322\n",
      "Edges with at least 2 unique PMIDs: 5,654,608\n",
      "Edges with at least 3 unique PMIDs: 3,187,108\n",
      "Edges with at least 4 unique PMIDs: 2,204,867\n",
      "Edges with at least 5 unique PMIDs: 1,680,001\n",
      "Edges with at least 6 unique PMIDs: 1,353,287\n",
      "Edges with at least 7 unique PMIDs: 1,130,325\n",
      "Edges with at least 8 unique PMIDs: 969,417\n",
      "Edges with at least 9 unique PMIDs: 847,297\n",
      "Edges with at least 10 unique PMIDs: 751,232\n"
     ]
    }
   ],
   "source": [
    "for i in range(1, 11):\n",
    "    print(\"Edges with at least {} unique PMIDs: {:,}\".format(i, counts[counts['Num PMIDs'] >= i]['SPO Triples'].sum()))"
   ]
  },
  {
   "cell_type": "markdown",
   "metadata": {},
   "source": [
    "### De-Duplicate\n",
    "\n",
    "The data will be faster to work with if duplicate items are removed."
   ]
  },
  {
   "cell_type": "code",
   "execution_count": 14,
   "metadata": {
    "scrolled": true
   },
   "outputs": [
    {
     "name": "stdout",
     "output_type": "stream",
     "text": [
      "Rows Remaining: 20,258,352\n"
     ]
    }
   ],
   "source": [
    "sem_df = sem_df.drop_duplicates(subset=['SUBJECT_CUI', 'SUBJECT_NAME', 'SUBJECT_SEMTYPE', 'PREDICATE',\n",
    "                                        'OBJECT_CUI', 'OBJECT_NAME', 'OBJECT_SEMTYPE'])\n",
    "\n",
    "print('Rows Remaining: {:,}'.format(sem_df.shape[0]))"
   ]
  },
  {
   "cell_type": "markdown",
   "metadata": {},
   "source": [
    "# 2. Prepare Node FIles\n",
    "\n",
    "## Begin Analysis of Sem-Types\n",
    "\n",
    "Semtypes are abbreviated, so need to get mappings to true name.  \n",
    "Examining the length of the map file, there should be 133 semtypes."
   ]
  },
  {
   "cell_type": "code",
   "execution_count": 15,
   "metadata": {},
   "outputs": [
    {
     "data": {
      "text/plain": [
       "133"
      ]
     },
     "execution_count": 15,
     "metadata": {},
     "output_type": "execute_result"
    }
   ],
   "source": [
    "len(set(sem_df['SUBJECT_SEMTYPE'].unique()).union(set(sem_df['OBJECT_SEMTYPE'].unique())))"
   ]
  },
  {
   "cell_type": "markdown",
   "metadata": {
    "collapsed": true
   },
   "source": [
    "### Normalizing semtypes for CUIs with multiple semtypes\n",
    "\n",
    "We know that there are multiple Semtypes for a given CUI found throghout the database.  Can we just use a voting system? That with the most occruances of a given semtype gets that semtype?\n",
    "\n",
    "For a CUI thats a Gene e.g. `C1337111` or the `POMC gene` we want something thats a subclass of Genes and Genomes (aka gngm)."
   ]
  },
  {
   "cell_type": "code",
   "execution_count": 16,
   "metadata": {
    "scrolled": true
   },
   "outputs": [
    {
     "data": {
      "text/plain": [
       "aapp    4186\n",
       "gngm     880\n",
       "horm     801\n",
       "phsu     264\n",
       "nsba      31\n",
       "lbpr       1\n",
       "bacs       1\n",
       "Name: SUBJECT_SEMTYPE, dtype: int64"
      ]
     },
     "execution_count": 16,
     "metadata": {},
     "output_type": "execute_result"
    }
   ],
   "source": [
    "sem_df.query('SUBJECT_CUI == \"C1337111\"')['SUBJECT_SEMTYPE'].value_counts()"
   ]
  },
  {
   "cell_type": "markdown",
   "metadata": {},
   "source": [
    "Unfortunately, aapp is a sublcass of Chemicals & Drugs, so this would be given the wrong superclass if identified.\n",
    "\n",
    "However, it will be easier to do this if the nodes are sperated from the edges first\n",
    "\n",
    "\n",
    "#### Semmtypes abbreviation mappings\n",
    "\n",
    "Files with the mapping information were [downloaded here](https://metamap.nlm.nih.gov/SemanticTypesAndGroups.shtml)"
   ]
  },
  {
   "cell_type": "code",
   "execution_count": 17,
   "metadata": {
    "collapsed": true
   },
   "outputs": [],
   "source": [
    "abbv_to_type = dict()\n",
    "with open('../data/SemanticTypes_2013AA.txt') as fin:\n",
    "    for line in fin:\n",
    "        line = line.strip()\n",
    "        lspt = line.split('|')\n",
    "        abbv_to_type[lspt[0]] = lspt[-1]\n",
    "type_to_abbv = {v:k for k, v in abbv_to_type.items()}"
   ]
  },
  {
   "cell_type": "markdown",
   "metadata": {},
   "source": [
    "Semtypes also have a supertype.   \n",
    "The mapping file has this structure:\n",
    "\n",
    "    ANAT|Anatomy|T017|Anatomical Structure\n",
    "\n",
    "#### Semtype supertypes mappings"
   ]
  },
  {
   "cell_type": "code",
   "execution_count": 18,
   "metadata": {
    "collapsed": true
   },
   "outputs": [],
   "source": [
    "abbv_to_super = dict()\n",
    "with open('../data/SemGroups_2013.txt') as fin:\n",
    "    for line in fin:\n",
    "        line = line.strip()\n",
    "        lspt = line.split('|')\n",
    "        abbv_to_super[type_to_abbv[lspt[-1]]] = lspt[1]"
   ]
  },
  {
   "cell_type": "markdown",
   "metadata": {},
   "source": [
    "#### Check to see that all of the semtype abbreviations in the SemmedDB are repepresented in this mapping file"
   ]
  },
  {
   "cell_type": "code",
   "execution_count": 19,
   "metadata": {},
   "outputs": [
    {
     "data": {
      "text/plain": [
       "{'alga', 'invt', 'rich'}"
      ]
     },
     "execution_count": 19,
     "metadata": {},
     "output_type": "execute_result"
    }
   ],
   "source": [
    "semtype_abbvs = abbv_to_super.keys()\n",
    "unused_abbvs = set(sem_df.query('SUBJECT_SEMTYPE not in @semtype_abbvs')['SUBJECT_SEMTYPE'].unique())\n",
    "unused_abbvs.update(set(sem_df.query('OBJECT_SEMTYPE not in @semtype_abbvs')['OBJECT_SEMTYPE'].unique()))\n",
    "\n",
    "unused_abbvs"
   ]
  },
  {
   "cell_type": "markdown",
   "metadata": {},
   "source": [
    "There are a few that aren't in there, so lets see if we can figure out what they should be"
   ]
  },
  {
   "cell_type": "code",
   "execution_count": 20,
   "metadata": {},
   "outputs": [
    {
     "data": {
      "text/html": [
       "<div>\n",
       "<style scoped>\n",
       "    .dataframe tbody tr th:only-of-type {\n",
       "        vertical-align: middle;\n",
       "    }\n",
       "\n",
       "    .dataframe tbody tr th {\n",
       "        vertical-align: top;\n",
       "    }\n",
       "\n",
       "    .dataframe thead th {\n",
       "        text-align: right;\n",
       "    }\n",
       "</style>\n",
       "<table border=\"1\" class=\"dataframe\">\n",
       "  <thead>\n",
       "    <tr style=\"text-align: right;\">\n",
       "      <th></th>\n",
       "      <th>SUBJECT_CUI</th>\n",
       "      <th>SUBJECT_NAME</th>\n",
       "      <th>SUBJECT_SEMTYPE</th>\n",
       "    </tr>\n",
       "  </thead>\n",
       "  <tbody>\n",
       "    <tr>\n",
       "      <th>3276</th>\n",
       "      <td>C0002032</td>\n",
       "      <td>Algae, Green</td>\n",
       "      <td>alga</td>\n",
       "    </tr>\n",
       "    <tr>\n",
       "      <th>5130</th>\n",
       "      <td>C0002028</td>\n",
       "      <td>Algae</td>\n",
       "      <td>alga</td>\n",
       "    </tr>\n",
       "  </tbody>\n",
       "</table>\n",
       "</div>"
      ],
      "text/plain": [
       "     SUBJECT_CUI  SUBJECT_NAME SUBJECT_SEMTYPE\n",
       "3276    C0002032  Algae, Green            alga\n",
       "5130    C0002028         Algae            alga"
      ]
     },
     "execution_count": 20,
     "metadata": {},
     "output_type": "execute_result"
    }
   ],
   "source": [
    "sem_df.query('SUBJECT_SEMTYPE == \"alga\"').head(2)[['SUBJECT_CUI', 'SUBJECT_NAME', 'SUBJECT_SEMTYPE']]"
   ]
  },
  {
   "cell_type": "code",
   "execution_count": 21,
   "metadata": {},
   "outputs": [
    {
     "data": {
      "text/html": [
       "<div>\n",
       "<style scoped>\n",
       "    .dataframe tbody tr th:only-of-type {\n",
       "        vertical-align: middle;\n",
       "    }\n",
       "\n",
       "    .dataframe tbody tr th {\n",
       "        vertical-align: top;\n",
       "    }\n",
       "\n",
       "    .dataframe thead th {\n",
       "        text-align: right;\n",
       "    }\n",
       "</style>\n",
       "<table border=\"1\" class=\"dataframe\">\n",
       "  <thead>\n",
       "    <tr style=\"text-align: right;\">\n",
       "      <th></th>\n",
       "      <th>SUBJECT_CUI</th>\n",
       "      <th>SUBJECT_NAME</th>\n",
       "      <th>SUBJECT_SEMTYPE</th>\n",
       "    </tr>\n",
       "  </thead>\n",
       "  <tbody>\n",
       "    <tr>\n",
       "      <th>187</th>\n",
       "      <td>C0012518</td>\n",
       "      <td>Dipetalonema perstans</td>\n",
       "      <td>invt</td>\n",
       "    </tr>\n",
       "    <tr>\n",
       "      <th>294</th>\n",
       "      <td>C0026584</td>\n",
       "      <td>Culicidae</td>\n",
       "      <td>invt</td>\n",
       "    </tr>\n",
       "  </tbody>\n",
       "</table>\n",
       "</div>"
      ],
      "text/plain": [
       "    SUBJECT_CUI           SUBJECT_NAME SUBJECT_SEMTYPE\n",
       "187    C0012518  Dipetalonema perstans            invt\n",
       "294    C0026584              Culicidae            invt"
      ]
     },
     "execution_count": 21,
     "metadata": {},
     "output_type": "execute_result"
    }
   ],
   "source": [
    "sem_df.query('SUBJECT_SEMTYPE == \"invt\"').head(2)[['SUBJECT_CUI', 'SUBJECT_NAME', 'SUBJECT_SEMTYPE']]"
   ]
  },
  {
   "cell_type": "code",
   "execution_count": 22,
   "metadata": {},
   "outputs": [
    {
     "data": {
      "text/html": [
       "<div>\n",
       "<style scoped>\n",
       "    .dataframe tbody tr th:only-of-type {\n",
       "        vertical-align: middle;\n",
       "    }\n",
       "\n",
       "    .dataframe tbody tr th {\n",
       "        vertical-align: top;\n",
       "    }\n",
       "\n",
       "    .dataframe thead th {\n",
       "        text-align: right;\n",
       "    }\n",
       "</style>\n",
       "<table border=\"1\" class=\"dataframe\">\n",
       "  <thead>\n",
       "    <tr style=\"text-align: right;\">\n",
       "      <th></th>\n",
       "      <th>SUBJECT_CUI</th>\n",
       "      <th>SUBJECT_NAME</th>\n",
       "      <th>SUBJECT_SEMTYPE</th>\n",
       "    </tr>\n",
       "  </thead>\n",
       "  <tbody>\n",
       "    <tr>\n",
       "      <th>1499</th>\n",
       "      <td>C0035587</td>\n",
       "      <td>Rickettsia prowazekii</td>\n",
       "      <td>rich</td>\n",
       "    </tr>\n",
       "    <tr>\n",
       "      <th>7037</th>\n",
       "      <td>C0010240</td>\n",
       "      <td>Coxiella burnetii</td>\n",
       "      <td>rich</td>\n",
       "    </tr>\n",
       "  </tbody>\n",
       "</table>\n",
       "</div>"
      ],
      "text/plain": [
       "     SUBJECT_CUI           SUBJECT_NAME SUBJECT_SEMTYPE\n",
       "1499    C0035587  Rickettsia prowazekii            rich\n",
       "7037    C0010240      Coxiella burnetii            rich"
      ]
     },
     "execution_count": 22,
     "metadata": {},
     "output_type": "execute_result"
    }
   ],
   "source": [
    "sem_df.query('SUBJECT_SEMTYPE == \"rich\"').head(2)[['SUBJECT_CUI', 'SUBJECT_NAME', 'SUBJECT_SEMTYPE']]"
   ]
  },
  {
   "cell_type": "code",
   "execution_count": 23,
   "metadata": {
    "collapsed": true
   },
   "outputs": [],
   "source": [
    "# Looked ups a few cuis with these and they are all of the living beings type, \n",
    "# so we will set these to that semtype\n",
    "abbv_to_super['invt'] = 'Living Beings'\n",
    "abbv_to_super['alga'] = 'Living Beings'\n",
    "abbv_to_super['rich'] = 'Living Beings'"
   ]
  },
  {
   "cell_type": "markdown",
   "metadata": {},
   "source": [
    "## Get the nodes ready to be put into a CSV\n",
    "\n",
    "We will use the Neo4j import format, with the column headers ID (unique ID), name (string name), and Label (node type)."
   ]
  },
  {
   "cell_type": "code",
   "execution_count": 24,
   "metadata": {},
   "outputs": [
    {
     "data": {
      "text/html": [
       "<div>\n",
       "<style scoped>\n",
       "    .dataframe tbody tr th:only-of-type {\n",
       "        vertical-align: middle;\n",
       "    }\n",
       "\n",
       "    .dataframe tbody tr th {\n",
       "        vertical-align: top;\n",
       "    }\n",
       "\n",
       "    .dataframe thead th {\n",
       "        text-align: right;\n",
       "    }\n",
       "</style>\n",
       "<table border=\"1\" class=\"dataframe\">\n",
       "  <thead>\n",
       "    <tr style=\"text-align: right;\">\n",
       "      <th></th>\n",
       "      <th>ID</th>\n",
       "      <th>name</th>\n",
       "      <th>LABEL</th>\n",
       "    </tr>\n",
       "  </thead>\n",
       "  <tbody>\n",
       "    <tr>\n",
       "      <th>0</th>\n",
       "      <td>C0040291</td>\n",
       "      <td>Tissue Extracts</td>\n",
       "      <td>Chemicals &amp; Drugs</td>\n",
       "    </tr>\n",
       "    <tr>\n",
       "      <th>1</th>\n",
       "      <td>C0005767</td>\n",
       "      <td>Blood</td>\n",
       "      <td>Anatomy</td>\n",
       "    </tr>\n",
       "    <tr>\n",
       "      <th>2</th>\n",
       "      <td>C0702166</td>\n",
       "      <td>Acne</td>\n",
       "      <td>Disorders</td>\n",
       "    </tr>\n",
       "    <tr>\n",
       "      <th>3</th>\n",
       "      <td>C0027809</td>\n",
       "      <td>Neurilemmoma</td>\n",
       "      <td>Disorders</td>\n",
       "    </tr>\n",
       "    <tr>\n",
       "      <th>4</th>\n",
       "      <td>C1010578</td>\n",
       "      <td>Spermophilus tridecemlineatus</td>\n",
       "      <td>Living Beings</td>\n",
       "    </tr>\n",
       "  </tbody>\n",
       "</table>\n",
       "</div>"
      ],
      "text/plain": [
       "         ID                           name              LABEL\n",
       "0  C0040291                Tissue Extracts  Chemicals & Drugs\n",
       "1  C0005767                          Blood            Anatomy\n",
       "2  C0702166                           Acne          Disorders\n",
       "3  C0027809                   Neurilemmoma          Disorders\n",
       "4  C1010578  Spermophilus tridecemlineatus      Living Beings"
      ]
     },
     "execution_count": 24,
     "metadata": {},
     "output_type": "execute_result"
    }
   ],
   "source": [
    "# Get the nodes ready to be in a CSV\n",
    "# We will use the N\n",
    "\n",
    "snodes = pd.DataFrame()\n",
    "onodes = pd.DataFrame()\n",
    "\n",
    "\n",
    "snodes['ID'] = sem_df['SUBJECT_CUI']\n",
    "snodes['name'] = sem_df['SUBJECT_NAME']\n",
    "snodes['label'] = sem_df['SUBJECT_SEMTYPE'].apply(lambda x: abbv_to_super.get(x))\n",
    "\n",
    "onodes['ID'] = sem_df['OBJECT_CUI']\n",
    "onodes['name'] = sem_df['OBJECT_NAME']\n",
    "onodes['label'] = sem_df['OBJECT_SEMTYPE'].apply(lambda x: abbv_to_super.get(x))\n",
    "\n",
    "\n",
    "nodes = pd.concat([snodes, onodes])\n",
    "nodes.drop_duplicates(inplace=True)\n",
    "nodes = nodes.reset_index(drop=True)\n",
    "\n",
    "nodes.head()"
   ]
  },
  {
   "cell_type": "code",
   "execution_count": 25,
   "metadata": {},
   "outputs": [
    {
     "name": "stdout",
     "output_type": "stream",
     "text": [
      "There are 293772 entries and 257243 unique IDs\n",
      "71595 IDs have been found to have multiple semantic types\n"
     ]
    }
   ],
   "source": [
    "print('There are {} entries and {} unique IDs'.format(nodes.shape[0], nodes['ID'].nunique()))\n",
    "0\n",
    "num_duped = nodes[nodes.duplicated(subset='ID', keep=False)].drop_duplicates().shape[0]\n",
    "print('{} IDs have been found to have multiple semantic types'.format(num_duped))"
   ]
  },
  {
   "cell_type": "markdown",
   "metadata": {},
   "source": [
    "See if there are any untyped nodes"
   ]
  },
  {
   "cell_type": "code",
   "execution_count": 26,
   "metadata": {},
   "outputs": [
    {
     "data": {
      "text/html": [
       "<div>\n",
       "<style scoped>\n",
       "    .dataframe tbody tr th:only-of-type {\n",
       "        vertical-align: middle;\n",
       "    }\n",
       "\n",
       "    .dataframe tbody tr th {\n",
       "        vertical-align: top;\n",
       "    }\n",
       "\n",
       "    .dataframe thead th {\n",
       "        text-align: right;\n",
       "    }\n",
       "</style>\n",
       "<table border=\"1\" class=\"dataframe\">\n",
       "  <thead>\n",
       "    <tr style=\"text-align: right;\">\n",
       "      <th></th>\n",
       "      <th>ID</th>\n",
       "      <th>name</th>\n",
       "      <th>LABEL</th>\n",
       "    </tr>\n",
       "  </thead>\n",
       "  <tbody>\n",
       "  </tbody>\n",
       "</table>\n",
       "</div>"
      ],
      "text/plain": [
       "Empty DataFrame\n",
       "Columns: [ID, name, LABEL]\n",
       "Index: []"
      ]
     },
     "execution_count": 26,
     "metadata": {},
     "output_type": "execute_result"
    }
   ],
   "source": [
    "no_semtype = nodes.isnull().sum(axis=1).astype(bool)\n",
    "nodes[no_semtype]"
   ]
  },
  {
   "cell_type": "markdown",
   "metadata": {},
   "source": [
    "## Fix semmantic types using the UMLS Metathesaurus\n",
    "\n",
    "Let's not guess and go directly to the source to make sure the types are correct"
   ]
  },
  {
   "cell_type": "markdown",
   "metadata": {},
   "source": [
    "#### First need a map from CUI to T-code for semmantics"
   ]
  },
  {
   "cell_type": "code",
   "execution_count": 27,
   "metadata": {},
   "outputs": [
    {
     "name": "stderr",
     "output_type": "stream",
     "text": [
      "100%|██████████| 3962617/3962617 [00:06<00:00, 635034.65it/s]\n"
     ]
    }
   ],
   "source": [
    "mrsty = load_umls.open_mrsty()\n",
    "\n",
    "cui_to_t_code = defaultdict(list)\n",
    "\n",
    "col_names = mrsty.columns.tolist()\n",
    "cui_idx = col_names.index('CUI')\n",
    "t_idx = col_names.index('TUI')\n",
    "\n",
    "for line in tqdm(mrsty.itertuples(index=False, name=None), total=len(mrsty)):\n",
    "    \n",
    "    cui_to_t_code[line[cui_idx]].append(line[t_idx])"
   ]
  },
  {
   "cell_type": "code",
   "execution_count": 28,
   "metadata": {},
   "outputs": [
    {
     "name": "stdout",
     "output_type": "stream",
     "text": [
      "C4127496 ['T204']\n",
      "C0407156 ['T061']\n",
      "C1444390 ['T058']\n",
      "C0278707 ['T061']\n",
      "C3002410 ['T002']\n",
      "C3493400 ['T116', 'T123']\n",
      "C4386023 ['T013']\n",
      "C1471413 ['T007']\n",
      "C2676830 ['T028']\n",
      "C3934002 ['T004']\n",
      "C2141718 ['T033']\n"
     ]
    }
   ],
   "source": [
    "for i, (k, v) in enumerate(cui_to_t_code.items()):\n",
    "    print(k, v)\n",
    "    if i==10:\n",
    "        break"
   ]
  },
  {
   "cell_type": "markdown",
   "metadata": {},
   "source": [
    "Some have multiple codes, but if they have the same Super-Semtype, not an issue"
   ]
  },
  {
   "cell_type": "markdown",
   "metadata": {},
   "source": [
    "#### Get a map from T-code to super semmantic type"
   ]
  },
  {
   "cell_type": "code",
   "execution_count": 29,
   "metadata": {
    "collapsed": true
   },
   "outputs": [],
   "source": [
    "# ANAT|Anatomy|T017|Anatomical Structure\n",
    "\n",
    "t_code_to_super = dict()\n",
    "with open('../data/SemGroups_2013.txt') as fin:\n",
    "    for line in fin:\n",
    "        line = line.strip()\n",
    "        ls = line.split('|')\n",
    "        t_code_to_super[ls[2]] = ls[1]"
   ]
  },
  {
   "cell_type": "markdown",
   "metadata": {},
   "source": [
    "#### Get a map from CUI to super semmantic type"
   ]
  },
  {
   "cell_type": "code",
   "execution_count": 30,
   "metadata": {},
   "outputs": [
    {
     "data": {
      "text/plain": [
       "['T075', 'T170']"
      ]
     },
     "execution_count": 30,
     "metadata": {},
     "output_type": "execute_result"
    }
   ],
   "source": [
    "cui_to_t_code['C0026341']"
   ]
  },
  {
   "cell_type": "code",
   "execution_count": 31,
   "metadata": {},
   "outputs": [
    {
     "data": {
      "text/plain": [
       "'Devices'"
      ]
     },
     "execution_count": 31,
     "metadata": {},
     "output_type": "execute_result"
    }
   ],
   "source": [
    "t_code_to_super['T075']"
   ]
  },
  {
   "cell_type": "code",
   "execution_count": 32,
   "metadata": {},
   "outputs": [
    {
     "data": {
      "text/plain": [
       "'Concepts & Ideas'"
      ]
     },
     "execution_count": 32,
     "metadata": {},
     "output_type": "execute_result"
    }
   ],
   "source": [
    "t_code_to_super['T170']"
   ]
  },
  {
   "cell_type": "code",
   "execution_count": 33,
   "metadata": {},
   "outputs": [
    {
     "data": {
      "text/plain": [
       "['T109', 'T121', 'T131']"
      ]
     },
     "execution_count": 33,
     "metadata": {},
     "output_type": "execute_result"
    }
   ],
   "source": [
    "cui_to_t_code['C0086711']"
   ]
  },
  {
   "cell_type": "code",
   "execution_count": 34,
   "metadata": {},
   "outputs": [
    {
     "data": {
      "text/plain": [
       "('Chemicals & Drugs', 'Chemicals & Drugs', 'Chemicals & Drugs')"
      ]
     },
     "execution_count": 34,
     "metadata": {},
     "output_type": "execute_result"
    }
   ],
   "source": [
    "t_code_to_super['T109'], t_code_to_super['T131'], t_code_to_super['T121']"
   ]
  },
  {
   "cell_type": "code",
   "execution_count": 35,
   "metadata": {},
   "outputs": [
    {
     "name": "stdout",
     "output_type": "stream",
     "text": [
      "There are 1586 CUIs with multiple Supertypes...\n"
     ]
    }
   ],
   "source": [
    "cui_to_super = dict()\n",
    "issues = dict()\n",
    "\n",
    "for k, v in cui_to_t_code.items():\n",
    "    # Only 1 T-Code, so map to its super semmantic type\n",
    "    if len(v) == 1:\n",
    "        cui_to_super[k] = t_code_to_super[v[0]]\n",
    "    else:\n",
    "        # Most multiple T-Codes should have the same supertype\n",
    "        v_set = set([t_code_to_super[x] for x in v])\n",
    "        if len(v_set) == 1:\n",
    "            cui_to_super[k] = v_set.pop()\n",
    "        # If they don't have the same supertype, return as a list...\n",
    "        else:\n",
    "            # If nothing prints they we have true 1-1 mapping and noting to worry about\n",
    "            issues[k] = v_set\n",
    "            \n",
    "if issues:\n",
    "    print('There are {} CUIs with multiple Supertypes...'.format(len(issues)))"
   ]
  },
  {
   "cell_type": "markdown",
   "metadata": {},
   "source": [
    "## Fix Multiple Semtypes\n",
    "\n",
    "There are some CUIs that map to multiple Super-Semtypes.... Unfortunaltely these will have to be treated as judgement calls and fixed by hand."
   ]
  },
  {
   "cell_type": "code",
   "execution_count": 36,
   "metadata": {
    "scrolled": true
   },
   "outputs": [
    {
     "data": {
      "text/plain": [
       "['Activities & Behaviors | Concepts & Ideas',\n",
       " 'Activities & Behaviors | Procedures',\n",
       " 'Anatomy | Chemicals & Drugs',\n",
       " 'Chemicals & Drugs | Devices',\n",
       " 'Chemicals & Drugs | Genes & Molecular Sequences',\n",
       " 'Chemicals & Drugs | Objects',\n",
       " 'Chemicals & Drugs | Phenomena',\n",
       " 'Concepts & Ideas | Devices',\n",
       " 'Concepts & Ideas | Objects',\n",
       " 'Concepts & Ideas | Procedures',\n",
       " 'Objects | Organizations']"
      ]
     },
     "execution_count": 36,
     "metadata": {},
     "output_type": "execute_result"
    }
   ],
   "source": [
    "# See what kind of semtypes pair together... Can we make some kind of choice to overcome conflict?\n",
    "multi_sems = sorted(list(set([' | '.join(sorted(list(v))) for v in issues.values()])))\n",
    "multi_sems"
   ]
  },
  {
   "cell_type": "code",
   "execution_count": 37,
   "metadata": {},
   "outputs": [],
   "source": [
    "def examine_problem_cuis(combined):\n",
    "    type_1, type_2 = combined.split(' | ')\n",
    "    \n",
    "    problems = []\n",
    "\n",
    "    for k, v in issues.items():\n",
    "        if type_1 in v and type_2 in v:\n",
    "            problems.append(k)\n",
    "        \n",
    "    return nodes.query('ID in @problems')[['ID', 'name']].drop_duplicates()"
   ]
  },
  {
   "cell_type": "markdown",
   "metadata": {},
   "source": [
    "Since the semmantic map was originally from umls, some of the CUIs may not be in the nodes.  So not all will need to be examined and fixed."
   ]
  },
  {
   "cell_type": "code",
   "execution_count": 38,
   "metadata": {},
   "outputs": [
    {
     "name": "stdout",
     "output_type": "stream",
     "text": [
      "Activities & Behaviors | Concepts & Ideas: 10\n",
      "Activities & Behaviors | Procedures: 2\n",
      "Anatomy | Chemicals & Drugs: 3\n",
      "Chemicals & Drugs | Devices: 0\n",
      "Chemicals & Drugs | Genes & Molecular Sequences: 4\n",
      "Chemicals & Drugs | Objects: 47\n",
      "Chemicals & Drugs | Phenomena: 4\n",
      "Concepts & Ideas | Devices: 1\n",
      "Concepts & Ideas | Objects: 59\n",
      "Concepts & Ideas | Procedures: 73\n",
      "Objects | Organizations: 224\n"
     ]
    }
   ],
   "source": [
    "for m in multi_sems:\n",
    "    print('{}: {}'.format(m, len(examine_problem_cuis(m))))"
   ]
  },
  {
   "cell_type": "markdown",
   "metadata": {},
   "source": [
    "Start with some of the smaller ones first, see if there's an obvious answer to resolve..."
   ]
  },
  {
   "cell_type": "code",
   "execution_count": 39,
   "metadata": {},
   "outputs": [
    {
     "name": "stdout",
     "output_type": "stream",
     "text": [
      "Activities & Behaviors | Procedures\n"
     ]
    },
    {
     "data": {
      "text/html": [
       "<div>\n",
       "<style scoped>\n",
       "    .dataframe tbody tr th:only-of-type {\n",
       "        vertical-align: middle;\n",
       "    }\n",
       "\n",
       "    .dataframe tbody tr th {\n",
       "        vertical-align: top;\n",
       "    }\n",
       "\n",
       "    .dataframe thead th {\n",
       "        text-align: right;\n",
       "    }\n",
       "</style>\n",
       "<table border=\"1\" class=\"dataframe\">\n",
       "  <thead>\n",
       "    <tr style=\"text-align: right;\">\n",
       "      <th></th>\n",
       "      <th>ID</th>\n",
       "      <th>name</th>\n",
       "    </tr>\n",
       "  </thead>\n",
       "  <tbody>\n",
       "    <tr>\n",
       "      <th>79024</th>\n",
       "      <td>C0009597</td>\n",
       "      <td>Computer-Assisted Instruction</td>\n",
       "    </tr>\n",
       "    <tr>\n",
       "      <th>117938</th>\n",
       "      <td>C1510551</td>\n",
       "      <td>Intelligent Tutoring Systems</td>\n",
       "    </tr>\n",
       "  </tbody>\n",
       "</table>\n",
       "</div>"
      ],
      "text/plain": [
       "              ID                           name\n",
       "79024   C0009597  Computer-Assisted Instruction\n",
       "117938  C1510551   Intelligent Tutoring Systems"
      ]
     },
     "execution_count": 39,
     "metadata": {},
     "output_type": "execute_result"
    }
   ],
   "source": [
    "idx = 1\n",
    "\n",
    "print(multi_sems[idx])\n",
    "examine_problem_cuis(multi_sems[idx])"
   ]
  },
  {
   "cell_type": "markdown",
   "metadata": {},
   "source": [
    "Not missiion critical, but I think Procedures fits better here..."
   ]
  },
  {
   "cell_type": "code",
   "execution_count": 40,
   "metadata": {
    "collapsed": true
   },
   "outputs": [],
   "source": [
    "# Make a function to fix the mapings for these IDs\n",
    "def set_semtype(problems, new_sem):\n",
    "    res = examine_problem_cuis(problems).copy()\n",
    "    res['type'] = new_sem\n",
    "    return res.set_index('ID')['type'].to_dict()"
   ]
  },
  {
   "cell_type": "code",
   "execution_count": 41,
   "metadata": {},
   "outputs": [
    {
     "data": {
      "text/plain": [
       "{'C0009597': 'Procedures', 'C1510551': 'Procedures'}"
      ]
     },
     "execution_count": 41,
     "metadata": {},
     "output_type": "execute_result"
    }
   ],
   "source": [
    "fixed_sems = {}\n",
    "\n",
    "fixed_sems.update(set_semtype(multi_sems[idx], 'Procedures'))\n",
    "fixed_sems"
   ]
  },
  {
   "cell_type": "code",
   "execution_count": 42,
   "metadata": {},
   "outputs": [
    {
     "name": "stdout",
     "output_type": "stream",
     "text": [
      "Anatomy | Chemicals & Drugs\n"
     ]
    },
    {
     "data": {
      "text/html": [
       "<div>\n",
       "<style scoped>\n",
       "    .dataframe tbody tr th:only-of-type {\n",
       "        vertical-align: middle;\n",
       "    }\n",
       "\n",
       "    .dataframe tbody tr th {\n",
       "        vertical-align: top;\n",
       "    }\n",
       "\n",
       "    .dataframe thead th {\n",
       "        text-align: right;\n",
       "    }\n",
       "</style>\n",
       "<table border=\"1\" class=\"dataframe\">\n",
       "  <thead>\n",
       "    <tr style=\"text-align: right;\">\n",
       "      <th></th>\n",
       "      <th>ID</th>\n",
       "      <th>name</th>\n",
       "    </tr>\n",
       "  </thead>\n",
       "  <tbody>\n",
       "    <tr>\n",
       "      <th>131983</th>\n",
       "      <td>C0879593</td>\n",
       "      <td>autologous dendritic cells</td>\n",
       "    </tr>\n",
       "    <tr>\n",
       "      <th>162198</th>\n",
       "      <td>C1328049</td>\n",
       "      <td>LMP2A-specific cytotoxic T-lymphocytes</td>\n",
       "    </tr>\n",
       "    <tr>\n",
       "      <th>175554</th>\n",
       "      <td>C1516687</td>\n",
       "      <td>Coactivated T Cell</td>\n",
       "    </tr>\n",
       "  </tbody>\n",
       "</table>\n",
       "</div>"
      ],
      "text/plain": [
       "              ID                                    name\n",
       "131983  C0879593              autologous dendritic cells\n",
       "162198  C1328049  LMP2A-specific cytotoxic T-lymphocytes\n",
       "175554  C1516687                      Coactivated T Cell"
      ]
     },
     "execution_count": 42,
     "metadata": {},
     "output_type": "execute_result"
    }
   ],
   "source": [
    "idx = 2\n",
    "\n",
    "print(multi_sems[idx])\n",
    "examine_problem_cuis(multi_sems[idx])"
   ]
  },
  {
   "cell_type": "markdown",
   "metadata": {},
   "source": [
    "These seem more like a Anatomy (cell-type) than a Chemical, so we'll go with that"
   ]
  },
  {
   "cell_type": "code",
   "execution_count": 43,
   "metadata": {},
   "outputs": [
    {
     "data": {
      "text/plain": [
       "{'C0009597': 'Procedures',\n",
       " 'C0879593': 'Anatomy',\n",
       " 'C1328049': 'Anatomy',\n",
       " 'C1510551': 'Procedures',\n",
       " 'C1516687': 'Anatomy'}"
      ]
     },
     "execution_count": 43,
     "metadata": {},
     "output_type": "execute_result"
    }
   ],
   "source": [
    "fixed_sems.update(set_semtype(multi_sems[idx], 'Anatomy'))\n",
    "fixed_sems"
   ]
  },
  {
   "cell_type": "code",
   "execution_count": 44,
   "metadata": {
    "scrolled": true
   },
   "outputs": [
    {
     "name": "stdout",
     "output_type": "stream",
     "text": [
      "Chemicals & Drugs | Genes & Molecular Sequences\n"
     ]
    },
    {
     "data": {
      "text/html": [
       "<div>\n",
       "<style scoped>\n",
       "    .dataframe tbody tr th:only-of-type {\n",
       "        vertical-align: middle;\n",
       "    }\n",
       "\n",
       "    .dataframe tbody tr th {\n",
       "        vertical-align: top;\n",
       "    }\n",
       "\n",
       "    .dataframe thead th {\n",
       "        text-align: right;\n",
       "    }\n",
       "</style>\n",
       "<table border=\"1\" class=\"dataframe\">\n",
       "  <thead>\n",
       "    <tr style=\"text-align: right;\">\n",
       "      <th></th>\n",
       "      <th>ID</th>\n",
       "      <th>name</th>\n",
       "    </tr>\n",
       "  </thead>\n",
       "  <tbody>\n",
       "    <tr>\n",
       "      <th>58271</th>\n",
       "      <td>C0017272</td>\n",
       "      <td>Gene Library</td>\n",
       "    </tr>\n",
       "    <tr>\n",
       "      <th>63289</th>\n",
       "      <td>C0751608</td>\n",
       "      <td>cDNA Library</td>\n",
       "    </tr>\n",
       "    <tr>\n",
       "      <th>63388</th>\n",
       "      <td>C0017430</td>\n",
       "      <td>Genomic Library</td>\n",
       "    </tr>\n",
       "    <tr>\n",
       "      <th>71149</th>\n",
       "      <td>C0872147</td>\n",
       "      <td>DNA Library</td>\n",
       "    </tr>\n",
       "  </tbody>\n",
       "</table>\n",
       "</div>"
      ],
      "text/plain": [
       "             ID             name\n",
       "58271  C0017272     Gene Library\n",
       "63289  C0751608     cDNA Library\n",
       "63388  C0017430  Genomic Library\n",
       "71149  C0872147      DNA Library"
      ]
     },
     "execution_count": 44,
     "metadata": {},
     "output_type": "execute_result"
    }
   ],
   "source": [
    "idx = 4\n",
    "\n",
    "print(multi_sems[idx])\n",
    "examine_problem_cuis(multi_sems[idx])"
   ]
  },
  {
   "cell_type": "markdown",
   "metadata": {},
   "source": [
    "These seem like pretty generic concepts... could go either way, but we'll set them to Genes & Molecular Sequences"
   ]
  },
  {
   "cell_type": "code",
   "execution_count": 45,
   "metadata": {},
   "outputs": [
    {
     "data": {
      "text/plain": [
       "{'C0009597': 'Procedures',\n",
       " 'C0017272': 'Genes & Molecular Sequences',\n",
       " 'C0017430': 'Genes & Molecular Sequences',\n",
       " 'C0751608': 'Genes & Molecular Sequences',\n",
       " 'C0872147': 'Genes & Molecular Sequences',\n",
       " 'C0879593': 'Anatomy',\n",
       " 'C1328049': 'Anatomy',\n",
       " 'C1510551': 'Procedures',\n",
       " 'C1516687': 'Anatomy'}"
      ]
     },
     "execution_count": 45,
     "metadata": {},
     "output_type": "execute_result"
    }
   ],
   "source": [
    "fixed_sems.update(set_semtype(multi_sems[idx], 'Genes & Molecular Sequences'))\n",
    "fixed_sems"
   ]
  },
  {
   "cell_type": "code",
   "execution_count": 46,
   "metadata": {
    "scrolled": true
   },
   "outputs": [
    {
     "name": "stdout",
     "output_type": "stream",
     "text": [
      "Chemicals & Drugs | Phenomena\n"
     ]
    },
    {
     "data": {
      "text/html": [
       "<div>\n",
       "<style scoped>\n",
       "    .dataframe tbody tr th:only-of-type {\n",
       "        vertical-align: middle;\n",
       "    }\n",
       "\n",
       "    .dataframe tbody tr th {\n",
       "        vertical-align: top;\n",
       "    }\n",
       "\n",
       "    .dataframe thead th {\n",
       "        text-align: right;\n",
       "    }\n",
       "</style>\n",
       "<table border=\"1\" class=\"dataframe\">\n",
       "  <thead>\n",
       "    <tr style=\"text-align: right;\">\n",
       "      <th></th>\n",
       "      <th>ID</th>\n",
       "      <th>name</th>\n",
       "    </tr>\n",
       "  </thead>\n",
       "  <tbody>\n",
       "    <tr>\n",
       "      <th>36548</th>\n",
       "      <td>C0034549</td>\n",
       "      <td>Radioactive Fallout</td>\n",
       "    </tr>\n",
       "    <tr>\n",
       "      <th>53522</th>\n",
       "      <td>C0021265</td>\n",
       "      <td>Industrial Waste</td>\n",
       "    </tr>\n",
       "    <tr>\n",
       "      <th>55037</th>\n",
       "      <td>C0034552</td>\n",
       "      <td>Radioactive Waste</td>\n",
       "    </tr>\n",
       "    <tr>\n",
       "      <th>84024</th>\n",
       "      <td>C0001111</td>\n",
       "      <td>Acid Rain</td>\n",
       "    </tr>\n",
       "  </tbody>\n",
       "</table>\n",
       "</div>"
      ],
      "text/plain": [
       "             ID                 name\n",
       "36548  C0034549  Radioactive Fallout\n",
       "53522  C0021265     Industrial Waste\n",
       "55037  C0034552    Radioactive Waste\n",
       "84024  C0001111            Acid Rain"
      ]
     },
     "execution_count": 46,
     "metadata": {},
     "output_type": "execute_result"
    }
   ],
   "source": [
    "idx = 6\n",
    "\n",
    "print(multi_sems[idx])\n",
    "examine_problem_cuis(multi_sems[idx])"
   ]
  },
  {
   "cell_type": "markdown",
   "metadata": {},
   "source": [
    "Again, these seem like pretty generic concepts... we'll set them to Phenomena"
   ]
  },
  {
   "cell_type": "code",
   "execution_count": 47,
   "metadata": {},
   "outputs": [
    {
     "data": {
      "text/plain": [
       "{'C0001111': 'Phenomena',\n",
       " 'C0009597': 'Procedures',\n",
       " 'C0017272': 'Genes & Molecular Sequences',\n",
       " 'C0017430': 'Genes & Molecular Sequences',\n",
       " 'C0021265': 'Phenomena',\n",
       " 'C0034549': 'Phenomena',\n",
       " 'C0034552': 'Phenomena',\n",
       " 'C0751608': 'Genes & Molecular Sequences',\n",
       " 'C0872147': 'Genes & Molecular Sequences',\n",
       " 'C0879593': 'Anatomy',\n",
       " 'C1328049': 'Anatomy',\n",
       " 'C1510551': 'Procedures',\n",
       " 'C1516687': 'Anatomy'}"
      ]
     },
     "execution_count": 47,
     "metadata": {},
     "output_type": "execute_result"
    }
   ],
   "source": [
    "fixed_sems.update(set_semtype(multi_sems[idx], 'Phenomena'))\n",
    "fixed_sems"
   ]
  },
  {
   "cell_type": "code",
   "execution_count": 48,
   "metadata": {
    "scrolled": false
   },
   "outputs": [
    {
     "name": "stdout",
     "output_type": "stream",
     "text": [
      "Concepts & Ideas | Devices\n"
     ]
    },
    {
     "data": {
      "text/html": [
       "<div>\n",
       "<style scoped>\n",
       "    .dataframe tbody tr th:only-of-type {\n",
       "        vertical-align: middle;\n",
       "    }\n",
       "\n",
       "    .dataframe tbody tr th {\n",
       "        vertical-align: top;\n",
       "    }\n",
       "\n",
       "    .dataframe thead th {\n",
       "        text-align: right;\n",
       "    }\n",
       "</style>\n",
       "<table border=\"1\" class=\"dataframe\">\n",
       "  <thead>\n",
       "    <tr style=\"text-align: right;\">\n",
       "      <th></th>\n",
       "      <th>ID</th>\n",
       "      <th>name</th>\n",
       "    </tr>\n",
       "  </thead>\n",
       "  <tbody>\n",
       "    <tr>\n",
       "      <th>111871</th>\n",
       "      <td>C0026341</td>\n",
       "      <td>Models, Chemical</td>\n",
       "    </tr>\n",
       "  </tbody>\n",
       "</table>\n",
       "</div>"
      ],
      "text/plain": [
       "              ID              name\n",
       "111871  C0026341  Models, Chemical"
      ]
     },
     "execution_count": 48,
     "metadata": {},
     "output_type": "execute_result"
    }
   ],
   "source": [
    "idx = 7\n",
    "\n",
    "print(multi_sems[idx])\n",
    "examine_problem_cuis(multi_sems[idx])"
   ]
  },
  {
   "cell_type": "markdown",
   "metadata": {},
   "source": [
    "More of a concept..."
   ]
  },
  {
   "cell_type": "code",
   "execution_count": 49,
   "metadata": {
    "scrolled": false
   },
   "outputs": [
    {
     "data": {
      "text/plain": [
       "{'C0001111': 'Phenomena',\n",
       " 'C0009597': 'Procedures',\n",
       " 'C0017272': 'Genes & Molecular Sequences',\n",
       " 'C0017430': 'Genes & Molecular Sequences',\n",
       " 'C0021265': 'Phenomena',\n",
       " 'C0026341': 'Concepts & Ideas',\n",
       " 'C0034549': 'Phenomena',\n",
       " 'C0034552': 'Phenomena',\n",
       " 'C0751608': 'Genes & Molecular Sequences',\n",
       " 'C0872147': 'Genes & Molecular Sequences',\n",
       " 'C0879593': 'Anatomy',\n",
       " 'C1328049': 'Anatomy',\n",
       " 'C1510551': 'Procedures',\n",
       " 'C1516687': 'Anatomy'}"
      ]
     },
     "execution_count": 49,
     "metadata": {},
     "output_type": "execute_result"
    }
   ],
   "source": [
    "fixed_sems.update(set_semtype(multi_sems[idx], 'Concepts & Ideas'))\n",
    "fixed_sems"
   ]
  },
  {
   "cell_type": "code",
   "execution_count": 50,
   "metadata": {
    "scrolled": false
   },
   "outputs": [
    {
     "name": "stdout",
     "output_type": "stream",
     "text": [
      "Activities & Behaviors | Concepts & Ideas\n"
     ]
    },
    {
     "data": {
      "text/html": [
       "<div>\n",
       "<style scoped>\n",
       "    .dataframe tbody tr th:only-of-type {\n",
       "        vertical-align: middle;\n",
       "    }\n",
       "\n",
       "    .dataframe tbody tr th {\n",
       "        vertical-align: top;\n",
       "    }\n",
       "\n",
       "    .dataframe thead th {\n",
       "        text-align: right;\n",
       "    }\n",
       "</style>\n",
       "<table border=\"1\" class=\"dataframe\">\n",
       "  <thead>\n",
       "    <tr style=\"text-align: right;\">\n",
       "      <th></th>\n",
       "      <th>ID</th>\n",
       "      <th>name</th>\n",
       "    </tr>\n",
       "  </thead>\n",
       "  <tbody>\n",
       "    <tr>\n",
       "      <th>86135</th>\n",
       "      <td>C0032675</td>\n",
       "      <td>Population Policy</td>\n",
       "    </tr>\n",
       "    <tr>\n",
       "      <th>125082</th>\n",
       "      <td>C0037429</td>\n",
       "      <td>Social Policy</td>\n",
       "    </tr>\n",
       "    <tr>\n",
       "      <th>137835</th>\n",
       "      <td>C0680807</td>\n",
       "      <td>war on drugs</td>\n",
       "    </tr>\n",
       "    <tr>\n",
       "      <th>214822</th>\n",
       "      <td>C0011752</td>\n",
       "      <td>Development Policy</td>\n",
       "    </tr>\n",
       "    <tr>\n",
       "      <th>225803</th>\n",
       "      <td>C0683733</td>\n",
       "      <td>foreign policy</td>\n",
       "    </tr>\n",
       "    <tr>\n",
       "      <th>240323</th>\n",
       "      <td>C0683732</td>\n",
       "      <td>energy policy</td>\n",
       "    </tr>\n",
       "    <tr>\n",
       "      <th>262492</th>\n",
       "      <td>C0026099</td>\n",
       "      <td>Migration Policy</td>\n",
       "    </tr>\n",
       "    <tr>\n",
       "      <th>265896</th>\n",
       "      <td>C0871863</td>\n",
       "      <td>Professional Examinations</td>\n",
       "    </tr>\n",
       "    <tr>\n",
       "      <th>271802</th>\n",
       "      <td>C0007835</td>\n",
       "      <td>Certificate of Need</td>\n",
       "    </tr>\n",
       "    <tr>\n",
       "      <th>273941</th>\n",
       "      <td>C0871802</td>\n",
       "      <td>Licensure Examinations</td>\n",
       "    </tr>\n",
       "  </tbody>\n",
       "</table>\n",
       "</div>"
      ],
      "text/plain": [
       "              ID                       name\n",
       "86135   C0032675          Population Policy\n",
       "125082  C0037429              Social Policy\n",
       "137835  C0680807               war on drugs\n",
       "214822  C0011752         Development Policy\n",
       "225803  C0683733             foreign policy\n",
       "240323  C0683732              energy policy\n",
       "262492  C0026099           Migration Policy\n",
       "265896  C0871863  Professional Examinations\n",
       "271802  C0007835        Certificate of Need\n",
       "273941  C0871802     Licensure Examinations"
      ]
     },
     "execution_count": 50,
     "metadata": {},
     "output_type": "execute_result"
    }
   ],
   "source": [
    "idx = 0\n",
    "\n",
    "print(multi_sems[idx])\n",
    "examine_problem_cuis(multi_sems[idx])"
   ]
  },
  {
   "cell_type": "markdown",
   "metadata": {},
   "source": [
    "These also seem to be more of Concepts than Activities and Behaviors... "
   ]
  },
  {
   "cell_type": "code",
   "execution_count": 51,
   "metadata": {
    "scrolled": false
   },
   "outputs": [
    {
     "data": {
      "text/plain": [
       "{'C0001111': 'Phenomena',\n",
       " 'C0007835': 'Concepts & Ideas',\n",
       " 'C0009597': 'Procedures',\n",
       " 'C0011752': 'Concepts & Ideas',\n",
       " 'C0017272': 'Genes & Molecular Sequences',\n",
       " 'C0017430': 'Genes & Molecular Sequences',\n",
       " 'C0021265': 'Phenomena',\n",
       " 'C0026099': 'Concepts & Ideas',\n",
       " 'C0026341': 'Concepts & Ideas',\n",
       " 'C0032675': 'Concepts & Ideas',\n",
       " 'C0034549': 'Phenomena',\n",
       " 'C0034552': 'Phenomena',\n",
       " 'C0037429': 'Concepts & Ideas',\n",
       " 'C0680807': 'Concepts & Ideas',\n",
       " 'C0683732': 'Concepts & Ideas',\n",
       " 'C0683733': 'Concepts & Ideas',\n",
       " 'C0751608': 'Genes & Molecular Sequences',\n",
       " 'C0871802': 'Concepts & Ideas',\n",
       " 'C0871863': 'Concepts & Ideas',\n",
       " 'C0872147': 'Genes & Molecular Sequences',\n",
       " 'C0879593': 'Anatomy',\n",
       " 'C1328049': 'Anatomy',\n",
       " 'C1510551': 'Procedures',\n",
       " 'C1516687': 'Anatomy'}"
      ]
     },
     "execution_count": 51,
     "metadata": {},
     "output_type": "execute_result"
    }
   ],
   "source": [
    "fixed_sems.update(set_semtype(multi_sems[idx], 'Concepts & Ideas'))\n",
    "fixed_sems"
   ]
  },
  {
   "cell_type": "markdown",
   "metadata": {},
   "source": [
    "The shorter ones are done... now we'll look at the longer ones by taking a random sample of ~20 from each"
   ]
  },
  {
   "cell_type": "code",
   "execution_count": 52,
   "metadata": {},
   "outputs": [
    {
     "name": "stdout",
     "output_type": "stream",
     "text": [
      "Chemicals & Drugs | Objects\n"
     ]
    },
    {
     "data": {
      "text/html": [
       "<div>\n",
       "<style scoped>\n",
       "    .dataframe tbody tr th:only-of-type {\n",
       "        vertical-align: middle;\n",
       "    }\n",
       "\n",
       "    .dataframe tbody tr th {\n",
       "        vertical-align: top;\n",
       "    }\n",
       "\n",
       "    .dataframe thead th {\n",
       "        text-align: right;\n",
       "    }\n",
       "</style>\n",
       "<table border=\"1\" class=\"dataframe\">\n",
       "  <thead>\n",
       "    <tr style=\"text-align: right;\">\n",
       "      <th></th>\n",
       "      <th>ID</th>\n",
       "      <th>name</th>\n",
       "    </tr>\n",
       "  </thead>\n",
       "  <tbody>\n",
       "    <tr>\n",
       "      <th>18623</th>\n",
       "      <td>C0042438</td>\n",
       "      <td>Vegetable Oils</td>\n",
       "    </tr>\n",
       "    <tr>\n",
       "      <th>290987</th>\n",
       "      <td>C1445804</td>\n",
       "      <td>Pumpkin seed oil extract</td>\n",
       "    </tr>\n",
       "    <tr>\n",
       "      <th>59881</th>\n",
       "      <td>C1509841</td>\n",
       "      <td>HYDROGENATED SOYBEAN OIL</td>\n",
       "    </tr>\n",
       "    <tr>\n",
       "      <th>121960</th>\n",
       "      <td>C0054634</td>\n",
       "      <td>caramel</td>\n",
       "    </tr>\n",
       "    <tr>\n",
       "      <th>119725</th>\n",
       "      <td>C0458160</td>\n",
       "      <td>Grapeseed oil</td>\n",
       "    </tr>\n",
       "    <tr>\n",
       "      <th>20795</th>\n",
       "      <td>C0075639</td>\n",
       "      <td>sunflower seed oil</td>\n",
       "    </tr>\n",
       "    <tr>\n",
       "      <th>48405</th>\n",
       "      <td>C0376597</td>\n",
       "      <td>Dietary Sucrose</td>\n",
       "    </tr>\n",
       "    <tr>\n",
       "      <th>19792</th>\n",
       "      <td>C0244994</td>\n",
       "      <td>Wheat germ oil</td>\n",
       "    </tr>\n",
       "    <tr>\n",
       "      <th>12313</th>\n",
       "      <td>C0072982</td>\n",
       "      <td>rapeseed oil</td>\n",
       "    </tr>\n",
       "    <tr>\n",
       "      <th>73019</th>\n",
       "      <td>C0682953</td>\n",
       "      <td>saturated dietary fat</td>\n",
       "    </tr>\n",
       "    <tr>\n",
       "      <th>14757</th>\n",
       "      <td>C0376596</td>\n",
       "      <td>Sugars, Dietary</td>\n",
       "    </tr>\n",
       "    <tr>\n",
       "      <th>145261</th>\n",
       "      <td>C1177183</td>\n",
       "      <td>SAGE OIL</td>\n",
       "    </tr>\n",
       "    <tr>\n",
       "      <th>55269</th>\n",
       "      <td>C0982306</td>\n",
       "      <td>PALM KERNEL OIL</td>\n",
       "    </tr>\n",
       "    <tr>\n",
       "      <th>76077</th>\n",
       "      <td>C0070325</td>\n",
       "      <td>Peppermint oil</td>\n",
       "    </tr>\n",
       "    <tr>\n",
       "      <th>201678</th>\n",
       "      <td>C0304095</td>\n",
       "      <td>Anise oil</td>\n",
       "    </tr>\n",
       "    <tr>\n",
       "      <th>19109</th>\n",
       "      <td>C0010029</td>\n",
       "      <td>Corn Oil</td>\n",
       "    </tr>\n",
       "    <tr>\n",
       "      <th>171246</th>\n",
       "      <td>C0304098</td>\n",
       "      <td>Cardamom oil</td>\n",
       "    </tr>\n",
       "    <tr>\n",
       "      <th>17524</th>\n",
       "      <td>C0010198</td>\n",
       "      <td>Cottonseed Oil</td>\n",
       "    </tr>\n",
       "    <tr>\n",
       "      <th>2694</th>\n",
       "      <td>C0009213</td>\n",
       "      <td>Cod Liver Oil</td>\n",
       "    </tr>\n",
       "    <tr>\n",
       "      <th>116393</th>\n",
       "      <td>C0301248</td>\n",
       "      <td>Nutmeg oil</td>\n",
       "    </tr>\n",
       "  </tbody>\n",
       "</table>\n",
       "</div>"
      ],
      "text/plain": [
       "              ID                      name\n",
       "18623   C0042438            Vegetable Oils\n",
       "290987  C1445804  Pumpkin seed oil extract\n",
       "59881   C1509841  HYDROGENATED SOYBEAN OIL\n",
       "121960  C0054634                   caramel\n",
       "119725  C0458160             Grapeseed oil\n",
       "20795   C0075639        sunflower seed oil\n",
       "48405   C0376597           Dietary Sucrose\n",
       "19792   C0244994            Wheat germ oil\n",
       "12313   C0072982              rapeseed oil\n",
       "73019   C0682953     saturated dietary fat\n",
       "14757   C0376596           Sugars, Dietary\n",
       "145261  C1177183                  SAGE OIL\n",
       "55269   C0982306           PALM KERNEL OIL\n",
       "76077   C0070325            Peppermint oil\n",
       "201678  C0304095                 Anise oil\n",
       "19109   C0010029                  Corn Oil\n",
       "171246  C0304098              Cardamom oil\n",
       "17524   C0010198            Cottonseed Oil\n",
       "2694    C0009213             Cod Liver Oil\n",
       "116393  C0301248                Nutmeg oil"
      ]
     },
     "execution_count": 52,
     "metadata": {},
     "output_type": "execute_result"
    }
   ],
   "source": [
    "idx = 5\n",
    "\n",
    "print(multi_sems[idx])\n",
    "examine_problem_cuis(multi_sems[idx]).sample(20)"
   ]
  },
  {
   "cell_type": "markdown",
   "metadata": {},
   "source": [
    "All seem to be some kind of dietary component... Since they're not super-specific chemical compounds, we'll keep them with the type 'Objects'"
   ]
  },
  {
   "cell_type": "code",
   "execution_count": 53,
   "metadata": {
    "collapsed": true
   },
   "outputs": [],
   "source": [
    "fixed_sems.update(set_semtype(multi_sems[idx], 'Objects'))"
   ]
  },
  {
   "cell_type": "code",
   "execution_count": 54,
   "metadata": {},
   "outputs": [
    {
     "name": "stdout",
     "output_type": "stream",
     "text": [
      "Concepts & Ideas | Objects\n"
     ]
    },
    {
     "data": {
      "text/html": [
       "<div>\n",
       "<style scoped>\n",
       "    .dataframe tbody tr th:only-of-type {\n",
       "        vertical-align: middle;\n",
       "    }\n",
       "\n",
       "    .dataframe tbody tr th {\n",
       "        vertical-align: top;\n",
       "    }\n",
       "\n",
       "    .dataframe thead th {\n",
       "        text-align: right;\n",
       "    }\n",
       "</style>\n",
       "<table border=\"1\" class=\"dataframe\">\n",
       "  <thead>\n",
       "    <tr style=\"text-align: right;\">\n",
       "      <th></th>\n",
       "      <th>ID</th>\n",
       "      <th>name</th>\n",
       "    </tr>\n",
       "  </thead>\n",
       "  <tbody>\n",
       "    <tr>\n",
       "      <th>58157</th>\n",
       "      <td>C0262846</td>\n",
       "      <td>Information Systems, Data Management, Cardiology</td>\n",
       "    </tr>\n",
       "    <tr>\n",
       "      <th>154969</th>\n",
       "      <td>C0079815</td>\n",
       "      <td>Medical Records Systems, Computerized</td>\n",
       "    </tr>\n",
       "    <tr>\n",
       "      <th>213384</th>\n",
       "      <td>C0024763</td>\n",
       "      <td>Manuals</td>\n",
       "    </tr>\n",
       "    <tr>\n",
       "      <th>132989</th>\n",
       "      <td>C0079150</td>\n",
       "      <td>Medical Records, Computerized</td>\n",
       "    </tr>\n",
       "    <tr>\n",
       "      <th>108228</th>\n",
       "      <td>C0870393</td>\n",
       "      <td>Decision Support Systems</td>\n",
       "    </tr>\n",
       "    <tr>\n",
       "      <th>22631</th>\n",
       "      <td>C0005358</td>\n",
       "      <td>Bibliography</td>\n",
       "    </tr>\n",
       "    <tr>\n",
       "      <th>116442</th>\n",
       "      <td>C0037585</td>\n",
       "      <td>Computer software</td>\n",
       "    </tr>\n",
       "    <tr>\n",
       "      <th>210028</th>\n",
       "      <td>C0018700</td>\n",
       "      <td>Health Diaries</td>\n",
       "    </tr>\n",
       "    <tr>\n",
       "      <th>269663</th>\n",
       "      <td>C0868951</td>\n",
       "      <td>Drug distribution systems</td>\n",
       "    </tr>\n",
       "    <tr>\n",
       "      <th>260093</th>\n",
       "      <td>C0180070</td>\n",
       "      <td>Computer Interfaces</td>\n",
       "    </tr>\n",
       "    <tr>\n",
       "      <th>215198</th>\n",
       "      <td>C0920429</td>\n",
       "      <td>Cell Bank</td>\n",
       "    </tr>\n",
       "    <tr>\n",
       "      <th>267213</th>\n",
       "      <td>C0936091</td>\n",
       "      <td>Annual Reports</td>\n",
       "    </tr>\n",
       "    <tr>\n",
       "      <th>221819</th>\n",
       "      <td>C0007379</td>\n",
       "      <td>Catalogs, Library</td>\n",
       "    </tr>\n",
       "    <tr>\n",
       "      <th>100910</th>\n",
       "      <td>C0011005</td>\n",
       "      <td>Database Management Systems</td>\n",
       "    </tr>\n",
       "    <tr>\n",
       "      <th>108796</th>\n",
       "      <td>C0012113</td>\n",
       "      <td>Dictionaries, Medical</td>\n",
       "    </tr>\n",
       "    <tr>\n",
       "      <th>284094</th>\n",
       "      <td>C0262842</td>\n",
       "      <td>Information Systems, Data Management, Laborato...</td>\n",
       "    </tr>\n",
       "    <tr>\n",
       "      <th>268866</th>\n",
       "      <td>C0871495</td>\n",
       "      <td>Telephone Systems</td>\n",
       "    </tr>\n",
       "    <tr>\n",
       "      <th>90869</th>\n",
       "      <td>C0027988</td>\n",
       "      <td>Newsletters</td>\n",
       "    </tr>\n",
       "    <tr>\n",
       "      <th>157047</th>\n",
       "      <td>C0814524</td>\n",
       "      <td>online medical record</td>\n",
       "    </tr>\n",
       "    <tr>\n",
       "      <th>138242</th>\n",
       "      <td>C0012108</td>\n",
       "      <td>Dictionary</td>\n",
       "    </tr>\n",
       "  </tbody>\n",
       "</table>\n",
       "</div>"
      ],
      "text/plain": [
       "              ID                                               name\n",
       "58157   C0262846   Information Systems, Data Management, Cardiology\n",
       "154969  C0079815              Medical Records Systems, Computerized\n",
       "213384  C0024763                                            Manuals\n",
       "132989  C0079150                      Medical Records, Computerized\n",
       "108228  C0870393                           Decision Support Systems\n",
       "22631   C0005358                                       Bibliography\n",
       "116442  C0037585                                  Computer software\n",
       "210028  C0018700                                     Health Diaries\n",
       "269663  C0868951                          Drug distribution systems\n",
       "260093  C0180070                                Computer Interfaces\n",
       "215198  C0920429                                          Cell Bank\n",
       "267213  C0936091                                     Annual Reports\n",
       "221819  C0007379                                  Catalogs, Library\n",
       "100910  C0011005                        Database Management Systems\n",
       "108796  C0012113                              Dictionaries, Medical\n",
       "284094  C0262842  Information Systems, Data Management, Laborato...\n",
       "268866  C0871495                                  Telephone Systems\n",
       "90869   C0027988                                        Newsletters\n",
       "157047  C0814524                              online medical record\n",
       "138242  C0012108                                         Dictionary"
      ]
     },
     "execution_count": 54,
     "metadata": {},
     "output_type": "execute_result"
    }
   ],
   "source": [
    "idx = 8\n",
    "\n",
    "print(multi_sems[idx])\n",
    "examine_problem_cuis(multi_sems[idx]).sample(20)"
   ]
  },
  {
   "cell_type": "markdown",
   "metadata": {},
   "source": [
    "Not super important, neither of theses Sem-types are too biologically revelant.  We'll set them to 'Objects'"
   ]
  },
  {
   "cell_type": "code",
   "execution_count": 55,
   "metadata": {
    "collapsed": true
   },
   "outputs": [],
   "source": [
    "fixed_sems.update(set_semtype(multi_sems[idx], 'Objects'))"
   ]
  },
  {
   "cell_type": "code",
   "execution_count": 56,
   "metadata": {
    "scrolled": false
   },
   "outputs": [
    {
     "name": "stdout",
     "output_type": "stream",
     "text": [
      "Concepts & Ideas | Procedures\n"
     ]
    },
    {
     "data": {
      "text/html": [
       "<div>\n",
       "<style scoped>\n",
       "    .dataframe tbody tr th:only-of-type {\n",
       "        vertical-align: middle;\n",
       "    }\n",
       "\n",
       "    .dataframe tbody tr th {\n",
       "        vertical-align: top;\n",
       "    }\n",
       "\n",
       "    .dataframe thead th {\n",
       "        text-align: right;\n",
       "    }\n",
       "</style>\n",
       "<table border=\"1\" class=\"dataframe\">\n",
       "  <thead>\n",
       "    <tr style=\"text-align: right;\">\n",
       "      <th></th>\n",
       "      <th>ID</th>\n",
       "      <th>name</th>\n",
       "    </tr>\n",
       "  </thead>\n",
       "  <tbody>\n",
       "    <tr>\n",
       "      <th>53138</th>\n",
       "      <td>C0871272</td>\n",
       "      <td>Rokeach Dogmatism Scale</td>\n",
       "    </tr>\n",
       "    <tr>\n",
       "      <th>4853</th>\n",
       "      <td>C0683454</td>\n",
       "      <td>Internal-External Locus of Control Scale</td>\n",
       "    </tr>\n",
       "    <tr>\n",
       "      <th>60114</th>\n",
       "      <td>C0683457</td>\n",
       "      <td>State-trait anger expression inventory</td>\n",
       "    </tr>\n",
       "    <tr>\n",
       "      <th>30204</th>\n",
       "      <td>C0871459</td>\n",
       "      <td>Subtests</td>\n",
       "    </tr>\n",
       "    <tr>\n",
       "      <th>80049</th>\n",
       "      <td>C0870266</td>\n",
       "      <td>Child Behavior Checklist</td>\n",
       "    </tr>\n",
       "    <tr>\n",
       "      <th>146673</th>\n",
       "      <td>C0870241</td>\n",
       "      <td>California F Scale</td>\n",
       "    </tr>\n",
       "    <tr>\n",
       "      <th>107950</th>\n",
       "      <td>C0870965</td>\n",
       "      <td>Nonlinear Regression</td>\n",
       "    </tr>\n",
       "    <tr>\n",
       "      <th>70387</th>\n",
       "      <td>C0679587</td>\n",
       "      <td>Franck Drawing Completion Test</td>\n",
       "    </tr>\n",
       "    <tr>\n",
       "      <th>69947</th>\n",
       "      <td>C0036150</td>\n",
       "      <td>Sampling Studies</td>\n",
       "    </tr>\n",
       "    <tr>\n",
       "      <th>74467</th>\n",
       "      <td>C0542548</td>\n",
       "      <td>Personal Orientation Inventory</td>\n",
       "    </tr>\n",
       "    <tr>\n",
       "      <th>133529</th>\n",
       "      <td>C0679585</td>\n",
       "      <td>Blacky Pictures Test</td>\n",
       "    </tr>\n",
       "    <tr>\n",
       "      <th>75514</th>\n",
       "      <td>C0681836</td>\n",
       "      <td>validation study</td>\n",
       "    </tr>\n",
       "    <tr>\n",
       "      <th>39394</th>\n",
       "      <td>C0596723</td>\n",
       "      <td>human data</td>\n",
       "    </tr>\n",
       "    <tr>\n",
       "      <th>33739</th>\n",
       "      <td>C0019853</td>\n",
       "      <td>Holtzman Inkblot Test</td>\n",
       "    </tr>\n",
       "    <tr>\n",
       "      <th>68788</th>\n",
       "      <td>C0683461</td>\n",
       "      <td>Rod-and-Frame Test</td>\n",
       "    </tr>\n",
       "    <tr>\n",
       "      <th>226467</th>\n",
       "      <td>C0683450</td>\n",
       "      <td>Family Crisis-Oriented Personal Evaluation Scales</td>\n",
       "    </tr>\n",
       "    <tr>\n",
       "      <th>138277</th>\n",
       "      <td>C0025364</td>\n",
       "      <td>Mental Status Schedule</td>\n",
       "    </tr>\n",
       "    <tr>\n",
       "      <th>215712</th>\n",
       "      <td>C0679600</td>\n",
       "      <td>Visual short-term memory task</td>\n",
       "    </tr>\n",
       "    <tr>\n",
       "      <th>261261</th>\n",
       "      <td>C0870419</td>\n",
       "      <td>Differential Aptitude Tests</td>\n",
       "    </tr>\n",
       "    <tr>\n",
       "      <th>137733</th>\n",
       "      <td>C0871207</td>\n",
       "      <td>Rasch Model</td>\n",
       "    </tr>\n",
       "  </tbody>\n",
       "</table>\n",
       "</div>"
      ],
      "text/plain": [
       "              ID                                               name\n",
       "53138   C0871272                            Rokeach Dogmatism Scale\n",
       "4853    C0683454           Internal-External Locus of Control Scale\n",
       "60114   C0683457             State-trait anger expression inventory\n",
       "30204   C0871459                                           Subtests\n",
       "80049   C0870266                           Child Behavior Checklist\n",
       "146673  C0870241                                 California F Scale\n",
       "107950  C0870965                               Nonlinear Regression\n",
       "70387   C0679587                     Franck Drawing Completion Test\n",
       "69947   C0036150                                   Sampling Studies\n",
       "74467   C0542548                     Personal Orientation Inventory\n",
       "133529  C0679585                               Blacky Pictures Test\n",
       "75514   C0681836                                   validation study\n",
       "39394   C0596723                                         human data\n",
       "33739   C0019853                              Holtzman Inkblot Test\n",
       "68788   C0683461                                 Rod-and-Frame Test\n",
       "226467  C0683450  Family Crisis-Oriented Personal Evaluation Scales\n",
       "138277  C0025364                             Mental Status Schedule\n",
       "215712  C0679600                      Visual short-term memory task\n",
       "261261  C0870419                        Differential Aptitude Tests\n",
       "137733  C0871207                                        Rasch Model"
      ]
     },
     "execution_count": 56,
     "metadata": {},
     "output_type": "execute_result"
    }
   ],
   "source": [
    "idx = 9\n",
    "\n",
    "print(multi_sems[idx])\n",
    "examine_problem_cuis(multi_sems[idx]).sample(20)"
   ]
  },
  {
   "cell_type": "markdown",
   "metadata": {},
   "source": [
    "Again, either choice is not super critical, will make them Concepts & Ideas"
   ]
  },
  {
   "cell_type": "code",
   "execution_count": 57,
   "metadata": {
    "collapsed": true
   },
   "outputs": [],
   "source": [
    "fixed_sems.update(set_semtype(multi_sems[idx], 'Concepts & Ideas'))"
   ]
  },
  {
   "cell_type": "code",
   "execution_count": 58,
   "metadata": {
    "scrolled": false
   },
   "outputs": [
    {
     "name": "stdout",
     "output_type": "stream",
     "text": [
      "Objects | Organizations\n"
     ]
    },
    {
     "data": {
      "text/html": [
       "<div>\n",
       "<style scoped>\n",
       "    .dataframe tbody tr th:only-of-type {\n",
       "        vertical-align: middle;\n",
       "    }\n",
       "\n",
       "    .dataframe tbody tr th {\n",
       "        vertical-align: top;\n",
       "    }\n",
       "\n",
       "    .dataframe thead th {\n",
       "        text-align: right;\n",
       "    }\n",
       "</style>\n",
       "<table border=\"1\" class=\"dataframe\">\n",
       "  <thead>\n",
       "    <tr style=\"text-align: right;\">\n",
       "      <th></th>\n",
       "      <th>ID</th>\n",
       "      <th>name</th>\n",
       "    </tr>\n",
       "  </thead>\n",
       "  <tbody>\n",
       "    <tr>\n",
       "      <th>239352</th>\n",
       "      <td>C0562708</td>\n",
       "      <td>Pharmacy - shop</td>\n",
       "    </tr>\n",
       "    <tr>\n",
       "      <th>15678</th>\n",
       "      <td>C0011344</td>\n",
       "      <td>Dental Clinics</td>\n",
       "    </tr>\n",
       "    <tr>\n",
       "      <th>50400</th>\n",
       "      <td>C0587449</td>\n",
       "      <td>Respiratory intensive care unit</td>\n",
       "    </tr>\n",
       "    <tr>\n",
       "      <th>1221</th>\n",
       "      <td>C0020003</td>\n",
       "      <td>Hospitals, Community</td>\n",
       "    </tr>\n",
       "    <tr>\n",
       "      <th>172015</th>\n",
       "      <td>C0596183</td>\n",
       "      <td>biomedical facility</td>\n",
       "    </tr>\n",
       "    <tr>\n",
       "      <th>90208</th>\n",
       "      <td>C0587445</td>\n",
       "      <td>Adult intensive care unit</td>\n",
       "    </tr>\n",
       "    <tr>\n",
       "      <th>45962</th>\n",
       "      <td>C0598858</td>\n",
       "      <td>mental health center</td>\n",
       "    </tr>\n",
       "    <tr>\n",
       "      <th>23040</th>\n",
       "      <td>C0557799</td>\n",
       "      <td>Grammar school</td>\n",
       "    </tr>\n",
       "    <tr>\n",
       "      <th>235174</th>\n",
       "      <td>C0557633</td>\n",
       "      <td>Rehabilitation hostel</td>\n",
       "    </tr>\n",
       "    <tr>\n",
       "      <th>83305</th>\n",
       "      <td>C0337966</td>\n",
       "      <td>Hospital ship</td>\n",
       "    </tr>\n",
       "    <tr>\n",
       "      <th>228001</th>\n",
       "      <td>C0557805</td>\n",
       "      <td>Special needs school</td>\n",
       "    </tr>\n",
       "    <tr>\n",
       "      <th>68659</th>\n",
       "      <td>C0814517</td>\n",
       "      <td>primary care facility</td>\n",
       "    </tr>\n",
       "    <tr>\n",
       "      <th>5874</th>\n",
       "      <td>C0020021</td>\n",
       "      <td>Psychiatric hospital</td>\n",
       "    </tr>\n",
       "    <tr>\n",
       "      <th>33073</th>\n",
       "      <td>C0019870</td>\n",
       "      <td>Homes for the Aged</td>\n",
       "    </tr>\n",
       "    <tr>\n",
       "      <th>7930</th>\n",
       "      <td>C0029064</td>\n",
       "      <td>operating room</td>\n",
       "    </tr>\n",
       "    <tr>\n",
       "      <th>84583</th>\n",
       "      <td>C0600623</td>\n",
       "      <td>Fitness Centers</td>\n",
       "    </tr>\n",
       "    <tr>\n",
       "      <th>59986</th>\n",
       "      <td>C0021710</td>\n",
       "      <td>Pediatric intensive care unit</td>\n",
       "    </tr>\n",
       "    <tr>\n",
       "      <th>4455</th>\n",
       "      <td>C0871869</td>\n",
       "      <td>Psychiatric Unit</td>\n",
       "    </tr>\n",
       "    <tr>\n",
       "      <th>110186</th>\n",
       "      <td>C0337953</td>\n",
       "      <td>Secondary care hospital</td>\n",
       "    </tr>\n",
       "    <tr>\n",
       "      <th>31981</th>\n",
       "      <td>C0019999</td>\n",
       "      <td>Hospitals, Cancer</td>\n",
       "    </tr>\n",
       "  </tbody>\n",
       "</table>\n",
       "</div>"
      ],
      "text/plain": [
       "              ID                             name\n",
       "239352  C0562708                  Pharmacy - shop\n",
       "15678   C0011344                   Dental Clinics\n",
       "50400   C0587449  Respiratory intensive care unit\n",
       "1221    C0020003             Hospitals, Community\n",
       "172015  C0596183              biomedical facility\n",
       "90208   C0587445        Adult intensive care unit\n",
       "45962   C0598858             mental health center\n",
       "23040   C0557799                   Grammar school\n",
       "235174  C0557633            Rehabilitation hostel\n",
       "83305   C0337966                    Hospital ship\n",
       "228001  C0557805             Special needs school\n",
       "68659   C0814517            primary care facility\n",
       "5874    C0020021             Psychiatric hospital\n",
       "33073   C0019870               Homes for the Aged\n",
       "7930    C0029064                   operating room\n",
       "84583   C0600623                  Fitness Centers\n",
       "59986   C0021710    Pediatric intensive care unit\n",
       "4455    C0871869                 Psychiatric Unit\n",
       "110186  C0337953          Secondary care hospital\n",
       "31981   C0019999                Hospitals, Cancer"
      ]
     },
     "execution_count": 58,
     "metadata": {},
     "output_type": "execute_result"
    }
   ],
   "source": [
    "idx = 10\n",
    "\n",
    "print(multi_sems[idx])\n",
    "examine_problem_cuis(multi_sems[idx]).sample(20)"
   ]
  },
  {
   "cell_type": "markdown",
   "metadata": {},
   "source": [
    "Seem more like organiziations."
   ]
  },
  {
   "cell_type": "code",
   "execution_count": 59,
   "metadata": {
    "collapsed": true
   },
   "outputs": [],
   "source": [
    "fixed_sems.update(set_semtype(multi_sems[idx], 'Organizations'))"
   ]
  },
  {
   "cell_type": "code",
   "execution_count": 60,
   "metadata": {
    "collapsed": true
   },
   "outputs": [],
   "source": [
    "cui_to_super.update(fixed_sems)"
   ]
  },
  {
   "cell_type": "markdown",
   "metadata": {},
   "source": [
    "## Re-label the semmantic types to their true type"
   ]
  },
  {
   "cell_type": "code",
   "execution_count": 63,
   "metadata": {},
   "outputs": [
    {
     "name": "stdout",
     "output_type": "stream",
     "text": [
      "Went from 293772 rows in nodes to 257243 with 257243 unique CUIS\n"
     ]
    }
   ],
   "source": [
    "before_len = len(nodes)\n",
    "nodes['label'] = nodes['ID'].apply(lambda x: cui_to_super[x])\n",
    "nodes = nodes[['ID', 'name', 'label']].drop_duplicates().reset_index(drop=True)\n",
    "\n",
    "print(\"Went from {} rows in nodes to {} with {} unique CUIS\".format(before_len, len(nodes), nodes['ID'].nunique()))"
   ]
  },
  {
   "cell_type": "markdown",
   "metadata": {},
   "source": [
    "Looks like we finally have a 1:1 relationship of unique IDs to rows in our nodes table"
   ]
  },
  {
   "cell_type": "markdown",
   "metadata": {},
   "source": [
    "# 3. Edges File"
   ]
  },
  {
   "cell_type": "markdown",
   "metadata": {},
   "source": [
    "## Prediacate types\n",
    "\n",
    "[Semmed Docs](https://skr3.nlm.nih.gov/SemMed/jsp/SemMedDocumentation2.pdf)\n",
    "\n",
    "\n",
    "The docs above show only 26 predicates, lets see how many the data actually contains an and what they are..."
   ]
  },
  {
   "cell_type": "code",
   "execution_count": 64,
   "metadata": {},
   "outputs": [
    {
     "name": "stdout",
     "output_type": "stream",
     "text": [
      "59\n"
     ]
    }
   ],
   "source": [
    "print(sem_df['PREDICATE'].nunique())"
   ]
  },
  {
   "cell_type": "markdown",
   "metadata": {},
   "source": [
    "Looks like 59 total predicates.  There are negated predicats, but still, negating all 26 should only yield 52 total.  There are also some that are all lower-case, which do not seem to be found in the documents."
   ]
  },
  {
   "cell_type": "code",
   "execution_count": 65,
   "metadata": {},
   "outputs": [
    {
     "data": {
      "text/plain": [
       "array(['PART_OF', 'LOCATION_OF', 'PROCESS_OF', 'ISA', 'COEXISTS_WITH',\n",
       "       'INTERACTS_WITH', 'TREATS', 'USES', 'METHOD_OF', 'CAUSES',\n",
       "       'ASSOCIATED_WITH', 'AFFECTS', 'DIAGNOSES', 'PRECEDES',\n",
       "       'NEG_INHIBITS', 'compared_with', 'ADMINISTERED_TO', 'STIMULATES',\n",
       "       'DISRUPTS', 'higher_than', 'AUGMENTS', 'OCCURS_IN', 'INHIBITS',\n",
       "       'COMPLICATES', 'PREVENTS', 'NEG_AFFECTS', 'PREDISPOSES',\n",
       "       'different_from', 'MANIFESTATION_OF', 'same_as', 'NEG_higher_than',\n",
       "       'PRODUCES', 'NEG_DISRUPTS', 'NEG_CAUSES', 'NEG_INTERACTS_WITH',\n",
       "       'NEG_PROCESS_OF', 'NEG_COEXISTS_WITH', 'NEG_PART_OF', 'NEG_USES',\n",
       "       'lower_than', 'NEG_METHOD_OF', 'NEG_PREVENTS', 'CONVERTS_TO',\n",
       "       'NEG_AUGMENTS', 'NEG_LOCATION_OF', 'NEG_DIAGNOSES',\n",
       "       'NEG_PREDISPOSES', 'NEG_TREATS', 'NEG_PRODUCES',\n",
       "       'NEG_ASSOCIATED_WITH', 'NEG_COMPLICATES', 'NEG_STIMULATES',\n",
       "       'NEG_OCCURS_IN', 'NEG_ADMINISTERED_TO', 'NEG_CONVERTS_TO',\n",
       "       'NEG_lower_than', 'NEG_PRECEDES', 'NEG_MANIFESTATION_OF',\n",
       "       'different_than'], dtype=object)"
      ]
     },
     "execution_count": 65,
     "metadata": {},
     "output_type": "execute_result"
    }
   ],
   "source": [
    "sem_df['PREDICATE'].unique()"
   ]
  },
  {
   "cell_type": "markdown",
   "metadata": {},
   "source": [
    "## Edge Semmantics Abbreviations\n",
    "\n",
    "According to hetionet conventions, edges must be written as `EDGETYPE_abbrev` where the abbreviation is START_NODE Abv, Predicate Abv, END_NODE Abv.  for example a Compound that treats a Disease is abbreviated TREATS_CtD.  \n",
    "\n",
    "We must come up with unique abbreviations for each semantic type for the nodes as well as each predicate. These concatinated together will give a unique abbreviation for each edge type."
   ]
  },
  {
   "cell_type": "code",
   "execution_count": 66,
   "metadata": {
    "collapsed": true
   },
   "outputs": [],
   "source": [
    "p_abv = {\n",
    " 'ADMINISTERED_TO': 'at',\n",
    " 'AFFECTS': 'af',\n",
    " 'ASSOCIATED_WITH': 'aw',\n",
    " 'AUGMENTS': 'ag',\n",
    " 'CAUSES': 'c',\n",
    " 'COEXISTS_WITH': 'cw',\n",
    " 'COMPLICATES': 'cp',\n",
    " 'CONVERTS_TO': 'ct',\n",
    " 'DIAGNOSES': 'dg',\n",
    " 'DISRUPTS': 'ds',\n",
    " 'INHIBITS': 'in',\n",
    " 'INTERACTS_WITH': 'iw',\n",
    " 'ISA': 'i',\n",
    " 'LOCATION_OF': 'lo',\n",
    " 'MANIFESTATION_OF': 'mfo',\n",
    " 'METHOD_OF': 'mo',\n",
    " 'NEG_ADMINISTERED_TO': 'nat',\n",
    " 'NEG_AFFECTS': 'naf',\n",
    " 'NEG_ASSOCIATED_WITH': 'naw',\n",
    " 'NEG_AUGMENTS': 'nag',\n",
    " 'NEG_CAUSES': 'nc',\n",
    " 'NEG_COEXISTS_WITH': 'ncw',\n",
    " 'NEG_COMPLICATES': 'ncp',\n",
    " 'NEG_CONVERTS_TO': 'nct',\n",
    " 'NEG_DIAGNOSES': 'ndg',\n",
    " 'NEG_DISRUPTS': 'nds',\n",
    " 'NEG_INHIBITS': 'nin',\n",
    " 'NEG_INTERACTS_WITH': 'niw',\n",
    " 'NEG_LOCATION_OF': 'nlo',\n",
    " 'NEG_MANIFESTATION_OF': 'nmfo',\n",
    " 'NEG_METHOD_OF': 'nmo',\n",
    " 'NEG_OCCURS_IN': 'noi',\n",
    " 'NEG_PART_OF': 'npo',\n",
    " 'NEG_PRECEDES': 'npc',\n",
    " 'NEG_PREDISPOSES': 'nps',\n",
    " 'NEG_PREVENTS': 'npv',\n",
    " 'NEG_PROCESS_OF': 'npro',\n",
    " 'NEG_PRODUCES': 'npd',\n",
    " 'NEG_STIMULATES': 'nst',\n",
    " 'NEG_TREATS': 'nt',\n",
    " 'NEG_USES': 'nu',\n",
    " 'NEG_higher_than': 'nht',\n",
    " 'NEG_lower_than': 'nlt',\n",
    " 'OCCURS_IN': 'oi',\n",
    " 'PART_OF': 'po',\n",
    " 'PRECEDES': 'pc',\n",
    " 'PREDISPOSES': 'ps',\n",
    " 'PREP': 'pr',\n",
    " 'PREVENTS': 'pv',\n",
    " 'PROCESS_OF': 'pro',\n",
    " 'PRODUCES': 'pd',\n",
    " 'STIMULATES': 'st',\n",
    " 'TREATS': 't',\n",
    " 'USES': 'u',\n",
    " 'compared_with': 'cpw',\n",
    " 'different_from': 'df',\n",
    " 'different_than': 'dt',\n",
    " 'higher_than': 'ht',\n",
    " 'lower_than': 'lt',\n",
    " 'same_as': 'sa'}"
   ]
  },
  {
   "cell_type": "code",
   "execution_count": 67,
   "metadata": {},
   "outputs": [
    {
     "data": {
      "text/plain": [
       "{'Activities & Behaviors',\n",
       " 'Anatomy',\n",
       " 'Chemicals & Drugs',\n",
       " 'Concepts & Ideas',\n",
       " 'Devices',\n",
       " 'Disorders',\n",
       " 'Genes & Molecular Sequences',\n",
       " 'Geographic Areas',\n",
       " 'Living Beings',\n",
       " 'Objects',\n",
       " 'Occupations',\n",
       " 'Organizations',\n",
       " 'Phenomena',\n",
       " 'Physiology',\n",
       " 'Procedures'}"
      ]
     },
     "execution_count": 67,
     "metadata": {},
     "output_type": "execute_result"
    }
   ],
   "source": [
    "# get abbreviations for semtypes\n",
    "super_sems = set(abbv_to_super.values())\n",
    "\n",
    "len(super_sems)\n",
    "super_sems"
   ]
  },
  {
   "cell_type": "markdown",
   "metadata": {},
   "source": [
    "## Node Type Abbreviations\n",
    "\n",
    "Nodes must also have an abbreviation"
   ]
  },
  {
   "cell_type": "code",
   "execution_count": 68,
   "metadata": {
    "collapsed": true
   },
   "outputs": [],
   "source": [
    "# Run these by hand as there are few, and some don't lend themselves well to auto-generation\n",
    "sem_abv = {\n",
    " 'Activities & Behaviors': 'AB',\n",
    " 'Anatomy': 'A',\n",
    " 'Compound': 'C',\n",
    " 'Chemicals & Drugs': 'CD',\n",
    " 'Concepts & Ideas': 'CI',\n",
    " 'Devices': 'DV',\n",
    " 'Disease': 'D',\n",
    " 'Disorders': 'DO',\n",
    " 'Genes & Molecular Sequences': 'G',\n",
    " 'Geographic Areas': 'GA',\n",
    " 'Living Beings': 'LB',\n",
    " 'Objects': 'OB',\n",
    " 'Occupations': 'OC',\n",
    " 'Organizations': 'OR',\n",
    " 'Phenomena': 'PH',\n",
    " 'Physiology': 'PS',\n",
    " 'Procedures': 'PR'\n",
    "}"
   ]
  },
  {
   "cell_type": "markdown",
   "metadata": {},
   "source": [
    "# Edge Directions\n",
    "\n",
    "Most edges may be bi-directions, but some are definitely better exprested as uni-directional.  Here we will classify predicates as bi- or uni-dierectional based on the semantic meaning of the predicate.  Bidirectionl edges have an empty string, whereas uni-directional have a direction marker `'>'`. For example an undirected edge, such as a compound that treats a disease, is written as `TREATS_CtD`. However, a directed edge, like Compound1 converts to Compound 2 would be written as `CONVERTS_TO_Cct>C`.\n",
    "\n",
    "Edge directions were chosen based on the description found in [this documnetation](https://skr3.nlm.nih.gov/SemMed/jsp/SemMedDocumentation2.pdf)."
   ]
  },
  {
   "cell_type": "code",
   "execution_count": 69,
   "metadata": {
    "collapsed": true
   },
   "outputs": [],
   "source": [
    "edge_dir = {\n",
    " 'ADMINISTERED_TO': '',\n",
    " 'AFFECTS': '',\n",
    " 'ASSOCIATED_WITH': '',\n",
    " 'AUGMENTS': '',\n",
    " 'CAUSES': '',\n",
    " 'COEXISTS_WITH': '',\n",
    " 'COMPLICATES': '',\n",
    " 'CONVERTS_TO': '>',\n",
    " 'DIAGNOSES': '',\n",
    " 'DISRUPTS': '',\n",
    " 'INHIBITS': '',\n",
    " 'INTERACTS_WITH': '',\n",
    " 'ISA': '>',\n",
    " 'LOCATION_OF': '',\n",
    " 'MANIFESTATION_OF': '>',\n",
    " 'METHOD_OF': '',\n",
    " 'NOM': '',\n",
    " 'OCCURS_IN': '',\n",
    " 'PART_OF': '>',\n",
    " 'PRECEDES': '>',\n",
    " 'PREDISPOSES': '',\n",
    " 'PREP': '',\n",
    " 'PREVENTS': '',\n",
    " 'PROCESS_OF': '>',\n",
    " 'PRODUCES': '>',\n",
    " 'SPEC': '',\n",
    " 'STIMULATES': '',\n",
    " 'TREATS': '',\n",
    " 'USES': '',\n",
    " 'compared_with': '',\n",
    " 'different_from': '',\n",
    " 'different_than': '',\n",
    " 'higher_from': '',\n",
    " 'higher_than': '',\n",
    " 'lower_than': '',\n",
    " 'same_as': '',\n",
    " 'than_as': ''}"
   ]
  },
  {
   "cell_type": "code",
   "execution_count": 70,
   "metadata": {
    "collapsed": true
   },
   "outputs": [],
   "source": [
    "# Make a mapper from SEMTYPE to sem abbrev\n",
    "kind_map = {}\n",
    "\n",
    "for k, v in abbv_to_super.items():\n",
    "    kind_map[k] = sem_abv[v]"
   ]
  },
  {
   "cell_type": "code",
   "execution_count": 71,
   "metadata": {
    "collapsed": true
   },
   "outputs": [],
   "source": [
    "id_to_type = nodes.set_index('ID')['label'].to_dict()\n",
    "id_to_type_abbv = {k: sem_abv.get(v) for k, v in id_to_type.items()}"
   ]
  },
  {
   "cell_type": "code",
   "execution_count": 72,
   "metadata": {
    "collapsed": true
   },
   "outputs": [],
   "source": [
    "edges = pd.DataFrame()\n",
    "\n",
    "edges['start_id'] = sem_df['SUBJECT_CUI']\n",
    "edges['end_id'] = sem_df['OBJECT_CUI']\n",
    "edges['type'] = sem_df['PREDICATE']"
   ]
  },
  {
   "cell_type": "code",
   "execution_count": 73,
   "metadata": {},
   "outputs": [
    {
     "name": "stdout",
     "output_type": "stream",
     "text": [
      "20258352\n",
      "20258352\n"
     ]
    }
   ],
   "source": [
    "print(len(edges))\n",
    "# Make sure that there aren't any corrupted predicates...\n",
    "edges = edges.query('type in @p_abv.keys()')\n",
    "print(len(edges))"
   ]
  },
  {
   "cell_type": "markdown",
   "metadata": {},
   "source": [
    "## Putting together Edge Abbreviations\n",
    "\n",
    "Most edges are going to be treated as bi-directional, so order doesn't really matter too much, but when connecting 2 different metanodes, all `start_id`s must be of the same metanode type and all `end_id`s must be of the other. \n",
    "\n",
    "For example, all edges of TREATS between Compound and Disease should have a start_id nodetype of Compound and end_id type of Disease.... SemmedDB doesn't really care about this ordering, so we will ensure that all have a consistent order in this network file.\n",
    "\n",
    "\n",
    "1. First figure out which edges need Start and End swapped\n",
    "2. Then add in the pmids supporting each edge\n",
    "3. Finally, do the swap of IDs\n"
   ]
  },
  {
   "cell_type": "code",
   "execution_count": 74,
   "metadata": {
    "collapsed": true
   },
   "outputs": [],
   "source": [
    "edges['abbrev'] = (edges['start_id'].apply(lambda x: id_to_type_abbv.get(x,x)) \n",
    "                    + edges['type'].apply(lambda x: p_abv.get(x,x))\n",
    "                    + edges['type'].apply(lambda x: edge_dir.get(x,''))\n",
    "                    + edges['end_id'].apply(lambda x: id_to_type_abbv.get(x,x)))\n",
    "\n",
    "edges['rev_abbrev'] = (edges['end_id'].apply(lambda x: id_to_type_abbv.get(x,x)) \n",
    "                    + edges['type'].apply(lambda x: edge_dir.get(x,''))\n",
    "                    + edges['type'].apply(lambda x: p_abv.get(x,x))\n",
    "                    + edges['start_id'].apply(lambda x: id_to_type_abbv.get(x,x)))"
   ]
  },
  {
   "cell_type": "code",
   "execution_count": 75,
   "metadata": {},
   "outputs": [
    {
     "name": "stdout",
     "output_type": "stream",
     "text": [
      "20258352\n",
      "19812322\n"
     ]
    },
    {
     "data": {
      "text/html": [
       "<div>\n",
       "<style scoped>\n",
       "    .dataframe tbody tr th:only-of-type {\n",
       "        vertical-align: middle;\n",
       "    }\n",
       "\n",
       "    .dataframe tbody tr th {\n",
       "        vertical-align: top;\n",
       "    }\n",
       "\n",
       "    .dataframe thead th {\n",
       "        text-align: right;\n",
       "    }\n",
       "</style>\n",
       "<table border=\"1\" class=\"dataframe\">\n",
       "  <thead>\n",
       "    <tr style=\"text-align: right;\">\n",
       "      <th></th>\n",
       "      <th>START_ID</th>\n",
       "      <th>END_ID</th>\n",
       "      <th>TYPE</th>\n",
       "      <th>abbrev</th>\n",
       "      <th>rev_abbrev</th>\n",
       "    </tr>\n",
       "  </thead>\n",
       "  <tbody>\n",
       "    <tr>\n",
       "      <th>0</th>\n",
       "      <td>C0040291</td>\n",
       "      <td>C0085979</td>\n",
       "      <td>PART_OF</td>\n",
       "      <td>CDpo&gt;LB</td>\n",
       "      <td>LB&gt;poCD</td>\n",
       "    </tr>\n",
       "    <tr>\n",
       "      <th>1</th>\n",
       "      <td>C0005767</td>\n",
       "      <td>C0007061</td>\n",
       "      <td>LOCATION_OF</td>\n",
       "      <td>AloCD</td>\n",
       "      <td>CDloA</td>\n",
       "    </tr>\n",
       "    <tr>\n",
       "      <th>2</th>\n",
       "      <td>C0702166</td>\n",
       "      <td>C0043210</td>\n",
       "      <td>PROCESS_OF</td>\n",
       "      <td>DOpro&gt;LB</td>\n",
       "      <td>LB&gt;proDO</td>\n",
       "    </tr>\n",
       "    <tr>\n",
       "      <th>3</th>\n",
       "      <td>C0027809</td>\n",
       "      <td>C0038351</td>\n",
       "      <td>PART_OF</td>\n",
       "      <td>DOpo&gt;A</td>\n",
       "      <td>A&gt;poDO</td>\n",
       "    </tr>\n",
       "    <tr>\n",
       "      <th>6</th>\n",
       "      <td>C1010578</td>\n",
       "      <td>C0037877</td>\n",
       "      <td>ISA</td>\n",
       "      <td>LBi&gt;LB</td>\n",
       "      <td>LB&gt;iLB</td>\n",
       "    </tr>\n",
       "  </tbody>\n",
       "</table>\n",
       "</div>"
      ],
      "text/plain": [
       "   START_ID    END_ID         TYPE    abbrev rev_abbrev\n",
       "0  C0040291  C0085979      PART_OF   CDpo>LB    LB>poCD\n",
       "1  C0005767  C0007061  LOCATION_OF     AloCD      CDloA\n",
       "2  C0702166  C0043210   PROCESS_OF  DOpro>LB   LB>proDO\n",
       "3  C0027809  C0038351      PART_OF    DOpo>A     A>poDO\n",
       "6  C1010578  C0037877          ISA    LBi>LB     LB>iLB"
      ]
     },
     "execution_count": 75,
     "metadata": {},
     "output_type": "execute_result"
    }
   ],
   "source": [
    "print(len(edges))\n",
    "edges = edges.drop_duplicates()\n",
    "print(len(edges))\n",
    "edges.head()"
   ]
  },
  {
   "cell_type": "markdown",
   "metadata": {},
   "source": [
    "This will just use whatever order is encountered first when going down the rows of the Edges DataFrame"
   ]
  },
  {
   "cell_type": "code",
   "execution_count": 76,
   "metadata": {
    "collapsed": true
   },
   "outputs": [],
   "source": [
    "def validate_abbrevs(e_type, abbrev, rev_abbrev):\n",
    "    if rev_abbrev not in abbreviations:\n",
    "        abbreviations.update([abbrev])\n",
    "        return str(e_type) + '_' + str(abbrev)\n",
    "    else:\n",
    "        return str(e_type) + '_' + str(rev_abbrev)"
   ]
  },
  {
   "cell_type": "code",
   "execution_count": 77,
   "metadata": {},
   "outputs": [
    {
     "name": "stderr",
     "output_type": "stream",
     "text": [
      "100%|██████████| 19812322/19812322 [01:01<00:00, 322385.39it/s]"
     ]
    },
    {
     "name": "stdout",
     "output_type": "stream",
     "text": [
      "CPU times: user 1min 1s, sys: 3.42 s, total: 1min 4s\n",
      "Wall time: 1min 4s\n"
     ]
    },
    {
     "name": "stderr",
     "output_type": "stream",
     "text": [
      "\n"
     ]
    }
   ],
   "source": [
    "%%time\n",
    "abbreviations = set()\n",
    "new_types = []\n",
    "for row in tqdm(edges.itertuples(), total=len(edges)):\n",
    "    new_types.append(validate_abbrevs(row[3], row[4], row[5]))"
   ]
  },
  {
   "cell_type": "code",
   "execution_count": 78,
   "metadata": {},
   "outputs": [
    {
     "data": {
      "text/html": [
       "<div>\n",
       "<style scoped>\n",
       "    .dataframe tbody tr th:only-of-type {\n",
       "        vertical-align: middle;\n",
       "    }\n",
       "\n",
       "    .dataframe tbody tr th {\n",
       "        vertical-align: top;\n",
       "    }\n",
       "\n",
       "    .dataframe thead th {\n",
       "        text-align: right;\n",
       "    }\n",
       "</style>\n",
       "<table border=\"1\" class=\"dataframe\">\n",
       "  <thead>\n",
       "    <tr style=\"text-align: right;\">\n",
       "      <th></th>\n",
       "      <th>START_ID</th>\n",
       "      <th>END_ID</th>\n",
       "      <th>TYPE</th>\n",
       "      <th>abbrev</th>\n",
       "      <th>rev_abbrev</th>\n",
       "    </tr>\n",
       "  </thead>\n",
       "  <tbody>\n",
       "    <tr>\n",
       "      <th>0</th>\n",
       "      <td>C0040291</td>\n",
       "      <td>C0085979</td>\n",
       "      <td>PART_OF</td>\n",
       "      <td>CDpo&gt;LB</td>\n",
       "      <td>LB&gt;poCD</td>\n",
       "    </tr>\n",
       "    <tr>\n",
       "      <th>1</th>\n",
       "      <td>C0005767</td>\n",
       "      <td>C0007061</td>\n",
       "      <td>LOCATION_OF</td>\n",
       "      <td>AloCD</td>\n",
       "      <td>CDloA</td>\n",
       "    </tr>\n",
       "  </tbody>\n",
       "</table>\n",
       "</div>"
      ],
      "text/plain": [
       "   START_ID    END_ID         TYPE   abbrev rev_abbrev\n",
       "0  C0040291  C0085979      PART_OF  CDpo>LB    LB>poCD\n",
       "1  C0005767  C0007061  LOCATION_OF    AloCD      CDloA"
      ]
     },
     "execution_count": 78,
     "metadata": {},
     "output_type": "execute_result"
    }
   ],
   "source": [
    "edges = edges.reset_index(drop=True)\n",
    "edges.head(2)"
   ]
  },
  {
   "cell_type": "markdown",
   "metadata": {},
   "source": [
    "## Add in the PMID counts as extra data for each edge"
   ]
  },
  {
   "cell_type": "code",
   "execution_count": 79,
   "metadata": {},
   "outputs": [
    {
     "data": {
      "text/plain": [
       "19812322"
      ]
     },
     "execution_count": 79,
     "metadata": {},
     "output_type": "execute_result"
    }
   ],
   "source": [
    "len(pmids)"
   ]
  },
  {
   "cell_type": "code",
   "execution_count": 80,
   "metadata": {},
   "outputs": [
    {
     "name": "stdout",
     "output_type": "stream",
     "text": [
      "19812322\n"
     ]
    }
   ],
   "source": [
    "print(len(edges))"
   ]
  },
  {
   "cell_type": "code",
   "execution_count": 81,
   "metadata": {},
   "outputs": [
    {
     "name": "stderr",
     "output_type": "stream",
     "text": [
      "100%|██████████| 19812322/19812322 [00:18<00:00, 1059647.82it/s]\n"
     ]
    },
    {
     "name": "stdout",
     "output_type": "stream",
     "text": [
      "CPU times: user 1min 14s, sys: 9.23 s, total: 1min 24s\n",
      "Wall time: 1min 23s\n"
     ]
    }
   ],
   "source": [
    "%%time\n",
    "edges['pmids'] = pd.Series([pmids[i] for i in tqdm(edges.set_index(['start_id', 'type', 'end_id']).index.tolist())])"
   ]
  },
  {
   "cell_type": "code",
   "execution_count": 82,
   "metadata": {},
   "outputs": [
    {
     "data": {
      "text/html": [
       "<div>\n",
       "<style scoped>\n",
       "    .dataframe tbody tr th:only-of-type {\n",
       "        vertical-align: middle;\n",
       "    }\n",
       "\n",
       "    .dataframe tbody tr th {\n",
       "        vertical-align: top;\n",
       "    }\n",
       "\n",
       "    .dataframe thead th {\n",
       "        text-align: right;\n",
       "    }\n",
       "</style>\n",
       "<table border=\"1\" class=\"dataframe\">\n",
       "  <thead>\n",
       "    <tr style=\"text-align: right;\">\n",
       "      <th></th>\n",
       "      <th>START_ID</th>\n",
       "      <th>END_ID</th>\n",
       "      <th>TYPE</th>\n",
       "      <th>abbrev</th>\n",
       "      <th>rev_abbrev</th>\n",
       "      <th>pmids</th>\n",
       "    </tr>\n",
       "  </thead>\n",
       "  <tbody>\n",
       "    <tr>\n",
       "      <th>0</th>\n",
       "      <td>C0040291</td>\n",
       "      <td>C0085979</td>\n",
       "      <td>PART_OF</td>\n",
       "      <td>CDpo&gt;LB</td>\n",
       "      <td>LB&gt;poCD</td>\n",
       "      <td>{4960005, 5188517, 14810953, 15777937, 464373,...</td>\n",
       "    </tr>\n",
       "    <tr>\n",
       "      <th>1</th>\n",
       "      <td>C0005767</td>\n",
       "      <td>C0007061</td>\n",
       "      <td>LOCATION_OF</td>\n",
       "      <td>AloCD</td>\n",
       "      <td>CDloA</td>\n",
       "      <td>{2901508, 3799562, 26757130, 6744590, 3117072,...</td>\n",
       "    </tr>\n",
       "  </tbody>\n",
       "</table>\n",
       "</div>"
      ],
      "text/plain": [
       "   START_ID    END_ID         TYPE   abbrev rev_abbrev  \\\n",
       "0  C0040291  C0085979      PART_OF  CDpo>LB    LB>poCD   \n",
       "1  C0005767  C0007061  LOCATION_OF    AloCD      CDloA   \n",
       "\n",
       "                                               pmids  \n",
       "0  {4960005, 5188517, 14810953, 15777937, 464373,...  \n",
       "1  {2901508, 3799562, 26757130, 6744590, 3117072,...  "
      ]
     },
     "execution_count": 82,
     "metadata": {},
     "output_type": "execute_result"
    }
   ],
   "source": [
    "edges.head(2)"
   ]
  },
  {
   "cell_type": "markdown",
   "metadata": {},
   "source": [
    "### Swap start and end IDs for edges where start and end types were swapped..."
   ]
  },
  {
   "cell_type": "code",
   "execution_count": 83,
   "metadata": {
    "collapsed": true
   },
   "outputs": [],
   "source": [
    "e_types_current = edges['type'] + '_' + edges['abbrev']"
   ]
  },
  {
   "cell_type": "code",
   "execution_count": 84,
   "metadata": {
    "collapsed": true
   },
   "outputs": [],
   "source": [
    "need_swap = e_types_current != pd.Series(new_types)"
   ]
  },
  {
   "cell_type": "code",
   "execution_count": 85,
   "metadata": {
    "collapsed": true
   },
   "outputs": [],
   "source": [
    "tmp = edges.loc[need_swap, 'start_id']\n",
    "edges.loc[need_swap, 'start_id'] = edges.loc[need_swap, 'end_id']\n",
    "edges.loc[need_swap, 'end_id'] = tmp\n",
    "edges['type'] = new_types"
   ]
  },
  {
   "cell_type": "code",
   "execution_count": 86,
   "metadata": {
    "collapsed": true
   },
   "outputs": [],
   "source": [
    "# drop extra columns\n",
    "edges = edges[['start_id', 'end_id', 'type', 'pmids']]"
   ]
  },
  {
   "cell_type": "code",
   "execution_count": 87,
   "metadata": {
    "scrolled": true
   },
   "outputs": [
    {
     "data": {
      "text/plain": [
       "2900"
      ]
     },
     "execution_count": 87,
     "metadata": {},
     "output_type": "execute_result"
    }
   ],
   "source": [
    "edges['type'].nunique()"
   ]
  },
  {
   "cell_type": "markdown",
   "metadata": {},
   "source": [
    "#### De Duplication\n",
    "\n",
    "Some edges are now duplicated, so must de-duplicate and combine pmid sets."
   ]
  },
  {
   "cell_type": "code",
   "execution_count": 88,
   "metadata": {},
   "outputs": [
    {
     "name": "stdout",
     "output_type": "stream",
     "text": [
      "CPU times: user 34min 56s, sys: 1min 25s, total: 36min 21s\n",
      "Wall time: 36min 22s\n"
     ]
    }
   ],
   "source": [
    "%%time\n",
    "# This part is unfortunately very slow... Cant' really find any good way to speed it up.\n",
    "grpd = edges.groupby(['start_id', 'end_id', 'type'])\n",
    "edges = grpd['pmids'].apply(lambda Series: set.union(*Series.values)).reset_index()"
   ]
  },
  {
   "cell_type": "code",
   "execution_count": 89,
   "metadata": {},
   "outputs": [],
   "source": [
    "# Get the number of pmids\n",
    "edges['n_pmids'] = edges['pmids'].apply(len)"
   ]
  },
  {
   "cell_type": "code",
   "execution_count": 90,
   "metadata": {
    "collapsed": true
   },
   "outputs": [],
   "source": [
    "nodes = nodes.dropna()"
   ]
  },
  {
   "cell_type": "code",
   "execution_count": 91,
   "metadata": {},
   "outputs": [
    {
     "name": "stdout",
     "output_type": "stream",
     "text": [
      "257,243\n",
      "19,555,814\n"
     ]
    }
   ],
   "source": [
    "print('{:,}'.format(len(nodes)))\n",
    "print('{:,}'.format(len(edges)))"
   ]
  },
  {
   "cell_type": "markdown",
   "metadata": {},
   "source": [
    "### Ensure that all ids in the edges appear in the nodes\n",
    "\n",
    "Also make sure that the nodes don't contain any extra IDs not used by the edges"
   ]
  },
  {
   "cell_type": "code",
   "execution_count": 92,
   "metadata": {},
   "outputs": [
    {
     "data": {
      "text/plain": [
       "257243"
      ]
     },
     "execution_count": 92,
     "metadata": {},
     "output_type": "execute_result"
    }
   ],
   "source": [
    "edge_ids = set(edges['start_id']).union(set(edges['end_id']))\n",
    "len(edge_ids)"
   ]
  },
  {
   "cell_type": "code",
   "execution_count": 93,
   "metadata": {},
   "outputs": [
    {
     "data": {
      "text/plain": [
       "257243"
      ]
     },
     "execution_count": 93,
     "metadata": {},
     "output_type": "execute_result"
    }
   ],
   "source": [
    "node_ids = set(nodes['ID'])\n",
    "len(node_ids)"
   ]
  },
  {
   "cell_type": "code",
   "execution_count": 94,
   "metadata": {},
   "outputs": [
    {
     "data": {
      "text/plain": [
       "0"
      ]
     },
     "execution_count": 94,
     "metadata": {},
     "output_type": "execute_result"
    }
   ],
   "source": [
    "# ensure there are no edge IDs that are not also in thenodes\n",
    "len(edge_ids - node_ids)"
   ]
  },
  {
   "cell_type": "code",
   "execution_count": 95,
   "metadata": {
    "collapsed": true
   },
   "outputs": [],
   "source": [
    "# remove nodes that don't appear in the edges\n",
    "edge_ids = list(edge_ids)\n",
    "nodes = nodes.query('ID in @edge_ids')"
   ]
  },
  {
   "cell_type": "code",
   "execution_count": 96,
   "metadata": {},
   "outputs": [
    {
     "data": {
      "text/plain": [
       "257243"
      ]
     },
     "execution_count": 96,
     "metadata": {},
     "output_type": "execute_result"
    }
   ],
   "source": [
    "nodes['ID'].nunique()"
   ]
  },
  {
   "cell_type": "markdown",
   "metadata": {},
   "source": [
    "# 4. Save files to disk"
   ]
  },
  {
   "cell_type": "code",
   "execution_count": null,
   "metadata": {
    "collapsed": true
   },
   "outputs": [],
   "source": [
    "# Sort values before writing to disk\n",
    "nodes = nodes.sort_values('label')\n",
    "edges = edges.sort_values('type')\n",
    "\n",
    "# Add in colons required by neo4j\n",
    "nodes = gt.add_colons(nodes)\n",
    "edges = gt.add_colons(edges)\n",
    "\n",
    "nodes.to_csv('../data/nodes_VER31_R.csv', index=False)\n",
    "edges.to_csv('../data/edges_VER31_R.csv', index=False)"
   ]
  }
 ],
 "metadata": {
  "kernelspec": {
   "display_name": "Python 3",
   "language": "python",
   "name": "python3"
  }
 },
 "nbformat": 4,
 "nbformat_minor": 1
}
