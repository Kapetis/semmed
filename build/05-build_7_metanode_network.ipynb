{
 "cells": [
  {
   "cell_type": "code",
   "execution_count": 1,
   "metadata": {
    "collapsed": true
   },
   "outputs": [],
   "source": [
    "import sys\n",
    "sys.path.append('../../hetnet-ml/src')\n",
    "\n",
    "import pandas as pd\n",
    "import graph_tools as gt\n",
    "from hetio.hetnet import MetaGraph"
   ]
  },
  {
   "cell_type": "code",
   "execution_count": 2,
   "metadata": {
    "collapsed": true
   },
   "outputs": [],
   "source": [
    "def num_metapaths(nodes, edges):\n",
    "    abv, met = gt.get_abbrev_dict_and_edge_tuples(gt.add_colons(nodes), gt.add_colons(edges))\n",
    "    return len(MetaGraph.from_edge_tuples(met, abv).extract_metapaths('Chemicals & Drugs', 'Disorders', 4))"
   ]
  },
  {
   "cell_type": "code",
   "execution_count": 3,
   "metadata": {
    "collapsed": true
   },
   "outputs": [],
   "source": [
    "nodes = gt.remove_colons(pd.read_csv('../data/nodes_VER31_R_condensed_filtered_001.csv'))\n",
    "edges = gt.remove_colons(pd.read_csv('../data/edges_VER31_R_condensed_filtered_001.csv', converters={'pmids':eval}))"
   ]
  },
  {
   "cell_type": "code",
   "execution_count": 4,
   "metadata": {},
   "outputs": [
    {
     "data": {
      "text/plain": [
       "9946"
      ]
     },
     "execution_count": 4,
     "metadata": {},
     "output_type": "execute_result"
    }
   ],
   "source": [
    "num_metapaths(nodes, edges)"
   ]
  },
  {
   "cell_type": "markdown",
   "metadata": {
    "collapsed": true
   },
   "source": [
    "Right now we have 23,231 potential metapahts of length 4 or fewer. With a very modest 4000 Compounds and 2000 diseases, this will produces over 185 Billion Degree-Weighted-Path-Count values upon feature extraction.  \n",
    "\n",
    "Removal of some edges is necesary. Compound-Compound, Disease-Disease, and Compound-Disease edges have the greatest impact computational complexity and memory use during the metapah feature extraction by ballooning the potnetial number of metapaths.  These will be targetd for removal first.\n",
    "\n",
    "A couple other edge types which are not very semanticly meaningful, but highly populated, will also be removed.\n",
    "\n",
    "Finally, directed edges produce twice as many metapaths as undirected edges, as you can traverse them in the forward or reverse direction.  Some of these directed edges may be repurposed into undirected edges.\n",
    "\n",
    "- REMOVE EDGES:\n",
    "    - Compound AW Disease\n",
    "    - Compound AG Disease\n",
    "    - ASSOCIATED_WITH_CDawCD\n",
    "    - ASSOCIATED_WITH_CDawDO\n",
    "    - AUGMENTS_DOag>DO\n",
    "    - PART_OF_Gpo>G\n",
    "    - NEG_LOCATION_OF_AnloCD \n",
    "    - NEG_LOCATION_OF_AnloG \n",
    "    - compared_with_PRcfpwPR\n",
    "\n",
    "Some nodes really have little to do with bio-medical knowledge and these will also be removed.\n",
    "\n",
    "- REMOVE NODES:\n",
    "    - Organizations\n",
    "    - Activities & Behaviors\n",
    "    - Concepts & Ideas\n",
    "\n",
    "Other nodes seem like they may or may not have much to do with biomedicine.  These will be examined for possible removal as well.\n",
    "   \n",
    "- LOOK AT NODES (for potential removal):\n",
    "    - Devices\n",
    "    - Phenomena\n",
    "    - Living Beings\n",
    "    - Procedures\n",
    "\n",
    "Finally, targeting edges that produce large numbers of extra metapaths, some edges will be further condensed in semmantic type.\n",
    "\n",
    "- COMPRESS EDGES:\n",
    "    - Self-referential: compound, gene, and disease edges   \n",
    "    - Any 2 metanodes connected by 4 or more edge types"
   ]
  },
  {
   "cell_type": "markdown",
   "metadata": {},
   "source": [
    "### Removing 'Organizations', 'Activities & Behaviors', and 'Concepts & Ideas'"
   ]
  },
  {
   "cell_type": "code",
   "execution_count": 5,
   "metadata": {
    "collapsed": true
   },
   "outputs": [],
   "source": [
    "remove_types = ['Organizations', 'Activities & Behaviors', 'Concepts & Ideas']\n",
    "idx = gt.remove_colons(nodes).query('label in @remove_types').index\n",
    "nodes.drop(idx, inplace=True)"
   ]
  },
  {
   "cell_type": "code",
   "execution_count": 6,
   "metadata": {
    "collapsed": true
   },
   "outputs": [],
   "source": [
    "ok_ids = nodes['id'].unique()\n",
    "edges = edges.query('start_id in @ok_ids and end_id in @ok_ids')"
   ]
  },
  {
   "cell_type": "code",
   "execution_count": 7,
   "metadata": {},
   "outputs": [
    {
     "data": {
      "text/plain": [
       "9764"
      ]
     },
     "execution_count": 7,
     "metadata": {},
     "output_type": "execute_result"
    }
   ],
   "source": [
    "num_metapaths(nodes, edges)"
   ]
  },
  {
   "cell_type": "code",
   "execution_count": 8,
   "metadata": {},
   "outputs": [
    {
     "data": {
      "text/plain": [
       "6233"
      ]
     },
     "execution_count": 8,
     "metadata": {},
     "output_type": "execute_result"
    }
   ],
   "source": [
    "remove_types = ['Procedures', 'Devices']\n",
    "idx = gt.remove_colons(nodes).query('label in @remove_types').index\n",
    "nodes.drop(idx, inplace=True)\n",
    "ok_ids = nodes['id'].unique()\n",
    "edges = edges.query('start_id in @ok_ids and end_id in @ok_ids')\n",
    "num_metapaths(nodes, edges)"
   ]
  },
  {
   "cell_type": "code",
   "execution_count": 10,
   "metadata": {},
   "outputs": [
    {
     "name": "stdout",
     "output_type": "stream",
     "text": [
      "222102\n",
      "212121\n"
     ]
    }
   ],
   "source": [
    "print(len(ok_ids))\n",
    "print(len(set(edges['start_id']).union(set(edges['end_id']))))"
   ]
  },
  {
   "cell_type": "code",
   "execution_count": 11,
   "metadata": {
    "collapsed": true
   },
   "outputs": [],
   "source": [
    "ok_ids = list(set(edges['start_id']).union(set(edges['end_id'])))\n",
    "nodes = nodes.query('id in @ok_ids')"
   ]
  },
  {
   "cell_type": "code",
   "execution_count": 12,
   "metadata": {},
   "outputs": [
    {
     "name": "stdout",
     "output_type": "stream",
     "text": [
      "212121\n",
      "212121\n"
     ]
    }
   ],
   "source": [
    "print(len(ok_ids))\n",
    "print(len(set(edges['start_id']).union(set(edges['end_id']))))"
   ]
  },
  {
   "cell_type": "code",
   "execution_count": 13,
   "metadata": {},
   "outputs": [
    {
     "data": {
      "text/plain": [
       "10902818"
      ]
     },
     "execution_count": 13,
     "metadata": {},
     "output_type": "execute_result"
    }
   ],
   "source": [
    "len(edges)"
   ]
  },
  {
   "cell_type": "code",
   "execution_count": 14,
   "metadata": {},
   "outputs": [
    {
     "data": {
      "text/plain": [
       "1075276"
      ]
     },
     "execution_count": 14,
     "metadata": {},
     "output_type": "execute_result"
    }
   ],
   "source": [
    "len(edges.query('n_pmids >= 5'))"
   ]
  },
  {
   "cell_type": "code",
   "execution_count": 15,
   "metadata": {},
   "outputs": [
    {
     "data": {
      "text/plain": [
       "Chemicals & Drugs              83815\n",
       "Living Beings                  47441\n",
       "Disorders                      37728\n",
       "Genes & Molecular Sequences    19147\n",
       "Anatomy                        14911\n",
       "Physiology                      7968\n",
       "Phenomena                       1111\n",
       "Name: label, dtype: int64"
      ]
     },
     "execution_count": 15,
     "metadata": {},
     "output_type": "execute_result"
    }
   ],
   "source": [
    "nodes['label'].value_counts()"
   ]
  },
  {
   "cell_type": "code",
   "execution_count": 16,
   "metadata": {},
   "outputs": [
    {
     "data": {
      "text/plain": [
       "LOCATION_OF_AloCD         1000717\n",
       "ASSOCIATED_WITH_DOawDO     731651\n",
       "INTERACTS_WITH_CDiwG       692722\n",
       "TREATS_CDtDO               610001\n",
       "LOCATION_OF_AloDO          540530\n",
       "LOCATION_OF_AloG           516981\n",
       "STIMULATES_CDstCD          507388\n",
       "AFFECTS_DOafLB             471994\n",
       "PRODUCES_LBpdCD            462977\n",
       "REGULATES_CDreg>CD         434934\n",
       "STIMULATES_CDstG           375404\n",
       "AFFECTS_CDafPS             358135\n",
       "AFFECTS_CDafA              316910\n",
       "ASSOCIATED_WITH_GawDO      310501\n",
       "LOCATION_OF_AloA           264680\n",
       "AFFECTS_GafPS              247912\n",
       "INHIBITS_CDinG             238822\n",
       "AUGMENTS_CDagPS            228281\n",
       "INTERACTS_WITH_GiwG        227896\n",
       "RELATED_TO_CDrtCD          222325\n",
       "PART_OF_GpoLB              208882\n",
       "REGULATES_Greg>G           196208\n",
       "DISRUPTS_CDdsPS            180595\n",
       "AFFECTS_PSafDO             142059\n",
       "AUGMENTS_GagDO             138579\n",
       "OCCURS_IN_AoiLB            135471\n",
       "PROCESS_OF_PSpro>LB        128664\n",
       "AFFECTS_GafA               121872\n",
       "INHIBITS_GinDO             113522\n",
       "TREATS_CDtLB               104461\n",
       "AFFECTS_PSafPS             102496\n",
       "AFFECTS_CDafPH              73928\n",
       "ISA_LBi>LB                  73274\n",
       "ADMINISTERED_TO_CDatLB      61495\n",
       "CAUSES_DOcPS                56257\n",
       "CAUSES_LBcDO                48885\n",
       "LOCATION_OF_AloLB           36433\n",
       "INTERACTS_WITH_LBiwLB       36147\n",
       "AFFECTS_PHafDO              34783\n",
       "ASSOCIATED_WITH_PSawCD      33958\n",
       "LOCATION_OF_AloPS           29417\n",
       "AFFECTS_PHafPS              22495\n",
       "AFFECTS_GafPH               19332\n",
       "AFFECTS_PSafLB              14842\n",
       "PROCESS_OF_LBpro>LB         14430\n",
       "NEG_AFFECTS_CDnafA          13572\n",
       "Name: type, dtype: int64"
      ]
     },
     "execution_count": 16,
     "metadata": {},
     "output_type": "execute_result"
    }
   ],
   "source": [
    "edges['type'].value_counts()"
   ]
  },
  {
   "cell_type": "code",
   "execution_count": 17,
   "metadata": {},
   "outputs": [
    {
     "data": {
      "text/plain": [
       "LOCATION_OF_AloCD         140213\n",
       "LOCATION_OF_AloDO          81198\n",
       "AFFECTS_DOafLB             73989\n",
       "ASSOCIATED_WITH_DOawDO     71635\n",
       "TREATS_CDtDO               56837\n",
       "PRODUCES_LBpdCD            54855\n",
       "LOCATION_OF_AloG           51688\n",
       "INTERACTS_WITH_CDiwG       49084\n",
       "LOCATION_OF_AloA           43403\n",
       "RELATED_TO_CDrtCD          39492\n",
       "AFFECTS_CDafPS             31850\n",
       "STIMULATES_CDstCD          27863\n",
       "OCCURS_IN_AoiLB            24279\n",
       "AFFECTS_CDafA              23792\n",
       "STIMULATES_CDstG           23010\n",
       "REGULATES_CDreg>CD         20990\n",
       "PROCESS_OF_PSpro>LB        20361\n",
       "PART_OF_GpoLB              20322\n",
       "ASSOCIATED_WITH_GawDO      20273\n",
       "AFFECTS_GafPS              19642\n",
       "AUGMENTS_CDagPS            18272\n",
       "ISA_LBi>LB                 15523\n",
       "AFFECTS_PSafDO             14623\n",
       "TREATS_CDtLB               14363\n",
       "AFFECTS_PSafPS             14342\n",
       "DISRUPTS_CDdsPS            10886\n",
       "INHIBITS_CDinG             10527\n",
       "INTERACTS_WITH_GiwG        10164\n",
       "REGULATES_Greg>G            9946\n",
       "AUGMENTS_GagDO              6009\n",
       "AFFECTS_GafA                5927\n",
       "AFFECTS_CDafPH              5831\n",
       "CAUSES_LBcDO                5676\n",
       "CAUSES_DOcPS                5633\n",
       "ADMINISTERED_TO_CDatLB      4943\n",
       "INHIBITS_GinDO              4544\n",
       "LOCATION_OF_AloPS           4105\n",
       "LOCATION_OF_AloLB           3922\n",
       "AFFECTS_PHafPS              3430\n",
       "AFFECTS_PHafDO              3192\n",
       "INTERACTS_WITH_LBiwLB       2381\n",
       "PROCESS_OF_LBpro>LB         2364\n",
       "ASSOCIATED_WITH_PSawCD      2067\n",
       "AFFECTS_GafPH                976\n",
       "AFFECTS_PSafLB               801\n",
       "NEG_AFFECTS_CDnafA            53\n",
       "Name: type, dtype: int64"
      ]
     },
     "execution_count": 17,
     "metadata": {},
     "output_type": "execute_result"
    }
   ],
   "source": [
    "edges.query('n_pmids >= 5')['type'].value_counts()"
   ]
  },
  {
   "cell_type": "code",
   "execution_count": 18,
   "metadata": {},
   "outputs": [
    {
     "name": "stdout",
     "output_type": "stream",
     "text": [
      "10902818\n",
      "10902818\n",
      "CPU times: user 15min 17s, sys: 2.72 s, total: 15min 19s\n",
      "Wall time: 15min 19s\n"
     ]
    }
   ],
   "source": [
    "%%time\n",
    "# Some edges now duplicated, de-duplicate and combine pmids\n",
    "print(len(edges))\n",
    "grpd = edges.groupby(['start_id', 'end_id', 'type'])\n",
    "edges = grpd['pmids'].apply(lambda Series: set.union(*Series.values)).reset_index()\n",
    "\n",
    "# re-count the pmid numbers\n",
    "edges['n_pmids'] = edges['pmids'].apply(len)\n",
    "\n",
    "print(len(edges))"
   ]
  },
  {
   "cell_type": "code",
   "execution_count": 19,
   "metadata": {
    "collapsed": true
   },
   "outputs": [],
   "source": [
    "gt.add_colons(nodes).to_csv('../data/nodes_VER31_R_7_metanode.csv', index=False)\n",
    "gt.add_colons(edges).to_csv('../data/edges_VER31_R_7_metanode.csv', index=False)"
   ]
  },
  {
   "cell_type": "code",
   "execution_count": null,
   "metadata": {
    "collapsed": true
   },
   "outputs": [],
   "source": []
  }
 ],
 "metadata": {
  "kernelspec": {
   "display_name": "Python 3",
   "language": "python",
   "name": "python3"
  },
  "language_info": {
   "codemirror_mode": {
    "name": "ipython",
    "version": 3
   },
   "file_extension": ".py",
   "mimetype": "text/x-python",
   "name": "python",
   "nbconvert_exporter": "python",
   "pygments_lexer": "ipython3",
   "version": "3.5.4"
  }
 },
 "nbformat": 4,
 "nbformat_minor": 2
}
