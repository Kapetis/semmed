{
 "cells": [
  {
   "cell_type": "code",
   "execution_count": 1,
   "metadata": {
    "collapsed": true
   },
   "outputs": [],
   "source": [
    "import os\n",
    "import pickle\n",
    "%matplotlib inline\n",
    "import pandas as pd\n",
    "import seaborn as sns\n",
    "from tqdm import tqdm\n",
    "from collections import defaultdict\n",
    "\n",
    "import sys\n",
    "sys.path.append('../../hetnet-ml/src')\n",
    "import graph_tools as gt"
   ]
  },
  {
   "cell_type": "code",
   "execution_count": 2,
   "metadata": {
    "collapsed": true
   },
   "outputs": [],
   "source": [
    "nodes = gt.remove_colons(pd.read_csv('../data/nodes_VER31_R.csv'))\n",
    "edges = gt.remove_colons(pd.read_csv('../data/edges_VER31_R.csv', converters={'pmids':eval}))"
   ]
  },
  {
   "cell_type": "code",
   "execution_count": 3,
   "metadata": {},
   "outputs": [
    {
     "data": {
      "text/html": [
       "<div>\n",
       "<style>\n",
       "    .dataframe thead tr:only-child th {\n",
       "        text-align: right;\n",
       "    }\n",
       "\n",
       "    .dataframe thead th {\n",
       "        text-align: left;\n",
       "    }\n",
       "\n",
       "    .dataframe tbody tr th {\n",
       "        vertical-align: top;\n",
       "    }\n",
       "</style>\n",
       "<table border=\"1\" class=\"dataframe\">\n",
       "  <thead>\n",
       "    <tr style=\"text-align: right;\">\n",
       "      <th></th>\n",
       "      <th>id</th>\n",
       "      <th>name</th>\n",
       "      <th>label</th>\n",
       "    </tr>\n",
       "  </thead>\n",
       "  <tbody>\n",
       "    <tr>\n",
       "      <th>0</th>\n",
       "      <td>C0260116</td>\n",
       "      <td>Personnel directors</td>\n",
       "      <td>Activities &amp; Behaviors</td>\n",
       "    </tr>\n",
       "    <tr>\n",
       "      <th>1</th>\n",
       "      <td>C0008081</td>\n",
       "      <td>Child Language</td>\n",
       "      <td>Activities &amp; Behaviors</td>\n",
       "    </tr>\n",
       "    <tr>\n",
       "      <th>2</th>\n",
       "      <td>C1514989</td>\n",
       "      <td>Strenuous Exercise</td>\n",
       "      <td>Activities &amp; Behaviors</td>\n",
       "    </tr>\n",
       "    <tr>\n",
       "      <th>3</th>\n",
       "      <td>C0395000</td>\n",
       "      <td>School refusal</td>\n",
       "      <td>Activities &amp; Behaviors</td>\n",
       "    </tr>\n",
       "    <tr>\n",
       "      <th>4</th>\n",
       "      <td>C0021189</td>\n",
       "      <td>Independent Living</td>\n",
       "      <td>Activities &amp; Behaviors</td>\n",
       "    </tr>\n",
       "  </tbody>\n",
       "</table>\n",
       "</div>"
      ],
      "text/plain": [
       "         id                 name                   label\n",
       "0  C0260116  Personnel directors  Activities & Behaviors\n",
       "1  C0008081       Child Language  Activities & Behaviors\n",
       "2  C1514989   Strenuous Exercise  Activities & Behaviors\n",
       "3  C0395000       School refusal  Activities & Behaviors\n",
       "4  C0021189   Independent Living  Activities & Behaviors"
      ]
     },
     "execution_count": 3,
     "metadata": {},
     "output_type": "execute_result"
    }
   ],
   "source": [
    "nodes.head()"
   ]
  },
  {
   "cell_type": "code",
   "execution_count": 4,
   "metadata": {},
   "outputs": [
    {
     "data": {
      "text/html": [
       "<div>\n",
       "<style>\n",
       "    .dataframe thead tr:only-child th {\n",
       "        text-align: right;\n",
       "    }\n",
       "\n",
       "    .dataframe thead th {\n",
       "        text-align: left;\n",
       "    }\n",
       "\n",
       "    .dataframe tbody tr th {\n",
       "        vertical-align: top;\n",
       "    }\n",
       "</style>\n",
       "<table border=\"1\" class=\"dataframe\">\n",
       "  <thead>\n",
       "    <tr style=\"text-align: right;\">\n",
       "      <th></th>\n",
       "      <th>start_id</th>\n",
       "      <th>end_id</th>\n",
       "      <th>type</th>\n",
       "      <th>pmids</th>\n",
       "      <th>n_pmids</th>\n",
       "    </tr>\n",
       "  </thead>\n",
       "  <tbody>\n",
       "    <tr>\n",
       "      <th>0</th>\n",
       "      <td>C1273870</td>\n",
       "      <td>C1138603</td>\n",
       "      <td>ADMINISTERED_TO_ABatCI</td>\n",
       "      <td>{15842188, 12943031}</td>\n",
       "      <td>2</td>\n",
       "    </tr>\n",
       "    <tr>\n",
       "      <th>1</th>\n",
       "      <td>C1273870</td>\n",
       "      <td>C0600241</td>\n",
       "      <td>ADMINISTERED_TO_ABatDO</td>\n",
       "      <td>{24831754}</td>\n",
       "      <td>1</td>\n",
       "    </tr>\n",
       "    <tr>\n",
       "      <th>2</th>\n",
       "      <td>C0035028</td>\n",
       "      <td>C0008059</td>\n",
       "      <td>ADMINISTERED_TO_ABatLB</td>\n",
       "      <td>{9745800, 2082268}</td>\n",
       "      <td>2</td>\n",
       "    </tr>\n",
       "    <tr>\n",
       "      <th>3</th>\n",
       "      <td>C1273870</td>\n",
       "      <td>C0030551</td>\n",
       "      <td>ADMINISTERED_TO_ABatLB</td>\n",
       "      <td>{11120897, 221066, 991595, 11993452, 27830922,...</td>\n",
       "      <td>10</td>\n",
       "    </tr>\n",
       "    <tr>\n",
       "      <th>4</th>\n",
       "      <td>C0035028</td>\n",
       "      <td>C0085756</td>\n",
       "      <td>ADMINISTERED_TO_ABatLB</td>\n",
       "      <td>{21504264}</td>\n",
       "      <td>1</td>\n",
       "    </tr>\n",
       "    <tr>\n",
       "      <th>5</th>\n",
       "      <td>C0035028</td>\n",
       "      <td>C0085979</td>\n",
       "      <td>ADMINISTERED_TO_ABatLB</td>\n",
       "      <td>{15834207}</td>\n",
       "      <td>1</td>\n",
       "    </tr>\n",
       "    <tr>\n",
       "      <th>6</th>\n",
       "      <td>C1273870</td>\n",
       "      <td>C1527117</td>\n",
       "      <td>ADMINISTERED_TO_ABatLB</td>\n",
       "      <td>{10886431}</td>\n",
       "      <td>1</td>\n",
       "    </tr>\n",
       "    <tr>\n",
       "      <th>7</th>\n",
       "      <td>C1273870</td>\n",
       "      <td>C0030705</td>\n",
       "      <td>ADMINISTERED_TO_ABatLB</td>\n",
       "      <td>{9670657, 1572866, 16762884, 26988552, 2377524...</td>\n",
       "      <td>922</td>\n",
       "    </tr>\n",
       "    <tr>\n",
       "      <th>8</th>\n",
       "      <td>C0035028</td>\n",
       "      <td>C0086418</td>\n",
       "      <td>ADMINISTERED_TO_ABatLB</td>\n",
       "      <td>{968049, 8530324, 26267901}</td>\n",
       "      <td>3</td>\n",
       "    </tr>\n",
       "    <tr>\n",
       "      <th>9</th>\n",
       "      <td>C1273870</td>\n",
       "      <td>C0031323</td>\n",
       "      <td>ADMINISTERED_TO_ABatLB</td>\n",
       "      <td>{28411014, 28018151, 27579828, 26975638, 16154...</td>\n",
       "      <td>6</td>\n",
       "    </tr>\n",
       "  </tbody>\n",
       "</table>\n",
       "</div>"
      ],
      "text/plain": [
       "   start_id    end_id                    type  \\\n",
       "0  C1273870  C1138603  ADMINISTERED_TO_ABatCI   \n",
       "1  C1273870  C0600241  ADMINISTERED_TO_ABatDO   \n",
       "2  C0035028  C0008059  ADMINISTERED_TO_ABatLB   \n",
       "3  C1273870  C0030551  ADMINISTERED_TO_ABatLB   \n",
       "4  C0035028  C0085756  ADMINISTERED_TO_ABatLB   \n",
       "5  C0035028  C0085979  ADMINISTERED_TO_ABatLB   \n",
       "6  C1273870  C1527117  ADMINISTERED_TO_ABatLB   \n",
       "7  C1273870  C0030705  ADMINISTERED_TO_ABatLB   \n",
       "8  C0035028  C0086418  ADMINISTERED_TO_ABatLB   \n",
       "9  C1273870  C0031323  ADMINISTERED_TO_ABatLB   \n",
       "\n",
       "                                               pmids  n_pmids  \n",
       "0                               {15842188, 12943031}        2  \n",
       "1                                         {24831754}        1  \n",
       "2                                 {9745800, 2082268}        2  \n",
       "3  {11120897, 221066, 991595, 11993452, 27830922,...       10  \n",
       "4                                         {21504264}        1  \n",
       "5                                         {15834207}        1  \n",
       "6                                         {10886431}        1  \n",
       "7  {9670657, 1572866, 16762884, 26988552, 2377524...      922  \n",
       "8                        {968049, 8530324, 26267901}        3  \n",
       "9  {28411014, 28018151, 27579828, 26975638, 16154...        6  "
      ]
     },
     "execution_count": 4,
     "metadata": {},
     "output_type": "execute_result"
    }
   ],
   "source": [
    "edges.head(10)"
   ]
  },
  {
   "cell_type": "code",
   "execution_count": 5,
   "metadata": {
    "collapsed": true
   },
   "outputs": [],
   "source": [
    "def sanitize(x):\n",
    "    \"\"\"Some pmids have the appearance of '2015332 [3]' for some reason. This fixes that\"\"\"\n",
    "    if type(x) == str:\n",
    "        if ' ' in x:\n",
    "            x = x.split(' ')[0]\n",
    "    return x\n",
    "\n",
    "# Some pmids are appearing as string, e.g. row 6.  They should all be int\n",
    "edges['pmids'] = edges['pmids'].apply(lambda ids: set([int(sanitize(x)) for x in ids]))"
   ]
  },
  {
   "cell_type": "code",
   "execution_count": 6,
   "metadata": {
    "collapsed": true
   },
   "outputs": [],
   "source": [
    "edge_map = pd.read_csv('../data/edge_condense_map.csv')"
   ]
  },
  {
   "cell_type": "code",
   "execution_count": 7,
   "metadata": {},
   "outputs": [
    {
     "data": {
      "text/html": [
       "<div>\n",
       "<style>\n",
       "    .dataframe thead tr:only-child th {\n",
       "        text-align: right;\n",
       "    }\n",
       "\n",
       "    .dataframe thead th {\n",
       "        text-align: left;\n",
       "    }\n",
       "\n",
       "    .dataframe tbody tr th {\n",
       "        vertical-align: top;\n",
       "    }\n",
       "</style>\n",
       "<table border=\"1\" class=\"dataframe\">\n",
       "  <thead>\n",
       "    <tr style=\"text-align: right;\">\n",
       "      <th></th>\n",
       "      <th>original_edge</th>\n",
       "      <th>condensed_to</th>\n",
       "      <th>relationship</th>\n",
       "      <th>reverse</th>\n",
       "      <th>node_semtypes</th>\n",
       "    </tr>\n",
       "  </thead>\n",
       "  <tbody>\n",
       "    <tr>\n",
       "      <th>0</th>\n",
       "      <td>AFFECTS_ABafAB</td>\n",
       "      <td>AFFECTS_ABafAB</td>\n",
       "      <td>neutral</td>\n",
       "      <td>False</td>\n",
       "      <td>Activities &amp; Behaviors --- Activities &amp; Behaviors</td>\n",
       "    </tr>\n",
       "    <tr>\n",
       "      <th>1</th>\n",
       "      <td>PREDISPOSES_ABpsAB</td>\n",
       "      <td>AFFECTS_ABafAB</td>\n",
       "      <td>neutral</td>\n",
       "      <td>False</td>\n",
       "      <td>Activities &amp; Behaviors --- Activities &amp; Behaviors</td>\n",
       "    </tr>\n",
       "  </tbody>\n",
       "</table>\n",
       "</div>"
      ],
      "text/plain": [
       "        original_edge    condensed_to relationship  reverse  \\\n",
       "0      AFFECTS_ABafAB  AFFECTS_ABafAB      neutral    False   \n",
       "1  PREDISPOSES_ABpsAB  AFFECTS_ABafAB      neutral    False   \n",
       "\n",
       "                                       node_semtypes  \n",
       "0  Activities & Behaviors --- Activities & Behaviors  \n",
       "1  Activities & Behaviors --- Activities & Behaviors  "
      ]
     },
     "execution_count": 7,
     "metadata": {},
     "output_type": "execute_result"
    }
   ],
   "source": [
    "edge_map.head(2)"
   ]
  },
  {
   "cell_type": "code",
   "execution_count": 8,
   "metadata": {
    "collapsed": true
   },
   "outputs": [],
   "source": [
    "def change_edge_type(from_type, to_type, swap=False):\n",
    "    idx = edges.query('type == @from_type').index\n",
    "    edges.loc[idx, 'type'] = to_type\n",
    "    if swap:\n",
    "        tmp = edges.loc[idx, 'start_id']\n",
    "        edges.loc[idx, 'start_id'] = edges.loc[idx, 'end_id']\n",
    "        edges.loc[idx, 'end_id'] = tmp\n",
    "                                             \n",
    "def merge_edge_types(from_list, to_type, swap=False):\n",
    "    for from_type in from_list:\n",
    "        change_edge_type(from_type, to_type, swap=swap)\n",
    "        \n",
    "def drop_edges_from_list(drop_edges):\n",
    "    idx = edges.query('type in @drop_edges').index\n",
    "    edges.drop(idx, inplace=True)"
   ]
  },
  {
   "cell_type": "code",
   "execution_count": 9,
   "metadata": {},
   "outputs": [
    {
     "name": "stderr",
     "output_type": "stream",
     "text": [
      "100%|██████████| 291/291 [04:42<00:00,  1.03it/s]\n"
     ]
    }
   ],
   "source": [
    "# Order is order in which condensations are made, so important to preserve\n",
    "for row in tqdm(edge_map.itertuples(), total=len(edge_map)):\n",
    "    change_edge_type(row.original_edge, row.condensed_to, swap=row.reverse)\n",
    "edges = edges.dropna(subset=['type']).reset_index(drop=True)"
   ]
  },
  {
   "cell_type": "code",
   "execution_count": 10,
   "metadata": {},
   "outputs": [
    {
     "data": {
      "text/plain": [
       "2743"
      ]
     },
     "execution_count": 10,
     "metadata": {},
     "output_type": "execute_result"
    }
   ],
   "source": [
    "edges['type'].nunique()"
   ]
  },
  {
   "cell_type": "markdown",
   "metadata": {},
   "source": [
    "### Fix Potential problems of duplicated undirected edges"
   ]
  },
  {
   "cell_type": "code",
   "execution_count": 11,
   "metadata": {
    "collapsed": true
   },
   "outputs": [],
   "source": [
    "abv, met = gt.get_abbrev_dict_and_edge_tuples(gt.add_colons(nodes), gt.add_colons(edges))"
   ]
  },
  {
   "cell_type": "code",
   "execution_count": 12,
   "metadata": {},
   "outputs": [],
   "source": [
    "id_to_label = gt.map_id_to_value(gt.add_colons(nodes), ':LABEL')"
   ]
  },
  {
   "cell_type": "code",
   "execution_count": 13,
   "metadata": {},
   "outputs": [
    {
     "name": "stderr",
     "output_type": "stream",
     "text": [
      "100%|██████████| 16151935/16151935 [00:55<00:00, 293566.95it/s]\n"
     ]
    }
   ],
   "source": [
    "edges['start_label'] = edges['start_id'].map(lambda c: id_to_label[c])\n",
    "edges['end_label'] = edges['end_id'].map(lambda c: id_to_label[c])\n",
    "edges['sem'] = edges['type'].map(lambda e: '_'.join(e.split('_')[:-1]))\n",
    "\n",
    "edges['abbrev'] = edges['type'].map(lambda e: e.split('_')[-1])\n",
    "\n",
    "proper_abbrevs = []\n",
    "for e in tqdm(edges.itertuples(), total=len(edges)):\n",
    "    if '>' in e.abbrev:\n",
    "        abbrev = abv[e.start_label] + abv[e.sem] + '>' + abv[e.end_label]\n",
    "    else:\n",
    "        abbrev = abv[e.start_label] + abv[e.sem] + abv[e.end_label]\n",
    "    proper_abbrevs.append(abbrev)\n",
    "    \n",
    "edges['calc_abbrev'] = proper_abbrevs"
   ]
  },
  {
   "cell_type": "code",
   "execution_count": 14,
   "metadata": {},
   "outputs": [
    {
     "data": {
      "text/html": [
       "<div>\n",
       "<style>\n",
       "    .dataframe thead tr:only-child th {\n",
       "        text-align: right;\n",
       "    }\n",
       "\n",
       "    .dataframe thead th {\n",
       "        text-align: left;\n",
       "    }\n",
       "\n",
       "    .dataframe tbody tr th {\n",
       "        vertical-align: top;\n",
       "    }\n",
       "</style>\n",
       "<table border=\"1\" class=\"dataframe\">\n",
       "  <thead>\n",
       "    <tr style=\"text-align: right;\">\n",
       "      <th></th>\n",
       "      <th>start_id</th>\n",
       "      <th>end_id</th>\n",
       "      <th>type</th>\n",
       "      <th>pmids</th>\n",
       "      <th>n_pmids</th>\n",
       "      <th>start_label</th>\n",
       "      <th>end_label</th>\n",
       "      <th>sem</th>\n",
       "      <th>abbrev</th>\n",
       "      <th>calc_abbrev</th>\n",
       "    </tr>\n",
       "  </thead>\n",
       "  <tbody>\n",
       "    <tr>\n",
       "      <th>0</th>\n",
       "      <td>C1273870</td>\n",
       "      <td>C1138603</td>\n",
       "      <td>ADMINISTERED_TO_ABatCI</td>\n",
       "      <td>{15842188, 12943031}</td>\n",
       "      <td>2</td>\n",
       "      <td>Activities &amp; Behaviors</td>\n",
       "      <td>Concepts &amp; Ideas</td>\n",
       "      <td>ADMINISTERED_TO</td>\n",
       "      <td>ABatCI</td>\n",
       "      <td>ABatCI</td>\n",
       "    </tr>\n",
       "    <tr>\n",
       "      <th>1</th>\n",
       "      <td>C1273870</td>\n",
       "      <td>C0600241</td>\n",
       "      <td>ADMINISTERED_TO_ABatDO</td>\n",
       "      <td>{24831754}</td>\n",
       "      <td>1</td>\n",
       "      <td>Activities &amp; Behaviors</td>\n",
       "      <td>Disorders</td>\n",
       "      <td>ADMINISTERED_TO</td>\n",
       "      <td>ABatDO</td>\n",
       "      <td>ABatDO</td>\n",
       "    </tr>\n",
       "  </tbody>\n",
       "</table>\n",
       "</div>"
      ],
      "text/plain": [
       "   start_id    end_id                    type                 pmids  n_pmids  \\\n",
       "0  C1273870  C1138603  ADMINISTERED_TO_ABatCI  {15842188, 12943031}        2   \n",
       "1  C1273870  C0600241  ADMINISTERED_TO_ABatDO            {24831754}        1   \n",
       "\n",
       "              start_label         end_label              sem  abbrev  \\\n",
       "0  Activities & Behaviors  Concepts & Ideas  ADMINISTERED_TO  ABatCI   \n",
       "1  Activities & Behaviors         Disorders  ADMINISTERED_TO  ABatDO   \n",
       "\n",
       "  calc_abbrev  \n",
       "0      ABatCI  \n",
       "1      ABatDO  "
      ]
     },
     "execution_count": 14,
     "metadata": {},
     "output_type": "execute_result"
    }
   ],
   "source": [
    "edges.head(2)"
   ]
  },
  {
   "cell_type": "code",
   "execution_count": 15,
   "metadata": {},
   "outputs": [
    {
     "data": {
      "text/plain": [
       "0"
      ]
     },
     "execution_count": 15,
     "metadata": {},
     "output_type": "execute_result"
    }
   ],
   "source": [
    "idx = edges['calc_abbrev'] != edges['abbrev']\n",
    "idx.sum()"
   ]
  },
  {
   "cell_type": "code",
   "execution_count": 16,
   "metadata": {},
   "outputs": [],
   "source": [
    "# Get the edges that are un-directed, between same type\n",
    "idx = edges['start_label'] == edges['end_label']\n",
    "\n",
    "self_refferential_types = edges.loc[idx, 'type'].unique()\n",
    "self_refferential_types = [e for e in self_refferential_types if '>' not in e]"
   ]
  },
  {
   "cell_type": "code",
   "execution_count": 17,
   "metadata": {},
   "outputs": [
    {
     "name": "stderr",
     "output_type": "stream",
     "text": [
      "100%|██████████| 287/287 [02:23<00:00,  2.23it/s]\n"
     ]
    }
   ],
   "source": [
    "# Get a sorted CUI Map\n",
    "\n",
    "edge_map = {}\n",
    "\n",
    "for kind in tqdm(self_refferential_types):\n",
    "    pmid_map = defaultdict(set)\n",
    "    subedges = edges.query('type == @kind')\n",
    "    \n",
    "    for row in subedges.itertuples():\n",
    "        edge_id = tuple(sorted([row.start_id, row.end_id]))\n",
    "        \n",
    "        pmid_map[edge_id] = pmid_map[edge_id].union(row.pmids)\n",
    "        edge_map[kind] = pmid_map"
   ]
  },
  {
   "cell_type": "code",
   "execution_count": 18,
   "metadata": {
    "collapsed": true
   },
   "outputs": [],
   "source": [
    "# Convert back to a DataFrame\n",
    "kinds = []\n",
    "start_ids = []\n",
    "end_ids = []\n",
    "pmids = []\n",
    "\n",
    "for kind, e_dict in edge_map.items():\n",
    "    for (s_id, e_id), pms in e_dict.items():\n",
    "        kinds.append(kind)\n",
    "        start_ids.append(s_id)\n",
    "        end_ids.append(e_id)\n",
    "        pmids.append(pms)\n",
    "        \n",
    "fixed_edges = pd.DataFrame({'start_id': start_ids, 'end_id': end_ids, 'type': kinds, 'pmids': pmids})"
   ]
  },
  {
   "cell_type": "code",
   "execution_count": 19,
   "metadata": {},
   "outputs": [
    {
     "data": {
      "text/plain": [
       "(2286010, 3760043)"
      ]
     },
     "execution_count": 19,
     "metadata": {},
     "output_type": "execute_result"
    }
   ],
   "source": [
    "len(fixed_edges), len(edges.loc[idx])"
   ]
  },
  {
   "cell_type": "code",
   "execution_count": 20,
   "metadata": {},
   "outputs": [
    {
     "data": {
      "text/html": [
       "<div>\n",
       "<style>\n",
       "    .dataframe thead tr:only-child th {\n",
       "        text-align: right;\n",
       "    }\n",
       "\n",
       "    .dataframe thead th {\n",
       "        text-align: left;\n",
       "    }\n",
       "\n",
       "    .dataframe tbody tr th {\n",
       "        vertical-align: top;\n",
       "    }\n",
       "</style>\n",
       "<table border=\"1\" class=\"dataframe\">\n",
       "  <thead>\n",
       "    <tr style=\"text-align: right;\">\n",
       "      <th></th>\n",
       "      <th>end_id</th>\n",
       "      <th>pmids</th>\n",
       "      <th>start_id</th>\n",
       "      <th>type</th>\n",
       "    </tr>\n",
       "  </thead>\n",
       "  <tbody>\n",
       "    <tr>\n",
       "      <th>0</th>\n",
       "      <td>C0439824</td>\n",
       "      <td>{3980757}</td>\n",
       "      <td>C0205087</td>\n",
       "      <td>OCCURS_IN_CIoiCI</td>\n",
       "    </tr>\n",
       "    <tr>\n",
       "      <th>1</th>\n",
       "      <td>C0449238</td>\n",
       "      <td>{26844580}</td>\n",
       "      <td>C0439824</td>\n",
       "      <td>OCCURS_IN_CIoiCI</td>\n",
       "    </tr>\n",
       "    <tr>\n",
       "      <th>2</th>\n",
       "      <td>C0439824</td>\n",
       "      <td>{15832627, 17445292}</td>\n",
       "      <td>C0205390</td>\n",
       "      <td>OCCURS_IN_CIoiCI</td>\n",
       "    </tr>\n",
       "    <tr>\n",
       "      <th>3</th>\n",
       "      <td>C0439824</td>\n",
       "      <td>{26736629}</td>\n",
       "      <td>C0040223</td>\n",
       "      <td>OCCURS_IN_CIoiCI</td>\n",
       "    </tr>\n",
       "    <tr>\n",
       "      <th>4</th>\n",
       "      <td>C2362520</td>\n",
       "      <td>{19727847}</td>\n",
       "      <td>C1547085</td>\n",
       "      <td>OCCURS_IN_CIoiCI</td>\n",
       "    </tr>\n",
       "  </tbody>\n",
       "</table>\n",
       "</div>"
      ],
      "text/plain": [
       "     end_id                 pmids  start_id              type\n",
       "0  C0439824             {3980757}  C0205087  OCCURS_IN_CIoiCI\n",
       "1  C0449238            {26844580}  C0439824  OCCURS_IN_CIoiCI\n",
       "2  C0439824  {15832627, 17445292}  C0205390  OCCURS_IN_CIoiCI\n",
       "3  C0439824            {26736629}  C0040223  OCCURS_IN_CIoiCI\n",
       "4  C2362520            {19727847}  C1547085  OCCURS_IN_CIoiCI"
      ]
     },
     "execution_count": 20,
     "metadata": {},
     "output_type": "execute_result"
    }
   ],
   "source": [
    "fixed_edges.head()"
   ]
  },
  {
   "cell_type": "code",
   "execution_count": 21,
   "metadata": {},
   "outputs": [
    {
     "data": {
      "text/html": [
       "<div>\n",
       "<style>\n",
       "    .dataframe thead tr:only-child th {\n",
       "        text-align: right;\n",
       "    }\n",
       "\n",
       "    .dataframe thead th {\n",
       "        text-align: left;\n",
       "    }\n",
       "\n",
       "    .dataframe tbody tr th {\n",
       "        vertical-align: top;\n",
       "    }\n",
       "</style>\n",
       "<table border=\"1\" class=\"dataframe\">\n",
       "  <thead>\n",
       "    <tr style=\"text-align: right;\">\n",
       "      <th></th>\n",
       "      <th>end_id</th>\n",
       "      <th>pmids</th>\n",
       "      <th>start_id</th>\n",
       "      <th>type</th>\n",
       "    </tr>\n",
       "  </thead>\n",
       "  <tbody>\n",
       "    <tr>\n",
       "      <th>2286005</th>\n",
       "      <td>C0418981</td>\n",
       "      <td>{11092105}</td>\n",
       "      <td>C0418981</td>\n",
       "      <td>lower_than_PRltPR</td>\n",
       "    </tr>\n",
       "    <tr>\n",
       "      <th>2286006</th>\n",
       "      <td>C0851827</td>\n",
       "      <td>{6453959}</td>\n",
       "      <td>C0220905</td>\n",
       "      <td>NEG_USES_CInuCI</td>\n",
       "    </tr>\n",
       "    <tr>\n",
       "      <th>2286007</th>\n",
       "      <td>C0427861</td>\n",
       "      <td>{7850918}</td>\n",
       "      <td>C0013203</td>\n",
       "      <td>NEG_MANIFESTATION_OF_PHnmfoPH</td>\n",
       "    </tr>\n",
       "    <tr>\n",
       "      <th>2286008</th>\n",
       "      <td>C0549255</td>\n",
       "      <td>{1731054}</td>\n",
       "      <td>C0026606</td>\n",
       "      <td>NEG_CAUSES_ABncAB</td>\n",
       "    </tr>\n",
       "    <tr>\n",
       "      <th>2286009</th>\n",
       "      <td>C0518605</td>\n",
       "      <td>{12054383}</td>\n",
       "      <td>C0015259</td>\n",
       "      <td>NEG_CAUSES_ABncAB</td>\n",
       "    </tr>\n",
       "  </tbody>\n",
       "</table>\n",
       "</div>"
      ],
      "text/plain": [
       "           end_id       pmids  start_id                           type\n",
       "2286005  C0418981  {11092105}  C0418981              lower_than_PRltPR\n",
       "2286006  C0851827   {6453959}  C0220905                NEG_USES_CInuCI\n",
       "2286007  C0427861   {7850918}  C0013203  NEG_MANIFESTATION_OF_PHnmfoPH\n",
       "2286008  C0549255   {1731054}  C0026606              NEG_CAUSES_ABncAB\n",
       "2286009  C0518605  {12054383}  C0015259              NEG_CAUSES_ABncAB"
      ]
     },
     "execution_count": 21,
     "metadata": {},
     "output_type": "execute_result"
    }
   ],
   "source": [
    "fixed_edges.tail()"
   ]
  },
  {
   "cell_type": "code",
   "execution_count": 22,
   "metadata": {},
   "outputs": [
    {
     "name": "stdout",
     "output_type": "stream",
     "text": [
      "16,151,935\n",
      "12,391,892\n"
     ]
    }
   ],
   "source": [
    "print('{:,}'.format(len(edges)))\n",
    "edges.drop(idx[idx].index, inplace=True)\n",
    "print('{:,}'.format(len(edges)))"
   ]
  },
  {
   "cell_type": "code",
   "execution_count": 23,
   "metadata": {},
   "outputs": [
    {
     "name": "stdout",
     "output_type": "stream",
     "text": [
      "14,677,902\n"
     ]
    }
   ],
   "source": [
    "edges = pd.concat([edges, fixed_edges])\n",
    "print('{:,}'.format(len(edges)))"
   ]
  },
  {
   "cell_type": "code",
   "execution_count": 24,
   "metadata": {},
   "outputs": [],
   "source": [
    "edges = edges[['start_id', 'end_id', 'type', 'pmids']]"
   ]
  },
  {
   "cell_type": "code",
   "execution_count": 25,
   "metadata": {},
   "outputs": [
    {
     "data": {
      "text/html": [
       "<div>\n",
       "<style>\n",
       "    .dataframe thead tr:only-child th {\n",
       "        text-align: right;\n",
       "    }\n",
       "\n",
       "    .dataframe thead th {\n",
       "        text-align: left;\n",
       "    }\n",
       "\n",
       "    .dataframe tbody tr th {\n",
       "        vertical-align: top;\n",
       "    }\n",
       "</style>\n",
       "<table border=\"1\" class=\"dataframe\">\n",
       "  <thead>\n",
       "    <tr style=\"text-align: right;\">\n",
       "      <th></th>\n",
       "      <th>start_id</th>\n",
       "      <th>end_id</th>\n",
       "      <th>type</th>\n",
       "      <th>pmids</th>\n",
       "    </tr>\n",
       "  </thead>\n",
       "  <tbody>\n",
       "    <tr>\n",
       "      <th>0</th>\n",
       "      <td>C1273870</td>\n",
       "      <td>C1138603</td>\n",
       "      <td>ADMINISTERED_TO_ABatCI</td>\n",
       "      <td>{15842188, 12943031}</td>\n",
       "    </tr>\n",
       "    <tr>\n",
       "      <th>1</th>\n",
       "      <td>C1273870</td>\n",
       "      <td>C0600241</td>\n",
       "      <td>ADMINISTERED_TO_ABatDO</td>\n",
       "      <td>{24831754}</td>\n",
       "    </tr>\n",
       "    <tr>\n",
       "      <th>2</th>\n",
       "      <td>C0035028</td>\n",
       "      <td>C0008059</td>\n",
       "      <td>ADMINISTERED_TO_ABatLB</td>\n",
       "      <td>{9745800, 2082268}</td>\n",
       "    </tr>\n",
       "    <tr>\n",
       "      <th>3</th>\n",
       "      <td>C1273870</td>\n",
       "      <td>C0030551</td>\n",
       "      <td>ADMINISTERED_TO_ABatLB</td>\n",
       "      <td>{11120897, 221066, 14735595, 991595, 11993452,...</td>\n",
       "    </tr>\n",
       "    <tr>\n",
       "      <th>4</th>\n",
       "      <td>C0035028</td>\n",
       "      <td>C0085756</td>\n",
       "      <td>ADMINISTERED_TO_ABatLB</td>\n",
       "      <td>{21504264}</td>\n",
       "    </tr>\n",
       "  </tbody>\n",
       "</table>\n",
       "</div>"
      ],
      "text/plain": [
       "   start_id    end_id                    type  \\\n",
       "0  C1273870  C1138603  ADMINISTERED_TO_ABatCI   \n",
       "1  C1273870  C0600241  ADMINISTERED_TO_ABatDO   \n",
       "2  C0035028  C0008059  ADMINISTERED_TO_ABatLB   \n",
       "3  C1273870  C0030551  ADMINISTERED_TO_ABatLB   \n",
       "4  C0035028  C0085756  ADMINISTERED_TO_ABatLB   \n",
       "\n",
       "                                               pmids  \n",
       "0                               {15842188, 12943031}  \n",
       "1                                         {24831754}  \n",
       "2                                 {9745800, 2082268}  \n",
       "3  {11120897, 221066, 14735595, 991595, 11993452,...  \n",
       "4                                         {21504264}  "
      ]
     },
     "execution_count": 25,
     "metadata": {},
     "output_type": "execute_result"
    }
   ],
   "source": [
    "edges.head()"
   ]
  },
  {
   "cell_type": "code",
   "execution_count": 26,
   "metadata": {},
   "outputs": [
    {
     "name": "stdout",
     "output_type": "stream",
     "text": [
      "14677902\n",
      "13284096\n",
      "CPU times: user 19min 24s, sys: 1.64 s, total: 19min 26s\n",
      "Wall time: 19min 26s\n"
     ]
    }
   ],
   "source": [
    "%%time\n",
    "\n",
    "print('{:,}'.format(len(edges)))\n",
    "\n",
    "# Some edges now duplicated, de-duplicate and combine pmids\n",
    "grpd = edges.groupby(['start_id', 'end_id', 'type'])\n",
    "edges = grpd['pmids'].apply(lambda Series: set.union(*Series.values)).reset_index()\n",
    "\n",
    "# re-count the pmid numbers\n",
    "edges['n_pmids'] = edges['pmids'].apply(len)\n",
    "\n",
    "print('{:,}'.format(len(edges)))"
   ]
  },
  {
   "cell_type": "code",
   "execution_count": 27,
   "metadata": {
    "collapsed": true
   },
   "outputs": [],
   "source": [
    "# Sort values before writing to disk\n",
    "nodes = nodes.sort_values('label')\n",
    "edges = edges.sort_values('type')\n",
    "\n",
    "# Add in colons required by neo4j\n",
    "nodes = gt.add_colons(nodes)\n",
    "edges = gt.add_colons(edges)\n",
    "\n",
    "nodes.to_csv('../data/nodes_VER31_R_condensed.csv', index=False)\n",
    "edges.to_csv('../data/edges_VER31_R_condensed.csv', index=False)"
   ]
  }
 ],
 "metadata": {
  "kernelspec": {
   "display_name": "Python 3",
   "language": "python",
   "name": "python3"
  },
  "language_info": {
   "codemirror_mode": {
    "name": "ipython",
    "version": 3
   },
   "file_extension": ".py",
   "mimetype": "text/x-python",
   "name": "python",
   "nbconvert_exporter": "python",
   "pygments_lexer": "ipython3",
   "version": "3.5.4"
  }
 },
 "nbformat": 4,
 "nbformat_minor": 1
}
