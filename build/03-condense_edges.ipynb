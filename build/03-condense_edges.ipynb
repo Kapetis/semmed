{
 "cells": [
  {
   "cell_type": "code",
   "execution_count": 1,
   "metadata": {
    "collapsed": true
   },
   "outputs": [],
   "source": [
    "import os\n",
    "import pickle\n",
    "%matplotlib inline\n",
    "import pandas as pd\n",
    "import seaborn as sns\n",
    "from tqdm import tqdm\n",
    "\n",
    "import sys\n",
    "sys.path.append('../../hetnet-ml/src')\n",
    "import graph_tools as gt"
   ]
  },
  {
   "cell_type": "code",
   "execution_count": 2,
   "metadata": {
    "collapsed": true
   },
   "outputs": [],
   "source": [
    "nodes = gt.remove_colons(pd.read_csv('../data/nodes_VER31_R.csv'))\n",
    "edges = gt.remove_colons(pd.read_csv('../data/edges_VER31_R.csv', converters={'pmids':eval}))"
   ]
  },
  {
   "cell_type": "code",
   "execution_count": 3,
   "metadata": {},
   "outputs": [
    {
     "data": {
      "text/html": [
       "<div>\n",
       "<style>\n",
       "    .dataframe thead tr:only-child th {\n",
       "        text-align: right;\n",
       "    }\n",
       "\n",
       "    .dataframe thead th {\n",
       "        text-align: left;\n",
       "    }\n",
       "\n",
       "    .dataframe tbody tr th {\n",
       "        vertical-align: top;\n",
       "    }\n",
       "</style>\n",
       "<table border=\"1\" class=\"dataframe\">\n",
       "  <thead>\n",
       "    <tr style=\"text-align: right;\">\n",
       "      <th></th>\n",
       "      <th>id</th>\n",
       "      <th>label</th>\n",
       "      <th>name</th>\n",
       "    </tr>\n",
       "  </thead>\n",
       "  <tbody>\n",
       "    <tr>\n",
       "      <th>0</th>\n",
       "      <td>C0349450</td>\n",
       "      <td>Activities &amp; Behaviors</td>\n",
       "      <td>Soiling</td>\n",
       "    </tr>\n",
       "    <tr>\n",
       "      <th>1</th>\n",
       "      <td>C0413329</td>\n",
       "      <td>Activities &amp; Behaviors</td>\n",
       "      <td>Partner Abuse</td>\n",
       "    </tr>\n",
       "    <tr>\n",
       "      <th>2</th>\n",
       "      <td>C0418940</td>\n",
       "      <td>Activities &amp; Behaviors</td>\n",
       "      <td>Change of employment</td>\n",
       "    </tr>\n",
       "    <tr>\n",
       "      <th>3</th>\n",
       "      <td>C0418946</td>\n",
       "      <td>Activities &amp; Behaviors</td>\n",
       "      <td>Parental support</td>\n",
       "    </tr>\n",
       "    <tr>\n",
       "      <th>4</th>\n",
       "      <td>C0422243</td>\n",
       "      <td>Activities &amp; Behaviors</td>\n",
       "      <td>Private account</td>\n",
       "    </tr>\n",
       "  </tbody>\n",
       "</table>\n",
       "</div>"
      ],
      "text/plain": [
       "         id                   label                  name\n",
       "0  C0349450  Activities & Behaviors               Soiling\n",
       "1  C0413329  Activities & Behaviors         Partner Abuse\n",
       "2  C0418940  Activities & Behaviors  Change of employment\n",
       "3  C0418946  Activities & Behaviors      Parental support\n",
       "4  C0422243  Activities & Behaviors       Private account"
      ]
     },
     "execution_count": 3,
     "metadata": {},
     "output_type": "execute_result"
    }
   ],
   "source": [
    "nodes.head()"
   ]
  },
  {
   "cell_type": "code",
   "execution_count": 4,
   "metadata": {},
   "outputs": [
    {
     "data": {
      "text/html": [
       "<div>\n",
       "<style>\n",
       "    .dataframe thead tr:only-child th {\n",
       "        text-align: right;\n",
       "    }\n",
       "\n",
       "    .dataframe thead th {\n",
       "        text-align: left;\n",
       "    }\n",
       "\n",
       "    .dataframe tbody tr th {\n",
       "        vertical-align: top;\n",
       "    }\n",
       "</style>\n",
       "<table border=\"1\" class=\"dataframe\">\n",
       "  <thead>\n",
       "    <tr style=\"text-align: right;\">\n",
       "      <th></th>\n",
       "      <th>start_id</th>\n",
       "      <th>end_id</th>\n",
       "      <th>type</th>\n",
       "      <th>pmids</th>\n",
       "      <th>n_pmids</th>\n",
       "    </tr>\n",
       "  </thead>\n",
       "  <tbody>\n",
       "    <tr>\n",
       "      <th>0</th>\n",
       "      <td>C1273870</td>\n",
       "      <td>C1138603</td>\n",
       "      <td>ADMINISTERED_TO_ABatCI</td>\n",
       "      <td>{15842188, 12943031}</td>\n",
       "      <td>2</td>\n",
       "    </tr>\n",
       "    <tr>\n",
       "      <th>1</th>\n",
       "      <td>C1273870</td>\n",
       "      <td>C0600241</td>\n",
       "      <td>ADMINISTERED_TO_ABatDO</td>\n",
       "      <td>{24831754}</td>\n",
       "      <td>1</td>\n",
       "    </tr>\n",
       "    <tr>\n",
       "      <th>2</th>\n",
       "      <td>C0035028</td>\n",
       "      <td>C0008059</td>\n",
       "      <td>ADMINISTERED_TO_ABatLB</td>\n",
       "      <td>{9745800, 2082268}</td>\n",
       "      <td>2</td>\n",
       "    </tr>\n",
       "    <tr>\n",
       "      <th>3</th>\n",
       "      <td>C1273870</td>\n",
       "      <td>C0030551</td>\n",
       "      <td>ADMINISTERED_TO_ABatLB</td>\n",
       "      <td>{11120897, 221066, 991595, 11993452, 27830922,...</td>\n",
       "      <td>10</td>\n",
       "    </tr>\n",
       "    <tr>\n",
       "      <th>4</th>\n",
       "      <td>C0035028</td>\n",
       "      <td>C0085756</td>\n",
       "      <td>ADMINISTERED_TO_ABatLB</td>\n",
       "      <td>{21504264}</td>\n",
       "      <td>1</td>\n",
       "    </tr>\n",
       "    <tr>\n",
       "      <th>5</th>\n",
       "      <td>C0035028</td>\n",
       "      <td>C0085979</td>\n",
       "      <td>ADMINISTERED_TO_ABatLB</td>\n",
       "      <td>{15834207}</td>\n",
       "      <td>1</td>\n",
       "    </tr>\n",
       "    <tr>\n",
       "      <th>6</th>\n",
       "      <td>C1273870</td>\n",
       "      <td>C1527117</td>\n",
       "      <td>ADMINISTERED_TO_ABatLB</td>\n",
       "      <td>{10886431}</td>\n",
       "      <td>1</td>\n",
       "    </tr>\n",
       "    <tr>\n",
       "      <th>7</th>\n",
       "      <td>C1273870</td>\n",
       "      <td>C0030705</td>\n",
       "      <td>ADMINISTERED_TO_ABatLB</td>\n",
       "      <td>{9670657, 1572866, 16762884, 26988552, 2377524...</td>\n",
       "      <td>922</td>\n",
       "    </tr>\n",
       "    <tr>\n",
       "      <th>8</th>\n",
       "      <td>C0035028</td>\n",
       "      <td>C0086418</td>\n",
       "      <td>ADMINISTERED_TO_ABatLB</td>\n",
       "      <td>{968049, 8530324, 26267901}</td>\n",
       "      <td>3</td>\n",
       "    </tr>\n",
       "    <tr>\n",
       "      <th>9</th>\n",
       "      <td>C1273870</td>\n",
       "      <td>C0031323</td>\n",
       "      <td>ADMINISTERED_TO_ABatLB</td>\n",
       "      <td>{28411014, 28018151, 27579828, 26975638, 16154...</td>\n",
       "      <td>6</td>\n",
       "    </tr>\n",
       "  </tbody>\n",
       "</table>\n",
       "</div>"
      ],
      "text/plain": [
       "   start_id    end_id                    type  \\\n",
       "0  C1273870  C1138603  ADMINISTERED_TO_ABatCI   \n",
       "1  C1273870  C0600241  ADMINISTERED_TO_ABatDO   \n",
       "2  C0035028  C0008059  ADMINISTERED_TO_ABatLB   \n",
       "3  C1273870  C0030551  ADMINISTERED_TO_ABatLB   \n",
       "4  C0035028  C0085756  ADMINISTERED_TO_ABatLB   \n",
       "5  C0035028  C0085979  ADMINISTERED_TO_ABatLB   \n",
       "6  C1273870  C1527117  ADMINISTERED_TO_ABatLB   \n",
       "7  C1273870  C0030705  ADMINISTERED_TO_ABatLB   \n",
       "8  C0035028  C0086418  ADMINISTERED_TO_ABatLB   \n",
       "9  C1273870  C0031323  ADMINISTERED_TO_ABatLB   \n",
       "\n",
       "                                               pmids  n_pmids  \n",
       "0                               {15842188, 12943031}        2  \n",
       "1                                         {24831754}        1  \n",
       "2                                 {9745800, 2082268}        2  \n",
       "3  {11120897, 221066, 991595, 11993452, 27830922,...       10  \n",
       "4                                         {21504264}        1  \n",
       "5                                         {15834207}        1  \n",
       "6                                         {10886431}        1  \n",
       "7  {9670657, 1572866, 16762884, 26988552, 2377524...      922  \n",
       "8                        {968049, 8530324, 26267901}        3  \n",
       "9  {28411014, 28018151, 27579828, 26975638, 16154...        6  "
      ]
     },
     "execution_count": 4,
     "metadata": {},
     "output_type": "execute_result"
    }
   ],
   "source": [
    "edges.head(10)"
   ]
  },
  {
   "cell_type": "code",
   "execution_count": 5,
   "metadata": {
    "collapsed": true
   },
   "outputs": [],
   "source": [
    "def sanitize(x):\n",
    "    \"\"\"Some pmids have the appearance of '2015332 [3]' for some reason. This fixes that\"\"\"\n",
    "    if type(x) == str:\n",
    "        if ' ' in x:\n",
    "            x = x.split(' ')[0]\n",
    "    return x\n",
    "\n",
    "# Some pmids are appearing as string, e.g. row 6.  They should all be int\n",
    "edges['pmids'] = edges['pmids'].apply(lambda ids: set([int(sanitize(x)) for x in ids]))"
   ]
  },
  {
   "cell_type": "code",
   "execution_count": 6,
   "metadata": {
    "collapsed": true
   },
   "outputs": [],
   "source": [
    "edge_map = pd.read_csv('../data/edge_condense_map.csv')"
   ]
  },
  {
   "cell_type": "code",
   "execution_count": 7,
   "metadata": {},
   "outputs": [
    {
     "data": {
      "text/html": [
       "<div>\n",
       "<style>\n",
       "    .dataframe thead tr:only-child th {\n",
       "        text-align: right;\n",
       "    }\n",
       "\n",
       "    .dataframe thead th {\n",
       "        text-align: left;\n",
       "    }\n",
       "\n",
       "    .dataframe tbody tr th {\n",
       "        vertical-align: top;\n",
       "    }\n",
       "</style>\n",
       "<table border=\"1\" class=\"dataframe\">\n",
       "  <thead>\n",
       "    <tr style=\"text-align: right;\">\n",
       "      <th></th>\n",
       "      <th>original_edge</th>\n",
       "      <th>condensed_to</th>\n",
       "      <th>relationship</th>\n",
       "      <th>reverse</th>\n",
       "      <th>node_semtypes</th>\n",
       "    </tr>\n",
       "  </thead>\n",
       "  <tbody>\n",
       "    <tr>\n",
       "      <th>0</th>\n",
       "      <td>AFFECTS_ABafAB</td>\n",
       "      <td>AFFECTS_ABafAB</td>\n",
       "      <td>neutral</td>\n",
       "      <td>False</td>\n",
       "      <td>Activities &amp; Behaviors --- Activities &amp; Behaviors</td>\n",
       "    </tr>\n",
       "    <tr>\n",
       "      <th>1</th>\n",
       "      <td>PREDISPOSES_ABpsAB</td>\n",
       "      <td>AFFECTS_ABafAB</td>\n",
       "      <td>neutral</td>\n",
       "      <td>False</td>\n",
       "      <td>Activities &amp; Behaviors --- Activities &amp; Behaviors</td>\n",
       "    </tr>\n",
       "  </tbody>\n",
       "</table>\n",
       "</div>"
      ],
      "text/plain": [
       "        original_edge    condensed_to relationship  reverse  \\\n",
       "0      AFFECTS_ABafAB  AFFECTS_ABafAB      neutral    False   \n",
       "1  PREDISPOSES_ABpsAB  AFFECTS_ABafAB      neutral    False   \n",
       "\n",
       "                                       node_semtypes  \n",
       "0  Activities & Behaviors --- Activities & Behaviors  \n",
       "1  Activities & Behaviors --- Activities & Behaviors  "
      ]
     },
     "execution_count": 7,
     "metadata": {},
     "output_type": "execute_result"
    }
   ],
   "source": [
    "edge_map.head(2)"
   ]
  },
  {
   "cell_type": "code",
   "execution_count": 8,
   "metadata": {
    "collapsed": true
   },
   "outputs": [],
   "source": [
    "def change_edge_type(from_type, to_type, swap=False):\n",
    "    idx = edges.query('type == @from_type').index\n",
    "    edges.loc[idx, 'type'] = to_type\n",
    "    if swap:\n",
    "        tmp = edges.loc[idx, 'start_id']\n",
    "        edges.loc[idx, 'start_id'] = edges.loc[idx, 'end_id']\n",
    "        edges.loc[idx, 'end_id'] = tmp\n",
    "                                             \n",
    "def merge_edge_types(from_list, to_type, swap=False):\n",
    "    for from_type in from_list:\n",
    "        change_edge_type(from_type, to_type, swap=swap)\n",
    "        \n",
    "def drop_edges_from_list(drop_edges):\n",
    "    idx = edges.query('type in @drop_edges').index\n",
    "    edges.drop(idx, inplace=True)"
   ]
  },
  {
   "cell_type": "code",
   "execution_count": 9,
   "metadata": {},
   "outputs": [
    {
     "name": "stderr",
     "output_type": "stream",
     "text": [
      "100%|██████████| 292/292 [04:39<00:00,  1.07it/s]\n"
     ]
    }
   ],
   "source": [
    "# Order is order in which condensations are made, so important to preserve\n",
    "for row in tqdm(edge_map.itertuples(), total=len(edge_map)):\n",
    "    change_edge_type(row.original_edge, row.condensed_to, swap=row.reverse)\n",
    "edges = edges.dropna(subset=['type']).reset_index(drop=True)"
   ]
  },
  {
   "cell_type": "code",
   "execution_count": 10,
   "metadata": {},
   "outputs": [
    {
     "data": {
      "text/plain": [
       "2747"
      ]
     },
     "execution_count": 10,
     "metadata": {},
     "output_type": "execute_result"
    }
   ],
   "source": [
    "edges['type'].nunique()"
   ]
  },
  {
   "cell_type": "code",
   "execution_count": 11,
   "metadata": {},
   "outputs": [
    {
     "name": "stdout",
     "output_type": "stream",
     "text": [
      "16151935\n",
      "14526080\n",
      "CPU times: user 20min 43s, sys: 1.28 s, total: 20min 44s\n",
      "Wall time: 20min 44s\n"
     ]
    }
   ],
   "source": [
    "%%time\n",
    "\n",
    "print(len(edges))\n",
    "\n",
    "# Some edges now duplicated, de-duplicate and combine pmids\n",
    "grpd = edges.groupby(['start_id', 'end_id', 'type'])\n",
    "edges = grpd['pmids'].apply(lambda Series: set.union(*Series.values)).reset_index()\n",
    "\n",
    "# re-count the pmid numbers\n",
    "edges['n_pmids'] = edges['pmids'].apply(len)\n",
    "\n",
    "print(len(edges))"
   ]
  },
  {
   "cell_type": "code",
   "execution_count": 12,
   "metadata": {
    "collapsed": true
   },
   "outputs": [],
   "source": [
    "# Sort values before writing to disk\n",
    "nodes = nodes.sort_values('label')\n",
    "edges = edges.sort_values('type')\n",
    "\n",
    "# Add in colons required by neo4j\n",
    "nodes = gt.add_colons(nodes)\n",
    "edges = gt.add_colons(edges)\n",
    "\n",
    "nodes.to_csv('../data/nodes_VER31_R_condensed.csv', index=False)\n",
    "edges.to_csv('../data/edges_VER31_R_condensed.csv', index=False)"
   ]
  }
 ],
 "metadata": {
  "kernelspec": {
   "display_name": "Python 3",
   "language": "python",
   "name": "python3"
  },
  "language_info": {
   "codemirror_mode": {
    "name": "ipython",
    "version": 3
   },
   "file_extension": ".py",
   "mimetype": "text/x-python",
   "name": "python",
   "nbconvert_exporter": "python",
   "pygments_lexer": "ipython3",
   "version": "3.5.4"
  }
 },
 "nbformat": 4,
 "nbformat_minor": 1
}
