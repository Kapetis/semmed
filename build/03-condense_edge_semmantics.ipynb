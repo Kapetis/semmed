{
 "cells": [
  {
   "cell_type": "markdown",
   "metadata": {},
   "source": [
    "# Condensing Edge Semmantics\n",
    "\n",
    "Computational complexity for the Rephetio Algorithm that will be used for Machine Learning is highly dependant on the number of potential Metapaths between the source and target Metanodes in the edge to be predicted. \n",
    "\n",
    "For this reason, we will try to reduce the number of different semmantic edge types that connect any two metanodes.  We will attempt to condense to at-most 3 metaedges connecting any given metanode.  One reflecting a postitive association (increases, augments, causes, upregulates, etc.), one a negative association (decreases, disrupts, mitigates, downregulates, etc.), and one a neutural association (associated with, affects, method of, etc.).  Some semmantic types are also not useful in this context, and thus will be removed (any Negating concepts, higher than, compared with, etc.)\n",
    "\n",
    "[This Map File](https://github.com/mmayers12/semmed/blob/semmed_ver31/data/edge_condense_map.csv) details all of the different mappings that occur in the semmantic condensation."
   ]
  },
  {
   "cell_type": "code",
   "execution_count": 1,
   "metadata": {
    "collapsed": true
   },
   "outputs": [],
   "source": [
    "import os\n",
    "import pickle\n",
    "%matplotlib inline\n",
    "import pandas as pd\n",
    "import seaborn as sns\n",
    "from tqdm import tqdm\n",
    "from collections import defaultdict\n",
    "\n",
    "import sys\n",
    "sys.path.append('../../hetnet-ml/src')\n",
    "import graph_tools as gt"
   ]
  },
  {
   "cell_type": "code",
   "execution_count": 2,
   "metadata": {
    "collapsed": true
   },
   "outputs": [],
   "source": [
    "nodes = gt.remove_colons(pd.read_csv('../data/nodes_VER31_R_nodes_consolidated.csv'))\n",
    "edges = gt.remove_colons(pd.read_csv('../data/edges_VER31_R_nodes_consolidated.csv', converters={'pmids':eval}))"
   ]
  },
  {
   "cell_type": "code",
   "execution_count": 3,
   "metadata": {
    "collapsed": true
   },
   "outputs": [],
   "source": [
    "start_edge_num = len(edges)"
   ]
  },
  {
   "cell_type": "code",
   "execution_count": 4,
   "metadata": {},
   "outputs": [
    {
     "data": {
      "text/html": [
       "<div>\n",
       "<style scoped>\n",
       "    .dataframe tbody tr th:only-of-type {\n",
       "        vertical-align: middle;\n",
       "    }\n",
       "\n",
       "    .dataframe tbody tr th {\n",
       "        vertical-align: top;\n",
       "    }\n",
       "\n",
       "    .dataframe thead th {\n",
       "        text-align: right;\n",
       "    }\n",
       "</style>\n",
       "<table border=\"1\" class=\"dataframe\">\n",
       "  <thead>\n",
       "    <tr style=\"text-align: right;\">\n",
       "      <th></th>\n",
       "      <th>id</th>\n",
       "      <th>name</th>\n",
       "      <th>label</th>\n",
       "      <th>id_source</th>\n",
       "    </tr>\n",
       "  </thead>\n",
       "  <tbody>\n",
       "    <tr>\n",
       "      <th>0</th>\n",
       "      <td>C0418940</td>\n",
       "      <td>Change of employment</td>\n",
       "      <td>Activities &amp; Behaviors</td>\n",
       "      <td>UMLS</td>\n",
       "    </tr>\n",
       "    <tr>\n",
       "      <th>1</th>\n",
       "      <td>C0871147</td>\n",
       "      <td>Professional Development</td>\n",
       "      <td>Activities &amp; Behaviors</td>\n",
       "      <td>UMLS</td>\n",
       "    </tr>\n",
       "    <tr>\n",
       "      <th>2</th>\n",
       "      <td>D013221</td>\n",
       "      <td>State Health Plans</td>\n",
       "      <td>Activities &amp; Behaviors</td>\n",
       "      <td>MeSH</td>\n",
       "    </tr>\n",
       "    <tr>\n",
       "      <th>3</th>\n",
       "      <td>C0336931</td>\n",
       "      <td>Waterskiing</td>\n",
       "      <td>Activities &amp; Behaviors</td>\n",
       "      <td>UMLS</td>\n",
       "    </tr>\n",
       "    <tr>\n",
       "      <th>4</th>\n",
       "      <td>C0678998</td>\n",
       "      <td>literacy skills</td>\n",
       "      <td>Activities &amp; Behaviors</td>\n",
       "      <td>UMLS</td>\n",
       "    </tr>\n",
       "  </tbody>\n",
       "</table>\n",
       "</div>"
      ],
      "text/plain": [
       "         id                      name                   label id_source\n",
       "0  C0418940      Change of employment  Activities & Behaviors      UMLS\n",
       "1  C0871147  Professional Development  Activities & Behaviors      UMLS\n",
       "2   D013221        State Health Plans  Activities & Behaviors      MeSH\n",
       "3  C0336931               Waterskiing  Activities & Behaviors      UMLS\n",
       "4  C0678998           literacy skills  Activities & Behaviors      UMLS"
      ]
     },
     "execution_count": 4,
     "metadata": {},
     "output_type": "execute_result"
    }
   ],
   "source": [
    "nodes.head()"
   ]
  },
  {
   "cell_type": "code",
   "execution_count": 5,
   "metadata": {},
   "outputs": [
    {
     "data": {
      "text/html": [
       "<div>\n",
       "<style scoped>\n",
       "    .dataframe tbody tr th:only-of-type {\n",
       "        vertical-align: middle;\n",
       "    }\n",
       "\n",
       "    .dataframe tbody tr th {\n",
       "        vertical-align: top;\n",
       "    }\n",
       "\n",
       "    .dataframe thead th {\n",
       "        text-align: right;\n",
       "    }\n",
       "</style>\n",
       "<table border=\"1\" class=\"dataframe\">\n",
       "  <thead>\n",
       "    <tr style=\"text-align: right;\">\n",
       "      <th></th>\n",
       "      <th>start_id</th>\n",
       "      <th>end_id</th>\n",
       "      <th>type</th>\n",
       "      <th>pmids</th>\n",
       "      <th>n_pmids</th>\n",
       "    </tr>\n",
       "  </thead>\n",
       "  <tbody>\n",
       "    <tr>\n",
       "      <th>0</th>\n",
       "      <td>C0556656</td>\n",
       "      <td>D010820</td>\n",
       "      <td>ADMINISTERED_TO_ABatLB</td>\n",
       "      <td>{12657109, 11588447}</td>\n",
       "      <td>2</td>\n",
       "    </tr>\n",
       "    <tr>\n",
       "      <th>1</th>\n",
       "      <td>C0441648</td>\n",
       "      <td>C0680063</td>\n",
       "      <td>ADMINISTERED_TO_ABatLB</td>\n",
       "      <td>{9329121}</td>\n",
       "      <td>1</td>\n",
       "    </tr>\n",
       "    <tr>\n",
       "      <th>2</th>\n",
       "      <td>C0441648</td>\n",
       "      <td>C0555052</td>\n",
       "      <td>ADMINISTERED_TO_ABatLB</td>\n",
       "      <td>{5579492}</td>\n",
       "      <td>1</td>\n",
       "    </tr>\n",
       "    <tr>\n",
       "      <th>3</th>\n",
       "      <td>D012648</td>\n",
       "      <td>D017028</td>\n",
       "      <td>ADMINISTERED_TO_ABatLB</td>\n",
       "      <td>{20584280, 15332425, 18192629, 26294569}</td>\n",
       "      <td>4</td>\n",
       "    </tr>\n",
       "    <tr>\n",
       "      <th>4</th>\n",
       "      <td>C0556656</td>\n",
       "      <td>D000072142</td>\n",
       "      <td>ADMINISTERED_TO_ABatLB</td>\n",
       "      <td>{8427562}</td>\n",
       "      <td>1</td>\n",
       "    </tr>\n",
       "    <tr>\n",
       "      <th>5</th>\n",
       "      <td>C0018581</td>\n",
       "      <td>D009726</td>\n",
       "      <td>ADMINISTERED_TO_ABatLB</td>\n",
       "      <td>{21612613}</td>\n",
       "      <td>1</td>\n",
       "    </tr>\n",
       "    <tr>\n",
       "      <th>6</th>\n",
       "      <td>D012648</td>\n",
       "      <td>D017741</td>\n",
       "      <td>ADMINISTERED_TO_ABatLB</td>\n",
       "      <td>{25412401, 2816907, 16263886, 570679}</td>\n",
       "      <td>4</td>\n",
       "    </tr>\n",
       "    <tr>\n",
       "      <th>7</th>\n",
       "      <td>C0556656</td>\n",
       "      <td>D000368</td>\n",
       "      <td>ADMINISTERED_TO_ABatLB</td>\n",
       "      <td>{22835737, 12450902}</td>\n",
       "      <td>2</td>\n",
       "    </tr>\n",
       "    <tr>\n",
       "      <th>8</th>\n",
       "      <td>D012648</td>\n",
       "      <td>D018576</td>\n",
       "      <td>ADMINISTERED_TO_ABatLB</td>\n",
       "      <td>{29169933}</td>\n",
       "      <td>1</td>\n",
       "    </tr>\n",
       "    <tr>\n",
       "      <th>9</th>\n",
       "      <td>C0556656</td>\n",
       "      <td>D002648</td>\n",
       "      <td>ADMINISTERED_TO_ABatLB</td>\n",
       "      <td>{15626941, 1780381, 25885095}</td>\n",
       "      <td>3</td>\n",
       "    </tr>\n",
       "  </tbody>\n",
       "</table>\n",
       "</div>"
      ],
      "text/plain": [
       "   start_id      end_id                    type  \\\n",
       "0  C0556656     D010820  ADMINISTERED_TO_ABatLB   \n",
       "1  C0441648    C0680063  ADMINISTERED_TO_ABatLB   \n",
       "2  C0441648    C0555052  ADMINISTERED_TO_ABatLB   \n",
       "3   D012648     D017028  ADMINISTERED_TO_ABatLB   \n",
       "4  C0556656  D000072142  ADMINISTERED_TO_ABatLB   \n",
       "5  C0018581     D009726  ADMINISTERED_TO_ABatLB   \n",
       "6   D012648     D017741  ADMINISTERED_TO_ABatLB   \n",
       "7  C0556656     D000368  ADMINISTERED_TO_ABatLB   \n",
       "8   D012648     D018576  ADMINISTERED_TO_ABatLB   \n",
       "9  C0556656     D002648  ADMINISTERED_TO_ABatLB   \n",
       "\n",
       "                                      pmids  n_pmids  \n",
       "0                      {12657109, 11588447}        2  \n",
       "1                                 {9329121}        1  \n",
       "2                                 {5579492}        1  \n",
       "3  {20584280, 15332425, 18192629, 26294569}        4  \n",
       "4                                 {8427562}        1  \n",
       "5                                {21612613}        1  \n",
       "6     {25412401, 2816907, 16263886, 570679}        4  \n",
       "7                      {22835737, 12450902}        2  \n",
       "8                                {29169933}        1  \n",
       "9             {15626941, 1780381, 25885095}        3  "
      ]
     },
     "execution_count": 5,
     "metadata": {},
     "output_type": "execute_result"
    }
   ],
   "source": [
    "edges.head(10)"
   ]
  },
  {
   "cell_type": "code",
   "execution_count": 6,
   "metadata": {
    "collapsed": true
   },
   "outputs": [],
   "source": [
    "def sanitize(x):\n",
    "    \"\"\"Some pmids have the appearance of '2015332 [3]' for some reason. This fixes that\"\"\"\n",
    "    if type(x) == str:\n",
    "        if ' ' in x:\n",
    "            x = x.split(' ')[0]\n",
    "    return x\n",
    "\n",
    "# Some pmids are appearing as string, e.g. row 6.  They should all be int\n",
    "edges['pmids'] = edges['pmids'].apply(lambda ids: set([int(sanitize(x)) for x in ids]))"
   ]
  },
  {
   "cell_type": "code",
   "execution_count": 7,
   "metadata": {
    "collapsed": true
   },
   "outputs": [],
   "source": [
    "edge_map = pd.read_csv('../data/edge_condense_map.csv')"
   ]
  },
  {
   "cell_type": "code",
   "execution_count": 8,
   "metadata": {},
   "outputs": [
    {
     "data": {
      "text/html": [
       "<div>\n",
       "<style scoped>\n",
       "    .dataframe tbody tr th:only-of-type {\n",
       "        vertical-align: middle;\n",
       "    }\n",
       "\n",
       "    .dataframe tbody tr th {\n",
       "        vertical-align: top;\n",
       "    }\n",
       "\n",
       "    .dataframe thead th {\n",
       "        text-align: right;\n",
       "    }\n",
       "</style>\n",
       "<table border=\"1\" class=\"dataframe\">\n",
       "  <thead>\n",
       "    <tr style=\"text-align: right;\">\n",
       "      <th></th>\n",
       "      <th>original_edge</th>\n",
       "      <th>condensed_to</th>\n",
       "      <th>relationship</th>\n",
       "      <th>reverse</th>\n",
       "      <th>node_semtypes</th>\n",
       "    </tr>\n",
       "  </thead>\n",
       "  <tbody>\n",
       "    <tr>\n",
       "      <th>0</th>\n",
       "      <td>AFFECTS_ABafAB</td>\n",
       "      <td>AFFECTS_ABafAB</td>\n",
       "      <td>neutral</td>\n",
       "      <td>False</td>\n",
       "      <td>Activities &amp; Behaviors --- Activities &amp; Behaviors</td>\n",
       "    </tr>\n",
       "    <tr>\n",
       "      <th>1</th>\n",
       "      <td>PREDISPOSES_ABpsAB</td>\n",
       "      <td>AFFECTS_ABafAB</td>\n",
       "      <td>neutral</td>\n",
       "      <td>False</td>\n",
       "      <td>Activities &amp; Behaviors --- Activities &amp; Behaviors</td>\n",
       "    </tr>\n",
       "  </tbody>\n",
       "</table>\n",
       "</div>"
      ],
      "text/plain": [
       "        original_edge    condensed_to relationship  reverse  \\\n",
       "0      AFFECTS_ABafAB  AFFECTS_ABafAB      neutral    False   \n",
       "1  PREDISPOSES_ABpsAB  AFFECTS_ABafAB      neutral    False   \n",
       "\n",
       "                                       node_semtypes  \n",
       "0  Activities & Behaviors --- Activities & Behaviors  \n",
       "1  Activities & Behaviors --- Activities & Behaviors  "
      ]
     },
     "execution_count": 8,
     "metadata": {},
     "output_type": "execute_result"
    }
   ],
   "source": [
    "edge_map.head(2)"
   ]
  },
  {
   "cell_type": "code",
   "execution_count": 9,
   "metadata": {
    "collapsed": true
   },
   "outputs": [],
   "source": [
    "def change_edge_type(from_type, to_type, swap=False):\n",
    "    idx = edges.query('type == @from_type').index\n",
    "    edges.loc[idx, 'type'] = to_type\n",
    "    if swap:\n",
    "        tmp = edges.loc[idx, 'start_id']\n",
    "        edges.loc[idx, 'start_id'] = edges.loc[idx, 'end_id']\n",
    "        edges.loc[idx, 'end_id'] = tmp\n",
    "                                             \n",
    "def merge_edge_types(from_list, to_type, swap=False):\n",
    "    for from_type in from_list:\n",
    "        change_edge_type(from_type, to_type, swap=swap)\n",
    "        \n",
    "def drop_edges_from_list(drop_edges):\n",
    "    idx = edges.query('type in @drop_edges').index\n",
    "    edges.drop(idx, inplace=True)"
   ]
  },
  {
   "cell_type": "code",
   "execution_count": 10,
   "metadata": {},
   "outputs": [
    {
     "name": "stderr",
     "output_type": "stream",
     "text": [
      "100%|██████████| 292/292 [05:27<00:00,  1.05s/it]\n"
     ]
    }
   ],
   "source": [
    "# Order is important here\n",
    "# Previous iterations of this pipeline had multiple rounds of edge condensation\n",
    "# so some edges will be changed multiple times, and going through the .csv in row order\n",
    "# ensurse that these changes are all applied correctly.\n",
    "for row in tqdm(edge_map.itertuples(), total=len(edge_map)):\n",
    "    change_edge_type(row.original_edge, row.condensed_to, swap=row.reverse)\n",
    "edges = edges.dropna(subset=['type']).reset_index(drop=True)"
   ]
  },
  {
   "cell_type": "code",
   "execution_count": 11,
   "metadata": {},
   "outputs": [
    {
     "data": {
      "text/plain": [
       "2687"
      ]
     },
     "execution_count": 11,
     "metadata": {},
     "output_type": "execute_result"
    }
   ],
   "source": [
    "edges['type'].nunique()"
   ]
  },
  {
   "cell_type": "markdown",
   "metadata": {},
   "source": [
    "## Fix Potential problems of duplicated undirected edges\n",
    "\n",
    "Similar to the issue at the end of notebook `01-building-the-hetnet`, by switching some of the semmantics, we may now have some instances where Metanode1 and Metanode2 for a given edge of type Metaedge1 are opposite of that for a different edge of the same Metaedge1."
   ]
  },
  {
   "cell_type": "code",
   "execution_count": 12,
   "metadata": {
    "collapsed": true
   },
   "outputs": [],
   "source": [
    "abv, met = gt.get_abbrev_dict_and_edge_tuples(gt.add_colons(nodes), gt.add_colons(edges))"
   ]
  },
  {
   "cell_type": "code",
   "execution_count": 13,
   "metadata": {
    "collapsed": true
   },
   "outputs": [],
   "source": [
    "id_to_label = nodes.set_index('id')['label'].to_dict()"
   ]
  },
  {
   "cell_type": "code",
   "execution_count": 14,
   "metadata": {},
   "outputs": [
    {
     "name": "stderr",
     "output_type": "stream",
     "text": [
      "100%|██████████| 14042303/14042303 [00:34<00:00, 411293.42it/s]\n"
     ]
    }
   ],
   "source": [
    "edges['start_label'] = edges['start_id'].map(lambda c: id_to_label[c])\n",
    "edges['end_label'] = edges['end_id'].map(lambda c: id_to_label[c])\n",
    "edges['sem'] = edges['type'].map(lambda e: '_'.join(e.split('_')[:-1]))\n",
    "\n",
    "edges['abbrev'] = edges['type'].map(lambda e: e.split('_')[-1])\n",
    "\n",
    "proper_abbrevs = []\n",
    "for e in tqdm(edges.itertuples(), total=len(edges)):\n",
    "    if '>' in e.abbrev:\n",
    "        abbrev = abv[e.start_label] + abv[e.sem] + '>' + abv[e.end_label]\n",
    "    else:\n",
    "        abbrev = abv[e.start_label] + abv[e.sem] + abv[e.end_label]\n",
    "    proper_abbrevs.append(abbrev)\n",
    "    \n",
    "edges['calc_abbrev'] = proper_abbrevs"
   ]
  },
  {
   "cell_type": "code",
   "execution_count": 15,
   "metadata": {},
   "outputs": [
    {
     "data": {
      "text/html": [
       "<div>\n",
       "<style scoped>\n",
       "    .dataframe tbody tr th:only-of-type {\n",
       "        vertical-align: middle;\n",
       "    }\n",
       "\n",
       "    .dataframe tbody tr th {\n",
       "        vertical-align: top;\n",
       "    }\n",
       "\n",
       "    .dataframe thead th {\n",
       "        text-align: right;\n",
       "    }\n",
       "</style>\n",
       "<table border=\"1\" class=\"dataframe\">\n",
       "  <thead>\n",
       "    <tr style=\"text-align: right;\">\n",
       "      <th></th>\n",
       "      <th>start_id</th>\n",
       "      <th>end_id</th>\n",
       "      <th>type</th>\n",
       "      <th>pmids</th>\n",
       "      <th>n_pmids</th>\n",
       "      <th>start_label</th>\n",
       "      <th>end_label</th>\n",
       "      <th>sem</th>\n",
       "      <th>abbrev</th>\n",
       "      <th>calc_abbrev</th>\n",
       "    </tr>\n",
       "  </thead>\n",
       "  <tbody>\n",
       "    <tr>\n",
       "      <th>0</th>\n",
       "      <td>C0556656</td>\n",
       "      <td>D010820</td>\n",
       "      <td>ADMINISTERED_TO_ABatLB</td>\n",
       "      <td>{12657109, 11588447}</td>\n",
       "      <td>2</td>\n",
       "      <td>Activities &amp; Behaviors</td>\n",
       "      <td>Living Beings</td>\n",
       "      <td>ADMINISTERED_TO</td>\n",
       "      <td>ABatLB</td>\n",
       "      <td>ABatLB</td>\n",
       "    </tr>\n",
       "    <tr>\n",
       "      <th>1</th>\n",
       "      <td>C0441648</td>\n",
       "      <td>C0680063</td>\n",
       "      <td>ADMINISTERED_TO_ABatLB</td>\n",
       "      <td>{9329121}</td>\n",
       "      <td>1</td>\n",
       "      <td>Activities &amp; Behaviors</td>\n",
       "      <td>Living Beings</td>\n",
       "      <td>ADMINISTERED_TO</td>\n",
       "      <td>ABatLB</td>\n",
       "      <td>ABatLB</td>\n",
       "    </tr>\n",
       "  </tbody>\n",
       "</table>\n",
       "</div>"
      ],
      "text/plain": [
       "   start_id    end_id                    type                 pmids  n_pmids  \\\n",
       "0  C0556656   D010820  ADMINISTERED_TO_ABatLB  {12657109, 11588447}        2   \n",
       "1  C0441648  C0680063  ADMINISTERED_TO_ABatLB             {9329121}        1   \n",
       "\n",
       "              start_label      end_label              sem  abbrev calc_abbrev  \n",
       "0  Activities & Behaviors  Living Beings  ADMINISTERED_TO  ABatLB      ABatLB  \n",
       "1  Activities & Behaviors  Living Beings  ADMINISTERED_TO  ABatLB      ABatLB  "
      ]
     },
     "execution_count": 15,
     "metadata": {},
     "output_type": "execute_result"
    }
   ],
   "source": [
    "edges.head(2)"
   ]
  },
  {
   "cell_type": "code",
   "execution_count": 16,
   "metadata": {},
   "outputs": [
    {
     "data": {
      "text/plain": [
       "0"
      ]
     },
     "execution_count": 16,
     "metadata": {},
     "output_type": "execute_result"
    }
   ],
   "source": [
    "idx = edges['calc_abbrev'] != edges['abbrev']\n",
    "idx.sum()  # This should be Zero! If so then we're good to GO on this potential issue!"
   ]
  },
  {
   "cell_type": "markdown",
   "metadata": {},
   "source": [
    "### Undirected Edges between two nodes of the same type should have only 1 instance\n",
    "\n",
    "`Compound_1 -- Compound_2` is the same as `Compound_2 -- Compound_1`, so look for these types of duplications and eliminate them."
   ]
  },
  {
   "cell_type": "code",
   "execution_count": 17,
   "metadata": {
    "collapsed": true
   },
   "outputs": [],
   "source": [
    "# Get the edges that are un-directed, between same type\n",
    "idx = edges['start_label'] == edges['end_label']\n",
    "\n",
    "self_refferential_types = edges.loc[idx, 'type'].unique()\n",
    "self_refferential_types = [e for e in self_refferential_types if '>' not in e]"
   ]
  },
  {
   "cell_type": "code",
   "execution_count": 18,
   "metadata": {},
   "outputs": [
    {
     "name": "stderr",
     "output_type": "stream",
     "text": [
      "100%|██████████| 287/287 [01:56<00:00,  2.76it/s]\n"
     ]
    }
   ],
   "source": [
    "# Get a sorted CUI Map\n",
    "\n",
    "edge_map = {}\n",
    "\n",
    "for kind in tqdm(self_refferential_types):\n",
    "    pmid_map = defaultdict(set)\n",
    "    subedges = edges.query('type == @kind')\n",
    "    \n",
    "    for row in subedges.itertuples():\n",
    "        edge_id = tuple(sorted([row.start_id, row.end_id]))\n",
    "        \n",
    "        pmid_map[edge_id] = pmid_map[edge_id].union(row.pmids)\n",
    "        edge_map[kind] = pmid_map"
   ]
  },
  {
   "cell_type": "code",
   "execution_count": 19,
   "metadata": {
    "collapsed": true
   },
   "outputs": [],
   "source": [
    "# Convert back to a DataFrame\n",
    "kinds = []\n",
    "start_ids = []\n",
    "end_ids = []\n",
    "pmids = []\n",
    "\n",
    "for kind, e_dict in edge_map.items():\n",
    "    for (s_id, e_id), pms in e_dict.items():\n",
    "        kinds.append(kind)\n",
    "        start_ids.append(s_id)\n",
    "        end_ids.append(e_id)\n",
    "        pmids.append(pms)\n",
    "        \n",
    "fixed_edges = pd.DataFrame({'start_id': start_ids, 'end_id': end_ids, 'type': kinds, 'pmids': pmids})"
   ]
  },
  {
   "cell_type": "code",
   "execution_count": 20,
   "metadata": {},
   "outputs": [
    {
     "name": "stdout",
     "output_type": "stream",
     "text": [
      "Before De-duplication: 3,280,678 Edges between nodes of the same type\n",
      "After De-duplication: 1,952,887 Edges between nodes of the same type\n"
     ]
    }
   ],
   "source": [
    "print('Before De-duplication: {:,} Edges between nodes of the same type'.format(len(edges.loc[idx])))\n",
    "print('After De-duplication: {:,} Edges between nodes of the same type'.format(len(fixed_edges)))"
   ]
  },
  {
   "cell_type": "code",
   "execution_count": 21,
   "metadata": {},
   "outputs": [
    {
     "name": "stdout",
     "output_type": "stream",
     "text": [
      "Total Edges: 14,042,303\n",
      "Edges between two different Metanodes: 10,761,625\n",
      "Total edges with De-duped edges added back: 12,714,512\n"
     ]
    }
   ],
   "source": [
    "# Remove all the potential duplicated edges\n",
    "print('Total Edges: {:,}'.format(len(edges)))\n",
    "edges.drop(idx[idx].index, inplace=True)\n",
    "print('Edges between two different Metanodes: {:,}'.format(len(edges)))\n",
    "\n",
    "# Then add back in all de-duplicated edgers\n",
    "edges = pd.concat([edges, fixed_edges], sort=False)\n",
    "print('Total edges with De-duped edges added back: {:,}'.format(len(edges)))"
   ]
  },
  {
   "cell_type": "code",
   "execution_count": 22,
   "metadata": {
    "collapsed": true
   },
   "outputs": [],
   "source": [
    "edges = edges[['start_id', 'end_id', 'type', 'pmids']]"
   ]
  },
  {
   "cell_type": "code",
   "execution_count": 23,
   "metadata": {},
   "outputs": [
    {
     "data": {
      "text/html": [
       "<div>\n",
       "<style scoped>\n",
       "    .dataframe tbody tr th:only-of-type {\n",
       "        vertical-align: middle;\n",
       "    }\n",
       "\n",
       "    .dataframe tbody tr th {\n",
       "        vertical-align: top;\n",
       "    }\n",
       "\n",
       "    .dataframe thead th {\n",
       "        text-align: right;\n",
       "    }\n",
       "</style>\n",
       "<table border=\"1\" class=\"dataframe\">\n",
       "  <thead>\n",
       "    <tr style=\"text-align: right;\">\n",
       "      <th></th>\n",
       "      <th>start_id</th>\n",
       "      <th>end_id</th>\n",
       "      <th>type</th>\n",
       "      <th>pmids</th>\n",
       "    </tr>\n",
       "  </thead>\n",
       "  <tbody>\n",
       "    <tr>\n",
       "      <th>0</th>\n",
       "      <td>C0556656</td>\n",
       "      <td>D010820</td>\n",
       "      <td>ADMINISTERED_TO_ABatLB</td>\n",
       "      <td>{12657109, 11588447}</td>\n",
       "    </tr>\n",
       "    <tr>\n",
       "      <th>1</th>\n",
       "      <td>C0441648</td>\n",
       "      <td>C0680063</td>\n",
       "      <td>ADMINISTERED_TO_ABatLB</td>\n",
       "      <td>{9329121}</td>\n",
       "    </tr>\n",
       "    <tr>\n",
       "      <th>2</th>\n",
       "      <td>C0441648</td>\n",
       "      <td>C0555052</td>\n",
       "      <td>ADMINISTERED_TO_ABatLB</td>\n",
       "      <td>{5579492}</td>\n",
       "    </tr>\n",
       "    <tr>\n",
       "      <th>3</th>\n",
       "      <td>D012648</td>\n",
       "      <td>D017028</td>\n",
       "      <td>ADMINISTERED_TO_ABatLB</td>\n",
       "      <td>{20584280, 15332425, 18192629, 26294569}</td>\n",
       "    </tr>\n",
       "    <tr>\n",
       "      <th>4</th>\n",
       "      <td>C0556656</td>\n",
       "      <td>D000072142</td>\n",
       "      <td>ADMINISTERED_TO_ABatLB</td>\n",
       "      <td>{8427562}</td>\n",
       "    </tr>\n",
       "  </tbody>\n",
       "</table>\n",
       "</div>"
      ],
      "text/plain": [
       "   start_id      end_id                    type  \\\n",
       "0  C0556656     D010820  ADMINISTERED_TO_ABatLB   \n",
       "1  C0441648    C0680063  ADMINISTERED_TO_ABatLB   \n",
       "2  C0441648    C0555052  ADMINISTERED_TO_ABatLB   \n",
       "3   D012648     D017028  ADMINISTERED_TO_ABatLB   \n",
       "4  C0556656  D000072142  ADMINISTERED_TO_ABatLB   \n",
       "\n",
       "                                      pmids  \n",
       "0                      {12657109, 11588447}  \n",
       "1                                 {9329121}  \n",
       "2                                 {5579492}  \n",
       "3  {20584280, 15332425, 18192629, 26294569}  \n",
       "4                                 {8427562}  "
      ]
     },
     "execution_count": 23,
     "metadata": {},
     "output_type": "execute_result"
    }
   ],
   "source": [
    "edges.head()"
   ]
  },
  {
   "cell_type": "markdown",
   "metadata": {},
   "source": [
    "Finish de-duplication, and merge any pmids between those duplicated edges"
   ]
  },
  {
   "cell_type": "code",
   "execution_count": 24,
   "metadata": {
    "scrolled": true
   },
   "outputs": [
    {
     "name": "stdout",
     "output_type": "stream",
     "text": [
      "CPU times: user 19min 56s, sys: 21.2 s, total: 20min 17s\n",
      "Wall time: 20min 17s\n"
     ]
    }
   ],
   "source": [
    "%%time\n",
    "\n",
    "before_dedup = len(edges)\n",
    "\n",
    "# Some edges now duplicated, de-duplicate and combine pmids\n",
    "grpd = edges.groupby(['start_id', 'end_id', 'type'])\n",
    "edges = grpd['pmids'].apply(lambda Series: set.union(*Series.values)).reset_index()\n",
    "\n",
    "# re-count the pmid numbers\n",
    "edges['n_pmids'] = edges['pmids'].apply(len)\n",
    "\n",
    "after_dedup = len(edges)"
   ]
  },
  {
   "cell_type": "code",
   "execution_count": 25,
   "metadata": {},
   "outputs": [
    {
     "name": "stdout",
     "output_type": "stream",
     "text": [
      "Edges before final Deduplication: 12714512\n",
      "Edges after final Deduplication: 11504961\n"
     ]
    }
   ],
   "source": [
    "print('Edges before final Deduplication: {:,}'.format(before_dedup))\n",
    "print('Edges after final Deduplication: {:,}'.format(after_dedup))"
   ]
  },
  {
   "cell_type": "code",
   "execution_count": 26,
   "metadata": {
    "collapsed": true,
    "scrolled": true
   },
   "outputs": [],
   "source": [
    "# Sort values before writing to disk\n",
    "nodes = nodes.sort_values('label')\n",
    "edges = edges.sort_values('type')\n",
    "\n",
    "# Add in colons required by neo4j\n",
    "nodes = gt.add_colons(nodes)\n",
    "edges = gt.add_colons(edges)\n",
    "\n",
    "nodes.to_csv('../data/nodes_VER31_R_consolidated_condensed.csv', index=False)\n",
    "edges.to_csv('../data/edges_VER31_R_consolidated_condensed.csv', index=False)"
   ]
  }
 ],
 "metadata": {
  "kernelspec": {
   "display_name": "Python 3",
   "language": "python",
   "name": "python3"
  },
  "language_info": {
   "codemirror_mode": {
    "name": "ipython",
    "version": 3
   },
   "file_extension": ".py",
   "mimetype": "text/x-python",
   "name": "python",
   "nbconvert_exporter": "python",
   "pygments_lexer": "ipython3",
   "version": "3.5.3"
  }
 },
 "nbformat": 4,
 "nbformat_minor": 1
}
