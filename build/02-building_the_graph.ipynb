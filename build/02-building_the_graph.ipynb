{
 "cells": [
  {
   "cell_type": "code",
   "execution_count": 1,
   "metadata": {
    "collapsed": true
   },
   "outputs": [],
   "source": [
    "import os\n",
    "import pickle\n",
    "%matplotlib inline\n",
    "import numpy as np\n",
    "import pandas as pd\n",
    "import seaborn as sns\n",
    "from tqdm import tqdm\n",
    "import matplotlib.pyplot as plt\n",
    "\n",
    "import sys\n",
    "sys.path.append('../../hetnet-ml/src')\n",
    "import graph_tools as gt"
   ]
  },
  {
   "cell_type": "code",
   "execution_count": 2,
   "metadata": {},
   "outputs": [
    {
     "name": "stderr",
     "output_type": "stream",
     "text": [
      "/home/mmayers/software/anaconda3/envs/ml/lib/python3.5/site-packages/IPython/core/interactiveshell.py:2698: DtypeWarning: Columns (2) have mixed types. Specify dtype option on import or set low_memory=False.\n",
      "  interactivity=interactivity, compiler=compiler, result=result)\n"
     ]
    }
   ],
   "source": [
    "sem_df = pd.read_csv('../data/semmedVER31_R_clean_de-depricate.csv')"
   ]
  },
  {
   "cell_type": "code",
   "execution_count": 3,
   "metadata": {},
   "outputs": [
    {
     "name": "stdout",
     "output_type": "stream",
     "text": [
      "Rows: 102,113,685\n",
      "Cols: 12\n"
     ]
    }
   ],
   "source": [
    "print('Rows: {:,}'.format(sem_df.shape[0]))\n",
    "print('Cols: {}'.format(sem_df.shape[1]))"
   ]
  },
  {
   "cell_type": "code",
   "execution_count": 4,
   "metadata": {},
   "outputs": [
    {
     "data": {
      "text/html": [
       "<div>\n",
       "<style>\n",
       "    .dataframe thead tr:only-child th {\n",
       "        text-align: right;\n",
       "    }\n",
       "\n",
       "    .dataframe thead th {\n",
       "        text-align: left;\n",
       "    }\n",
       "\n",
       "    .dataframe tbody tr th {\n",
       "        vertical-align: top;\n",
       "    }\n",
       "</style>\n",
       "<table border=\"1\" class=\"dataframe\">\n",
       "  <thead>\n",
       "    <tr style=\"text-align: right;\">\n",
       "      <th></th>\n",
       "      <th>PREDICATION_ID</th>\n",
       "      <th>SENTENCE_ID</th>\n",
       "      <th>PMID</th>\n",
       "      <th>PREDICATE</th>\n",
       "      <th>SUBJECT_CUI</th>\n",
       "      <th>SUBJECT_NAME</th>\n",
       "      <th>SUBJECT_SEMTYPE</th>\n",
       "      <th>SUBJECT_NOVELTY</th>\n",
       "      <th>OBJECT_CUI</th>\n",
       "      <th>OBJECT_NAME</th>\n",
       "      <th>OBJECT_SEMTYPE</th>\n",
       "      <th>OBJECT_NOVELTY</th>\n",
       "    </tr>\n",
       "  </thead>\n",
       "  <tbody>\n",
       "    <tr>\n",
       "      <th>0</th>\n",
       "      <td>38999</td>\n",
       "      <td>87169</td>\n",
       "      <td>4958141</td>\n",
       "      <td>PART_OF</td>\n",
       "      <td>C0040291</td>\n",
       "      <td>Tissue Extracts</td>\n",
       "      <td>bacs</td>\n",
       "      <td>1</td>\n",
       "      <td>C0085979</td>\n",
       "      <td>Cavia</td>\n",
       "      <td>mamm</td>\n",
       "      <td>1</td>\n",
       "    </tr>\n",
       "    <tr>\n",
       "      <th>1</th>\n",
       "      <td>39000</td>\n",
       "      <td>87167</td>\n",
       "      <td>13997680</td>\n",
       "      <td>LOCATION_OF</td>\n",
       "      <td>C0005767</td>\n",
       "      <td>Blood</td>\n",
       "      <td>tisu</td>\n",
       "      <td>1</td>\n",
       "      <td>C0007061</td>\n",
       "      <td>Carboxyhemoglobin</td>\n",
       "      <td>aapp</td>\n",
       "      <td>1</td>\n",
       "    </tr>\n",
       "    <tr>\n",
       "      <th>2</th>\n",
       "      <td>39001</td>\n",
       "      <td>87171</td>\n",
       "      <td>12254865</td>\n",
       "      <td>PROCESS_OF</td>\n",
       "      <td>C0702166</td>\n",
       "      <td>Acne</td>\n",
       "      <td>dsyn</td>\n",
       "      <td>1</td>\n",
       "      <td>C0043210</td>\n",
       "      <td>Woman</td>\n",
       "      <td>humn</td>\n",
       "      <td>1</td>\n",
       "    </tr>\n",
       "    <tr>\n",
       "      <th>3</th>\n",
       "      <td>39002</td>\n",
       "      <td>87175</td>\n",
       "      <td>14847741</td>\n",
       "      <td>PART_OF</td>\n",
       "      <td>C0027809</td>\n",
       "      <td>Neurilemmoma</td>\n",
       "      <td>neop</td>\n",
       "      <td>1</td>\n",
       "      <td>C0038351</td>\n",
       "      <td>Stomach</td>\n",
       "      <td>bpoc</td>\n",
       "      <td>1</td>\n",
       "    </tr>\n",
       "    <tr>\n",
       "      <th>4</th>\n",
       "      <td>39003</td>\n",
       "      <td>87165</td>\n",
       "      <td>11396507</td>\n",
       "      <td>PART_OF</td>\n",
       "      <td>C0221921</td>\n",
       "      <td>Stratum corneum</td>\n",
       "      <td>tisu</td>\n",
       "      <td>1</td>\n",
       "      <td>C0086418</td>\n",
       "      <td>Homo sapiens</td>\n",
       "      <td>humn</td>\n",
       "      <td>1</td>\n",
       "    </tr>\n",
       "  </tbody>\n",
       "</table>\n",
       "</div>"
      ],
      "text/plain": [
       "   PREDICATION_ID  SENTENCE_ID      PMID    PREDICATE SUBJECT_CUI  \\\n",
       "0           38999        87169   4958141      PART_OF    C0040291   \n",
       "1           39000        87167  13997680  LOCATION_OF    C0005767   \n",
       "2           39001        87171  12254865   PROCESS_OF    C0702166   \n",
       "3           39002        87175  14847741      PART_OF    C0027809   \n",
       "4           39003        87165  11396507      PART_OF    C0221921   \n",
       "\n",
       "      SUBJECT_NAME SUBJECT_SEMTYPE  SUBJECT_NOVELTY OBJECT_CUI  \\\n",
       "0  Tissue Extracts            bacs                1   C0085979   \n",
       "1            Blood            tisu                1   C0007061   \n",
       "2             Acne            dsyn                1   C0043210   \n",
       "3     Neurilemmoma            neop                1   C0038351   \n",
       "4  Stratum corneum            tisu                1   C0086418   \n",
       "\n",
       "         OBJECT_NAME OBJECT_SEMTYPE  OBJECT_NOVELTY  \n",
       "0              Cavia           mamm               1  \n",
       "1  Carboxyhemoglobin           aapp               1  \n",
       "2              Woman           humn               1  \n",
       "3            Stomach           bpoc               1  \n",
       "4       Homo sapiens           humn               1  "
      ]
     },
     "execution_count": 4,
     "metadata": {},
     "output_type": "execute_result"
    }
   ],
   "source": [
    "sem_df.head()"
   ]
  },
  {
   "cell_type": "markdown",
   "metadata": {},
   "source": [
    "## Count PMIDs"
   ]
  },
  {
   "cell_type": "code",
   "execution_count": 5,
   "metadata": {
    "collapsed": true
   },
   "outputs": [],
   "source": [
    "from collections import defaultdict"
   ]
  },
  {
   "cell_type": "code",
   "execution_count": 6,
   "metadata": {},
   "outputs": [
    {
     "name": "stderr",
     "output_type": "stream",
     "text": [
      "100%|██████████| 102113685/102113685 [05:45<00:00, 295777.74it/s]\n"
     ]
    }
   ],
   "source": [
    "pmids = defaultdict(set)\n",
    "\n",
    "for tup in tqdm(sem_df.itertuples(False, None), total=len(sem_df)):\n",
    "    pmid = tup[2]\n",
    "    sub = tup[4]\n",
    "    pred = tup[3]\n",
    "    obj = tup[8]\n",
    "    \n",
    "    pmids[(sub, pred, obj)].add(pmid)"
   ]
  },
  {
   "cell_type": "code",
   "execution_count": 7,
   "metadata": {},
   "outputs": [
    {
     "data": {
      "text/plain": [
       "{16990217,\n",
       " 2867218,\n",
       " 24428565,\n",
       " 23,\n",
       " 696351,\n",
       " 12124197,\n",
       " 7102508,\n",
       " 16436,\n",
       " 3235894,\n",
       " 9756732,\n",
       " 786496,\n",
       " 7594053,\n",
       " 9863238,\n",
       " 2138185,\n",
       " 1441869,\n",
       " 1269846,\n",
       " 6864987,\n",
       " 508009,\n",
       " 7733353,\n",
       " 4030591,\n",
       " 7176320,\n",
       " 5922945,\n",
       " 4825221,\n",
       " 26058891,\n",
       " 1884300,\n",
       " 7184524,\n",
       " 1982609,\n",
       " 622740,\n",
       " 270486,\n",
       " 5324955,\n",
       " 3440796,\n",
       " 10027166,\n",
       " 3342495,\n",
       " 11247775,\n",
       " 8357,\n",
       " 6127791,\n",
       " 6144176,\n",
       " 3891380,\n",
       " 2965695,\n",
       " 3825857,\n",
       " 5357762,\n",
       " 4522182,\n",
       " 9879753,\n",
       " 2859210,\n",
       " 6422733,\n",
       " 2965715,\n",
       " 7954653,\n",
       " 8519902,\n",
       " 18202845,\n",
       " 13000928,\n",
       " 22683869,\n",
       " 344293,\n",
       " 1433833,\n",
       " 6406410,\n",
       " 1122572,\n",
       " 6332687,\n",
       " 15261969,\n",
       " 2523414,\n",
       " 1777945,\n",
       " 7143714,\n",
       " 500003,\n",
       " 8929580,\n",
       " 6881580,\n",
       " 16892205,\n",
       " 4587823,\n",
       " 1597746,\n",
       " 131380,\n",
       " 1016119,\n",
       " 2801977,\n",
       " 6373692,\n",
       " 15139132,\n",
       " 6373694,\n",
       " 14885185,\n",
       " 7127361,\n",
       " 2744655,\n",
       " 8151388,\n",
       " 16580958,\n",
       " 33121,\n",
       " 12755300,\n",
       " 3301739,\n",
       " 844141,\n",
       " 844147,\n",
       " 22135160,\n",
       " 8397178,\n",
       " 3613053,\n",
       " 5652866,\n",
       " 1016195,\n",
       " 7324037,\n",
       " 4678026,\n",
       " 6455694,\n",
       " 5480847,\n",
       " 631185,\n",
       " 3301787,\n",
       " 3621283,\n",
       " 6218152,\n",
       " 688562,\n",
       " 65975,\n",
       " 156090,\n",
       " 1425857,\n",
       " 5792197,\n",
       " 6267347,\n",
       " 1499605,\n",
       " 9585114,\n",
       " 9011680,\n",
       " 13820385,\n",
       " 950758,\n",
       " 9683463,\n",
       " 2236937,\n",
       " 1155598,\n",
       " 3244558,\n",
       " 7537178,\n",
       " 2966055,\n",
       " 7832107,\n",
       " 4055596,\n",
       " 8766005,\n",
       " 467513,\n",
       " 1671737,\n",
       " 2138685,\n",
       " 3564094,\n",
       " 3949119,\n",
       " 7397952,\n",
       " 15770174,\n",
       " 15278663,\n",
       " 13247053,\n",
       " 475732,\n",
       " 1278552,\n",
       " 123483,\n",
       " 983651,\n",
       " 1057386,\n",
       " 9028203,\n",
       " 8061558,\n",
       " 5718653,\n",
       " 426629,\n",
       " 1606285,\n",
       " 6283918,\n",
       " 5153425,\n",
       " 9781923,\n",
       " 4047547,\n",
       " 15278792,\n",
       " 4891354,\n",
       " 6652645,\n",
       " 19538666,\n",
       " 2908913,\n",
       " 7406342,\n",
       " 8561422,\n",
       " 6693646,\n",
       " 13402906,\n",
       " 8992,\n",
       " 6120228,\n",
       " 1549094,\n",
       " 14050097,\n",
       " 9192243,\n",
       " 1729335,\n",
       " 15844151,\n",
       " 5522235,\n",
       " 3498812,\n",
       " 5317438,\n",
       " 9118526,\n",
       " 2589506,\n",
       " 3367747,\n",
       " 6112073,\n",
       " 2810698,\n",
       " 10027855,\n",
       " 3760983,\n",
       " 20996952,\n",
       " 8422232,\n",
       " 2958167,\n",
       " 2958173,\n",
       " 6775648,\n",
       " 4039548,\n",
       " 2491268,\n",
       " 1262470,\n",
       " 6513542,\n",
       " 4031366,\n",
       " 7029652,\n",
       " 3924888,\n",
       " 8012697,\n",
       " 12805030,\n",
       " 4858792,\n",
       " 14468009,\n",
       " 13796273,\n",
       " 1180597,\n",
       " 6767545,\n",
       " 5014458,\n",
       " 3613627,\n",
       " 13124543,\n",
       " 9216962,\n",
       " 7906242,\n",
       " 3449798,\n",
       " 9356234,\n",
       " 4768717,\n",
       " 2565091,\n",
       " 6775781,\n",
       " 443379,\n",
       " 8463350,\n",
       " 3892215,\n",
       " 6439929,\n",
       " 6734842,\n",
       " 6611962,\n",
       " 16024577,\n",
       " 7398407,\n",
       " 3720200,\n",
       " 5637138,\n",
       " 8176664,\n",
       " 6824999,\n",
       " 6661163,\n",
       " 6661164,\n",
       " 3425331,\n",
       " 2352180,\n",
       " 156735,\n",
       " 9290821,\n",
       " 5645391,\n",
       " 3949650,\n",
       " 1139796,\n",
       " 3957846,\n",
       " 3949660,\n",
       " 12502111,\n",
       " 926816,\n",
       " 6931564,\n",
       " 8897644,\n",
       " 7398514,\n",
       " 7611507,\n",
       " 6481012,\n",
       " 1549440,\n",
       " 20284548,\n",
       " 8037512,\n",
       " 13960331,\n",
       " 23839883,\n",
       " 1451149,\n",
       " 885905,\n",
       " 6743187,\n",
       " 2270362,\n",
       " 3605669,\n",
       " 8307879,\n",
       " 29066416,\n",
       " 6464700,\n",
       " 7496894,\n",
       " 10888383,\n",
       " 6653130,\n",
       " 10888397,\n",
       " 8053970,\n",
       " 22340821,\n",
       " 14214361,\n",
       " 1778912,\n",
       " 7070952,\n",
       " 7070953,\n",
       " 7283948,\n",
       " 8324336,\n",
       " 4277503,\n",
       " 4891910,\n",
       " 1451271,\n",
       " 8217864,\n",
       " 8045833,\n",
       " 5653777,\n",
       " 15598865,\n",
       " 6784287,\n",
       " 10454305,\n",
       " 3384614,\n",
       " 24732970,\n",
       " 6702386,\n",
       " 7906623,\n",
       " 1000768,\n",
       " 2385222,\n",
       " 2385224,\n",
       " 3155279,\n",
       " 4572509,\n",
       " 12027229,\n",
       " 14206306,\n",
       " 7988582,\n",
       " 697706,\n",
       " 7046513,\n",
       " 14206324,\n",
       " 1877365,\n",
       " 6636918,\n",
       " 2934133,\n",
       " 157049,\n",
       " 10593664,\n",
       " 7374210,\n",
       " 2196867,\n",
       " 3990924,\n",
       " 3761550,\n",
       " 312724,\n",
       " 6448534,\n",
       " 6448535,\n",
       " 370077,\n",
       " 13092255,\n",
       " 26273193,\n",
       " 14075308,\n",
       " 1959377,\n",
       " 6546902,\n",
       " 7153116,\n",
       " 11257309,\n",
       " 5506535,\n",
       " 3393003,\n",
       " 6620655,\n",
       " 157180,\n",
       " 1181186,\n",
       " 1181189,\n",
       " 14329352,\n",
       " 12404232,\n",
       " 1263132,\n",
       " 624162,\n",
       " 5899814,\n",
       " 624167,\n",
       " 1132072,\n",
       " 2909743,\n",
       " 7013952,\n",
       " 2098753,\n",
       " 7325256,\n",
       " 7456350,\n",
       " 5555813,\n",
       " 4204134,\n",
       " 894568,\n",
       " 5555819,\n",
       " 2778737,\n",
       " 910962,\n",
       " 6669940,\n",
       " 4015734,\n",
       " 3556985,\n",
       " 8382074,\n",
       " 9037436,\n",
       " 3122812,\n",
       " 3401343,\n",
       " 10389120,\n",
       " 755332,\n",
       " 2827910,\n",
       " 6235786,\n",
       " 8595084,\n",
       " 7120528,\n",
       " 1877655,\n",
       " 468642,\n",
       " 8111780,\n",
       " 5965477,\n",
       " 13788839,\n",
       " 16082608,\n",
       " 599739,\n",
       " 11134656,\n",
       " 3917506,\n",
       " 2008773,\n",
       " 14444233,\n",
       " 1418953,\n",
       " 2475721,\n",
       " 4081363,\n",
       " 14550739,\n",
       " 8160987,\n",
       " 3524318,\n",
       " 2254562,\n",
       " 3073770,\n",
       " 2344685,\n",
       " 3409654,\n",
       " 4736759,\n",
       " 5465857,\n",
       " 5875461,\n",
       " 8972037,\n",
       " 3729165,\n",
       " 3729166,\n",
       " 2844432,\n",
       " 12224279,\n",
       " 4032285,\n",
       " 3917615,\n",
       " 8759100,\n",
       " 11937602,\n",
       " 13707076,\n",
       " 20277061,\n",
       " 2115398,\n",
       " 7096136,\n",
       " 5736275,\n",
       " 28616535,\n",
       " 870237,\n",
       " 108382,\n",
       " 239457,\n",
       " 2484073,\n",
       " 1607530,\n",
       " 4843374,\n",
       " 2484082,\n",
       " 3778418,\n",
       " 14927732,\n",
       " 1656701,\n",
       " 14305166,\n",
       " 5695378,\n",
       " 5351322,\n",
       " 2533279,\n",
       " 2156458,\n",
       " 526258,\n",
       " 7227321,\n",
       " 9095098,\n",
       " 6105020,\n",
       " 7129025,\n",
       " 5433295,\n",
       " 7849943,\n",
       " 1968093,\n",
       " 3721188,\n",
       " 8464365,\n",
       " 7809007,\n",
       " 6703091,\n",
       " 11823093,\n",
       " 6711289,\n",
       " 6449153,\n",
       " 10856450,\n",
       " 8472579,\n",
       " 15198211,\n",
       " 272390,\n",
       " 6129683,\n",
       " 8095766,\n",
       " 3475480,\n",
       " 6129692,\n",
       " 6277149,\n",
       " 239650,\n",
       " 3139618,\n",
       " 3172389,\n",
       " 1034283,\n",
       " 9611307,\n",
       " 8751154,\n",
       " 1435709,\n",
       " 6080577,\n",
       " 7678020,\n",
       " 2000970,\n",
       " 6154320,\n",
       " 12036181,\n",
       " 7137369,\n",
       " 1173597,\n",
       " 7071837,\n",
       " 3541095,\n",
       " 1157228,\n",
       " 6465646,\n",
       " 14239857,\n",
       " 6891638,\n",
       " 6858882,\n",
       " 2779277,\n",
       " 4393108,\n",
       " 2992294,\n",
       " 3917992,\n",
       " 4802741,\n",
       " 403638,\n",
       " 1878197,\n",
       " 7637183,\n",
       " 9406660,\n",
       " 7809222,\n",
       " 15247574,\n",
       " 321755,\n",
       " 3565794,\n",
       " 7768293,\n",
       " 2500838,\n",
       " 6998253,\n",
       " 7653614,\n",
       " 6777071,\n",
       " 1206512,\n",
       " 13289721,\n",
       " 2312447,\n",
       " 3082500,\n",
       " 649478,\n",
       " 1149191,\n",
       " 6457606,\n",
       " 11053319,\n",
       " 10561807,\n",
       " 1517841,\n",
       " 8309056,\n",
       " 9242950,\n",
       " 6121808,\n",
       " 1698130,\n",
       " 149849,\n",
       " 9300314,\n",
       " 5777759,\n",
       " 9300323,\n",
       " 1141096,\n",
       " 1640812,\n",
       " 1689965,\n",
       " 2140541,\n",
       " 1141118,\n",
       " 453010,\n",
       " 4229528,\n",
       " 9546145,\n",
       " 3344819,\n",
       " 387511,\n",
       " 3533240,\n",
       " 2525630,\n",
       " 10381763,\n",
       " 6982091,\n",
       " 1247694,\n",
       " 534994,\n",
       " 4016595,\n",
       " 1878486,\n",
       " 2058716,\n",
       " 8997349,\n",
       " 2845164,\n",
       " 5114358,\n",
       " 7653880,\n",
       " 12003838,\n",
       " 2935324,\n",
       " 11545116,\n",
       " 6801950,\n",
       " 15305251,\n",
       " 707121,\n",
       " 6228529,\n",
       " 3598899,\n",
       " 18328131,\n",
       " 3320392,\n",
       " 5032523,\n",
       " 6736459,\n",
       " 2738772,\n",
       " 592474,\n",
       " 9890396,\n",
       " 11668071,\n",
       " 6662760,\n",
       " 8063597,\n",
       " 3336825,\n",
       " 15403646,\n",
       " 1084034,\n",
       " 2861698,\n",
       " 4573829,\n",
       " 2927238,\n",
       " 3746446,\n",
       " 6195856,\n",
       " 11733661,\n",
       " 6998689,\n",
       " 1936048,\n",
       " 4016818,\n",
       " 1247926,\n",
       " 24545975,\n",
       " 404163,\n",
       " 3934919,\n",
       " 14084814,\n",
       " 8809167,\n",
       " 1288912,\n",
       " 2067154,\n",
       " 7129814,\n",
       " 7908057,\n",
       " 1280733,\n",
       " 1280736,\n",
       " 5442294,\n",
       " 2714359,\n",
       " 11602678,\n",
       " 1510137,\n",
       " 14084864,\n",
       " 1166083,\n",
       " 14289669,\n",
       " 4573958,\n",
       " 551687,\n",
       " 3934985,\n",
       " 7449354,\n",
       " 224013,\n",
       " 2902803,\n",
       " 3328793,\n",
       " 3377951,\n",
       " 363302,\n",
       " 5106475,\n",
       " 4631339,\n",
       " 6613806,\n",
       " 6540088,\n",
       " 8162110,\n",
       " 7867199,\n",
       " 3558212,\n",
       " 5557064,\n",
       " 3189577,\n",
       " 12397386,\n",
       " 5131083,\n",
       " 9710408,\n",
       " 2239316,\n",
       " 19549017,\n",
       " 1641307,\n",
       " 35697,\n",
       " 12618609,\n",
       " 2370419,\n",
       " 9390978,\n",
       " 879493,\n",
       " 20343697,\n",
       " 3230618,\n",
       " 7113627,\n",
       " 1977244,\n",
       " 2911133,\n",
       " 7195551,\n",
       " 805796,\n",
       " 232359,\n",
       " 2960304,\n",
       " 6433725,\n",
       " 6319040,\n",
       " 11791296,\n",
       " 1002439,\n",
       " 3713993,\n",
       " 150474,\n",
       " 5237712,\n",
       " 14978008,\n",
       " 3148767,\n",
       " 11283430,\n",
       " 6663143,\n",
       " 12618735,\n",
       " 13888499,\n",
       " 4697083,\n",
       " 6237181,\n",
       " 9268222,\n",
       " 8555520,\n",
       " 5319683,\n",
       " 3968016,\n",
       " 14183457,\n",
       " 8883239,\n",
       " 3607591,\n",
       " 6482984,\n",
       " 6122539,\n",
       " 347180,\n",
       " 9374766,\n",
       " 3705905,\n",
       " 9743413,\n",
       " 7564348,\n",
       " 4033596,\n",
       " 8473662,\n",
       " 3484739,\n",
       " 11037767,\n",
       " 22047817,\n",
       " 10562640,\n",
       " 3664988,\n",
       " 9038949,\n",
       " 10644586,\n",
       " 2919531,\n",
       " 470125,\n",
       " 18214007,\n",
       " 5033081,\n",
       " 1674362,\n",
       " 16321667,\n",
       " 2878599,\n",
       " 5000331,\n",
       " 3189912,\n",
       " 3779744,\n",
       " 5008548,\n",
       " 8211621,\n",
       " 2337956,\n",
       " 2960551,\n",
       " 6696108,\n",
       " 2190508,\n",
       " 11955374,\n",
       " 4156592,\n",
       " 6696116,\n",
       " 8473784,\n",
       " 9039033,\n",
       " 6696134,\n",
       " 6098119,\n",
       " 9604304,\n",
       " 1182935,\n",
       " 7097568,\n",
       " 8309987,\n",
       " 4025571,\n",
       " 2936054,\n",
       " 9039104,\n",
       " 3394816,\n",
       " 7351558,\n",
       " 6024455,\n",
       " 3394830,\n",
       " 2010384,\n",
       " 4304151,\n",
       " 5647643,\n",
       " 3378477,\n",
       " 2010416,\n",
       " 6139184,\n",
       " 4082996,\n",
       " 27159860,\n",
       " 13339972,\n",
       " 8834373,\n",
       " 1379654,\n",
       " 6196557,\n",
       " 6196567,\n",
       " 8203611,\n",
       " 6516064,\n",
       " 7277931,\n",
       " 2764139,\n",
       " 2715002,\n",
       " 9538939,\n",
       " 11324799,\n",
       " 8859022,\n",
       " 4648336,\n",
       " 2796944,\n",
       " 8433042,\n",
       " 11406739,\n",
       " 6507927,\n",
       " 18574744,\n",
       " 1838493,\n",
       " 568734,\n",
       " 11087264,\n",
       " 5795233,\n",
       " 7294372,\n",
       " 13143477,\n",
       " 1142215,\n",
       " 6237639,\n",
       " 15723978,\n",
       " 7851469,\n",
       " 683479,\n",
       " 1142234,\n",
       " 2502126,\n",
       " 6114801,\n",
       " 6991360,\n",
       " 3296782,\n",
       " 3239438,\n",
       " 6032924,\n",
       " 2461214,\n",
       " 6417976,\n",
       " 609850,\n",
       " 3608124,\n",
       " 14446141,\n",
       " 7933502,\n",
       " 14446143,\n",
       " 3993153,\n",
       " 3608130,\n",
       " 3436107,\n",
       " 20098635,\n",
       " 10825307,\n",
       " 15945307,\n",
       " 7818856,\n",
       " 142964,\n",
       " 7466623,\n",
       " 1199745,\n",
       " 4886149,\n",
       " 7687816,\n",
       " 1994383,\n",
       " 5361299,\n",
       " 6074007,\n",
       " 6491801,\n",
       " 11464351,\n",
       " 954018,\n",
       " 6213304,\n",
       " 24923840,\n",
       " 8367810,\n",
       " 7040725,\n",
       " 4902623,\n",
       " 5099231,\n",
       " 1175265,\n",
       " 7900895,\n",
       " 3624671,\n",
       " 13635301,\n",
       " 2346730,\n",
       " 4583151,\n",
       " 8105721,\n",
       " 3026683,\n",
       " 3370762,\n",
       " 438029,\n",
       " 6311700,\n",
       " 1257244,\n",
       " 528165,\n",
       " 15167269,\n",
       " 3378985,\n",
       " 10735419,\n",
       " 618301,\n",
       " 1085251,\n",
       " 5599050,\n",
       " 1191754,\n",
       " 2060108,\n",
       " 7515993,\n",
       " 651099,\n",
       " 16043880,\n",
       " 20975467,\n",
       " 23097199,\n",
       " 3903353,\n",
       " 3002239,\n",
       " 2240385,\n",
       " 7729034,\n",
       " 5590935,\n",
       " 1150876,\n",
       " 1093534,\n",
       " 1150881,\n",
       " 6803368,\n",
       " 3993513,\n",
       " 4419505,\n",
       " 1249202,\n",
       " 790460,\n",
       " 4992961,\n",
       " 2346952,\n",
       " 5795795,\n",
       " 4055,\n",
       " 7688153,\n",
       " 1265634,\n",
       " 1019879,\n",
       " 28872684,\n",
       " 1421296,\n",
       " 5763060,\n",
       " 626680,\n",
       " 12062715,\n",
       " 6123523,\n",
       " 15659014,\n",
       " 1134615,\n",
       " 11915297,\n",
       " 1273903,\n",
       " 9531447,\n",
       " 28627001,\n",
       " 6860870,\n",
       " 1814611,\n",
       " 1396821,\n",
       " 3371100,\n",
       " 3092574,\n",
       " 487524,\n",
       " 15372389,\n",
       " 618600,\n",
       " 15044714,\n",
       " 6131828,\n",
       " 9588871,\n",
       " 10064010,\n",
       " 2822285,\n",
       " 5320848,\n",
       " 5075089,\n",
       " 659626,\n",
       " 5148850,\n",
       " 2977970,\n",
       " 6230196,\n",
       " 7958718,\n",
       " 1757375,\n",
       " 2617538,\n",
       " 3100868,\n",
       " 13250768,\n",
       " 2896081,\n",
       " 6885585,\n",
       " 536836,\n",
       " 3485963,\n",
       " 3895564,\n",
       " 7966999,\n",
       " 15528224,\n",
       " 7680290,\n",
       " 8040740,\n",
       " 6746413,\n",
       " 1249588,\n",
       " 13701432,\n",
       " 3436860,\n",
       " 6869316,\n",
       " 6844743,\n",
       " 5648722,\n",
       " 3117408,\n",
       " 8032610,\n",
       " 864614,\n",
       " 4895081,\n",
       " 2896237,\n",
       " 20836725,\n",
       " 13889925,\n",
       " 3371399,\n",
       " 2527646,\n",
       " 4026782,\n",
       " 8057252,\n",
       " 7377318,\n",
       " 7377330,\n",
       " 8278458,\n",
       " '22091905',\n",
       " 11481556,\n",
       " 2085336,\n",
       " 19870176,\n",
       " 10981856,\n",
       " 2642402,\n",
       " 11596257,\n",
       " 14324197,\n",
       " 6861289,\n",
       " 6697452,\n",
       " 6689268,\n",
       " 2798072,\n",
       " 27243024,\n",
       " 6427155,\n",
       " 1282595,\n",
       " 3715622,\n",
       " 7639592,\n",
       " 4059690,\n",
       " 1839665,\n",
       " 6869554,\n",
       " 668211,\n",
       " 13824567,\n",
       " 684608,\n",
       " 14856778,\n",
       " 5378645,\n",
       " 8131164,\n",
       " 201353,\n",
       " 6476432,\n",
       " 5411473,\n",
       " 5100179,\n",
       " 14004884,\n",
       " 2019987,\n",
       " 6435485,\n",
       " 9433769,\n",
       " 10228398,\n",
       " 6435504,\n",
       " 3936944,\n",
       " 2953906,\n",
       " 8680116,\n",
       " 5780151,\n",
       " 5075645,\n",
       " 5386948,\n",
       " 1733324,\n",
       " 4403935,\n",
       " 13906660,\n",
       " 5690092,\n",
       " 3379952,\n",
       " 6214387,\n",
       " 881399,\n",
       " 5698297,\n",
       " 2740986,\n",
       " 7779067,\n",
       " 7123711,\n",
       " 2708225,\n",
       " 1274639,\n",
       " 1184530,\n",
       " 3273491,\n",
       " 1381141,\n",
       " 4543254,\n",
       " 389912,\n",
       " 5051162,\n",
       " 2708259,\n",
       " 7205671,\n",
       " 6124327,\n",
       " 2536247,\n",
       " 7664443,\n",
       " 889660,\n",
       " 1209158,\n",
       " 3371851,\n",
       " 6050638,\n",
       " 463705,\n",
       " 1176414,\n",
       " 2913121,\n",
       " 18830182,\n",
       " 6689643,\n",
       " 1266542,\n",
       " 2446193,\n",
       " 4772725,\n",
       " 1586047,\n",
       " 5313424,\n",
       " 5313425,\n",
       " 578464,\n",
       " 7246785,\n",
       " 8385480,\n",
       " 7615442,\n",
       " 8713177,\n",
       " 1815519,\n",
       " 1266658,\n",
       " 13358052,\n",
       " 8418276,\n",
       " 37865,\n",
       " 529389,\n",
       " 2175983,\n",
       " 136176,\n",
       " 3748849,\n",
       " 529420,\n",
       " 3445772,\n",
       " 6353943,\n",
       " 6353944,\n",
       " 734239,\n",
       " 3626015,\n",
       " 6878241,\n",
       " 701475,\n",
       " 676904,\n",
       " 676908,\n",
       " 1438767,\n",
       " 2642991,\n",
       " 2372663,\n",
       " 7230522,\n",
       " 10023999,\n",
       " 7009345,\n",
       " 6673474,\n",
       " 5436507,\n",
       " 6427752,\n",
       " 6722669,\n",
       " 7361651,\n",
       " 1086588,\n",
       " 4428930,\n",
       " 947336,\n",
       " 7181450,\n",
       " 840845,\n",
       " 3945615,\n",
       " 6993040,\n",
       " 12022928,\n",
       " 3421335,\n",
       " 7722138,\n",
       " 13661351,\n",
       " 9475265,\n",
       " 2946243,\n",
       " 13964490,\n",
       " 1242314,\n",
       " 2258126,\n",
       " 439503,\n",
       " 660700,\n",
       " 8967391,\n",
       " 6829282,\n",
       " 7263461,\n",
       " 7599339,\n",
       " 2782444,\n",
       " 496880,\n",
       " 2864368,\n",
       " 464116,\n",
       " 3757309,\n",
       " 8246539,\n",
       " 2209045,\n",
       " 6632727,\n",
       " 21624098,\n",
       " 6370600,\n",
       " 1307951,\n",
       " 9475376,\n",
       " 2708785,\n",
       " 5174590,\n",
       " 9024832,\n",
       " 3224899,\n",
       " 6780230,\n",
       " 1979721,\n",
       " 111946,\n",
       " 7058762,\n",
       " 12744011,\n",
       " 6952275,\n",
       " 2930004,\n",
       " 5338459,\n",
       " 1111403,\n",
       " 6092146,\n",
       " 7296373,\n",
       " 3937653,\n",
       " ...}"
      ]
     },
     "execution_count": 7,
     "metadata": {},
     "output_type": "execute_result"
    }
   ],
   "source": [
    "pmids[('C0232338', 'PROCESS_OF', 'C0012984')]"
   ]
  },
  {
   "cell_type": "code",
   "execution_count": 8,
   "metadata": {},
   "outputs": [
    {
     "name": "stdout",
     "output_type": "stream",
     "text": [
      "CPU times: user 0 ns, sys: 0 ns, total: 0 ns\n",
      "Wall time: 579 µs\n"
     ]
    }
   ],
   "source": [
    "%%time\n",
    "grpd = sem_df.groupby(['SUBJECT_CUI', 'PREDICATE', 'OBJECT_CUI'])"
   ]
  },
  {
   "cell_type": "code",
   "execution_count": 9,
   "metadata": {},
   "outputs": [
    {
     "name": "stdout",
     "output_type": "stream",
     "text": [
      "CPU times: user 5min 15s, sys: 1.18 s, total: 5min 16s\n",
      "Wall time: 5min 15s\n"
     ]
    }
   ],
   "source": [
    "%%time\n",
    "counts = grpd['PMID'].nunique()"
   ]
  },
  {
   "cell_type": "code",
   "execution_count": 10,
   "metadata": {
    "collapsed": true
   },
   "outputs": [],
   "source": [
    "counts = counts.to_frame()"
   ]
  },
  {
   "cell_type": "code",
   "execution_count": 11,
   "metadata": {
    "collapsed": true
   },
   "outputs": [],
   "source": [
    "counts = counts.reset_index()"
   ]
  },
  {
   "cell_type": "code",
   "execution_count": 12,
   "metadata": {},
   "outputs": [
    {
     "data": {
      "image/png": "[encoded data removed]",
      "text/plain": [
       "<matplotlib.figure.Figure at 0x7fddc6356470>"
      ]
     },
     "metadata": {},
     "output_type": "display_data"
    }
   ],
   "source": [
    "sns.distplot(counts[counts['PMID'] < 21]['PMID'], bins=20, kde=False)\n",
    "plt.xticks(np.arange(1, 20, 1))\n",
    "plt.text(10, 1.4e7, 'Max PMIDs per Edge: {}'.format(counts['PMID'].max()))\n",
    "plt.text(10, 1.3e7, 'Mean PMIDs per Edge: {:1.2f}'.format(counts['PMID'].mean()));"
   ]
  },
  {
   "cell_type": "code",
   "execution_count": 13,
   "metadata": {},
   "outputs": [
    {
     "data": {
      "image/png": "[encoded data removed]",
      "text/plain": [
       "<matplotlib.figure.Figure at 0x7fddc3986e48>"
      ]
     },
     "metadata": {},
     "output_type": "display_data"
    }
   ],
   "source": [
    "log_counts = np.log(counts['PMID'])\n",
    "sns.distplot(log_counts, bins=20, kde=False)\n",
    "plt.xlabel('log PMIDs');\n",
    "plt.text(6, 1.4e7, 'Max log PMIDs per Edge: {:1.2f}'.format(log_counts.max()))\n",
    "plt.text(6, 1.3e7, 'Mean log PMIDs per Edge: {:1.2f}'.format(log_counts.mean()));"
   ]
  },
  {
   "cell_type": "code",
   "execution_count": 14,
   "metadata": {},
   "outputs": [
    {
     "name": "stdout",
     "output_type": "stream",
     "text": [
      "Edges with at least 1 unique PMIDs: 21,029,688\n",
      "Edges with at least 2 unique PMIDs: 6,283,545\n",
      "Edges with at least 3 unique PMIDs: 3,629,774\n",
      "Edges with at least 4 unique PMIDs: 2,554,514\n",
      "Edges with at least 5 unique PMIDs: 1,972,421\n",
      "Edges with at least 6 unique PMIDs: 1,606,535\n",
      "Edges with at least 7 unique PMIDs: 1,354,464\n",
      "Edges with at least 8 unique PMIDs: 1,171,227\n",
      "Edges with at least 9 unique PMIDs: 1,030,991\n",
      "Edges with at least 10 unique PMIDs: 920,340\n"
     ]
    }
   ],
   "source": [
    "for i in range(1, 11):\n",
    "    print(\"Edges with at least {} unique PMIDs: {:,}\".format(i, (counts['PMID'] >= i).sum()))"
   ]
  },
  {
   "cell_type": "markdown",
   "metadata": {},
   "source": [
    "## De-Duplicate\n",
    "\n",
    "The data will be faster to work with if duplicate items are removed."
   ]
  },
  {
   "cell_type": "code",
   "execution_count": 15,
   "metadata": {},
   "outputs": [
    {
     "name": "stdout",
     "output_type": "stream",
     "text": [
      "Rows Remaining: 21,522,794\n"
     ]
    }
   ],
   "source": [
    "sem_df = sem_df.drop_duplicates(subset=['SUBJECT_CUI', 'SUBJECT_NAME', 'SUBJECT_SEMTYPE', 'PREDICATE',\n",
    "                                        'OBJECT_CUI', 'OBJECT_NAME', 'OBJECT_SEMTYPE'])\n",
    "\n",
    "print('Rows Remaining: {:,}'.format(sem_df.shape[0]))"
   ]
  },
  {
   "cell_type": "markdown",
   "metadata": {},
   "source": [
    "# Sem-Types\n",
    "\n",
    "Semtypes are abbreviated, so need to get mappings to true name.  \n",
    "Examining the length of the map file, there should be 133 semtypes."
   ]
  },
  {
   "cell_type": "code",
   "execution_count": 16,
   "metadata": {},
   "outputs": [
    {
     "data": {
      "text/plain": [
       "133"
      ]
     },
     "execution_count": 16,
     "metadata": {},
     "output_type": "execute_result"
    }
   ],
   "source": [
    "len(set(sem_df['SUBJECT_SEMTYPE'].unique()).union(set(sem_df['OBJECT_SEMTYPE'].unique())))"
   ]
  },
  {
   "cell_type": "markdown",
   "metadata": {
    "collapsed": true
   },
   "source": [
    "## Normalizing semtypes for CUIs with multiple semtypes\n",
    "\n",
    "We know that there are multiple Semtypes for a given CUI found throghout the database.  Can we just use a voting system? That with the most occruances of a given semtype gets that semtype?\n",
    "\n",
    "For a CUI thats a Gene e.g. `C1337111` or the `POMC gene` we want something thats a subclass of Genes and Genomes (aka gngm)."
   ]
  },
  {
   "cell_type": "code",
   "execution_count": 17,
   "metadata": {
    "scrolled": true
   },
   "outputs": [
    {
     "data": {
      "text/plain": [
       "aapp    4275\n",
       "gngm     913\n",
       "horm     831\n",
       "phsu     274\n",
       "nsba      31\n",
       "lbpr       1\n",
       "bacs       1\n",
       "Name: SUBJECT_SEMTYPE, dtype: int64"
      ]
     },
     "execution_count": 17,
     "metadata": {},
     "output_type": "execute_result"
    }
   ],
   "source": [
    "sem_df.query('SUBJECT_CUI == \"C1337111\"')['SUBJECT_SEMTYPE'].value_counts()"
   ]
  },
  {
   "cell_type": "markdown",
   "metadata": {},
   "source": [
    "Unfortunately, aapp is a sublcass of Chemicals & Drugs, so this would be given the wrong superclass if identified.\n",
    "\n",
    "However, it will be easier to do this if the nodes are sperated from the edges first\n",
    "\n",
    "\n",
    "### Semmtypes abbreviation mappings\n",
    "\n",
    "Files with the mapping information were [downloaded here](https://metamap.nlm.nih.gov/SemanticTypesAndGroups.shtml)"
   ]
  },
  {
   "cell_type": "code",
   "execution_count": 18,
   "metadata": {
    "collapsed": true
   },
   "outputs": [],
   "source": [
    "abbv_to_type = dict()\n",
    "with open('../SemanticTypes_2013AA.txt') as fin:\n",
    "    for line in fin:\n",
    "        line = line.strip()\n",
    "        lspt = line.split('|')\n",
    "        abbv_to_type[lspt[0]] = lspt[-1]\n",
    "type_to_abbv = {v:k for k, v in abbv_to_type.items()}"
   ]
  },
  {
   "cell_type": "markdown",
   "metadata": {},
   "source": [
    "Semtypes also have a supertype.   \n",
    "The mapping file has this structure:\n",
    "\n",
    "    ANAT|Anatomy|T017|Anatomical Structure\n",
    "\n",
    "### Semtype supertypes mappings"
   ]
  },
  {
   "cell_type": "code",
   "execution_count": 19,
   "metadata": {
    "collapsed": true
   },
   "outputs": [],
   "source": [
    "abbv_to_super = dict()\n",
    "with open('../SemGroups_2013.txt') as fin:\n",
    "    for line in fin:\n",
    "        line = line.strip()\n",
    "        lspt = line.split('|')\n",
    "        abbv_to_super[type_to_abbv[lspt[-1]]] = lspt[1]"
   ]
  },
  {
   "cell_type": "markdown",
   "metadata": {},
   "source": [
    "### Check to see that all of the semtype abbreviations in the SemmedDB are repepresented in this mapping file"
   ]
  },
  {
   "cell_type": "code",
   "execution_count": 20,
   "metadata": {},
   "outputs": [
    {
     "data": {
      "text/plain": [
       "{'alga', 'invt', 'rich'}"
      ]
     },
     "execution_count": 20,
     "metadata": {},
     "output_type": "execute_result"
    }
   ],
   "source": [
    "semtype_abbvs = abbv_to_super.keys()\n",
    "unused_abbvs = set(sem_df.query('SUBJECT_SEMTYPE not in @semtype_abbvs')['SUBJECT_SEMTYPE'].unique())\n",
    "unused_abbvs.update(set(sem_df.query('OBJECT_SEMTYPE not in @semtype_abbvs')['OBJECT_SEMTYPE'].unique()))\n",
    "\n",
    "unused_abbvs"
   ]
  },
  {
   "cell_type": "markdown",
   "metadata": {},
   "source": [
    "There are a few that aren't in there (ignore the 0, thats probably a corrupted line), so lets see if we can figure out what they should be"
   ]
  },
  {
   "cell_type": "code",
   "execution_count": 21,
   "metadata": {},
   "outputs": [
    {
     "data": {
      "text/html": [
       "<div>\n",
       "<style>\n",
       "    .dataframe thead tr:only-child th {\n",
       "        text-align: right;\n",
       "    }\n",
       "\n",
       "    .dataframe thead th {\n",
       "        text-align: left;\n",
       "    }\n",
       "\n",
       "    .dataframe tbody tr th {\n",
       "        vertical-align: top;\n",
       "    }\n",
       "</style>\n",
       "<table border=\"1\" class=\"dataframe\">\n",
       "  <thead>\n",
       "    <tr style=\"text-align: right;\">\n",
       "      <th></th>\n",
       "      <th>SUBJECT_CUI</th>\n",
       "      <th>SUBJECT_NAME</th>\n",
       "      <th>SUBJECT_SEMTYPE</th>\n",
       "    </tr>\n",
       "  </thead>\n",
       "  <tbody>\n",
       "    <tr>\n",
       "      <th>3276</th>\n",
       "      <td>C0002032</td>\n",
       "      <td>Algae, Green</td>\n",
       "      <td>alga</td>\n",
       "    </tr>\n",
       "    <tr>\n",
       "      <th>5130</th>\n",
       "      <td>C0002028</td>\n",
       "      <td>Algae</td>\n",
       "      <td>alga</td>\n",
       "    </tr>\n",
       "  </tbody>\n",
       "</table>\n",
       "</div>"
      ],
      "text/plain": [
       "     SUBJECT_CUI  SUBJECT_NAME SUBJECT_SEMTYPE\n",
       "3276    C0002032  Algae, Green            alga\n",
       "5130    C0002028         Algae            alga"
      ]
     },
     "execution_count": 21,
     "metadata": {},
     "output_type": "execute_result"
    }
   ],
   "source": [
    "sem_df.query('SUBJECT_SEMTYPE == \"alga\"').head(2)[['SUBJECT_CUI', 'SUBJECT_NAME', 'SUBJECT_SEMTYPE']]"
   ]
  },
  {
   "cell_type": "code",
   "execution_count": 22,
   "metadata": {},
   "outputs": [
    {
     "data": {
      "text/html": [
       "<div>\n",
       "<style>\n",
       "    .dataframe thead tr:only-child th {\n",
       "        text-align: right;\n",
       "    }\n",
       "\n",
       "    .dataframe thead th {\n",
       "        text-align: left;\n",
       "    }\n",
       "\n",
       "    .dataframe tbody tr th {\n",
       "        vertical-align: top;\n",
       "    }\n",
       "</style>\n",
       "<table border=\"1\" class=\"dataframe\">\n",
       "  <thead>\n",
       "    <tr style=\"text-align: right;\">\n",
       "      <th></th>\n",
       "      <th>SUBJECT_CUI</th>\n",
       "      <th>SUBJECT_NAME</th>\n",
       "      <th>SUBJECT_SEMTYPE</th>\n",
       "    </tr>\n",
       "  </thead>\n",
       "  <tbody>\n",
       "    <tr>\n",
       "      <th>187</th>\n",
       "      <td>C0012518</td>\n",
       "      <td>Dipetalonema perstans</td>\n",
       "      <td>invt</td>\n",
       "    </tr>\n",
       "    <tr>\n",
       "      <th>294</th>\n",
       "      <td>C0026584</td>\n",
       "      <td>Culicidae</td>\n",
       "      <td>invt</td>\n",
       "    </tr>\n",
       "  </tbody>\n",
       "</table>\n",
       "</div>"
      ],
      "text/plain": [
       "    SUBJECT_CUI           SUBJECT_NAME SUBJECT_SEMTYPE\n",
       "187    C0012518  Dipetalonema perstans            invt\n",
       "294    C0026584              Culicidae            invt"
      ]
     },
     "execution_count": 22,
     "metadata": {},
     "output_type": "execute_result"
    }
   ],
   "source": [
    "sem_df.query('SUBJECT_SEMTYPE == \"invt\"').head(2)[['SUBJECT_CUI', 'SUBJECT_NAME', 'SUBJECT_SEMTYPE']]"
   ]
  },
  {
   "cell_type": "code",
   "execution_count": 23,
   "metadata": {},
   "outputs": [
    {
     "data": {
      "text/html": [
       "<div>\n",
       "<style>\n",
       "    .dataframe thead tr:only-child th {\n",
       "        text-align: right;\n",
       "    }\n",
       "\n",
       "    .dataframe thead th {\n",
       "        text-align: left;\n",
       "    }\n",
       "\n",
       "    .dataframe tbody tr th {\n",
       "        vertical-align: top;\n",
       "    }\n",
       "</style>\n",
       "<table border=\"1\" class=\"dataframe\">\n",
       "  <thead>\n",
       "    <tr style=\"text-align: right;\">\n",
       "      <th></th>\n",
       "      <th>SUBJECT_CUI</th>\n",
       "      <th>SUBJECT_NAME</th>\n",
       "      <th>SUBJECT_SEMTYPE</th>\n",
       "    </tr>\n",
       "  </thead>\n",
       "  <tbody>\n",
       "    <tr>\n",
       "      <th>1499</th>\n",
       "      <td>C0035587</td>\n",
       "      <td>Rickettsia prowazekii</td>\n",
       "      <td>rich</td>\n",
       "    </tr>\n",
       "    <tr>\n",
       "      <th>7037</th>\n",
       "      <td>C0010240</td>\n",
       "      <td>Coxiella burnetii</td>\n",
       "      <td>rich</td>\n",
       "    </tr>\n",
       "  </tbody>\n",
       "</table>\n",
       "</div>"
      ],
      "text/plain": [
       "     SUBJECT_CUI           SUBJECT_NAME SUBJECT_SEMTYPE\n",
       "1499    C0035587  Rickettsia prowazekii            rich\n",
       "7037    C0010240      Coxiella burnetii            rich"
      ]
     },
     "execution_count": 23,
     "metadata": {},
     "output_type": "execute_result"
    }
   ],
   "source": [
    "sem_df.query('SUBJECT_SEMTYPE == \"rich\"').head(2)[['SUBJECT_CUI', 'SUBJECT_NAME', 'SUBJECT_SEMTYPE']]"
   ]
  },
  {
   "cell_type": "code",
   "execution_count": 24,
   "metadata": {
    "collapsed": true
   },
   "outputs": [],
   "source": [
    "# Looked ups a few cuis with these and they are all of the living beings type, \n",
    "# so we will set these to that semtype\n",
    "abbv_to_super['invt'] = 'Living Beings'\n",
    "abbv_to_super['alga'] = 'Living Beings'\n",
    "abbv_to_super['rich'] = 'Living Beings'"
   ]
  },
  {
   "cell_type": "code",
   "execution_count": 25,
   "metadata": {},
   "outputs": [
    {
     "data": {
      "text/html": [
       "<div>\n",
       "<style>\n",
       "    .dataframe thead tr:only-child th {\n",
       "        text-align: right;\n",
       "    }\n",
       "\n",
       "    .dataframe thead th {\n",
       "        text-align: left;\n",
       "    }\n",
       "\n",
       "    .dataframe tbody tr th {\n",
       "        vertical-align: top;\n",
       "    }\n",
       "</style>\n",
       "<table border=\"1\" class=\"dataframe\">\n",
       "  <thead>\n",
       "    <tr style=\"text-align: right;\">\n",
       "      <th></th>\n",
       "      <th>ID</th>\n",
       "      <th>name</th>\n",
       "      <th>LABEL</th>\n",
       "    </tr>\n",
       "  </thead>\n",
       "  <tbody>\n",
       "    <tr>\n",
       "      <th>0</th>\n",
       "      <td>C0040291</td>\n",
       "      <td>Tissue Extracts</td>\n",
       "      <td>Chemicals &amp; Drugs</td>\n",
       "    </tr>\n",
       "    <tr>\n",
       "      <th>1</th>\n",
       "      <td>C0005767</td>\n",
       "      <td>Blood</td>\n",
       "      <td>Anatomy</td>\n",
       "    </tr>\n",
       "    <tr>\n",
       "      <th>2</th>\n",
       "      <td>C0702166</td>\n",
       "      <td>Acne</td>\n",
       "      <td>Disorders</td>\n",
       "    </tr>\n",
       "    <tr>\n",
       "      <th>3</th>\n",
       "      <td>C0027809</td>\n",
       "      <td>Neurilemmoma</td>\n",
       "      <td>Disorders</td>\n",
       "    </tr>\n",
       "    <tr>\n",
       "      <th>4</th>\n",
       "      <td>C0221921</td>\n",
       "      <td>Stratum corneum</td>\n",
       "      <td>Anatomy</td>\n",
       "    </tr>\n",
       "  </tbody>\n",
       "</table>\n",
       "</div>"
      ],
      "text/plain": [
       "         ID             name              LABEL\n",
       "0  C0040291  Tissue Extracts  Chemicals & Drugs\n",
       "1  C0005767            Blood            Anatomy\n",
       "2  C0702166             Acne          Disorders\n",
       "3  C0027809     Neurilemmoma          Disorders\n",
       "4  C0221921  Stratum corneum            Anatomy"
      ]
     },
     "execution_count": 25,
     "metadata": {},
     "output_type": "execute_result"
    }
   ],
   "source": [
    "# Make a nodes csv\n",
    "\n",
    "snodes = pd.DataFrame()\n",
    "onodes = pd.DataFrame()\n",
    "\n",
    "\n",
    "snodes['ID'] = sem_df['SUBJECT_CUI']\n",
    "snodes['name'] = sem_df['SUBJECT_NAME']\n",
    "snodes['LABEL'] = sem_df['SUBJECT_SEMTYPE'].apply(lambda x: abbv_to_super.get(x))\n",
    "\n",
    "onodes['ID'] = sem_df['OBJECT_CUI']\n",
    "onodes['name'] = sem_df['OBJECT_NAME']\n",
    "onodes['LABEL'] = sem_df['OBJECT_SEMTYPE'].apply(lambda x: abbv_to_super.get(x))\n",
    "\n",
    "\n",
    "nodes = pd.concat([snodes, onodes])\n",
    "nodes.drop_duplicates(inplace=True)\n",
    "nodes = nodes.reset_index(drop=True)\n",
    "\n",
    "nodes.head()"
   ]
  },
  {
   "cell_type": "code",
   "execution_count": 26,
   "metadata": {},
   "outputs": [
    {
     "name": "stdout",
     "output_type": "stream",
     "text": [
      "There are 300192 lines and 262758 unique IDs\n",
      "73201 IDs have been found to have multiple semantic types\n"
     ]
    }
   ],
   "source": [
    "print('There are {} lines and {} unique IDs'.format(nodes.shape[0], nodes['ID'].nunique()))\n",
    "0\n",
    "num_duped = nodes[nodes.duplicated(subset='ID', keep=False)].drop_duplicates().shape[0]\n",
    "print('{} IDs have been found to have multiple semantic types'.format(num_duped))"
   ]
  },
  {
   "cell_type": "markdown",
   "metadata": {},
   "source": [
    "Dropping all NA values drops way too many.  We need to see which ones have NA values and why"
   ]
  },
  {
   "cell_type": "code",
   "execution_count": 27,
   "metadata": {},
   "outputs": [
    {
     "data": {
      "text/html": [
       "<div>\n",
       "<style>\n",
       "    .dataframe thead tr:only-child th {\n",
       "        text-align: right;\n",
       "    }\n",
       "\n",
       "    .dataframe thead th {\n",
       "        text-align: left;\n",
       "    }\n",
       "\n",
       "    .dataframe tbody tr th {\n",
       "        vertical-align: top;\n",
       "    }\n",
       "</style>\n",
       "<table border=\"1\" class=\"dataframe\">\n",
       "  <thead>\n",
       "    <tr style=\"text-align: right;\">\n",
       "      <th></th>\n",
       "      <th>ID</th>\n",
       "      <th>name</th>\n",
       "      <th>LABEL</th>\n",
       "    </tr>\n",
       "  </thead>\n",
       "  <tbody>\n",
       "  </tbody>\n",
       "</table>\n",
       "</div>"
      ],
      "text/plain": [
       "Empty DataFrame\n",
       "Columns: [ID, name, LABEL]\n",
       "Index: []"
      ]
     },
     "execution_count": 27,
     "metadata": {},
     "output_type": "execute_result"
    }
   ],
   "source": [
    "no_semtype = nodes.isnull().sum(axis=1).astype(bool)\n",
    "nodes[no_semtype]"
   ]
  },
  {
   "cell_type": "code",
   "execution_count": 28,
   "metadata": {
    "collapsed": true
   },
   "outputs": [],
   "source": [
    "cui_to_t_code = dict()\n",
    "#with open('../MRSTY.RRF') as fin:\n",
    "with open('../2017AA-full/2017AA/META/MRSTY.RRF') as fin:\n",
    "    for line in fin:\n",
    "        line = line.strip()\n",
    "        ls = line.split('|')\n",
    "        cui_to_t_code[ls[0]] = [x for x in ls[1:] if x != '']"
   ]
  },
  {
   "cell_type": "code",
   "execution_count": 29,
   "metadata": {
    "collapsed": true
   },
   "outputs": [],
   "source": [
    "t_code_to_super = dict()\n",
    "with open('../SemGroups_2013.txt') as fin:\n",
    "    for line in fin:\n",
    "        line = line.strip()\n",
    "        ls = line.split('|')\n",
    "        t_code_to_super[ls[2]] = ls[1]"
   ]
  },
  {
   "cell_type": "code",
   "execution_count": 30,
   "metadata": {},
   "outputs": [
    {
     "name": "stdout",
     "output_type": "stream",
     "text": [
      "C3484816 ['T121']\n",
      "C4300096 ['T097']\n",
      "C2869726 ['T037']\n",
      "C0282908 ['T121']\n",
      "C1930742 ['T204']\n",
      "C0344374 ['T184']\n",
      "C3769881 ['T007']\n",
      "C2343866 ['T168']\n",
      "C2311809 ['T007']\n",
      "C2175288 ['T033']\n",
      "C2062346 ['T047']\n"
     ]
    }
   ],
   "source": [
    "for i, (k, v) in enumerate(cui_to_t_code.items()):\n",
    "    print(k, v)\n",
    "    if i==10:\n",
    "        break"
   ]
  },
  {
   "cell_type": "code",
   "execution_count": 31,
   "metadata": {
    "collapsed": true
   },
   "outputs": [],
   "source": [
    "cui_to_super = dict()\n",
    "for k, v in cui_to_t_code.items():\n",
    "    # Only 1 T-Code, so map to its super semmantic type\n",
    "    if len(v) == 1:\n",
    "        cui_to_super[k] = t_code_to_super[v[0]]\n",
    "    else:\n",
    "        # Most multiple T-Codes should have the same supertype\n",
    "        v_set = set([t_code_to_super[x] for x in v])\n",
    "        if len(v_set) == 1:\n",
    "            cui_to_super[k] = v_set.pop()\n",
    "        # If they don't have the same supertype, return as a list...\n",
    "        else:\n",
    "            # If nothing prints they we have true 1-1 mapping and noting to worry about\n",
    "            print(k, v_set)\n",
    "            cui_to_super[k] = list(v_set)"
   ]
  },
  {
   "cell_type": "markdown",
   "metadata": {},
   "source": [
    "## Re-label the semmantic types to their true type"
   ]
  },
  {
   "cell_type": "code",
   "execution_count": 32,
   "metadata": {
    "collapsed": true
   },
   "outputs": [],
   "source": [
    "nodes['true_label'] = nodes['ID'].apply(lambda x: cui_to_super.get(x, x))"
   ]
  },
  {
   "cell_type": "code",
   "execution_count": 33,
   "metadata": {},
   "outputs": [
    {
     "name": "stdout",
     "output_type": "stream",
     "text": [
      "24 CUIs not found for true Semmantic Mapping...\n"
     ]
    }
   ],
   "source": [
    "p_idx = nodes['true_label'].str.startswith('C')\n",
    "bad_ids = set(nodes[p_idx]['true_label'])\n",
    "print(\"{} CUIs not found for true Semmantic Mapping...\".format(len(bad_ids)))"
   ]
  },
  {
   "cell_type": "markdown",
   "metadata": {},
   "source": [
    "Some node CUIs were not mappable to a semmatic type.  We will use what semmedDB provided for a semantic type in these instances."
   ]
  },
  {
   "cell_type": "code",
   "execution_count": 34,
   "metadata": {
    "collapsed": true
   },
   "outputs": [],
   "source": [
    "potential_problems = nodes.query('ID in @bad_ids').copy()"
   ]
  },
  {
   "cell_type": "code",
   "execution_count": 35,
   "metadata": {},
   "outputs": [
    {
     "name": "stdout",
     "output_type": "stream",
     "text": [
      "Now 12 CUIs have multiple Semmantic Types\n"
     ]
    }
   ],
   "source": [
    "potential_problems['true_label'] = potential_problems['LABEL']\n",
    "problems = potential_problems[potential_problems.duplicated(subset='ID', keep=False)].copy()\n",
    "print(\"Now {} CUIs have multiple Semmantic Types\".format(problems['ID'].nunique()))"
   ]
  },
  {
   "cell_type": "code",
   "execution_count": 36,
   "metadata": {
    "collapsed": true
   },
   "outputs": [],
   "source": [
    "fixed_probs = potential_problems.drop(problems.index)"
   ]
  },
  {
   "cell_type": "markdown",
   "metadata": {},
   "source": [
    "### Combining Multiple semtypes for a single object"
   ]
  },
  {
   "cell_type": "markdown",
   "metadata": {},
   "source": [
    "Even after direct mapping of CUIs to semtypes, some still have more than one semantic type.\n",
    "\n",
    "These could potentially be retired CUIs that are no longer used in the current UMLS deployment. For now, we will just resolve them by looking at which two types are showing up for what kind of objects, then making a hierarchy."
   ]
  },
  {
   "cell_type": "code",
   "execution_count": 37,
   "metadata": {},
   "outputs": [
    {
     "data": {
      "text/plain": [
       "1"
      ]
     },
     "execution_count": 37,
     "metadata": {},
     "output_type": "execute_result"
    }
   ],
   "source": [
    "pairs = []\n",
    "grpd = problems.groupby('ID')\n",
    "for grp, df in grpd:\n",
    "    pairs.append(tuple(df.sort_values('LABEL')['LABEL']))\n",
    "pairs = set(pairs)\n",
    "len(pairs)"
   ]
  },
  {
   "cell_type": "code",
   "execution_count": 38,
   "metadata": {},
   "outputs": [
    {
     "data": {
      "text/plain": [
       "[('Chemicals & Drugs', 'Genes & Molecular Sequences')]"
      ]
     },
     "execution_count": 38,
     "metadata": {},
     "output_type": "execute_result"
    }
   ],
   "source": [
    "pairs = sorted(list(pairs))\n",
    "pairs"
   ]
  },
  {
   "cell_type": "code",
   "execution_count": 39,
   "metadata": {
    "collapsed": true
   },
   "outputs": [],
   "source": [
    "def look_at_semtype_pairs(dups, pairs):\n",
    "    types = dups['LABEL'] == pairs[0]\n",
    "    for p in pairs[1:]:\n",
    "        current_type = dups['LABEL'] == p\n",
    "        types = types | current_type\n",
    "        \n",
    "    return dups[types][dups.loc[types, 'ID'].duplicated(keep=False)].sort_values('ID')"
   ]
  },
  {
   "cell_type": "code",
   "execution_count": 40,
   "metadata": {},
   "outputs": [
    {
     "data": {
      "text/html": [
       "<div>\n",
       "<style>\n",
       "    .dataframe thead tr:only-child th {\n",
       "        text-align: right;\n",
       "    }\n",
       "\n",
       "    .dataframe thead th {\n",
       "        text-align: left;\n",
       "    }\n",
       "\n",
       "    .dataframe tbody tr th {\n",
       "        vertical-align: top;\n",
       "    }\n",
       "</style>\n",
       "<table border=\"1\" class=\"dataframe\">\n",
       "  <thead>\n",
       "    <tr style=\"text-align: right;\">\n",
       "      <th></th>\n",
       "      <th>ID</th>\n",
       "      <th>name</th>\n",
       "      <th>LABEL</th>\n",
       "      <th>true_label</th>\n",
       "    </tr>\n",
       "  </thead>\n",
       "  <tbody>\n",
       "    <tr>\n",
       "      <th>247809</th>\n",
       "      <td>C4320013</td>\n",
       "      <td>CERNA1 gene</td>\n",
       "      <td>Genes &amp; Molecular Sequences</td>\n",
       "      <td>Genes &amp; Molecular Sequences</td>\n",
       "    </tr>\n",
       "    <tr>\n",
       "      <th>295466</th>\n",
       "      <td>C4320013</td>\n",
       "      <td>CERNA1 gene</td>\n",
       "      <td>Chemicals &amp; Drugs</td>\n",
       "      <td>Chemicals &amp; Drugs</td>\n",
       "    </tr>\n",
       "  </tbody>\n",
       "</table>\n",
       "</div>"
      ],
      "text/plain": [
       "              ID         name                        LABEL  \\\n",
       "247809  C4320013  CERNA1 gene  Genes & Molecular Sequences   \n",
       "295466  C4320013  CERNA1 gene            Chemicals & Drugs   \n",
       "\n",
       "                         true_label  \n",
       "247809  Genes & Molecular Sequences  \n",
       "295466            Chemicals & Drugs  "
      ]
     },
     "execution_count": 40,
     "metadata": {},
     "output_type": "execute_result"
    }
   ],
   "source": [
    "first_kind = pairs[0][0]\n",
    "bad_ids = set(problems.query('true_label == @first_kind')['ID'])\n",
    "for kind in pairs[0][1:]:\n",
    "    bad_ids = bad_ids & (set(problems.query('true_label == @kind')['ID']))\n",
    "bad_id = bad_ids.pop()\n",
    "\n",
    "problems.query('ID == @bad_id')"
   ]
  },
  {
   "cell_type": "markdown",
   "metadata": {},
   "source": [
    "Can't even find the above CUI so will drop from the final Network"
   ]
  },
  {
   "cell_type": "markdown",
   "metadata": {},
   "source": [
    "Some are genes, some are proteins and some look a bit ambiguous. However, all of these would be classified as 'Genes and Molecular Sequences' in the final network"
   ]
  },
  {
   "cell_type": "code",
   "execution_count": 41,
   "metadata": {
    "collapsed": true
   },
   "outputs": [],
   "source": [
    "semtype_hierarchy = [['Genes & Molecular Sequences', 'Chemicals & Drugs']]"
   ]
  },
  {
   "cell_type": "code",
   "execution_count": 42,
   "metadata": {
    "collapsed": true
   },
   "outputs": [],
   "source": [
    "def fix_multi_semtype(dups, semtypes):\n",
    "    \n",
    "    # Get the duplicates for the given types\n",
    "    types = dups['LABEL'] == semtypes[0]\n",
    "    for p in semtypes[1:]:\n",
    "        current_type = dups['LABEL'] == p\n",
    "        types = types | current_type\n",
    "        \n",
    "    # Only keep those where the ID appears multiple times\n",
    "    duplicated = dups[types][dups.loc[types, 'ID'].duplicated(keep=False)]\n",
    "    to_remove = duplicated.index\n",
    "    duplicated = duplicated.reset_index(drop=True)\n",
    "    \n",
    "    \n",
    "    # Switch to the preferred type\n",
    "    duplicated['LABEL'] = semtypes[0]\n",
    "    # Now remove the duplicates\n",
    "    duplicated = duplicated.drop_duplicates()\n",
    "    \n",
    "    # return the fixed data\n",
    "    return duplicated.reset_index(drop=True), to_remove\n"
   ]
  },
  {
   "cell_type": "code",
   "execution_count": 43,
   "metadata": {
    "collapsed": true
   },
   "outputs": [],
   "source": [
    "fixed_multi_types = []\n",
    "for pair in semtype_hierarchy:\n",
    "    fixed, remove = fix_multi_semtype(problems, pair)\n",
    "    fixed_multi_types.append(fixed)\n",
    "    problems.drop(remove, inplace=True)\n",
    "fixed_semtype_df = pd.concat(fixed_multi_types)"
   ]
  },
  {
   "cell_type": "code",
   "execution_count": 44,
   "metadata": {
    "collapsed": true
   },
   "outputs": [],
   "source": [
    "fixed_semtype_df['true_label'] = fixed_semtype_df['LABEL']\n",
    "fixed_semtype_df = fixed_semtype_df.drop_duplicates().reset_index(drop=True)"
   ]
  },
  {
   "cell_type": "code",
   "execution_count": 45,
   "metadata": {
    "collapsed": true
   },
   "outputs": [],
   "source": [
    "# Get rid of that bad one that was not findable\n",
    "idx = fixed_semtype_df.query('ID == @bad_id').index\n",
    "fixed_semtype_df.drop(idx, inplace=True)"
   ]
  },
  {
   "cell_type": "markdown",
   "metadata": {},
   "source": [
    "### Recombine all the nodes with the new semmantic types"
   ]
  },
  {
   "cell_type": "code",
   "execution_count": 46,
   "metadata": {},
   "outputs": [
    {
     "name": "stdout",
     "output_type": "stream",
     "text": [
      "Went from 300192 to 262757 nodes by setting semantic type\n",
      "262757 Unique CUIs\n"
     ]
    }
   ],
   "source": [
    "before_len = len(nodes)\n",
    "nodes = nodes.drop(potential_problems.index)\n",
    "nodes = pd.concat([nodes, fixed_probs, fixed_semtype_df])\n",
    "nodes['LABEL'] = nodes['true_label']\n",
    "nodes = nodes[['ID', 'name', 'LABEL']].drop_duplicates().reset_index(drop=True)\n",
    "\n",
    "print(\"Went from {} to {} nodes by setting semantic type\".format(before_len, len(nodes)))\n",
    "print(\"{} Unique CUIs\".format(nodes['ID'].nunique()))"
   ]
  },
  {
   "cell_type": "code",
   "execution_count": 47,
   "metadata": {},
   "outputs": [
    {
     "name": "stdout",
     "output_type": "stream",
     "text": [
      "There are 262757 nodes with 262757 unique IDs\n"
     ]
    }
   ],
   "source": [
    "print('There are {} nodes with {} unique IDs'.format(nodes.shape[0], nodes['ID'].nunique()))"
   ]
  },
  {
   "cell_type": "markdown",
   "metadata": {},
   "source": [
    "Looks like we finally have a 1:1 relationship of unique IDs to rows in our nodes table"
   ]
  },
  {
   "cell_type": "markdown",
   "metadata": {},
   "source": [
    "# Edges File"
   ]
  },
  {
   "cell_type": "markdown",
   "metadata": {},
   "source": [
    "## Prediacate types\n",
    "\n",
    "[Semmed Docs](https://skr3.nlm.nih.gov/SemMed/jsp/SemMedDocumentation2.pdf)\n",
    "\n",
    "\n",
    "The docs above show only 26 predicates, lets see how many the data actually contains an and what they are..."
   ]
  },
  {
   "cell_type": "code",
   "execution_count": 48,
   "metadata": {},
   "outputs": [
    {
     "name": "stdout",
     "output_type": "stream",
     "text": [
      "58\n"
     ]
    }
   ],
   "source": [
    "print(sem_df['PREDICATE'].nunique())"
   ]
  },
  {
   "cell_type": "markdown",
   "metadata": {},
   "source": [
    "Looks like 58 total predicates.  There are negated predicats, but still, negating all should only yield 52 total.  There are also some that are all lower-case, which do not seem to be found in the documents."
   ]
  },
  {
   "cell_type": "code",
   "execution_count": 49,
   "metadata": {},
   "outputs": [
    {
     "data": {
      "text/plain": [
       "array(['PART_OF', 'LOCATION_OF', 'PROCESS_OF', 'ISA', 'COEXISTS_WITH',\n",
       "       'INTERACTS_WITH', 'TREATS', 'USES', 'METHOD_OF', 'CAUSES',\n",
       "       'ASSOCIATED_WITH', 'AFFECTS', 'DIAGNOSES', 'PRECEDES',\n",
       "       'NEG_INHIBITS', 'compared_with', 'ADMINISTERED_TO', 'PREVENTS',\n",
       "       'OCCURS_IN', 'STIMULATES', 'NEG_ADMINISTERED_TO', 'DISRUPTS',\n",
       "       'higher_than', 'AUGMENTS', 'INHIBITS', 'COMPLICATES', 'NEG_AFFECTS',\n",
       "       'PREDISPOSES', 'different_from', 'MANIFESTATION_OF', 'same_as',\n",
       "       'NEG_higher_than', 'PRODUCES', 'NEG_DISRUPTS', 'NEG_CAUSES',\n",
       "       'NEG_INTERACTS_WITH', 'NEG_PROCESS_OF', 'NEG_COEXISTS_WITH',\n",
       "       'NEG_PART_OF', 'NEG_USES', 'lower_than', 'NEG_LOCATION_OF',\n",
       "       'NEG_METHOD_OF', 'NEG_PREVENTS', 'CONVERTS_TO', 'NEG_AUGMENTS',\n",
       "       'NEG_DIAGNOSES', 'NEG_PREDISPOSES', 'NEG_TREATS', 'NEG_PRODUCES',\n",
       "       'NEG_ASSOCIATED_WITH', 'NEG_COMPLICATES', 'NEG_STIMULATES',\n",
       "       'NEG_OCCURS_IN', 'NEG_CONVERTS_TO', 'NEG_lower_than',\n",
       "       'NEG_PRECEDES', 'NEG_MANIFESTATION_OF'], dtype=object)"
      ]
     },
     "execution_count": 49,
     "metadata": {},
     "output_type": "execute_result"
    }
   ],
   "source": [
    "sem_df['PREDICATE'].unique()"
   ]
  },
  {
   "cell_type": "markdown",
   "metadata": {},
   "source": [
    "### Abbreviations\n",
    "\n",
    "According to rephetio conventions, edges must be written as `EDGETYPE_abbrev` where the abbreviation is START_NODE Abv, Predicate Abv, END_NODE Abv.  for example a Compound that treats a disease is abbreviated TREATS_CtD.  \n",
    "\n",
    "We must come up with unique abbreviations for each semantic type for the nodes as well as each predicate. These concatinated together will give a unique abbreviation for each edge type."
   ]
  },
  {
   "cell_type": "code",
   "execution_count": 50,
   "metadata": {
    "collapsed": true
   },
   "outputs": [],
   "source": [
    "p_abv = {\n",
    " 'ADMINISTERED_TO': 'at',\n",
    " 'AFFECTS': 'af',\n",
    " 'ASSOCIATED_WITH': 'aw',\n",
    " 'AUGMENTS': 'ag',\n",
    " 'CAUSES': 'c',\n",
    " 'COEXISTS_WITH': 'cw',\n",
    " 'COMPLICATES': 'cp',\n",
    " 'CONVERTS_TO': 'ct',\n",
    " 'DIAGNOSES': 'dg',\n",
    " 'DISRUPTS': 'ds',\n",
    " 'INHIBITS': 'in',\n",
    " 'INTERACTS_WITH': 'iw',\n",
    " 'ISA': 'i',\n",
    " 'LOCATION_OF': 'lo',\n",
    " 'MANIFESTATION_OF': 'mfo',\n",
    " 'METHOD_OF': 'mo',\n",
    " 'NEG_ADMINISTERED_TO': 'nat',\n",
    " 'NEG_AFFECTS': 'naf',\n",
    " 'NEG_ASSOCIATED_WITH': 'naw',\n",
    " 'NEG_AUGMENTS': 'nag',\n",
    " 'NEG_CAUSES': 'nc',\n",
    " 'NEG_COEXISTS_WITH': 'ncw',\n",
    " 'NEG_COMPLICATES': 'ncp',\n",
    " 'NEG_CONVERTS_TO': 'nct',\n",
    " 'NEG_DIAGNOSES': 'ndg',\n",
    " 'NEG_DISRUPTS': 'nds',\n",
    " 'NEG_INHIBITS': 'nin',\n",
    " 'NEG_INTERACTS_WITH': 'niw',\n",
    " 'NEG_LOCATION_OF': 'nlo',\n",
    " 'NEG_MANIFESTATION_OF': 'nmfo',\n",
    " 'NEG_METHOD_OF': 'nmo',\n",
    " 'NEG_OCCURS_IN': 'noi',\n",
    " 'NEG_PART_OF': 'npo',\n",
    " 'NEG_PRECEDES': 'npc',\n",
    " 'NEG_PREDISPOSES': 'nps',\n",
    " 'NEG_PREVENTS': 'npv',\n",
    " 'NEG_PROCESS_OF': 'npro',\n",
    " 'NEG_PRODUCES': 'npd',\n",
    " 'NEG_STIMULATES': 'nst',\n",
    " 'NEG_TREATS': 'nt',\n",
    " 'NEG_USES': 'nu',\n",
    " 'NEG_higher_than': 'nht',\n",
    " 'NEG_lower_than': 'nlt',\n",
    " 'OCCURS_IN': 'oi',\n",
    " 'PART_OF': 'po',\n",
    " 'PRECEDES': 'pc',\n",
    " 'PREDISPOSES': 'ps',\n",
    " 'PREP': 'pr',\n",
    " 'PREVENTS': 'pv',\n",
    " 'PROCESS_OF': 'pro',\n",
    " 'PRODUCES': 'pd',\n",
    " 'STIMULATES': 'st',\n",
    " 'TREATS': 't',\n",
    " 'USES': 'u',\n",
    " 'compared_with': 'cpw',\n",
    " 'different_from': 'df',\n",
    " 'different_than': 'dt',\n",
    " 'higher_than': 'ht',\n",
    " 'lower_than': 'lt',\n",
    " 'same_as': 'sa'}"
   ]
  },
  {
   "cell_type": "code",
   "execution_count": 51,
   "metadata": {},
   "outputs": [
    {
     "data": {
      "text/plain": [
       "{'Activities & Behaviors',\n",
       " 'Anatomy',\n",
       " 'Chemicals & Drugs',\n",
       " 'Concepts & Ideas',\n",
       " 'Devices',\n",
       " 'Disorders',\n",
       " 'Genes & Molecular Sequences',\n",
       " 'Geographic Areas',\n",
       " 'Living Beings',\n",
       " 'Objects',\n",
       " 'Occupations',\n",
       " 'Organizations',\n",
       " 'Phenomena',\n",
       " 'Physiology',\n",
       " 'Procedures'}"
      ]
     },
     "execution_count": 51,
     "metadata": {},
     "output_type": "execute_result"
    }
   ],
   "source": [
    "# get abbreviations for semtypes\n",
    "super_sems = set(abbv_to_super.values())\n",
    "\n",
    "len(super_sems)\n",
    "super_sems"
   ]
  },
  {
   "cell_type": "code",
   "execution_count": 52,
   "metadata": {
    "collapsed": true
   },
   "outputs": [],
   "source": [
    "# Run these by hand as there are few, and some don't lend themselves well to auto-generation\n",
    "sem_abv = {\n",
    " 'Activities & Behaviors': 'AB',\n",
    " 'Anatomy': 'A',\n",
    " 'Compound': 'C',\n",
    " 'Chemicals & Drugs': 'CD',\n",
    " 'Concepts & Ideas': 'CI',\n",
    " 'Devices': 'DV',\n",
    " 'Disease': 'D',\n",
    " 'Disorders': 'DO',\n",
    " 'Genes & Molecular Sequences': 'G',\n",
    " 'Geographic Areas': 'GA',\n",
    " 'Living Beings': 'LB',\n",
    " 'Objects': 'OB',\n",
    " 'Occupations': 'OC',\n",
    " 'Organizations': 'OR',\n",
    " 'Phenomena': 'PH',\n",
    " 'Physiology': 'PS',\n",
    " 'Procedures': 'PR'\n",
    "}"
   ]
  },
  {
   "cell_type": "markdown",
   "metadata": {},
   "source": [
    "# Edge Directions\n",
    "\n",
    "Most edges may be bi-directions, but some are definitely better exprested as uni-directional.  Here we will classify predicates as bi- or uni-dierectional based on the semantic meaning of the predicate.  Bidirectionl edges have an empty string, whereas uni-directional have a direction marker `'>'`. For example an undirected edge, such as a compound that treats a disease, is written as `TREATS_CtD`. However, a directed edge, like Compound1 converts to Compound 2 would be written as `CONVERTS_TO_Cct>C`.\n",
    "\n",
    "Edge directions were chosen based on the description found in [this documnetation](https://skr3.nlm.nih.gov/SemMed/jsp/SemMedDocumentation2.pdf)."
   ]
  },
  {
   "cell_type": "code",
   "execution_count": 53,
   "metadata": {
    "collapsed": true
   },
   "outputs": [],
   "source": [
    "edge_dir = {\n",
    " 'ADMINISTERED_TO': '',\n",
    " 'AFFECTS': '',\n",
    " 'ASSOCIATED_WITH': '',\n",
    " 'AUGMENTS': '',\n",
    " 'CAUSES': '',\n",
    " 'COEXISTS_WITH': '',\n",
    " 'COMPLICATES': '',\n",
    " 'CONVERTS_TO': '>',\n",
    " 'DIAGNOSES': '',\n",
    " 'DISRUPTS': '',\n",
    " 'INHIBITS': '',\n",
    " 'INTERACTS_WITH': '',\n",
    " 'ISA': '>',\n",
    " 'LOCATION_OF': '',\n",
    " 'MANIFESTATION_OF': '>',\n",
    " 'METHOD_OF': '',\n",
    " 'NOM': '',\n",
    " 'OCCURS_IN': '',\n",
    " 'PART_OF': '>',\n",
    " 'PRECEDES': '>',\n",
    " 'PREDISPOSES': '',\n",
    " 'PREP': '',\n",
    " 'PREVENTS': '',\n",
    " 'PROCESS_OF': '>',\n",
    " 'PRODUCES': '>',\n",
    " 'SPEC': '',\n",
    " 'STIMULATES': '',\n",
    " 'TREATS': '',\n",
    " 'USES': '',\n",
    " 'compared_with': '',\n",
    " 'different_from': '',\n",
    " 'different_than': '',\n",
    " 'higher_from': '',\n",
    " 'higher_than': '',\n",
    " 'lower_than': '',\n",
    " 'same_as': '',\n",
    " 'than_as': ''}\n",
    "\n",
    "\n",
    "#for k in p_abv:\n",
    "#    if k not in edge_dir:\n",
    "#        edge_dir[k] = edge_dir[k[4:]]\n",
    "#edge_dir"
   ]
  },
  {
   "cell_type": "code",
   "execution_count": 54,
   "metadata": {
    "collapsed": true
   },
   "outputs": [],
   "source": [
    "# Make a mapper from SEMTYPE to sem abbrev\n",
    "kind_map = {}\n",
    "\n",
    "for k, v in abbv_to_super.items():\n",
    "    kind_map[k] = sem_abv[v]"
   ]
  },
  {
   "cell_type": "code",
   "execution_count": 55,
   "metadata": {
    "collapsed": true
   },
   "outputs": [],
   "source": [
    "id_to_type = nodes.set_index('ID')['LABEL'].to_dict()\n",
    "id_to_type_abbv = {k: sem_abv.get(v) for k, v in id_to_type.items()}"
   ]
  },
  {
   "cell_type": "code",
   "execution_count": 56,
   "metadata": {
    "collapsed": true
   },
   "outputs": [],
   "source": [
    "edges = pd.DataFrame()\n",
    "\n",
    "edges['START_ID'] = sem_df['SUBJECT_CUI']\n",
    "edges['END_ID'] = sem_df['OBJECT_CUI']\n",
    "edges['TYPE'] = sem_df['PREDICATE']"
   ]
  },
  {
   "cell_type": "code",
   "execution_count": 57,
   "metadata": {},
   "outputs": [
    {
     "name": "stdout",
     "output_type": "stream",
     "text": [
      "21522794\n",
      "21522794\n"
     ]
    }
   ],
   "source": [
    "print(len(edges))\n",
    "edges = edges.query('TYPE in @p_abv.keys()')\n",
    "print(len(edges))"
   ]
  },
  {
   "cell_type": "code",
   "execution_count": 58,
   "metadata": {
    "collapsed": true
   },
   "outputs": [],
   "source": [
    "edges['abbrev'] = (edges['START_ID'].apply(lambda x: id_to_type_abbv.get(x,x)) \n",
    "                    + edges['TYPE'].apply(lambda x: p_abv.get(x,x))\n",
    "                    + edges['TYPE'].apply(lambda x: edge_dir.get(x,''))\n",
    "                    + edges['END_ID'].apply(lambda x: id_to_type_abbv.get(x,x)))\n",
    "\n",
    "edges['rev_abbrev'] = (edges['END_ID'].apply(lambda x: id_to_type_abbv.get(x,x)) \n",
    "                    + edges['TYPE'].apply(lambda x: edge_dir.get(x,''))\n",
    "                    + edges['TYPE'].apply(lambda x: p_abv.get(x,x))\n",
    "                    + edges['START_ID'].apply(lambda x: id_to_type_abbv.get(x,x)))"
   ]
  },
  {
   "cell_type": "code",
   "execution_count": 59,
   "metadata": {},
   "outputs": [
    {
     "name": "stdout",
     "output_type": "stream",
     "text": [
      "21522794\n",
      "21029688\n"
     ]
    },
    {
     "data": {
      "text/html": [
       "<div>\n",
       "<style>\n",
       "    .dataframe thead tr:only-child th {\n",
       "        text-align: right;\n",
       "    }\n",
       "\n",
       "    .dataframe thead th {\n",
       "        text-align: left;\n",
       "    }\n",
       "\n",
       "    .dataframe tbody tr th {\n",
       "        vertical-align: top;\n",
       "    }\n",
       "</style>\n",
       "<table border=\"1\" class=\"dataframe\">\n",
       "  <thead>\n",
       "    <tr style=\"text-align: right;\">\n",
       "      <th></th>\n",
       "      <th>START_ID</th>\n",
       "      <th>END_ID</th>\n",
       "      <th>TYPE</th>\n",
       "      <th>abbrev</th>\n",
       "      <th>rev_abbrev</th>\n",
       "    </tr>\n",
       "  </thead>\n",
       "  <tbody>\n",
       "    <tr>\n",
       "      <th>0</th>\n",
       "      <td>C0040291</td>\n",
       "      <td>C0085979</td>\n",
       "      <td>PART_OF</td>\n",
       "      <td>CDpo&gt;LB</td>\n",
       "      <td>LB&gt;poCD</td>\n",
       "    </tr>\n",
       "    <tr>\n",
       "      <th>1</th>\n",
       "      <td>C0005767</td>\n",
       "      <td>C0007061</td>\n",
       "      <td>LOCATION_OF</td>\n",
       "      <td>AloCD</td>\n",
       "      <td>CDloA</td>\n",
       "    </tr>\n",
       "    <tr>\n",
       "      <th>2</th>\n",
       "      <td>C0702166</td>\n",
       "      <td>C0043210</td>\n",
       "      <td>PROCESS_OF</td>\n",
       "      <td>DOpro&gt;LB</td>\n",
       "      <td>LB&gt;proDO</td>\n",
       "    </tr>\n",
       "    <tr>\n",
       "      <th>3</th>\n",
       "      <td>C0027809</td>\n",
       "      <td>C0038351</td>\n",
       "      <td>PART_OF</td>\n",
       "      <td>DOpo&gt;A</td>\n",
       "      <td>A&gt;poDO</td>\n",
       "    </tr>\n",
       "    <tr>\n",
       "      <th>4</th>\n",
       "      <td>C0221921</td>\n",
       "      <td>C0086418</td>\n",
       "      <td>PART_OF</td>\n",
       "      <td>Apo&gt;LB</td>\n",
       "      <td>LB&gt;poA</td>\n",
       "    </tr>\n",
       "  </tbody>\n",
       "</table>\n",
       "</div>"
      ],
      "text/plain": [
       "   START_ID    END_ID         TYPE    abbrev rev_abbrev\n",
       "0  C0040291  C0085979      PART_OF   CDpo>LB    LB>poCD\n",
       "1  C0005767  C0007061  LOCATION_OF     AloCD      CDloA\n",
       "2  C0702166  C0043210   PROCESS_OF  DOpro>LB   LB>proDO\n",
       "3  C0027809  C0038351      PART_OF    DOpo>A     A>poDO\n",
       "4  C0221921  C0086418      PART_OF    Apo>LB     LB>poA"
      ]
     },
     "execution_count": 59,
     "metadata": {},
     "output_type": "execute_result"
    }
   ],
   "source": [
    "print(len(edges))\n",
    "edges = edges.drop_duplicates()\n",
    "print(len(edges))\n",
    "edges.head()"
   ]
  },
  {
   "cell_type": "code",
   "execution_count": 60,
   "metadata": {
    "collapsed": true
   },
   "outputs": [],
   "source": [
    "def validate_abbrevs(e_type, abbrev, rev_abbrev):\n",
    "    if rev_abbrev not in abbreviations:\n",
    "        abbreviations.update([abbrev])\n",
    "        return str(e_type) + '_' + str(abbrev)\n",
    "    else:\n",
    "        return str(e_type) + '_' + str(rev_abbrev)"
   ]
  },
  {
   "cell_type": "code",
   "execution_count": 61,
   "metadata": {},
   "outputs": [
    {
     "name": "stderr",
     "output_type": "stream",
     "text": [
      "100%|██████████| 21029688/21029688 [01:33<00:00, 225910.40it/s]"
     ]
    },
    {
     "name": "stdout",
     "output_type": "stream",
     "text": [
      "CPU times: user 1min 32s, sys: 732 ms, total: 1min 33s\n",
      "Wall time: 1min 33s\n"
     ]
    },
    {
     "name": "stderr",
     "output_type": "stream",
     "text": [
      "\n"
     ]
    }
   ],
   "source": [
    "%%time\n",
    "abbreviations = set()\n",
    "new_types = []\n",
    "for row in tqdm(edges.itertuples(), total=len(edges)):\n",
    "    new_types.append(validate_abbrevs(row[3], row[4], row[5]))"
   ]
  },
  {
   "cell_type": "code",
   "execution_count": 62,
   "metadata": {
    "collapsed": true
   },
   "outputs": [],
   "source": [
    "edges = edges.reset_index(drop=True)"
   ]
  },
  {
   "cell_type": "markdown",
   "metadata": {},
   "source": [
    "### Add in the PMID counts as extra data for each edge"
   ]
  },
  {
   "cell_type": "code",
   "execution_count": 63,
   "metadata": {},
   "outputs": [
    {
     "data": {
      "text/plain": [
       "21029688"
      ]
     },
     "execution_count": 63,
     "metadata": {},
     "output_type": "execute_result"
    }
   ],
   "source": [
    "len(pmids)"
   ]
  },
  {
   "cell_type": "code",
   "execution_count": 64,
   "metadata": {},
   "outputs": [
    {
     "name": "stdout",
     "output_type": "stream",
     "text": [
      "21029688\n"
     ]
    }
   ],
   "source": [
    "print(len(edges))"
   ]
  },
  {
   "cell_type": "code",
   "execution_count": 65,
   "metadata": {},
   "outputs": [
    {
     "name": "stderr",
     "output_type": "stream",
     "text": [
      "100%|██████████| 21029688/21029688 [04:57<00:00, 70723.64it/s]\n"
     ]
    }
   ],
   "source": [
    "edges['pmids'] = pd.Series(dtype='object')\n",
    "for tup in tqdm(edges[['START_ID', 'TYPE', 'END_ID']].itertuples(True, None), total=len(edges)):\n",
    "    edges.set_value(tup[0], 'pmids', pmids[tup[1:]])"
   ]
  },
  {
   "cell_type": "markdown",
   "metadata": {},
   "source": [
    "### Swap start and end IDs for edges where start and end types were swapped..."
   ]
  },
  {
   "cell_type": "code",
   "execution_count": 66,
   "metadata": {
    "collapsed": true
   },
   "outputs": [],
   "source": [
    "e_types_current = edges['TYPE'] + '_' + edges['abbrev']"
   ]
  },
  {
   "cell_type": "code",
   "execution_count": 67,
   "metadata": {
    "collapsed": true
   },
   "outputs": [],
   "source": [
    "need_swap = e_types_current != pd.Series(new_types)"
   ]
  },
  {
   "cell_type": "code",
   "execution_count": 68,
   "metadata": {
    "collapsed": true
   },
   "outputs": [],
   "source": [
    "tmp = edges.loc[need_swap, 'START_ID']\n",
    "edges.loc[need_swap, 'START_ID'] = edges.loc[need_swap, 'END_ID']\n",
    "edges.loc[need_swap, 'END_ID'] = tmp\n",
    "edges['TYPE'] = new_types"
   ]
  },
  {
   "cell_type": "code",
   "execution_count": 69,
   "metadata": {
    "collapsed": true
   },
   "outputs": [],
   "source": [
    "# drop extra columns\n",
    "edges = edges[['START_ID', 'END_ID', 'TYPE', 'pmids']]"
   ]
  },
  {
   "cell_type": "code",
   "execution_count": 70,
   "metadata": {
    "scrolled": true
   },
   "outputs": [
    {
     "data": {
      "text/plain": [
       "2962"
      ]
     },
     "execution_count": 70,
     "metadata": {},
     "output_type": "execute_result"
    }
   ],
   "source": [
    "edges['TYPE'].nunique()"
   ]
  },
  {
   "cell_type": "code",
   "execution_count": 71,
   "metadata": {},
   "outputs": [
    {
     "name": "stdout",
     "output_type": "stream",
     "text": [
      "CPU times: user 29min 48s, sys: 9.49 s, total: 29min 57s\n",
      "Wall time: 29min 57s\n"
     ]
    }
   ],
   "source": [
    "%%time\n",
    "# Some edges now duplicated, de-duplicate and combine pmids\n",
    "grpd = edges.groupby(['START_ID', 'END_ID', 'TYPE'])\n",
    "edges = grpd['pmids'].apply(lambda Series: set.union(*Series.values)).reset_index()"
   ]
  },
  {
   "cell_type": "code",
   "execution_count": 72,
   "metadata": {},
   "outputs": [
    {
     "name": "stdout",
     "output_type": "stream",
     "text": [
      "CPU times: user 6.5 s, sys: 108 ms, total: 6.61 s\n",
      "Wall time: 6.57 s\n"
     ]
    }
   ],
   "source": [
    "%%time\n",
    "# Get the number of pmids\n",
    "edges['n_pmids'] = edges['pmids'].apply(len)"
   ]
  },
  {
   "cell_type": "code",
   "execution_count": 73,
   "metadata": {
    "collapsed": true
   },
   "outputs": [],
   "source": [
    "nodes = nodes.dropna()"
   ]
  },
  {
   "cell_type": "code",
   "execution_count": 74,
   "metadata": {},
   "outputs": [
    {
     "name": "stdout",
     "output_type": "stream",
     "text": [
      "262,757\n",
      "20,753,413\n"
     ]
    }
   ],
   "source": [
    "print('{:,}'.format(len(nodes)))\n",
    "print('{:,}'.format(len(edges)))"
   ]
  },
  {
   "cell_type": "markdown",
   "metadata": {},
   "source": [
    "### Ensure that all ids in the edges appear in the nodes\n",
    "\n",
    "Also make sure that the nodes don't contain any extra IDs not used by the edges"
   ]
  },
  {
   "cell_type": "code",
   "execution_count": 75,
   "metadata": {},
   "outputs": [
    {
     "data": {
      "text/plain": [
       "262758"
      ]
     },
     "execution_count": 75,
     "metadata": {},
     "output_type": "execute_result"
    }
   ],
   "source": [
    "edge_ids = set(edges['START_ID']).union(set(edges['END_ID']))\n",
    "len(edge_ids)"
   ]
  },
  {
   "cell_type": "code",
   "execution_count": 76,
   "metadata": {},
   "outputs": [
    {
     "data": {
      "text/plain": [
       "262757"
      ]
     },
     "execution_count": 76,
     "metadata": {},
     "output_type": "execute_result"
    }
   ],
   "source": [
    "node_ids = set(nodes['ID'])\n",
    "len(node_ids)"
   ]
  },
  {
   "cell_type": "code",
   "execution_count": 77,
   "metadata": {},
   "outputs": [
    {
     "data": {
      "text/plain": [
       "1"
      ]
     },
     "execution_count": 77,
     "metadata": {},
     "output_type": "execute_result"
    }
   ],
   "source": [
    "# ensure there are no edge IDs that are not also in thenodes\n",
    "len(edge_ids - node_ids)"
   ]
  },
  {
   "cell_type": "markdown",
   "metadata": {},
   "source": [
    "Not sure why there's some nodes that are missing that are in the eges, but he list is small so we will use the UMLS API to retreive the missing values"
   ]
  },
  {
   "cell_type": "code",
   "execution_count": 78,
   "metadata": {},
   "outputs": [],
   "source": [
    "missing_nodes = set(edge_ids) - node_ids"
   ]
  },
  {
   "cell_type": "code",
   "execution_count": 79,
   "metadata": {
    "collapsed": true
   },
   "outputs": [],
   "source": [
    "with open('../data/api.key', 'r') as fin: \n",
    "    TICKET = fin.read().rstrip()"
   ]
  },
  {
   "cell_type": "code",
   "execution_count": 80,
   "metadata": {
    "collapsed": true
   },
   "outputs": [],
   "source": [
    "import requests\n",
    "from pyquery import PyQuery as pq"
   ]
  },
  {
   "cell_type": "code",
   "execution_count": 81,
   "metadata": {
    "collapsed": true
   },
   "outputs": [],
   "source": [
    "def handshake():\n",
    "    # insane umls api instructions\n",
    "    # https://documentation.uts.nlm.nih.gov/rest/authentication.html\n",
    "    r = requests.post(\"https://utslogin.nlm.nih.gov/cas/v1/api-key\", data={'apikey': TICKET})\n",
    "    d = pq(r.text)\n",
    "    tgt = d.find('form').attr('action')\n",
    "    return tgt"
   ]
  },
  {
   "cell_type": "code",
   "execution_count": 82,
   "metadata": {
    "collapsed": true
   },
   "outputs": [],
   "source": [
    "def cui_to_name(cui, tgt):\n",
    "    \"\"\"\n",
    "    given umls cui, get the name\n",
    "    \"\"\"\n",
    "    data = {'service': 'http://umlsks.nlm.nih.gov'}\n",
    "    r = requests.post(tgt, data=data)\n",
    "    st = r.text\n",
    "    url = \"https://uts-ws.nlm.nih.gov/rest/content/current/CUI/{}?ticket={}\"\n",
    "    d = requests.get(url.format(cui, st)).json()\n",
    "    return d['result']['name']"
   ]
  },
  {
   "cell_type": "code",
   "execution_count": 83,
   "metadata": {
    "collapsed": true
   },
   "outputs": [],
   "source": [
    "def get_t_codes(cui, tgt):\n",
    "    \"\"\"\n",
    "    given a cui, get the umls semmantic type T code\n",
    "    \"\"\"\n",
    "    data = {'service': 'http://umlsks.nlm.nih.gov'}\n",
    "    r = requests.post(tgt, data=data)\n",
    "    st = r.text\n",
    "    url = \"https://uts-ws.nlm.nih.gov/rest/content/current/CUI/{}?ticket={}\"\n",
    "    d = requests.get(url.format(cui, st)).json()\n",
    "    \n",
    "    # Extract the Codes\n",
    "    codes = []\n",
    "    for t in d['result']['semanticTypes']:\n",
    "        codes.append(t['uri'].split('/')[-1])\n",
    "    return codes"
   ]
  },
  {
   "cell_type": "code",
   "execution_count": 84,
   "metadata": {},
   "outputs": [],
   "source": [
    "def get_sem_type_from_cui(cui, tgt):\n",
    "    t_codes = get_t_codes(cui, tgt)\n",
    "    sem_types = set([t_code_to_super[t] for t in t_codes])\n",
    "    assert len(sem_types) == 1\n",
    "    return sem_types.pop()"
   ]
  },
  {
   "cell_type": "code",
   "execution_count": 85,
   "metadata": {
    "collapsed": true
   },
   "outputs": [],
   "source": [
    "tgt = handshake()"
   ]
  },
  {
   "cell_type": "code",
   "execution_count": 86,
   "metadata": {},
   "outputs": [
    {
     "data": {
      "text/html": [
       "<div>\n",
       "<style>\n",
       "    .dataframe thead tr:only-child th {\n",
       "        text-align: right;\n",
       "    }\n",
       "\n",
       "    .dataframe thead th {\n",
       "        text-align: left;\n",
       "    }\n",
       "\n",
       "    .dataframe tbody tr th {\n",
       "        vertical-align: top;\n",
       "    }\n",
       "</style>\n",
       "<table border=\"1\" class=\"dataframe\">\n",
       "  <thead>\n",
       "    <tr style=\"text-align: right;\">\n",
       "      <th></th>\n",
       "      <th>ID</th>\n",
       "      <th>LABEL</th>\n",
       "      <th>name</th>\n",
       "    </tr>\n",
       "  </thead>\n",
       "  <tbody>\n",
       "    <tr>\n",
       "      <th>0</th>\n",
       "      <td>C4320013</td>\n",
       "      <td>Genes &amp; Molecular Sequences</td>\n",
       "      <td>CERNA1 gene</td>\n",
       "    </tr>\n",
       "  </tbody>\n",
       "</table>\n",
       "</div>"
      ],
      "text/plain": [
       "         ID                        LABEL         name\n",
       "0  C4320013  Genes & Molecular Sequences  CERNA1 gene"
      ]
     },
     "execution_count": 86,
     "metadata": {},
     "output_type": "execute_result"
    }
   ],
   "source": [
    "missing_nodes_data = {'ID': [], 'name': [], 'LABEL': []}\n",
    "for n in missing_nodes:\n",
    "    missing_nodes_data['ID'].append(n)\n",
    "    missing_nodes_data['name'].append(cui_to_name(n, tgt))\n",
    "    missing_nodes_data['LABEL'].append(get_sem_type_from_cui(n, tgt))\n",
    "    \n",
    "missing_nodes_data = pd.DataFrame(missing_nodes_data)\n",
    "missing_nodes_data"
   ]
  },
  {
   "cell_type": "code",
   "execution_count": 87,
   "metadata": {
    "collapsed": true
   },
   "outputs": [],
   "source": [
    "nodes = pd.concat([nodes, missing_nodes_data]).sort_values('ID').reset_index(drop=True)"
   ]
  },
  {
   "cell_type": "code",
   "execution_count": 88,
   "metadata": {
    "collapsed": true
   },
   "outputs": [],
   "source": [
    "# remove nodes that don't appear in the edges\n",
    "edge_ids = list(edge_ids)\n",
    "nodes = nodes.query('ID in @edge_ids')"
   ]
  },
  {
   "cell_type": "code",
   "execution_count": 89,
   "metadata": {},
   "outputs": [
    {
     "data": {
      "text/plain": [
       "262758"
      ]
     },
     "execution_count": 89,
     "metadata": {},
     "output_type": "execute_result"
    }
   ],
   "source": [
    "nodes['ID'].nunique()"
   ]
  },
  {
   "cell_type": "code",
   "execution_count": 90,
   "metadata": {},
   "outputs": [],
   "source": [
    "# Sort values before writing to disk\n",
    "nodes = nodes.sort_values('LABEL')\n",
    "edges = edges.sort_values('TYPE')\n",
    "\n",
    "# Add in colons required by neo4j\n",
    "nodes = nodes.rename(columns={'ID': ':ID', 'LABEL': ':LABEL'})\n",
    "edges = edges.rename(columns={'START_ID': ':START_ID', 'END_ID': ':END_ID', 'TYPE': ':TYPE'})\n",
    "\n",
    "nodes.to_csv('../data/nodes_VER31_R.csv', index=False)\n",
    "edges.to_csv('../data/edges_VER31_R.csv', index=False)"
   ]
  }
 ],
 "metadata": {
  "kernelspec": {
   "display_name": "Python 3",
   "language": "python",
   "name": "python3"
  },
  "language_info": {
   "codemirror_mode": {
    "name": "ipython",
    "version": 3
   },
   "file_extension": ".py",
   "mimetype": "text/x-python",
   "name": "python",
   "nbconvert_exporter": "python",
   "pygments_lexer": "ipython3",
   "version": "3.5.4"
  }
 },
 "nbformat": 4,
 "nbformat_minor": 1
}
