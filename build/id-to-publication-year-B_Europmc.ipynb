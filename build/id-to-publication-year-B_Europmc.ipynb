{
 "cells": [
  {
   "cell_type": "markdown",
   "metadata": {},
   "source": [
    "# PMID to Year Map -- Europepmc\n",
    "\n",
    "https://europepmc.org/downloads"
   ]
  },
  {
   "cell_type": "code",
   "execution_count": 1,
   "metadata": {
    "collapsed": true
   },
   "outputs": [],
   "source": [
    "import pandas as pd\n",
    "from tqdm import tqdm\n",
    "import gzip\n",
    "import xml.etree.ElementTree as ET"
   ]
  },
  {
   "cell_type": "code",
   "execution_count": 2,
   "metadata": {},
   "outputs": [
    {
     "name": "stdout",
     "output_type": "stream",
     "text": [
      "--2018-02-22 16:27:20--  http://europepmc.org/ftp/pmclitemetadata/PMCLiteMetadata.tgz\n",
      "Resolving europepmc.org (europepmc.org)... 193.62.193.83\n",
      "Connecting to europepmc.org (europepmc.org)|193.62.193.83|:80... connected.\n",
      "HTTP request sent, awaiting response... 200 OK\n",
      "Length: 604665773 (577M) [application/x-gzip]\n",
      "Saving to: ‘../data/PMCLiteMetadata.tgz’\n",
      "\n",
      "../data/PMCLiteMeta 100%[===================>] 576.65M  1.66MB/s    in 4m 35s  \n",
      "\n",
      "2018-02-22 16:31:56 (2.09 MB/s) - ‘../data/PMCLiteMetadata.tgz’ saved [604665773/604665773]\n",
      "\n"
     ]
    }
   ],
   "source": [
    "!wget -O ../data/PMCLiteMetadata.tgz http://europepmc.org/ftp/pmclitemetadata/PMCLiteMetadata.tgz"
   ]
  },
  {
   "cell_type": "code",
   "execution_count": 3,
   "metadata": {},
   "outputs": [
    {
     "name": "stdout",
     "output_type": "stream",
     "text": [
      "out/\n",
      "out/PMC.10.xml\n",
      "out/PMC.11.xml\n",
      "out/PMC.12.xml\n",
      "out/PMC.13.xml\n",
      "out/PMC.14.xml\n",
      "out/PMC.15.xml\n",
      "out/PMC.16.xml\n",
      "out/PMC.17.xml\n",
      "out/PMC.18.xml\n",
      "out/PMC.19.xml\n",
      "out/PMC.1.xml\n",
      "out/PMC.20.xml\n",
      "out/PMC.21.xml\n",
      "out/PMC.22.xml\n",
      "out/PMC.23.xml\n",
      "out/PMC.24.xml\n",
      "out/PMC.2.xml\n",
      "out/PMC.3.xml\n",
      "out/PMC.4.xml\n",
      "out/PMC.5.xml\n",
      "out/PMC.6.xml\n",
      "out/PMC.7.xml\n",
      "out/PMC.8.xml\n",
      "out/PMC.9.xml\n",
      "out/PMC.0.xml\n"
     ]
    }
   ],
   "source": [
    "!tar -xvzf ../data/PMCLiteMetadata.tgz -C ../data"
   ]
  },
  {
   "cell_type": "code",
   "execution_count": 4,
   "metadata": {
    "collapsed": true
   },
   "outputs": [],
   "source": [
    "import xml.etree.ElementTree as ET\n",
    "\n",
    "class XML2DataFrame:\n",
    "\n",
    "    def __init__(self, xml_file):\n",
    "        self.root = ET.parse(xml_file).getroot()\n",
    "\n",
    "    def parse_root(self, root):\n",
    "        \"\"\"Return a list of dictionaries from the text\n",
    "         and attributes of the children under this XML root.\"\"\"\n",
    "        return [self.parse_element(child) for child in root.getchildren()]\n",
    "\n",
    "    def parse_element(self, element):\n",
    "        \"\"\" Collect {key:attribute} and {tag:text} from thie XML\n",
    "         element and all its children into a single dictionary of strings.\"\"\"\n",
    "        parsed = {c.tag: c.text for c in element.getchildren()}\n",
    "        return parsed\n",
    " \n",
    "    def process_data(self):\n",
    "        \"\"\" Initiate the root XML, parse it, and return a dataframe\"\"\"\n",
    "        structure_data = self.parse_root(self.root)\n",
    "        return pd.DataFrame(structure_data)\n"
   ]
  },
  {
   "cell_type": "code",
   "execution_count": 5,
   "metadata": {},
   "outputs": [
    {
     "name": "stderr",
     "output_type": "stream",
     "text": [
      "100%|██████████| 24/24 [06:00<00:00,  9.31s/it]\n"
     ]
    }
   ],
   "source": [
    "frames = []\n",
    "for i in tqdm(range(24)):\n",
    "    xml2df = XML2DataFrame('../data/out/PMC.{}.xml'.format(i))\n",
    "    xml_dataframe = xml2df.process_data()\n",
    "    frames.append(xml_dataframe)\n",
    "result = pd.concat(frames)"
   ]
  },
  {
   "cell_type": "code",
   "execution_count": 6,
   "metadata": {},
   "outputs": [
    {
     "data": {
      "text/html": [
       "<div>\n",
       "<style>\n",
       "    .dataframe thead tr:only-child th {\n",
       "        text-align: right;\n",
       "    }\n",
       "\n",
       "    .dataframe thead th {\n",
       "        text-align: left;\n",
       "    }\n",
       "\n",
       "    .dataframe tbody tr th {\n",
       "        vertical-align: top;\n",
       "    }\n",
       "</style>\n",
       "<table border=\"1\" class=\"dataframe\">\n",
       "  <thead>\n",
       "    <tr style=\"text-align: right;\">\n",
       "      <th></th>\n",
       "      <th>AuthorList</th>\n",
       "      <th>DOI</th>\n",
       "      <th>id</th>\n",
       "      <th>issue</th>\n",
       "      <th>journalIssn</th>\n",
       "      <th>journalTitle</th>\n",
       "      <th>journalVolume</th>\n",
       "      <th>pageInfo</th>\n",
       "      <th>pmcid</th>\n",
       "      <th>pmid</th>\n",
       "      <th>pubType</th>\n",
       "      <th>pubYear</th>\n",
       "      <th>source</th>\n",
       "      <th>title</th>\n",
       "    </tr>\n",
       "  </thead>\n",
       "  <tbody>\n",
       "    <tr>\n",
       "      <th>0</th>\n",
       "      <td>\\n</td>\n",
       "      <td>10.1111/j.1535-7511.2007.00218.x</td>\n",
       "      <td>18265880</td>\n",
       "      <td>1</td>\n",
       "      <td>1535-7597</td>\n",
       "      <td>Epilepsy currents</td>\n",
       "      <td>8</td>\n",
       "      <td>10-2</td>\n",
       "      <td>PMC2238650</td>\n",
       "      <td>18265880</td>\n",
       "      <td>\"Comment\", \"Journal Article\"</td>\n",
       "      <td>2008</td>\n",
       "      <td>MED</td>\n",
       "      <td>Psychiatric comorbidity in children with epile...</td>\n",
       "    </tr>\n",
       "    <tr>\n",
       "      <th>1</th>\n",
       "      <td>\\n</td>\n",
       "      <td>10.1371/journal.ppat.1000050</td>\n",
       "      <td>18421380</td>\n",
       "      <td>4</td>\n",
       "      <td>1553-7366</td>\n",
       "      <td>PLoS pathogens</td>\n",
       "      <td>4</td>\n",
       "      <td>e1000050</td>\n",
       "      <td>PMC2277462</td>\n",
       "      <td>18421380</td>\n",
       "      <td>\"Journal Article\", \"Research Support, Non-U.S....</td>\n",
       "      <td>2008</td>\n",
       "      <td>MED</td>\n",
       "      <td>Transmission pathways of foot-and-mouth diseas...</td>\n",
       "    </tr>\n",
       "  </tbody>\n",
       "</table>\n",
       "</div>"
      ],
      "text/plain": [
       "  AuthorList                               DOI        id issue journalIssn  \\\n",
       "0         \\n  10.1111/j.1535-7511.2007.00218.x  18265880     1   1535-7597   \n",
       "1         \\n      10.1371/journal.ppat.1000050  18421380     4   1553-7366   \n",
       "\n",
       "        journalTitle journalVolume  pageInfo       pmcid      pmid  \\\n",
       "0  Epilepsy currents             8      10-2  PMC2238650  18265880   \n",
       "1     PLoS pathogens             4  e1000050  PMC2277462  18421380   \n",
       "\n",
       "                                             pubType pubYear source  \\\n",
       "0                       \"Comment\", \"Journal Article\"    2008    MED   \n",
       "1  \"Journal Article\", \"Research Support, Non-U.S....    2008    MED   \n",
       "\n",
       "                                               title  \n",
       "0  Psychiatric comorbidity in children with epile...  \n",
       "1  Transmission pathways of foot-and-mouth diseas...  "
      ]
     },
     "execution_count": 6,
     "metadata": {},
     "output_type": "execute_result"
    }
   ],
   "source": [
    "result.head(2)"
   ]
  },
  {
   "cell_type": "code",
   "execution_count": 7,
   "metadata": {},
   "outputs": [
    {
     "name": "stdout",
     "output_type": "stream",
     "text": [
      "3,952,694\n"
     ]
    }
   ],
   "source": [
    "print('{:,}'.format(len(result)))"
   ]
  },
  {
   "cell_type": "code",
   "execution_count": 8,
   "metadata": {
    "collapsed": true
   },
   "outputs": [],
   "source": [
    "pmid_mapper = result.set_index('pmid')['pubYear'].to_dict()"
   ]
  },
  {
   "cell_type": "code",
   "execution_count": 9,
   "metadata": {},
   "outputs": [
    {
     "name": "stdout",
     "output_type": "stream",
     "text": [
      "13,809,515\n"
     ]
    }
   ],
   "source": [
    "import pickle\n",
    "prev_no_map = pickle.load(open('../data/no_map_PMC.pkl', 'rb'))\n",
    "print('{:,}'.format(len(prev_no_map)))"
   ]
  },
  {
   "cell_type": "code",
   "execution_count": 10,
   "metadata": {},
   "outputs": [
    {
     "name": "stdout",
     "output_type": "stream",
     "text": [
      "13,809,345\n"
     ]
    }
   ],
   "source": [
    "mapped = set(pmid_mapper.keys())\n",
    "new_no_map = prev_no_map - mapped\n",
    "print('{:,}'.format(len(new_no_map)))"
   ]
  },
  {
   "cell_type": "code",
   "execution_count": 11,
   "metadata": {
    "collapsed": true
   },
   "outputs": [],
   "source": [
    "pickle.dump(pmid_mapper, open('../data/pmid_to_year_Eur.pkl', 'wb'))\n",
    "pickle.dump(new_no_map, open('../data/no_map_Eur.pkl', 'wb'))"
   ]
  }
 ],
 "metadata": {
  "kernelspec": {
   "display_name": "Python 3",
   "language": "python",
   "name": "python3"
  },
  "language_info": {
   "codemirror_mode": {
    "name": "ipython",
    "version": 3
   },
   "file_extension": ".py",
   "mimetype": "text/x-python",
   "name": "python",
   "nbconvert_exporter": "python",
   "pygments_lexer": "ipython3",
   "version": "3.5.4"
  }
 },
 "nbformat": 4,
 "nbformat_minor": 2
}
