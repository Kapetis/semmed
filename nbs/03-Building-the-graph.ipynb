{
 "cells": [
  {
   "cell_type": "code",
   "execution_count": 3,
   "metadata": {
    "collapsed": true
   },
   "outputs": [],
   "source": [
    "import os\n",
    "import pickle\n",
    "%matplotlib inline\n",
    "import pandas as pd\n",
    "import seaborn as sns\n",
    "from tqdm import tqdm\n",
    "import matplotlib.pyplot as plt"
   ]
  },
  {
   "cell_type": "code",
   "execution_count": 4,
   "metadata": {},
   "outputs": [
    {
     "name": "stderr",
     "output_type": "stream",
     "text": [
      "/home/mmayers/software/anaconda3/envs/ml/lib/python3.5/site-packages/IPython/core/interactiveshell.py:2698: DtypeWarning: Columns (2) have mixed types. Specify dtype option on import or set low_memory=False.\n",
      "  interactivity=interactivity, compiler=compiler, result=result)\n"
     ]
    }
   ],
   "source": [
    "sem_df = pd.read_csv('../data/semmedVER30_A_clean.csv')"
   ]
  },
  {
   "cell_type": "code",
   "execution_count": 5,
   "metadata": {},
   "outputs": [
    {
     "name": "stdout",
     "output_type": "stream",
     "text": [
      "Rows: 97,118,423\n",
      "Cols: 12\n"
     ]
    }
   ],
   "source": [
    "print('Rows: {:,}'.format(sem_df.shape[0]))\n",
    "print('Cols: {}'.format(sem_df.shape[1]))"
   ]
  },
  {
   "cell_type": "code",
   "execution_count": 6,
   "metadata": {},
   "outputs": [
    {
     "data": {
      "text/html": [
       "<div>\n",
       "<style>\n",
       "    .dataframe thead tr:only-child th {\n",
       "        text-align: right;\n",
       "    }\n",
       "\n",
       "    .dataframe thead th {\n",
       "        text-align: left;\n",
       "    }\n",
       "\n",
       "    .dataframe tbody tr th {\n",
       "        vertical-align: top;\n",
       "    }\n",
       "</style>\n",
       "<table border=\"1\" class=\"dataframe\">\n",
       "  <thead>\n",
       "    <tr style=\"text-align: right;\">\n",
       "      <th></th>\n",
       "      <th>PREDICATION_ID</th>\n",
       "      <th>SENTENCE_ID</th>\n",
       "      <th>PMID</th>\n",
       "      <th>PREDICATE</th>\n",
       "      <th>SUBJECT_CUI</th>\n",
       "      <th>SUBJECT_NAME</th>\n",
       "      <th>SUBJECT_SEMTYPE</th>\n",
       "      <th>SUBJECT_NOVELTY</th>\n",
       "      <th>OBJECT_CUI</th>\n",
       "      <th>OBJECT_NAME</th>\n",
       "      <th>OBJECT_SEMTYPE</th>\n",
       "      <th>OBJECT_NOVELTY</th>\n",
       "    </tr>\n",
       "  </thead>\n",
       "  <tbody>\n",
       "    <tr>\n",
       "      <th>0</th>\n",
       "      <td>61</td>\n",
       "      <td>128</td>\n",
       "      <td>14420371</td>\n",
       "      <td>ISA</td>\n",
       "      <td>C0026879</td>\n",
       "      <td>Mutagens</td>\n",
       "      <td>hops</td>\n",
       "      <td>1</td>\n",
       "      <td>C0220806</td>\n",
       "      <td>Chemicals</td>\n",
       "      <td>chem</td>\n",
       "      <td>1</td>\n",
       "    </tr>\n",
       "    <tr>\n",
       "      <th>1</th>\n",
       "      <td>62</td>\n",
       "      <td>116</td>\n",
       "      <td>5659339</td>\n",
       "      <td>PART_OF</td>\n",
       "      <td>C0017725</td>\n",
       "      <td>Glucose</td>\n",
       "      <td>bacs</td>\n",
       "      <td>1</td>\n",
       "      <td>C0022378</td>\n",
       "      <td>jejunum</td>\n",
       "      <td>bpoc</td>\n",
       "      <td>1</td>\n",
       "    </tr>\n",
       "    <tr>\n",
       "      <th>2</th>\n",
       "      <td>63</td>\n",
       "      <td>146</td>\n",
       "      <td>12255310</td>\n",
       "      <td>PROCESS_OF</td>\n",
       "      <td>C0006147</td>\n",
       "      <td>Breast Feeding</td>\n",
       "      <td>orgf</td>\n",
       "      <td>1</td>\n",
       "      <td>C0020114</td>\n",
       "      <td>Human</td>\n",
       "      <td>humn</td>\n",
       "      <td>1</td>\n",
       "    </tr>\n",
       "    <tr>\n",
       "      <th>3</th>\n",
       "      <td>64</td>\n",
       "      <td>170</td>\n",
       "      <td>12305488</td>\n",
       "      <td>TREATS</td>\n",
       "      <td>C0279494</td>\n",
       "      <td>Oestrogen therapy</td>\n",
       "      <td>topp</td>\n",
       "      <td>1</td>\n",
       "      <td>C0043210</td>\n",
       "      <td>Woman</td>\n",
       "      <td>popg</td>\n",
       "      <td>1</td>\n",
       "    </tr>\n",
       "    <tr>\n",
       "      <th>4</th>\n",
       "      <td>65</td>\n",
       "      <td>116</td>\n",
       "      <td>5659339</td>\n",
       "      <td>PROCESS_OF</td>\n",
       "      <td>C0232338</td>\n",
       "      <td>Blood flow</td>\n",
       "      <td>orgf</td>\n",
       "      <td>1</td>\n",
       "      <td>C0012984</td>\n",
       "      <td>Canis familiaris</td>\n",
       "      <td>mamm</td>\n",
       "      <td>1</td>\n",
       "    </tr>\n",
       "  </tbody>\n",
       "</table>\n",
       "</div>"
      ],
      "text/plain": [
       "   PREDICATION_ID  SENTENCE_ID      PMID   PREDICATE SUBJECT_CUI  \\\n",
       "0              61          128  14420371         ISA    C0026879   \n",
       "1              62          116   5659339     PART_OF    C0017725   \n",
       "2              63          146  12255310  PROCESS_OF    C0006147   \n",
       "3              64          170  12305488      TREATS    C0279494   \n",
       "4              65          116   5659339  PROCESS_OF    C0232338   \n",
       "\n",
       "        SUBJECT_NAME SUBJECT_SEMTYPE  SUBJECT_NOVELTY OBJECT_CUI  \\\n",
       "0           Mutagens            hops                1   C0220806   \n",
       "1            Glucose            bacs                1   C0022378   \n",
       "2     Breast Feeding            orgf                1   C0020114   \n",
       "3  Oestrogen therapy            topp                1   C0043210   \n",
       "4         Blood flow            orgf                1   C0012984   \n",
       "\n",
       "        OBJECT_NAME OBJECT_SEMTYPE  OBJECT_NOVELTY  \n",
       "0         Chemicals           chem               1  \n",
       "1           jejunum           bpoc               1  \n",
       "2             Human           humn               1  \n",
       "3             Woman           popg               1  \n",
       "4  Canis familiaris           mamm               1  "
      ]
     },
     "execution_count": 6,
     "metadata": {},
     "output_type": "execute_result"
    }
   ],
   "source": [
    "sem_df.head()"
   ]
  },
  {
   "cell_type": "markdown",
   "metadata": {},
   "source": [
    "## De-Duplicate\n",
    "\n",
    "The data will be faster to work with if duplicate items are removed."
   ]
  },
  {
   "cell_type": "code",
   "execution_count": 7,
   "metadata": {},
   "outputs": [
    {
     "name": "stdout",
     "output_type": "stream",
     "text": [
      "Rows Remaining: 21,447,153\n"
     ]
    }
   ],
   "source": [
    "sem_df = sem_df.drop_duplicates(subset=['SUBJECT_CUI', 'SUBJECT_NAME', 'SUBJECT_SEMTYPE', 'PREDICATE',\n",
    "                                        'OBJECT_CUI', 'OBJECT_NAME', 'OBJECT_SEMTYPE'])\n",
    "\n",
    "print('Rows Remaining: {:,}'.format(sem_df.shape[0]))"
   ]
  },
  {
   "cell_type": "markdown",
   "metadata": {},
   "source": [
    "# Sem-Types\n",
    "\n",
    "Semtypes are abbreviated, so need to get mappings to true name.  \n",
    "Examining the length of the map file, there should be 133 semtypes."
   ]
  },
  {
   "cell_type": "code",
   "execution_count": 8,
   "metadata": {},
   "outputs": [
    {
     "data": {
      "text/plain": [
       "134"
      ]
     },
     "execution_count": 8,
     "metadata": {},
     "output_type": "execute_result"
    }
   ],
   "source": [
    "len(set(sem_df['SUBJECT_SEMTYPE'].unique()).union(set(sem_df['OBJECT_SEMTYPE'].unique())))"
   ]
  },
  {
   "cell_type": "markdown",
   "metadata": {
    "collapsed": true
   },
   "source": [
    "## Normalizing semtypes for CUIs with multiple semtypes\n",
    "\n",
    "We know that there are multiple Semtypes for a given CUI found throghout the database.  Can we just use a voting system? That with the most occruances of a given semtype gets that semtype?\n",
    "\n",
    "For a CUI thats a Gene e.g. `C1337111` or the `POMC gene` we want something thats a subclass of Genes and Genomes (aka gngm)."
   ]
  },
  {
   "cell_type": "code",
   "execution_count": 9,
   "metadata": {},
   "outputs": [
    {
     "data": {
      "text/plain": [
       "aapp    4361\n",
       "gngm     926\n",
       "horm     904\n",
       "phsu     292\n",
       "nsba      32\n",
       "bacs       1\n",
       "Name: SUBJECT_SEMTYPE, dtype: int64"
      ]
     },
     "execution_count": 9,
     "metadata": {},
     "output_type": "execute_result"
    }
   ],
   "source": [
    "sem_df.query('SUBJECT_CUI == \"C1337111\"')['SUBJECT_SEMTYPE'].value_counts()"
   ]
  },
  {
   "cell_type": "markdown",
   "metadata": {},
   "source": [
    "Unfortunately, aapp is a sublcass of Chemicals & Drugs, so this would be given the wrong superclass if identified.\n",
    "\n",
    "However, it will be easier to do this if the nodes are sperated from the edges first\n",
    "\n",
    "\n",
    "### Semmtypes abbreviation mappings\n",
    "\n",
    "Files with the mapping information were [downloaded here](https://metamap.nlm.nih.gov/SemanticTypesAndGroups.shtml)"
   ]
  },
  {
   "cell_type": "code",
   "execution_count": 10,
   "metadata": {
    "collapsed": true
   },
   "outputs": [],
   "source": [
    "abbv_to_type = dict()\n",
    "with open('../SemanticTypes_2013AA.txt') as fin:\n",
    "    for line in fin:\n",
    "        line = line.strip()\n",
    "        lspt = line.split('|')\n",
    "        abbv_to_type[lspt[0]] = lspt[-1]\n",
    "type_to_abbv = {v:k for k, v in abbv_to_type.items()}"
   ]
  },
  {
   "cell_type": "markdown",
   "metadata": {},
   "source": [
    "Semtypes also have a supertype.   \n",
    "The mapping file has this structure:\n",
    "\n",
    "    ANAT|Anatomy|T017|Anatomical Structure\n",
    "\n",
    "### Semtype supertypes mappings"
   ]
  },
  {
   "cell_type": "code",
   "execution_count": 11,
   "metadata": {
    "collapsed": true
   },
   "outputs": [],
   "source": [
    "abbv_to_super = dict()\n",
    "with open('../SemGroups_2013.txt') as fin:\n",
    "    for line in fin:\n",
    "        line = line.strip()\n",
    "        lspt = line.split('|')\n",
    "        abbv_to_super[type_to_abbv[lspt[-1]]] = lspt[1]"
   ]
  },
  {
   "cell_type": "markdown",
   "metadata": {},
   "source": [
    "### Check to see that all of the semtype abbreviations in the SemmedDB are repepresented in this mapping file"
   ]
  },
  {
   "cell_type": "code",
   "execution_count": 12,
   "metadata": {},
   "outputs": [
    {
     "data": {
      "text/plain": [
       "{'0', 'alga', 'invt', 'rich'}"
      ]
     },
     "execution_count": 12,
     "metadata": {},
     "output_type": "execute_result"
    }
   ],
   "source": [
    "semtype_abbvs = abbv_to_super.keys()\n",
    "unused_abbvs = set(sem_df.query('SUBJECT_SEMTYPE not in @semtype_abbvs')['SUBJECT_SEMTYPE'].unique())\n",
    "unused_abbvs.update(set(sem_df.query('OBJECT_SEMTYPE not in @semtype_abbvs')['OBJECT_SEMTYPE'].unique()))\n",
    "\n",
    "unused_abbvs"
   ]
  },
  {
   "cell_type": "markdown",
   "metadata": {},
   "source": [
    "There are a few that aren't in there (ignore the 0, thats probably a corrupted line), so lets see if we can figure out what they should be"
   ]
  },
  {
   "cell_type": "code",
   "execution_count": 13,
   "metadata": {},
   "outputs": [
    {
     "data": {
      "text/html": [
       "<div>\n",
       "<style>\n",
       "    .dataframe thead tr:only-child th {\n",
       "        text-align: right;\n",
       "    }\n",
       "\n",
       "    .dataframe thead th {\n",
       "        text-align: left;\n",
       "    }\n",
       "\n",
       "    .dataframe tbody tr th {\n",
       "        vertical-align: top;\n",
       "    }\n",
       "</style>\n",
       "<table border=\"1\" class=\"dataframe\">\n",
       "  <thead>\n",
       "    <tr style=\"text-align: right;\">\n",
       "      <th></th>\n",
       "      <th>SUBJECT_CUI</th>\n",
       "      <th>SUBJECT_NAME</th>\n",
       "      <th>SUBJECT_SEMTYPE</th>\n",
       "    </tr>\n",
       "  </thead>\n",
       "  <tbody>\n",
       "    <tr>\n",
       "      <th>2807</th>\n",
       "      <td>C0002032</td>\n",
       "      <td>Algae, Green</td>\n",
       "      <td>alga</td>\n",
       "    </tr>\n",
       "    <tr>\n",
       "      <th>5032</th>\n",
       "      <td>C0002028</td>\n",
       "      <td>Algae</td>\n",
       "      <td>alga</td>\n",
       "    </tr>\n",
       "  </tbody>\n",
       "</table>\n",
       "</div>"
      ],
      "text/plain": [
       "     SUBJECT_CUI  SUBJECT_NAME SUBJECT_SEMTYPE\n",
       "2807    C0002032  Algae, Green            alga\n",
       "5032    C0002028         Algae            alga"
      ]
     },
     "execution_count": 13,
     "metadata": {},
     "output_type": "execute_result"
    }
   ],
   "source": [
    "sem_df.query('SUBJECT_SEMTYPE == \"alga\"').head(2)[['SUBJECT_CUI', 'SUBJECT_NAME', 'SUBJECT_SEMTYPE']]"
   ]
  },
  {
   "cell_type": "code",
   "execution_count": 14,
   "metadata": {},
   "outputs": [
    {
     "data": {
      "text/html": [
       "<div>\n",
       "<style>\n",
       "    .dataframe thead tr:only-child th {\n",
       "        text-align: right;\n",
       "    }\n",
       "\n",
       "    .dataframe thead th {\n",
       "        text-align: left;\n",
       "    }\n",
       "\n",
       "    .dataframe tbody tr th {\n",
       "        vertical-align: top;\n",
       "    }\n",
       "</style>\n",
       "<table border=\"1\" class=\"dataframe\">\n",
       "  <thead>\n",
       "    <tr style=\"text-align: right;\">\n",
       "      <th></th>\n",
       "      <th>SUBJECT_CUI</th>\n",
       "      <th>SUBJECT_NAME</th>\n",
       "      <th>SUBJECT_SEMTYPE</th>\n",
       "    </tr>\n",
       "  </thead>\n",
       "  <tbody>\n",
       "    <tr>\n",
       "      <th>197</th>\n",
       "      <td>C0012518</td>\n",
       "      <td>Dipetalonema perstans</td>\n",
       "      <td>invt</td>\n",
       "    </tr>\n",
       "    <tr>\n",
       "      <th>302</th>\n",
       "      <td>C0026584</td>\n",
       "      <td>Culicidae</td>\n",
       "      <td>invt</td>\n",
       "    </tr>\n",
       "  </tbody>\n",
       "</table>\n",
       "</div>"
      ],
      "text/plain": [
       "    SUBJECT_CUI           SUBJECT_NAME SUBJECT_SEMTYPE\n",
       "197    C0012518  Dipetalonema perstans            invt\n",
       "302    C0026584              Culicidae            invt"
      ]
     },
     "execution_count": 14,
     "metadata": {},
     "output_type": "execute_result"
    }
   ],
   "source": [
    "sem_df.query('SUBJECT_SEMTYPE == \"invt\"').head(2)[['SUBJECT_CUI', 'SUBJECT_NAME', 'SUBJECT_SEMTYPE']]"
   ]
  },
  {
   "cell_type": "code",
   "execution_count": 15,
   "metadata": {},
   "outputs": [
    {
     "data": {
      "text/html": [
       "<div>\n",
       "<style>\n",
       "    .dataframe thead tr:only-child th {\n",
       "        text-align: right;\n",
       "    }\n",
       "\n",
       "    .dataframe thead th {\n",
       "        text-align: left;\n",
       "    }\n",
       "\n",
       "    .dataframe tbody tr th {\n",
       "        vertical-align: top;\n",
       "    }\n",
       "</style>\n",
       "<table border=\"1\" class=\"dataframe\">\n",
       "  <thead>\n",
       "    <tr style=\"text-align: right;\">\n",
       "      <th></th>\n",
       "      <th>SUBJECT_CUI</th>\n",
       "      <th>SUBJECT_NAME</th>\n",
       "      <th>SUBJECT_SEMTYPE</th>\n",
       "    </tr>\n",
       "  </thead>\n",
       "  <tbody>\n",
       "    <tr>\n",
       "      <th>1623</th>\n",
       "      <td>C0035587</td>\n",
       "      <td>Rickettsia prowazekii</td>\n",
       "      <td>rich</td>\n",
       "    </tr>\n",
       "    <tr>\n",
       "      <th>6752</th>\n",
       "      <td>C0010240</td>\n",
       "      <td>Coxiella burnetii</td>\n",
       "      <td>rich</td>\n",
       "    </tr>\n",
       "  </tbody>\n",
       "</table>\n",
       "</div>"
      ],
      "text/plain": [
       "     SUBJECT_CUI           SUBJECT_NAME SUBJECT_SEMTYPE\n",
       "1623    C0035587  Rickettsia prowazekii            rich\n",
       "6752    C0010240      Coxiella burnetii            rich"
      ]
     },
     "execution_count": 15,
     "metadata": {},
     "output_type": "execute_result"
    }
   ],
   "source": [
    "sem_df.query('SUBJECT_SEMTYPE == \"rich\"').head(2)[['SUBJECT_CUI', 'SUBJECT_NAME', 'SUBJECT_SEMTYPE']]"
   ]
  },
  {
   "cell_type": "code",
   "execution_count": 16,
   "metadata": {
    "collapsed": true
   },
   "outputs": [],
   "source": [
    "# Looked ups a few cuis with these and they are all of the living beings type, \n",
    "# so we will set these to that semtype\n",
    "abbv_to_super['invt'] = 'Living Beings'\n",
    "abbv_to_super['alga'] = 'Living Beings'\n",
    "abbv_to_super['rich'] = 'Living Beings'"
   ]
  },
  {
   "cell_type": "code",
   "execution_count": 17,
   "metadata": {},
   "outputs": [
    {
     "data": {
      "text/html": [
       "<div>\n",
       "<style>\n",
       "    .dataframe thead tr:only-child th {\n",
       "        text-align: right;\n",
       "    }\n",
       "\n",
       "    .dataframe thead th {\n",
       "        text-align: left;\n",
       "    }\n",
       "\n",
       "    .dataframe tbody tr th {\n",
       "        vertical-align: top;\n",
       "    }\n",
       "</style>\n",
       "<table border=\"1\" class=\"dataframe\">\n",
       "  <thead>\n",
       "    <tr style=\"text-align: right;\">\n",
       "      <th></th>\n",
       "      <th>ID</th>\n",
       "      <th>name</th>\n",
       "      <th>LABEL</th>\n",
       "    </tr>\n",
       "  </thead>\n",
       "  <tbody>\n",
       "    <tr>\n",
       "      <th>0</th>\n",
       "      <td>C0026879</td>\n",
       "      <td>Mutagens</td>\n",
       "      <td>Chemicals &amp; Drugs</td>\n",
       "    </tr>\n",
       "    <tr>\n",
       "      <th>1</th>\n",
       "      <td>C0017725</td>\n",
       "      <td>Glucose</td>\n",
       "      <td>Chemicals &amp; Drugs</td>\n",
       "    </tr>\n",
       "    <tr>\n",
       "      <th>2</th>\n",
       "      <td>C0006147</td>\n",
       "      <td>Breast Feeding</td>\n",
       "      <td>Physiology</td>\n",
       "    </tr>\n",
       "    <tr>\n",
       "      <th>3</th>\n",
       "      <td>C0279494</td>\n",
       "      <td>Oestrogen therapy</td>\n",
       "      <td>Procedures</td>\n",
       "    </tr>\n",
       "    <tr>\n",
       "      <th>4</th>\n",
       "      <td>C0232338</td>\n",
       "      <td>Blood flow</td>\n",
       "      <td>Physiology</td>\n",
       "    </tr>\n",
       "  </tbody>\n",
       "</table>\n",
       "</div>"
      ],
      "text/plain": [
       "         ID               name              LABEL\n",
       "0  C0026879           Mutagens  Chemicals & Drugs\n",
       "1  C0017725            Glucose  Chemicals & Drugs\n",
       "2  C0006147     Breast Feeding         Physiology\n",
       "3  C0279494  Oestrogen therapy         Procedures\n",
       "4  C0232338         Blood flow         Physiology"
      ]
     },
     "execution_count": 17,
     "metadata": {},
     "output_type": "execute_result"
    }
   ],
   "source": [
    "# Make a nodes csv\n",
    "\n",
    "snodes = pd.DataFrame()\n",
    "onodes = pd.DataFrame()\n",
    "\n",
    "\n",
    "snodes['ID'] = sem_df['SUBJECT_CUI']\n",
    "snodes['name'] = sem_df['SUBJECT_NAME']\n",
    "snodes['LABEL'] = sem_df['SUBJECT_SEMTYPE'].apply(lambda x: abbv_to_super.get(x))\n",
    "\n",
    "onodes['ID'] = sem_df['OBJECT_CUI']\n",
    "onodes['name'] = sem_df['OBJECT_NAME']\n",
    "onodes['LABEL'] = sem_df['OBJECT_SEMTYPE'].apply(lambda x: abbv_to_super.get(x))\n",
    "\n",
    "\n",
    "nodes = pd.concat([snodes, onodes])\n",
    "nodes.drop_duplicates(inplace=True)\n",
    "nodes = nodes.reset_index(drop=True)\n",
    "\n",
    "nodes.head()"
   ]
  },
  {
   "cell_type": "code",
   "execution_count": 18,
   "metadata": {},
   "outputs": [
    {
     "name": "stdout",
     "output_type": "stream",
     "text": [
      "There are 304433 lines and 268918 unique IDs\n",
      "70015 IDs have been found to have multiple semantic types\n"
     ]
    }
   ],
   "source": [
    "print('There are {} lines and {} unique IDs'.format(nodes.shape[0], nodes['ID'].nunique()))\n",
    "\n",
    "num_duped = nodes[nodes.duplicated(subset='ID', keep=False)].drop_duplicates().shape[0]\n",
    "print('{} IDs have been found to have multiple semantic types'.format(num_duped))"
   ]
  },
  {
   "cell_type": "markdown",
   "metadata": {},
   "source": [
    "Dropping all NA values drops way too many.  We need to see which ones have NA values and why"
   ]
  },
  {
   "cell_type": "code",
   "execution_count": 19,
   "metadata": {},
   "outputs": [
    {
     "data": {
      "text/html": [
       "<div>\n",
       "<style>\n",
       "    .dataframe thead tr:only-child th {\n",
       "        text-align: right;\n",
       "    }\n",
       "\n",
       "    .dataframe thead th {\n",
       "        text-align: left;\n",
       "    }\n",
       "\n",
       "    .dataframe tbody tr th {\n",
       "        vertical-align: top;\n",
       "    }\n",
       "</style>\n",
       "<table border=\"1\" class=\"dataframe\">\n",
       "  <thead>\n",
       "    <tr style=\"text-align: right;\">\n",
       "      <th></th>\n",
       "      <th>ID</th>\n",
       "      <th>name</th>\n",
       "      <th>LABEL</th>\n",
       "    </tr>\n",
       "  </thead>\n",
       "  <tbody>\n",
       "    <tr>\n",
       "      <th>304124</th>\n",
       "      <td>C3146964</td>\n",
       "      <td>COX5BP4 gene</td>\n",
       "      <td>None</td>\n",
       "    </tr>\n",
       "  </tbody>\n",
       "</table>\n",
       "</div>"
      ],
      "text/plain": [
       "              ID          name LABEL\n",
       "304124  C3146964  COX5BP4 gene  None"
      ]
     },
     "execution_count": 19,
     "metadata": {},
     "output_type": "execute_result"
    }
   ],
   "source": [
    "no_semtype = nodes.isnull().sum(axis=1).astype(bool)\n",
    "nodes[no_semtype]"
   ]
  },
  {
   "cell_type": "code",
   "execution_count": 20,
   "metadata": {
    "collapsed": true
   },
   "outputs": [],
   "source": [
    "cui_to_t_code = dict()\n",
    "with open('../MRSTY.RRF') as fin:\n",
    "    for line in fin:\n",
    "        line = line.strip()\n",
    "        ls = line.split('|')\n",
    "        cui_to_t_code[ls[0]] = [x for x in ls[1:] if x != '']"
   ]
  },
  {
   "cell_type": "code",
   "execution_count": 21,
   "metadata": {
    "collapsed": true
   },
   "outputs": [],
   "source": [
    "t_code_to_super = dict()\n",
    "with open('../SemGroups_2013.txt') as fin:\n",
    "    for line in fin:\n",
    "        line = line.strip()\n",
    "        ls = line.split('|')\n",
    "        t_code_to_super[ls[2]] = ls[1]"
   ]
  },
  {
   "cell_type": "code",
   "execution_count": 22,
   "metadata": {},
   "outputs": [
    {
     "name": "stdout",
     "output_type": "stream",
     "text": [
      "C2069586 ['T061']\n",
      "C2655812 ['T002']\n",
      "C0239651 ['T033']\n",
      "C1649932 ['T015']\n",
      "C1899978 ['T002']\n",
      "C0104020 ['T121']\n",
      "C3440209 ['T007']\n",
      "C0703171 ['T200']\n",
      "C2946216 ['T200']\n",
      "C1142884 ['T123']\n",
      "C1959698 ['T023']\n"
     ]
    }
   ],
   "source": [
    "for i, (k, v) in enumerate(cui_to_t_code.items()):\n",
    "    print(k, v)\n",
    "    if i==10:\n",
    "        break"
   ]
  },
  {
   "cell_type": "code",
   "execution_count": 23,
   "metadata": {
    "collapsed": true
   },
   "outputs": [],
   "source": [
    "cui_to_super = dict()\n",
    "for k, v in cui_to_t_code.items():\n",
    "    # Only 1 T-Code, so map to its super semmantic type\n",
    "    if len(v) == 1:\n",
    "        cui_to_super[k] = t_code_to_super[v[0]]\n",
    "    else:\n",
    "        # Most multiple T-Codes should have the same supertype\n",
    "        v_set = set([t_code_to_super[x] for x in v])\n",
    "        if len(v_set) == 1:\n",
    "            cui_to_super[k] = v_set.pop()\n",
    "        # If they don't have the same supertype, return as a list...\n",
    "        else:\n",
    "            # If nothing prints they we have true 1-1 mapping and noting to worry about\n",
    "            print(k, v_set)\n",
    "            cui_to_super[k] = list(v_set)\n",
    "\n"
   ]
  },
  {
   "cell_type": "markdown",
   "metadata": {},
   "source": [
    "## Relabel the semmantic types to their true type"
   ]
  },
  {
   "cell_type": "code",
   "execution_count": 24,
   "metadata": {
    "collapsed": true
   },
   "outputs": [],
   "source": [
    "nodes['true_label'] = nodes['ID'].apply(lambda x: cui_to_super.get(x, x))"
   ]
  },
  {
   "cell_type": "code",
   "execution_count": 25,
   "metadata": {},
   "outputs": [
    {
     "name": "stdout",
     "output_type": "stream",
     "text": [
      "14143 CUIs not found for true Semmantic Mapping...\n"
     ]
    }
   ],
   "source": [
    "p_idx = nodes['true_label'].str.startswith('C')\n",
    "bad_ids = set(nodes[p_idx]['true_label'])\n",
    "print(\"{} CUIs not found for true Semmantic Mapping...\".format(len(bad_ids)))"
   ]
  },
  {
   "cell_type": "markdown",
   "metadata": {},
   "source": [
    "Some node CUIs were not mappable to a semmatic type.  We will use what semmedDB provided for a semantic type in these instances."
   ]
  },
  {
   "cell_type": "code",
   "execution_count": 26,
   "metadata": {
    "collapsed": true
   },
   "outputs": [],
   "source": [
    "potential_problems = nodes.query('ID in @bad_ids').copy()"
   ]
  },
  {
   "cell_type": "code",
   "execution_count": 27,
   "metadata": {},
   "outputs": [
    {
     "name": "stdout",
     "output_type": "stream",
     "text": [
      "Now 1667 CUIs have multiple Semmantic Types\n"
     ]
    }
   ],
   "source": [
    "potential_problems['true_label'] = potential_problems['LABEL']\n",
    "problems = potential_problems[potential_problems.duplicated(subset='ID', keep=False)].copy()\n",
    "print(\"Now {} CUIs have multiple Semmantic Types\".format(problems['ID'].nunique()))"
   ]
  },
  {
   "cell_type": "code",
   "execution_count": 28,
   "metadata": {
    "collapsed": true
   },
   "outputs": [],
   "source": [
    "fixed_probs = potential_problems.drop(problems.index)"
   ]
  },
  {
   "cell_type": "markdown",
   "metadata": {},
   "source": [
    "### Combining Multiple semtypes for a single object"
   ]
  },
  {
   "cell_type": "code",
   "execution_count": 29,
   "metadata": {},
   "outputs": [
    {
     "data": {
      "text/plain": [
       "12"
      ]
     },
     "execution_count": 29,
     "metadata": {},
     "output_type": "execute_result"
    }
   ],
   "source": [
    "pairs = []\n",
    "grpd = problems.groupby('ID')\n",
    "for grp, df in grpd:\n",
    "    pairs.append(tuple(df.sort_values('LABEL')['LABEL']))\n",
    "pairs = set(pairs)\n",
    "len(pairs)"
   ]
  },
  {
   "cell_type": "code",
   "execution_count": 30,
   "metadata": {},
   "outputs": [
    {
     "data": {
      "text/plain": [
       "[('Activities & Behaviors', 'Procedures'),\n",
       " ('Chemicals & Drugs', 'Genes & Molecular Sequences'),\n",
       " ('Chemicals & Drugs', 'Objects'),\n",
       " ('Concepts & Ideas', 'Devices'),\n",
       " ('Concepts & Ideas', 'Disorders'),\n",
       " ('Concepts & Ideas', 'Living Beings'),\n",
       " ('Concepts & Ideas', 'Objects'),\n",
       " ('Concepts & Ideas', 'Procedures'),\n",
       " ('Living Beings', 'Objects'),\n",
       " ('Objects', 'Organizations'),\n",
       " ('Phenomena', 'Physiology'),\n",
       " ('Physiology', 'Procedures')]"
      ]
     },
     "execution_count": 30,
     "metadata": {},
     "output_type": "execute_result"
    }
   ],
   "source": [
    "pairs = sorted(list(pairs))\n",
    "pairs"
   ]
  },
  {
   "cell_type": "code",
   "execution_count": 31,
   "metadata": {
    "collapsed": true
   },
   "outputs": [],
   "source": [
    "def look_at_semtype_pairs(dups, pairs):\n",
    "    types = dups['LABEL'] == pairs[0]\n",
    "    for p in pairs[1:]:\n",
    "        current_type = dups['LABEL'] == p\n",
    "        types = types | current_type\n",
    "        \n",
    "    return dups[types][dups.loc[types, 'ID'].duplicated(keep=False)].sort_values('ID')"
   ]
  },
  {
   "cell_type": "code",
   "execution_count": 32,
   "metadata": {},
   "outputs": [
    {
     "data": {
      "text/html": [
       "<div>\n",
       "<style>\n",
       "    .dataframe thead tr:only-child th {\n",
       "        text-align: right;\n",
       "    }\n",
       "\n",
       "    .dataframe thead th {\n",
       "        text-align: left;\n",
       "    }\n",
       "\n",
       "    .dataframe tbody tr th {\n",
       "        vertical-align: top;\n",
       "    }\n",
       "</style>\n",
       "<table border=\"1\" class=\"dataframe\">\n",
       "  <thead>\n",
       "    <tr style=\"text-align: right;\">\n",
       "      <th></th>\n",
       "      <th>ID</th>\n",
       "      <th>name</th>\n",
       "      <th>LABEL</th>\n",
       "      <th>true_label</th>\n",
       "    </tr>\n",
       "  </thead>\n",
       "  <tbody>\n",
       "    <tr>\n",
       "      <th>30840</th>\n",
       "      <td>C0683532</td>\n",
       "      <td>government health service</td>\n",
       "      <td>Procedures</td>\n",
       "      <td>Procedures</td>\n",
       "    </tr>\n",
       "    <tr>\n",
       "      <th>276378</th>\n",
       "      <td>C0683532</td>\n",
       "      <td>government health service</td>\n",
       "      <td>Activities &amp; Behaviors</td>\n",
       "      <td>Activities &amp; Behaviors</td>\n",
       "    </tr>\n",
       "    <tr>\n",
       "      <th>79588</th>\n",
       "      <td>C0682953</td>\n",
       "      <td>saturated dietary fat</td>\n",
       "      <td>Chemicals &amp; Drugs</td>\n",
       "      <td>Chemicals &amp; Drugs</td>\n",
       "    </tr>\n",
       "    <tr>\n",
       "      <th>248273</th>\n",
       "      <td>C0682953</td>\n",
       "      <td>saturated dietary fat</td>\n",
       "      <td>Objects</td>\n",
       "      <td>Objects</td>\n",
       "    </tr>\n",
       "    <tr>\n",
       "      <th>85440</th>\n",
       "      <td>C0262798</td>\n",
       "      <td>Clinical Information Systems</td>\n",
       "      <td>Devices</td>\n",
       "      <td>Devices</td>\n",
       "    </tr>\n",
       "    <tr>\n",
       "      <th>241550</th>\n",
       "      <td>C0262798</td>\n",
       "      <td>Clinical Information Systems</td>\n",
       "      <td>Concepts &amp; Ideas</td>\n",
       "      <td>Concepts &amp; Ideas</td>\n",
       "    </tr>\n",
       "    <tr>\n",
       "      <th>58983</th>\n",
       "      <td>C0262877</td>\n",
       "      <td>Medical Information Systems</td>\n",
       "      <td>Devices</td>\n",
       "      <td>Devices</td>\n",
       "    </tr>\n",
       "    <tr>\n",
       "      <th>245298</th>\n",
       "      <td>C0262877</td>\n",
       "      <td>Medical Information Systems</td>\n",
       "      <td>Concepts &amp; Ideas</td>\n",
       "      <td>Concepts &amp; Ideas</td>\n",
       "    </tr>\n",
       "    <tr>\n",
       "      <th>134403</th>\n",
       "      <td>C1608931</td>\n",
       "      <td>Information Systems, Data Management, Hospital</td>\n",
       "      <td>Devices</td>\n",
       "      <td>Devices</td>\n",
       "    </tr>\n",
       "    <tr>\n",
       "      <th>197788</th>\n",
       "      <td>C1608931</td>\n",
       "      <td>Information Systems, Data Management, Hospital</td>\n",
       "      <td>Concepts &amp; Ideas</td>\n",
       "      <td>Concepts &amp; Ideas</td>\n",
       "    </tr>\n",
       "    <tr>\n",
       "      <th>64345</th>\n",
       "      <td>C0681669</td>\n",
       "      <td>demographic trend</td>\n",
       "      <td>Disorders</td>\n",
       "      <td>Disorders</td>\n",
       "    </tr>\n",
       "    <tr>\n",
       "      <th>64670</th>\n",
       "      <td>C0681669</td>\n",
       "      <td>demographic trend</td>\n",
       "      <td>Concepts &amp; Ideas</td>\n",
       "      <td>Concepts &amp; Ideas</td>\n",
       "    </tr>\n",
       "    <tr>\n",
       "      <th>7658</th>\n",
       "      <td>C0221192</td>\n",
       "      <td>Author</td>\n",
       "      <td>Living Beings</td>\n",
       "      <td>Living Beings</td>\n",
       "    </tr>\n",
       "    <tr>\n",
       "      <th>82199</th>\n",
       "      <td>C0221192</td>\n",
       "      <td>Author</td>\n",
       "      <td>Concepts &amp; Ideas</td>\n",
       "      <td>Concepts &amp; Ideas</td>\n",
       "    </tr>\n",
       "    <tr>\n",
       "      <th>116127</th>\n",
       "      <td>C0024681</td>\n",
       "      <td>Management Information Systems</td>\n",
       "      <td>Concepts &amp; Ideas</td>\n",
       "      <td>Concepts &amp; Ideas</td>\n",
       "    </tr>\n",
       "    <tr>\n",
       "      <th>281233</th>\n",
       "      <td>C0024681</td>\n",
       "      <td>Management Information Systems</td>\n",
       "      <td>Objects</td>\n",
       "      <td>Objects</td>\n",
       "    </tr>\n",
       "    <tr>\n",
       "      <th>42341</th>\n",
       "      <td>C0868961</td>\n",
       "      <td>Field crops</td>\n",
       "      <td>Living Beings</td>\n",
       "      <td>Living Beings</td>\n",
       "    </tr>\n",
       "    <tr>\n",
       "      <th>221598</th>\n",
       "      <td>C0868961</td>\n",
       "      <td>Field crops</td>\n",
       "      <td>Objects</td>\n",
       "      <td>Objects</td>\n",
       "    </tr>\n",
       "    <tr>\n",
       "      <th>51592</th>\n",
       "      <td>C0260014</td>\n",
       "      <td>Coronary care units, Mobile</td>\n",
       "      <td>Organizations</td>\n",
       "      <td>Organizations</td>\n",
       "    </tr>\n",
       "    <tr>\n",
       "      <th>156176</th>\n",
       "      <td>C0260014</td>\n",
       "      <td>Coronary care units, Mobile</td>\n",
       "      <td>Objects</td>\n",
       "      <td>Objects</td>\n",
       "    </tr>\n",
       "    <tr>\n",
       "      <th>38639</th>\n",
       "      <td>C0338036</td>\n",
       "      <td>Doctor's office</td>\n",
       "      <td>Organizations</td>\n",
       "      <td>Organizations</td>\n",
       "    </tr>\n",
       "    <tr>\n",
       "      <th>165935</th>\n",
       "      <td>C0338036</td>\n",
       "      <td>Doctor's office</td>\n",
       "      <td>Objects</td>\n",
       "      <td>Objects</td>\n",
       "    </tr>\n",
       "    <tr>\n",
       "      <th>112472</th>\n",
       "      <td>C0679901</td>\n",
       "      <td>detoxification center</td>\n",
       "      <td>Organizations</td>\n",
       "      <td>Organizations</td>\n",
       "    </tr>\n",
       "    <tr>\n",
       "      <th>114629</th>\n",
       "      <td>C0679901</td>\n",
       "      <td>detoxification center</td>\n",
       "      <td>Objects</td>\n",
       "      <td>Objects</td>\n",
       "    </tr>\n",
       "    <tr>\n",
       "      <th>74286</th>\n",
       "      <td>C0814517</td>\n",
       "      <td>primary care facility</td>\n",
       "      <td>Organizations</td>\n",
       "      <td>Organizations</td>\n",
       "    </tr>\n",
       "    <tr>\n",
       "      <th>193098</th>\n",
       "      <td>C0814517</td>\n",
       "      <td>primary care facility</td>\n",
       "      <td>Objects</td>\n",
       "      <td>Objects</td>\n",
       "    </tr>\n",
       "    <tr>\n",
       "      <th>116809</th>\n",
       "      <td>C1306377</td>\n",
       "      <td>Postoperative anesthesia care unit</td>\n",
       "      <td>Organizations</td>\n",
       "      <td>Organizations</td>\n",
       "    </tr>\n",
       "    <tr>\n",
       "      <th>292432</th>\n",
       "      <td>C1306377</td>\n",
       "      <td>Postoperative anesthesia care unit</td>\n",
       "      <td>Objects</td>\n",
       "      <td>Objects</td>\n",
       "    </tr>\n",
       "    <tr>\n",
       "      <th>55547</th>\n",
       "      <td>C1609437</td>\n",
       "      <td>Primary care clinic</td>\n",
       "      <td>Organizations</td>\n",
       "      <td>Organizations</td>\n",
       "    </tr>\n",
       "    <tr>\n",
       "      <th>279853</th>\n",
       "      <td>C1609437</td>\n",
       "      <td>Primary care clinic</td>\n",
       "      <td>Objects</td>\n",
       "      <td>Objects</td>\n",
       "    </tr>\n",
       "    <tr>\n",
       "      <th>24754</th>\n",
       "      <td>C0600321</td>\n",
       "      <td>Respiratory Airflow</td>\n",
       "      <td>Physiology</td>\n",
       "      <td>Physiology</td>\n",
       "    </tr>\n",
       "    <tr>\n",
       "      <th>156791</th>\n",
       "      <td>C0600321</td>\n",
       "      <td>Respiratory Airflow</td>\n",
       "      <td>Phenomena</td>\n",
       "      <td>Phenomena</td>\n",
       "    </tr>\n",
       "    <tr>\n",
       "      <th>32661</th>\n",
       "      <td>C0003296</td>\n",
       "      <td>Antidromic Potentials</td>\n",
       "      <td>Physiology</td>\n",
       "      <td>Physiology</td>\n",
       "    </tr>\n",
       "    <tr>\n",
       "      <th>73733</th>\n",
       "      <td>C0003296</td>\n",
       "      <td>Antidromic Potentials</td>\n",
       "      <td>Procedures</td>\n",
       "      <td>Procedures</td>\n",
       "    </tr>\n",
       "  </tbody>\n",
       "</table>\n",
       "</div>"
      ],
      "text/plain": [
       "              ID                                            name  \\\n",
       "30840   C0683532                       government health service   \n",
       "276378  C0683532                       government health service   \n",
       "79588   C0682953                           saturated dietary fat   \n",
       "248273  C0682953                           saturated dietary fat   \n",
       "85440   C0262798                    Clinical Information Systems   \n",
       "241550  C0262798                    Clinical Information Systems   \n",
       "58983   C0262877                     Medical Information Systems   \n",
       "245298  C0262877                     Medical Information Systems   \n",
       "134403  C1608931  Information Systems, Data Management, Hospital   \n",
       "197788  C1608931  Information Systems, Data Management, Hospital   \n",
       "64345   C0681669                               demographic trend   \n",
       "64670   C0681669                               demographic trend   \n",
       "7658    C0221192                                          Author   \n",
       "82199   C0221192                                          Author   \n",
       "116127  C0024681                  Management Information Systems   \n",
       "281233  C0024681                  Management Information Systems   \n",
       "42341   C0868961                                     Field crops   \n",
       "221598  C0868961                                     Field crops   \n",
       "51592   C0260014                     Coronary care units, Mobile   \n",
       "156176  C0260014                     Coronary care units, Mobile   \n",
       "38639   C0338036                                 Doctor's office   \n",
       "165935  C0338036                                 Doctor's office   \n",
       "112472  C0679901                           detoxification center   \n",
       "114629  C0679901                           detoxification center   \n",
       "74286   C0814517                           primary care facility   \n",
       "193098  C0814517                           primary care facility   \n",
       "116809  C1306377              Postoperative anesthesia care unit   \n",
       "292432  C1306377              Postoperative anesthesia care unit   \n",
       "55547   C1609437                             Primary care clinic   \n",
       "279853  C1609437                             Primary care clinic   \n",
       "24754   C0600321                             Respiratory Airflow   \n",
       "156791  C0600321                             Respiratory Airflow   \n",
       "32661   C0003296                           Antidromic Potentials   \n",
       "73733   C0003296                           Antidromic Potentials   \n",
       "\n",
       "                         LABEL              true_label  \n",
       "30840               Procedures              Procedures  \n",
       "276378  Activities & Behaviors  Activities & Behaviors  \n",
       "79588        Chemicals & Drugs       Chemicals & Drugs  \n",
       "248273                 Objects                 Objects  \n",
       "85440                  Devices                 Devices  \n",
       "241550        Concepts & Ideas        Concepts & Ideas  \n",
       "58983                  Devices                 Devices  \n",
       "245298        Concepts & Ideas        Concepts & Ideas  \n",
       "134403                 Devices                 Devices  \n",
       "197788        Concepts & Ideas        Concepts & Ideas  \n",
       "64345                Disorders               Disorders  \n",
       "64670         Concepts & Ideas        Concepts & Ideas  \n",
       "7658             Living Beings           Living Beings  \n",
       "82199         Concepts & Ideas        Concepts & Ideas  \n",
       "116127        Concepts & Ideas        Concepts & Ideas  \n",
       "281233                 Objects                 Objects  \n",
       "42341            Living Beings           Living Beings  \n",
       "221598                 Objects                 Objects  \n",
       "51592            Organizations           Organizations  \n",
       "156176                 Objects                 Objects  \n",
       "38639            Organizations           Organizations  \n",
       "165935                 Objects                 Objects  \n",
       "112472           Organizations           Organizations  \n",
       "114629                 Objects                 Objects  \n",
       "74286            Organizations           Organizations  \n",
       "193098                 Objects                 Objects  \n",
       "116809           Organizations           Organizations  \n",
       "292432                 Objects                 Objects  \n",
       "55547            Organizations           Organizations  \n",
       "279853                 Objects                 Objects  \n",
       "24754               Physiology              Physiology  \n",
       "156791               Phenomena               Phenomena  \n",
       "32661               Physiology              Physiology  \n",
       "73733               Procedures              Procedures  "
      ]
     },
     "execution_count": 32,
     "metadata": {},
     "output_type": "execute_result"
    }
   ],
   "source": [
    "# 1 and 7 are long, most are small\n",
    "idxs = list(i for i in range(12))\n",
    "idxs.remove(1)\n",
    "idxs.remove(7)\n",
    "\n",
    "pd.concat([look_at_semtype_pairs(problems, pairs[i]) for i in idxs])"
   ]
  },
  {
   "cell_type": "code",
   "execution_count": 33,
   "metadata": {},
   "outputs": [
    {
     "data": {
      "text/html": [
       "<div>\n",
       "<style>\n",
       "    .dataframe thead tr:only-child th {\n",
       "        text-align: right;\n",
       "    }\n",
       "\n",
       "    .dataframe thead th {\n",
       "        text-align: left;\n",
       "    }\n",
       "\n",
       "    .dataframe tbody tr th {\n",
       "        vertical-align: top;\n",
       "    }\n",
       "</style>\n",
       "<table border=\"1\" class=\"dataframe\">\n",
       "  <thead>\n",
       "    <tr style=\"text-align: right;\">\n",
       "      <th></th>\n",
       "      <th>ID</th>\n",
       "      <th>name</th>\n",
       "      <th>LABEL</th>\n",
       "      <th>true_label</th>\n",
       "    </tr>\n",
       "  </thead>\n",
       "  <tbody>\n",
       "    <tr>\n",
       "      <th>277530</th>\n",
       "      <td>C0002195</td>\n",
       "      <td>alpha 1-Proteinase Inhibitor F</td>\n",
       "      <td>Genes &amp; Molecular Sequences</td>\n",
       "      <td>Genes &amp; Molecular Sequences</td>\n",
       "    </tr>\n",
       "    <tr>\n",
       "      <th>95221</th>\n",
       "      <td>C0002195</td>\n",
       "      <td>alpha 1-Proteinase Inhibitor F</td>\n",
       "      <td>Chemicals &amp; Drugs</td>\n",
       "      <td>Chemicals &amp; Drugs</td>\n",
       "    </tr>\n",
       "    <tr>\n",
       "      <th>61654</th>\n",
       "      <td>C0002242</td>\n",
       "      <td>Alpha-Amanitine</td>\n",
       "      <td>Chemicals &amp; Drugs</td>\n",
       "      <td>Chemicals &amp; Drugs</td>\n",
       "    </tr>\n",
       "    <tr>\n",
       "      <th>271208</th>\n",
       "      <td>C0002242</td>\n",
       "      <td>Alpha-Amanitine</td>\n",
       "      <td>Genes &amp; Molecular Sequences</td>\n",
       "      <td>Genes &amp; Molecular Sequences</td>\n",
       "    </tr>\n",
       "    <tr>\n",
       "      <th>244229</th>\n",
       "      <td>C0003731</td>\n",
       "      <td>ARC-1</td>\n",
       "      <td>Genes &amp; Molecular Sequences</td>\n",
       "      <td>Genes &amp; Molecular Sequences</td>\n",
       "    </tr>\n",
       "    <tr>\n",
       "      <th>115779</th>\n",
       "      <td>C0003731</td>\n",
       "      <td>ARC-1</td>\n",
       "      <td>Chemicals &amp; Drugs</td>\n",
       "      <td>Chemicals &amp; Drugs</td>\n",
       "    </tr>\n",
       "    <tr>\n",
       "      <th>48016</th>\n",
       "      <td>C0004619</td>\n",
       "      <td>Bacterial Elongation Factor Tu</td>\n",
       "      <td>Chemicals &amp; Drugs</td>\n",
       "      <td>Chemicals &amp; Drugs</td>\n",
       "    </tr>\n",
       "    <tr>\n",
       "      <th>275979</th>\n",
       "      <td>C0004619</td>\n",
       "      <td>Bacterial Elongation Factor Tu</td>\n",
       "      <td>Genes &amp; Molecular Sequences</td>\n",
       "      <td>Genes &amp; Molecular Sequences</td>\n",
       "    </tr>\n",
       "    <tr>\n",
       "      <th>119677</th>\n",
       "      <td>C0005179</td>\n",
       "      <td>beta-1 Globin</td>\n",
       "      <td>Genes &amp; Molecular Sequences</td>\n",
       "      <td>Genes &amp; Molecular Sequences</td>\n",
       "    </tr>\n",
       "    <tr>\n",
       "      <th>54785</th>\n",
       "      <td>C0005179</td>\n",
       "      <td>beta-1 Globin</td>\n",
       "      <td>Chemicals &amp; Drugs</td>\n",
       "      <td>Chemicals &amp; Drugs</td>\n",
       "    </tr>\n",
       "    <tr>\n",
       "      <th>74367</th>\n",
       "      <td>C0005257</td>\n",
       "      <td>beta-Lipotropin</td>\n",
       "      <td>Genes &amp; Molecular Sequences</td>\n",
       "      <td>Genes &amp; Molecular Sequences</td>\n",
       "    </tr>\n",
       "    <tr>\n",
       "      <th>47281</th>\n",
       "      <td>C0005257</td>\n",
       "      <td>beta-Lipotropin</td>\n",
       "      <td>Chemicals &amp; Drugs</td>\n",
       "      <td>Chemicals &amp; Drugs</td>\n",
       "    </tr>\n",
       "    <tr>\n",
       "      <th>52475</th>\n",
       "      <td>C0009543</td>\n",
       "      <td>Complement inhibitor</td>\n",
       "      <td>Chemicals &amp; Drugs</td>\n",
       "      <td>Chemicals &amp; Drugs</td>\n",
       "    </tr>\n",
       "    <tr>\n",
       "      <th>138955</th>\n",
       "      <td>C0009543</td>\n",
       "      <td>Complement inhibitor</td>\n",
       "      <td>Genes &amp; Molecular Sequences</td>\n",
       "      <td>Genes &amp; Molecular Sequences</td>\n",
       "    </tr>\n",
       "    <tr>\n",
       "      <th>95627</th>\n",
       "      <td>C0010809</td>\n",
       "      <td>Cytokeratin D</td>\n",
       "      <td>Chemicals &amp; Drugs</td>\n",
       "      <td>Chemicals &amp; Drugs</td>\n",
       "    </tr>\n",
       "    <tr>\n",
       "      <th>115138</th>\n",
       "      <td>C0010809</td>\n",
       "      <td>Cytokeratin D</td>\n",
       "      <td>Genes &amp; Molecular Sequences</td>\n",
       "      <td>Genes &amp; Molecular Sequences</td>\n",
       "    </tr>\n",
       "  </tbody>\n",
       "</table>\n",
       "</div>"
      ],
      "text/plain": [
       "              ID                            name                        LABEL  \\\n",
       "277530  C0002195  alpha 1-Proteinase Inhibitor F  Genes & Molecular Sequences   \n",
       "95221   C0002195  alpha 1-Proteinase Inhibitor F            Chemicals & Drugs   \n",
       "61654   C0002242                 Alpha-Amanitine            Chemicals & Drugs   \n",
       "271208  C0002242                 Alpha-Amanitine  Genes & Molecular Sequences   \n",
       "244229  C0003731                           ARC-1  Genes & Molecular Sequences   \n",
       "115779  C0003731                           ARC-1            Chemicals & Drugs   \n",
       "48016   C0004619  Bacterial Elongation Factor Tu            Chemicals & Drugs   \n",
       "275979  C0004619  Bacterial Elongation Factor Tu  Genes & Molecular Sequences   \n",
       "119677  C0005179                   beta-1 Globin  Genes & Molecular Sequences   \n",
       "54785   C0005179                   beta-1 Globin            Chemicals & Drugs   \n",
       "74367   C0005257                 beta-Lipotropin  Genes & Molecular Sequences   \n",
       "47281   C0005257                 beta-Lipotropin            Chemicals & Drugs   \n",
       "52475   C0009543            Complement inhibitor            Chemicals & Drugs   \n",
       "138955  C0009543            Complement inhibitor  Genes & Molecular Sequences   \n",
       "95627   C0010809                   Cytokeratin D            Chemicals & Drugs   \n",
       "115138  C0010809                   Cytokeratin D  Genes & Molecular Sequences   \n",
       "\n",
       "                         true_label  \n",
       "277530  Genes & Molecular Sequences  \n",
       "95221             Chemicals & Drugs  \n",
       "61654             Chemicals & Drugs  \n",
       "271208  Genes & Molecular Sequences  \n",
       "244229  Genes & Molecular Sequences  \n",
       "115779            Chemicals & Drugs  \n",
       "48016             Chemicals & Drugs  \n",
       "275979  Genes & Molecular Sequences  \n",
       "119677  Genes & Molecular Sequences  \n",
       "54785             Chemicals & Drugs  \n",
       "74367   Genes & Molecular Sequences  \n",
       "47281             Chemicals & Drugs  \n",
       "52475             Chemicals & Drugs  \n",
       "138955  Genes & Molecular Sequences  \n",
       "95627             Chemicals & Drugs  \n",
       "115138  Genes & Molecular Sequences  "
      ]
     },
     "execution_count": 33,
     "metadata": {},
     "output_type": "execute_result"
    }
   ],
   "source": [
    "look_at_semtype_pairs(problems, pairs[1]).head(16)"
   ]
  },
  {
   "cell_type": "code",
   "execution_count": 34,
   "metadata": {},
   "outputs": [
    {
     "data": {
      "text/html": [
       "<div>\n",
       "<style>\n",
       "    .dataframe thead tr:only-child th {\n",
       "        text-align: right;\n",
       "    }\n",
       "\n",
       "    .dataframe thead th {\n",
       "        text-align: left;\n",
       "    }\n",
       "\n",
       "    .dataframe tbody tr th {\n",
       "        vertical-align: top;\n",
       "    }\n",
       "</style>\n",
       "<table border=\"1\" class=\"dataframe\">\n",
       "  <thead>\n",
       "    <tr style=\"text-align: right;\">\n",
       "      <th></th>\n",
       "      <th>ID</th>\n",
       "      <th>name</th>\n",
       "      <th>LABEL</th>\n",
       "      <th>true_label</th>\n",
       "    </tr>\n",
       "  </thead>\n",
       "  <tbody>\n",
       "    <tr>\n",
       "      <th>230547</th>\n",
       "      <td>C0679579</td>\n",
       "      <td>Barron-Welsh Art Scale</td>\n",
       "      <td>Procedures</td>\n",
       "      <td>Procedures</td>\n",
       "    </tr>\n",
       "    <tr>\n",
       "      <th>107039</th>\n",
       "      <td>C0679579</td>\n",
       "      <td>Barron-Welsh Art Scale</td>\n",
       "      <td>Concepts &amp; Ideas</td>\n",
       "      <td>Concepts &amp; Ideas</td>\n",
       "    </tr>\n",
       "    <tr>\n",
       "      <th>89536</th>\n",
       "      <td>C0681925</td>\n",
       "      <td>logistic regression analysis</td>\n",
       "      <td>Procedures</td>\n",
       "      <td>Procedures</td>\n",
       "    </tr>\n",
       "    <tr>\n",
       "      <th>100499</th>\n",
       "      <td>C0681925</td>\n",
       "      <td>logistic regression analysis</td>\n",
       "      <td>Concepts &amp; Ideas</td>\n",
       "      <td>Concepts &amp; Ideas</td>\n",
       "    </tr>\n",
       "    <tr>\n",
       "      <th>84829</th>\n",
       "      <td>C0681926</td>\n",
       "      <td>multiple analysis of variance</td>\n",
       "      <td>Concepts &amp; Ideas</td>\n",
       "      <td>Concepts &amp; Ideas</td>\n",
       "    </tr>\n",
       "    <tr>\n",
       "      <th>128543</th>\n",
       "      <td>C0681926</td>\n",
       "      <td>multiple analysis of variance</td>\n",
       "      <td>Procedures</td>\n",
       "      <td>Procedures</td>\n",
       "    </tr>\n",
       "    <tr>\n",
       "      <th>156394</th>\n",
       "      <td>C0681927</td>\n",
       "      <td>bivariate analysis</td>\n",
       "      <td>Concepts &amp; Ideas</td>\n",
       "      <td>Concepts &amp; Ideas</td>\n",
       "    </tr>\n",
       "    <tr>\n",
       "      <th>89457</th>\n",
       "      <td>C0681927</td>\n",
       "      <td>bivariate analysis</td>\n",
       "      <td>Procedures</td>\n",
       "      <td>Procedures</td>\n",
       "    </tr>\n",
       "    <tr>\n",
       "      <th>203187</th>\n",
       "      <td>C0681928</td>\n",
       "      <td>canonical correlation analysis</td>\n",
       "      <td>Procedures</td>\n",
       "      <td>Procedures</td>\n",
       "    </tr>\n",
       "    <tr>\n",
       "      <th>81080</th>\n",
       "      <td>C0681928</td>\n",
       "      <td>canonical correlation analysis</td>\n",
       "      <td>Concepts &amp; Ideas</td>\n",
       "      <td>Concepts &amp; Ideas</td>\n",
       "    </tr>\n",
       "    <tr>\n",
       "      <th>159804</th>\n",
       "      <td>C0681944</td>\n",
       "      <td>causal model</td>\n",
       "      <td>Concepts &amp; Ideas</td>\n",
       "      <td>Concepts &amp; Ideas</td>\n",
       "    </tr>\n",
       "    <tr>\n",
       "      <th>101636</th>\n",
       "      <td>C0681944</td>\n",
       "      <td>causal model</td>\n",
       "      <td>Procedures</td>\n",
       "      <td>Procedures</td>\n",
       "    </tr>\n",
       "    <tr>\n",
       "      <th>168401</th>\n",
       "      <td>C0681945</td>\n",
       "      <td>common factor model</td>\n",
       "      <td>Concepts &amp; Ideas</td>\n",
       "      <td>Concepts &amp; Ideas</td>\n",
       "    </tr>\n",
       "    <tr>\n",
       "      <th>211679</th>\n",
       "      <td>C0681945</td>\n",
       "      <td>common factor model</td>\n",
       "      <td>Procedures</td>\n",
       "      <td>Procedures</td>\n",
       "    </tr>\n",
       "    <tr>\n",
       "      <th>241685</th>\n",
       "      <td>C0683450</td>\n",
       "      <td>Family Crisis-Oriented Personal Evaluation Scales</td>\n",
       "      <td>Procedures</td>\n",
       "      <td>Procedures</td>\n",
       "    </tr>\n",
       "    <tr>\n",
       "      <th>119372</th>\n",
       "      <td>C0683450</td>\n",
       "      <td>Family Crisis-Oriented Personal Evaluation Scales</td>\n",
       "      <td>Concepts &amp; Ideas</td>\n",
       "      <td>Concepts &amp; Ideas</td>\n",
       "    </tr>\n",
       "  </tbody>\n",
       "</table>\n",
       "</div>"
      ],
      "text/plain": [
       "              ID                                               name  \\\n",
       "230547  C0679579                             Barron-Welsh Art Scale   \n",
       "107039  C0679579                             Barron-Welsh Art Scale   \n",
       "89536   C0681925                       logistic regression analysis   \n",
       "100499  C0681925                       logistic regression analysis   \n",
       "84829   C0681926                      multiple analysis of variance   \n",
       "128543  C0681926                      multiple analysis of variance   \n",
       "156394  C0681927                                 bivariate analysis   \n",
       "89457   C0681927                                 bivariate analysis   \n",
       "203187  C0681928                     canonical correlation analysis   \n",
       "81080   C0681928                     canonical correlation analysis   \n",
       "159804  C0681944                                       causal model   \n",
       "101636  C0681944                                       causal model   \n",
       "168401  C0681945                                common factor model   \n",
       "211679  C0681945                                common factor model   \n",
       "241685  C0683450  Family Crisis-Oriented Personal Evaluation Scales   \n",
       "119372  C0683450  Family Crisis-Oriented Personal Evaluation Scales   \n",
       "\n",
       "                   LABEL        true_label  \n",
       "230547        Procedures        Procedures  \n",
       "107039  Concepts & Ideas  Concepts & Ideas  \n",
       "89536         Procedures        Procedures  \n",
       "100499  Concepts & Ideas  Concepts & Ideas  \n",
       "84829   Concepts & Ideas  Concepts & Ideas  \n",
       "128543        Procedures        Procedures  \n",
       "156394  Concepts & Ideas  Concepts & Ideas  \n",
       "89457         Procedures        Procedures  \n",
       "203187        Procedures        Procedures  \n",
       "81080   Concepts & Ideas  Concepts & Ideas  \n",
       "159804  Concepts & Ideas  Concepts & Ideas  \n",
       "101636        Procedures        Procedures  \n",
       "168401  Concepts & Ideas  Concepts & Ideas  \n",
       "211679        Procedures        Procedures  \n",
       "241685        Procedures        Procedures  \n",
       "119372  Concepts & Ideas  Concepts & Ideas  "
      ]
     },
     "execution_count": 34,
     "metadata": {},
     "output_type": "execute_result"
    }
   ],
   "source": [
    "look_at_semtype_pairs(problems, pairs[7]).head(16)"
   ]
  },
  {
   "cell_type": "code",
   "execution_count": 35,
   "metadata": {
    "collapsed": true
   },
   "outputs": [],
   "source": [
    "semtype_hierarchy = [['Concepts & Ideas', 'Living Beings'],\n",
    "                     ['Concepts & Ideas', 'Devices'],\n",
    "                     ['Concepts & Ideas', 'Objects'],\n",
    "                     ['Concepts & Ideas', 'Disorders'],\n",
    "                     ['Physiology', 'Phenomena'], \n",
    "                     ['Physiology', 'Procedures'], \n",
    "                     ['Chemicals & Drugs', 'Objects'],\n",
    "                     ['Procedures', 'Activities & Behaviors'],\n",
    "                     ['Organizations', 'Objects'],\n",
    "                     ['Living Beings', 'Objects'],\n",
    "                     ['Procedures', 'Concepts & Ideas'],\n",
    "                     ['Genes & Molecular Sequences', 'Chemicals & Drugs']]"
   ]
  },
  {
   "cell_type": "code",
   "execution_count": 36,
   "metadata": {
    "collapsed": true
   },
   "outputs": [],
   "source": [
    "def fix_multi_semtype(dups, semtypes):\n",
    "    \n",
    "    # Get the duplicates for the given types\n",
    "    types = dups['LABEL'] == semtypes[0]\n",
    "    for p in semtypes[1:]:\n",
    "        current_type = dups['LABEL'] == p\n",
    "        types = types | current_type\n",
    "        \n",
    "    # Only keep those where the ID appears multiple times\n",
    "    duplicated = dups[types][dups.loc[types, 'ID'].duplicated(keep=False)]\n",
    "    to_remove = duplicated.index\n",
    "    duplicated = duplicated.reset_index(drop=True)\n",
    "    \n",
    "    \n",
    "    # Switch to the preferred type\n",
    "    duplicated['LABEL'] = semtypes[0]\n",
    "    # Now remove the duplicates\n",
    "    duplicated = duplicated.drop_duplicates()\n",
    "    \n",
    "    # return the fixed data\n",
    "    return duplicated.reset_index(drop=True), to_remove\n"
   ]
  },
  {
   "cell_type": "code",
   "execution_count": 37,
   "metadata": {
    "collapsed": true
   },
   "outputs": [],
   "source": [
    "fixed_multi_types = []\n",
    "for pair in semtype_hierarchy:\n",
    "    fixed, remove = fix_multi_semtype(problems, pair)\n",
    "    fixed_multi_types.append(fixed)\n",
    "    problems.drop(remove, inplace=True)\n",
    "fixed_semtype_df = pd.concat(fixed_multi_types)"
   ]
  },
  {
   "cell_type": "code",
   "execution_count": 38,
   "metadata": {
    "collapsed": true
   },
   "outputs": [],
   "source": [
    "fixed_semtype_df['true_label'] = fixed_semtype_df['LABEL']\n",
    "fixed_semtype_df = fixed_semtype_df.drop_duplicates().reset_index(drop=True)"
   ]
  },
  {
   "cell_type": "markdown",
   "metadata": {},
   "source": [
    "### Recombine all the nodes with the new semmantic types"
   ]
  },
  {
   "cell_type": "code",
   "execution_count": 39,
   "metadata": {},
   "outputs": [
    {
     "name": "stdout",
     "output_type": "stream",
     "text": [
      "Went from 304433 to 269552 nodes by setting semantic type\n",
      "268918 Unique CUIs\n"
     ]
    }
   ],
   "source": [
    "before_len = len(nodes)\n",
    "nodes = nodes.drop(potential_problems.index)\n",
    "nodes = pd.concat([nodes, fixed_probs, fixed_semtype_df])\n",
    "nodes['LABEL'] = nodes['true_label']\n",
    "nodes = nodes[['ID', 'name', 'LABEL']].drop_duplicates().reset_index(drop=True)\n",
    "\n",
    "print(\"Went from {} to {} nodes by setting semantic type\".format(before_len, len(nodes)))\n",
    "print(\"{} Unique CUIs\".format(nodes['ID'].nunique()))"
   ]
  },
  {
   "cell_type": "code",
   "execution_count": 40,
   "metadata": {},
   "outputs": [
    {
     "data": {
      "text/html": [
       "<div>\n",
       "<style>\n",
       "    .dataframe thead tr:only-child th {\n",
       "        text-align: right;\n",
       "    }\n",
       "\n",
       "    .dataframe thead th {\n",
       "        text-align: left;\n",
       "    }\n",
       "\n",
       "    .dataframe tbody tr th {\n",
       "        vertical-align: top;\n",
       "    }\n",
       "</style>\n",
       "<table border=\"1\" class=\"dataframe\">\n",
       "  <thead>\n",
       "    <tr style=\"text-align: right;\">\n",
       "      <th></th>\n",
       "      <th>ID</th>\n",
       "      <th>name</th>\n",
       "      <th>LABEL</th>\n",
       "    </tr>\n",
       "  </thead>\n",
       "  <tbody>\n",
       "    <tr>\n",
       "      <th>206525</th>\n",
       "      <td>C0008288</td>\n",
       "      <td>CIPC gene</td>\n",
       "      <td>Genes &amp; Molecular Sequences</td>\n",
       "    </tr>\n",
       "    <tr>\n",
       "      <th>25593</th>\n",
       "      <td>C0008288</td>\n",
       "      <td>Chlorpropham</td>\n",
       "      <td>Genes &amp; Molecular Sequences</td>\n",
       "    </tr>\n",
       "    <tr>\n",
       "      <th>100814</th>\n",
       "      <td>C0017351</td>\n",
       "      <td>IGH gene</td>\n",
       "      <td>Genes &amp; Molecular Sequences</td>\n",
       "    </tr>\n",
       "    <tr>\n",
       "      <th>60237</th>\n",
       "      <td>C0017351</td>\n",
       "      <td>IGH@ gene cluster</td>\n",
       "      <td>Genes &amp; Molecular Sequences</td>\n",
       "    </tr>\n",
       "    <tr>\n",
       "      <th>110538</th>\n",
       "      <td>C0026574</td>\n",
       "      <td>MOS gene</td>\n",
       "      <td>Genes &amp; Molecular Sequences</td>\n",
       "    </tr>\n",
       "    <tr>\n",
       "      <th>226206</th>\n",
       "      <td>C0026574</td>\n",
       "      <td>mos Oncogenes</td>\n",
       "      <td>Genes &amp; Molecular Sequences</td>\n",
       "    </tr>\n",
       "    <tr>\n",
       "      <th>215206</th>\n",
       "      <td>C0026900</td>\n",
       "      <td>v-myb Genes</td>\n",
       "      <td>Genes &amp; Molecular Sequences</td>\n",
       "    </tr>\n",
       "    <tr>\n",
       "      <th>129620</th>\n",
       "      <td>C0026900</td>\n",
       "      <td>MYB gene</td>\n",
       "      <td>Genes &amp; Molecular Sequences</td>\n",
       "    </tr>\n",
       "    <tr>\n",
       "      <th>86510</th>\n",
       "      <td>C0035018</td>\n",
       "      <td>v-rel Genes</td>\n",
       "      <td>Genes &amp; Molecular Sequences</td>\n",
       "    </tr>\n",
       "    <tr>\n",
       "      <th>108998</th>\n",
       "      <td>C0035018</td>\n",
       "      <td>REL gene</td>\n",
       "      <td>Genes &amp; Molecular Sequences</td>\n",
       "    </tr>\n",
       "  </tbody>\n",
       "</table>\n",
       "</div>"
      ],
      "text/plain": [
       "              ID               name                        LABEL\n",
       "206525  C0008288          CIPC gene  Genes & Molecular Sequences\n",
       "25593   C0008288       Chlorpropham  Genes & Molecular Sequences\n",
       "100814  C0017351           IGH gene  Genes & Molecular Sequences\n",
       "60237   C0017351  IGH@ gene cluster  Genes & Molecular Sequences\n",
       "110538  C0026574           MOS gene  Genes & Molecular Sequences\n",
       "226206  C0026574      mos Oncogenes  Genes & Molecular Sequences\n",
       "215206  C0026900        v-myb Genes  Genes & Molecular Sequences\n",
       "129620  C0026900           MYB gene  Genes & Molecular Sequences\n",
       "86510   C0035018        v-rel Genes  Genes & Molecular Sequences\n",
       "108998  C0035018           REL gene  Genes & Molecular Sequences"
      ]
     },
     "execution_count": 40,
     "metadata": {},
     "output_type": "execute_result"
    }
   ],
   "source": [
    "nodes[nodes['ID'].duplicated(keep=False)].sort_values('ID').head(10)"
   ]
  },
  {
   "cell_type": "markdown",
   "metadata": {},
   "source": [
    "It appears that there are many with two names for the same CUI. If we already have all the names from pinging hte UMLS API earlier, then we can just normalize them to the api results.\n",
    "\n",
    "Lets check that all of these CUIs are in our cui_to_name mapper from previous notebook..."
   ]
  },
  {
   "cell_type": "code",
   "execution_count": 41,
   "metadata": {},
   "outputs": [
    {
     "data": {
      "text/plain": [
       "True"
      ]
     },
     "execution_count": 41,
     "metadata": {},
     "output_type": "execute_result"
    }
   ],
   "source": [
    "c_to_name_dict = pickle.load(open( \"../data/cui_to_name.pkl\", \"rb\" ))\n",
    "\n",
    "ids = set(nodes[nodes['ID'].duplicated(keep=False)].sort_values('ID')['ID'].unique())\n",
    "ids.issubset(set(c_to_name_dict.keys()))"
   ]
  },
  {
   "cell_type": "markdown",
   "metadata": {},
   "source": [
    "And now just apply the new names"
   ]
  },
  {
   "cell_type": "code",
   "execution_count": 42,
   "metadata": {
    "collapsed": true
   },
   "outputs": [],
   "source": [
    "multi_names = nodes['ID'].duplicated(keep=False)\n",
    "nodes.loc[multi_names, 'name'] = nodes.loc[multi_names, 'ID'].apply(lambda x: c_to_name_dict[x])\n",
    "nodes = nodes.drop_duplicates().reset_index(drop=True)"
   ]
  },
  {
   "cell_type": "code",
   "execution_count": 43,
   "metadata": {},
   "outputs": [
    {
     "name": "stdout",
     "output_type": "stream",
     "text": [
      "There are 268918 nodes with 268918 unique IDs\n"
     ]
    }
   ],
   "source": [
    "print('There are {} nodes with {} unique IDs'.format(nodes.shape[0], nodes['ID'].nunique()))"
   ]
  },
  {
   "cell_type": "markdown",
   "metadata": {},
   "source": [
    "Looks like we finally have a 1:1 relationship of unique IDs to rows in our nodes table"
   ]
  },
  {
   "cell_type": "markdown",
   "metadata": {
    "collapsed": true
   },
   "source": [
    "## Subsetting Diseases -  DOIDs\n",
    "\n",
    "Ensure diseases in this graph are all mappable to a Disease Ontology ID"
   ]
  },
  {
   "cell_type": "code",
   "execution_count": 44,
   "metadata": {},
   "outputs": [
    {
     "name": "stdout",
     "output_type": "stream",
     "text": [
      "6609\n"
     ]
    },
    {
     "data": {
      "text/html": [
       "<div>\n",
       "<style>\n",
       "    .dataframe thead tr:only-child th {\n",
       "        text-align: right;\n",
       "    }\n",
       "\n",
       "    .dataframe thead th {\n",
       "        text-align: left;\n",
       "    }\n",
       "\n",
       "    .dataframe tbody tr th {\n",
       "        vertical-align: top;\n",
       "    }\n",
       "</style>\n",
       "<table border=\"1\" class=\"dataframe\">\n",
       "  <thead>\n",
       "    <tr style=\"text-align: right;\">\n",
       "      <th></th>\n",
       "      <th>doid</th>\n",
       "      <th>umlscui</th>\n",
       "    </tr>\n",
       "  </thead>\n",
       "  <tbody>\n",
       "    <tr>\n",
       "      <th>0</th>\n",
       "      <td>DOID:8741</td>\n",
       "      <td>C0036508</td>\n",
       "    </tr>\n",
       "    <tr>\n",
       "      <th>1</th>\n",
       "      <td>DOID:11907</td>\n",
       "      <td>C0013568</td>\n",
       "    </tr>\n",
       "    <tr>\n",
       "      <th>2</th>\n",
       "      <td>DOID:9835</td>\n",
       "      <td>C0034951</td>\n",
       "    </tr>\n",
       "    <tr>\n",
       "      <th>3</th>\n",
       "      <td>DOID:0060263</td>\n",
       "      <td>C0302892</td>\n",
       "    </tr>\n",
       "    <tr>\n",
       "      <th>4</th>\n",
       "      <td>DOID:0060263</td>\n",
       "      <td>C1867983</td>\n",
       "    </tr>\n",
       "  </tbody>\n",
       "</table>\n",
       "</div>"
      ],
      "text/plain": [
       "           doid   umlscui\n",
       "0     DOID:8741  C0036508\n",
       "1    DOID:11907  C0013568\n",
       "2     DOID:9835  C0034951\n",
       "3  DOID:0060263  C0302892\n",
       "4  DOID:0060263  C1867983"
      ]
     },
     "execution_count": 44,
     "metadata": {},
     "output_type": "execute_result"
    }
   ],
   "source": [
    "doid_cui = pd.read_csv('../doid-to-umls.csv')\n",
    "print(len(doid_cui))\n",
    "doid_cui.head()"
   ]
  },
  {
   "cell_type": "code",
   "execution_count": 45,
   "metadata": {
    "collapsed": true
   },
   "outputs": [],
   "source": [
    "disease_cuis = doid_cui['umlscui'].values"
   ]
  },
  {
   "cell_type": "code",
   "execution_count": 46,
   "metadata": {
    "collapsed": true
   },
   "outputs": [],
   "source": [
    "didx = nodes.query('ID in @disease_cuis').index\n",
    "nodes.loc[didx, 'LABEL'] = 'Disease'"
   ]
  },
  {
   "cell_type": "markdown",
   "metadata": {},
   "source": [
    "## Reduce the number of Compounds\n",
    "\n",
    "Try to reduce the numbe of compounds in a similar manner"
   ]
  },
  {
   "cell_type": "markdown",
   "metadata": {},
   "source": [
    "Here are the different T codes for the various Chemicals and Drugs... ones that we think may be interesting to look at as treatment compounds have been highlighted:\n",
    "\n",
    "T116 - Amino Acid, Peptide, or Protein  \n",
    "T195 - Antibiotic  \n",
    "T123 - Biologically Active Substance  \n",
    "T122 - Biomedical or Dental Material  \n",
    "T118 - Carbohydrate  \n",
    "T103 - Chemical  \n",
    "T120 - Chemical Viewed Functionally  \n",
    "T104 - Chemical Viewed Structurally  \n",
    "**T200 - Clinical Drug**  \n",
    "T111 - Eicosanoid  \n",
    "T196 - Element, Ion, or Isotope  \n",
    "T126 - Enzyme  \n",
    "T131 - Hazardous or Poisonous Substance  \n",
    "T125 - Hormone  \n",
    "T129 - Immunologic Factor  \n",
    "T130 - Indicator, Reagent, or Diagnostic Aid  \n",
    "T197 - Inorganic Chemical  \n",
    "T119 - Lipid  \n",
    "T124 - Neuroreactive Substance or Biogenic Amine  \n",
    "T114 - Nucleic Acid, Nucleoside, or Nucleotide  \n",
    "**T109 - Organic Chemical**  \n",
    "T115 - Organophosphorus Compound  \n",
    "T121 - Pharmacologic Substance  \n",
    "T192 - Receptor  \n",
    "T110 - Steroid  \n",
    "T127 - Vitamin   \n"
   ]
  },
  {
   "cell_type": "code",
   "execution_count": 47,
   "metadata": {
    "collapsed": true
   },
   "outputs": [],
   "source": [
    "good_types = set(['T109', 'T200'])\n",
    "\n",
    "comps = []\n",
    "\n",
    "for i, (k, v) in enumerate(cui_to_t_code.items()):\n",
    "    if len(good_types.intersection(set(v))) > 0:\n",
    "        comps.append(k)\n"
   ]
  },
  {
   "cell_type": "code",
   "execution_count": 48,
   "metadata": {
    "collapsed": true
   },
   "outputs": [],
   "source": [
    "comps_in_graph = list(set(nodes['ID']).intersection(set(comps)))\n",
    "\n",
    "comps_idx = nodes.query('ID in @comps_in_graph').index\n",
    "\n",
    "nodes.loc[comps_idx, 'LABEL'] = 'Compound'"
   ]
  },
  {
   "cell_type": "code",
   "execution_count": 49,
   "metadata": {
    "scrolled": true
   },
   "outputs": [
    {
     "data": {
      "text/plain": [
       "Chemicals & Drugs              78321\n",
       "Living Beings                  49094\n",
       "Disorders                      38301\n",
       "Genes & Molecular Sequences    20934\n",
       "Compound                       20196\n",
       "Procedures                     16415\n",
       "Anatomy                        15533\n",
       "Physiology                      8579\n",
       "Devices                         4989\n",
       "Disease                         4943\n",
       "Concepts & Ideas                4711\n",
       "Objects                         1832\n",
       "Activities & Behaviors          1541\n",
       "Phenomena                       1378\n",
       "Organizations                    907\n",
       "Occupations                      734\n",
       "Geographic Areas                 510\n",
       "Name: LABEL, dtype: int64"
      ]
     },
     "execution_count": 49,
     "metadata": {},
     "output_type": "execute_result"
    }
   ],
   "source": [
    "nodes['LABEL'].value_counts()"
   ]
  },
  {
   "cell_type": "code",
   "execution_count": 50,
   "metadata": {},
   "outputs": [
    {
     "data": {
      "text/plain": [
       "'20,196 Compounds * 4,943 Diseases = 99,828,828 C-D Pairs'"
      ]
     },
     "execution_count": 50,
     "metadata": {},
     "output_type": "execute_result"
    }
   ],
   "source": [
    "c = (nodes['LABEL'] == 'Compound').sum()\n",
    "d = (nodes['LABEL'] == 'Disease').sum()\n",
    "\n",
    "'{:,} Compounds * {:,} Diseases = {:,} C-D Pairs'.format(c, d, c*d)"
   ]
  },
  {
   "cell_type": "markdown",
   "metadata": {},
   "source": [
    "# Edges File"
   ]
  },
  {
   "cell_type": "markdown",
   "metadata": {},
   "source": [
    "## Prediacate types\n",
    "\n",
    "[Semmed Docs](https://skr3.nlm.nih.gov/SemMed/jsp/SemMedDocumentation2.pdf)\n",
    "\n",
    "\n",
    "The docs above show only 26 predicates, lets see how many the data actually contains an and what they are..."
   ]
  },
  {
   "cell_type": "code",
   "execution_count": 51,
   "metadata": {},
   "outputs": [
    {
     "data": {
      "text/plain": [
       "LOCATION_OF             2746340\n",
       "INTERACTS_WITH          1813431\n",
       "PART_OF                 1808284\n",
       "AFFECTS                 1765977\n",
       "COEXISTS_WITH           1750633\n",
       "TREATS                  1476188\n",
       "STIMULATES              1074318\n",
       "PROCESS_OF               908047\n",
       "CAUSES                   879335\n",
       "INHIBITS                 867715\n",
       "ASSOCIATED_WITH          824583\n",
       "AUGMENTS                 701009\n",
       "USES                     615550\n",
       "PRODUCES                 522216\n",
       "DISRUPTS                 503144\n",
       "compared_with            452265\n",
       "ISA                      403766\n",
       "DIAGNOSES                263966\n",
       "PREDISPOSES              246934\n",
       "METHOD_OF                204355\n",
       "ADMINISTERED_TO          184601\n",
       "PREVENTS                 182918\n",
       "NEG_AFFECTS              144872\n",
       "higher_than              130226\n",
       "NEG_INTERACTS_WITH       130151\n",
       "PRECEDES                  99986\n",
       "OCCURS_IN                 65425\n",
       "NEG_LOCATION_OF           61314\n",
       "CONVERTS_TO               57636\n",
       "NEG_COEXISTS_WITH         50412\n",
       "                         ...   \n",
       "MANIFESTATION_OF          41036\n",
       "COMPLICATES               36937\n",
       "NEG_INHIBITS              34516\n",
       "NEG_PROCESS_OF            31704\n",
       "NEG_CAUSES                31102\n",
       "NEG_PART_OF               30903\n",
       "same_as                   27317\n",
       "NEG_AUGMENTS              26937\n",
       "lower_than                25667\n",
       "NEG_PRODUCES              23498\n",
       "NEG_ASSOCIATED_WITH       23370\n",
       "NEG_DISRUPTS              21023\n",
       "NEG_PREDISPOSES           11091\n",
       "NEG_USES                  10226\n",
       "NEG_ADMINISTERED_TO        8931\n",
       "NEG_PREVENTS               7967\n",
       "NEG_DIAGNOSES              7473\n",
       "different_from             6996\n",
       "NEG_METHOD_OF              5419\n",
       "NEG_higher_than            4441\n",
       "NEG_OCCURS_IN              2014\n",
       "different_than             1743\n",
       "NEG_PRECEDES               1545\n",
       "NEG_CONVERTS_TO             604\n",
       "NEG_COMPLICATES             594\n",
       "NEG_MANIFESTATION_OF        578\n",
       "NEG_lower_than              553\n",
       "than_as                      15\n",
       "higher_from                   4\n",
       "1176                          1\n",
       "Name: PREDICATE, Length: 62, dtype: int64"
      ]
     },
     "execution_count": 51,
     "metadata": {},
     "output_type": "execute_result"
    }
   ],
   "source": [
    "sem_df['PREDICATE'].value_counts()"
   ]
  },
  {
   "cell_type": "markdown",
   "metadata": {},
   "source": [
    "Looks like 62 total predicates.  There are negated predicats, but still, negating all should only yield 52 total.  There are also some that are all lower-case, which do not seem to be found in the documents."
   ]
  },
  {
   "cell_type": "code",
   "execution_count": 56,
   "metadata": {},
   "outputs": [
    {
     "data": {
      "text/plain": [
       "array(['ISA', 'PART_OF', 'PROCESS_OF', 'TREATS', 'LOCATION_OF',\n",
       "       'METHOD_OF', 'INTERACTS_WITH', 'COEXISTS_WITH', 'DIAGNOSES',\n",
       "       'CAUSES', 'AFFECTS', 'ASSOCIATED_WITH', 'USES', 'PRECEDES',\n",
       "       'compared_with', 'PREVENTS', 'NEG_INHIBITS', 'ADMINISTERED_TO',\n",
       "       'OCCURS_IN', 'NEG_ADMINISTERED_TO', 'STIMULATES', 'DISRUPTS',\n",
       "       'COMPLICATES', 'higher_than', 'INHIBITS', 'AUGMENTS',\n",
       "       'MANIFESTATION_OF', 'different_from', 'NEG_AFFECTS', 'PREDISPOSES',\n",
       "       'NEG_higher_than', 'same_as', 'PRODUCES', 'NEG_DISRUPTS',\n",
       "       'NEG_CAUSES', 'NEG_INTERACTS_WITH', 'NEG_PROCESS_OF',\n",
       "       'NEG_COEXISTS_WITH', 'NEG_PART_OF', 'NEG_USES', 'lower_than',\n",
       "       'NEG_PREVENTS', 'NEG_LOCATION_OF', 'NEG_METHOD_OF', 'CONVERTS_TO',\n",
       "       'NEG_DIAGNOSES', 'NEG_AUGMENTS', 'NEG_PREDISPOSES', 'NEG_TREATS',\n",
       "       'NEG_ASSOCIATED_WITH', 'NEG_PRODUCES', 'NEG_COMPLICATES',\n",
       "       'NEG_STIMULATES', 'NEG_OCCURS_IN', 'different_than',\n",
       "       'NEG_CONVERTS_TO', 'NEG_lower_than', 'NEG_MANIFESTATION_OF',\n",
       "       'NEG_PRECEDES', 'higher_from', 'than_as', '1176'], dtype=object)"
      ]
     },
     "execution_count": 56,
     "metadata": {},
     "output_type": "execute_result"
    }
   ],
   "source": [
    "sem_df['PREDICATE'].unique()"
   ]
  },
  {
   "cell_type": "markdown",
   "metadata": {},
   "source": [
    "### Abbreviations\n",
    "\n",
    "According to rephetio conventions, edges must be written as `EDGETYPE_abbrev` where the abbreviation is START_NODE Abv, Predicate Abv, END_NODE Abv.  for example a Compound that treats a disease is abbreviated TREATS_CtD.  \n",
    "\n",
    "We must come up with unique abbreviations for each semantic type for the nodes as well as each predicate. These concatinated together will give a unique abbreviation for each edge type."
   ]
  },
  {
   "cell_type": "code",
   "execution_count": 57,
   "metadata": {
    "collapsed": true
   },
   "outputs": [],
   "source": [
    "p_abv = {\n",
    " 'ADMINISTERED_TO': 'at',\n",
    " 'AFFECTS': 'af',\n",
    " 'ASSOCIATED_WITH': 'aw',\n",
    " 'AUGMENTS': 'ag',\n",
    " 'CAUSES': 'c',\n",
    " 'COEXISTS_WITH': 'cw',\n",
    " 'COMPLICATES': 'cp',\n",
    " 'CONVERTS_TO': 'ct',\n",
    " 'DIAGNOSES': 'dg',\n",
    " 'DISRUPTS': 'ds',\n",
    " 'INHIBITS': 'in',\n",
    " 'INTERACTS_WITH': 'iw',\n",
    " 'ISA': 'i',\n",
    " 'LOCATION_OF': 'lo',\n",
    " 'MANIFESTATION_OF': 'mfo',\n",
    " 'METHOD_OF': 'mo',\n",
    " 'NEG_ADMINISTERED_TO': 'nat',\n",
    " 'NEG_AFFECTS': 'naf',\n",
    " 'NEG_ASSOCIATED_WITH': 'naw',\n",
    " 'NEG_AUGMENTS': 'nag',\n",
    " 'NEG_CAUSES': 'nc',\n",
    " 'NEG_COEXISTS_WITH': 'ncw',\n",
    " 'NEG_COMPLICATES': 'ncp',\n",
    " 'NEG_CONVERTS_TO': 'nct',\n",
    " 'NEG_DIAGNOSES': 'ndg',\n",
    " 'NEG_DISRUPTS': 'nds',\n",
    " 'NEG_INHIBITS': 'nin',\n",
    " 'NEG_INTERACTS_WITH': 'niw',\n",
    " 'NEG_LOCATION_OF': 'nlo',\n",
    " 'NEG_MANIFESTATION_OF': 'nmfo',\n",
    " 'NEG_METHOD_OF': 'nmo',\n",
    " 'NEG_OCCURS_IN': 'noi',\n",
    " 'NEG_PART_OF': 'npo',\n",
    " 'NEG_PRECEDES': 'npc',\n",
    " 'NEG_PREDISPOSES': 'nps',\n",
    " 'NEG_PREVENTS': 'npv',\n",
    " 'NEG_PROCESS_OF': 'npro',\n",
    " 'NEG_PRODUCES': 'npd',\n",
    " 'NEG_STIMULATES': 'nst',\n",
    " 'NEG_TREATS': 'nt',\n",
    " 'NEG_USES': 'nu',\n",
    " 'NEG_higher_than': 'nht',\n",
    " 'NEG_lower_than': 'nlt',\n",
    " 'OCCURS_IN': 'oi',\n",
    " 'PART_OF': 'po',\n",
    " 'PRECEDES': 'pc',\n",
    " 'PREDISPOSES': 'ps',\n",
    " 'PREP': 'pr',\n",
    " 'PREVENTS': 'pv',\n",
    " 'PROCESS_OF': 'pro',\n",
    " 'PRODUCES': 'pd',\n",
    " 'STIMULATES': 'st',\n",
    " 'TREATS': 't',\n",
    " 'USES': 'u',\n",
    " 'compared_with': 'cpw',\n",
    " 'different_from': 'df',\n",
    " 'different_than': 'dt',\n",
    " 'higher_than': 'ht',\n",
    " 'lower_than': 'lt',\n",
    " 'same_as': 'sa'}"
   ]
  },
  {
   "cell_type": "code",
   "execution_count": 58,
   "metadata": {},
   "outputs": [
    {
     "data": {
      "text/plain": [
       "{'Activities & Behaviors',\n",
       " 'Anatomy',\n",
       " 'Chemicals & Drugs',\n",
       " 'Concepts & Ideas',\n",
       " 'Devices',\n",
       " 'Disorders',\n",
       " 'Genes & Molecular Sequences',\n",
       " 'Geographic Areas',\n",
       " 'Living Beings',\n",
       " 'Objects',\n",
       " 'Occupations',\n",
       " 'Organizations',\n",
       " 'Phenomena',\n",
       " 'Physiology',\n",
       " 'Procedures'}"
      ]
     },
     "execution_count": 58,
     "metadata": {},
     "output_type": "execute_result"
    }
   ],
   "source": [
    "# get abbreviations for semtypes\n",
    "super_sems = set(abbv_to_super.values())\n",
    "\n",
    "len(super_sems)\n",
    "super_sems"
   ]
  },
  {
   "cell_type": "code",
   "execution_count": 59,
   "metadata": {
    "collapsed": true
   },
   "outputs": [],
   "source": [
    "# Run these by hand as there are few, and some don't lend themselves well to auto-generation\n",
    "sem_abv = {\n",
    " 'Activities & Behaviors': 'AB',\n",
    " 'Anatomy': 'A',\n",
    " 'Compound': 'C',\n",
    " 'Chemicals & Drugs': 'CD',\n",
    " 'Concepts & Ideas': 'CI',\n",
    " 'Devices': 'DV',\n",
    " 'Disease': 'D',\n",
    " 'Disorders': 'DO',\n",
    " 'Genes & Molecular Sequences': 'G',\n",
    " 'Geographic Areas': 'GA',\n",
    " 'Living Beings': 'LB',\n",
    " 'Objects': 'OB',\n",
    " 'Occupations': 'OC',\n",
    " 'Organizations': 'OR',\n",
    " 'Phenomena': 'PH',\n",
    " 'Physiology': 'PS',\n",
    " 'Procedures': 'PR'\n",
    "}"
   ]
  },
  {
   "cell_type": "markdown",
   "metadata": {},
   "source": [
    "# Edge Directions\n",
    "\n",
    "Most edges may be bi-directions, but some are definitely better exprested as uni-directional.  Here we will classify predicates as bi- or uni-dierectional based on the semantic meaning of the predicate.  Bidirectionl edges have an empty string, whereas uni-directional have a direction marker `'>'`. For example an undirected edge, such as a compound that treats a disease, is written as `TREATS_CtD`. However, a directed edge, like Compound1 converts to Compound 2 would be written as `CONVERTS_TO_Cct>C`.\n",
    "\n",
    "Edge directions were chosen based on the description found in [this documnetation](https://skr3.nlm.nih.gov/SemMed/jsp/SemMedDocumentation2.pdf)."
   ]
  },
  {
   "cell_type": "code",
   "execution_count": 60,
   "metadata": {
    "collapsed": true
   },
   "outputs": [],
   "source": [
    "edge_dir = {\n",
    " 'ADMINISTERED_TO': '',\n",
    " 'AFFECTS': '',\n",
    " 'ASSOCIATED_WITH': '',\n",
    " 'AUGMENTS': '',\n",
    " 'CAUSES': '',\n",
    " 'COEXISTS_WITH': '',\n",
    " 'COMPLICATES': '',\n",
    " 'CONVERTS_TO': '>',\n",
    " 'DIAGNOSES': '',\n",
    " 'DISRUPTS': '',\n",
    " 'INHIBITS': '',\n",
    " 'INTERACTS_WITH': '',\n",
    " 'ISA': '>',\n",
    " 'LOCATION_OF': '',\n",
    " 'MANIFESTATION_OF': '>',\n",
    " 'METHOD_OF': '',\n",
    " 'NOM': '',\n",
    " 'OCCURS_IN': '',\n",
    " 'PART_OF': '>',\n",
    " 'PRECEDES': '>',\n",
    " 'PREDISPOSES': '',\n",
    " 'PREP': '',\n",
    " 'PREVENTS': '',\n",
    " 'PROCESS_OF': '>',\n",
    " 'PRODUCES': '>',\n",
    " 'SPEC': '',\n",
    " 'STIMULATES': '',\n",
    " 'TREATS': '',\n",
    " 'USES': '',\n",
    " 'compared_with': '',\n",
    " 'different_from': '',\n",
    " 'different_than': '',\n",
    " 'higher_from': '',\n",
    " 'higher_than': '',\n",
    " 'lower_than': '',\n",
    " 'same_as': '',\n",
    " 'than_as': ''}\n",
    "\n",
    "\n",
    "#for k in p_abv:\n",
    "#    if k not in edge_dir:\n",
    "#        edge_dir[k] = edge_dir[k[4:]]\n",
    "#edge_dir"
   ]
  },
  {
   "cell_type": "code",
   "execution_count": 61,
   "metadata": {
    "collapsed": true
   },
   "outputs": [],
   "source": [
    "# Make a mapper from SEMTYPE to sem abbrev\n",
    "kind_map = {}\n",
    "\n",
    "for k, v in abbv_to_super.items():\n",
    "    kind_map[k] = sem_abv[v]"
   ]
  },
  {
   "cell_type": "code",
   "execution_count": 62,
   "metadata": {
    "collapsed": true
   },
   "outputs": [],
   "source": [
    "id_to_type = nodes.set_index('ID')['LABEL'].to_dict()\n",
    "id_to_type_abbv = {k: sem_abv.get(v) for k, v in id_to_type.items()}"
   ]
  },
  {
   "cell_type": "code",
   "execution_count": 63,
   "metadata": {
    "collapsed": true
   },
   "outputs": [],
   "source": [
    "edges = pd.DataFrame()\n",
    "\n",
    "edges['START_ID'] = sem_df['SUBJECT_CUI']\n",
    "edges['END_ID'] = sem_df['OBJECT_CUI']\n",
    "edges['TYPE'] = sem_df['PREDICATE']"
   ]
  },
  {
   "cell_type": "markdown",
   "metadata": {
    "collapsed": true
   },
   "source": [
    "relation_condense_map = {\n",
    "'INTERACTS_WITH': 'general_association_with',\n",
    "'COEXISTS_WITH': 'general_association_with',\n",
    "'ASSOCIATED_WITH': 'general_association_with',\n",
    "'AFFECTS': 'general_association_with',\n",
    "'METHOD_OF': 'general_association_with',\n",
    "'LOCATION_OF': 'general_association_with',\n",
    "'ADMINISTERED_TO': 'general_association_with',\n",
    "\n",
    "'STIMULATES': 'positive_association', \n",
    "'CAUSES': 'positive_association', \n",
    "'AUGMENTS': 'positive_association', \n",
    "'PREDISPOSES': 'positive_association', \n",
    "'COMPLICATES': 'positive_association', \n",
    "\n",
    "'INHIBITS': 'negative_association', \n",
    "'TREATS': 'negative_association', \n",
    "'PREVENTS': 'negative_association', \n",
    "'DISRUPTS': 'negative_association', \n",
    "\n",
    "'PRODUCES': 'b_bigger_than_a',\n",
    "'PROCESS_OF': 'b_bigger_than_a',\n",
    "'USES': 'b_bigger_than_a',\n",
    "\n",
    "'ISA': 'a_bigger_than_b', \n",
    "'PART_OF': 'a_bigger_than_b', \n",
    "'OCCURS_IN': 'a_bigger_than_b', \n",
    "'AFFECTS': 'a_bigger_than_b', \n",
    "'MANIFESTATION_OF': 'a_bigger_than_b', \n",
    "\n",
    "'PRECEDES': 'precedes', \n",
    "'DIAGNOSES': 'diagnoses', \n",
    "\n",
    "'compared_with':  'odd_relations', \n",
    "'different_from': 'odd_relations', \n",
    "'different_than': 'odd_relations', \n",
    "'higher_from': 'odd_relations', \n",
    "'higher_than': 'odd_relations', \n",
    "'lower_than':  'odd_relations', \n",
    "'same_as':  'odd_relations', \n",
    "'than_as':  'odd_relations', \n",
    "\n",
    "'NEG_INTERACTS_WITH': 'neg_general_association_with',\n",
    "'NEG_COEXISTS_WITH': 'neg_general_association_with',\n",
    "'NEG_ASSOCIATED_WITH': 'neg_general_association_with',\n",
    "'NEG_AFFECTS': 'neg_general_association_with',\n",
    "'NEG_METHOD_OF': 'neg_general_association_with',\n",
    "'NEG_LOCATION_OF': 'neg_general_association_with',\n",
    "'NEG_ADMINISTERED_TO': 'neg_general_association_with',\n",
    "'NEG_STIMULATES': 'neg_positive_association', \n",
    "'NEG_CAUSES': 'neg_positive_association', \n",
    "'NEG_AUGMENTS': 'neg_positive_association', \n",
    "'NEG_PREDISPOSES': 'neg_positive_association', \n",
    "'NEG_COMPLICATES': 'neg_positive_association', \n",
    "'NEG_INHIBITS': 'neg_negative_association', \n",
    "'NEG_TREATS': 'neg_negative_association', \n",
    "'NEG_PREVENTS': 'neg_negative_association', \n",
    "'NEG_DISRUPTS': 'neg_negative_association', \n",
    "'NEG_PRODUCES': 'neg_b_bigger_than_a',\n",
    "'NEG_PROCESS_OF': 'neg_b_bigger_than_a',\n",
    "'NEG_USES': 'neg_b_bigger_than_a',\n",
    "'NEG_ISA': 'neg_a_bigger_than_b', \n",
    "'NEG_PART_OF': 'neg_a_bigger_than_b', \n",
    "'NEG_OCCURS_IN': 'neg_a_bigger_than_b', \n",
    "'NEG_AFFECTS': 'neg_a_bigger_than_b', \n",
    "'NEG_MANIFESTATION_OF': 'neg_a_bigger_than_b', \n",
    "'NEG_PRECEDES': 'neg_precedes', \n",
    "'NEG_DIAGNOSES': 'neg_diagnoses', \n",
    "\n",
    "'compared_with':  'neg_odd_relations', \n",
    "'different_from': 'neg_odd_relations', \n",
    "'different_than': 'neg_odd_relations', \n",
    "'higher_from': 'neg_odd_relations', \n",
    "'higher_than': 'neg_odd_relations', \n",
    "'lower_than':  'neg_odd_relations', \n",
    "'same_as':  'neg_odd_relations', \n",
    "'than_as':  'neg_odd_relations'}"
   ]
  },
  {
   "cell_type": "markdown",
   "metadata": {},
   "source": [
    "edge_dir = {\n",
    " 'a_bigger_than_b': '>',\n",
    " 'b_bigger_than_a': '>',\n",
    " 'diagnoses': '',\n",
    " 'general_association_with': '',\n",
    " 'neg_a_bigger_than_b': '>',\n",
    " 'neg_b_bigger_than_a': '>',\n",
    " 'neg_diagnoses': '',\n",
    " 'neg_general_association_with': '',\n",
    " 'neg_negative_association': '',\n",
    " 'neg_odd_relations': '',\n",
    " 'neg_positive_association': '',\n",
    " 'neg_precedes': '>',\n",
    " 'negative_association': '',\n",
    " 'positive_association': '',\n",
    " 'precedes': '>'}\n",
    "\n",
    "p_abv = {\n",
    " 'a_bigger_than_b': 'ab',\n",
    " 'b_bigger_than_a': 'ba',\n",
    " 'diagnoses': 'd',\n",
    " 'general_association_with': 'a',\n",
    " 'neg_a_bigger_than_b': 'nab',\n",
    " 'neg_b_bigger_than_a': 'nba',\n",
    " 'neg_diagnoses': 'nd',\n",
    " 'neg_general_association_with': 'na',\n",
    " 'neg_negative_association': 'nn',\n",
    " 'neg_odd_relations': 'nor',\n",
    " 'neg_positive_association': 'np',\n",
    " 'neg_precedes': 'pr',\n",
    " 'negative_association': 'n',\n",
    " 'positive_association': 'p',\n",
    " 'precedes': 'pr'}"
   ]
  },
  {
   "cell_type": "code",
   "execution_count": 64,
   "metadata": {},
   "outputs": [
    {
     "name": "stdout",
     "output_type": "stream",
     "text": [
      "21447153\n",
      "21447133\n"
     ]
    }
   ],
   "source": [
    "print(len(edges))\n",
    "edges = edges.query('TYPE in @p_abv.keys()')\n",
    "print(len(edges))"
   ]
  },
  {
   "cell_type": "code",
   "execution_count": 65,
   "metadata": {},
   "outputs": [
    {
     "name": "stdout",
     "output_type": "stream",
     "text": [
      "21447133\n",
      "20891064\n"
     ]
    },
    {
     "data": {
      "text/html": [
       "<div>\n",
       "<style>\n",
       "    .dataframe thead tr:only-child th {\n",
       "        text-align: right;\n",
       "    }\n",
       "\n",
       "    .dataframe thead th {\n",
       "        text-align: left;\n",
       "    }\n",
       "\n",
       "    .dataframe tbody tr th {\n",
       "        vertical-align: top;\n",
       "    }\n",
       "</style>\n",
       "<table border=\"1\" class=\"dataframe\">\n",
       "  <thead>\n",
       "    <tr style=\"text-align: right;\">\n",
       "      <th></th>\n",
       "      <th>START_ID</th>\n",
       "      <th>END_ID</th>\n",
       "      <th>TYPE</th>\n",
       "      <th>abbrev</th>\n",
       "      <th>rev_abbrev</th>\n",
       "    </tr>\n",
       "  </thead>\n",
       "  <tbody>\n",
       "    <tr>\n",
       "      <th>0</th>\n",
       "      <td>C0026879</td>\n",
       "      <td>C0220806</td>\n",
       "      <td>ISA</td>\n",
       "      <td>CDi&gt;CD</td>\n",
       "      <td>CD&gt;iCD</td>\n",
       "    </tr>\n",
       "    <tr>\n",
       "      <th>1</th>\n",
       "      <td>C0017725</td>\n",
       "      <td>C0022378</td>\n",
       "      <td>PART_OF</td>\n",
       "      <td>CDpo&gt;A</td>\n",
       "      <td>A&gt;poCD</td>\n",
       "    </tr>\n",
       "    <tr>\n",
       "      <th>2</th>\n",
       "      <td>C0006147</td>\n",
       "      <td>C0020114</td>\n",
       "      <td>PROCESS_OF</td>\n",
       "      <td>PSpro&gt;LB</td>\n",
       "      <td>LB&gt;proPS</td>\n",
       "    </tr>\n",
       "    <tr>\n",
       "      <th>3</th>\n",
       "      <td>C0279494</td>\n",
       "      <td>C0043210</td>\n",
       "      <td>TREATS</td>\n",
       "      <td>PRtLB</td>\n",
       "      <td>LBtPR</td>\n",
       "    </tr>\n",
       "    <tr>\n",
       "      <th>4</th>\n",
       "      <td>C0232338</td>\n",
       "      <td>C0012984</td>\n",
       "      <td>PROCESS_OF</td>\n",
       "      <td>PSpro&gt;LB</td>\n",
       "      <td>LB&gt;proPS</td>\n",
       "    </tr>\n",
       "  </tbody>\n",
       "</table>\n",
       "</div>"
      ],
      "text/plain": [
       "   START_ID    END_ID        TYPE    abbrev rev_abbrev\n",
       "0  C0026879  C0220806         ISA    CDi>CD     CD>iCD\n",
       "1  C0017725  C0022378     PART_OF    CDpo>A     A>poCD\n",
       "2  C0006147  C0020114  PROCESS_OF  PSpro>LB   LB>proPS\n",
       "3  C0279494  C0043210      TREATS     PRtLB      LBtPR\n",
       "4  C0232338  C0012984  PROCESS_OF  PSpro>LB   LB>proPS"
      ]
     },
     "execution_count": 65,
     "metadata": {},
     "output_type": "execute_result"
    }
   ],
   "source": [
    "edges['abbrev'] = (edges['START_ID'].apply(lambda x: id_to_type_abbv.get(x,x)) \n",
    "                    + edges['TYPE'].apply(lambda x: p_abv.get(x,x))\n",
    "                    + edges['TYPE'].apply(lambda x: edge_dir.get(x,''))\n",
    "                    + edges['END_ID'].apply(lambda x: id_to_type_abbv.get(x,x)))\n",
    "\n",
    "edges['rev_abbrev'] = (edges['END_ID'].apply(lambda x: id_to_type_abbv.get(x,x)) \n",
    "                    + edges['TYPE'].apply(lambda x: edge_dir.get(x,''))\n",
    "                    + edges['TYPE'].apply(lambda x: p_abv.get(x,x))\n",
    "                    + edges['START_ID'].apply(lambda x: id_to_type_abbv.get(x,x)))\n",
    "\n",
    "\n",
    "print(edges.shape[0])\n",
    "edges = edges.drop_duplicates(subset=['START_ID', 'END_ID', 'TYPE'])\n",
    "print(len(edges))\n",
    "edges.head()"
   ]
  },
  {
   "cell_type": "code",
   "execution_count": 66,
   "metadata": {
    "collapsed": true
   },
   "outputs": [],
   "source": [
    "def validate_abbrevs(e_type, abbrev, rev_abbrev):\n",
    "    if rev_abbrev not in abbreviations:\n",
    "        abbreviations.update([abbrev])\n",
    "        return str(e_type) + '_' + str(abbrev)\n",
    "    else:\n",
    "        return str(e_type) + '_' + str(rev_abbrev)"
   ]
  },
  {
   "cell_type": "code",
   "execution_count": null,
   "metadata": {
    "collapsed": true
   },
   "outputs": [],
   "source": [
    "#### Keeping for Legacy.... This shows how poor df.apply(f, axis=1) performance is in comparison to df.itertuples()\n",
    "# %%time\n",
    "# abbreviations = set()\n",
    "# edges['TYPE'] = edges.apply(lambda row: validate_abbrevs(row['TYPE'], row['abbrev'], row['rev_abbrev']), axis=1)\n",
    "# CPU times: user 21min 2s, sys: 776 ms, total: 21min 3s\n",
    "# Wall time: 21min 3s"
   ]
  },
  {
   "cell_type": "markdown",
   "metadata": {},
   "source": [
    "    CPU times: user 21min 2s, sys: 776 ms, total: 21min 3s\n",
    "    Wall time: 21min 3s"
   ]
  },
  {
   "cell_type": "code",
   "execution_count": 67,
   "metadata": {},
   "outputs": [
    {
     "data": {
      "text/plain": [
       "'df.apply(f,axis=1) is 14.2x slower than df.itertuples() on a df of almost 21M rows'"
      ]
     },
     "execution_count": 67,
     "metadata": {},
     "output_type": "execute_result"
    }
   ],
   "source": [
    "\"df.apply(f,axis=1) is {:1.1f}x slower than df.itertuples() on a df of almost 21M rows\".format((21*60+2) / (1*60+29))"
   ]
  },
  {
   "cell_type": "code",
   "execution_count": 68,
   "metadata": {},
   "outputs": [
    {
     "name": "stderr",
     "output_type": "stream",
     "text": [
      "100%|██████████| 20891064/20891064 [01:29<00:00, 232661.06it/s]"
     ]
    },
    {
     "name": "stdout",
     "output_type": "stream",
     "text": [
      "CPU times: user 1min 29s, sys: 624 ms, total: 1min 29s\n",
      "Wall time: 1min 29s\n"
     ]
    },
    {
     "name": "stderr",
     "output_type": "stream",
     "text": [
      "\n"
     ]
    }
   ],
   "source": [
    "%%time\n",
    "abbreviations = set()\n",
    "new_types = []\n",
    "for row in tqdm(edges.itertuples(), total=len(edges)):\n",
    "    new_types.append(validate_abbrevs(row[3], row[4], row[5]))"
   ]
  },
  {
   "cell_type": "code",
   "execution_count": 69,
   "metadata": {
    "collapsed": true
   },
   "outputs": [],
   "source": [
    "edges = edges.reset_index(drop=True)"
   ]
  },
  {
   "cell_type": "code",
   "execution_count": 70,
   "metadata": {
    "collapsed": true
   },
   "outputs": [],
   "source": [
    "e_types_current = edges['TYPE'] + '_' + edges['abbrev']"
   ]
  },
  {
   "cell_type": "code",
   "execution_count": 71,
   "metadata": {
    "collapsed": true
   },
   "outputs": [],
   "source": [
    "need_swap = e_types_current != pd.Series(new_types)"
   ]
  },
  {
   "cell_type": "code",
   "execution_count": 72,
   "metadata": {
    "collapsed": true
   },
   "outputs": [],
   "source": [
    "tmp = edges.loc[need_swap, 'START_ID']\n",
    "edges.loc[need_swap, 'START_ID'] = edges.loc[need_swap, 'END_ID']\n",
    "edges.loc[need_swap, 'END_ID'] = tmp\n",
    "edges['TYPE'] = new_types"
   ]
  },
  {
   "cell_type": "code",
   "execution_count": 73,
   "metadata": {
    "collapsed": true
   },
   "outputs": [],
   "source": [
    "edges = edges[['START_ID', 'END_ID', 'TYPE']]"
   ]
  },
  {
   "cell_type": "code",
   "execution_count": 74,
   "metadata": {
    "scrolled": true
   },
   "outputs": [
    {
     "data": {
      "text/plain": [
       "3989"
      ]
     },
     "execution_count": 74,
     "metadata": {},
     "output_type": "execute_result"
    }
   ],
   "source": [
    "edges['TYPE'].nunique()"
   ]
  },
  {
   "cell_type": "code",
   "execution_count": 75,
   "metadata": {
    "collapsed": true
   },
   "outputs": [],
   "source": [
    "nodes = nodes.dropna()\n",
    "edges = edges.dropna().drop_duplicates()"
   ]
  },
  {
   "cell_type": "code",
   "execution_count": 76,
   "metadata": {},
   "outputs": [
    {
     "name": "stdout",
     "output_type": "stream",
     "text": [
      "268,918\n",
      "20,521,816\n"
     ]
    }
   ],
   "source": [
    "print('{:,}'.format(len(nodes)))\n",
    "print('{:,}'.format(len(edges)))"
   ]
  },
  {
   "cell_type": "code",
   "execution_count": 77,
   "metadata": {},
   "outputs": [
    {
     "data": {
      "text/plain": [
       "268917"
      ]
     },
     "execution_count": 77,
     "metadata": {},
     "output_type": "execute_result"
    }
   ],
   "source": [
    "edge_ids = set(edges['START_ID']).union(set(edges['END_ID']))\n",
    "len(edge_ids)"
   ]
  },
  {
   "cell_type": "code",
   "execution_count": 78,
   "metadata": {},
   "outputs": [
    {
     "data": {
      "text/plain": [
       "268918"
      ]
     },
     "execution_count": 78,
     "metadata": {},
     "output_type": "execute_result"
    }
   ],
   "source": [
    "node_ids = set(nodes['ID'])\n",
    "len(node_ids)"
   ]
  },
  {
   "cell_type": "code",
   "execution_count": 79,
   "metadata": {},
   "outputs": [
    {
     "data": {
      "text/plain": [
       "0"
      ]
     },
     "execution_count": 79,
     "metadata": {},
     "output_type": "execute_result"
    }
   ],
   "source": [
    "len(edge_ids - node_ids)"
   ]
  },
  {
   "cell_type": "code",
   "execution_count": 80,
   "metadata": {
    "collapsed": true
   },
   "outputs": [],
   "source": [
    "edge_ids = list(edge_ids)\n",
    "nodes = nodes.query('ID in @edge_ids')"
   ]
  },
  {
   "cell_type": "code",
   "execution_count": null,
   "metadata": {},
   "outputs": [
    {
     "data": {
      "text/plain": [
       "268917"
      ]
     },
     "execution_count": 81,
     "metadata": {},
     "output_type": "execute_result"
    }
   ],
   "source": [
    "nodes['ID'].nunique()"
   ]
  },
  {
   "cell_type": "code",
   "execution_count": null,
   "metadata": {
    "collapsed": true
   },
   "outputs": [],
   "source": [
    "# Sort values before writing to disk\n",
    "nodes = nodes.sort_values('LABEL')\n",
    "edges = edges.sort_values('TYPE')\n",
    "\n",
    "# Add in colons required by neo4j\n",
    "nodes.columns = [':ID', 'name', ':LABEL']\n",
    "edges.columns = [':START_ID', ':END_ID', ':TYPE']\n",
    "\n",
    "nodes.to_csv('../data/nodes.csv', index=False)\n",
    "edges.to_csv('../data/edges.csv', index=False)"
   ]
  }
 ],
 "metadata": {
  "kernelspec": {
   "display_name": "Python 3",
   "language": "python",
   "name": "python3"
  },
  "language_info": {
   "codemirror_mode": {
    "name": "ipython",
    "version": 3
   },
   "file_extension": ".py",
   "mimetype": "text/x-python",
   "name": "python",
   "nbconvert_exporter": "python",
   "pygments_lexer": "ipython3",
   "version": "3.5.4"
  }
 },
 "nbformat": 4,
 "nbformat_minor": 1
}
