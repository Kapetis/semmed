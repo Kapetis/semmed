{
 "cells": [
  {
   "cell_type": "code",
   "execution_count": 1,
   "metadata": {
    "collapsed": true
   },
   "outputs": [],
   "source": [
    "import os\n",
    "import pickle\n",
    "%matplotlib inline\n",
    "import pandas as pd\n",
    "import seaborn as sns\n",
    "from tqdm import tqdm"
   ]
  },
  {
   "cell_type": "code",
   "execution_count": 2,
   "metadata": {},
   "outputs": [],
   "source": [
    "nodes = pd.read_csv('../data/nodes.csv')\n",
    "edges = pd.read_csv('../data/edges.csv')\n",
    "\n",
    "# remove : character from column names to make them queryabke\n",
    "nodes.columns = ['ID', 'name', 'LABEL']\n",
    "edges.columns = ['START_ID', 'END_ID', 'TYPE']"
   ]
  },
  {
   "cell_type": "code",
   "execution_count": 3,
   "metadata": {},
   "outputs": [
    {
     "name": "stdout",
     "output_type": "stream",
     "text": [
      "20,196 Compounds x 4,943 Diseases = 99,828,828 C-D pairs\n"
     ]
    }
   ],
   "source": [
    "comps = (nodes['LABEL'] == 'Compound').sum() \n",
    "diseases = (nodes['LABEL'] == 'Disease').sum()\n",
    "\n",
    "print('{:,} Compounds x {:,} Diseases = {:,} C-D pairs'.format(comps, diseases, comps*diseases))"
   ]
  },
  {
   "cell_type": "code",
   "execution_count": 4,
   "metadata": {},
   "outputs": [
    {
     "data": {
      "text/html": [
       "<div>\n",
       "<style>\n",
       "    .dataframe thead tr:only-child th {\n",
       "        text-align: right;\n",
       "    }\n",
       "\n",
       "    .dataframe thead th {\n",
       "        text-align: left;\n",
       "    }\n",
       "\n",
       "    .dataframe tbody tr th {\n",
       "        vertical-align: top;\n",
       "    }\n",
       "</style>\n",
       "<table border=\"1\" class=\"dataframe\">\n",
       "  <thead>\n",
       "    <tr style=\"text-align: right;\">\n",
       "      <th></th>\n",
       "      <th>ID</th>\n",
       "      <th>name</th>\n",
       "      <th>LABEL</th>\n",
       "    </tr>\n",
       "  </thead>\n",
       "  <tbody>\n",
       "    <tr>\n",
       "      <th>0</th>\n",
       "      <td>C0150210</td>\n",
       "      <td>Physiological energy management</td>\n",
       "      <td>Activities &amp; Behaviors</td>\n",
       "    </tr>\n",
       "    <tr>\n",
       "      <th>1</th>\n",
       "      <td>C1512265</td>\n",
       "      <td>Grant Review Process</td>\n",
       "      <td>Activities &amp; Behaviors</td>\n",
       "    </tr>\n",
       "    <tr>\n",
       "      <th>2</th>\n",
       "      <td>C0683830</td>\n",
       "      <td>document management</td>\n",
       "      <td>Activities &amp; Behaviors</td>\n",
       "    </tr>\n",
       "    <tr>\n",
       "      <th>3</th>\n",
       "      <td>C0260207</td>\n",
       "      <td>Rest periods</td>\n",
       "      <td>Activities &amp; Behaviors</td>\n",
       "    </tr>\n",
       "    <tr>\n",
       "      <th>4</th>\n",
       "      <td>C0871414</td>\n",
       "      <td>Sperm donation</td>\n",
       "      <td>Activities &amp; Behaviors</td>\n",
       "    </tr>\n",
       "  </tbody>\n",
       "</table>\n",
       "</div>"
      ],
      "text/plain": [
       "         ID                             name                   LABEL\n",
       "0  C0150210  Physiological energy management  Activities & Behaviors\n",
       "1  C1512265             Grant Review Process  Activities & Behaviors\n",
       "2  C0683830              document management  Activities & Behaviors\n",
       "3  C0260207                     Rest periods  Activities & Behaviors\n",
       "4  C0871414                   Sperm donation  Activities & Behaviors"
      ]
     },
     "execution_count": 4,
     "metadata": {},
     "output_type": "execute_result"
    }
   ],
   "source": [
    "nodes.head()"
   ]
  },
  {
   "cell_type": "code",
   "execution_count": 5,
   "metadata": {},
   "outputs": [
    {
     "data": {
      "text/html": [
       "<div>\n",
       "<style>\n",
       "    .dataframe thead tr:only-child th {\n",
       "        text-align: right;\n",
       "    }\n",
       "\n",
       "    .dataframe thead th {\n",
       "        text-align: left;\n",
       "    }\n",
       "\n",
       "    .dataframe tbody tr th {\n",
       "        vertical-align: top;\n",
       "    }\n",
       "</style>\n",
       "<table border=\"1\" class=\"dataframe\">\n",
       "  <thead>\n",
       "    <tr style=\"text-align: right;\">\n",
       "      <th></th>\n",
       "      <th>START_ID</th>\n",
       "      <th>END_ID</th>\n",
       "      <th>TYPE</th>\n",
       "    </tr>\n",
       "  </thead>\n",
       "  <tbody>\n",
       "    <tr>\n",
       "      <th>0</th>\n",
       "      <td>C1273870</td>\n",
       "      <td>C0282623</td>\n",
       "      <td>ADMINISTERED_TO_ABatAB</td>\n",
       "    </tr>\n",
       "    <tr>\n",
       "      <th>1</th>\n",
       "      <td>C0441648</td>\n",
       "      <td>C0221192</td>\n",
       "      <td>ADMINISTERED_TO_ABatCI</td>\n",
       "    </tr>\n",
       "    <tr>\n",
       "      <th>2</th>\n",
       "      <td>C1273870</td>\n",
       "      <td>C1138603</td>\n",
       "      <td>ADMINISTERED_TO_ABatCI</td>\n",
       "    </tr>\n",
       "    <tr>\n",
       "      <th>3</th>\n",
       "      <td>C0556656</td>\n",
       "      <td>C0221192</td>\n",
       "      <td>ADMINISTERED_TO_ABatCI</td>\n",
       "    </tr>\n",
       "    <tr>\n",
       "      <th>4</th>\n",
       "      <td>C0935546</td>\n",
       "      <td>C0221192</td>\n",
       "      <td>ADMINISTERED_TO_ABatCI</td>\n",
       "    </tr>\n",
       "  </tbody>\n",
       "</table>\n",
       "</div>"
      ],
      "text/plain": [
       "   START_ID    END_ID                    TYPE\n",
       "0  C1273870  C0282623  ADMINISTERED_TO_ABatAB\n",
       "1  C0441648  C0221192  ADMINISTERED_TO_ABatCI\n",
       "2  C1273870  C1138603  ADMINISTERED_TO_ABatCI\n",
       "3  C0556656  C0221192  ADMINISTERED_TO_ABatCI\n",
       "4  C0935546  C0221192  ADMINISTERED_TO_ABatCI"
      ]
     },
     "execution_count": 5,
     "metadata": {},
     "output_type": "execute_result"
    }
   ],
   "source": [
    "edges.head()"
   ]
  },
  {
   "cell_type": "code",
   "execution_count": 6,
   "metadata": {},
   "outputs": [
    {
     "name": "stdout",
     "output_type": "stream",
     "text": [
      "20521816\n"
     ]
    },
    {
     "data": {
      "text/plain": [
       "(20521816, 3)"
      ]
     },
     "execution_count": 6,
     "metadata": {},
     "output_type": "execute_result"
    }
   ],
   "source": [
    "print(edges.shape[0])\n",
    "edges = edges.drop_duplicates()\n",
    "edges = edges.dropna()\n",
    "edges.shape"
   ]
  },
  {
   "cell_type": "code",
   "execution_count": 7,
   "metadata": {},
   "outputs": [
    {
     "data": {
      "text/plain": [
       "INTERACTS_WITH_CDiwCD           828685\n",
       "LOCATION_OF_AloCD               800579\n",
       "STIMULATES_CDstCD               452324\n",
       "COEXISTS_WITH_CDcwCD            450955\n",
       "INTERACTS_WITH_GiwCD            424928\n",
       "LOCATION_OF_AloG                419681\n",
       "PROCESS_OF_DOpro>LB             410679\n",
       "INHIBITS_CDinCD                 379340\n",
       "LOCATION_OF_AloDO               366582\n",
       "LOCATION_OF_LBloCD              352224\n",
       "AFFECTS_CDafPS                  351362\n",
       "PART_OF_CDpo>A                  317538\n",
       "STIMULATES_GstCD                317084\n",
       "TREATS_CDtDO                    310916\n",
       "TREATS_PRtDO                    292562\n",
       "USES_PRuCD                      278386\n",
       "COEXISTS_WITH_DOcwDO            259293\n",
       "COEXISTS_WITH_CDcwG             255227\n",
       "COEXISTS_WITH_DOcwD             243032\n",
       "PART_OF_Gpo>A                   234502\n",
       "INHIBITS_CDinG                  227114\n",
       "ASSOCIATED_WITH_CDawDO          217893\n",
       "PART_OF_Apo>A                   202994\n",
       "CAUSES_CDcDO                    202497\n",
       "PART_OF_CDpo>LB                 193324\n",
       "compared_with_CDcpwCD           186585\n",
       "LOCATION_OF_LBloG               185404\n",
       "ASSOCIATED_WITH_CDawD           178711\n",
       "TREATS_CDtD                     176919\n",
       "AUGMENTS_CDagPS                 176067\n",
       "                                 ...  \n",
       "PART_OF_DOpo>PH                      1\n",
       "PREVENTS_DVpvA                       1\n",
       "NEG_DIAGNOSES_DVndgD                 1\n",
       "NEG_COEXISTS_WITH_GncwDV             1\n",
       "NEG_ADMINISTERED_TO_CInatCI          1\n",
       "ISA_PHi>OB                           1\n",
       "ASSOCIATED_WITH_PHawPH               1\n",
       "PART_OF_OBpo>AB                      1\n",
       "NEG_USES_LBnuDO                      1\n",
       "higher_than_DVhtPH                   1\n",
       "PRECEDES_ABpc>A                      1\n",
       "NEG_OCCURS_IN_CInoiCI                1\n",
       "NEG_PART_OF_OBnpoDO                  1\n",
       "NEG_COEXISTS_WITH_PRncwG             1\n",
       "NEG_LOCATION_OF_DOnloAB              1\n",
       "PROCESS_OF_PRpro>G                   1\n",
       "NEG_MANIFESTATION_OF_PSnmfoG         1\n",
       "PART_OF_PSpo>PH                      1\n",
       "ISA_OBi>DO                           1\n",
       "PRODUCES_Cpd>A                       1\n",
       "NEG_USES_OCnuCD                      1\n",
       "NEG_AUGMENTS_CDnagDV                 1\n",
       "AFFECTS_GAafDO                       1\n",
       "COEXISTS_WITH_DcwGA                  1\n",
       "PREDISPOSES_PRpsLB                   1\n",
       "NEG_ASSOCIATED_WITH_PSnawLB          1\n",
       "CONVERTS_TO_CDct>D                   1\n",
       "NEG_METHOD_OF_ABnmoCD                1\n",
       "PRODUCES_CDpd>D                      1\n",
       "PRODUCES_Dpd>OR                      1\n",
       "Name: TYPE, Length: 3989, dtype: int64"
      ]
     },
     "execution_count": 7,
     "metadata": {},
     "output_type": "execute_result"
    }
   ],
   "source": [
    "counts = edges[\"TYPE\"].value_counts()\n",
    "counts"
   ]
  },
  {
   "cell_type": "code",
   "execution_count": 8,
   "metadata": {},
   "outputs": [
    {
     "data": {
      "image/png": "[encoded data removed]",
      "text/plain": [
       "<matplotlib.figure.Figure at 0x7f5444afc8d0>"
      ]
     },
     "metadata": {},
     "output_type": "display_data"
    }
   ],
   "source": [
    "counts[:20].plot(kind='bar');"
   ]
  },
  {
   "cell_type": "markdown",
   "metadata": {},
   "source": [
    "Several relationships with low counts, A->B and B->A relationships could potentially be combined into A-B relationships"
   ]
  },
  {
   "cell_type": "markdown",
   "metadata": {},
   "source": [
    "# Filter out the lower count edge types"
   ]
  },
  {
   "cell_type": "code",
   "execution_count": 9,
   "metadata": {},
   "outputs": [
    {
     "data": {
      "text/plain": [
       "'20,521,816'"
      ]
     },
     "execution_count": 9,
     "metadata": {},
     "output_type": "execute_result"
    }
   ],
   "source": [
    "'{:,}'.format(edges.shape[0])"
   ]
  },
  {
   "cell_type": "code",
   "execution_count": 10,
   "metadata": {},
   "outputs": [
    {
     "name": "stdout",
     "output_type": "stream",
     "text": [
      "Number of edge types with this cutoff: 155\n",
      "Number of edges that remain with this cutoff: 17,666,666\n"
     ]
    }
   ],
   "source": [
    "cutoff = .001\n",
    "\n",
    "print(\"Number of edge types with this cutoff: {}\".format((counts > cutoff*len(edges)).sum()))\n",
    "print(\"Number of edges that remain with this cutoff: {:,}\".format(counts[counts > cutoff*len(edges)].sum()))"
   ]
  },
  {
   "cell_type": "code",
   "execution_count": 11,
   "metadata": {
    "collapsed": true
   },
   "outputs": [],
   "source": [
    "ok_edges = list(counts[counts > cutoff*len(edges)].index)"
   ]
  },
  {
   "cell_type": "code",
   "execution_count": 12,
   "metadata": {
    "collapsed": true
   },
   "outputs": [],
   "source": [
    "result = edges.query('TYPE in @ok_edges')"
   ]
  },
  {
   "cell_type": "code",
   "execution_count": 13,
   "metadata": {},
   "outputs": [
    {
     "data": {
      "text/plain": [
       "'17,666,666'"
      ]
     },
     "execution_count": 13,
     "metadata": {},
     "output_type": "execute_result"
    }
   ],
   "source": [
    "'{:,}'.format(result.shape[0])"
   ]
  },
  {
   "cell_type": "markdown",
   "metadata": {},
   "source": [
    "# Some quick validation that all ids are the same between nodes and edges"
   ]
  },
  {
   "cell_type": "code",
   "execution_count": 14,
   "metadata": {
    "collapsed": true
   },
   "outputs": [],
   "source": [
    "edge_ids = set(result['START_ID'].unique()).union(set(result['END_ID'].unique()))"
   ]
  },
  {
   "cell_type": "code",
   "execution_count": 15,
   "metadata": {
    "collapsed": true
   },
   "outputs": [],
   "source": [
    "node_ids = set(nodes['ID'].unique())"
   ]
  },
  {
   "cell_type": "code",
   "execution_count": 16,
   "metadata": {
    "collapsed": true
   },
   "outputs": [],
   "source": [
    "not_in_edges = node_ids - edge_ids"
   ]
  },
  {
   "cell_type": "code",
   "execution_count": 17,
   "metadata": {
    "collapsed": true
   },
   "outputs": [],
   "source": [
    "not_in_edges = list(not_in_edges)"
   ]
  },
  {
   "cell_type": "code",
   "execution_count": 18,
   "metadata": {},
   "outputs": [
    {
     "data": {
      "text/html": [
       "<div>\n",
       "<style>\n",
       "    .dataframe thead tr:only-child th {\n",
       "        text-align: right;\n",
       "    }\n",
       "\n",
       "    .dataframe thead th {\n",
       "        text-align: left;\n",
       "    }\n",
       "\n",
       "    .dataframe tbody tr th {\n",
       "        vertical-align: top;\n",
       "    }\n",
       "</style>\n",
       "<table border=\"1\" class=\"dataframe\">\n",
       "  <thead>\n",
       "    <tr style=\"text-align: right;\">\n",
       "      <th></th>\n",
       "      <th>ID</th>\n",
       "      <th>name</th>\n",
       "      <th>LABEL</th>\n",
       "    </tr>\n",
       "  </thead>\n",
       "  <tbody>\n",
       "    <tr>\n",
       "      <th>1</th>\n",
       "      <td>C1512265</td>\n",
       "      <td>Grant Review Process</td>\n",
       "      <td>Activities &amp; Behaviors</td>\n",
       "    </tr>\n",
       "    <tr>\n",
       "      <th>2</th>\n",
       "      <td>C0683830</td>\n",
       "      <td>document management</td>\n",
       "      <td>Activities &amp; Behaviors</td>\n",
       "    </tr>\n",
       "    <tr>\n",
       "      <th>3</th>\n",
       "      <td>C0260207</td>\n",
       "      <td>Rest periods</td>\n",
       "      <td>Activities &amp; Behaviors</td>\n",
       "    </tr>\n",
       "    <tr>\n",
       "      <th>7</th>\n",
       "      <td>C0023679</td>\n",
       "      <td>Life Table Analysis</td>\n",
       "      <td>Activities &amp; Behaviors</td>\n",
       "    </tr>\n",
       "    <tr>\n",
       "      <th>14</th>\n",
       "      <td>C0237821</td>\n",
       "      <td>Military Recruitment</td>\n",
       "      <td>Activities &amp; Behaviors</td>\n",
       "    </tr>\n",
       "    <tr>\n",
       "      <th>15</th>\n",
       "      <td>C0522727</td>\n",
       "      <td>Sailing</td>\n",
       "      <td>Activities &amp; Behaviors</td>\n",
       "    </tr>\n",
       "    <tr>\n",
       "      <th>16</th>\n",
       "      <td>C0681649</td>\n",
       "      <td>high school sports</td>\n",
       "      <td>Activities &amp; Behaviors</td>\n",
       "    </tr>\n",
       "    <tr>\n",
       "      <th>19</th>\n",
       "      <td>C0815198</td>\n",
       "      <td>social life</td>\n",
       "      <td>Activities &amp; Behaviors</td>\n",
       "    </tr>\n",
       "    <tr>\n",
       "      <th>22</th>\n",
       "      <td>C0038123</td>\n",
       "      <td>Staff Development</td>\n",
       "      <td>Activities &amp; Behaviors</td>\n",
       "    </tr>\n",
       "    <tr>\n",
       "      <th>23</th>\n",
       "      <td>C0178534</td>\n",
       "      <td>Careers</td>\n",
       "      <td>Activities &amp; Behaviors</td>\n",
       "    </tr>\n",
       "    <tr>\n",
       "      <th>27</th>\n",
       "      <td>C0019843</td>\n",
       "      <td>Holidays</td>\n",
       "      <td>Activities &amp; Behaviors</td>\n",
       "    </tr>\n",
       "    <tr>\n",
       "      <th>29</th>\n",
       "      <td>C0036592</td>\n",
       "      <td>Self Care</td>\n",
       "      <td>Activities &amp; Behaviors</td>\n",
       "    </tr>\n",
       "    <tr>\n",
       "      <th>30</th>\n",
       "      <td>C0020936</td>\n",
       "      <td>Imitative Behavior</td>\n",
       "      <td>Activities &amp; Behaviors</td>\n",
       "    </tr>\n",
       "    <tr>\n",
       "      <th>31</th>\n",
       "      <td>C0869014</td>\n",
       "      <td>Relations</td>\n",
       "      <td>Activities &amp; Behaviors</td>\n",
       "    </tr>\n",
       "    <tr>\n",
       "      <th>32</th>\n",
       "      <td>C0242440</td>\n",
       "      <td>Policy Development</td>\n",
       "      <td>Activities &amp; Behaviors</td>\n",
       "    </tr>\n",
       "    <tr>\n",
       "      <th>33</th>\n",
       "      <td>C0008067</td>\n",
       "      <td>Child Care</td>\n",
       "      <td>Activities &amp; Behaviors</td>\n",
       "    </tr>\n",
       "    <tr>\n",
       "      <th>34</th>\n",
       "      <td>C0680552</td>\n",
       "      <td>legalization</td>\n",
       "      <td>Activities &amp; Behaviors</td>\n",
       "    </tr>\n",
       "    <tr>\n",
       "      <th>35</th>\n",
       "      <td>C0028711</td>\n",
       "      <td>Nutrition Labeling</td>\n",
       "      <td>Activities &amp; Behaviors</td>\n",
       "    </tr>\n",
       "    <tr>\n",
       "      <th>36</th>\n",
       "      <td>C0010521</td>\n",
       "      <td>Cybernetics</td>\n",
       "      <td>Activities &amp; Behaviors</td>\n",
       "    </tr>\n",
       "    <tr>\n",
       "      <th>37</th>\n",
       "      <td>C0221179</td>\n",
       "      <td>Cohabiting</td>\n",
       "      <td>Activities &amp; Behaviors</td>\n",
       "    </tr>\n",
       "    <tr>\n",
       "      <th>40</th>\n",
       "      <td>C0868963</td>\n",
       "      <td>Gardening</td>\n",
       "      <td>Activities &amp; Behaviors</td>\n",
       "    </tr>\n",
       "    <tr>\n",
       "      <th>41</th>\n",
       "      <td>C0870326</td>\n",
       "      <td>Computer Assisted Testing</td>\n",
       "      <td>Activities &amp; Behaviors</td>\n",
       "    </tr>\n",
       "    <tr>\n",
       "      <th>42</th>\n",
       "      <td>C0871770</td>\n",
       "      <td>Household Management</td>\n",
       "      <td>Activities &amp; Behaviors</td>\n",
       "    </tr>\n",
       "    <tr>\n",
       "      <th>43</th>\n",
       "      <td>C0681646</td>\n",
       "      <td>amateur sports</td>\n",
       "      <td>Activities &amp; Behaviors</td>\n",
       "    </tr>\n",
       "    <tr>\n",
       "      <th>44</th>\n",
       "      <td>C0599251</td>\n",
       "      <td>welfare assistance</td>\n",
       "      <td>Activities &amp; Behaviors</td>\n",
       "    </tr>\n",
       "    <tr>\n",
       "      <th>45</th>\n",
       "      <td>C0242462</td>\n",
       "      <td>Desegregation</td>\n",
       "      <td>Activities &amp; Behaviors</td>\n",
       "    </tr>\n",
       "    <tr>\n",
       "      <th>46</th>\n",
       "      <td>C0441648</td>\n",
       "      <td>Washing</td>\n",
       "      <td>Activities &amp; Behaviors</td>\n",
       "    </tr>\n",
       "    <tr>\n",
       "      <th>47</th>\n",
       "      <td>C0007836</td>\n",
       "      <td>Certification</td>\n",
       "      <td>Activities &amp; Behaviors</td>\n",
       "    </tr>\n",
       "    <tr>\n",
       "      <th>48</th>\n",
       "      <td>C0683831</td>\n",
       "      <td>collection development</td>\n",
       "      <td>Activities &amp; Behaviors</td>\n",
       "    </tr>\n",
       "    <tr>\n",
       "      <th>49</th>\n",
       "      <td>C0815225</td>\n",
       "      <td>marital violence</td>\n",
       "      <td>Activities &amp; Behaviors</td>\n",
       "    </tr>\n",
       "    <tr>\n",
       "      <th>...</th>\n",
       "      <td>...</td>\n",
       "      <td>...</td>\n",
       "      <td>...</td>\n",
       "    </tr>\n",
       "    <tr>\n",
       "      <th>267348</th>\n",
       "      <td>C0948549</td>\n",
       "      <td>Medical device removal</td>\n",
       "      <td>Procedures</td>\n",
       "    </tr>\n",
       "    <tr>\n",
       "      <th>267408</th>\n",
       "      <td>C0204175</td>\n",
       "      <td>Dental fluoride treatment</td>\n",
       "      <td>Procedures</td>\n",
       "    </tr>\n",
       "    <tr>\n",
       "      <th>267431</th>\n",
       "      <td>C0086319</td>\n",
       "      <td>Fluorescence Photography, Fundus</td>\n",
       "      <td>Procedures</td>\n",
       "    </tr>\n",
       "    <tr>\n",
       "      <th>267476</th>\n",
       "      <td>C0394644</td>\n",
       "      <td>Multiple electroconvulsive therapy</td>\n",
       "      <td>Procedures</td>\n",
       "    </tr>\n",
       "    <tr>\n",
       "      <th>267550</th>\n",
       "      <td>C0457828</td>\n",
       "      <td>Periorbital incision</td>\n",
       "      <td>Procedures</td>\n",
       "    </tr>\n",
       "    <tr>\n",
       "      <th>267557</th>\n",
       "      <td>C1148426</td>\n",
       "      <td>TOCOLYSIS METHOD</td>\n",
       "      <td>Procedures</td>\n",
       "    </tr>\n",
       "    <tr>\n",
       "      <th>267572</th>\n",
       "      <td>C0202392</td>\n",
       "      <td>Germanium measurement</td>\n",
       "      <td>Procedures</td>\n",
       "    </tr>\n",
       "    <tr>\n",
       "      <th>267630</th>\n",
       "      <td>C0587668</td>\n",
       "      <td>Surgical service</td>\n",
       "      <td>Procedures</td>\n",
       "    </tr>\n",
       "    <tr>\n",
       "      <th>267712</th>\n",
       "      <td>C0641805</td>\n",
       "      <td>LEAMP protocol</td>\n",
       "      <td>Procedures</td>\n",
       "    </tr>\n",
       "    <tr>\n",
       "      <th>267737</th>\n",
       "      <td>C0576763</td>\n",
       "      <td>Excision of basal cell carcinoma</td>\n",
       "      <td>Procedures</td>\n",
       "    </tr>\n",
       "    <tr>\n",
       "      <th>267769</th>\n",
       "      <td>C1273434</td>\n",
       "      <td>Allergy screening test</td>\n",
       "      <td>Procedures</td>\n",
       "    </tr>\n",
       "    <tr>\n",
       "      <th>267790</th>\n",
       "      <td>C0196589</td>\n",
       "      <td>Decompression of trigeminal nerve root</td>\n",
       "      <td>Procedures</td>\n",
       "    </tr>\n",
       "    <tr>\n",
       "      <th>267808</th>\n",
       "      <td>C0849473</td>\n",
       "      <td>Compression, digestive</td>\n",
       "      <td>Procedures</td>\n",
       "    </tr>\n",
       "    <tr>\n",
       "      <th>267889</th>\n",
       "      <td>C0219258</td>\n",
       "      <td>FEMTX-P protocol</td>\n",
       "      <td>Procedures</td>\n",
       "    </tr>\n",
       "    <tr>\n",
       "      <th>267900</th>\n",
       "      <td>C0619832</td>\n",
       "      <td>CVAP-Bleo</td>\n",
       "      <td>Procedures</td>\n",
       "    </tr>\n",
       "    <tr>\n",
       "      <th>268013</th>\n",
       "      <td>C0177666</td>\n",
       "      <td>Closed [percutaneous] [needle] biopsy of breast</td>\n",
       "      <td>Procedures</td>\n",
       "    </tr>\n",
       "    <tr>\n",
       "      <th>268175</th>\n",
       "      <td>C0858017</td>\n",
       "      <td>Serum neutrophils</td>\n",
       "      <td>Procedures</td>\n",
       "    </tr>\n",
       "    <tr>\n",
       "      <th>268207</th>\n",
       "      <td>C0177881</td>\n",
       "      <td>Toxicology - blood</td>\n",
       "      <td>Procedures</td>\n",
       "    </tr>\n",
       "    <tr>\n",
       "      <th>268316</th>\n",
       "      <td>C0428200</td>\n",
       "      <td>Blood venous pH measurement</td>\n",
       "      <td>Procedures</td>\n",
       "    </tr>\n",
       "    <tr>\n",
       "      <th>268330</th>\n",
       "      <td>C0375855</td>\n",
       "      <td>prophylactic; organ removal</td>\n",
       "      <td>Procedures</td>\n",
       "    </tr>\n",
       "    <tr>\n",
       "      <th>268383</th>\n",
       "      <td>C0204117</td>\n",
       "      <td>Vocational retraining</td>\n",
       "      <td>Procedures</td>\n",
       "    </tr>\n",
       "    <tr>\n",
       "      <th>268435</th>\n",
       "      <td>C1255145</td>\n",
       "      <td>Urine Morphine Test</td>\n",
       "      <td>Procedures</td>\n",
       "    </tr>\n",
       "    <tr>\n",
       "      <th>268456</th>\n",
       "      <td>C0587934</td>\n",
       "      <td>Blindness certification</td>\n",
       "      <td>Procedures</td>\n",
       "    </tr>\n",
       "    <tr>\n",
       "      <th>268491</th>\n",
       "      <td>C0404028</td>\n",
       "      <td>Cervical polypectomy</td>\n",
       "      <td>Procedures</td>\n",
       "    </tr>\n",
       "    <tr>\n",
       "      <th>268494</th>\n",
       "      <td>C0166209</td>\n",
       "      <td>MIP protocol</td>\n",
       "      <td>Procedures</td>\n",
       "    </tr>\n",
       "    <tr>\n",
       "      <th>268629</th>\n",
       "      <td>C0968612</td>\n",
       "      <td>OPEC OJEC protocol</td>\n",
       "      <td>Procedures</td>\n",
       "    </tr>\n",
       "    <tr>\n",
       "      <th>268673</th>\n",
       "      <td>C0750315</td>\n",
       "      <td>VOLVULUS REPAIR</td>\n",
       "      <td>Procedures</td>\n",
       "    </tr>\n",
       "    <tr>\n",
       "      <th>268689</th>\n",
       "      <td>C0237639</td>\n",
       "      <td>Educational Grading</td>\n",
       "      <td>Procedures</td>\n",
       "    </tr>\n",
       "    <tr>\n",
       "      <th>268835</th>\n",
       "      <td>C0443059</td>\n",
       "      <td>Snellen technique</td>\n",
       "      <td>Procedures</td>\n",
       "    </tr>\n",
       "    <tr>\n",
       "      <th>268840</th>\n",
       "      <td>C0580986</td>\n",
       "      <td>In-house services</td>\n",
       "      <td>Procedures</td>\n",
       "    </tr>\n",
       "  </tbody>\n",
       "</table>\n",
       "<p>15911 rows × 3 columns</p>\n",
       "</div>"
      ],
      "text/plain": [
       "              ID                                             name  \\\n",
       "1       C1512265                             Grant Review Process   \n",
       "2       C0683830                              document management   \n",
       "3       C0260207                                     Rest periods   \n",
       "7       C0023679                              Life Table Analysis   \n",
       "14      C0237821                             Military Recruitment   \n",
       "15      C0522727                                          Sailing   \n",
       "16      C0681649                               high school sports   \n",
       "19      C0815198                                      social life   \n",
       "22      C0038123                                Staff Development   \n",
       "23      C0178534                                          Careers   \n",
       "27      C0019843                                         Holidays   \n",
       "29      C0036592                                        Self Care   \n",
       "30      C0020936                               Imitative Behavior   \n",
       "31      C0869014                                        Relations   \n",
       "32      C0242440                               Policy Development   \n",
       "33      C0008067                                       Child Care   \n",
       "34      C0680552                                     legalization   \n",
       "35      C0028711                               Nutrition Labeling   \n",
       "36      C0010521                                      Cybernetics   \n",
       "37      C0221179                                       Cohabiting   \n",
       "40      C0868963                                        Gardening   \n",
       "41      C0870326                        Computer Assisted Testing   \n",
       "42      C0871770                             Household Management   \n",
       "43      C0681646                                   amateur sports   \n",
       "44      C0599251                               welfare assistance   \n",
       "45      C0242462                                    Desegregation   \n",
       "46      C0441648                                          Washing   \n",
       "47      C0007836                                    Certification   \n",
       "48      C0683831                           collection development   \n",
       "49      C0815225                                 marital violence   \n",
       "...          ...                                              ...   \n",
       "267348  C0948549                           Medical device removal   \n",
       "267408  C0204175                        Dental fluoride treatment   \n",
       "267431  C0086319                 Fluorescence Photography, Fundus   \n",
       "267476  C0394644               Multiple electroconvulsive therapy   \n",
       "267550  C0457828                             Periorbital incision   \n",
       "267557  C1148426                                 TOCOLYSIS METHOD   \n",
       "267572  C0202392                            Germanium measurement   \n",
       "267630  C0587668                                 Surgical service   \n",
       "267712  C0641805                                   LEAMP protocol   \n",
       "267737  C0576763                 Excision of basal cell carcinoma   \n",
       "267769  C1273434                           Allergy screening test   \n",
       "267790  C0196589           Decompression of trigeminal nerve root   \n",
       "267808  C0849473                           Compression, digestive   \n",
       "267889  C0219258                                 FEMTX-P protocol   \n",
       "267900  C0619832                                        CVAP-Bleo   \n",
       "268013  C0177666  Closed [percutaneous] [needle] biopsy of breast   \n",
       "268175  C0858017                                Serum neutrophils   \n",
       "268207  C0177881                               Toxicology - blood   \n",
       "268316  C0428200                      Blood venous pH measurement   \n",
       "268330  C0375855                      prophylactic; organ removal   \n",
       "268383  C0204117                            Vocational retraining   \n",
       "268435  C1255145                              Urine Morphine Test   \n",
       "268456  C0587934                          Blindness certification   \n",
       "268491  C0404028                             Cervical polypectomy   \n",
       "268494  C0166209                                     MIP protocol   \n",
       "268629  C0968612                               OPEC OJEC protocol   \n",
       "268673  C0750315                                  VOLVULUS REPAIR   \n",
       "268689  C0237639                              Educational Grading   \n",
       "268835  C0443059                                Snellen technique   \n",
       "268840  C0580986                                In-house services   \n",
       "\n",
       "                         LABEL  \n",
       "1       Activities & Behaviors  \n",
       "2       Activities & Behaviors  \n",
       "3       Activities & Behaviors  \n",
       "7       Activities & Behaviors  \n",
       "14      Activities & Behaviors  \n",
       "15      Activities & Behaviors  \n",
       "16      Activities & Behaviors  \n",
       "19      Activities & Behaviors  \n",
       "22      Activities & Behaviors  \n",
       "23      Activities & Behaviors  \n",
       "27      Activities & Behaviors  \n",
       "29      Activities & Behaviors  \n",
       "30      Activities & Behaviors  \n",
       "31      Activities & Behaviors  \n",
       "32      Activities & Behaviors  \n",
       "33      Activities & Behaviors  \n",
       "34      Activities & Behaviors  \n",
       "35      Activities & Behaviors  \n",
       "36      Activities & Behaviors  \n",
       "37      Activities & Behaviors  \n",
       "40      Activities & Behaviors  \n",
       "41      Activities & Behaviors  \n",
       "42      Activities & Behaviors  \n",
       "43      Activities & Behaviors  \n",
       "44      Activities & Behaviors  \n",
       "45      Activities & Behaviors  \n",
       "46      Activities & Behaviors  \n",
       "47      Activities & Behaviors  \n",
       "48      Activities & Behaviors  \n",
       "49      Activities & Behaviors  \n",
       "...                        ...  \n",
       "267348              Procedures  \n",
       "267408              Procedures  \n",
       "267431              Procedures  \n",
       "267476              Procedures  \n",
       "267550              Procedures  \n",
       "267557              Procedures  \n",
       "267572              Procedures  \n",
       "267630              Procedures  \n",
       "267712              Procedures  \n",
       "267737              Procedures  \n",
       "267769              Procedures  \n",
       "267790              Procedures  \n",
       "267808              Procedures  \n",
       "267889              Procedures  \n",
       "267900              Procedures  \n",
       "268013              Procedures  \n",
       "268175              Procedures  \n",
       "268207              Procedures  \n",
       "268316              Procedures  \n",
       "268330              Procedures  \n",
       "268383              Procedures  \n",
       "268435              Procedures  \n",
       "268456              Procedures  \n",
       "268491              Procedures  \n",
       "268494              Procedures  \n",
       "268629              Procedures  \n",
       "268673              Procedures  \n",
       "268689              Procedures  \n",
       "268835              Procedures  \n",
       "268840              Procedures  \n",
       "\n",
       "[15911 rows x 3 columns]"
      ]
     },
     "execution_count": 18,
     "metadata": {},
     "output_type": "execute_result"
    }
   ],
   "source": [
    "idx = nodes.query('ID in @not_in_edges').index\n",
    "nodes.loc[idx]"
   ]
  },
  {
   "cell_type": "code",
   "execution_count": 19,
   "metadata": {
    "collapsed": true
   },
   "outputs": [],
   "source": [
    "nodes = nodes.drop(idx)"
   ]
  },
  {
   "cell_type": "code",
   "execution_count": 20,
   "metadata": {},
   "outputs": [
    {
     "data": {
      "text/plain": [
       "253006"
      ]
     },
     "execution_count": 20,
     "metadata": {},
     "output_type": "execute_result"
    }
   ],
   "source": [
    "len(nodes)"
   ]
  },
  {
   "cell_type": "code",
   "execution_count": 21,
   "metadata": {
    "collapsed": true
   },
   "outputs": [],
   "source": [
    "# Sort values before writing to disk\n",
    "result = result.sort_values('TYPE')\n",
    "nodes = nodes.sort_values('LABEL')\n",
    "\n",
    "# Add in colons required by neo4j\n",
    "result.columns = [':START_ID', ':END_ID', ':TYPE']\n",
    "nodes.columns = [':ID', 'name', ':LABEL']\n",
    "\n",
    "result.to_csv('../data/edges_filtered_001.csv', index=False)\n",
    "nodes.to_csv('../data/nodes_filtered_001.csv', index=False)"
   ]
  },
  {
   "cell_type": "code",
   "execution_count": 22,
   "metadata": {},
   "outputs": [
    {
     "data": {
      "image/png": "[encoded data removed]",
      "text/plain": [
       "<matplotlib.figure.Figure at 0x7f545362b710>"
      ]
     },
     "metadata": {},
     "output_type": "display_data"
    }
   ],
   "source": [
    "nodes[':LABEL'].value_counts().plot(kind='bar');"
   ]
  },
  {
   "cell_type": "markdown",
   "metadata": {
    "collapsed": true
   },
   "source": [
    "# Look at the Metagraph to see if some edges can be combined"
   ]
  },
  {
   "cell_type": "code",
   "execution_count": 23,
   "metadata": {
    "collapsed": true
   },
   "outputs": [],
   "source": [
    "# Make the columns queryable and easier to work with\n",
    "nodes.columns = ['ID', 'name', 'LABEL']\n",
    "result.columns = ['START_ID', 'END_ID', 'TYPE']"
   ]
  },
  {
   "cell_type": "code",
   "execution_count": 24,
   "metadata": {
    "collapsed": true
   },
   "outputs": [],
   "source": [
    "def list_connections(metanode1, metanode2):\n",
    "    \n",
    "    # get the ids for the given node\n",
    "    ids1 = list(nodes.query(\"LABEL == @metanode1\")['ID'])\n",
    "    \n",
    "    # if looking at edges between the same metanode, can get result right away\n",
    "    if metanode1 == metanode2:\n",
    "        res = result.query('START_ID in @ids1 and END_ID in @ids1')\n",
    "    \n",
    "    else:\n",
    "        # Ids for second metanode\n",
    "        ids2 = list(nodes.query(\"LABEL == @metanode2\")['ID'])\n",
    "    \n",
    "        # \n",
    "        res1 = result.query('START_ID in @ids1 and END_ID in @ids2')\n",
    "        res2 = result.query('START_ID in @ids2 and END_ID in @ids1')\n",
    "    \n",
    "        res = pd.concat([res1, res2])\n",
    "    \n",
    "    return res['TYPE'].value_counts()\n",
    "    "
   ]
  },
  {
   "cell_type": "code",
   "execution_count": 25,
   "metadata": {
    "collapsed": true
   },
   "outputs": [],
   "source": [
    "id_to_type = nodes.set_index('ID')['LABEL'].to_dict()"
   ]
  },
  {
   "cell_type": "code",
   "execution_count": 26,
   "metadata": {},
   "outputs": [
    {
     "data": {
      "text/plain": [
       "47"
      ]
     },
     "execution_count": 26,
     "metadata": {},
     "output_type": "execute_result"
    }
   ],
   "source": [
    "combos = []\n",
    "for row in result.drop_duplicates(subset='TYPE').itertuples(index=False):\n",
    "    combos.append((id_to_type[row[0]], id_to_type[row[1]]))\n",
    "combos = [tuple(sorted(c)) for c in combos]\n",
    "combos = sorted(list(set(combos)))\n",
    "len(combos)"
   ]
  },
  {
   "cell_type": "code",
   "execution_count": 27,
   "metadata": {},
   "outputs": [
    {
     "data": {
      "text/plain": [
       "[('Activities & Behaviors', 'Living Beings'),\n",
       " ('Anatomy', 'Anatomy'),\n",
       " ('Anatomy', 'Chemicals & Drugs'),\n",
       " ('Anatomy', 'Compound'),\n",
       " ('Anatomy', 'Concepts & Ideas'),\n",
       " ('Anatomy', 'Devices'),\n",
       " ('Anatomy', 'Disease'),\n",
       " ('Anatomy', 'Disorders'),\n",
       " ('Anatomy', 'Genes & Molecular Sequences'),\n",
       " ('Anatomy', 'Living Beings'),\n",
       " ('Anatomy', 'Procedures'),\n",
       " ('Chemicals & Drugs', 'Chemicals & Drugs'),\n",
       " ('Chemicals & Drugs', 'Compound'),\n",
       " ('Chemicals & Drugs', 'Disease'),\n",
       " ('Chemicals & Drugs', 'Disorders'),\n",
       " ('Chemicals & Drugs', 'Genes & Molecular Sequences'),\n",
       " ('Chemicals & Drugs', 'Living Beings'),\n",
       " ('Chemicals & Drugs', 'Phenomena'),\n",
       " ('Chemicals & Drugs', 'Physiology'),\n",
       " ('Chemicals & Drugs', 'Procedures'),\n",
       " ('Compound', 'Genes & Molecular Sequences'),\n",
       " ('Compound', 'Living Beings'),\n",
       " ('Devices', 'Devices'),\n",
       " ('Devices', 'Disorders'),\n",
       " ('Devices', 'Procedures'),\n",
       " ('Disease', 'Disease'),\n",
       " ('Disease', 'Disorders'),\n",
       " ('Disease', 'Genes & Molecular Sequences'),\n",
       " ('Disease', 'Living Beings'),\n",
       " ('Disease', 'Physiology'),\n",
       " ('Disease', 'Procedures'),\n",
       " ('Disorders', 'Disorders'),\n",
       " ('Disorders', 'Genes & Molecular Sequences'),\n",
       " ('Disorders', 'Living Beings'),\n",
       " ('Disorders', 'Physiology'),\n",
       " ('Disorders', 'Procedures'),\n",
       " ('Genes & Molecular Sequences', 'Genes & Molecular Sequences'),\n",
       " ('Genes & Molecular Sequences', 'Living Beings'),\n",
       " ('Genes & Molecular Sequences', 'Physiology'),\n",
       " ('Genes & Molecular Sequences', 'Procedures'),\n",
       " ('Living Beings', 'Living Beings'),\n",
       " ('Living Beings', 'Physiology'),\n",
       " ('Living Beings', 'Procedures'),\n",
       " ('Organizations', 'Procedures'),\n",
       " ('Physiology', 'Physiology'),\n",
       " ('Physiology', 'Procedures'),\n",
       " ('Procedures', 'Procedures')]"
      ]
     },
     "execution_count": 27,
     "metadata": {},
     "output_type": "execute_result"
    }
   ],
   "source": [
    "combos"
   ]
  },
  {
   "cell_type": "code",
   "execution_count": 28,
   "metadata": {},
   "outputs": [
    {
     "name": "stderr",
     "output_type": "stream",
     "text": [
      "100%|██████████| 47/47 [2:16:56<00:00, 145.61s/it]  \n"
     ]
    }
   ],
   "source": [
    "if os.path.exists(\"../data/edge_pair_counts_orig.pkl\"):\n",
    "    combo_counts = pickle.load(open( \"../data/edge_pair_counts_orig.pkl\", \"rb\" ))\n",
    "else:\n",
    "    # This block took 138-minutes to run, pickleing for future use\n",
    "    combo_counts = dict()\n",
    "    for comb in tqdm(combos):\n",
    "        combo_counts[comb] = list_connections(comb[0], comb[1])\n",
    "    pickle.dump(combo_counts, open( \"../data/edge_pair_counts_orig.pkl\", \"wb\" ) )"
   ]
  },
  {
   "cell_type": "code",
   "execution_count": 29,
   "metadata": {
    "collapsed": true
   },
   "outputs": [],
   "source": [
    "edge_numbs = {k: len(v) for k, v in combo_counts.items()}"
   ]
  },
  {
   "cell_type": "code",
   "execution_count": 30,
   "metadata": {},
   "outputs": [
    {
     "name": "stdout",
     "output_type": "stream",
     "text": [
      "('Chemicals & Drugs', 'Chemicals & Drugs') : 11\n",
      "('Chemicals & Drugs', 'Genes & Molecular Sequences') : 10\n",
      "('Chemicals & Drugs', 'Disorders') : 9\n",
      "('Disorders', 'Genes & Molecular Sequences') : 7\n",
      "('Chemicals & Drugs', 'Disease') : 7\n",
      "('Genes & Molecular Sequences', 'Genes & Molecular Sequences') : 7\n",
      "('Anatomy', 'Chemicals & Drugs') : 6\n",
      "('Anatomy', 'Genes & Molecular Sequences') : 6\n",
      "('Chemicals & Drugs', 'Physiology') : 6\n",
      "('Chemicals & Drugs', 'Compound') : 5\n",
      "('Disorders', 'Disorders') : 5\n",
      "('Disease', 'Genes & Molecular Sequences') : 5\n",
      "('Disorders', 'Procedures') : 5\n",
      "('Disease', 'Disorders') : 5\n",
      "('Procedures', 'Procedures') : 5\n",
      "('Disorders', 'Living Beings') : 4\n",
      "('Chemicals & Drugs', 'Living Beings') : 4\n",
      "('Genes & Molecular Sequences', 'Physiology') : 4\n",
      "('Physiology', 'Physiology') : 2\n",
      "('Living Beings', 'Procedures') : 2\n",
      "('Anatomy', 'Disorders') : 2\n",
      "('Living Beings', 'Living Beings') : 2\n",
      "('Disorders', 'Physiology') : 2\n",
      "('Chemicals & Drugs', 'Phenomena') : 2\n",
      "('Disease', 'Living Beings') : 2\n",
      "('Anatomy', 'Disease') : 2\n",
      "('Disease', 'Physiology') : 2\n",
      "('Disease', 'Procedures') : 2\n",
      "('Genes & Molecular Sequences', 'Living Beings') : 2\n",
      "('Disease', 'Disease') : 2\n",
      "('Anatomy', 'Living Beings') : 2\n",
      "('Anatomy', 'Anatomy') : 2\n",
      "('Chemicals & Drugs', 'Procedures') : 2\n",
      "('Anatomy', 'Devices') : 1\n",
      "('Compound', 'Living Beings') : 1\n",
      "('Physiology', 'Procedures') : 1\n",
      "('Devices', 'Devices') : 1\n",
      "('Anatomy', 'Compound') : 1\n",
      "('Devices', 'Disorders') : 1\n",
      "('Devices', 'Procedures') : 1\n",
      "('Activities & Behaviors', 'Living Beings') : 1\n",
      "('Organizations', 'Procedures') : 1\n",
      "('Compound', 'Genes & Molecular Sequences') : 1\n",
      "('Anatomy', 'Concepts & Ideas') : 1\n",
      "('Anatomy', 'Procedures') : 1\n",
      "('Genes & Molecular Sequences', 'Procedures') : 1\n",
      "('Living Beings', 'Physiology') : 1\n"
     ]
    }
   ],
   "source": [
    "most_to_least = sorted(list(edge_numbs.items()), key = lambda x: x[1], reverse=True)\n",
    "for item in most_to_least:\n",
    "    print(item[0], ':', item[1])"
   ]
  },
  {
   "cell_type": "code",
   "execution_count": 35,
   "metadata": {
    "collapsed": true
   },
   "outputs": [],
   "source": [
    "def change_edge_type(from_type, to_type, swap=False):\n",
    "    idx = result.query('TYPE == @from_type').index\n",
    "    result.loc[idx, 'TYPE'] = to_type\n",
    "    if swap:\n",
    "        tmp = result.loc[idx, 'START_ID']\n",
    "        result.loc[idx, 'START_ID'] = result.loc[idx, 'END_ID']\n",
    "        result.loc[idx, 'END_ID'] = tmp\n",
    "                                             \n",
    "def change_list_no_swap(from_list, to_type):\n",
    "    for from_type in from_list:\n",
    "        change_edge_type(from_type, to_type, swap=False)\n",
    "        \n",
    "def drop_edges_from_list(drop_edges):\n",
    "    idx = result.query('TYPE in @drop_edges').index\n",
    "    result.drop(idx, inplace=True)"
   ]
  },
  {
   "cell_type": "code",
   "execution_count": 33,
   "metadata": {},
   "outputs": [
    {
     "name": "stdout",
     "output_type": "stream",
     "text": [
      "Activities & Behaviors --- Living Beings \n",
      "\n",
      "PROCESS_OF_ABpro>LB    20632\n",
      "Name: TYPE, dtype: int64\n"
     ]
    }
   ],
   "source": [
    "combo_num = 0\n",
    "\n",
    "pair = combos[combo_num]\n",
    "\n",
    "print(pair[0], '---', pair[1], '\\n')\n",
    "print(combo_counts[combos[combo_num]])"
   ]
  },
  {
   "cell_type": "code",
   "execution_count": 34,
   "metadata": {},
   "outputs": [
    {
     "name": "stdout",
     "output_type": "stream",
     "text": [
      "Anatomy --- Anatomy \n",
      "\n",
      "PART_OF_Apo>A       202994\n",
      "LOCATION_OF_AloA     72116\n",
      "Name: TYPE, dtype: int64\n"
     ]
    }
   ],
   "source": [
    "combo_num = 1\n",
    "\n",
    "pair = combos[combo_num]\n",
    "\n",
    "print(pair[0], '---', pair[1], '\\n')\n",
    "print(combo_counts[combos[combo_num]])"
   ]
  },
  {
   "cell_type": "code",
   "execution_count": 36,
   "metadata": {
    "collapsed": true
   },
   "outputs": [],
   "source": [
    "# Condense Anatomy relationships\n",
    "change_list_no_swap(['PART_OF_Apo>A', 'LOCATION_OF_AloA'], 'LOCATION_OF_AloA')"
   ]
  },
  {
   "cell_type": "code",
   "execution_count": 38,
   "metadata": {},
   "outputs": [
    {
     "name": "stdout",
     "output_type": "stream",
     "text": [
      "Anatomy --- Chemicals & Drugs \n",
      "\n",
      "LOCATION_OF_AloCD    800579\n",
      "PART_OF_CDpo>A       317538\n",
      "AFFECTS_CDafA        171590\n",
      "AUGMENTS_CDagA       148424\n",
      "PRODUCES_Apd>CD      104830\n",
      "DISRUPTS_CDdsA        72518\n",
      "Name: TYPE, dtype: int64\n"
     ]
    }
   ],
   "source": [
    "combo_num = 2\n",
    "\n",
    "pair = combos[combo_num]\n",
    "\n",
    "print(pair[0], '---', pair[1], '\\n')\n",
    "print(combo_counts[combos[combo_num]])"
   ]
  },
  {
   "cell_type": "markdown",
   "metadata": {},
   "source": [
    "For anatomy, rather than postive, negative and associate relations, we weill have two relationships,\n",
    "\n",
    "Located in - anatamoy where chemicals are produced  \n",
    "Affects -  where chemicals have their affect."
   ]
  },
  {
   "cell_type": "code",
   "execution_count": 39,
   "metadata": {
    "collapsed": true
   },
   "outputs": [],
   "source": [
    "change_list_no_swap(['LOCATION_OF_AloCD', 'PRODUCES_Apd>CD'], 'LOCATION_OF_AloCD')\n",
    "change_edge_type('PART_OF_CDpo>A', 'LOCATION_OF_AloCD', swap=True)\n",
    "\n",
    "change_list_no_swap(['AFFECTS_CDafA', 'AUGMENTS_CDagA', 'DISRUPTS_CDdsA'], 'AFFECTS_CDafA')"
   ]
  },
  {
   "cell_type": "code",
   "execution_count": 40,
   "metadata": {},
   "outputs": [
    {
     "name": "stdout",
     "output_type": "stream",
     "text": [
      "Anatomy --- Compound \n",
      "\n",
      "LOCATION_OF_AloC    59781\n",
      "Name: TYPE, dtype: int64\n"
     ]
    }
   ],
   "source": [
    "combo_num = 3\n",
    "\n",
    "pair = combos[combo_num]\n",
    "\n",
    "print(pair[0], '---', pair[1], '\\n')\n",
    "print(combo_counts[combos[combo_num]])"
   ]
  },
  {
   "cell_type": "code",
   "execution_count": null,
   "metadata": {
    "collapsed": true
   },
   "outputs": [],
   "source": []
  }
 ],
 "metadata": {
  "kernelspec": {
   "display_name": "Python 3",
   "language": "python",
   "name": "python3"
  },
  "language_info": {
   "codemirror_mode": {
    "name": "ipython",
    "version": 3
   },
   "file_extension": ".py",
   "mimetype": "text/x-python",
   "name": "python",
   "nbconvert_exporter": "python",
   "pygments_lexer": "ipython3",
   "version": "3.5.4"
  }
 },
 "nbformat": 4,
 "nbformat_minor": 1
}
