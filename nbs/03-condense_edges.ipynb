{
 "cells": [
  {
   "cell_type": "code",
   "execution_count": 1,
   "metadata": {
    "collapsed": true
   },
   "outputs": [],
   "source": [
    "import os\n",
    "import pickle\n",
    "%matplotlib inline\n",
    "import pandas as pd\n",
    "import seaborn as sns\n",
    "from tqdm import tqdm"
   ]
  },
  {
   "cell_type": "code",
   "execution_count": 2,
   "metadata": {
    "collapsed": true
   },
   "outputs": [],
   "source": [
    "nodes = pd.read_csv('../data/nodes.csv')\n",
    "edges = pd.read_csv('../data/edges.csv')\n",
    "\n",
    "# remove : character from column names to make them queryable\n",
    "nodes = nodes.rename(columns={':ID': 'ID', ':LABEL': 'LABEL'})\n",
    "edges = edges.rename(columns={':START_ID': 'START_ID', ':END_ID': 'END_ID', ':TYPE': 'TYPE'})"
   ]
  },
  {
   "cell_type": "code",
   "execution_count": 3,
   "metadata": {},
   "outputs": [
    {
     "data": {
      "text/html": [
       "<div>\n",
       "<style>\n",
       "    .dataframe thead tr:only-child th {\n",
       "        text-align: right;\n",
       "    }\n",
       "\n",
       "    .dataframe thead th {\n",
       "        text-align: left;\n",
       "    }\n",
       "\n",
       "    .dataframe tbody tr th {\n",
       "        vertical-align: top;\n",
       "    }\n",
       "</style>\n",
       "<table border=\"1\" class=\"dataframe\">\n",
       "  <thead>\n",
       "    <tr style=\"text-align: right;\">\n",
       "      <th></th>\n",
       "      <th>ID</th>\n",
       "      <th>name</th>\n",
       "      <th>LABEL</th>\n",
       "    </tr>\n",
       "  </thead>\n",
       "  <tbody>\n",
       "    <tr>\n",
       "      <th>0</th>\n",
       "      <td>C0038195</td>\n",
       "      <td>State Medicine</td>\n",
       "      <td>Activities &amp; Behaviors</td>\n",
       "    </tr>\n",
       "    <tr>\n",
       "      <th>1</th>\n",
       "      <td>C1290952</td>\n",
       "      <td>Taking medication</td>\n",
       "      <td>Activities &amp; Behaviors</td>\n",
       "    </tr>\n",
       "    <tr>\n",
       "      <th>2</th>\n",
       "      <td>C0680552</td>\n",
       "      <td>legalization</td>\n",
       "      <td>Activities &amp; Behaviors</td>\n",
       "    </tr>\n",
       "    <tr>\n",
       "      <th>3</th>\n",
       "      <td>C0085092</td>\n",
       "      <td>Parenting behavior</td>\n",
       "      <td>Activities &amp; Behaviors</td>\n",
       "    </tr>\n",
       "    <tr>\n",
       "      <th>4</th>\n",
       "      <td>C1096771</td>\n",
       "      <td>Murderer</td>\n",
       "      <td>Activities &amp; Behaviors</td>\n",
       "    </tr>\n",
       "  </tbody>\n",
       "</table>\n",
       "</div>"
      ],
      "text/plain": [
       "         ID                name                   LABEL\n",
       "0  C0038195      State Medicine  Activities & Behaviors\n",
       "1  C1290952   Taking medication  Activities & Behaviors\n",
       "2  C0680552        legalization  Activities & Behaviors\n",
       "3  C0085092  Parenting behavior  Activities & Behaviors\n",
       "4  C1096771            Murderer  Activities & Behaviors"
      ]
     },
     "execution_count": 3,
     "metadata": {},
     "output_type": "execute_result"
    }
   ],
   "source": [
    "nodes.head()"
   ]
  },
  {
   "cell_type": "code",
   "execution_count": 4,
   "metadata": {},
   "outputs": [
    {
     "data": {
      "text/html": [
       "<div>\n",
       "<style>\n",
       "    .dataframe thead tr:only-child th {\n",
       "        text-align: right;\n",
       "    }\n",
       "\n",
       "    .dataframe thead th {\n",
       "        text-align: left;\n",
       "    }\n",
       "\n",
       "    .dataframe tbody tr th {\n",
       "        vertical-align: top;\n",
       "    }\n",
       "</style>\n",
       "<table border=\"1\" class=\"dataframe\">\n",
       "  <thead>\n",
       "    <tr style=\"text-align: right;\">\n",
       "      <th></th>\n",
       "      <th>START_ID</th>\n",
       "      <th>END_ID</th>\n",
       "      <th>TYPE</th>\n",
       "      <th>pmids</th>\n",
       "    </tr>\n",
       "  </thead>\n",
       "  <tbody>\n",
       "    <tr>\n",
       "      <th>0</th>\n",
       "      <td>C1273870</td>\n",
       "      <td>C0282623</td>\n",
       "      <td>ADMINISTERED_TO_ABatAB</td>\n",
       "      <td>1</td>\n",
       "    </tr>\n",
       "    <tr>\n",
       "      <th>1</th>\n",
       "      <td>C1273870</td>\n",
       "      <td>C1138603</td>\n",
       "      <td>ADMINISTERED_TO_ABatCI</td>\n",
       "      <td>2</td>\n",
       "    </tr>\n",
       "    <tr>\n",
       "      <th>2</th>\n",
       "      <td>C0035028</td>\n",
       "      <td>C0221192</td>\n",
       "      <td>ADMINISTERED_TO_ABatCI</td>\n",
       "      <td>2</td>\n",
       "    </tr>\n",
       "    <tr>\n",
       "      <th>3</th>\n",
       "      <td>C1273870</td>\n",
       "      <td>C0221192</td>\n",
       "      <td>ADMINISTERED_TO_ABatCI</td>\n",
       "      <td>53</td>\n",
       "    </tr>\n",
       "    <tr>\n",
       "      <th>4</th>\n",
       "      <td>C0556656</td>\n",
       "      <td>C0221192</td>\n",
       "      <td>ADMINISTERED_TO_ABatCI</td>\n",
       "      <td>7</td>\n",
       "    </tr>\n",
       "  </tbody>\n",
       "</table>\n",
       "</div>"
      ],
      "text/plain": [
       "   START_ID    END_ID                    TYPE  pmids\n",
       "0  C1273870  C0282623  ADMINISTERED_TO_ABatAB      1\n",
       "1  C1273870  C1138603  ADMINISTERED_TO_ABatCI      2\n",
       "2  C0035028  C0221192  ADMINISTERED_TO_ABatCI      2\n",
       "3  C1273870  C0221192  ADMINISTERED_TO_ABatCI     53\n",
       "4  C0556656  C0221192  ADMINISTERED_TO_ABatCI      7"
      ]
     },
     "execution_count": 4,
     "metadata": {},
     "output_type": "execute_result"
    }
   ],
   "source": [
    "edges.head()"
   ]
  },
  {
   "cell_type": "code",
   "execution_count": 5,
   "metadata": {},
   "outputs": [
    {
     "name": "stdout",
     "output_type": "stream",
     "text": [
      "20783717\n"
     ]
    },
    {
     "data": {
      "text/plain": [
       "(20783717, 4)"
      ]
     },
     "execution_count": 5,
     "metadata": {},
     "output_type": "execute_result"
    }
   ],
   "source": [
    "print(edges.shape[0])\n",
    "edges = edges.drop_duplicates()\n",
    "edges = edges.dropna()\n",
    "edges.shape"
   ]
  },
  {
   "cell_type": "markdown",
   "metadata": {
    "collapsed": true
   },
   "source": [
    "# Look at the Metagraph to see if some edges can be combined"
   ]
  },
  {
   "cell_type": "code",
   "execution_count": 6,
   "metadata": {
    "collapsed": true
   },
   "outputs": [],
   "source": [
    "def list_connections(metanode1, metanode2):\n",
    "    \n",
    "    # get the ids for the given node\n",
    "    ids1 = list(nodes.query(\"LABEL == @metanode1\")['ID'])\n",
    "    \n",
    "    # if looking at edges between the same metanode, can get edges right away\n",
    "    if metanode1 == metanode2:\n",
    "        res = edges.query('START_ID in @ids1 and END_ID in @ids1')\n",
    "    \n",
    "    else:\n",
    "        # Ids for second metanode\n",
    "        ids2 = list(nodes.query(\"LABEL == @metanode2\")['ID'])\n",
    "    \n",
    "        # \n",
    "        res1 = edges.query('START_ID in @ids1 and END_ID in @ids2')\n",
    "        res2 = edges.query('START_ID in @ids2 and END_ID in @ids1')\n",
    "    \n",
    "        res = pd.concat([res1, res2])\n",
    "    \n",
    "    return res['TYPE'].value_counts()\n",
    "    "
   ]
  },
  {
   "cell_type": "code",
   "execution_count": 7,
   "metadata": {
    "collapsed": true
   },
   "outputs": [],
   "source": [
    "id_to_type = nodes.set_index('ID')['LABEL'].to_dict()"
   ]
  },
  {
   "cell_type": "code",
   "execution_count": 8,
   "metadata": {},
   "outputs": [
    {
     "data": {
      "text/plain": [
       "116"
      ]
     },
     "execution_count": 8,
     "metadata": {},
     "output_type": "execute_result"
    }
   ],
   "source": [
    "combos = []\n",
    "for row in edges.drop_duplicates(subset='TYPE').itertuples(index=False):\n",
    "    combos.append((id_to_type[row[0]], id_to_type[row[1]]))\n",
    "combos = [tuple(sorted(c)) for c in combos]\n",
    "combos = sorted(list(set(combos)))\n",
    "len(combos)"
   ]
  },
  {
   "cell_type": "code",
   "execution_count": 9,
   "metadata": {},
   "outputs": [
    {
     "data": {
      "text/plain": [
       "[('Activities & Behaviors', 'Activities & Behaviors'),\n",
       " ('Activities & Behaviors', 'Anatomy'),\n",
       " ('Activities & Behaviors', 'Chemicals & Drugs'),\n",
       " ('Activities & Behaviors', 'Concepts & Ideas'),\n",
       " ('Activities & Behaviors', 'Devices'),\n",
       " ('Activities & Behaviors', 'Disorders'),\n",
       " ('Activities & Behaviors', 'Genes & Molecular Sequences'),\n",
       " ('Activities & Behaviors', 'Living Beings'),\n",
       " ('Activities & Behaviors', 'Objects'),\n",
       " ('Activities & Behaviors', 'Occupations'),\n",
       " ('Activities & Behaviors', 'Organizations'),\n",
       " ('Activities & Behaviors', 'Phenomena'),\n",
       " ('Activities & Behaviors', 'Physiology'),\n",
       " ('Activities & Behaviors', 'Procedures'),\n",
       " ('Anatomy', 'Anatomy'),\n",
       " ('Anatomy', 'Chemicals & Drugs'),\n",
       " ('Anatomy', 'Concepts & Ideas'),\n",
       " ('Anatomy', 'Devices'),\n",
       " ('Anatomy', 'Disorders'),\n",
       " ('Anatomy', 'Genes & Molecular Sequences'),\n",
       " ('Anatomy', 'Geographic Areas'),\n",
       " ('Anatomy', 'Living Beings'),\n",
       " ('Anatomy', 'Objects'),\n",
       " ('Anatomy', 'Occupations'),\n",
       " ('Anatomy', 'Organizations'),\n",
       " ('Anatomy', 'Phenomena'),\n",
       " ('Anatomy', 'Physiology'),\n",
       " ('Anatomy', 'Procedures'),\n",
       " ('Chemicals & Drugs', 'Chemicals & Drugs'),\n",
       " ('Chemicals & Drugs', 'Concepts & Ideas'),\n",
       " ('Chemicals & Drugs', 'Devices'),\n",
       " ('Chemicals & Drugs', 'Disorders'),\n",
       " ('Chemicals & Drugs', 'Genes & Molecular Sequences'),\n",
       " ('Chemicals & Drugs', 'Geographic Areas'),\n",
       " ('Chemicals & Drugs', 'Living Beings'),\n",
       " ('Chemicals & Drugs', 'Objects'),\n",
       " ('Chemicals & Drugs', 'Occupations'),\n",
       " ('Chemicals & Drugs', 'Organizations'),\n",
       " ('Chemicals & Drugs', 'Phenomena'),\n",
       " ('Chemicals & Drugs', 'Physiology'),\n",
       " ('Chemicals & Drugs', 'Procedures'),\n",
       " ('Concepts & Ideas', 'Concepts & Ideas'),\n",
       " ('Concepts & Ideas', 'Devices'),\n",
       " ('Concepts & Ideas', 'Disorders'),\n",
       " ('Concepts & Ideas', 'Genes & Molecular Sequences'),\n",
       " ('Concepts & Ideas', 'Geographic Areas'),\n",
       " ('Concepts & Ideas', 'Living Beings'),\n",
       " ('Concepts & Ideas', 'Objects'),\n",
       " ('Concepts & Ideas', 'Occupations'),\n",
       " ('Concepts & Ideas', 'Organizations'),\n",
       " ('Concepts & Ideas', 'Phenomena'),\n",
       " ('Concepts & Ideas', 'Physiology'),\n",
       " ('Concepts & Ideas', 'Procedures'),\n",
       " ('Devices', 'Devices'),\n",
       " ('Devices', 'Disorders'),\n",
       " ('Devices', 'Genes & Molecular Sequences'),\n",
       " ('Devices', 'Geographic Areas'),\n",
       " ('Devices', 'Living Beings'),\n",
       " ('Devices', 'Objects'),\n",
       " ('Devices', 'Occupations'),\n",
       " ('Devices', 'Organizations'),\n",
       " ('Devices', 'Phenomena'),\n",
       " ('Devices', 'Physiology'),\n",
       " ('Devices', 'Procedures'),\n",
       " ('Disorders', 'Disorders'),\n",
       " ('Disorders', 'Genes & Molecular Sequences'),\n",
       " ('Disorders', 'Geographic Areas'),\n",
       " ('Disorders', 'Living Beings'),\n",
       " ('Disorders', 'Objects'),\n",
       " ('Disorders', 'Occupations'),\n",
       " ('Disorders', 'Organizations'),\n",
       " ('Disorders', 'Phenomena'),\n",
       " ('Disorders', 'Physiology'),\n",
       " ('Disorders', 'Procedures'),\n",
       " ('Genes & Molecular Sequences', 'Genes & Molecular Sequences'),\n",
       " ('Genes & Molecular Sequences', 'Geographic Areas'),\n",
       " ('Genes & Molecular Sequences', 'Living Beings'),\n",
       " ('Genes & Molecular Sequences', 'Objects'),\n",
       " ('Genes & Molecular Sequences', 'Occupations'),\n",
       " ('Genes & Molecular Sequences', 'Organizations'),\n",
       " ('Genes & Molecular Sequences', 'Phenomena'),\n",
       " ('Genes & Molecular Sequences', 'Physiology'),\n",
       " ('Genes & Molecular Sequences', 'Procedures'),\n",
       " ('Geographic Areas', 'Geographic Areas'),\n",
       " ('Geographic Areas', 'Living Beings'),\n",
       " ('Geographic Areas', 'Phenomena'),\n",
       " ('Geographic Areas', 'Physiology'),\n",
       " ('Geographic Areas', 'Procedures'),\n",
       " ('Living Beings', 'Living Beings'),\n",
       " ('Living Beings', 'Objects'),\n",
       " ('Living Beings', 'Occupations'),\n",
       " ('Living Beings', 'Organizations'),\n",
       " ('Living Beings', 'Phenomena'),\n",
       " ('Living Beings', 'Physiology'),\n",
       " ('Living Beings', 'Procedures'),\n",
       " ('Objects', 'Objects'),\n",
       " ('Objects', 'Occupations'),\n",
       " ('Objects', 'Organizations'),\n",
       " ('Objects', 'Phenomena'),\n",
       " ('Objects', 'Physiology'),\n",
       " ('Objects', 'Procedures'),\n",
       " ('Occupations', 'Occupations'),\n",
       " ('Occupations', 'Organizations'),\n",
       " ('Occupations', 'Phenomena'),\n",
       " ('Occupations', 'Physiology'),\n",
       " ('Occupations', 'Procedures'),\n",
       " ('Organizations', 'Organizations'),\n",
       " ('Organizations', 'Phenomena'),\n",
       " ('Organizations', 'Physiology'),\n",
       " ('Organizations', 'Procedures'),\n",
       " ('Phenomena', 'Phenomena'),\n",
       " ('Phenomena', 'Physiology'),\n",
       " ('Phenomena', 'Procedures'),\n",
       " ('Physiology', 'Physiology'),\n",
       " ('Physiology', 'Procedures'),\n",
       " ('Procedures', 'Procedures')]"
      ]
     },
     "execution_count": 9,
     "metadata": {},
     "output_type": "execute_result"
    }
   ],
   "source": [
    "combos"
   ]
  },
  {
   "cell_type": "code",
   "execution_count": 10,
   "metadata": {
    "collapsed": true
   },
   "outputs": [],
   "source": [
    "if os.path.exists(\"../data/edge_pair_counts_orig.pkl\"):\n",
    "    combo_counts = pickle.load(open( \"../data/edge_pair_counts_orig.pkl\", \"rb\" ))\n",
    "else:\n",
    "    # This block took over 7 hours to run, pickleing for future use\n",
    "    combo_counts = dict()\n",
    "    for comb in tqdm(combos):\n",
    "        combo_counts[comb] = list_connections(comb[0], comb[1])\n",
    "    pickle.dump(combo_counts, open( \"../data/edge_pair_counts_orig.pkl\", \"wb\" ) )"
   ]
  },
  {
   "cell_type": "code",
   "execution_count": 11,
   "metadata": {
    "collapsed": true
   },
   "outputs": [],
   "source": [
    "edge_numbs = {k: len(v) for k, v in combo_counts.items()}"
   ]
  },
  {
   "cell_type": "code",
   "execution_count": 12,
   "metadata": {},
   "outputs": [
    {
     "name": "stdout",
     "output_type": "stream",
     "text": [
      "('Chemicals & Drugs', 'Disorders') : 56\n",
      "('Chemicals & Drugs', 'Procedures') : 55\n",
      "('Chemicals & Drugs', 'Concepts & Ideas') : 54\n",
      "('Disorders', 'Procedures') : 53\n",
      "('Chemicals & Drugs', 'Physiology') : 53\n",
      "('Disorders', 'Genes & Molecular Sequences') : 52\n",
      "('Chemicals & Drugs', 'Genes & Molecular Sequences') : 52\n",
      "('Physiology', 'Procedures') : 52\n",
      "('Genes & Molecular Sequences', 'Physiology') : 52\n",
      "('Genes & Molecular Sequences', 'Procedures') : 52\n",
      "('Disorders', 'Physiology') : 51\n",
      "('Concepts & Ideas', 'Genes & Molecular Sequences') : 50\n",
      "('Chemicals & Drugs', 'Living Beings') : 49\n",
      "('Concepts & Ideas', 'Disorders') : 49\n",
      "('Chemicals & Drugs', 'Phenomena') : 48\n",
      "('Disorders', 'Disorders') : 48\n",
      "('Disorders', 'Living Beings') : 46\n",
      "('Concepts & Ideas', 'Procedures') : 46\n",
      "('Chemicals & Drugs', 'Chemicals & Drugs') : 46\n",
      "('Concepts & Ideas', 'Physiology') : 45\n",
      "('Anatomy', 'Chemicals & Drugs') : 45\n",
      "('Genes & Molecular Sequences', 'Living Beings') : 43\n",
      "('Anatomy', 'Procedures') : 42\n",
      "('Activities & Behaviors', 'Chemicals & Drugs') : 42\n",
      "('Living Beings', 'Procedures') : 42\n",
      "('Living Beings', 'Physiology') : 42\n",
      "('Anatomy', 'Disorders') : 41\n",
      "('Chemicals & Drugs', 'Objects') : 40\n",
      "('Disorders', 'Phenomena') : 40\n",
      "('Genes & Molecular Sequences', 'Phenomena') : 40\n",
      "('Activities & Behaviors', 'Procedures') : 40\n",
      "('Activities & Behaviors', 'Disorders') : 39\n",
      "('Physiology', 'Physiology') : 39\n",
      "('Chemicals & Drugs', 'Devices') : 38\n",
      "('Anatomy', 'Genes & Molecular Sequences') : 38\n",
      "('Genes & Molecular Sequences', 'Genes & Molecular Sequences') : 38\n",
      "('Phenomena', 'Procedures') : 36\n",
      "('Concepts & Ideas', 'Phenomena') : 36\n",
      "('Procedures', 'Procedures') : 36\n",
      "('Concepts & Ideas', 'Concepts & Ideas') : 35\n",
      "('Devices', 'Disorders') : 35\n",
      "('Concepts & Ideas', 'Living Beings') : 35\n",
      "('Anatomy', 'Concepts & Ideas') : 35\n",
      "('Disorders', 'Objects') : 35\n",
      "('Activities & Behaviors', 'Concepts & Ideas') : 34\n",
      "('Anatomy', 'Physiology') : 34\n",
      "('Activities & Behaviors', 'Physiology') : 32\n",
      "('Phenomena', 'Physiology') : 31\n",
      "('Activities & Behaviors', 'Genes & Molecular Sequences') : 30\n",
      "('Concepts & Ideas', 'Objects') : 30\n",
      "('Genes & Molecular Sequences', 'Objects') : 30\n",
      "('Objects', 'Procedures') : 28\n",
      "('Activities & Behaviors', 'Activities & Behaviors') : 28\n",
      "('Anatomy', 'Living Beings') : 28\n",
      "('Living Beings', 'Living Beings') : 27\n",
      "('Devices', 'Procedures') : 27\n",
      "('Devices', 'Genes & Molecular Sequences') : 26\n",
      "('Anatomy', 'Anatomy') : 26\n",
      "('Anatomy', 'Phenomena') : 25\n",
      "('Disorders', 'Occupations') : 25\n",
      "('Devices', 'Physiology') : 25\n",
      "('Living Beings', 'Phenomena') : 25\n",
      "('Anatomy', 'Objects') : 24\n",
      "('Occupations', 'Procedures') : 24\n",
      "('Concepts & Ideas', 'Devices') : 24\n",
      "('Living Beings', 'Objects') : 24\n",
      "('Activities & Behaviors', 'Living Beings') : 24\n",
      "('Activities & Behaviors', 'Anatomy') : 23\n",
      "('Anatomy', 'Devices') : 23\n",
      "('Chemicals & Drugs', 'Occupations') : 22\n",
      "('Objects', 'Objects') : 22\n",
      "('Objects', 'Physiology') : 22\n",
      "('Devices', 'Living Beings') : 21\n",
      "('Activities & Behaviors', 'Phenomena') : 21\n",
      "('Phenomena', 'Phenomena') : 20\n",
      "('Activities & Behaviors', 'Objects') : 20\n",
      "('Objects', 'Phenomena') : 19\n",
      "('Activities & Behaviors', 'Devices') : 16\n",
      "('Devices', 'Devices') : 16\n",
      "('Living Beings', 'Occupations') : 15\n",
      "('Disorders', 'Organizations') : 15\n",
      "('Concepts & Ideas', 'Occupations') : 14\n",
      "('Devices', 'Phenomena') : 14\n",
      "('Occupations', 'Physiology') : 14\n",
      "('Chemicals & Drugs', 'Organizations') : 13\n",
      "('Devices', 'Objects') : 13\n",
      "('Activities & Behaviors', 'Organizations') : 12\n",
      "('Genes & Molecular Sequences', 'Occupations') : 12\n",
      "('Organizations', 'Procedures') : 12\n",
      "('Activities & Behaviors', 'Occupations') : 11\n",
      "('Concepts & Ideas', 'Organizations') : 11\n",
      "('Genes & Molecular Sequences', 'Organizations') : 10\n",
      "('Organizations', 'Physiology') : 9\n",
      "('Occupations', 'Phenomena') : 9\n",
      "('Living Beings', 'Organizations') : 9\n",
      "('Anatomy', 'Occupations') : 7\n",
      "('Disorders', 'Geographic Areas') : 6\n",
      "('Devices', 'Organizations') : 5\n",
      "('Objects', 'Organizations') : 5\n",
      "('Anatomy', 'Organizations') : 5\n",
      "('Anatomy', 'Geographic Areas') : 5\n",
      "('Occupations', 'Occupations') : 4\n",
      "('Geographic Areas', 'Living Beings') : 4\n",
      "('Objects', 'Occupations') : 4\n",
      "('Geographic Areas', 'Physiology') : 4\n",
      "('Devices', 'Occupations') : 4\n",
      "('Organizations', 'Phenomena') : 3\n",
      "('Chemicals & Drugs', 'Geographic Areas') : 3\n",
      "('Concepts & Ideas', 'Geographic Areas') : 3\n",
      "('Geographic Areas', 'Procedures') : 3\n",
      "('Geographic Areas', 'Phenomena') : 2\n",
      "('Organizations', 'Organizations') : 2\n",
      "('Genes & Molecular Sequences', 'Geographic Areas') : 2\n",
      "('Occupations', 'Organizations') : 2\n",
      "('Devices', 'Geographic Areas') : 1\n",
      "('Geographic Areas', 'Geographic Areas') : 1\n"
     ]
    }
   ],
   "source": [
    "most_to_least = sorted(list(edge_numbs.items()), key = lambda x: x[1], reverse=True)\n",
    "for item in most_to_least:\n",
    "    print(item[0], ':', item[1])"
   ]
  },
  {
   "cell_type": "code",
   "execution_count": 13,
   "metadata": {
    "collapsed": true
   },
   "outputs": [],
   "source": [
    "def change_edge_type(from_type, to_type, swap=False):\n",
    "    idx = edges.query('TYPE == @from_type').index\n",
    "    edges.loc[idx, 'TYPE'] = to_type\n",
    "    if swap:\n",
    "        tmp = edges.loc[idx, 'START_ID']\n",
    "        edges.loc[idx, 'START_ID'] = edges.loc[idx, 'END_ID']\n",
    "        edges.loc[idx, 'END_ID'] = tmp\n",
    "                                             \n",
    "def merge_edge_types(from_list, to_type, swap=False):\n",
    "    for from_type in from_list:\n",
    "        change_edge_type(from_type, to_type, swap=swap)\n",
    "        \n",
    "def drop_edges_from_list(drop_edges):\n",
    "    idx = edges.query('TYPE in @drop_edges').index\n",
    "    edges.drop(idx, inplace=True)"
   ]
  },
  {
   "cell_type": "code",
   "execution_count": 14,
   "metadata": {},
   "outputs": [
    {
     "name": "stdout",
     "output_type": "stream",
     "text": [
      "Activities & Behaviors --- Activities & Behaviors \n",
      "\n",
      "AFFECTS_ABafAB                   2467\n",
      "ISA_ABi>AB                       1738\n",
      "NEG_AFFECTS_ABnafAB               226\n",
      "METHOD_OF_ABmoAB                  147\n",
      "LOCATION_OF_ABloAB                100\n",
      "PREDISPOSES_ABpsAB                 37\n",
      "COEXISTS_WITH_ABcwAB               13\n",
      "STIMULATES_ABstAB                  12\n",
      "TREATS_ABtAB                       12\n",
      "MANIFESTATION_OF_ABmfo>AB          10\n",
      "CAUSES_ABcAB                       10\n",
      "PROCESS_OF_ABpro>AB                 6\n",
      "PREVENTS_ABpvAB                     4\n",
      "USES_ABuAB                          4\n",
      "compared_with_ABcpwAB               3\n",
      "NEG_PREDISPOSES_ABnpsAB             3\n",
      "higher_than_ABhtAB                  3\n",
      "DIAGNOSES_ABdgAB                    2\n",
      "PRECEDES_ABpc>AB                    2\n",
      "lower_than_ABltAB                   2\n",
      "NEG_LOCATION_OF_ABnloAB             2\n",
      "same_as_ABsaAB                      1\n",
      "ADMINISTERED_TO_ABatAB              1\n",
      "NEG_COEXISTS_WITH_ABncwAB           1\n",
      "different_from_ABdfAB               1\n",
      "NEG_MANIFESTATION_OF_ABnmfoAB       1\n",
      "NEG_STIMULATES_ABnstAB              1\n",
      "NEG_CAUSES_ABncAB                   1\n",
      "Name: TYPE, dtype: int64\n"
     ]
    }
   ],
   "source": [
    "combo_num = 0\n",
    "\n",
    "pair = combos[combo_num]\n",
    "\n",
    "print(pair[0], '---', pair[1], '\\n')\n",
    "print(combo_counts[combos[combo_num]])"
   ]
  },
  {
   "cell_type": "code",
   "execution_count": 15,
   "metadata": {
    "collapsed": true
   },
   "outputs": [],
   "source": [
    "# Small number of total relations, will push all edges that would modulate to AFFECTS edge \n",
    "to_merge = ['AFFECTS_ABafAB', 'PREDISPOSES_ABpsAB', 'STIMULATES_ABstAB', 'TREATS_ABtAB', 'CAUSES_ABcAB', 'PREVENTS_ABpvAB']\n",
    "merge_edge_types(to_merge, 'AFFECTS_ABafAB')"
   ]
  },
  {
   "cell_type": "code",
   "execution_count": 16,
   "metadata": {},
   "outputs": [
    {
     "name": "stdout",
     "output_type": "stream",
     "text": [
      "Activities & Behaviors --- Anatomy \n",
      "\n",
      "LOCATION_OF_AloAB         1202\n",
      "AFFECTS_AafAB               80\n",
      "ASSOCIATED_WITH_AawAB       31\n",
      "PRODUCES_ABpd>A             28\n",
      "NEG_LOCATION_OF_AnloAB      23\n",
      "TREATS_ABtA                  9\n",
      "NEG_AFFECTS_AnafAB           9\n",
      "CAUSES_AcAB                  5\n",
      "METHOD_OF_ABmoA              4\n",
      "COEXISTS_WITH_ABcwA          4\n",
      "DISRUPTS_AdsAB               4\n",
      "NEG_PRODUCES_ABnpdA          2\n",
      "PROCESS_OF_Apro>AB           2\n",
      "USES_ABuA                    2\n",
      "PREDISPOSES_ABpsA            2\n",
      "PREVENTS_ABpvA               1\n",
      "STIMULATES_ABstA             1\n",
      "PRECEDES_ABpc>A              1\n",
      "AUGMENTS_ABagA               1\n",
      "DIAGNOSES_ABdgA              1\n",
      "NEG_PREVENTS_ABnpvA          1\n",
      "PART_OF_Apo>AB               1\n",
      "NEG_TREATS_ABntA             1\n",
      "Name: TYPE, dtype: int64\n"
     ]
    }
   ],
   "source": [
    "combo_num = 1\n",
    "\n",
    "pair = combos[combo_num]\n",
    "\n",
    "print(pair[0], '---', pair[1], '\\n')\n",
    "print(combo_counts[combos[combo_num]])"
   ]
  },
  {
   "cell_type": "markdown",
   "metadata": {
    "collapsed": true
   },
   "source": [
    "Small counts here, No need to do anything, these will get dropped"
   ]
  },
  {
   "cell_type": "code",
   "execution_count": 17,
   "metadata": {},
   "outputs": [
    {
     "name": "stdout",
     "output_type": "stream",
     "text": [
      "Activities & Behaviors --- Chemicals & Drugs \n",
      "\n",
      "AFFECTS_CDafAB                 3662\n",
      "USES_ABuCD                     3637\n",
      "AUGMENTS_CDagAB                2217\n",
      "CAUSES_CDcAB                   1139\n",
      "DISRUPTS_CDdsAB                1118\n",
      "TREATS_CDtAB                    596\n",
      "ASSOCIATED_WITH_CDawAB          554\n",
      "NEG_AFFECTS_CDnafAB             521\n",
      "PRODUCES_ABpd>CD                420\n",
      "compared_with_ABcpwCD           350\n",
      "PREDISPOSES_CDpsAB              249\n",
      "PREVENTS_CDpvAB                 233\n",
      "INHIBITS_CDinAB                 232\n",
      "COEXISTS_WITH_CDcwAB            146\n",
      "METHOD_OF_ABmoCD                117\n",
      "STIMULATES_ABstCD               116\n",
      "NEG_AUGMENTS_CDnagAB            108\n",
      "higher_than_ABhtCD              100\n",
      "NEG_CAUSES_CDncAB                65\n",
      "NEG_DISRUPTS_CDndsAB             56\n",
      "NEG_USES_ABnuCD                  51\n",
      "NEG_ASSOCIATED_WITH_CDnawAB      26\n",
      "COMPLICATES_CDcpAB               24\n",
      "NEG_TREATS_CDntAB                20\n",
      "PRECEDES_CDpc>AB                 19\n",
      "lower_than_ABltCD                18\n",
      "NEG_INHIBITS_CDninAB             18\n",
      "same_as_ABsaCD                   14\n",
      "LOCATION_OF_CDloAB                9\n",
      "NEG_PREVENTS_CDnpvAB              8\n",
      "NEG_higher_than_ABnhtCD           6\n",
      "NEG_PRODUCES_ABnpdCD              6\n",
      "NEG_STIMULATES_CDnstAB            5\n",
      "INTERACTS_WITH_CDiwAB             5\n",
      "NEG_PREDISPOSES_CDnpsAB           5\n",
      "PROCESS_OF_ABpro>CD               4\n",
      "NEG_METHOD_OF_ABnmoCD             1\n",
      "PART_OF_CDpo>AB                   1\n",
      "different_than_ABdtCD             1\n",
      "NEG_COEXISTS_WITH_CDncwAB         1\n",
      "different_from_ABdfCD             1\n",
      "NEG_INTERACTS_WITH_ABniwCD        1\n",
      "Name: TYPE, dtype: int64\n"
     ]
    }
   ],
   "source": [
    "combo_num = 2\n",
    "\n",
    "pair = combos[combo_num]\n",
    "\n",
    "print(pair[0], '---', pair[1], '\\n')\n",
    "print(combo_counts[combos[combo_num]])"
   ]
  },
  {
   "cell_type": "code",
   "execution_count": 18,
   "metadata": {
    "collapsed": true
   },
   "outputs": [],
   "source": [
    "# Small numbers again, will merge to 1 type. AFFECTS for anyhthing would modulate\n",
    "\n",
    "to_merge = ['AFFECTS_CDafAB', 'AUGMENTS_CDagAB', 'CAUSES_CDcAB',\n",
    "'DISRUPTS_CDdsAB', 'TREATS_CDtAB', 'ASSOCIATED_WITH_CDawAB',\n",
    "'PREDISPOSES_CDpsAB', 'PREVENTS_CDpvAB', 'INHIBITS_CDinAB',\n",
    "'COMPLICATES_CDcpAB']\n",
    "\n",
    "merge_edge_types(to_merge, 'AFFECTS_CDafAB')"
   ]
  },
  {
   "cell_type": "code",
   "execution_count": 19,
   "metadata": {},
   "outputs": [
    {
     "name": "stdout",
     "output_type": "stream",
     "text": [
      "Activities & Behaviors --- Concepts & Ideas \n",
      "\n",
      "ISA_CIi>AB                       302\n",
      "PROCESS_OF_ABpro>CI              195\n",
      "AFFECTS_CIafAB                   189\n",
      "TREATS_ABtCI                     155\n",
      "METHOD_OF_CImoAB                  84\n",
      "ISA_ABi>CI                        59\n",
      "USES_ABuCI                        47\n",
      "CAUSES_ABcCI                      42\n",
      "OCCURS_IN_ABoiCI                  42\n",
      "PREVENTS_ABpvCI                   34\n",
      "NEG_AFFECTS_CInafAB               33\n",
      "LOCATION_OF_CIloAB                32\n",
      "COEXISTS_WITH_ABcwCI              20\n",
      "DIAGNOSES_ABdgCI                  15\n",
      "PREDISPOSES_CIpsAB                11\n",
      "NEG_TREATS_ABntCI                  9\n",
      "PROCESS_OF_CIpro>AB                8\n",
      "ADMINISTERED_TO_ABatCI             6\n",
      "STIMULATES_ABstCI                  6\n",
      "NEG_PROCESS_OF_ABnproCI            6\n",
      "MANIFESTATION_OF_CImfo>AB          4\n",
      "NEG_OCCURS_IN_ABnoiCI              4\n",
      "PRECEDES_CIpc>AB                   3\n",
      "AUGMENTS_CIagAB                    2\n",
      "MANIFESTATION_OF_ABmfo>CI          2\n",
      "PRECEDES_ABpc>CI                   1\n",
      "NEG_PREDISPOSES_CInpsAB            1\n",
      "NEG_MANIFESTATION_OF_CInmfoAB      1\n",
      "compared_with_CIcpwAB              1\n",
      "NEG_METHOD_OF_ABnmoCI              1\n",
      "ASSOCIATED_WITH_ABawCI             1\n",
      "PRODUCES_ABpd>CI                   1\n",
      "NEG_CAUSES_ABncCI                  1\n",
      "NEG_PREVENTS_ABnpvCI               1\n",
      "Name: TYPE, dtype: int64\n"
     ]
    }
   ],
   "source": [
    "combo_num = 3\n",
    "\n",
    "pair = combos[combo_num]\n",
    "\n",
    "print(pair[0], '---', pair[1], '\\n')\n",
    "print(combo_counts[combos[combo_num]])"
   ]
  },
  {
   "cell_type": "markdown",
   "metadata": {},
   "source": [
    "All way to small in number to ever make it past filtering"
   ]
  },
  {
   "cell_type": "code",
   "execution_count": 20,
   "metadata": {},
   "outputs": [
    {
     "name": "stdout",
     "output_type": "stream",
     "text": [
      "Activities & Behaviors --- Devices \n",
      "\n",
      "USES_ABuDV               493\n",
      "TREATS_DVtAB              94\n",
      "compared_with_DVcpwAB     22\n",
      "METHOD_OF_ABmoDV          18\n",
      "COEXISTS_WITH_DVcwAB      15\n",
      "NEG_USES_ABnuDV           11\n",
      "CAUSES_DVcAB              10\n",
      "PREVENTS_DVpvAB            9\n",
      "higher_than_DVhtAB         6\n",
      "LOCATION_OF_DVloAB         3\n",
      "STIMULATES_DVstAB          2\n",
      "AFFECTS_DVafAB             2\n",
      "NEG_PREVENTS_DVnpvAB       1\n",
      "PROCESS_OF_ABpro>DV        1\n",
      "NEG_METHOD_OF_DVnmoAB      1\n",
      "NEG_CAUSES_DVncAB          1\n",
      "Name: TYPE, dtype: int64\n"
     ]
    }
   ],
   "source": [
    "combo_num = 4\n",
    "\n",
    "pair = combos[combo_num]\n",
    "\n",
    "print(pair[0], '---', pair[1], '\\n')\n",
    "print(combo_counts[combos[combo_num]])"
   ]
  },
  {
   "cell_type": "code",
   "execution_count": 21,
   "metadata": {},
   "outputs": [
    {
     "name": "stdout",
     "output_type": "stream",
     "text": [
      "Activities & Behaviors --- Disorders \n",
      "\n",
      "TREATS_ABtDO                     14003\n",
      "PREDISPOSES_ABpsDO                5493\n",
      "AFFECTS_DOafAB                    4329\n",
      "PREVENTS_ABpvDO                   3315\n",
      "CAUSES_ABcDO                      2176\n",
      "COEXISTS_WITH_ABcwDO              1255\n",
      "DISRUPTS_DOdsAB                    968\n",
      "ASSOCIATED_WITH_ABawDO             784\n",
      "DIAGNOSES_ABdgDO                   651\n",
      "NEG_TREATS_ABntDO                  532\n",
      "PROCESS_OF_DOpro>AB                336\n",
      "NEG_AFFECTS_ABnafDO                319\n",
      "NEG_PREDISPOSES_DOnpsAB            289\n",
      "MANIFESTATION_OF_ABmfo>DO          216\n",
      "PROCESS_OF_ABpro>DO                132\n",
      "MANIFESTATION_OF_DOmfo>AB          128\n",
      "NEG_PREVENTS_ABnpvDO               120\n",
      "ISA_DOi>AB                         108\n",
      "ISA_ABi>DO                          78\n",
      "NEG_CAUSES_ABncDO                   72\n",
      "NEG_COEXISTS_WITH_DOncwAB           52\n",
      "PRECEDES_DOpc>AB                    32\n",
      "METHOD_OF_ABmoDO                    28\n",
      "NEG_DISRUPTS_DOndsAB                27\n",
      "NEG_ASSOCIATED_WITH_ABnawDO         23\n",
      "OCCURS_IN_ABoiDO                    21\n",
      "LOCATION_OF_DOloAB                  20\n",
      "COMPLICATES_ABcpDO                  15\n",
      "PRECEDES_ABpc>DO                    12\n",
      "NEG_PROCESS_OF_DOnproAB             11\n",
      "USES_ABuDO                           7\n",
      "NEG_MANIFESTATION_OF_DOnmfoAB        5\n",
      "STIMULATES_DOstAB                    5\n",
      "NEG_DIAGNOSES_ABndgDO                4\n",
      "ADMINISTERED_TO_ABatDO               2\n",
      "NEG_PRECEDES_ABnpcDO                 2\n",
      "NEG_METHOD_OF_DOnmoAB                1\n",
      "NEG_LOCATION_OF_DOnloAB              1\n",
      "PRODUCES_ABpd>DO                     1\n",
      "Name: TYPE, dtype: int64\n"
     ]
    }
   ],
   "source": [
    "combo_num = 5\n",
    "\n",
    "pair = combos[combo_num]\n",
    "\n",
    "print(pair[0], '---', pair[1], '\\n')\n",
    "print(combo_counts[combos[combo_num]])"
   ]
  },
  {
   "cell_type": "markdown",
   "metadata": {
    "collapsed": true
   },
   "source": [
    "Larger numbers here, will try for negative and positive regulation"
   ]
  },
  {
   "cell_type": "code",
   "execution_count": 22,
   "metadata": {
    "collapsed": true
   },
   "outputs": [],
   "source": [
    "# AB that lessens DO\n",
    "merge_edge_types(['TREATS_ABtDO',  'PREVENTS_ABpvDO', 'DIAGNOSES_ABdgDO'], 'TREATS_ABtDO')\n",
    "# AB that increases or assoc with DO\n",
    "merge_edge_types(['PREDISPOSES_ABpsDO', 'CAUSES_ABcDO',  \n",
    "                  'COEXISTS_WITH_ABcwDO', 'ASSOCIATED_WITH_ABawDO'], 'ASSOCIATED_WITH_ABawDO')\n",
    "\n",
    "# DO to AB edges\n",
    "merge_edge_types(['AFFECTS_DOafAB', 'DISRUPTS_DOdsAB'], 'AFFECTS_DOafAB')\n",
    "\n"
   ]
  },
  {
   "cell_type": "code",
   "execution_count": 23,
   "metadata": {},
   "outputs": [
    {
     "name": "stdout",
     "output_type": "stream",
     "text": [
      "Activities & Behaviors --- Genes & Molecular Sequences \n",
      "\n",
      "AFFECTS_GafAB                 1151\n",
      "USES_ABuG                      668\n",
      "ASSOCIATED_WITH_GawAB          598\n",
      "AUGMENTS_GagAB                 588\n",
      "CAUSES_GcAB                    417\n",
      "PREDISPOSES_GpsAB              319\n",
      "DISRUPTS_GdsAB                 220\n",
      "TREATS_ABtG                    167\n",
      "PRODUCES_ABpd>G                115\n",
      "compared_with_GcpwAB            77\n",
      "NEG_AFFECTS_GnafAB              72\n",
      "PREVENTS_GpvAB                  35\n",
      "NEG_ASSOCIATED_WITH_GnawAB      22\n",
      "higher_than_GhtAB               21\n",
      "COEXISTS_WITH_GcwAB             18\n",
      "NEG_AUGMENTS_GnagAB             18\n",
      "NEG_CAUSES_GncAB                14\n",
      "METHOD_OF_GmoAB                 12\n",
      "INHIBITS_GinAB                  10\n",
      "STIMULATES_GstAB                 9\n",
      "NEG_USES_ABnuG                   8\n",
      "LOCATION_OF_GloAB                5\n",
      "lower_than_GltAB                 3\n",
      "NEG_PREDISPOSES_GnpsAB           3\n",
      "NEG_DISRUPTS_GndsAB              3\n",
      "NEG_STIMULATES_GnstAB            2\n",
      "same_as_ABsaG                    1\n",
      "NEG_TREATS_GntAB                 1\n",
      "INTERACTS_WITH_ABiwG             1\n",
      "PROCESS_OF_ABpro>G               1\n",
      "Name: TYPE, dtype: int64\n"
     ]
    }
   ],
   "source": [
    "combo_num = 6\n",
    "\n",
    "pair = combos[combo_num]\n",
    "\n",
    "print(pair[0], '---', pair[1], '\\n')\n",
    "print(combo_counts[combos[combo_num]])"
   ]
  },
  {
   "cell_type": "markdown",
   "metadata": {},
   "source": [
    "All too small to matter"
   ]
  },
  {
   "cell_type": "code",
   "execution_count": 24,
   "metadata": {},
   "outputs": [
    {
     "name": "stdout",
     "output_type": "stream",
     "text": [
      "Activities & Behaviors --- Living Beings \n",
      "\n",
      "PROCESS_OF_ABpro>LB            20632\n",
      "TREATS_ABtLB                    4972\n",
      "NEG_PROCESS_OF_ABnproLB          655\n",
      "AFFECTS_ABafLB                   483\n",
      "ADMINISTERED_TO_ABatLB           400\n",
      "USES_LBuAB                       280\n",
      "NEG_TREATS_ABntLB                233\n",
      "OCCURS_IN_ABoiLB                  79\n",
      "DIAGNOSES_LBdgAB                  59\n",
      "NEG_AFFECTS_ABnafLB               37\n",
      "CAUSES_LBcAB                      35\n",
      "NEG_ADMINISTERED_TO_ABnatLB       29\n",
      "METHOD_OF_ABmoLB                  28\n",
      "LOCATION_OF_LBloAB                26\n",
      "PRODUCES_ABpd>LB                   6\n",
      "NEG_USES_LBnuAB                    4\n",
      "INTERACTS_WITH_LBiwAB              4\n",
      "NEG_CAUSES_LBncAB                  3\n",
      "PRODUCES_LBpd>AB                   3\n",
      "NEG_OCCURS_IN_ABnoiLB              2\n",
      "PREVENTS_ABpvLB                    2\n",
      "PROCESS_OF_LBpro>AB                1\n",
      "DISRUPTS_LBdsAB                    1\n",
      "NEG_ASSOCIATED_WITH_LBnawAB        1\n",
      "Name: TYPE, dtype: int64\n"
     ]
    }
   ],
   "source": [
    "combo_num = 7\n",
    "\n",
    "pair = combos[combo_num]\n",
    "\n",
    "print(pair[0], '---', pair[1], '\\n')\n",
    "print(combo_counts[combos[combo_num]])"
   ]
  },
  {
   "cell_type": "markdown",
   "metadata": {},
   "source": [
    "'process_of' here is the only potentially useable edge, but we will make undirected"
   ]
  },
  {
   "cell_type": "code",
   "execution_count": 25,
   "metadata": {
    "collapsed": true
   },
   "outputs": [],
   "source": [
    "merge_edge_types(['PROCESS_OF_ABpro>LB', 'OCCURS_IN_ABoiLB'], 'OCCURS_IN_ABoiLB')\n",
    "change_edge_type('USES_LBuAB', 'OCCURS_IN_ABoiLB', swap=True)"
   ]
  },
  {
   "cell_type": "code",
   "execution_count": 26,
   "metadata": {},
   "outputs": [
    {
     "name": "stdout",
     "output_type": "stream",
     "text": [
      "Activities & Behaviors --- Objects \n",
      "\n",
      "USES_ABuOB                 81\n",
      "LOCATION_OF_OBloAB         62\n",
      "AFFECTS_OBafAB             60\n",
      "CAUSES_OBcAB               11\n",
      "TREATS_OBtAB               10\n",
      "NEG_AFFECTS_OBnafAB         7\n",
      "METHOD_OF_OBmoAB            3\n",
      "compared_with_ABcpwOB       3\n",
      "ISA_OBi>AB                  3\n",
      "PREDISPOSES_OBpsAB          3\n",
      "NEG_USES_ABnuOB             2\n",
      "AUGMENTS_OBagAB             2\n",
      "ASSOCIATED_WITH_OBawAB      1\n",
      "NEG_LOCATION_OF_OBnloAB     1\n",
      "PART_OF_OBpo>AB             1\n",
      "same_as_ABsaOB              1\n",
      "PROCESS_OF_ABpro>OB         1\n",
      "STIMULATES_OBstAB           1\n",
      "ISA_ABi>OB                  1\n",
      "PRODUCES_ABpd>OB            1\n",
      "Name: TYPE, dtype: int64\n"
     ]
    }
   ],
   "source": [
    "combo_num = 8\n",
    "\n",
    "pair = combos[combo_num]\n",
    "\n",
    "print(pair[0], '---', pair[1], '\\n')\n",
    "print(combo_counts[combos[combo_num]])"
   ]
  },
  {
   "cell_type": "markdown",
   "metadata": {},
   "source": [
    "Too small to use"
   ]
  },
  {
   "cell_type": "code",
   "execution_count": 27,
   "metadata": {},
   "outputs": [
    {
     "name": "stdout",
     "output_type": "stream",
     "text": [
      "Activities & Behaviors --- Occupations \n",
      "\n",
      "METHOD_OF_ABmoOC          1911\n",
      "ISA_ABi>OC                  25\n",
      "NEG_METHOD_OF_ABnmoOC       20\n",
      "PROCESS_OF_ABpro>OC         18\n",
      "COEXISTS_WITH_ABcwOC         5\n",
      "TREATS_ABtOC                 4\n",
      "ISA_OCi>AB                   3\n",
      "PREVENTS_OCpvAB              1\n",
      "LOCATION_OF_ABloOC           1\n",
      "ADMINISTERED_TO_ABatOC       1\n",
      "PREDISPOSES_OCpsAB           1\n",
      "Name: TYPE, dtype: int64\n"
     ]
    }
   ],
   "source": [
    "combo_num = 9\n",
    "\n",
    "pair = combos[combo_num]\n",
    "\n",
    "print(pair[0], '---', pair[1], '\\n')\n",
    "print(combo_counts[combos[combo_num]])"
   ]
  },
  {
   "cell_type": "markdown",
   "metadata": {},
   "source": [
    "Too small"
   ]
  },
  {
   "cell_type": "code",
   "execution_count": 28,
   "metadata": {},
   "outputs": [
    {
     "name": "stdout",
     "output_type": "stream",
     "text": [
      "Activities & Behaviors --- Organizations \n",
      "\n",
      "LOCATION_OF_ORloAB           6786\n",
      "NEG_LOCATION_OF_ORnloAB        85\n",
      "ISA_ORi>AB                     55\n",
      "AFFECTS_ABafOR                 40\n",
      "ISA_ABi>OR                      6\n",
      "NEG_AFFECTS_ABnafOR             4\n",
      "PROCESS_OF_ABpro>OR             3\n",
      "PRODUCES_ORpd>AB                2\n",
      "COEXISTS_WITH_ORcwAB            2\n",
      "TREATS_ABtOR                    2\n",
      "METHOD_OF_ABmoOR                1\n",
      "NEG_COEXISTS_WITH_ORncwAB       1\n",
      "Name: TYPE, dtype: int64\n"
     ]
    }
   ],
   "source": [
    "combo_num = 10\n",
    "\n",
    "pair = combos[combo_num]\n",
    "\n",
    "print(pair[0], '---', pair[1], '\\n')\n",
    "print(combo_counts[combos[combo_num]])"
   ]
  },
  {
   "cell_type": "markdown",
   "metadata": {},
   "source": [
    "Too small"
   ]
  },
  {
   "cell_type": "code",
   "execution_count": 29,
   "metadata": {},
   "outputs": [
    {
     "name": "stdout",
     "output_type": "stream",
     "text": [
      "Activities & Behaviors --- Phenomena \n",
      "\n",
      "AFFECTS_PHafAB               288\n",
      "PROCESS_OF_ABpro>PH          188\n",
      "PROCESS_OF_PHpro>AB           94\n",
      "TREATS_ABtPH                  48\n",
      "NEG_AFFECTS_ABnafPH           28\n",
      "NEG_PROCESS_OF_PHnproAB       14\n",
      "CAUSES_ABcPH                  11\n",
      "METHOD_OF_PHmoAB              10\n",
      "COEXISTS_WITH_ABcwPH           9\n",
      "ISA_PHi>AB                     6\n",
      "ISA_ABi>PH                     5\n",
      "DIAGNOSES_ABdgPH               5\n",
      "PRECEDES_ABpc>PH               4\n",
      "PREDISPOSES_PHpsAB             3\n",
      "MANIFESTATION_OF_PHmfo>AB      3\n",
      "PREVENTS_ABpvPH                3\n",
      "NEG_TREATS_ABntPH              2\n",
      "DISRUPTS_PHdsAB                2\n",
      "STIMULATES_ABstPH              1\n",
      "LOCATION_OF_PHloAB             1\n",
      "NEG_COEXISTS_WITH_ABncwPH      1\n",
      "Name: TYPE, dtype: int64\n"
     ]
    }
   ],
   "source": [
    "combo_num = 11\n",
    "\n",
    "pair = combos[combo_num]\n",
    "\n",
    "print(pair[0], '---', pair[1], '\\n')\n",
    "print(combo_counts[combos[combo_num]])"
   ]
  },
  {
   "cell_type": "code",
   "execution_count": 30,
   "metadata": {},
   "outputs": [
    {
     "name": "stdout",
     "output_type": "stream",
     "text": [
      "Activities & Behaviors --- Physiology \n",
      "\n",
      "AFFECTS_ABafPS               1469\n",
      "COEXISTS_WITH_PScwAB          836\n",
      "PROCESS_OF_ABpro>PS           582\n",
      "TREATS_ABtPS                  210\n",
      "PROCESS_OF_PSpro>AB           195\n",
      "NEG_AFFECTS_PSnafAB           177\n",
      "PRECEDES_ABpc>PS              157\n",
      "CAUSES_PScAB                  107\n",
      "PRECEDES_PSpc>AB              100\n",
      "NEG_PROCESS_OF_ABnproPS        52\n",
      "NEG_COEXISTS_WITH_PSncwAB      51\n",
      "DISRUPTS_ABdsPS                44\n",
      "STIMULATES_ABstPS              34\n",
      "PREVENTS_ABpvPS                32\n",
      "ISA_PSi>AB                     29\n",
      "ISA_ABi>PS                     25\n",
      "PREDISPOSES_ABpsPS             22\n",
      "NEG_TREATS_ABntPS              19\n",
      "USES_PSuAB                     14\n",
      "METHOD_OF_ABmoPS               11\n",
      "MANIFESTATION_OF_ABmfo>PS      10\n",
      "MANIFESTATION_OF_PSmfo>AB       7\n",
      "NEG_CAUSES_PSncAB               5\n",
      "DIAGNOSES_ABdgPS                4\n",
      "NEG_DISRUPTS_ABndsPS            4\n",
      "NEG_PRECEDES_ABnpcPS            3\n",
      "NEG_PREDISPOSES_PSnpsAB         2\n",
      "OCCURS_IN_ABoiPS                2\n",
      "ASSOCIATED_WITH_ABawPS          2\n",
      "PRODUCES_ABpd>PS                1\n",
      "NEG_OCCURS_IN_ABnoiPS           1\n",
      "ADMINISTERED_TO_ABatPS          1\n",
      "Name: TYPE, dtype: int64\n"
     ]
    }
   ],
   "source": [
    "combo_num = 12\n",
    "\n",
    "pair = combos[combo_num]\n",
    "\n",
    "print(pair[0], '---', pair[1], '\\n')\n",
    "print(combo_counts[combos[combo_num]])"
   ]
  },
  {
   "cell_type": "code",
   "execution_count": 31,
   "metadata": {},
   "outputs": [
    {
     "name": "stdout",
     "output_type": "stream",
     "text": [
      "Activities & Behaviors --- Procedures \n",
      "\n",
      "METHOD_OF_ABmoPR             4368\n",
      "COEXISTS_WITH_ABcwPR         2112\n",
      "AFFECTS_PRafAB               1142\n",
      "STIMULATES_ABstPR             994\n",
      "USES_ABuPR                    797\n",
      "ISA_PRi>AB                    663\n",
      "TREATS_PRtAB                  300\n",
      "LOCATION_OF_PRloAB            224\n",
      "PRECEDES_PRpc>AB              202\n",
      "NEG_AFFECTS_PRnafAB           164\n",
      "DIAGNOSES_PRdgAB              163\n",
      "compared_with_ABcpwPR         121\n",
      "NEG_METHOD_OF_PRnmoAB         100\n",
      "PREVENTS_PRpvAB                89\n",
      "NEG_COEXISTS_WITH_PRncwAB      62\n",
      "NEG_STIMULATES_PRnstAB         54\n",
      "ISA_ABi>PR                     37\n",
      "higher_than_PRhtAB             30\n",
      "PRECEDES_ABpc>PR               30\n",
      "NEG_USES_ABnuPR                21\n",
      "PROCESS_OF_ABpro>PR            14\n",
      "CAUSES_ABcPR                   14\n",
      "COMPLICATES_PRcpAB             13\n",
      "NEG_TREATS_PRntAB              11\n",
      "lower_than_PRltAB               6\n",
      "NEG_LOCATION_OF_ABnloPR         5\n",
      "NEG_DIAGNOSES_PRndgAB           4\n",
      "NEG_PREVENTS_PRnpvAB            4\n",
      "NEG_higher_than_PRnhtAB         3\n",
      "DISRUPTS_PRdsAB                 3\n",
      "NEG_PRECEDES_PRnpcAB            3\n",
      "ADMINISTERED_TO_PRatAB          3\n",
      "same_as_ABsaPR                  2\n",
      "PROCESS_OF_PRpro>AB             2\n",
      "different_from_PRdfAB           1\n",
      "NEG_PROCESS_OF_ABnproPR         1\n",
      "PREDISPOSES_PRpsAB              1\n",
      "ASSOCIATED_WITH_PRawAB          1\n",
      "NEG_AUGMENTS_PRnagAB            1\n",
      "NEG_COMPLICATES_PRncpAB         1\n",
      "Name: TYPE, dtype: int64\n"
     ]
    }
   ],
   "source": [
    "combo_num = 13\n",
    "\n",
    "pair = combos[combo_num]\n",
    "\n",
    "print(pair[0], '---', pair[1], '\\n')\n",
    "print(combo_counts[combos[combo_num]])"
   ]
  },
  {
   "cell_type": "code",
   "execution_count": 32,
   "metadata": {},
   "outputs": [
    {
     "name": "stdout",
     "output_type": "stream",
     "text": [
      "Anatomy --- Anatomy \n",
      "\n",
      "PART_OF_Apo>A              202994\n",
      "LOCATION_OF_AloA            72116\n",
      "NEG_PART_OF_AnpoA            3290\n",
      "PRODUCES_Apd>A               1860\n",
      "NEG_LOCATION_OF_AnloA        1827\n",
      "AFFECTS_AafA                  142\n",
      "COEXISTS_WITH_AcwA            138\n",
      "NEG_PRODUCES_AnpdA             63\n",
      "AUGMENTS_AagA                  36\n",
      "INHIBITS_AinA                  20\n",
      "ASSOCIATED_WITH_AawA           19\n",
      "DISRUPTS_AdsA                  15\n",
      "NEG_AFFECTS_AnafA               8\n",
      "compared_with_AcpwA             7\n",
      "INTERACTS_WITH_AiwA             5\n",
      "STIMULATES_AstA                 4\n",
      "higher_than_AhtA                3\n",
      "CONVERTS_TO_Act>A               3\n",
      "NEG_COEXISTS_WITH_AncwA         2\n",
      "ADMINISTERED_TO_AatA            2\n",
      "CAUSES_AcA                      2\n",
      "lower_than_AltA                 1\n",
      "PROCESS_OF_Apro>A               1\n",
      "NEG_AUGMENTS_AnagA              1\n",
      "same_as_AsaA                    1\n",
      "different_from_AdfA             1\n",
      "Name: TYPE, dtype: int64\n"
     ]
    }
   ],
   "source": [
    "combo_num = 14\n",
    "\n",
    "pair = combos[combo_num]\n",
    "\n",
    "print(pair[0], '---', pair[1], '\\n')\n",
    "print(combo_counts[combos[combo_num]])"
   ]
  },
  {
   "cell_type": "code",
   "execution_count": 33,
   "metadata": {
    "collapsed": true
   },
   "outputs": [],
   "source": [
    "merge_edge_types(['PART_OF_Apo>A', 'LOCATION_OF_AloA'], 'LOCATION_OF_AloA')"
   ]
  },
  {
   "cell_type": "code",
   "execution_count": 34,
   "metadata": {},
   "outputs": [
    {
     "name": "stdout",
     "output_type": "stream",
     "text": [
      "Anatomy --- Chemicals & Drugs \n",
      "\n",
      "LOCATION_OF_AloCD             860360\n",
      "PART_OF_CDpo>A                325076\n",
      "AFFECTS_CDafA                 180888\n",
      "AUGMENTS_CDagA                157053\n",
      "PRODUCES_Apd>CD               108397\n",
      "DISRUPTS_CDdsA                 76820\n",
      "NEG_LOCATION_OF_AnloCD         21307\n",
      "NEG_AFFECTS_CDnafA             15580\n",
      "ADMINISTERED_TO_CDatA          12451\n",
      "NEG_PART_OF_CDnpoA              6877\n",
      "NEG_PRODUCES_AnpdCD             6827\n",
      "NEG_AUGMENTS_CDnagA             5232\n",
      "PRODUCES_CDpd>A                 3913\n",
      "NEG_DISRUPTS_CDndsA             2937\n",
      "COEXISTS_WITH_AcwCD              642\n",
      "PART_OF_Apo>CD                   334\n",
      "INTERACTS_WITH_AiwCD             324\n",
      "TREATS_CDtA                      278\n",
      "CAUSES_CDcA                      264\n",
      "ASSOCIATED_WITH_AawCD            205\n",
      "NEG_ADMINISTERED_TO_CDnatA       163\n",
      "STIMULATES_CDstA                 128\n",
      "USES_AuCD                        108\n",
      "INHIBITS_AinCD                   102\n",
      "compared_with_CDcpwA              50\n",
      "higher_than_AhtCD                 12\n",
      "NEG_INTERACTS_WITH_CDniwA         10\n",
      "NEG_CAUSES_CDncA                   8\n",
      "ISA_Ai>CD                          7\n",
      "NEG_COEXISTS_WITH_CDncwA           7\n",
      "PREVENTS_CDpvA                     7\n",
      "CONVERTS_TO_Act>CD                 6\n",
      "NEG_ASSOCIATED_WITH_CDnawA         6\n",
      "NEG_INHIBITS_CDninA                4\n",
      "ISA_CDi>A                          4\n",
      "PREDISPOSES_CDpsA                  4\n",
      "NEG_TREATS_CDntA                   3\n",
      "METHOD_OF_CDmoA                    3\n",
      "lower_than_CDltA                   3\n",
      "CONVERTS_TO_CDct>A                 3\n",
      "NEG_STIMULATES_CDnstA              3\n",
      "NEG_USES_AnuCD                     2\n",
      "PROCESS_OF_CDpro>A                 2\n",
      "PRECEDES_CDpc>A                    1\n",
      "same_as_AsaCD                      1\n",
      "Name: TYPE, dtype: int64\n"
     ]
    }
   ],
   "source": [
    "combo_num = 15\n",
    "\n",
    "pair = combos[combo_num]\n",
    "\n",
    "print(pair[0], '---', pair[1], '\\n')\n",
    "print(combo_counts[combos[combo_num]])"
   ]
  },
  {
   "cell_type": "markdown",
   "metadata": {},
   "source": [
    "We will go for two distinct types.  \n",
    "\n",
    "1. Location where CD naturally exists\n",
    "2. Location where CD has an effect"
   ]
  },
  {
   "cell_type": "code",
   "execution_count": 35,
   "metadata": {},
   "outputs": [],
   "source": [
    "# Change to a localization of compound\n",
    "to_merge = ['LOCATION_OF_AloCD', 'PRODUCES_Apd>CD','COEXISTS_WITH_AcwCD']\n",
    "merge_edge_types(to_merge, 'LOCATION_OF_AloCD')\n",
    "merge_edge_types(['PRODUCES_CDpd>A','PART_OF_CDpo>A'], 'LOCATION_OF_AloCD', swap=True)\n",
    " \n",
    "# Change to localization of compound's affect\n",
    "to_merge = ['AFFECTS_CDafA', 'AUGMENTS_CDagA',  'DISRUPTS_CDdsA', 'ADMINISTERED_TO_CDatA',  'TREATS_CDtA']\n",
    "merge_edge_types(to_merge, 'AFFECTS_CDafA')"
   ]
  },
  {
   "cell_type": "code",
   "execution_count": 36,
   "metadata": {},
   "outputs": [
    {
     "name": "stdout",
     "output_type": "stream",
     "text": [
      "Anatomy --- Concepts & Ideas \n",
      "\n",
      "LOCATION_OF_AloCI             33058\n",
      "NEG_LOCATION_OF_CInloA         1196\n",
      "PART_OF_CIpo>A                 1074\n",
      "PART_OF_Apo>CI                 1025\n",
      "AFFECTS_CIafA                   193\n",
      "ASSOCIATED_WITH_AawCI           146\n",
      "PROCESS_OF_CIpro>A               69\n",
      "AUGMENTS_CIagA                   47\n",
      "PRODUCES_Apd>CI                  44\n",
      "NEG_PART_OF_AnpoCI               26\n",
      "CAUSES_AcCI                      24\n",
      "DISRUPTS_CIdsA                   24\n",
      "PRODUCES_CIpd>A                  22\n",
      "NEG_AFFECTS_CInafA               14\n",
      "OCCURS_IN_AoiCI                  13\n",
      "COEXISTS_WITH_AcwCI              13\n",
      "NEG_ASSOCIATED_WITH_AnawCI       12\n",
      "PROCESS_OF_Apro>CI                9\n",
      "ADMINISTERED_TO_CIatA             7\n",
      "ISA_Ai>CI                         7\n",
      "USES_CIuA                         6\n",
      "TREATS_AtCI                       6\n",
      "DIAGNOSES_CIdgA                   5\n",
      "NEG_CAUSES_AncCI                  2\n",
      "compared_with_AcpwCI              2\n",
      "NEG_PRODUCES_AnpdCI               1\n",
      "PRECEDES_Apc>CI                   1\n",
      "PRECEDES_CIpc>A                   1\n",
      "NEG_AUGMENTS_CInagA               1\n",
      "NEG_COEXISTS_WITH_AncwCI          1\n",
      "METHOD_OF_CImoA                   1\n",
      "INHIBITS_AinCI                    1\n",
      "STIMULATES_CIstA                  1\n",
      "MANIFESTATION_OF_CImfo>A          1\n",
      "PREDISPOSES_ApsCI                 1\n",
      "Name: TYPE, dtype: int64\n"
     ]
    }
   ],
   "source": [
    "combo_num = 16\n",
    "\n",
    "pair = combos[combo_num]\n",
    "\n",
    "print(pair[0], '---', pair[1], '\\n')\n",
    "print(combo_counts[combos[combo_num]])"
   ]
  },
  {
   "cell_type": "markdown",
   "metadata": {},
   "source": [
    "Only 1 true relation here:  Location_of"
   ]
  },
  {
   "cell_type": "code",
   "execution_count": 37,
   "metadata": {
    "collapsed": true
   },
   "outputs": [],
   "source": [
    "to_merge = ['LOCATION_OF_AloCI', 'ASSOCIATED_WITH_AawCI','PRODUCES_Apd>CI', 'PART_OF_Apo>CI']\n",
    "merge_edge_types(to_merge, 'LOCATION_OF_AloCI')       \n",
    "\n",
    "to_merge = ['AFFECTS_CIafA', 'PART_OF_CIpo>A','PROCESS_OF_CIpro>A']\n",
    "merge_edge_types(to_merge, 'LOCATION_OF_AloCI', swap=True)       "
   ]
  },
  {
   "cell_type": "code",
   "execution_count": 38,
   "metadata": {
    "scrolled": false
   },
   "outputs": [
    {
     "name": "stdout",
     "output_type": "stream",
     "text": [
      "Anatomy --- Devices \n",
      "\n",
      "LOCATION_OF_AloDV         33917\n",
      "NEG_LOCATION_OF_AnloDV      433\n",
      "USES_AuDV                   126\n",
      "PART_OF_Apo>DV               97\n",
      "PART_OF_DVpo>A               71\n",
      "TREATS_DVtA                  64\n",
      "compared_with_DVcpwA         19\n",
      "AFFECTS_DVafA                 8\n",
      "CAUSES_DVcA                   7\n",
      "DISRUPTS_DVdsA                4\n",
      "AUGMENTS_DVagA                3\n",
      "PRODUCES_Apd>DV               2\n",
      "NEG_TREATS_DVntA              2\n",
      "higher_than_DVhtA             2\n",
      "NEG_PART_OF_AnpoDV            2\n",
      "METHOD_OF_DVmoA               2\n",
      "PREVENTS_DVpvA                1\n",
      "ADMINISTERED_TO_DVatA         1\n",
      "NEG_AUGMENTS_DVnagA           1\n",
      "lower_than_DVltA              1\n",
      "ASSOCIATED_WITH_AawDV         1\n",
      "NEG_USES_AnuDV                1\n",
      "COEXISTS_WITH_AcwDV           1\n",
      "Name: TYPE, dtype: int64\n"
     ]
    }
   ],
   "source": [
    "combo_num = 17\n",
    "\n",
    "pair = combos[combo_num]\n",
    "\n",
    "print(pair[0], '---', pair[1], '\\n')\n",
    "print(combo_counts[combos[combo_num]])"
   ]
  },
  {
   "cell_type": "markdown",
   "metadata": {},
   "source": [
    "Location of is the only useable edge, no merges needed"
   ]
  },
  {
   "cell_type": "code",
   "execution_count": 39,
   "metadata": {},
   "outputs": [
    {
     "name": "stdout",
     "output_type": "stream",
     "text": [
      "Anatomy --- Disorders \n",
      "\n",
      "LOCATION_OF_AloDO             500137\n",
      "PART_OF_DOpo>A                 57619\n",
      "PART_OF_Apo>DO                 20042\n",
      "AFFECTS_DOafA                  15019\n",
      "NEG_LOCATION_OF_AnloDO         10574\n",
      "ASSOCIATED_WITH_AawDO           9586\n",
      "CAUSES_AcDO                     5788\n",
      "PRODUCES_DOpd>A                 3900\n",
      "DISRUPTS_DOdsA                  1812\n",
      "NEG_PART_OF_DOnpoA               738\n",
      "COEXISTS_WITH_AcwDO              607\n",
      "NEG_AFFECTS_AnafDO               574\n",
      "PREDISPOSES_DOpsA                373\n",
      "NEG_ASSOCIATED_WITH_AnawDO       279\n",
      "NEG_CAUSES_AncDO                 200\n",
      "TREATS_AtDO                      185\n",
      "PROCESS_OF_DOpro>A               183\n",
      "AUGMENTS_AagDO                   111\n",
      "NEG_PRODUCES_DOnpdA              103\n",
      "MANIFESTATION_OF_DOmfo>A          54\n",
      "NEG_DISRUPTS_DOndsA               48\n",
      "PRODUCES_Apd>DO                   43\n",
      "DIAGNOSES_AdgDO                   40\n",
      "PREVENTS_ApvDO                    23\n",
      "PRECEDES_Apc>DO                   15\n",
      "ISA_DOi>A                         12\n",
      "NEG_PREDISPOSES_AnpsDO            12\n",
      "COMPLICATES_AcpDO                 11\n",
      "ISA_Ai>DO                         11\n",
      "NEG_COEXISTS_WITH_DOncwA           9\n",
      "PROCESS_OF_Apro>DO                 9\n",
      "PRECEDES_DOpc>A                    8\n",
      "OCCURS_IN_AoiDO                    7\n",
      "MANIFESTATION_OF_Amfo>DO           6\n",
      "NEG_TREATS_AntDO                   4\n",
      "NEG_AUGMENTS_DOnagA                3\n",
      "INTERACTS_WITH_DOiwA               2\n",
      "higher_than_DOhtA                  1\n",
      "ADMINISTERED_TO_DOatA              1\n",
      "NEG_PROCESS_OF_DOnproA             1\n",
      "compared_with_DOcpwA               1\n",
      "Name: TYPE, dtype: int64\n"
     ]
    }
   ],
   "source": [
    "combo_num = 18\n",
    "\n",
    "pair = combos[combo_num]\n",
    "\n",
    "print(pair[0], '---', pair[1], '\\n')\n",
    "print(combo_counts[combos[combo_num]])"
   ]
  },
  {
   "cell_type": "markdown",
   "metadata": {},
   "source": [
    "Several large count edges here, all will be merged to 'location_of'"
   ]
  },
  {
   "cell_type": "code",
   "execution_count": 40,
   "metadata": {
    "collapsed": true
   },
   "outputs": [],
   "source": [
    "to_merge = ['LOCATION_OF_AloDO', 'PART_OF_Apo>DO','ASSOCIATED_WITH_AawDO', 'PRODUCES_Apd>DO']\n",
    "merge_edge_types(to_merge, 'LOCATION_OF_AloDO')\n",
    "\n",
    "to_merge = ['PART_OF_DOpo>A',  'AFFECTS_DOafA', 'PROCESS_OF_DOpro>A']\n",
    "merge_edge_types(to_merge, 'LOCATION_OF_AloDO', swap=True)"
   ]
  },
  {
   "cell_type": "code",
   "execution_count": 41,
   "metadata": {
    "scrolled": false
   },
   "outputs": [
    {
     "name": "stdout",
     "output_type": "stream",
     "text": [
      "Anatomy --- Genes & Molecular Sequences \n",
      "\n",
      "LOCATION_OF_AloG             419681\n",
      "PART_OF_Gpo>A                234502\n",
      "PRODUCES_Apd>G                72412\n",
      "AFFECTS_GafA                  68662\n",
      "AUGMENTS_GagA                 68194\n",
      "DISRUPTS_GdsA                 28793\n",
      "NEG_LOCATION_OF_AnloG         10738\n",
      "NEG_PART_OF_GnpoA              4658\n",
      "NEG_PRODUCES_AnpdG             4569\n",
      "NEG_AFFECTS_GnafA              4437\n",
      "PRODUCES_Gpd>A                 2772\n",
      "ADMINISTERED_TO_GatA           2461\n",
      "NEG_AUGMENTS_GnagA             1857\n",
      "COEXISTS_WITH_GcwA             1798\n",
      "NEG_DISRUPTS_GndsA              747\n",
      "INTERACTS_WITH_AiwG             519\n",
      "INHIBITS_GinA                   127\n",
      "STIMULATES_GstA                 118\n",
      "PART_OF_Apo>G                   110\n",
      "CAUSES_GcA                      103\n",
      "ISA_Ai>G                         72\n",
      "ASSOCIATED_WITH_GawA             62\n",
      "compared_with_GcpwA              28\n",
      "TREATS_GtA                       27\n",
      "NEG_INTERACTS_WITH_GniwA         25\n",
      "USES_AuG                         22\n",
      "NEG_COEXISTS_WITH_AncwG          18\n",
      "NEG_ADMINISTERED_TO_GnatA        16\n",
      "CONVERTS_TO_Act>G                11\n",
      "higher_than_GhtA                  6\n",
      "CONVERTS_TO_Gct>A                 6\n",
      "NEG_ASSOCIATED_WITH_GnawA         3\n",
      "NEG_INHIBITS_AninG                3\n",
      "PREVENTS_GpvA                     2\n",
      "PRECEDES_Gpc>A                    2\n",
      "NEG_STIMULATES_GnstA              1\n",
      "PREDISPOSES_GpsA                  1\n",
      "NEG_CAUSES_GncA                   1\n",
      "Name: TYPE, dtype: int64\n"
     ]
    }
   ],
   "source": [
    "combo_num = 19\n",
    "\n",
    "pair = combos[combo_num]\n",
    "\n",
    "print(pair[0], '---', pair[1], '\\n')\n",
    "print(combo_counts[combos[combo_num]])"
   ]
  },
  {
   "cell_type": "markdown",
   "metadata": {},
   "source": [
    "Here we will try for 3 associations:\n",
    "\n",
    "1. Associated With (or localizes to)\n",
    "2. Positive assocation (upregulated in)\n",
    "3. Negative Association (downregulated in)"
   ]
  },
  {
   "cell_type": "code",
   "execution_count": 42,
   "metadata": {
    "collapsed": true
   },
   "outputs": [],
   "source": [
    "to_merge = ['LOCATION_OF_AloG', 'PRODUCES_Apd>G']\n",
    "merge_edge_types(to_merge, 'LOCATION_OF_AloG')\n",
    "to_merge = ['ASSOCIATED_WITH_GawA', 'COEXISTS_WITH_GcwA', 'PART_OF_Gpo>A']\n",
    "merge_edge_types(to_merge, 'LOCATION_OF_AloG', swap=True)\n",
    "\n",
    " \n",
    "to_merge = ['AFFECTS_GafA', 'AUGMENTS_GagA', 'DISRUPTS_GdsA', 'INHIBITS_GinA', 'STIMULATES_GstA']\n",
    "merge_edge_types(to_merge, 'AFFECTS_GafA')\n",
    "change_edge_type('INTERACTS_WITH_AiwG', 'AFFECTS_GafA', swap=True)\n",
    "\n",
    "\n",
    "to_merge = ['NEG_LOCATION_OF_AnloG', 'NEG_PRODUCES_AnpdG', 'NEG_COEXISTS_WITH_AncwG']\n",
    "merge_edge_types(to_merge, 'NEG_LOCATION_OF_AnloG')\n",
    "to_merge = ['NEG_ASSOCIATED_WITH_GnawA','NEG_PART_OF_GnpoA']\n",
    "merge_edge_types(to_merge, 'NEG_LOCATION_OF_AnloG', swap=True)"
   ]
  },
  {
   "cell_type": "code",
   "execution_count": 43,
   "metadata": {
    "scrolled": true
   },
   "outputs": [
    {
     "name": "stdout",
     "output_type": "stream",
     "text": [
      "Anatomy --- Geographic Areas \n",
      "\n",
      "LOCATION_OF_GAloA      26\n",
      "AFFECTS_GAafA           2\n",
      "PART_OF_Apo>GA          1\n",
      "PART_OF_GApo>A          1\n",
      "NEG_AUGMENTS_GAnagA     1\n",
      "Name: TYPE, dtype: int64\n"
     ]
    }
   ],
   "source": [
    "combo_num = 20\n",
    "\n",
    "pair = combos[combo_num]\n",
    "\n",
    "print(pair[0], '---', pair[1], '\\n')\n",
    "print(combo_counts[combos[combo_num]])"
   ]
  },
  {
   "cell_type": "markdown",
   "metadata": {},
   "source": [
    "Too Small"
   ]
  },
  {
   "cell_type": "code",
   "execution_count": 44,
   "metadata": {
    "scrolled": false
   },
   "outputs": [
    {
     "name": "stdout",
     "output_type": "stream",
     "text": [
      "Anatomy --- Living Beings \n",
      "\n",
      "PART_OF_Apo>LB                164385\n",
      "LOCATION_OF_AloLB              40804\n",
      "NEG_PART_OF_AnpoLB              1622\n",
      "NEG_LOCATION_OF_AnloLB           891\n",
      "PROCESS_OF_Apro>LB               678\n",
      "PART_OF_LBpo>A                   400\n",
      "AFFECTS_LBafA                    126\n",
      "TREATS_AtLB                       99\n",
      "ASSOCIATED_WITH_AawLB             64\n",
      "ADMINISTERED_TO_LBatA             49\n",
      "USES_LBuA                         34\n",
      "PRODUCES_Apd>LB                   32\n",
      "PRODUCES_LBpd>A                   27\n",
      "AUGMENTS_LBagA                    27\n",
      "NEG_PROCESS_OF_AnproLB            23\n",
      "OCCURS_IN_AoiLB                   18\n",
      "CAUSES_LBcA                       17\n",
      "DIAGNOSES_LBdgA                   10\n",
      "DISRUPTS_LBdsA                     8\n",
      "INTERACTS_WITH_AiwLB               8\n",
      "NEG_AFFECTS_AnafLB                 7\n",
      "COEXISTS_WITH_LBcwA                3\n",
      "ISA_Ai>LB                          2\n",
      "NEG_PRODUCES_AnpdLB                2\n",
      "NEG_TREATS_AntLB                   2\n",
      "NEG_COEXISTS_WITH_LBncwA           1\n",
      "NEG_AUGMENTS_LBnagA                1\n",
      "NEG_ADMINISTERED_TO_AnatLB         1\n",
      "Name: TYPE, dtype: int64\n"
     ]
    }
   ],
   "source": [
    "combo_num = 21\n",
    "\n",
    "pair = combos[combo_num]\n",
    "\n",
    "print(pair[0], '---', pair[1], '\\n')\n",
    "print(combo_counts[combos[combo_num]])"
   ]
  },
  {
   "cell_type": "markdown",
   "metadata": {},
   "source": [
    "After spotchecking several instantances of each of part_of and location_of;\n",
    "\n",
    "`Part_of` shows a partiuclar anatomy belongs to a particular living being  \n",
    "`Location_of` shows where a particular living being (usually a microorganism) occurs\n",
    "\n",
    "We will change Part_of to occurs_in to remove the directionality of the edge, which is unimportant for this study."
   ]
  },
  {
   "cell_type": "code",
   "execution_count": 45,
   "metadata": {
    "collapsed": true
   },
   "outputs": [],
   "source": [
    "to_merge = ['OCCURS_IN_AoiLB' 'PART_OF_Apo>LB']\n",
    "merge_edge_types(to_merge, 'OCCURS_IN_AoiLB')"
   ]
  },
  {
   "cell_type": "code",
   "execution_count": 46,
   "metadata": {
    "scrolled": false
   },
   "outputs": [
    {
     "name": "stdout",
     "output_type": "stream",
     "text": [
      "Anatomy --- Objects \n",
      "\n",
      "LOCATION_OF_AloOB         3031\n",
      "PART_OF_OBpo>A             332\n",
      "AFFECTS_OBafA              242\n",
      "AUGMENTS_OBagA             107\n",
      "PART_OF_Apo>OB              60\n",
      "DISRUPTS_OBdsA              58\n",
      "NEG_LOCATION_OF_AnloOB      39\n",
      "PRODUCES_Apd>OB             25\n",
      "NEG_AFFECTS_OBnafA          25\n",
      "USES_AuOB                   14\n",
      "ISA_Ai>OB                    4\n",
      "ADMINISTERED_TO_OBatA        3\n",
      "TREATS_OBtA                  3\n",
      "compared_with_OBcpwA         3\n",
      "NEG_PART_OF_OBnpoA           3\n",
      "INTERACTS_WITH_OBiwA         2\n",
      "PRODUCES_OBpd>A              2\n",
      "NEG_PRODUCES_AnpdOB          2\n",
      "NEG_CAUSES_OBncA             1\n",
      "NEG_AUGMENTS_OBnagA          1\n",
      "CAUSES_OBcA                  1\n",
      "higher_than_OBhtA            1\n",
      "INHIBITS_OBinA               1\n",
      "ASSOCIATED_WITH_OBawA        1\n",
      "Name: TYPE, dtype: int64\n"
     ]
    }
   ],
   "source": [
    "combo_num = 22\n",
    "\n",
    "pair = combos[combo_num]\n",
    "\n",
    "print(pair[0], '---', pair[1], '\\n')\n",
    "print(combo_counts[combos[combo_num]])"
   ]
  },
  {
   "cell_type": "markdown",
   "metadata": {},
   "source": [
    "Too small for any need"
   ]
  },
  {
   "cell_type": "code",
   "execution_count": 47,
   "metadata": {
    "scrolled": false
   },
   "outputs": [
    {
     "name": "stdout",
     "output_type": "stream",
     "text": [
      "Anatomy --- Occupations \n",
      "\n",
      "LOCATION_OF_OCloA     59\n",
      "METHOD_OF_AmoOC        7\n",
      "PART_OF_Apo>OC         3\n",
      "AFFECTS_OCafA          1\n",
      "PROCESS_OF_OCpro>A     1\n",
      "TREATS_OCtA            1\n",
      "CAUSES_AcOC            1\n",
      "Name: TYPE, dtype: int64\n"
     ]
    }
   ],
   "source": [
    "combo_num = 23\n",
    "\n",
    "pair = combos[combo_num]\n",
    "\n",
    "print(pair[0], '---', pair[1], '\\n')\n",
    "print(combo_counts[combos[combo_num]])"
   ]
  },
  {
   "cell_type": "code",
   "execution_count": 48,
   "metadata": {
    "scrolled": false
   },
   "outputs": [
    {
     "name": "stdout",
     "output_type": "stream",
     "text": [
      "Anatomy --- Organizations \n",
      "\n",
      "LOCATION_OF_AloOR    8\n",
      "PART_OF_Apo>OR       6\n",
      "PART_OF_ORpo>A       6\n",
      "AUGMENTS_ORagA       4\n",
      "NEG_USES_AnuOR       1\n",
      "Name: TYPE, dtype: int64\n"
     ]
    }
   ],
   "source": [
    "combo_num = 24\n",
    "\n",
    "pair = combos[combo_num]\n",
    "\n",
    "print(pair[0], '---', pair[1], '\\n')\n",
    "print(combo_counts[combos[combo_num]])"
   ]
  },
  {
   "cell_type": "code",
   "execution_count": 49,
   "metadata": {
    "scrolled": false
   },
   "outputs": [
    {
     "name": "stdout",
     "output_type": "stream",
     "text": [
      "Anatomy --- Phenomena \n",
      "\n",
      "LOCATION_OF_AloPH             6824\n",
      "AFFECTS_AafPH                  400\n",
      "PROCESS_OF_Apro>PH             158\n",
      "ASSOCIATED_WITH_AawPH          136\n",
      "NEG_LOCATION_OF_AnloPH         121\n",
      "PART_OF_PHpo>A                 103\n",
      "PART_OF_Apo>PH                  59\n",
      "AUGMENTS_PHagA                  53\n",
      "PRODUCES_PHpd>A                 42\n",
      "PROCESS_OF_PHpro>A              34\n",
      "NEG_AFFECTS_PHnafA              33\n",
      "DISRUPTS_PHdsA                  28\n",
      "PRODUCES_Apd>PH                 15\n",
      "CAUSES_PHcA                      9\n",
      "NEG_PROCESS_OF_AnproPH           5\n",
      "COEXISTS_WITH_AcwPH              4\n",
      "NEG_ASSOCIATED_WITH_AnawPH       3\n",
      "DIAGNOSES_PHdgA                  1\n",
      "NEG_DISRUPTS_PHndsA              1\n",
      "ISA_PHi>A                        1\n",
      "NEG_PRODUCES_PHnpdA              1\n",
      "TREATS_AtPH                      1\n",
      "MANIFESTATION_OF_PHmfo>A         1\n",
      "NEG_COEXISTS_WITH_AncwPH         1\n",
      "PREDISPOSES_ApsPH                1\n",
      "Name: TYPE, dtype: int64\n"
     ]
    }
   ],
   "source": [
    "combo_num = 25\n",
    "\n",
    "pair = combos[combo_num]\n",
    "\n",
    "print(pair[0], '---', pair[1], '\\n')\n",
    "print(combo_counts[combos[combo_num]])"
   ]
  },
  {
   "cell_type": "code",
   "execution_count": 50,
   "metadata": {
    "scrolled": false
   },
   "outputs": [
    {
     "name": "stdout",
     "output_type": "stream",
     "text": [
      "Anatomy --- Physiology \n",
      "\n",
      "AFFECTS_AafPS                 18336\n",
      "PROCESS_OF_PSpro>A             8893\n",
      "LOCATION_OF_AloPS              3490\n",
      "PRODUCES_PSpd>A                1301\n",
      "NEG_AFFECTS_AnafPS             1265\n",
      "PART_OF_PSpo>A                  459\n",
      "PART_OF_Apo>PS                  452\n",
      "ASSOCIATED_WITH_AawPS           191\n",
      "NEG_PROCESS_OF_PSnproA          167\n",
      "COEXISTS_WITH_AcwPS             145\n",
      "CAUSES_PScA                      75\n",
      "AUGMENTS_PSagA                   74\n",
      "NEG_LOCATION_OF_AnloPS           70\n",
      "PROCESS_OF_Apro>PS               67\n",
      "DISRUPTS_PSdsA                   50\n",
      "NEG_PRODUCES_PSnpdA              43\n",
      "PRODUCES_Apd>PS                  38\n",
      "PRECEDES_PSpc>A                  22\n",
      "MANIFESTATION_OF_Amfo>PS         12\n",
      "PRECEDES_Apc>PS                   9\n",
      "TREATS_AtPS                       9\n",
      "NEG_COEXISTS_WITH_AncwPS          8\n",
      "NEG_ASSOCIATED_WITH_PSnawA        6\n",
      "NEG_PART_OF_PSnpoA                6\n",
      "MANIFESTATION_OF_PSmfo>A          4\n",
      "NEG_CAUSES_AncPS                  2\n",
      "NEG_DISRUPTS_PSndsA               2\n",
      "ISA_Ai>PS                         2\n",
      "NEG_AUGMENTS_AnagPS               2\n",
      "ADMINISTERED_TO_PSatA             1\n",
      "NEG_INHIBITS_AninPS               1\n",
      "NEG_STIMULATES_AnstPS             1\n",
      "USES_AuPS                         1\n",
      "PREDISPOSES_PSpsA                 1\n",
      "Name: TYPE, dtype: int64\n"
     ]
    }
   ],
   "source": [
    "combo_num = 26\n",
    "\n",
    "pair = combos[combo_num]\n",
    "\n",
    "print(pair[0], '---', pair[1], '\\n')\n",
    "print(combo_counts[combos[combo_num]])"
   ]
  },
  {
   "cell_type": "code",
   "execution_count": 51,
   "metadata": {
    "collapsed": true
   },
   "outputs": [],
   "source": [
    "# After looking closely at a few examples, Affects and Location_of are similar and should be combined\n",
    "merge_edge_types(['AFFECTS_AafPS', 'ASSOCIATED_WITH_AawPS', 'LOCATION_OF_AloPS'],  'LOCATION_OF_AloPS')\n",
    "\n",
    "merge_edge_types(['PROCESS_OF_PSpro>A', 'PART_OF_PSpo>A'],  'LOCATION_OF_AloPS', swap=True)"
   ]
  },
  {
   "cell_type": "code",
   "execution_count": 52,
   "metadata": {
    "scrolled": false
   },
   "outputs": [
    {
     "name": "stdout",
     "output_type": "stream",
     "text": [
      "Anatomy --- Procedures \n",
      "\n",
      "LOCATION_OF_AloPR             71555\n",
      "NEG_LOCATION_OF_AnloPR         1472\n",
      "TREATS_PRtA                     329\n",
      "DIAGNOSES_PRdgA                 220\n",
      "DISRUPTS_PRdsA                  181\n",
      "AFFECTS_PRafA                   179\n",
      "METHOD_OF_PRmoA                 161\n",
      "PART_OF_Apo>PR                  157\n",
      "USES_PRuA                       104\n",
      "PART_OF_PRpo>A                  101\n",
      "PRECEDES_PRpc>A                  56\n",
      "ASSOCIATED_WITH_AawPR            44\n",
      "STIMULATES_PRstA                 41\n",
      "PRODUCES_PRpd>A                  33\n",
      "CAUSES_PRcA                      30\n",
      "NEG_AFFECTS_AnafPR               24\n",
      "AUGMENTS_PRagA                   24\n",
      "compared_with_PRcpwA             20\n",
      "PREVENTS_PRpvA                   16\n",
      "NEG_DISRUPTS_PRndsA              15\n",
      "PRODUCES_Apd>PR                  14\n",
      "PROCESS_OF_PRpro>A               14\n",
      "COEXISTS_WITH_AcwPR              14\n",
      "PRECEDES_Apc>PR                   8\n",
      "NEG_TREATS_PRntA                  7\n",
      "NEG_DIAGNOSES_PRndgA              6\n",
      "higher_than_PRhtA                 5\n",
      "PREDISPOSES_PRpsA                 4\n",
      "ADMINISTERED_TO_PRatA             3\n",
      "NEG_STIMULATES_PRnstA             3\n",
      "NEG_ASSOCIATED_WITH_AnawPR        3\n",
      "NEG_PRODUCES_PRnpdA               3\n",
      "NEG_CAUSES_PRncA                  2\n",
      "PROCESS_OF_Apro>PR                2\n",
      "lower_than_PRltA                  1\n",
      "NEG_higher_than_PRnhtA            1\n",
      "ISA_Ai>PR                         1\n",
      "CONVERTS_TO_Act>PR                1\n",
      "NEG_USES_PRnuA                    1\n",
      "NEG_PART_OF_AnpoPR                1\n",
      "NEG_METHOD_OF_AnmoPR              1\n",
      "NEG_COEXISTS_WITH_AncwPR          1\n",
      "Name: TYPE, dtype: int64\n"
     ]
    }
   ],
   "source": [
    "combo_num = 27\n",
    "\n",
    "pair = combos[combo_num]\n",
    "\n",
    "print(pair[0], '---', pair[1], '\\n')\n",
    "print(combo_counts[combos[combo_num]])"
   ]
  },
  {
   "cell_type": "code",
   "execution_count": 53,
   "metadata": {
    "scrolled": false
   },
   "outputs": [
    {
     "name": "stdout",
     "output_type": "stream",
     "text": [
      "Chemicals & Drugs --- Chemicals & Drugs \n",
      "\n",
      "INTERACTS_WITH_CDiwCD         969797\n",
      "COEXISTS_WITH_CDcwCD          540909\n",
      "STIMULATES_CDstCD             512348\n",
      "INHIBITS_CDinCD               438768\n",
      "compared_with_CDcpwCD         217133\n",
      "ISA_CDi>CD                    126972\n",
      "PART_OF_CDpo>CD               119819\n",
      "NEG_INTERACTS_WITH_CDniwCD     76813\n",
      "PRODUCES_CDpd>CD               71898\n",
      "higher_than_CDhtCD             70076\n",
      "CONVERTS_TO_CDct>CD            36094\n",
      "NEG_STIMULATES_CDnstCD         22429\n",
      "NEG_INHIBITS_CDninCD           20433\n",
      "USES_CDuCD                     18016\n",
      "NEG_COEXISTS_WITH_CDncwCD      14950\n",
      "same_as_CDsaCD                 14815\n",
      "lower_than_CDltCD              14592\n",
      "different_from_CDdfCD           3867\n",
      "NEG_PART_OF_CDnpoCD             3208\n",
      "NEG_PRODUCES_CDnpdCD            2547\n",
      "NEG_higher_than_CDnhtCD         1913\n",
      "LOCATION_OF_CDloCD              1903\n",
      "different_than_CDdtCD            978\n",
      "AFFECTS_CDafCD                   426\n",
      "NEG_CONVERTS_TO_CDnctCD          411\n",
      "NEG_lower_than_CDnltCD           264\n",
      "TREATS_CDtCD                     140\n",
      "AUGMENTS_CDagCD                  128\n",
      "PRECEDES_CDpc>CD                 115\n",
      "NEG_USES_CDnuCD                  111\n",
      "DISRUPTS_CDdsCD                  104\n",
      "METHOD_OF_CDmoCD                  80\n",
      "NEG_AFFECTS_CDnafCD               49\n",
      "CAUSES_CDcCD                      32\n",
      "NEG_LOCATION_OF_CDnloCD           27\n",
      "ASSOCIATED_WITH_CDawCD            18\n",
      "ADMINISTERED_TO_CDatCD            17\n",
      "PREVENTS_CDpvCD                   11\n",
      "NEG_DISRUPTS_CDndsCD               6\n",
      "NEG_PRECEDES_CDnpcCD               3\n",
      "NEG_CAUSES_CDncCD                  3\n",
      "PREDISPOSES_CDpsCD                 2\n",
      "NEG_TREATS_CDntCD                  1\n",
      "NEG_PREVENTS_CDnpvCD               1\n",
      "NEG_AUGMENTS_CDnagCD               1\n",
      "NEG_METHOD_OF_CDnmoCD              1\n",
      "Name: TYPE, dtype: int64\n"
     ]
    }
   ],
   "source": [
    "combo_num = 28\n",
    "\n",
    "pair = combos[combo_num]\n",
    "\n",
    "print(pair[0], '---', pair[1], '\\n')\n",
    "print(combo_counts[combos[combo_num]])"
   ]
  },
  {
   "cell_type": "code",
   "execution_count": 54,
   "metadata": {
    "collapsed": true
   },
   "outputs": [],
   "source": [
    "# These edges show compounds that are associated with each other...\n",
    "to_merge = ['INTERACTS_WITH_CDiwCD', 'COEXISTS_WITH_CDcwCD', 'CONVERTS_TO_CDct>CD', 'PRODUCES_CDpd>CD', 'USES_CDuCD']\n",
    "merge_edge_types(to_merge, 'ASSOCIATED_WITH_CDawCD')\n",
    "\n",
    "# These should be directed edges\n",
    "change_edge_type('STIMULATES_CDstCD', 'STIMULATES_CDst>CD')\n",
    "change_edge_type('INHIBITS_CDinCD', 'INHIBITS_CDinCD')\n",
    " \n",
    "# Merge to is-a\n",
    "to_merge = ['ISA_CDi>CD', 'PART_OF_CDpo>CD']\n",
    "merge_edge_types(to_merge, 'ISA_CDi>CD')\n",
    " \n",
    "# Negation edges aren't too useful.  Its the same as having a 0 in the postivie edge\n",
    "to_drop = ['NEG_INTERACTS_WITH_CDniwCD', 'NEG_STIMULATES_CDnstCD', 'NEG_INHIBITS_CDninCD', 'NEG_COEXISTS_WITH_CDncwCD']\n",
    "drop_edges_from_list(to_drop)\n",
    "    \n",
    "# These comparison edges are also not useful, they will be dropped.\n",
    "to_drop = ['compared_with_CDcpwCD', 'higher_than_CDhtCD','same_as_CDsaCD','lower_than_CDltCD']\n",
    "drop_edges_from_list(to_drop)"
   ]
  },
  {
   "cell_type": "code",
   "execution_count": 55,
   "metadata": {
    "scrolled": false
   },
   "outputs": [
    {
     "name": "stdout",
     "output_type": "stream",
     "text": [
      "Chemicals & Drugs --- Concepts & Ideas \n",
      "\n",
      "AFFECTS_CDafCI                 5566\n",
      "AUGMENTS_CDagCI                4700\n",
      "CAUSES_CDcCI                   4255\n",
      "USES_CIuCD                     3692\n",
      "TREATS_CDtCI                   3011\n",
      "DISRUPTS_CDdsCI                2459\n",
      "INHIBITS_CDinCI                1631\n",
      "ASSOCIATED_WITH_CDawCI         1336\n",
      "PART_OF_CDpo>CI                1321\n",
      "ADMINISTERED_TO_CDatCI         1139\n",
      "LOCATION_OF_CIloCD             1089\n",
      "INTERACTS_WITH_CIiwCD           942\n",
      "NEG_AFFECTS_CDnafCI             849\n",
      "PRODUCES_CIpd>CD                713\n",
      "COEXISTS_WITH_CDcwCI            677\n",
      "PREVENTS_CDpvCI                 567\n",
      "PREDISPOSES_CDpsCI              424\n",
      "STIMULATES_CIstCD               392\n",
      "compared_with_CDcpwCI           348\n",
      "NEG_CAUSES_CDncCI               180\n",
      "NEG_AUGMENTS_CDnagCI            164\n",
      "NEG_TREATS_CDntCI               128\n",
      "NEG_DISRUPTS_CDndsCI            114\n",
      "higher_than_CDhtCI               96\n",
      "NEG_ASSOCIATED_WITH_CDnawCI      86\n",
      "NEG_USES_CInuCD                  74\n",
      "NEG_PREVENTS_CDnpvCI             58\n",
      "METHOD_OF_CImoCD                 54\n",
      "NEG_INHIBITS_CDninCI             53\n",
      "NEG_INTERACTS_WITH_CDniwCI       46\n",
      "PRECEDES_CDpc>CI                 30\n",
      "NEG_PRODUCES_CInpdCD             29\n",
      "PRODUCES_CDpd>CI                 26\n",
      "PART_OF_CIpo>CD                  24\n",
      "ISA_CDi>CI                       23\n",
      "CONVERTS_TO_CIct>CD              22\n",
      "NEG_PART_OF_CDnpoCI              20\n",
      "NEG_PREDISPOSES_CDnpsCI          19\n",
      "NEG_LOCATION_OF_CInloCD          16\n",
      "lower_than_CDltCI                16\n",
      "NEG_STIMULATES_CInstCD           15\n",
      "same_as_CDsaCI                   14\n",
      "NEG_ADMINISTERED_TO_CDnatCI      13\n",
      "NEG_COEXISTS_WITH_CIncwCD        10\n",
      "CONVERTS_TO_CDct>CI              10\n",
      "COMPLICATES_CDcpCI                9\n",
      "PRECEDES_CIpc>CD                  4\n",
      "different_from_CIdfCD             4\n",
      "ISA_CIi>CD                        3\n",
      "DIAGNOSES_CIdgCD                  2\n",
      "PROCESS_OF_CIpro>CD               1\n",
      "NEG_PRECEDES_CDnpcCI              1\n",
      "NEG_higher_than_CInhtCD           1\n",
      "NEG_METHOD_OF_CDnmoCI             1\n",
      "Name: TYPE, dtype: int64\n"
     ]
    }
   ],
   "source": [
    "combo_num = 29\n",
    "\n",
    "pair = combos[combo_num]\n",
    "\n",
    "print(pair[0], '---', pair[1], '\\n')\n",
    "print(combo_counts[combos[combo_num]])"
   ]
  },
  {
   "cell_type": "code",
   "execution_count": 56,
   "metadata": {
    "collapsed": true
   },
   "outputs": [],
   "source": [
    "# May result in enough instanfces for edge to pass filtering if we combine all \n",
    "# modulation relationships\n",
    "to_merge = ['AFFECTS_CDafCI','AUGMENTS_CDagCI', 'CAUSES_CDcCI',\n",
    "       'TREATS_CDtCI', 'DISRUPTS_CDdsCI', 'INHIBITS_CDinCI',\n",
    "       'ASSOCIATED_WITH_CDawCI', 'PREVENTS_CDpvCI','PREDISPOSES_CDpsCI']\n",
    "merge_edge_types(to_merge, 'AFFECTS_CDafCI')\n"
   ]
  },
  {
   "cell_type": "code",
   "execution_count": 57,
   "metadata": {
    "scrolled": false
   },
   "outputs": [
    {
     "name": "stdout",
     "output_type": "stream",
     "text": [
      "Chemicals & Drugs --- Devices \n",
      "\n",
      "USES_DVuCD                    18592\n",
      "compared_with_CDcpwDV          8379\n",
      "higher_than_DVhtCD             1786\n",
      "same_as_CDsaDV                  364\n",
      "lower_than_DVltCD               334\n",
      "NEG_USES_DVnuCD                 157\n",
      "LOCATION_OF_DVloCD              125\n",
      "INTERACTS_WITH_DViwCD           120\n",
      "ISA_DVi>CD                       90\n",
      "COEXISTS_WITH_CDcwDV             67\n",
      "different_from_DVdfCD            60\n",
      "PART_OF_CDpo>DV                  54\n",
      "NEG_higher_than_CDnhtDV          50\n",
      "ISA_CDi>DV                       49\n",
      "AFFECTS_CDafDV                   44\n",
      "STIMULATES_DVstCD                21\n",
      "AUGMENTS_CDagDV                  21\n",
      "PART_OF_DVpo>CD                  15\n",
      "INHIBITS_DVinCD                  15\n",
      "different_than_CDdtDV            14\n",
      "ASSOCIATED_WITH_CDawDV           13\n",
      "PRODUCES_DVpd>CD                 12\n",
      "TREATS_DVtCD                     11\n",
      "DIAGNOSES_DVdgCD                  9\n",
      "NEG_lower_than_DVnltCD            5\n",
      "NEG_INTERACTS_WITH_CDniwDV        5\n",
      "DISRUPTS_CDdsDV                   4\n",
      "NEG_COEXISTS_WITH_DVncwCD         3\n",
      "CAUSES_CDcDV                      3\n",
      "NEG_LOCATION_OF_DVnloCD           2\n",
      "CONVERTS_TO_CDct>DV               1\n",
      "NEG_STIMULATES_CDnstDV            1\n",
      "PRODUCES_CDpd>DV                  1\n",
      "NEG_TREATS_CDntDV                 1\n",
      "NEG_METHOD_OF_CDnmoDV             1\n",
      "NEG_AFFECTS_CDnafDV               1\n",
      "METHOD_OF_CDmoDV                  1\n",
      "NEG_AUGMENTS_CDnagDV              1\n",
      "Name: TYPE, dtype: int64\n"
     ]
    }
   ],
   "source": [
    "combo_num = 30\n",
    "\n",
    "pair = combos[combo_num]\n",
    "\n",
    "print(pair[0], '---', pair[1], '\\n')\n",
    "print(combo_counts[combos[combo_num]])"
   ]
  },
  {
   "cell_type": "markdown",
   "metadata": {},
   "source": [
    "Nothing to merge here.  Uses is the only decent edge, but may not have enough counts to pass filtering."
   ]
  },
  {
   "cell_type": "code",
   "execution_count": 58,
   "metadata": {
    "scrolled": false
   },
   "outputs": [
    {
     "name": "stdout",
     "output_type": "stream",
     "text": [
      "Chemicals & Drugs --- Disorders \n",
      "\n",
      "TREATS_CDtDO                   503816\n",
      "ASSOCIATED_WITH_CDawDO         407482\n",
      "CAUSES_CDcDO                   287076\n",
      "AFFECTS_CDafDO                 227096\n",
      "AUGMENTS_CDagDO                 99814\n",
      "PREVENTS_CDpvDO                 98261\n",
      "DISRUPTS_CDdsDO                 93382\n",
      "PREDISPOSES_CDpsDO              88371\n",
      "PRODUCES_DOpd>CD                40772\n",
      "PART_OF_CDpo>DO                 33136\n",
      "NEG_AFFECTS_CDnafDO             20193\n",
      "INHIBITS_CDinDO                 17343\n",
      "NEG_CAUSES_CDncDO               12667\n",
      "NEG_TREATS_CDntDO               12500\n",
      "NEG_ASSOCIATED_WITH_CDnawDO     11124\n",
      "NEG_AUGMENTS_CDnagDO             4786\n",
      "NEG_PREVENTS_CDnpvDO             4415\n",
      "NEG_PREDISPOSES_CDnpsDO          4003\n",
      "COMPLICATES_CDcpDO               3524\n",
      "NEG_DISRUPTS_CDndsDO             3187\n",
      "LOCATION_OF_DOloCD               2965\n",
      "USES_DOuCD                       1900\n",
      "NEG_PRODUCES_DOnpdCD             1515\n",
      "NEG_INHIBITS_CDninDO              942\n",
      "NEG_PART_OF_CDnpoDO               449\n",
      "ADMINISTERED_TO_CDatDO            333\n",
      "COEXISTS_WITH_CDcwDO              246\n",
      "PRECEDES_CDpc>DO                  230\n",
      "PROCESS_OF_DOpro>CD               185\n",
      "NEG_COMPLICATES_CDncpDO           183\n",
      "INTERACTS_WITH_CDiwDO             155\n",
      "DIAGNOSES_CDdgDO                  149\n",
      "compared_with_CDcpwDO             136\n",
      "METHOD_OF_CDmoDO                   69\n",
      "STIMULATES_CDstDO                  67\n",
      "NEG_USES_DOnuCD                    60\n",
      "NEG_LOCATION_OF_DOnloCD            51\n",
      "PRODUCES_CDpd>DO                   44\n",
      "NEG_ADMINISTERED_TO_CDnatDO        28\n",
      "higher_than_CDhtDO                 27\n",
      "ISA_CDi>DO                         16\n",
      "PART_OF_DOpo>CD                    14\n",
      "NEG_INTERACTS_WITH_DOniwCD          7\n",
      "ISA_DOi>CD                          6\n",
      "CONVERTS_TO_CDct>DO                 5\n",
      "lower_than_DOltCD                   4\n",
      "NEG_STIMULATES_DOnstCD              4\n",
      "NEG_DIAGNOSES_CDndgDO               3\n",
      "same_as_CDsaDO                      3\n",
      "NEG_METHOD_OF_CDnmoDO               3\n",
      "CONVERTS_TO_DOct>CD                 3\n",
      "PRECEDES_DOpc>CD                    3\n",
      "NEG_PRECEDES_CDnpcDO                2\n",
      "PROCESS_OF_CDpro>DO                 2\n",
      "NEG_COEXISTS_WITH_DOncwCD           1\n",
      "MANIFESTATION_OF_CDmfo>DO           1\n",
      "Name: TYPE, dtype: int64\n"
     ]
    }
   ],
   "source": [
    "combo_num = 31\n",
    "\n",
    "pair = combos[combo_num]\n",
    "\n",
    "print(pair[0], '---', pair[1], '\\n')\n",
    "print(combo_counts[combos[combo_num]])"
   ]
  },
  {
   "cell_type": "code",
   "execution_count": 59,
   "metadata": {
    "collapsed": true
   },
   "outputs": [],
   "source": [
    "# Negatvie effect\n",
    "to_merge = ['TREATS_CDtDO', 'PREVENTS_CDpvDO','DISRUPTS_CDdsDO', 'INHIBITS_CDinDO']\n",
    "merge_edge_types(to_merge, to_type='TREATS_CDtDO')\n",
    "\n",
    "# General Association\n",
    "to_merge = ['ASSOCIATED_WITH_CDawDO', 'AFFECTS_CDafDO', 'PART_OF_CDpo>DO']\n",
    "merge_edge_types(to_merge, to_type='ASSOCIATED_WITH_CDawDO')\n",
    "change_edge_type('PRODUCES_DOpd>CD', 'ASSOCIATED_WITH_CDawDO', swap=True)\n",
    "\n",
    "# Positive effect\n",
    "to_merge = ['CAUSES_CDcDO', 'AUGMENTS_CDagDO','PREDISPOSES_CDpsDO', 'COMPLICATES_CDcpDO']\n",
    "merge_edge_types(to_merge, 'AUGMENTS_CDagDO')\n",
    "        \n",
    "# Drop the large negation edges\n",
    "to_drop = ['NEG_AFFECTS_CDnafDO', 'NEG_CAUSES_CDncDO', 'NEG_TREATS_CDntDO', 'NEG_ASSOCIATED_WITH_CDnawDO',\n",
    "       'NEG_AUGMENTS_CDnagDO', 'NEG_PREVENTS_CDnpvDO','NEG_PREDISPOSES_CDnpsDO', 'NEG_DISRUPTS_CDndsDO']\n",
    "drop_edges_from_list(to_drop) "
   ]
  },
  {
   "cell_type": "code",
   "execution_count": 60,
   "metadata": {
    "scrolled": false
   },
   "outputs": [
    {
     "name": "stdout",
     "output_type": "stream",
     "text": [
      "Chemicals & Drugs --- Genes & Molecular Sequences \n",
      "\n",
      "INTERACTS_WITH_GiwCD         447759\n",
      "STIMULATES_GstCD             333876\n",
      "COEXISTS_WITH_CDcwG          268959\n",
      "INHIBITS_CDinG               242761\n",
      "PART_OF_CDpo>G               119075\n",
      "compared_with_GcpwCD          69058\n",
      "PRODUCES_Gpd>CD               55705\n",
      "NEG_INTERACTS_WITH_CDniwG     36268\n",
      "PRODUCES_CDpd>G               33083\n",
      "PART_OF_Gpo>CD                23327\n",
      "higher_than_CDhtG             18707\n",
      "ISA_Gi>CD                     15155\n",
      "NEG_STIMULATES_CDnstG         14621\n",
      "NEG_INHIBITS_CDninG            8999\n",
      "NEG_COEXISTS_WITH_GncwCD       8909\n",
      "CONVERTS_TO_Gct>CD             8262\n",
      "CONVERTS_TO_CDct>G             7027\n",
      "USES_CDuG                      5654\n",
      "ISA_CDi>G                      5475\n",
      "same_as_GsaCD                  3596\n",
      "lower_than_CDltG               3267\n",
      "NEG_PRODUCES_GnpdCD            3110\n",
      "NEG_PART_OF_CDnpoG             2773\n",
      "different_from_CDdfG           1479\n",
      "LOCATION_OF_GloCD               591\n",
      "NEG_higher_than_GnhtCD          378\n",
      "AFFECTS_CDafG                   309\n",
      "different_than_GdtCD            298\n",
      "NEG_CONVERTS_TO_CDnctG          138\n",
      "AUGMENTS_CDagG                   80\n",
      "ASSOCIATED_WITH_CDawG            66\n",
      "TREATS_CDtG                      54\n",
      "NEG_lower_than_CDnltG            51\n",
      "DISRUPTS_CDdsG                   48\n",
      "PRECEDES_Gpc>CD                  44\n",
      "CAUSES_CDcG                      40\n",
      "NEG_AFFECTS_CDnafG               39\n",
      "NEG_USES_GnuCD                   35\n",
      "METHOD_OF_CDmoG                  28\n",
      "PRECEDES_CDpc>G                  14\n",
      "PREDISPOSES_CDpsG                 6\n",
      "NEG_LOCATION_OF_GnloCD            5\n",
      "PREVENTS_CDpvG                    4\n",
      "NEG_DISRUPTS_GndsCD               2\n",
      "NEG_COMPLICATES_CDncpG            2\n",
      "NEG_CAUSES_CDncG                  2\n",
      "ADMINISTERED_TO_CDatG             2\n",
      "NEG_AUGMENTS_CDnagG               2\n",
      "NEG_PREDISPOSES_CDnpsG            1\n",
      "NEG_TREATS_CDntG                  1\n",
      "NEG_METHOD_OF_CDnmoG              1\n",
      "PROCESS_OF_Gpro>CD                1\n",
      "Name: TYPE, dtype: int64\n"
     ]
    }
   ],
   "source": [
    "combo_num = 32\n",
    "\n",
    "pair = combos[combo_num]\n",
    "\n",
    "print(pair[0], '---', pair[1], '\\n')\n",
    "print(combo_counts[combos[combo_num]])"
   ]
  },
  {
   "cell_type": "code",
   "execution_count": 61,
   "metadata": {
    "collapsed": true
   },
   "outputs": [],
   "source": [
    "# Large amount, but all show a general relationship between Gene and Chemical.\n",
    "to_merge = ['INTERACTS_WITH_GiwCD', 'PART_OF_Gpo>CD','ISA_Gi>CD', 'CONVERTS_TO_Gct>CD']\n",
    "merge_edge_types(to_merge, 'INTERACTS_WITH_CDiwG', swap=True)\n",
    "to_merge = ['COEXISTS_WITH_CDcwG', 'PART_OF_CDpo>G',  'USES_CDuG','ISA_CDi>G', 'CONVERTS_TO_CDct>G']\n",
    "merge_edge_types(to_merge, 'INTERACTS_WITH_CDiwG')\n",
    "\n",
    "# Merge Stimulates edges\n",
    "to_merge = ['STIMULATES_GstCD', 'PRODUCES_Gpd>CD']\n",
    "merge_edge_types(to_merge, 'STIMULATES_CDstG', swap=True)\n",
    "to_merge = ['PRODUCES_CDpd>G']\n",
    "merge_edge_types(to_merge, 'STIMULATES_CDstG')\n",
    "\n",
    "# keep inhibits as-is\n",
    "\n",
    "#drop useless edges\n",
    "to_drop = ['higher_than_CDhtG', 'NEG_STIMULATES_CDnstG', 'compared_with_GcpwCD', 'NEG_INTERACTS_WITH_CDniwG']\n",
    "drop_edges_from_list(to_drop)"
   ]
  },
  {
   "cell_type": "code",
   "execution_count": 62,
   "metadata": {
    "scrolled": false
   },
   "outputs": [
    {
     "name": "stdout",
     "output_type": "stream",
     "text": [
      "Chemicals & Drugs --- Geographic Areas \n",
      "\n",
      "COEXISTS_WITH_CDcwGA     15\n",
      "INTERACTS_WITH_CDiwGA     1\n",
      "LOCATION_OF_GAloCD        1\n",
      "Name: TYPE, dtype: int64\n"
     ]
    }
   ],
   "source": [
    "combo_num = 33\n",
    "\n",
    "pair = combos[combo_num]\n",
    "\n",
    "print(pair[0], '---', pair[1], '\\n')\n",
    "print(combo_counts[combos[combo_num]])"
   ]
  },
  {
   "cell_type": "code",
   "execution_count": 63,
   "metadata": {
    "scrolled": false
   },
   "outputs": [
    {
     "name": "stdout",
     "output_type": "stream",
     "text": [
      "Chemicals & Drugs --- Living Beings \n",
      "\n",
      "LOCATION_OF_LBloCD             397815\n",
      "PART_OF_CDpo>LB                198444\n",
      "TREATS_CDtLB                   149167\n",
      "ADMINISTERED_TO_CDatLB          95641\n",
      "INTERACTS_WITH_CDiwLB           12287\n",
      "PRODUCES_LBpd>CD                10797\n",
      "NEG_LOCATION_OF_LBnloCD          7105\n",
      "NEG_TREATS_CDntLB                5461\n",
      "NEG_ADMINISTERED_TO_CDnatLB      4348\n",
      "NEG_PART_OF_CDnpoLB              3034\n",
      "AFFECTS_CDafLB                   2109\n",
      "USES_LBuCD                       1282\n",
      "PREVENTS_CDpvLB                  1161\n",
      "AUGMENTS_CDagLB                   452\n",
      "COEXISTS_WITH_CDcwLB              344\n",
      "NEG_INTERACTS_WITH_LBniwCD        332\n",
      "NEG_PRODUCES_LBnpdCD              331\n",
      "DISRUPTS_CDdsLB                   289\n",
      "PROCESS_OF_CDpro>LB               225\n",
      "NEG_AFFECTS_CDnafLB               113\n",
      "STIMULATES_CDstLB                 112\n",
      "INHIBITS_LBinCD                    71\n",
      "compared_with_CDcpwLB              64\n",
      "ASSOCIATED_WITH_CDawLB             40\n",
      "NEG_PREVENTS_CDnpvLB               40\n",
      "CAUSES_CDcLB                       29\n",
      "DIAGNOSES_CDdgLB                   24\n",
      "PART_OF_LBpo>CD                    19\n",
      "PRODUCES_CDpd>LB                   17\n",
      "NEG_USES_LBnuCD                    15\n",
      "ISA_LBi>CD                         12\n",
      "NEG_DISRUPTS_CDndsLB               12\n",
      "CONVERTS_TO_LBct>CD                12\n",
      "ISA_CDi>LB                         11\n",
      "higher_than_CDhtLB                 10\n",
      "NEG_AUGMENTS_CDnagLB               10\n",
      "NEG_COEXISTS_WITH_CDncwLB           8\n",
      "NEG_STIMULATES_LBnstCD              4\n",
      "PREDISPOSES_CDpsLB                  3\n",
      "lower_than_CDltLB                   3\n",
      "CONVERTS_TO_CDct>LB                 3\n",
      "OCCURS_IN_CDoiLB                    1\n",
      "NEG_INHIBITS_LBninCD                1\n",
      "NEG_CAUSES_CDncLB                   1\n",
      "PROCESS_OF_LBpro>CD                 1\n",
      "NEG_DIAGNOSES_CDndgLB               1\n",
      "NEG_lower_than_LBnltCD              1\n",
      "NEG_PROCESS_OF_CDnproLB             1\n",
      "same_as_CDsaLB                      1\n",
      "Name: TYPE, dtype: int64\n"
     ]
    }
   ],
   "source": [
    "combo_num = 34\n",
    "\n",
    "pair = combos[combo_num]\n",
    "\n",
    "print(pair[0], '---', pair[1], '\\n')\n",
    "print(combo_counts[combos[combo_num]])"
   ]
  },
  {
   "cell_type": "code",
   "execution_count": 64,
   "metadata": {
    "collapsed": true
   },
   "outputs": [],
   "source": [
    "# split into two types... naturally occuring, and added to.\n",
    "to_merge = ['LOCATION_OF_LBloCD', 'PRODUCES_LBpd>CD']\n",
    "merge_edge_types(to_merge, 'PRODUCES_LBpdCD')\n",
    "change_edge_type('PART_OF_CDpo>LB', 'PRODUCES_LBpdCD', swap=True)\n",
    " \n",
    "    \n",
    "# 'TREATS_CDtLB' is potentially pathogens tereated by a combpound\n",
    "\n",
    "# 'ADMINISTERED_TO_CDatLB' is more like the beign that a drug is given to...?"
   ]
  },
  {
   "cell_type": "code",
   "execution_count": 65,
   "metadata": {
    "scrolled": true
   },
   "outputs": [
    {
     "name": "stdout",
     "output_type": "stream",
     "text": [
      "Chemicals & Drugs --- Objects \n",
      "\n",
      "COEXISTS_WITH_OBcwCD          2997\n",
      "INTERACTS_WITH_OBiwCD         2691\n",
      "compared_with_CDcpwOB         2261\n",
      "USES_OBuCD                    1850\n",
      "ISA_CDi>OB                    1623\n",
      "LOCATION_OF_OBloCD            1244\n",
      "STIMULATES_CDstOB              977\n",
      "INHIBITS_OBinCD                821\n",
      "higher_than_CDhtOB             522\n",
      "ISA_OBi>CD                     292\n",
      "NEG_INTERACTS_WITH_OBniwCD     225\n",
      "same_as_OBsaCD                  92\n",
      "CONVERTS_TO_OBct>CD             87\n",
      "lower_than_OBltCD               85\n",
      "PART_OF_CDpo>OB                 81\n",
      "PRODUCES_CDpd>OB                57\n",
      "NEG_COEXISTS_WITH_CDncwOB       49\n",
      "PART_OF_OBpo>CD                 45\n",
      "NEG_STIMULATES_OBnstCD          30\n",
      "CONVERTS_TO_CDct>OB             27\n",
      "PRODUCES_OBpd>CD                27\n",
      "NEG_INHIBITS_OBninCD            24\n",
      "NEG_USES_CDnuOB                 22\n",
      "different_from_CDdfOB           16\n",
      "NEG_higher_than_OBnhtCD         16\n",
      "NEG_LOCATION_OF_OBnloCD         15\n",
      "AFFECTS_CDafOB                  11\n",
      "different_than_OBdtCD           10\n",
      "ASSOCIATED_WITH_CDawOB           6\n",
      "AUGMENTS_CDagOB                  6\n",
      "NEG_PART_OF_OBnpoCD              5\n",
      "CAUSES_CDcOB                     4\n",
      "TREATS_CDtOB                     3\n",
      "PRECEDES_OBpc>CD                 2\n",
      "NEG_lower_than_CDnltOB           2\n",
      "NEG_PRODUCES_CDnpdOB             1\n",
      "PREVENTS_CDpvOB                  1\n",
      "NEG_CONVERTS_TO_OBnctCD          1\n",
      "DISRUPTS_CDdsOB                  1\n",
      "NEG_AFFECTS_CDnafOB              1\n",
      "Name: TYPE, dtype: int64\n"
     ]
    }
   ],
   "source": [
    "combo_num = 35\n",
    "\n",
    "pair = combos[combo_num]\n",
    "\n",
    "print(pair[0], '---', pair[1], '\\n')\n",
    "print(combo_counts[combos[combo_num]])"
   ]
  },
  {
   "cell_type": "markdown",
   "metadata": {},
   "source": [
    "not enough counts to matter"
   ]
  },
  {
   "cell_type": "code",
   "execution_count": 66,
   "metadata": {
    "scrolled": false
   },
   "outputs": [
    {
     "name": "stdout",
     "output_type": "stream",
     "text": [
      "Chemicals & Drugs --- Occupations \n",
      "\n",
      "AFFECTS_CDafOC            615\n",
      "USES_OCuCD                229\n",
      "METHOD_OF_CDmoOC           86\n",
      "AUGMENTS_CDagOC            60\n",
      "DISRUPTS_CDdsOC            58\n",
      "ASSOCIATED_WITH_CDawOC     36\n",
      "NEG_AFFECTS_CDnafOC        24\n",
      "CAUSES_CDcOC               23\n",
      "COEXISTS_WITH_CDcwOC       13\n",
      "TREATS_CDtOC               11\n",
      "PRODUCES_OCpd>CD           10\n",
      "INTERACTS_WITH_OCiwCD       9\n",
      "compared_with_OCcpwCD       7\n",
      "LOCATION_OF_OCloCD          7\n",
      "ADMINISTERED_TO_CDatOC      5\n",
      "PART_OF_CDpo>OC             2\n",
      "NEG_TREATS_CDntOC           1\n",
      "PREVENTS_CDpvOC             1\n",
      "NEG_METHOD_OF_CDnmoOC       1\n",
      "NEG_USES_OCnuCD             1\n",
      "higher_than_OChtCD          1\n",
      "STIMULATES_CDstOC           1\n",
      "Name: TYPE, dtype: int64\n"
     ]
    }
   ],
   "source": [
    "combo_num = 36\n",
    "\n",
    "pair = combos[combo_num]\n",
    "\n",
    "print(pair[0], '---', pair[1], '\\n')\n",
    "print(combo_counts[combos[combo_num]])"
   ]
  },
  {
   "cell_type": "code",
   "execution_count": 67,
   "metadata": {
    "scrolled": false
   },
   "outputs": [
    {
     "name": "stdout",
     "output_type": "stream",
     "text": [
      "Chemicals & Drugs --- Organizations \n",
      "\n",
      "LOCATION_OF_ORloCD        42\n",
      "PART_OF_CDpo>OR           28\n",
      "USES_CDuOR                10\n",
      "TREATS_CDtOR               5\n",
      "AFFECTS_CDafOR             5\n",
      "COEXISTS_WITH_CDcwOR       3\n",
      "INTERACTS_WITH_CDiwOR      3\n",
      "ADMINISTERED_TO_CDatOR     2\n",
      "AUGMENTS_CDagOR            2\n",
      "PRODUCES_ORpd>CD           2\n",
      "STIMULATES_CDstOR          1\n",
      "compared_with_ORcpwCD      1\n",
      "INHIBITS_ORinCD            1\n",
      "Name: TYPE, dtype: int64\n"
     ]
    }
   ],
   "source": [
    "combo_num = 37\n",
    "\n",
    "pair = combos[combo_num]\n",
    "\n",
    "print(pair[0], '---', pair[1], '\\n')\n",
    "print(combo_counts[combos[combo_num]])"
   ]
  },
  {
   "cell_type": "code",
   "execution_count": 68,
   "metadata": {
    "scrolled": false
   },
   "outputs": [
    {
     "name": "stdout",
     "output_type": "stream",
     "text": [
      "Chemicals & Drugs --- Phenomena \n",
      "\n",
      "AFFECTS_CDafPH                 46044\n",
      "AUGMENTS_CDagPH                24534\n",
      "DISRUPTS_CDdsPH                15913\n",
      "CAUSES_CDcPH                    5143\n",
      "NEG_AFFECTS_CDnafPH             4182\n",
      "PRODUCES_PHpd>CD                1524\n",
      "NEG_AUGMENTS_CDnagPH             986\n",
      "TREATS_CDtPH                     927\n",
      "LOCATION_OF_CDloPH               896\n",
      "INTERACTS_WITH_PHiwCD            873\n",
      "NEG_DISRUPTS_CDndsPH             702\n",
      "INHIBITS_CDinPH                  650\n",
      "PART_OF_CDpo>PH                  495\n",
      "USES_PHuCD                       409\n",
      "STIMULATES_PHstCD                364\n",
      "COEXISTS_WITH_PHcwCD             309\n",
      "NEG_CAUSES_CDncPH                173\n",
      "ASSOCIATED_WITH_PHawCD           145\n",
      "compared_with_PHcpwCD             74\n",
      "NEG_INTERACTS_WITH_PHniwCD        65\n",
      "NEG_PRODUCES_PHnpdCD              45\n",
      "ADMINISTERED_TO_CDatPH            34\n",
      "NEG_TREATS_CDntPH                 33\n",
      "PREDISPOSES_CDpsPH                20\n",
      "NEG_LOCATION_OF_PHnloCD           19\n",
      "NEG_INHIBITS_CDninPH              18\n",
      "PRODUCES_CDpd>PH                  17\n",
      "PREVENTS_CDpvPH                   15\n",
      "NEG_STIMULATES_PHnstCD            13\n",
      "higher_than_CDhtPH                12\n",
      "ISA_CDi>PH                        10\n",
      "NEG_COEXISTS_WITH_CDncwPH          9\n",
      "COMPLICATES_CDcpPH                 7\n",
      "ISA_PHi>CD                         7\n",
      "CONVERTS_TO_CDct>PH                7\n",
      "NEG_PART_OF_CDnpoPH                7\n",
      "PART_OF_PHpo>CD                    5\n",
      "NEG_ASSOCIATED_WITH_PHnawCD        5\n",
      "PROCESS_OF_PHpro>CD                5\n",
      "same_as_CDsaPH                     5\n",
      "METHOD_OF_PHmoCD                   4\n",
      "CONVERTS_TO_PHct>CD                3\n",
      "NEG_USES_PHnuCD                    3\n",
      "NEG_PREDISPOSES_CDnpsPH            2\n",
      "PROCESS_OF_CDpro>PH                2\n",
      "NEG_METHOD_OF_PHnmoCD              1\n",
      "lower_than_PHltCD                  1\n",
      "DIAGNOSES_CDdgPH                   1\n",
      "Name: TYPE, dtype: int64\n"
     ]
    }
   ],
   "source": [
    "combo_num = 38\n",
    "\n",
    "pair = combos[combo_num]\n",
    "\n",
    "print(pair[0], '---', pair[1], '\\n')\n",
    "print(combo_counts[combos[combo_num]])"
   ]
  },
  {
   "cell_type": "code",
   "execution_count": 69,
   "metadata": {
    "collapsed": true
   },
   "outputs": [],
   "source": [
    "# We could have a +, -, and assc relations here, but one edge of just AFFECTS may have more power\n",
    "\n",
    "to_merge = ['AFFECTS_CDafPH', 'AUGMENTS_CDagPH', 'DISRUPTS_CDdsPH', 'CAUSES_CDcPH']\n",
    "merge_edge_types(to_merge, 'AFFECTS_CDafPH')"
   ]
  },
  {
   "cell_type": "code",
   "execution_count": 70,
   "metadata": {
    "scrolled": false
   },
   "outputs": [
    {
     "name": "stdout",
     "output_type": "stream",
     "text": [
      "Chemicals & Drugs --- Physiology \n",
      "\n",
      "AFFECTS_CDafPS                 367287\n",
      "AUGMENTS_CDagPS                185771\n",
      "DISRUPTS_CDdsPS                170967\n",
      "CAUSES_CDcPS                    64115\n",
      "NEG_AFFECTS_CDnafPS             43357\n",
      "PRODUCES_PSpd>CD                28381\n",
      "INHIBITS_CDinPS                 17703\n",
      "NEG_DISRUPTS_CDndsPS             9752\n",
      "NEG_AUGMENTS_CDnagPS             9143\n",
      "ASSOCIATED_WITH_PSawCD           6168\n",
      "NEG_CAUSES_CDncPS                3363\n",
      "TREATS_CDtPS                     2888\n",
      "LOCATION_OF_PSloCD               1543\n",
      "NEG_INHIBITS_CDninPS             1070\n",
      "STIMULATES_CDstPS                 941\n",
      "USES_PSuCD                        934\n",
      "NEG_PRODUCES_PSnpdCD              763\n",
      "INTERACTS_WITH_PSiwCD             707\n",
      "PREVENTS_CDpvPS                   493\n",
      "COEXISTS_WITH_PScwCD              493\n",
      "PART_OF_CDpo>PS                   444\n",
      "COMPLICATES_CDcpPS                385\n",
      "NEG_ASSOCIATED_WITH_PSnawCD       283\n",
      "ADMINISTERED_TO_CDatPS            224\n",
      "PREDISPOSES_CDpsPS                217\n",
      "NEG_TREATS_CDntPS                 166\n",
      "compared_with_PScpwCD             150\n",
      "PROCESS_OF_PSpro>CD                99\n",
      "NEG_INTERACTS_WITH_CDniwPS         64\n",
      "NEG_LOCATION_OF_PSnloCD            49\n",
      "NEG_COMPLICATES_CDncpPS            46\n",
      "higher_than_PShtCD                 37\n",
      "NEG_STIMULATES_CDnstPS             34\n",
      "ISA_PSi>CD                         32\n",
      "ISA_CDi>PS                         25\n",
      "NEG_PREVENTS_CDnpvPS               22\n",
      "PRODUCES_CDpd>PS                   22\n",
      "PRECEDES_CDpc>PS                   18\n",
      "CONVERTS_TO_CDct>PS                18\n",
      "NEG_ADMINISTERED_TO_CDnatPS        12\n",
      "NEG_COEXISTS_WITH_CDncwPS           9\n",
      "same_as_CDsaPS                      9\n",
      "NEG_PREDISPOSES_CDnpsPS             8\n",
      "NEG_USES_PSnuCD                     8\n",
      "lower_than_CDltPS                   7\n",
      "METHOD_OF_PSmoCD                    7\n",
      "NEG_PART_OF_CDnpoPS                 6\n",
      "PART_OF_PSpo>CD                     5\n",
      "PROCESS_OF_CDpro>PS                 4\n",
      "NEG_higher_than_PSnhtCD             3\n",
      "different_than_CDdtPS               3\n",
      "CONVERTS_TO_PSct>CD                 3\n",
      "different_from_CDdfPS               2\n",
      "Name: TYPE, dtype: int64\n"
     ]
    }
   ],
   "source": [
    "combo_num = 39\n",
    "\n",
    "pair = combos[combo_num]\n",
    "\n",
    "print(pair[0], '---', pair[1], '\\n')\n",
    "print(combo_counts[combos[combo_num]])"
   ]
  },
  {
   "cell_type": "code",
   "execution_count": 71,
   "metadata": {
    "collapsed": true
   },
   "outputs": [],
   "source": [
    "# Large Enough Numbers here that we can go with one of each.\n",
    "\n",
    "# Just one neutral relationship, 'AFFECTS_CDafPS', \n",
    "\n",
    "# Merge the positives\n",
    "to_merge = ['AUGMENTS_CDagPS', 'CAUSES_CDcPS', 'STIMULATES_CDstPS']\n",
    "merge_edge_types(to_merge, 'AUGMENTS_CDagPS')\n",
    "\n",
    "# Merge the negatives\n",
    "to_merge = ['DISRUPTS_CDdsPS', 'INHIBITS_CDinPS', 'TREATS_CDtPS']\n",
    "merge_edge_types(to_merge, 'DISRUPTS_CDdsPS')\n",
    "\n",
    "# These are silgithly different, chemicals that come as a result of a physiology\n",
    "to_merge = ['ASSOCIATED_WITH_PSawCD', 'PRODUCES_PSpd>CD']\n",
    "merge_edge_types(to_merge, 'ASSOCIATED_WITH_PSawCD')\n",
    "\n",
    "# Drop unhelpful edges\n",
    "to_drop = ['NEG_AFFECTS_CDnafPS', 'NEG_DISRUPTS_CDndsPS', 'NEG_AUGMENTS_CDnagPS',\n",
    " 'NEG_CAUSES_CDncPS','LOCATION_OF_PSloCD', 'NEG_INHIBITS_CDninPS']\n",
    "drop_edges_from_list(to_drop)"
   ]
  },
  {
   "cell_type": "code",
   "execution_count": 72,
   "metadata": {
    "scrolled": false
   },
   "outputs": [
    {
     "name": "stdout",
     "output_type": "stream",
     "text": [
      "Chemicals & Drugs --- Procedures \n",
      "\n",
      "USES_PRuCD                     284820\n",
      "compared_with_CDcpwPR           40733\n",
      "ISA_CDi>PR                      15554\n",
      "higher_than_CDhtPR              10603\n",
      "METHOD_OF_CDmoPR                 8255\n",
      "NEG_USES_PRnuCD                  5122\n",
      "PRECEDES_CDpc>PR                 3928\n",
      "same_as_CDsaPR                   2742\n",
      "PRECEDES_PRpc>CD                 2554\n",
      "AFFECTS_CDafPR                   2001\n",
      "lower_than_CDltPR                1884\n",
      "COEXISTS_WITH_PRcwCD             1828\n",
      "AUGMENTS_CDagPR                  1466\n",
      "ISA_PRi>CD                       1244\n",
      "NEG_higher_than_CDnhtPR           887\n",
      "INHIBITS_PRinCD                   875\n",
      "TREATS_CDtPR                      840\n",
      "DISRUPTS_CDdsPR                   747\n",
      "PRODUCES_PRpd>CD                  621\n",
      "CAUSES_CDcPR                      617\n",
      "LOCATION_OF_PRloCD                556\n",
      "NEG_AFFECTS_CDnafPR               494\n",
      "INTERACTS_WITH_CDiwPR             479\n",
      "different_from_PRdfCD             278\n",
      "PART_OF_CDpo>PR                   256\n",
      "STIMULATES_PRstCD                 162\n",
      "NEG_METHOD_OF_PRnmoCD             130\n",
      "different_than_CDdtPR             118\n",
      "NEG_PRECEDES_PRnpcCD               79\n",
      "DIAGNOSES_PRdgCD                   77\n",
      "NEG_AUGMENTS_CDnagPR               71\n",
      "NEG_lower_than_CDnltPR             64\n",
      "NEG_INHIBITS_CDninPR               60\n",
      "ADMINISTERED_TO_CDatPR             53\n",
      "ASSOCIATED_WITH_CDawPR             53\n",
      "NEG_TREATS_CDntPR                  47\n",
      "NEG_INTERACTS_WITH_PRniwCD         42\n",
      "NEG_DISRUPTS_CDndsPR               28\n",
      "PREVENTS_CDpvPR                    28\n",
      "NEG_COEXISTS_WITH_CDncwPR          22\n",
      "NEG_CAUSES_CDncPR                  21\n",
      "PART_OF_PRpo>CD                    18\n",
      "NEG_PRODUCES_PRnpdCD               14\n",
      "NEG_LOCATION_OF_PRnloCD            11\n",
      "PRODUCES_CDpd>PR                    8\n",
      "NEG_PART_OF_PRnpoCD                 6\n",
      "PREDISPOSES_CDpsPR                  5\n",
      "CONVERTS_TO_CDct>PR                 3\n",
      "PROCESS_OF_PRpro>CD                 3\n",
      "CONVERTS_TO_PRct>CD                 3\n",
      "NEG_PREVENTS_CDnpvPR                3\n",
      "NEG_ASSOCIATED_WITH_CDnawPR         2\n",
      "NEG_ADMINISTERED_TO_PRnatCD         2\n",
      "NEG_STIMULATES_CDnstPR              2\n",
      "COMPLICATES_CDcpPR                  1\n",
      "Name: TYPE, dtype: int64\n"
     ]
    }
   ],
   "source": [
    "combo_num = 40\n",
    "\n",
    "pair = combos[combo_num]\n",
    "\n",
    "print(pair[0], '---', pair[1], '\\n')\n",
    "print(combo_counts[combos[combo_num]])"
   ]
  },
  {
   "cell_type": "code",
   "execution_count": 73,
   "metadata": {
    "collapsed": true
   },
   "outputs": [],
   "source": [
    "# Main edge: 'USES_PRuCD'\n",
    "# These are close nough but need swap\n",
    "to_merge = ['ISA_CDi>PR','METHOD_OF_CDmoPR']\n",
    "merge_edge_types(to_merge, 'USES_PRuCD', swap=True)\n",
    "\n",
    "# these are not useful\n",
    "to_drop =  ['compared_with_CDcpwPR', 'higher_than_CDhtPR']\n",
    "drop_edges_from_list(to_drop)"
   ]
  },
  {
   "cell_type": "code",
   "execution_count": 74,
   "metadata": {
    "scrolled": true
   },
   "outputs": [
    {
     "name": "stdout",
     "output_type": "stream",
     "text": [
      "Concepts & Ideas --- Concepts & Ideas \n",
      "\n",
      "ISA_CIi>CI                     7770\n",
      "USES_CIuCI                      175\n",
      "LOCATION_OF_CIloCI              163\n",
      "PROCESS_OF_CIpro>CI              73\n",
      "METHOD_OF_CImoCI                 58\n",
      "AFFECTS_CIafCI                   48\n",
      "compared_with_CIcpwCI            38\n",
      "TREATS_CItCI                     31\n",
      "ADMINISTERED_TO_CIatCI           25\n",
      "COEXISTS_WITH_CIcwCI             25\n",
      "DIAGNOSES_CIdgCI                 24\n",
      "OCCURS_IN_CIoiCI                 15\n",
      "PRODUCES_CIpd>CI                 11\n",
      "higher_than_CIhtCI               11\n",
      "NEG_PROCESS_OF_CInproCI           7\n",
      "CAUSES_CIcCI                      6\n",
      "NEG_LOCATION_OF_CInloCI           5\n",
      "same_as_CIsaCI                    5\n",
      "PRECEDES_CIpc>CI                  5\n",
      "lower_than_CIltCI                 4\n",
      "NEG_USES_CInuCI                   4\n",
      "NEG_AFFECTS_CInafCI               4\n",
      "NEG_METHOD_OF_CInmoCI             3\n",
      "INTERACTS_WITH_CIiwCI             3\n",
      "ASSOCIATED_WITH_CIawCI            3\n",
      "PART_OF_CIpo>CI                   3\n",
      "PREDISPOSES_CIpsCI                2\n",
      "NEG_COEXISTS_WITH_CIncwCI         1\n",
      "NEG_higher_than_CInhtCI           1\n",
      "NEG_OCCURS_IN_CInoiCI             1\n",
      "PREVENTS_CIpvCI                   1\n",
      "NEG_ADMINISTERED_TO_CInatCI       1\n",
      "DISRUPTS_CIdsCI                   1\n",
      "different_from_CIdfCI             1\n",
      "AUGMENTS_CIagCI                   1\n",
      "Name: TYPE, dtype: int64\n"
     ]
    }
   ],
   "source": [
    "combo_num = 41\n",
    "\n",
    "pair = combos[combo_num]\n",
    "\n",
    "print(pair[0], '---', pair[1], '\\n')\n",
    "print(combo_counts[combos[combo_num]])"
   ]
  },
  {
   "cell_type": "code",
   "execution_count": 75,
   "metadata": {
    "scrolled": true
   },
   "outputs": [
    {
     "name": "stdout",
     "output_type": "stream",
     "text": [
      "Concepts & Ideas --- Devices \n",
      "\n",
      "USES_CIuDV                 4291\n",
      "TREATS_DVtCI                512\n",
      "LOCATION_OF_CIloDV          110\n",
      "NEG_USES_CInuDV              74\n",
      "CAUSES_DVcCI                 59\n",
      "compared_with_DVcpwCI        56\n",
      "PRODUCES_CIpd>DV             50\n",
      "ISA_CIi>DV                   47\n",
      "PREVENTS_DVpvCI              19\n",
      "ADMINISTERED_TO_DVatCI        9\n",
      "higher_than_DVhtCI            9\n",
      "ISA_DVi>CI                    9\n",
      "NEG_TREATS_DVntCI             7\n",
      "METHOD_OF_DVmoCI              4\n",
      "NEG_CAUSES_DVncCI             3\n",
      "same_as_DVsaCI                2\n",
      "AFFECTS_DVafCI                1\n",
      "PROCESS_OF_DVpro>CI           1\n",
      "NEG_LOCATION_OF_CInloDV       1\n",
      "PART_OF_CIpo>DV               1\n",
      "NEG_PRODUCES_CInpdDV          1\n",
      "PRECEDES_DVpc>CI              1\n",
      "lower_than_CIltDV             1\n",
      "DIAGNOSES_DVdgCI              1\n",
      "Name: TYPE, dtype: int64\n"
     ]
    }
   ],
   "source": [
    "combo_num = 42\n",
    "\n",
    "pair = combos[combo_num]\n",
    "\n",
    "print(pair[0], '---', pair[1], '\\n')\n",
    "print(combo_counts[combos[combo_num]])"
   ]
  },
  {
   "cell_type": "code",
   "execution_count": 76,
   "metadata": {
    "scrolled": true
   },
   "outputs": [
    {
     "name": "stdout",
     "output_type": "stream",
     "text": [
      "Concepts & Ideas --- Disorders \n",
      "\n",
      "PROCESS_OF_DOpro>CI              5781\n",
      "DIAGNOSES_CIdgDO                 5391\n",
      "COEXISTS_WITH_CIcwDO             5256\n",
      "TREATS_CItDO                     3362\n",
      "AFFECTS_CIafDO                   3347\n",
      "LOCATION_OF_CIloDO               2408\n",
      "ASSOCIATED_WITH_CIawDO           1525\n",
      "CAUSES_DOcCI                     1438\n",
      "PREDISPOSES_CIpsDO               1371\n",
      "PART_OF_DOpo>CI                   352\n",
      "PROCESS_OF_CIpro>DO               308\n",
      "PREVENTS_CIpvDO                   291\n",
      "NEG_AFFECTS_DOnafCI               211\n",
      "NEG_COEXISTS_WITH_DOncwCI         205\n",
      "MANIFESTATION_OF_DOmfo>CI         194\n",
      "ISA_DOi>CI                        192\n",
      "OCCURS_IN_CIoiDO                  170\n",
      "NEG_DIAGNOSES_CIndgDO             156\n",
      "NEG_PROCESS_OF_DOnproCI           142\n",
      "MANIFESTATION_OF_CImfo>DO         115\n",
      "INTERACTS_WITH_DOiwCI             114\n",
      "ISA_CIi>DO                         98\n",
      "COMPLICATES_CIcpDO                 82\n",
      "PRECEDES_CIpc>DO                   82\n",
      "NEG_LOCATION_OF_CInloDO            66\n",
      "USES_DOuCI                         59\n",
      "PART_OF_CIpo>DO                    55\n",
      "AUGMENTS_CIagDO                    55\n",
      "PRECEDES_DOpc>CI                   54\n",
      "NEG_CAUSES_DOncCI                  52\n",
      "NEG_TREATS_DOntCI                  51\n",
      "NEG_PREDISPOSES_CInpsDO            49\n",
      "DISRUPTS_CIdsDO                    45\n",
      "NEG_ASSOCIATED_WITH_CInawDO        39\n",
      "METHOD_OF_DOmoCI                   18\n",
      "NEG_INTERACTS_WITH_DOniwCI         14\n",
      "ADMINISTERED_TO_DOatCI              9\n",
      "NEG_PREVENTS_CInpvDO                8\n",
      "NEG_AUGMENTS_CInagDO                6\n",
      "NEG_MANIFESTATION_OF_DOnmfoCI       6\n",
      "NEG_PART_OF_DOnpoCI                 6\n",
      "PRODUCES_DOpd>CI                    5\n",
      "NEG_OCCURS_IN_CInoiDO               3\n",
      "NEG_ADMINISTERED_TO_DOnatCI         2\n",
      "INHIBITS_CIinDO                     2\n",
      "PRODUCES_CIpd>DO                    1\n",
      "STIMULATES_DOstCI                   1\n",
      "NEG_METHOD_OF_CInmoDO               1\n",
      "compared_with_DOcpwCI               1\n",
      "Name: TYPE, dtype: int64\n"
     ]
    }
   ],
   "source": [
    "combo_num = 43\n",
    "\n",
    "pair = combos[combo_num]\n",
    "\n",
    "print(pair[0], '---', pair[1], '\\n')\n",
    "print(combo_counts[combos[combo_num]])"
   ]
  },
  {
   "cell_type": "markdown",
   "metadata": {},
   "source": [
    "If all were merged to one egde type, could be useable, but the edges are different enoguh that merge doesn't seem applicable."
   ]
  },
  {
   "cell_type": "code",
   "execution_count": 77,
   "metadata": {
    "scrolled": true
   },
   "outputs": [
    {
     "name": "stdout",
     "output_type": "stream",
     "text": [
      "Concepts & Ideas --- Genes & Molecular Sequences \n",
      "\n",
      "AFFECTS_GafCI                 1688\n",
      "AUGMENTS_GagCI                1444\n",
      "CAUSES_GcCI                   1306\n",
      "ASSOCIATED_WITH_GawCI          870\n",
      "USES_CIuG                      820\n",
      "DISRUPTS_GdsCI                 731\n",
      "PART_OF_Gpo>CI                 557\n",
      "LOCATION_OF_CIloG              535\n",
      "INTERACTS_WITH_GiwCI           293\n",
      "COEXISTS_WITH_CIcwG            275\n",
      "PRODUCES_CIpd>G                223\n",
      "NEG_AFFECTS_GnafCI             194\n",
      "PREDISPOSES_GpsCI              186\n",
      "TREATS_GtCI                    178\n",
      "STIMULATES_CIstG               164\n",
      "INHIBITS_GinCI                 142\n",
      "compared_with_CIcpwG           111\n",
      "ADMINISTERED_TO_GatCI           65\n",
      "NEG_CAUSES_GncCI                41\n",
      "NEG_ASSOCIATED_WITH_GnawCI      40\n",
      "PRODUCES_Gpd>CI                 38\n",
      "NEG_AUGMENTS_GnagCI             34\n",
      "PREVENTS_GpvCI                  31\n",
      "higher_than_CIhtG               30\n",
      "PART_OF_CIpo>G                  22\n",
      "NEG_INTERACTS_WITH_CIniwG       19\n",
      "NEG_PRODUCES_CInpdG             15\n",
      "NEG_USES_GnuCI                  14\n",
      "NEG_DISRUPTS_GndsCI             14\n",
      "NEG_INHIBITS_GninCI              7\n",
      "NEG_LOCATION_OF_CInloG           7\n",
      "ISA_Gi>CI                        6\n",
      "METHOD_OF_GmoCI                  5\n",
      "NEG_PREDISPOSES_GnpsCI           5\n",
      "lower_than_CIltG                 5\n",
      "NEG_TREATS_GntCI                 5\n",
      "CONVERTS_TO_Gct>CI               5\n",
      "PRECEDES_Gpc>CI                  4\n",
      "CONVERTS_TO_CIct>G               3\n",
      "PRECEDES_CIpc>G                  3\n",
      "same_as_CIsaG                    3\n",
      "COMPLICATES_GcpCI                3\n",
      "NEG_PART_OF_CInpoG               3\n",
      "NEG_COEXISTS_WITH_GncwCI         3\n",
      "PROCESS_OF_CIpro>G               2\n",
      "NEG_STIMULATES_GnstCI            2\n",
      "DIAGNOSES_CIdgG                  2\n",
      "MANIFESTATION_OF_CImfo>G         2\n",
      "NEG_PRECEDES_GnpcCI              1\n",
      "NEG_PREVENTS_GnpvCI              1\n",
      "Name: TYPE, dtype: int64\n"
     ]
    }
   ],
   "source": [
    "combo_num = 44\n",
    "\n",
    "pair = combos[combo_num]\n",
    "\n",
    "print(pair[0], '---', pair[1], '\\n')\n",
    "print(combo_counts[combos[combo_num]])"
   ]
  },
  {
   "cell_type": "code",
   "execution_count": 78,
   "metadata": {
    "scrolled": true
   },
   "outputs": [
    {
     "name": "stdout",
     "output_type": "stream",
     "text": [
      "Concepts & Ideas --- Geographic Areas \n",
      "\n",
      "ISA_GAi>CI                     5\n",
      "ISA_CIi>GA                     1\n",
      "NEG_ASSOCIATED_WITH_GAnawCI    1\n",
      "Name: TYPE, dtype: int64\n"
     ]
    }
   ],
   "source": [
    "combo_num = 45\n",
    "\n",
    "pair = combos[combo_num]\n",
    "\n",
    "print(pair[0], '---', pair[1], '\\n')\n",
    "print(combo_counts[combos[combo_num]])"
   ]
  },
  {
   "cell_type": "code",
   "execution_count": 79,
   "metadata": {
    "scrolled": false
   },
   "outputs": [
    {
     "name": "stdout",
     "output_type": "stream",
     "text": [
      "Concepts & Ideas --- Living Beings \n",
      "\n",
      "PROCESS_OF_CIpro>LB            5203\n",
      "USES_LBuCI                     5072\n",
      "AFFECTS_CIafLB                 1137\n",
      "ADMINISTERED_TO_CIatLB         1114\n",
      "TREATS_CItLB                   1036\n",
      "PART_OF_CIpo>LB                 483\n",
      "INTERACTS_WITH_LBiwCI           439\n",
      "LOCATION_OF_LBloCI              385\n",
      "PRODUCES_LBpd>CI                313\n",
      "NEG_PROCESS_OF_CInproLB         210\n",
      "NEG_USES_LBnuCI                 159\n",
      "CAUSES_LBcCI                    132\n",
      "ISA_LBi>CI                       94\n",
      "DIAGNOSES_CIdgLB                 87\n",
      "OCCURS_IN_CIoiLB                 76\n",
      "ISA_CIi>LB                       65\n",
      "PROCESS_OF_LBpro>CI              55\n",
      "NEG_AFFECTS_CInafLB              45\n",
      "NEG_ADMINISTERED_TO_CInatLB      31\n",
      "NEG_TREATS_CIntLB                23\n",
      "NEG_INTERACTS_WITH_CIniwLB       15\n",
      "COEXISTS_WITH_LBcwCI             13\n",
      "NEG_PRODUCES_LBnpdCI             10\n",
      "PRODUCES_CIpd>LB                  9\n",
      "NEG_PART_OF_CInpoLB               7\n",
      "METHOD_OF_CImoLB                  7\n",
      "NEG_CAUSES_LBncCI                 5\n",
      "NEG_LOCATION_OF_CInloLB           4\n",
      "PREVENTS_CIpvLB                   3\n",
      "PART_OF_LBpo>CI                   2\n",
      "ASSOCIATED_WITH_CIawLB            2\n",
      "AUGMENTS_LBagCI                   2\n",
      "DISRUPTS_LBdsCI                   1\n",
      "NEG_OCCURS_IN_CInoiLB             1\n",
      "compared_with_CIcpwLB             1\n",
      "Name: TYPE, dtype: int64\n"
     ]
    }
   ],
   "source": [
    "combo_num = 46\n",
    "\n",
    "pair = combos[combo_num]\n",
    "\n",
    "print(pair[0], '---', pair[1], '\\n')\n",
    "print(combo_counts[combos[combo_num]])"
   ]
  },
  {
   "cell_type": "code",
   "execution_count": 80,
   "metadata": {
    "scrolled": true
   },
   "outputs": [
    {
     "name": "stdout",
     "output_type": "stream",
     "text": [
      "Concepts & Ideas --- Objects \n",
      "\n",
      "USES_CIuOB                     465\n",
      "ISA_CIi>OB                     137\n",
      "ISA_OBi>CI                     102\n",
      "TREATS_OBtCI                    55\n",
      "CAUSES_OBcCI                    55\n",
      "AFFECTS_OBafCI                  38\n",
      "LOCATION_OF_OBloCI              29\n",
      "NEG_USES_CInuOB                 12\n",
      "AUGMENTS_OBagCI                 12\n",
      "PART_OF_OBpo>CI                 10\n",
      "compared_with_OBcpwCI            5\n",
      "COEXISTS_WITH_CIcwOB             5\n",
      "INHIBITS_OBinCI                  4\n",
      "NEG_CAUSES_OBncCI                3\n",
      "NEG_AFFECTS_OBnafCI              3\n",
      "PRODUCES_CIpd>OB                 3\n",
      "PREDISPOSES_OBpsCI               2\n",
      "ASSOCIATED_WITH_OBawCI           2\n",
      "DISRUPTS_OBdsCI                  2\n",
      "higher_than_CIhtOB               1\n",
      "NEG_TREATS_OBntCI                1\n",
      "PREVENTS_OBpvCI                  1\n",
      "METHOD_OF_OBmoCI                 1\n",
      "NEG_ASSOCIATED_WITH_OBnawCI      1\n",
      "PART_OF_CIpo>OB                  1\n",
      "PRODUCES_OBpd>CI                 1\n",
      "ADMINISTERED_TO_OBatCI           1\n",
      "INTERACTS_WITH_OBiwCI            1\n",
      "PROCESS_OF_OBpro>CI              1\n",
      "NEG_PREVENTS_OBnpvCI             1\n",
      "Name: TYPE, dtype: int64\n"
     ]
    }
   ],
   "source": [
    "combo_num = 47\n",
    "\n",
    "pair = combos[combo_num]\n",
    "\n",
    "print(pair[0], '---', pair[1], '\\n')\n",
    "print(combo_counts[combos[combo_num]])"
   ]
  },
  {
   "cell_type": "code",
   "execution_count": 81,
   "metadata": {
    "scrolled": true
   },
   "outputs": [
    {
     "name": "stdout",
     "output_type": "stream",
     "text": [
      "Concepts & Ideas --- Occupations \n",
      "\n",
      "METHOD_OF_CImoOC             716\n",
      "ISA_CIi>OC                    15\n",
      "NEG_METHOD_OF_CInmoOC          7\n",
      "COEXISTS_WITH_CIcwOC           5\n",
      "PROCESS_OF_CIpro>OC            4\n",
      "AFFECTS_CIafOC                 4\n",
      "TREATS_OCtCI                   3\n",
      "ISA_OCi>CI                     3\n",
      "USES_CIuOC                     2\n",
      "ADMINISTERED_TO_OCatCI         2\n",
      "CAUSES_OCcCI                   1\n",
      "NEG_COEXISTS_WITH_CIncwOC      1\n",
      "PRECEDES_CIpc>OC               1\n",
      "LOCATION_OF_OCloCI             1\n",
      "Name: TYPE, dtype: int64\n"
     ]
    }
   ],
   "source": [
    "combo_num = 48\n",
    "\n",
    "pair = combos[combo_num]\n",
    "\n",
    "print(pair[0], '---', pair[1], '\\n')\n",
    "print(combo_counts[combos[combo_num]])"
   ]
  },
  {
   "cell_type": "code",
   "execution_count": 82,
   "metadata": {
    "scrolled": true
   },
   "outputs": [
    {
     "name": "stdout",
     "output_type": "stream",
     "text": [
      "Concepts & Ideas --- Organizations \n",
      "\n",
      "LOCATION_OF_ORloCI         2207\n",
      "AFFECTS_CIafOR              260\n",
      "PRODUCES_ORpd>CI             99\n",
      "USES_CIuOR                   56\n",
      "NEG_LOCATION_OF_ORnloCI      30\n",
      "NEG_AFFECTS_CInafOR           8\n",
      "ISA_CIi>OR                    6\n",
      "PROCESS_OF_CIpro>OR           4\n",
      "ISA_ORi>CI                    2\n",
      "NEG_PRODUCES_ORnpdCI          1\n",
      "ADMINISTERED_TO_CIatOR        1\n",
      "Name: TYPE, dtype: int64\n"
     ]
    }
   ],
   "source": [
    "combo_num = 49\n",
    "\n",
    "pair = combos[combo_num]\n",
    "\n",
    "print(pair[0], '---', pair[1], '\\n')\n",
    "print(combo_counts[combos[combo_num]])"
   ]
  },
  {
   "cell_type": "code",
   "execution_count": 83,
   "metadata": {
    "scrolled": false
   },
   "outputs": [
    {
     "name": "stdout",
     "output_type": "stream",
     "text": [
      "Concepts & Ideas --- Phenomena \n",
      "\n",
      "AFFECTS_CIafPH                   477\n",
      "PROCESS_OF_CIpro>PH              383\n",
      "PROCESS_OF_PHpro>CI              306\n",
      "LOCATION_OF_CIloPH                76\n",
      "NEG_AFFECTS_CInafPH               53\n",
      "COEXISTS_WITH_PHcwCI              24\n",
      "NEG_PROCESS_OF_CInproPH           22\n",
      "TREATS_CItPH                      21\n",
      "ISA_CIi>PH                        20\n",
      "DIAGNOSES_PHdgCI                  12\n",
      "CAUSES_PHcCI                      12\n",
      "DISRUPTS_CIdsPH                   12\n",
      "AUGMENTS_CIagPH                   10\n",
      "OCCURS_IN_PHoiCI                   9\n",
      "ISA_PHi>CI                         6\n",
      "MANIFESTATION_OF_PHmfo>CI          6\n",
      "USES_CIuPH                         6\n",
      "MANIFESTATION_OF_CImfo>PH          5\n",
      "METHOD_OF_PHmoCI                   5\n",
      "PREDISPOSES_CIpsPH                 4\n",
      "NEG_DIAGNOSES_CIndgPH              2\n",
      "PRODUCES_CIpd>PH                   2\n",
      "PREVENTS_PHpvCI                    2\n",
      "NEG_PREVENTS_PHnpvCI               1\n",
      "NEG_ASSOCIATED_WITH_CInawPH        1\n",
      "INHIBITS_CIinPH                    1\n",
      "NEG_AUGMENTS_CInagPH               1\n",
      "NEG_COEXISTS_WITH_CIncwPH          1\n",
      "NEG_METHOD_OF_PHnmoCI              1\n",
      "NEG_MANIFESTATION_OF_PHnmfoCI      1\n",
      "ASSOCIATED_WITH_PHawCI             1\n",
      "STIMULATES_CIstPH                  1\n",
      "PART_OF_CIpo>PH                    1\n",
      "NEG_LOCATION_OF_CInloPH            1\n",
      "PART_OF_PHpo>CI                    1\n",
      "NEG_OCCURS_IN_PHnoiCI              1\n",
      "Name: TYPE, dtype: int64\n"
     ]
    }
   ],
   "source": [
    "combo_num = 50\n",
    "\n",
    "pair = combos[combo_num]\n",
    "\n",
    "print(pair[0], '---', pair[1], '\\n')\n",
    "print(combo_counts[combos[combo_num]])"
   ]
  },
  {
   "cell_type": "code",
   "execution_count": 84,
   "metadata": {
    "scrolled": false
   },
   "outputs": [
    {
     "name": "stdout",
     "output_type": "stream",
     "text": [
      "Concepts & Ideas --- Physiology \n",
      "\n",
      "AFFECTS_CIafPS                   2475\n",
      "OCCURS_IN_PSoiCI                 1149\n",
      "PROCESS_OF_PSpro>CI               889\n",
      "ISA_CIi>PS                        624\n",
      "COEXISTS_WITH_PScwCI              547\n",
      "PROCESS_OF_CIpro>PS               513\n",
      "NEG_AFFECTS_CInafPS               252\n",
      "MANIFESTATION_OF_CImfo>PS         215\n",
      "CAUSES_CIcPS                      179\n",
      "ISA_PSi>CI                        144\n",
      "DISRUPTS_CIdsPS                    82\n",
      "AUGMENTS_PSagCI                    77\n",
      "TREATS_CItPS                       75\n",
      "USES_PSuCI                         51\n",
      "ASSOCIATED_WITH_PSawCI             47\n",
      "NEG_PROCESS_OF_PSnproCI            44\n",
      "NEG_OCCURS_IN_PSnoiCI              44\n",
      "PRECEDES_PSpc>CI                   37\n",
      "PREDISPOSES_CIpsPS                 36\n",
      "LOCATION_OF_CIloPS                 32\n",
      "ADMINISTERED_TO_CIatPS             32\n",
      "STIMULATES_CIstPS                  32\n",
      "DIAGNOSES_CIdgPS                   29\n",
      "PRECEDES_CIpc>PS                   29\n",
      "NEG_COEXISTS_WITH_CIncwPS          25\n",
      "PRODUCES_PSpd>CI                   13\n",
      "NEG_CAUSES_CIncPS                  11\n",
      "NEG_DISRUPTS_CIndsPS                9\n",
      "METHOD_OF_CImoPS                    8\n",
      "MANIFESTATION_OF_PSmfo>CI           7\n",
      "INHIBITS_CIinPS                     6\n",
      "INTERACTS_WITH_CIiwPS               5\n",
      "PREVENTS_CIpvPS                     4\n",
      "NEG_MANIFESTATION_OF_CInmfoPS       3\n",
      "PART_OF_CIpo>PS                     2\n",
      "NEG_PRODUCES_PSnpdCI                2\n",
      "PART_OF_PSpo>CI                     2\n",
      "NEG_AUGMENTS_CInagPS                2\n",
      "NEG_STIMULATES_CInstPS              2\n",
      "NEG_USES_PSnuCI                     2\n",
      "NEG_TREATS_CIntPS                   2\n",
      "NEG_PREVENTS_CInpvPS                1\n",
      "COMPLICATES_CIcpPS                  1\n",
      "NEG_PREDISPOSES_CInpsPS             1\n",
      "NEG_ASSOCIATED_WITH_PSnawCI         1\n",
      "Name: TYPE, dtype: int64\n"
     ]
    }
   ],
   "source": [
    "combo_num = 51\n",
    "\n",
    "pair = combos[combo_num]\n",
    "\n",
    "print(pair[0], '---', pair[1], '\\n')\n",
    "print(combo_counts[combos[combo_num]])"
   ]
  },
  {
   "cell_type": "code",
   "execution_count": 85,
   "metadata": {
    "scrolled": false
   },
   "outputs": [
    {
     "name": "stdout",
     "output_type": "stream",
     "text": [
      "Concepts & Ideas --- Procedures \n",
      "\n",
      "TREATS_PRtCI                   3089\n",
      "METHOD_OF_CImoPR               2798\n",
      "USES_CIuPR                     1792\n",
      "ADMINISTERED_TO_PRatCI         1511\n",
      "DIAGNOSES_PRdgCI               1186\n",
      "PRECEDES_PRpc>CI                587\n",
      "AFFECTS_PRafCI                  547\n",
      "LOCATION_OF_CIloPR              432\n",
      "compared_with_CIcpwPR           428\n",
      "PRECEDES_CIpc>PR                342\n",
      "COEXISTS_WITH_PRcwCI            247\n",
      "PREVENTS_PRpvCI                 208\n",
      "ISA_CIi>PR                      182\n",
      "ISA_PRi>CI                      161\n",
      "higher_than_PRhtCI              113\n",
      "NEG_TREATS_PRntCI               105\n",
      "NEG_METHOD_OF_CInmoPR            97\n",
      "CAUSES_PRcCI                     71\n",
      "NEG_DIAGNOSES_PRndgCI            57\n",
      "NEG_AFFECTS_PRnafCI              46\n",
      "same_as_CIsaPR                   45\n",
      "NEG_ADMINISTERED_TO_PRnatCI      38\n",
      "lower_than_PRltCI                35\n",
      "PREDISPOSES_PRpsCI               33\n",
      "NEG_USES_PRnuCI                  30\n",
      "PROCESS_OF_PRpro>CI              21\n",
      "STIMULATES_PRstCI                17\n",
      "NEG_COEXISTS_WITH_PRncwCI        12\n",
      "OCCURS_IN_PRoiCI                 10\n",
      "PROCESS_OF_CIpro>PR               9\n",
      "NEG_PRECEDES_PRnpcCI              8\n",
      "NEG_PREVENTS_PRnpvCI              8\n",
      "NEG_LOCATION_OF_CInloPR           6\n",
      "different_from_CIdfPR             5\n",
      "NEG_CAUSES_PRncCI                 5\n",
      "COMPLICATES_PRcpCI                4\n",
      "NEG_lower_than_PRnltCI            4\n",
      "NEG_higher_than_PRnhtCI           4\n",
      "AUGMENTS_PRagCI                   2\n",
      "PRODUCES_PRpd>CI                  2\n",
      "INHIBITS_PRinCI                   2\n",
      "PART_OF_PRpo>CI                   1\n",
      "MANIFESTATION_OF_PRmfo>CI         1\n",
      "NEG_PREDISPOSES_PRnpsCI           1\n",
      "NEG_STIMULATES_PRnstCI            1\n",
      "different_than_PRdtCI             1\n",
      "Name: TYPE, dtype: int64\n"
     ]
    }
   ],
   "source": [
    "combo_num = 52\n",
    "\n",
    "pair = combos[combo_num]\n",
    "\n",
    "print(pair[0], '---', pair[1], '\\n')\n",
    "print(combo_counts[combos[combo_num]])"
   ]
  },
  {
   "cell_type": "code",
   "execution_count": 86,
   "metadata": {
    "scrolled": false
   },
   "outputs": [
    {
     "name": "stdout",
     "output_type": "stream",
     "text": [
      "Devices --- Devices \n",
      "\n",
      "USES_DVuDV                 24813\n",
      "compared_with_DVcpwDV       5203\n",
      "ISA_DVi>DV                  1469\n",
      "higher_than_DVhtDV          1341\n",
      "lower_than_DVltDV            298\n",
      "same_as_DVsaDV               294\n",
      "NEG_USES_DVnuDV              293\n",
      "NEG_higher_than_DVnhtDV       62\n",
      "different_from_DVdfDV         43\n",
      "LOCATION_OF_DVloDV            22\n",
      "NEG_lower_than_DVnltDV        11\n",
      "different_than_DVdtDV          7\n",
      "TREATS_DVtDV                   4\n",
      "METHOD_OF_DVmoDV               1\n",
      "NEG_TREATS_DVntDV              1\n",
      "PRODUCES_DVpd>DV               1\n",
      "Name: TYPE, dtype: int64\n"
     ]
    }
   ],
   "source": [
    "combo_num = 53\n",
    "\n",
    "pair = combos[combo_num]\n",
    "\n",
    "print(pair[0], '---', pair[1], '\\n')\n",
    "print(combo_counts[combos[combo_num]])"
   ]
  },
  {
   "cell_type": "code",
   "execution_count": 87,
   "metadata": {
    "collapsed": true
   },
   "outputs": [],
   "source": [
    "to_merge = ['USES_DVuDV', 'ISA_DVi>DV']\n",
    "\n",
    "merge_edge_types(to_merge, 'USES_DVuDV')"
   ]
  },
  {
   "cell_type": "code",
   "execution_count": 88,
   "metadata": {
    "scrolled": true
   },
   "outputs": [
    {
     "name": "stdout",
     "output_type": "stream",
     "text": [
      "Devices --- Disorders \n",
      "\n",
      "TREATS_DVtDO                 58436\n",
      "CAUSES_DVcDO                 12696\n",
      "PREVENTS_DVpvDO               6607\n",
      "NEG_TREATS_DVntDO              922\n",
      "NEG_CAUSES_DVncDO              374\n",
      "USES_DOuDV                     306\n",
      "LOCATION_OF_DVloDO             268\n",
      "NEG_PREVENTS_DVnpvDO           230\n",
      "AFFECTS_DVafDO                 122\n",
      "DIAGNOSES_DVdgDO                86\n",
      "PREDISPOSES_DVpsDO              30\n",
      "COEXISTS_WITH_DVcwDO            19\n",
      "PART_OF_DOpo>DV                 19\n",
      "PART_OF_DVpo>DO                 17\n",
      "compared_with_DVcpwDO           15\n",
      "ASSOCIATED_WITH_DVawDO          12\n",
      "METHOD_OF_DVmoDO                 9\n",
      "NEG_AFFECTS_DVnafDO              8\n",
      "PROCESS_OF_DOpro>DV              7\n",
      "PROCESS_OF_DVpro>DO              7\n",
      "PRECEDES_DVpc>DO                 7\n",
      "AUGMENTS_DVagDO                  6\n",
      "NEG_LOCATION_OF_DVnloDO          5\n",
      "NEG_PREDISPOSES_DVnpsDO          3\n",
      "DISRUPTS_DVdsDO                  3\n",
      "NEG_USES_DOnuDV                  3\n",
      "PRODUCES_DOpd>DV                 2\n",
      "INHIBITS_DVinDO                  2\n",
      "ISA_DVi>DO                       2\n",
      "COMPLICATES_DVcpDO               2\n",
      "higher_than_DOhtDV               2\n",
      "NEG_PART_OF_DVnpoDO              1\n",
      "ADMINISTERED_TO_DVatDO           1\n",
      "MANIFESTATION_OF_DOmfo>DV        1\n",
      "NEG_DIAGNOSES_DVndgDO            1\n",
      "Name: TYPE, dtype: int64\n"
     ]
    }
   ],
   "source": [
    "combo_num = 54\n",
    "\n",
    "pair = combos[combo_num]\n",
    "\n",
    "print(pair[0], '---', pair[1], '\\n')\n",
    "print(combo_counts[combos[combo_num]])"
   ]
  },
  {
   "cell_type": "code",
   "execution_count": 89,
   "metadata": {
    "collapsed": true
   },
   "outputs": [],
   "source": [
    "to_merge = ['TREATS_DVtDO', 'PREVENTS_DVpvDO']\n",
    "merge_edge_types(to_merge, 'TREATS_DVtDO')\n",
    "\n",
    "\n",
    "# keep as is: 'CAUSES_DVcDO'\n"
   ]
  },
  {
   "cell_type": "code",
   "execution_count": 90,
   "metadata": {
    "scrolled": false
   },
   "outputs": [
    {
     "name": "stdout",
     "output_type": "stream",
     "text": [
      "Devices --- Genes & Molecular Sequences \n",
      "\n",
      "compared_with_GcpwDV         2185\n",
      "higher_than_GhtDV             541\n",
      "USES_GuDV                     468\n",
      "same_as_GsaDV                  73\n",
      "lower_than_DVltG               69\n",
      "PART_OF_Gpo>DV                 35\n",
      "LOCATION_OF_DVloG              33\n",
      "INTERACTS_WITH_DViwG           27\n",
      "NEG_higher_than_GnhtDV         13\n",
      "different_from_DVdfG           11\n",
      "INHIBITS_DVinG                 10\n",
      "COEXISTS_WITH_GcwDV             7\n",
      "STIMULATES_DVstG                6\n",
      "AFFECTS_GafDV                   6\n",
      "different_than_GdtDV            5\n",
      "PRODUCES_DVpd>G                 5\n",
      "PART_OF_DVpo>G                  5\n",
      "NEG_lower_than_GnltDV           4\n",
      "AUGMENTS_GagDV                  4\n",
      "ASSOCIATED_WITH_DVawG           2\n",
      "NEG_INTERACTS_WITH_GniwDV       1\n",
      "NEG_COEXISTS_WITH_GncwDV        1\n",
      "TREATS_DVtG                     1\n",
      "DISRUPTS_GdsDV                  1\n",
      "NEG_USES_DVnuG                  1\n",
      "PRECEDES_DVpc>G                 1\n",
      "Name: TYPE, dtype: int64\n"
     ]
    }
   ],
   "source": [
    "combo_num = 55\n",
    "\n",
    "pair = combos[combo_num]\n",
    "\n",
    "print(pair[0], '---', pair[1], '\\n')\n",
    "print(combo_counts[combos[combo_num]])"
   ]
  },
  {
   "cell_type": "code",
   "execution_count": 91,
   "metadata": {
    "scrolled": false
   },
   "outputs": [
    {
     "name": "stdout",
     "output_type": "stream",
     "text": [
      "Devices --- Geographic Areas \n",
      "\n",
      "LOCATION_OF_GAloDV    1\n",
      "Name: TYPE, dtype: int64\n"
     ]
    }
   ],
   "source": [
    "combo_num = 56\n",
    "\n",
    "pair = combos[combo_num]\n",
    "\n",
    "print(pair[0], '---', pair[1], '\\n')\n",
    "print(combo_counts[combos[combo_num]])"
   ]
  },
  {
   "cell_type": "code",
   "execution_count": 92,
   "metadata": {
    "scrolled": true
   },
   "outputs": [
    {
     "name": "stdout",
     "output_type": "stream",
     "text": [
      "Devices --- Living Beings \n",
      "\n",
      "TREATS_DVtLB                   20326\n",
      "USES_LBuDV                     15396\n",
      "PRODUCES_LBpd>DV                 740\n",
      "DIAGNOSES_DVdgLB                 666\n",
      "NEG_USES_LBnuDV                  584\n",
      "NEG_TREATS_DVntLB                469\n",
      "ADMINISTERED_TO_DVatLB           316\n",
      "PART_OF_DVpo>LB                   54\n",
      "AFFECTS_DVafLB                    25\n",
      "PROCESS_OF_DVpro>LB               24\n",
      "LOCATION_OF_DVloLB                14\n",
      "NEG_ADMINISTERED_TO_DVnatLB       12\n",
      "NEG_DIAGNOSES_DVndgLB             11\n",
      "NEG_PRODUCES_LBnpdDV               8\n",
      "compared_with_DVcpwLB              2\n",
      "lower_than_DVltLB                  1\n",
      "higher_than_LBhtDV                 1\n",
      "INTERACTS_WITH_DViwLB              1\n",
      "CAUSES_DVcLB                       1\n",
      "NEG_INTERACTS_WITH_LBniwDV         1\n",
      "PREVENTS_DVpvLB                    1\n",
      "Name: TYPE, dtype: int64\n"
     ]
    }
   ],
   "source": [
    "combo_num = 57\n",
    "\n",
    "pair = combos[combo_num]\n",
    "\n",
    "print(pair[0], '---', pair[1], '\\n')\n",
    "print(combo_counts[combos[combo_num]])"
   ]
  },
  {
   "cell_type": "markdown",
   "metadata": {},
   "source": [
    "These are fine as-is, nothuing to combine"
   ]
  },
  {
   "cell_type": "code",
   "execution_count": 93,
   "metadata": {
    "scrolled": true
   },
   "outputs": [
    {
     "name": "stdout",
     "output_type": "stream",
     "text": [
      "Devices --- Objects \n",
      "\n",
      "USES_DVuOB                 14775\n",
      "compared_with_DVcpwOB        537\n",
      "NEG_USES_DVnuOB              232\n",
      "higher_than_OBhtDV           114\n",
      "ISA_DVi>OB                   102\n",
      "ISA_OBi>DV                    49\n",
      "lower_than_DVltOB             23\n",
      "LOCATION_OF_OBloDV            16\n",
      "same_as_OBsaDV                14\n",
      "NEG_higher_than_DVnhtOB        4\n",
      "TREATS_OBtDV                   2\n",
      "different_from_DVdfOB          2\n",
      "NEG_LOCATION_OF_OBnloDV        1\n",
      "Name: TYPE, dtype: int64\n"
     ]
    }
   ],
   "source": [
    "combo_num = 58\n",
    "\n",
    "pair = combos[combo_num]\n",
    "\n",
    "print(pair[0], '---', pair[1], '\\n')\n",
    "print(combo_counts[combos[combo_num]])"
   ]
  },
  {
   "cell_type": "code",
   "execution_count": 94,
   "metadata": {
    "scrolled": true
   },
   "outputs": [
    {
     "name": "stdout",
     "output_type": "stream",
     "text": [
      "Devices --- Occupations \n",
      "\n",
      "USES_OCuDV              46\n",
      "METHOD_OF_DVmoOC         8\n",
      "TREATS_DVtOC             7\n",
      "COEXISTS_WITH_DVcwOC     2\n",
      "Name: TYPE, dtype: int64\n"
     ]
    }
   ],
   "source": [
    "combo_num = 59\n",
    "\n",
    "pair = combos[combo_num]\n",
    "\n",
    "print(pair[0], '---', pair[1], '\\n')\n",
    "print(combo_counts[combos[combo_num]])"
   ]
  },
  {
   "cell_type": "code",
   "execution_count": 95,
   "metadata": {
    "scrolled": true
   },
   "outputs": [
    {
     "name": "stdout",
     "output_type": "stream",
     "text": [
      "Devices --- Organizations \n",
      "\n",
      "USES_DVuOR            1608\n",
      "NEG_USES_DVnuOR         12\n",
      "LOCATION_OF_ORloDV      10\n",
      "ISA_DVi>OR               2\n",
      "TREATS_DVtOR             1\n",
      "Name: TYPE, dtype: int64\n"
     ]
    }
   ],
   "source": [
    "combo_num = 60\n",
    "\n",
    "pair = combos[combo_num]\n",
    "\n",
    "print(pair[0], '---', pair[1], '\\n')\n",
    "print(combo_counts[combos[combo_num]])"
   ]
  },
  {
   "cell_type": "code",
   "execution_count": 96,
   "metadata": {
    "scrolled": true
   },
   "outputs": [
    {
     "name": "stdout",
     "output_type": "stream",
     "text": [
      "Devices --- Phenomena \n",
      "\n",
      "USES_PHuDV                 123\n",
      "TREATS_DVtPH               104\n",
      "PROCESS_OF_DVpro>PH         14\n",
      "AFFECTS_DVafPH              11\n",
      "PROCESS_OF_PHpro>DV          8\n",
      "LOCATION_OF_DVloPH           7\n",
      "PREVENTS_DVpvPH              3\n",
      "AUGMENTS_DVagPH              2\n",
      "NEG_TREATS_DVntPH            2\n",
      "NEG_USES_PHnuDV              2\n",
      "compared_with_DVcpwPH        1\n",
      "CAUSES_DVcPH                 1\n",
      "higher_than_DVhtPH           1\n",
      "NEG_LOCATION_OF_DVnloPH      1\n",
      "Name: TYPE, dtype: int64\n"
     ]
    }
   ],
   "source": [
    "combo_num = 61\n",
    "\n",
    "pair = combos[combo_num]\n",
    "\n",
    "print(pair[0], '---', pair[1], '\\n')\n",
    "print(combo_counts[combos[combo_num]])"
   ]
  },
  {
   "cell_type": "code",
   "execution_count": 97,
   "metadata": {
    "scrolled": false
   },
   "outputs": [
    {
     "name": "stdout",
     "output_type": "stream",
     "text": [
      "Devices --- Physiology \n",
      "\n",
      "TREATS_DVtPS              337\n",
      "USES_PSuDV                218\n",
      "CAUSES_DVcPS               87\n",
      "AFFECTS_DVafPS             67\n",
      "PREVENTS_DVpvPS            23\n",
      "NEG_AFFECTS_DVnafPS        12\n",
      "PROCESS_OF_PSpro>DV        11\n",
      "NEG_TREATS_DVntPS          10\n",
      "STIMULATES_DVstPS           9\n",
      "NEG_USES_PSnuDV             6\n",
      "LOCATION_OF_PSloDV          6\n",
      "PRODUCES_PSpd>DV            4\n",
      "PROCESS_OF_DVpro>PS         3\n",
      "DISRUPTS_DVdsPS             3\n",
      "AUGMENTS_DVagPS             3\n",
      "PRECEDES_DVpc>PS            3\n",
      "ASSOCIATED_WITH_PSawDV      2\n",
      "compared_with_DVcpwPS       2\n",
      "NEG_STIMULATES_DVnstPS      1\n",
      "NEG_CAUSES_DVncPS           1\n",
      "DIAGNOSES_DVdgPS            1\n",
      "ADMINISTERED_TO_DVatPS      1\n",
      "COEXISTS_WITH_PScwDV        1\n",
      "NEG_DISRUPTS_DVndsPS        1\n",
      "INHIBITS_DVinPS             1\n",
      "Name: TYPE, dtype: int64\n"
     ]
    }
   ],
   "source": [
    "combo_num = 62\n",
    "\n",
    "pair = combos[combo_num]\n",
    "\n",
    "print(pair[0], '---', pair[1], '\\n')\n",
    "print(combo_counts[combos[combo_num]])"
   ]
  },
  {
   "cell_type": "code",
   "execution_count": 98,
   "metadata": {
    "scrolled": false
   },
   "outputs": [
    {
     "name": "stdout",
     "output_type": "stream",
     "text": [
      "Devices --- Procedures \n",
      "\n",
      "USES_PRuDV                   75829\n",
      "compared_with_PRcpwDV         6224\n",
      "NEG_USES_PRnuDV               1187\n",
      "higher_than_PRhtDV            1146\n",
      "METHOD_OF_PRmoDV               625\n",
      "ISA_DVi>PR                     531\n",
      "COEXISTS_WITH_DVcwPR           354\n",
      "same_as_DVsaPR                 240\n",
      "lower_than_DVltPR              200\n",
      "TREATS_DVtPR                   128\n",
      "PRECEDES_PRpc>DV               114\n",
      "PRECEDES_DVpc>PR               100\n",
      "NEG_higher_than_DVnhtPR         72\n",
      "ISA_PRi>DV                      46\n",
      "LOCATION_OF_DVloPR              44\n",
      "NEG_METHOD_OF_DVnmoPR           20\n",
      "different_from_DVdfPR           20\n",
      "AFFECTS_PRafDV                  10\n",
      "NEG_lower_than_DVnltPR           7\n",
      "different_than_DVdtPR            6\n",
      "NEG_COEXISTS_WITH_DVncwPR        4\n",
      "DIAGNOSES_PRdgDV                 3\n",
      "CAUSES_DVcPR                     2\n",
      "PROCESS_OF_DVpro>PR              2\n",
      "NEG_TREATS_DVntPR                1\n",
      "NEG_PRECEDES_DVnpcPR             1\n",
      "PREVENTS_DVpvPR                  1\n",
      "Name: TYPE, dtype: int64\n"
     ]
    }
   ],
   "source": [
    "combo_num = 63\n",
    "\n",
    "pair = combos[combo_num]\n",
    "\n",
    "print(pair[0], '---', pair[1], '\\n')\n",
    "print(combo_counts[combos[combo_num]])"
   ]
  },
  {
   "cell_type": "code",
   "execution_count": 99,
   "metadata": {
    "collapsed": true
   },
   "outputs": [],
   "source": [
    "to_merge = ['USES_PRuDV', 'METHOD_OF_PRmoDV']\n",
    "merge_edge_types(to_merge, 'USES_PRuDV')"
   ]
  },
  {
   "cell_type": "code",
   "execution_count": 100,
   "metadata": {
    "scrolled": false
   },
   "outputs": [
    {
     "name": "stdout",
     "output_type": "stream",
     "text": [
      "Disorders --- Disorders \n",
      "\n",
      "COEXISTS_WITH_DOcwDO             619157\n",
      "CAUSES_DOcDO                     206444\n",
      "ISA_DOi>DO                        95431\n",
      "AFFECTS_DOafDO                    95344\n",
      "PREDISPOSES_DOpsDO                69291\n",
      "ASSOCIATED_WITH_DOawDO            33876\n",
      "COMPLICATES_DOcpDO                30032\n",
      "MANIFESTATION_OF_DOmfo>DO         29595\n",
      "PRECEDES_DOpc>DO                  19734\n",
      "NEG_COEXISTS_WITH_DOncwDO         16998\n",
      "OCCURS_IN_DOoiDO                  16651\n",
      "LOCATION_OF_DOloDO                14641\n",
      "AUGMENTS_DOagDO                    8309\n",
      "PROCESS_OF_DOpro>DO                7345\n",
      "TREATS_DOtDO                       6050\n",
      "PART_OF_DOpo>DO                    4840\n",
      "NEG_AFFECTS_DOnafDO                4443\n",
      "NEG_CAUSES_DOncDO                  4398\n",
      "DIAGNOSES_DOdgDO                   3996\n",
      "NEG_PREDISPOSES_DOnpsDO            3117\n",
      "NEG_ASSOCIATED_WITH_DOnawDO        1171\n",
      "PREVENTS_DOpvDO                     899\n",
      "NEG_MANIFESTATION_OF_DOnmfoDO       359\n",
      "NEG_OCCURS_IN_DOnoiDO               280\n",
      "NEG_AUGMENTS_DOnagDO                275\n",
      "NEG_TREATS_DOntDO                   233\n",
      "NEG_COMPLICATES_DOncpDO             232\n",
      "NEG_PROCESS_OF_DOnproDO             188\n",
      "NEG_LOCATION_OF_DOnloDO             182\n",
      "NEG_PRECEDES_DOnpcDO                165\n",
      "NEG_DIAGNOSES_DOndgDO               104\n",
      "NEG_PART_OF_DOnpoDO                  63\n",
      "DISRUPTS_DOdsDO                      51\n",
      "INTERACTS_WITH_DOiwDO                33\n",
      "NEG_PREVENTS_DOnpvDO                 26\n",
      "PRODUCES_DOpd>DO                     24\n",
      "compared_with_DOcpwDO                13\n",
      "METHOD_OF_DOmoDO                      8\n",
      "higher_than_DOhtDO                    6\n",
      "USES_DOuDO                            5\n",
      "NEG_INTERACTS_WITH_DOniwDO            5\n",
      "ADMINISTERED_TO_DOatDO                5\n",
      "NEG_DISRUPTS_DOndsDO                  2\n",
      "STIMULATES_DOstDO                     1\n",
      "NEG_USES_DOnuDO                       1\n",
      "INHIBITS_DOinDO                       1\n",
      "NEG_METHOD_OF_DOnmoDO                 1\n",
      "NEG_ADMINISTERED_TO_DOnatDO           1\n",
      "Name: TYPE, dtype: int64\n"
     ]
    }
   ],
   "source": [
    "combo_num = 64\n",
    "\n",
    "pair = combos[combo_num]\n",
    "\n",
    "print(pair[0], '---', pair[1], '\\n')\n",
    "print(combo_counts[combos[combo_num]])"
   ]
  },
  {
   "cell_type": "code",
   "execution_count": 101,
   "metadata": {
    "collapsed": true
   },
   "outputs": [],
   "source": [
    "to_merge = ['COEXISTS_WITH_DOcwDO', 'ASSOCIATED_WITH_DOawDO', 'AFFECTS_DOafDO', 'OCCURS_IN_DOoiDO', 'LOCATION_OF_DOloDO']\n",
    "merge_edge_types(to_merge, 'ASSOCIATED_WITH_DOawDO')\n",
    "    \n",
    "# This should be directed, one disease leading to or somehow making worse another\n",
    "to_merge = ['CAUSES_DOcDO', 'PREDISPOSES_DOpsDO','COMPLICATES_DOcpDO', 'PRECEDES_DOpc>DO', 'AUGMENTS_DOagDO']\n",
    "merge_edge_types(to_merge, 'AUGMENTS_DOag>DO')\n",
    " \n",
    "to_merge = ['ISA_DOi>DO', 'MANIFESTATION_OF_DOmfo>DO']\n",
    "merge_edge_types(to_merge, 'ISA_DOi>DO')\n",
    " \n",
    "to_drop = ['NEG_COEXISTS_WITH_DOncwDO']\n",
    "drop_edges_from_list(to_drop)"
   ]
  },
  {
   "cell_type": "code",
   "execution_count": 102,
   "metadata": {
    "scrolled": false
   },
   "outputs": [
    {
     "name": "stdout",
     "output_type": "stream",
     "text": [
      "Disorders --- Genes & Molecular Sequences \n",
      "\n",
      "ASSOCIATED_WITH_GawDO           258028\n",
      "TREATS_GtDO                      86382\n",
      "CAUSES_GcDO                      81729\n",
      "AFFECTS_GafDO                    65326\n",
      "PREDISPOSES_GpsDO                47897\n",
      "PART_OF_Gpo>DO                   43870\n",
      "AUGMENTS_GagDO                   37256\n",
      "DISRUPTS_GdsDO                   30451\n",
      "PRODUCES_DOpd>G                  20970\n",
      "PREVENTS_GpvDO                   13952\n",
      "NEG_ASSOCIATED_WITH_GnawDO        7265\n",
      "NEG_AFFECTS_GnafDO                4215\n",
      "LOCATION_OF_GloDO                 2923\n",
      "NEG_CAUSES_GncDO                  2653\n",
      "NEG_PREDISPOSES_GnpsDO            1597\n",
      "NEG_TREATS_GntDO                  1557\n",
      "NEG_PRODUCES_DOnpdG                951\n",
      "NEG_AUGMENTS_GnagDO                882\n",
      "COMPLICATES_GcpDO                  814\n",
      "NEG_PART_OF_GnpoDO                 683\n",
      "NEG_DISRUPTS_GndsDO                682\n",
      "NEG_PREVENTS_GnpvDO                437\n",
      "INHIBITS_GinDO                     399\n",
      "USES_DOuG                          132\n",
      "COEXISTS_WITH_DOcwG                119\n",
      "PROCESS_OF_DOpro>G                  60\n",
      "DIAGNOSES_GdgDO                     52\n",
      "INTERACTS_WITH_GiwDO                43\n",
      "NEG_LOCATION_OF_GnloDO              41\n",
      "PRODUCES_Gpd>DO                     37\n",
      "NEG_COMPLICATES_GncpDO              32\n",
      "compared_with_DOcpwG                29\n",
      "PRECEDES_Gpc>DO                     26\n",
      "STIMULATES_DOstG                    24\n",
      "NEG_INHIBITS_GninDO                 24\n",
      "METHOD_OF_GmoDO                     21\n",
      "ISA_Gi>DO                           19\n",
      "MANIFESTATION_OF_DOmfo>G             7\n",
      "PART_OF_DOpo>G                       6\n",
      "higher_than_GhtDO                    6\n",
      "ADMINISTERED_TO_GatDO                6\n",
      "NEG_USES_DOnuG                       6\n",
      "CONVERTS_TO_Gct>DO                   4\n",
      "OCCURS_IN_DOoiG                      3\n",
      "NEG_COEXISTS_WITH_DOncwG             2\n",
      "PRECEDES_DOpc>G                      2\n",
      "NEG_DIAGNOSES_GndgDO                 1\n",
      "NEG_MANIFESTATION_OF_GnmfoDO         1\n",
      "NEG_INTERACTS_WITH_GniwDO            1\n",
      "lower_than_DOltG                     1\n",
      "ISA_DOi>G                            1\n",
      "NEG_STIMULATES_GnstDO                1\n",
      "Name: TYPE, dtype: int64\n"
     ]
    }
   ],
   "source": [
    "combo_num = 65\n",
    "\n",
    "pair = combos[combo_num]\n",
    "\n",
    "print(pair[0], '---', pair[1], '\\n')\n",
    "print(combo_counts[combos[combo_num]])"
   ]
  },
  {
   "cell_type": "code",
   "execution_count": 103,
   "metadata": {
    "collapsed": true
   },
   "outputs": [],
   "source": [
    "# negative association wtih disorder\n",
    "to_merge = ['TREATS_GtDO', 'PREVENTS_GpvDO','DISRUPTS_GdsDO', 'INHIBITS_GinDO']\n",
    "merge_edge_types(to_merge, 'INHIBITS_GinDO')\n",
    "\n",
    "# positive association with disorder\n",
    "to_merge = ['CAUSES_GcDO', 'PREDISPOSES_GpsDO', 'AUGMENTS_GagDO','COMPLICATES_GcpDO']\n",
    "merge_edge_types(to_merge, 'AUGMENTS_GagDO')\n",
    "\n",
    "# General association with disorder\n",
    "to_merge = ['ASSOCIATED_WITH_GawDO', 'AFFECTS_GafDO','PART_OF_Gpo>DO']\n",
    "merge_edge_types(to_merge, 'ASSOCIATED_WITH_GawDO')\n",
    "change_edge_type('PRODUCES_DOpd>G', 'ASSOCIATED_WITH_GawDO', swap=True)"
   ]
  },
  {
   "cell_type": "code",
   "execution_count": 104,
   "metadata": {
    "scrolled": false
   },
   "outputs": [
    {
     "name": "stdout",
     "output_type": "stream",
     "text": [
      "Disorders --- Geographic Areas \n",
      "\n",
      "COEXISTS_WITH_GAcwDO     3\n",
      "LOCATION_OF_GAloDO       2\n",
      "NEG_OCCURS_IN_DOnoiGA    1\n",
      "AFFECTS_GAafDO           1\n",
      "TREATS_GAtDO             1\n",
      "DIAGNOSES_GAdgDO         1\n",
      "Name: TYPE, dtype: int64\n"
     ]
    }
   ],
   "source": [
    "combo_num = 66\n",
    "\n",
    "pair = combos[combo_num]\n",
    "\n",
    "print(pair[0], '---', pair[1], '\\n')\n",
    "print(combo_counts[combos[combo_num]])"
   ]
  },
  {
   "cell_type": "code",
   "execution_count": 105,
   "metadata": {
    "scrolled": false
   },
   "outputs": [
    {
     "name": "stdout",
     "output_type": "stream",
     "text": [
      "Disorders --- Living Beings \n",
      "\n",
      "PROCESS_OF_DOpro>LB            577499\n",
      "AFFECTS_DOafLB                  56015\n",
      "CAUSES_LBcDO                    51965\n",
      "OCCURS_IN_DOoiLB                45228\n",
      "PART_OF_DOpo>LB                 25065\n",
      "NEG_PROCESS_OF_DOnproLB         22448\n",
      "DIAGNOSES_LBdgDO                17415\n",
      "LOCATION_OF_LBloDO              13185\n",
      "COEXISTS_WITH_LBcwDO             7015\n",
      "INTERACTS_WITH_LBiwDO            4461\n",
      "NEG_AFFECTS_DOnafLB              2646\n",
      "NEG_OCCURS_IN_DOnoiLB            1595\n",
      "TREATS_DOtLB                     1161\n",
      "ASSOCIATED_WITH_LBawDO            956\n",
      "NEG_CAUSES_LBncDO                 900\n",
      "ADMINISTERED_TO_DOatLB            536\n",
      "NEG_DIAGNOSES_LBndgDO             464\n",
      "NEG_PART_OF_DOnpoLB               453\n",
      "NEG_LOCATION_OF_LBnloDO           299\n",
      "NEG_INTERACTS_WITH_LBniwDO        234\n",
      "NEG_COEXISTS_WITH_LBncwDO         201\n",
      "PREDISPOSES_LBpsDO                166\n",
      "PART_OF_LBpo>DO                    69\n",
      "NEG_TREATS_DOntLB                  55\n",
      "PROCESS_OF_LBpro>DO                41\n",
      "NEG_ADMINISTERED_TO_DOnatLB        37\n",
      "AUGMENTS_LBagDO                    35\n",
      "ISA_DOi>LB                         32\n",
      "USES_LBuDO                         26\n",
      "PREVENTS_LBpvDO                    22\n",
      "DISRUPTS_DOdsLB                    18\n",
      "NEG_ASSOCIATED_WITH_DOnawLB        17\n",
      "PRODUCES_DOpd>LB                   14\n",
      "ISA_LBi>DO                         13\n",
      "PRECEDES_DOpc>LB                    5\n",
      "MANIFESTATION_OF_DOmfo>LB           5\n",
      "NEG_PREDISPOSES_LBnpsDO             4\n",
      "INHIBITS_LBinDO                     4\n",
      "MANIFESTATION_OF_LBmfo>DO           3\n",
      "METHOD_OF_DOmoLB                    2\n",
      "NEG_AUGMENTS_LBnagDO                2\n",
      "NEG_PREVENTS_LBnpvDO                1\n",
      "NEG_USES_LBnuDO                     1\n",
      "PRECEDES_LBpc>DO                    1\n",
      "PRODUCES_LBpd>DO                    1\n",
      "COMPLICATES_DOcpLB                  1\n",
      "Name: TYPE, dtype: int64\n"
     ]
    }
   ],
   "source": [
    "combo_num = 67\n",
    "\n",
    "pair = combos[combo_num]\n",
    "\n",
    "print(pair[0], '---', pair[1], '\\n')\n",
    "print(combo_counts[combos[combo_num]])"
   ]
  },
  {
   "cell_type": "code",
   "execution_count": 106,
   "metadata": {
    "collapsed": true
   },
   "outputs": [],
   "source": [
    "# Either a living being had a disease\n",
    "# Or causes a disease\n",
    "to_merge = ['CAUSES_LBcDO', 'ASSOCIATED_WITH_LBawDO']\n",
    "merge_edge_types(to_merge, 'CAUSES_LBcDO')\n",
    "    \n",
    "to_merge = ['AFFECTS_DOafLB',  'OCCURS_IN_DOoiLB', 'PART_OF_DOpo>LB', 'PROCESS_OF_DOpro>LB']\n",
    "merge_edge_types(to_merge, 'AFFECTS_DOafLB')\n",
    "to_merge = ['LOCATION_OF_LBloDO','COEXISTS_WITH_LBcwDO']\n",
    "merge_edge_types(to_merge, 'AFFECTS_DOafLB', swap=True)\n",
    "\n",
    "# Diagonoses likely unhelpful\n",
    "to_drop = ['NEG_PROCESS_OF_DOnproLB', 'DIAGNOSES_LBdgDO']\n",
    "drop_edges_from_list(to_drop)"
   ]
  },
  {
   "cell_type": "code",
   "execution_count": 107,
   "metadata": {
    "scrolled": false
   },
   "outputs": [
    {
     "name": "stdout",
     "output_type": "stream",
     "text": [
      "Disorders --- Objects \n",
      "\n",
      "CAUSES_OBcDO                   10596\n",
      "AFFECTS_OBafDO                  4207\n",
      "TREATS_OBtDO                    3771\n",
      "PREDISPOSES_OBpsDO              3310\n",
      "ASSOCIATED_WITH_OBawDO           997\n",
      "PREVENTS_OBpvDO                  569\n",
      "NEG_CAUSES_OBncDO                377\n",
      "NEG_AFFECTS_OBnafDO              298\n",
      "AUGMENTS_OBagDO                  209\n",
      "DISRUPTS_OBdsDO                  209\n",
      "NEG_PREDISPOSES_OBnpsDO          159\n",
      "USES_DOuOB                       111\n",
      "NEG_TREATS_OBntDO                 80\n",
      "LOCATION_OF_OBloDO                54\n",
      "NEG_ASSOCIATED_WITH_OBnawDO       33\n",
      "INHIBITS_OBinDO                   28\n",
      "NEG_PREVENTS_OBnpvDO              26\n",
      "DIAGNOSES_OBdgDO                  14\n",
      "PROCESS_OF_DOpro>OB               11\n",
      "PRODUCES_DOpd>OB                   9\n",
      "PART_OF_OBpo>DO                    7\n",
      "PART_OF_DOpo>OB                    6\n",
      "COEXISTS_WITH_DOcwOB               6\n",
      "NEG_AUGMENTS_OBnagDO               5\n",
      "COMPLICATES_OBcpDO                 4\n",
      "NEG_DISRUPTS_OBndsDO               3\n",
      "NEG_DIAGNOSES_OBndgDO              1\n",
      "NEG_PART_OF_OBnpoDO                1\n",
      "ADMINISTERED_TO_OBatDO             1\n",
      "compared_with_OBcpwDO              1\n",
      "ISA_OBi>DO                         1\n",
      "NEG_ADMINISTERED_TO_OBnatDO        1\n",
      "NEG_INHIBITS_OBninDO               1\n",
      "ISA_DOi>OB                         1\n",
      "METHOD_OF_DOmoOB                   1\n",
      "Name: TYPE, dtype: int64\n"
     ]
    }
   ],
   "source": [
    "combo_num = 68\n",
    "\n",
    "pair = combos[combo_num]\n",
    "\n",
    "print(pair[0], '---', pair[1], '\\n')\n",
    "print(combo_counts[combos[combo_num]])"
   ]
  },
  {
   "cell_type": "code",
   "execution_count": 108,
   "metadata": {
    "scrolled": false
   },
   "outputs": [
    {
     "name": "stdout",
     "output_type": "stream",
     "text": [
      "Disorders --- Occupations \n",
      "\n",
      "TREATS_OCtDO                 557\n",
      "PROCESS_OF_DOpro>OC          140\n",
      "COEXISTS_WITH_OCcwDO         137\n",
      "AFFECTS_DOafOC               125\n",
      "ASSOCIATED_WITH_DOawOC        99\n",
      "CAUSES_OCcDO                  52\n",
      "PREVENTS_OCpvDO               50\n",
      "METHOD_OF_DOmoOC              36\n",
      "MANIFESTATION_OF_OCmfo>DO     19\n",
      "DIAGNOSES_OCdgDO              18\n",
      "PREDISPOSES_OCpsDO            12\n",
      "MANIFESTATION_OF_DOmfo>OC     12\n",
      "NEG_TREATS_OCntDO             12\n",
      "OCCURS_IN_DOoiOC              11\n",
      "PRECEDES_OCpc>DO               5\n",
      "PROCESS_OF_OCpro>DO            5\n",
      "PRECEDES_DOpc>OC               4\n",
      "PART_OF_DOpo>OC                3\n",
      "INTERACTS_WITH_DOiwOC          3\n",
      "NEG_PREDISPOSES_OCnpsDO        2\n",
      "NEG_PREVENTS_OCnpvDO           2\n",
      "NEG_PROCESS_OF_DOnproOC        1\n",
      "ADMINISTERED_TO_OCatDO         1\n",
      "NEG_DIAGNOSES_OCndgDO          1\n",
      "NEG_METHOD_OF_DOnmoOC          1\n",
      "Name: TYPE, dtype: int64\n"
     ]
    }
   ],
   "source": [
    "combo_num = 69\n",
    "\n",
    "pair = combos[combo_num]\n",
    "\n",
    "print(pair[0], '---', pair[1], '\\n')\n",
    "print(combo_counts[combos[combo_num]])"
   ]
  },
  {
   "cell_type": "code",
   "execution_count": 109,
   "metadata": {
    "scrolled": false
   },
   "outputs": [
    {
     "name": "stdout",
     "output_type": "stream",
     "text": [
      "Disorders --- Organizations \n",
      "\n",
      "LOCATION_OF_ORloDO         161\n",
      "TREATS_ORtDO                32\n",
      "PROCESS_OF_DOpro>OR         14\n",
      "AFFECTS_ORafDO               6\n",
      "DIAGNOSES_ORdgDO             5\n",
      "PREVENTS_ORpvDO              5\n",
      "NEG_LOCATION_OF_ORnloDO      2\n",
      "COEXISTS_WITH_DOcwOR         2\n",
      "CAUSES_ORcDO                 2\n",
      "NEG_TREATS_ORntDO            2\n",
      "COMPLICATES_ORcpDO           1\n",
      "PART_OF_DOpo>OR              1\n",
      "NEG_AFFECTS_ORnafDO          1\n",
      "PART_OF_ORpo>DO              1\n",
      "PRODUCES_DOpd>OR             1\n",
      "Name: TYPE, dtype: int64\n"
     ]
    }
   ],
   "source": [
    "combo_num = 70\n",
    "\n",
    "pair = combos[combo_num]\n",
    "\n",
    "print(pair[0], '---', pair[1], '\\n')\n",
    "print(combo_counts[combos[combo_num]])"
   ]
  },
  {
   "cell_type": "code",
   "execution_count": 110,
   "metadata": {
    "scrolled": false
   },
   "outputs": [
    {
     "name": "stdout",
     "output_type": "stream",
     "text": [
      "Disorders --- Phenomena \n",
      "\n",
      "AFFECTS_PHafDO                   14351\n",
      "PROCESS_OF_DOpro>PH              11452\n",
      "CAUSES_PHcDO                      5865\n",
      "PROCESS_OF_PHpro>DO               3132\n",
      "COEXISTS_WITH_PHcwDO              2661\n",
      "PREDISPOSES_PHpsDO                1607\n",
      "ASSOCIATED_WITH_PHawDO            1311\n",
      "NEG_AFFECTS_PHnafDO                905\n",
      "ISA_DOi>PH                         381\n",
      "NEG_PROCESS_OF_DOnproPH            338\n",
      "DIAGNOSES_PHdgDO                   321\n",
      "MANIFESTATION_OF_PHmfo>DO          228\n",
      "MANIFESTATION_OF_DOmfo>PH          180\n",
      "TREATS_PHtDO                       157\n",
      "NEG_CAUSES_PHncDO                  156\n",
      "NEG_COEXISTS_WITH_DOncwPH          117\n",
      "LOCATION_OF_PHloDO                  99\n",
      "NEG_PREDISPOSES_PHnpsDO             76\n",
      "ISA_PHi>DO                          73\n",
      "DISRUPTS_DOdsPH                     56\n",
      "NEG_ASSOCIATED_WITH_PHnawDO         30\n",
      "AUGMENTS_PHagDO                     25\n",
      "PREVENTS_PHpvDO                     24\n",
      "PRECEDES_DOpc>PH                    18\n",
      "COMPLICATES_DOcpPH                  17\n",
      "INHIBITS_PHinDO                     11\n",
      "NEG_DIAGNOSES_PHndgDO               10\n",
      "OCCURS_IN_PHoiDO                     9\n",
      "NEG_MANIFESTATION_OF_PHnmfoDO        4\n",
      "NEG_LOCATION_OF_DOnloPH              4\n",
      "INTERACTS_WITH_DOiwPH                3\n",
      "USES_DOuPH                           2\n",
      "PART_OF_PHpo>DO                      2\n",
      "NEG_DISRUPTS_DOndsPH                 1\n",
      "PRECEDES_PHpc>DO                     1\n",
      "NEG_TREATS_PHntDO                    1\n",
      "PART_OF_DOpo>PH                      1\n",
      "METHOD_OF_DOmoPH                     1\n",
      "NEG_PREVENTS_PHnpvDO                 1\n",
      "PRODUCES_PHpd>DO                     1\n",
      "Name: TYPE, dtype: int64\n"
     ]
    }
   ],
   "source": [
    "combo_num = 71\n",
    "\n",
    "pair = combos[combo_num]\n",
    "\n",
    "print(pair[0], '---', pair[1], '\\n')\n",
    "print(combo_counts[combos[combo_num]])"
   ]
  },
  {
   "cell_type": "code",
   "execution_count": 111,
   "metadata": {
    "collapsed": true
   },
   "outputs": [],
   "source": [
    "to_merge = ['AFFECTS_PHafDO','CAUSES_PHcDO','PROCESS_OF_PHpro>DO','COEXISTS_WITH_PHcwDO','ASSOCIATED_WITH_PHawDO','PREDISPOSES_PHpsDO']\n",
    "merge_edge_types(to_merge, 'AFFECTS_PHafDO')\n",
    "\n",
    "change_edge_type('PROCESS_OF_DOpro>PH', 'AFFECTS_PHafDO', swap=True)"
   ]
  },
  {
   "cell_type": "code",
   "execution_count": 112,
   "metadata": {
    "scrolled": false
   },
   "outputs": [
    {
     "name": "stdout",
     "output_type": "stream",
     "text": [
      "Disorders --- Physiology \n",
      "\n",
      "AFFECTS_PSafDO                   86493\n",
      "ASSOCIATED_WITH_PSawDO           51541\n",
      "PROCESS_OF_DOpro>PS              32973\n",
      "CAUSES_DOcPS                     19530\n",
      "COEXISTS_WITH_PScwDO             12941\n",
      "MANIFESTATION_OF_DOmfo>PS         8648\n",
      "NEG_AFFECTS_PSnafDO               5790\n",
      "PREDISPOSES_PSpsDO                4882\n",
      "PROCESS_OF_PSpro>DO               2942\n",
      "NEG_ASSOCIATED_WITH_PSnawDO       2472\n",
      "PRECEDES_DOpc>PS                  1780\n",
      "DISRUPTS_DOdsPS                   1777\n",
      "TREATS_PStDO                      1600\n",
      "NEG_PROCESS_OF_DOnproPS           1275\n",
      "INTERACTS_WITH_DOiwPS              931\n",
      "DIAGNOSES_PSdgDO                   913\n",
      "NEG_CAUSES_DOncPS                  777\n",
      "OCCURS_IN_DOoiPS                   471\n",
      "NEG_COEXISTS_WITH_DOncwPS          426\n",
      "ISA_DOi>PS                         250\n",
      "NEG_PREDISPOSES_PSnpsDO            239\n",
      "PREVENTS_PSpvDO                    188\n",
      "NEG_MANIFESTATION_OF_DOnmfoPS      173\n",
      "LOCATION_OF_PSloDO                 159\n",
      "NEG_INTERACTS_WITH_PSniwDO         158\n",
      "PRECEDES_PSpc>DO                   153\n",
      "MANIFESTATION_OF_PSmfo>DO          143\n",
      "COMPLICATES_PScpDO                 112\n",
      "ISA_PSi>DO                         107\n",
      "PART_OF_DOpo>PS                     83\n",
      "NEG_DISRUPTS_DOndsPS                58\n",
      "AUGMENTS_PSagDO                     46\n",
      "STIMULATES_DOstPS                   35\n",
      "NEG_DIAGNOSES_DOndgPS               30\n",
      "NEG_TREATS_PSntDO                   25\n",
      "NEG_PRECEDES_DOnpcPS                22\n",
      "PRODUCES_PSpd>DO                    19\n",
      "NEG_OCCURS_IN_PSnoiDO               13\n",
      "INHIBITS_PSinDO                     10\n",
      "PRODUCES_DOpd>PS                     9\n",
      "PART_OF_PSpo>DO                      8\n",
      "USES_DOuPS                           7\n",
      "METHOD_OF_PSmoDO                     6\n",
      "ADMINISTERED_TO_DOatPS               6\n",
      "NEG_PREVENTS_PSnpvDO                 4\n",
      "NEG_LOCATION_OF_PSnloDO              3\n",
      "NEG_COMPLICATES_PSncpDO              2\n",
      "NEG_STIMULATES_DOnstPS               2\n",
      "NEG_AUGMENTS_PSnagDO                 1\n",
      "NEG_PRODUCES_DOnpdPS                 1\n",
      "NEG_USES_DOnuPS                      1\n",
      "Name: TYPE, dtype: int64\n"
     ]
    }
   ],
   "source": [
    "combo_num = 72\n",
    "\n",
    "pair = combos[combo_num]\n",
    "\n",
    "print(pair[0], '---', pair[1], '\\n')\n",
    "print(combo_counts[combos[combo_num]])"
   ]
  },
  {
   "cell_type": "code",
   "execution_count": 113,
   "metadata": {
    "collapsed": true
   },
   "outputs": [],
   "source": [
    "to_merge = ['AFFECTS_PSafDO','ASSOCIATED_WITH_PSawDO','COEXISTS_WITH_PScwDO',\n",
    "             'PREDISPOSES_PSpsDO','TREATS_PStDO']\n",
    "merge_edge_types(to_merge, 'AFFECTS_PSafDO')\n",
    "\n",
    "to_merge = ['PROCESS_OF_DOpro>PS','CAUSES_DOcPS','MANIFESTATION_OF_DOmfo>PS','PRECEDES_DOpc>PS']\n",
    "merge_edge_types(to_merge, 'CAUSES_DOcPS')"
   ]
  },
  {
   "cell_type": "code",
   "execution_count": 114,
   "metadata": {
    "scrolled": false
   },
   "outputs": [
    {
     "name": "stdout",
     "output_type": "stream",
     "text": [
      "Disorders --- Procedures \n",
      "\n",
      "TREATS_PRtDO                   425717\n",
      "DIAGNOSES_PRdgDO               223926\n",
      "AFFECTS_PRafDO                  57701\n",
      "CAUSES_PRcDO                    52979\n",
      "PREVENTS_PRpvDO                 51422\n",
      "PREDISPOSES_PRpsDO              17156\n",
      "NEG_TREATS_PRntDO               15447\n",
      "NEG_DIAGNOSES_PRndgDO            6356\n",
      "NEG_AFFECTS_PRnafDO              4333\n",
      "PRECEDES_PRpc>DO                 4220\n",
      "NEG_PREVENTS_PRnpvDO             2476\n",
      "COEXISTS_WITH_PRcwDO             2333\n",
      "NEG_CAUSES_PRncDO                2215\n",
      "METHOD_OF_DOmoPR                 1985\n",
      "COMPLICATES_PRcpDO               1546\n",
      "ISA_PRi>DO                       1515\n",
      "NEG_PREDISPOSES_PRnpsDO          1423\n",
      "USES_DOuPR                       1352\n",
      "PROCESS_OF_DOpro>PR               898\n",
      "LOCATION_OF_DOloPR                591\n",
      "ADMINISTERED_TO_PRatDO            348\n",
      "ASSOCIATED_WITH_PRawDO            240\n",
      "NEG_COEXISTS_WITH_PRncwDO         136\n",
      "STIMULATES_PRstDO                 116\n",
      "NEG_USES_DOnuPR                   111\n",
      "PRECEDES_DOpc>PR                  105\n",
      "NEG_METHOD_OF_DOnmoPR              95\n",
      "NEG_PRECEDES_PRnpcDO               74\n",
      "NEG_COMPLICATES_PRncpDO            74\n",
      "compared_with_DOcpwPR              66\n",
      "NEG_PROCESS_OF_DOnproPR            60\n",
      "ISA_DOi>PR                         54\n",
      "DISRUPTS_DOdsPR                    43\n",
      "AUGMENTS_PRagDO                    43\n",
      "NEG_ADMINISTERED_TO_PRnatDO        26\n",
      "PROCESS_OF_PRpro>DO                25\n",
      "MANIFESTATION_OF_DOmfo>PR          17\n",
      "PART_OF_DOpo>PR                    16\n",
      "PART_OF_PRpo>DO                    15\n",
      "higher_than_DOhtPR                 15\n",
      "INHIBITS_PRinDO                    15\n",
      "NEG_ASSOCIATED_WITH_PRnawDO        13\n",
      "NEG_LOCATION_OF_DOnloPR            11\n",
      "PRODUCES_PRpd>DO                    8\n",
      "MANIFESTATION_OF_PRmfo>DO           6\n",
      "lower_than_PRltDO                   4\n",
      "NEG_STIMULATES_PRnstDO              4\n",
      "OCCURS_IN_DOoiPR                    4\n",
      "INTERACTS_WITH_DOiwPR               3\n",
      "PRODUCES_DOpd>PR                    2\n",
      "NEG_DISRUPTS_DOndsPR                1\n",
      "NEG_AUGMENTS_PRnagDO                1\n",
      "NEG_INHIBITS_DOninPR                1\n",
      "Name: TYPE, dtype: int64\n"
     ]
    }
   ],
   "source": [
    "combo_num = 73\n",
    "\n",
    "pair = combos[combo_num]\n",
    "\n",
    "print(pair[0], '---', pair[1], '\\n')\n",
    "print(combo_counts[combos[combo_num]])"
   ]
  },
  {
   "cell_type": "code",
   "execution_count": 115,
   "metadata": {
    "collapsed": true
   },
   "outputs": [],
   "source": [
    "to_merge = ['TREATS_PRtDO','PREVENTS_PRpvDO']\n",
    "merge_edge_types(to_merge, 'TREATS_PRtDO')\n",
    "\n",
    "# keep 'DIAGNOSES_PRdgDO' asis\n",
    "# keep 'AFFECTS_PRafDO' asis\n",
    "\n",
    "to_merge = ['CAUSES_PRcDO', 'PREDISPOSES_PRpsDO','PRECEDES_PRpc>DO','COMPLICATES_PRcpDO']\n",
    "merge_edge_types(to_merge, 'PREDISPOSES_PRpsDO')\n",
    "\n",
    "to_drop = ['NEG_TREATS_PRntDO', 'NEG_DIAGNOSES_PRndgDO', 'NEG_AFFECTS_PRnafDO']\n",
    "drop_edges_from_list(to_drop)"
   ]
  },
  {
   "cell_type": "code",
   "execution_count": 116,
   "metadata": {
    "scrolled": false
   },
   "outputs": [
    {
     "name": "stdout",
     "output_type": "stream",
     "text": [
      "Genes & Molecular Sequences --- Genes & Molecular Sequences \n",
      "\n",
      "INTERACTS_WITH_GiwG         161726\n",
      "STIMULATES_GstG             123328\n",
      "COEXISTS_WITH_GcwG          115029\n",
      "INHIBITS_GinG                80164\n",
      "PRODUCES_Gpd>G               43665\n",
      "compared_with_GcpwG          36955\n",
      "PART_OF_Gpo>G                26604\n",
      "higher_than_GhtG             11001\n",
      "NEG_INTERACTS_WITH_GniwG     10150\n",
      "CONVERTS_TO_Gct>G             5239\n",
      "ISA_Gi>G                      5204\n",
      "NEG_COEXISTS_WITH_GncwG       4648\n",
      "NEG_STIMULATES_GnstG          4628\n",
      "NEG_INHIBITS_GninG            2248\n",
      "lower_than_GltG               2144\n",
      "NEG_PRODUCES_GnpdG            2098\n",
      "same_as_GsaG                  2051\n",
      "USES_GuG                       945\n",
      "different_from_GdfG            857\n",
      "NEG_PART_OF_GnpoG              826\n",
      "NEG_higher_than_GnhtG          256\n",
      "different_than_GdtG            215\n",
      "ASSOCIATED_WITH_GawG            64\n",
      "AFFECTS_GafG                    63\n",
      "NEG_CONVERTS_TO_GnctG           52\n",
      "NEG_lower_than_GnltG            44\n",
      "PRECEDES_Gpc>G                  39\n",
      "AUGMENTS_GagG                   33\n",
      "LOCATION_OF_GloG                29\n",
      "TREATS_GtG                      24\n",
      "CAUSES_GcG                      23\n",
      "DISRUPTS_GdsG                   15\n",
      "METHOD_OF_GmoG                   6\n",
      "PREDISPOSES_GpsG                 4\n",
      "NEG_USES_GnuG                    3\n",
      "NEG_AFFECTS_GnafG                3\n",
      "NEG_CAUSES_GncG                  2\n",
      "PREVENTS_GpvG                    2\n",
      "Name: TYPE, dtype: int64\n"
     ]
    }
   ],
   "source": [
    "combo_num = 74\n",
    "\n",
    "pair = combos[combo_num]\n",
    "\n",
    "print(pair[0], '---', pair[1], '\\n')\n",
    "print(combo_counts[combos[combo_num]])"
   ]
  },
  {
   "cell_type": "code",
   "execution_count": 117,
   "metadata": {
    "collapsed": true
   },
   "outputs": [],
   "source": [
    "to_merge = ['INTERACTS_WITH_GiwG','COEXISTS_WITH_GcwG']\n",
    "merge_edge_types(to_merge, 'INTERACTS_WITH_GiwG')\n",
    "\n",
    "to_merge = ['STIMULATES_GstG','PRODUCES_Gpd>G']\n",
    "merge_edge_types(to_merge, 'STIMULATES_Gst>G')\n",
    "\n",
    "to_merge = ['CONVERTS_TO_Gct>G', 'ISA_Gi>G']\n",
    "merge_edge_types(to_merge, 'ISA_Gi>G')\n",
    "\n",
    "# keep 'INHIBITS_GinG' as is\n",
    "\n",
    "drop_edges_from_list(['compared_with_GcpwG'])"
   ]
  },
  {
   "cell_type": "code",
   "execution_count": 118,
   "metadata": {
    "scrolled": false
   },
   "outputs": [
    {
     "name": "stdout",
     "output_type": "stream",
     "text": [
      "Genes & Molecular Sequences --- Geographic Areas \n",
      "\n",
      "COEXISTS_WITH_GcwGA     2\n",
      "INTERACTS_WITH_GAiwG    1\n",
      "Name: TYPE, dtype: int64\n"
     ]
    }
   ],
   "source": [
    "combo_num = 75\n",
    "\n",
    "pair = combos[combo_num]\n",
    "\n",
    "print(pair[0], '---', pair[1], '\\n')\n",
    "print(combo_counts[combos[combo_num]])"
   ]
  },
  {
   "cell_type": "code",
   "execution_count": 119,
   "metadata": {
    "scrolled": false
   },
   "outputs": [
    {
     "name": "stdout",
     "output_type": "stream",
     "text": [
      "Genes & Molecular Sequences --- Living Beings \n",
      "\n",
      "LOCATION_OF_LBloG             185404\n",
      "PART_OF_Gpo>LB                141133\n",
      "INTERACTS_WITH_GiwLB            7232\n",
      "TREATS_GtLB                     6002\n",
      "ADMINISTERED_TO_GatLB           5661\n",
      "NEG_LOCATION_OF_LBnloG          3920\n",
      "PRODUCES_LBpd>G                 2660\n",
      "NEG_PART_OF_GnpoLB              1771\n",
      "AFFECTS_GafLB                    624\n",
      "PROCESS_OF_Gpro>LB               304\n",
      "NEG_TREATS_GntLB                 249\n",
      "NEG_INTERACTS_WITH_GniwLB        214\n",
      "AUGMENTS_GagLB                   167\n",
      "NEG_ADMINISTERED_TO_GnatLB       145\n",
      "COEXISTS_WITH_LBcwG              139\n",
      "DISRUPTS_GdsLB                   112\n",
      "PREVENTS_GpvLB                    54\n",
      "NEG_PRODUCES_LBnpdG               54\n",
      "STIMULATES_GstLB                  49\n",
      "PART_OF_LBpo>G                    30\n",
      "PRODUCES_Gpd>LB                   26\n",
      "compared_with_GcpwLB              22\n",
      "NEG_AFFECTS_GnafLB                22\n",
      "INHIBITS_GinLB                    19\n",
      "CAUSES_GcLB                       11\n",
      "USES_GuLB                         10\n",
      "higher_than_LBhtG                 10\n",
      "ASSOCIATED_WITH_GawLB              8\n",
      "NEG_PROCESS_OF_GnproLB             7\n",
      "NEG_AUGMENTS_GnagLB                5\n",
      "NEG_DISRUPTS_GndsLB                5\n",
      "ISA_LBi>G                          5\n",
      "OCCURS_IN_GoiLB                    5\n",
      "lower_than_GltLB                   4\n",
      "CONVERTS_TO_LBct>G                 3\n",
      "NEG_COEXISTS_WITH_LBncwG           2\n",
      "PREDISPOSES_GpsLB                  2\n",
      "DIAGNOSES_GdgLB                    2\n",
      "NEG_PREVENTS_GnpvLB                1\n",
      "same_as_LBsaG                      1\n",
      "CONVERTS_TO_Gct>LB                 1\n",
      "ISA_Gi>LB                          1\n",
      "NEG_STIMULATES_GnstLB              1\n",
      "Name: TYPE, dtype: int64\n"
     ]
    }
   ],
   "source": [
    "combo_num = 76\n",
    "\n",
    "pair = combos[combo_num]\n",
    "\n",
    "print(pair[0], '---', pair[1], '\\n')\n",
    "print(combo_counts[combos[combo_num]])"
   ]
  },
  {
   "cell_type": "code",
   "execution_count": 120,
   "metadata": {},
   "outputs": [],
   "source": [
    "# Merge to Part_of that is non-directional\n",
    "change_edge_type('LOCATION_OF_LBloG', 'PART_OF_GpoLB', swap=True)\n",
    "change_edge_type('PART_OF_Gpo>LB', 'PART_OF_GpoLB')"
   ]
  },
  {
   "cell_type": "code",
   "execution_count": 121,
   "metadata": {
    "scrolled": false
   },
   "outputs": [
    {
     "name": "stdout",
     "output_type": "stream",
     "text": [
      "Genes & Molecular Sequences --- Objects \n",
      "\n",
      "compared_with_OBcpwG         350\n",
      "INTERACTS_WITH_GiwOB         298\n",
      "LOCATION_OF_OBloG            287\n",
      "COEXISTS_WITH_GcwOB          262\n",
      "STIMULATES_GstOB             176\n",
      "INHIBITS_OBinG               112\n",
      "ISA_Gi>OB                     78\n",
      "higher_than_GhtOB             65\n",
      "USES_OBuG                     64\n",
      "PRODUCES_Gpd>OB               37\n",
      "NEG_INTERACTS_WITH_OBniwG     28\n",
      "PART_OF_OBpo>G                22\n",
      "lower_than_OBltG              18\n",
      "same_as_GsaOB                 11\n",
      "ASSOCIATED_WITH_GawOB         10\n",
      "NEG_COEXISTS_WITH_GncwOB       8\n",
      "NEG_INHIBITS_OBninG            7\n",
      "PRODUCES_OBpd>G                5\n",
      "CONVERTS_TO_OBct>G             5\n",
      "ISA_OBi>G                      4\n",
      "AUGMENTS_GagOB                 3\n",
      "different_than_OBdtG           2\n",
      "CONVERTS_TO_Gct>OB             2\n",
      "AFFECTS_OBafG                  2\n",
      "NEG_STIMULATES_OBnstG          2\n",
      "PART_OF_Gpo>OB                 2\n",
      "TREATS_OBtG                    1\n",
      "NEG_LOCATION_OF_OBnloG         1\n",
      "PRECEDES_OBpc>G                1\n",
      "different_from_OBdfG           1\n",
      "Name: TYPE, dtype: int64\n"
     ]
    }
   ],
   "source": [
    "combo_num = 77\n",
    "\n",
    "pair = combos[combo_num]\n",
    "\n",
    "print(pair[0], '---', pair[1], '\\n')\n",
    "print(combo_counts[combos[combo_num]])"
   ]
  },
  {
   "cell_type": "code",
   "execution_count": 122,
   "metadata": {
    "scrolled": false
   },
   "outputs": [
    {
     "name": "stdout",
     "output_type": "stream",
     "text": [
      "Genes & Molecular Sequences --- Occupations \n",
      "\n",
      "AFFECTS_GafOC            116\n",
      "ASSOCIATED_WITH_GawOC     23\n",
      "METHOD_OF_GmoOC           18\n",
      "DISRUPTS_GdsOC            17\n",
      "AUGMENTS_GagOC             9\n",
      "CAUSES_GcOC                4\n",
      "USES_OCuG                  4\n",
      "NEG_AFFECTS_GnafOC         3\n",
      "PREDISPOSES_GpsOC          2\n",
      "STIMULATES_OCstG           1\n",
      "NEG_USES_OCnuG             1\n",
      "LOCATION_OF_OCloG          1\n",
      "Name: TYPE, dtype: int64\n"
     ]
    }
   ],
   "source": [
    "combo_num = 78\n",
    "\n",
    "pair = combos[combo_num]\n",
    "\n",
    "print(pair[0], '---', pair[1], '\\n')\n",
    "print(combo_counts[combos[combo_num]])"
   ]
  },
  {
   "cell_type": "code",
   "execution_count": 123,
   "metadata": {
    "scrolled": false
   },
   "outputs": [
    {
     "name": "stdout",
     "output_type": "stream",
     "text": [
      "Genes & Molecular Sequences --- Organizations \n",
      "\n",
      "LOCATION_OF_ORloG       15\n",
      "INHIBITS_GinOR           5\n",
      "PART_OF_Gpo>OR           5\n",
      "TREATS_GtOR              2\n",
      "compared_with_GcpwOR     2\n",
      "USES_ORuG                1\n",
      "CONVERTS_TO_Gct>OR       1\n",
      "STIMULATES_ORstG         1\n",
      "AUGMENTS_GagOR           1\n",
      "PRODUCES_ORpd>G          1\n",
      "Name: TYPE, dtype: int64\n"
     ]
    }
   ],
   "source": [
    "combo_num = 79\n",
    "\n",
    "pair = combos[combo_num]\n",
    "\n",
    "print(pair[0], '---', pair[1], '\\n')\n",
    "print(combo_counts[combos[combo_num]])"
   ]
  },
  {
   "cell_type": "code",
   "execution_count": 124,
   "metadata": {
    "scrolled": false
   },
   "outputs": [
    {
     "name": "stdout",
     "output_type": "stream",
     "text": [
      "Genes & Molecular Sequences --- Phenomena \n",
      "\n",
      "AFFECTS_GafPH                 13098\n",
      "AUGMENTS_GagPH                 5919\n",
      "DISRUPTS_GdsPH                 3321\n",
      "CAUSES_GcPH                    1491\n",
      "NEG_AFFECTS_GnafPH              798\n",
      "LOCATION_OF_PHloG               414\n",
      "PRODUCES_PHpd>G                 376\n",
      "PART_OF_Gpo>PH                  286\n",
      "NEG_AUGMENTS_GnagPH             217\n",
      "INTERACTS_WITH_GiwPH            196\n",
      "NEG_DISRUPTS_GndsPH              88\n",
      "USES_PHuG                        87\n",
      "COEXISTS_WITH_GcwPH              68\n",
      "STIMULATES_PHstG                 61\n",
      "INHIBITS_PHinG                   57\n",
      "TREATS_GtPH                      43\n",
      "NEG_CAUSES_GncPH                 42\n",
      "ASSOCIATED_WITH_GawPH            24\n",
      "NEG_PRODUCES_PHnpdG              15\n",
      "NEG_INTERACTS_WITH_PHniwG        10\n",
      "compared_with_PHcpwG             10\n",
      "NEG_LOCATION_OF_PHnloG           10\n",
      "PROCESS_OF_PHpro>G                8\n",
      "ADMINISTERED_TO_GatPH             8\n",
      "PRODUCES_Gpd>PH                   8\n",
      "PROCESS_OF_Gpro>PH                5\n",
      "higher_than_GhtPH                 4\n",
      "NEG_COEXISTS_WITH_PHncwG          2\n",
      "DIAGNOSES_GdgPH                   2\n",
      "ISA_Gi>PH                         2\n",
      "NEG_TREATS_GntPH                  2\n",
      "CONVERTS_TO_PHct>G                1\n",
      "MANIFESTATION_OF_PHmfo>G          1\n",
      "CONVERTS_TO_Gct>PH                1\n",
      "PREVENTS_GpvPH                    1\n",
      "NEG_ASSOCIATED_WITH_PHnawG        1\n",
      "NEG_PROCESS_OF_GnproPH            1\n",
      "NEG_PART_OF_GnpoPH                1\n",
      "PREDISPOSES_GpsPH                 1\n",
      "MANIFESTATION_OF_Gmfo>PH          1\n",
      "Name: TYPE, dtype: int64\n"
     ]
    }
   ],
   "source": [
    "combo_num = 80\n",
    "\n",
    "pair = combos[combo_num]\n",
    "\n",
    "print(pair[0], '---', pair[1], '\\n')\n",
    "print(combo_counts[combos[combo_num]])"
   ]
  },
  {
   "cell_type": "code",
   "execution_count": 125,
   "metadata": {
    "collapsed": true
   },
   "outputs": [],
   "source": [
    "to_merge = ['AFFECTS_GafPH', 'AUGMENTS_GagPH', 'DISRUPTS_GdsPH', 'CAUSES_GcPH']\n",
    "merge_edge_types(to_merge, 'AFFECTS_GafPH')"
   ]
  },
  {
   "cell_type": "code",
   "execution_count": 126,
   "metadata": {
    "scrolled": false
   },
   "outputs": [
    {
     "name": "stdout",
     "output_type": "stream",
     "text": [
      "Genes & Molecular Sequences --- Physiology \n",
      "\n",
      "AFFECTS_GafPS                   174080\n",
      "AUGMENTS_GagPS                   76441\n",
      "DISRUPTS_GdsPS                   54395\n",
      "CAUSES_GcPS                      32617\n",
      "NEG_AFFECTS_GnafPS               12246\n",
      "PRODUCES_PSpd>G                   7077\n",
      "NEG_AUGMENTS_GnagPS               2867\n",
      "NEG_DISRUPTS_GndsPS               2269\n",
      "NEG_CAUSES_GncPS                  1368\n",
      "LOCATION_OF_PSloG                  973\n",
      "ASSOCIATED_WITH_GawPS              845\n",
      "INHIBITS_GinPS                     509\n",
      "PART_OF_Gpo>PS                     467\n",
      "TREATS_GtPS                        227\n",
      "INTERACTS_WITH_PSiwG               222\n",
      "STIMULATES_GstPS                   169\n",
      "NEG_PRODUCES_PSnpdG                168\n",
      "COEXISTS_WITH_PScwG                163\n",
      "PREVENTS_GpvPS                      86\n",
      "PREDISPOSES_GpsPS                   77\n",
      "COMPLICATES_GcpPS                   49\n",
      "PROCESS_OF_PSpro>G                  48\n",
      "NEG_ASSOCIATED_WITH_GnawPS          42\n",
      "NEG_LOCATION_OF_PSnloG              36\n",
      "compared_with_GcpwPS                31\n",
      "PROCESS_OF_Gpro>PS                  21\n",
      "USES_PSuG                           19\n",
      "NEG_INHIBITS_GninPS                 17\n",
      "NEG_INTERACTS_WITH_GniwPS           15\n",
      "PRODUCES_Gpd>PS                     13\n",
      "NEG_PART_OF_GnpoPS                  11\n",
      "higher_than_GhtPS                   10\n",
      "NEG_PREVENTS_GnpvPS                 10\n",
      "CONVERTS_TO_Gct>PS                  10\n",
      "NEG_STIMULATES_GnstPS                9\n",
      "NEG_TREATS_GntPS                     7\n",
      "ADMINISTERED_TO_GatPS                7\n",
      "METHOD_OF_PSmoG                      7\n",
      "NEG_COEXISTS_WITH_GncwPS             5\n",
      "MANIFESTATION_OF_PSmfo>G             4\n",
      "PART_OF_PSpo>G                       4\n",
      "NEG_COMPLICATES_GncpPS               2\n",
      "MANIFESTATION_OF_Gmfo>PS             2\n",
      "ISA_Gi>PS                            2\n",
      "NEG_higher_than_PSnhtG               1\n",
      "NEG_MANIFESTATION_OF_PSnmfoG         1\n",
      "different_than_GdtPS                 1\n",
      "PRECEDES_PSpc>G                      1\n",
      "PRECEDES_Gpc>PS                      1\n",
      "lower_than_GltPS                     1\n",
      "CONVERTS_TO_PSct>G                   1\n",
      "NEG_PREDISPOSES_GnpsPS               1\n",
      "Name: TYPE, dtype: int64\n"
     ]
    }
   ],
   "source": [
    "combo_num = 81\n",
    "\n",
    "pair = combos[combo_num]\n",
    "\n",
    "print(pair[0], '---', pair[1], '\\n')\n",
    "print(combo_counts[combos[combo_num]])"
   ]
  },
  {
   "cell_type": "code",
   "execution_count": 127,
   "metadata": {
    "collapsed": true
   },
   "outputs": [],
   "source": [
    "to_merge = ['AFFECTS_GafPS', 'AUGMENTS_GagPS', 'DISRUPTS_GdsPS', 'CAUSES_GcPS']\n",
    "merge_edge_types(to_merge, 'AFFECTS_GafPS')\n",
    "\n",
    " \n",
    "drop_edges_from_list(['NEG_AFFECTS_GnafPS'])"
   ]
  },
  {
   "cell_type": "code",
   "execution_count": 128,
   "metadata": {
    "scrolled": false
   },
   "outputs": [
    {
     "name": "stdout",
     "output_type": "stream",
     "text": [
      "Genes & Molecular Sequences --- Procedures \n",
      "\n",
      "USES_PRuG                    73378\n",
      "compared_with_PRcpwG          9578\n",
      "ISA_Gi>PR                     2384\n",
      "higher_than_PRhtG             2171\n",
      "METHOD_OF_GmoPR               1096\n",
      "NEG_USES_PRnuG                 942\n",
      "AFFECTS_GafPR                  846\n",
      "AUGMENTS_GagPR                 557\n",
      "PRECEDES_Gpc>PR                458\n",
      "same_as_PRsaG                  366\n",
      "DISRUPTS_GdsPR                 349\n",
      "lower_than_PRltG               331\n",
      "COEXISTS_WITH_PRcwG            288\n",
      "PRODUCES_PRpd>G                245\n",
      "PRECEDES_PRpc>G                240\n",
      "CAUSES_GcPR                    213\n",
      "LOCATION_OF_PRloG              121\n",
      "NEG_AFFECTS_GnafPR             112\n",
      "TREATS_PRtG                    107\n",
      "INTERACTS_WITH_PRiwG            91\n",
      "NEG_higher_than_PRnhtG          83\n",
      "PART_OF_Gpo>PR                  83\n",
      "INHIBITS_GinPR                  69\n",
      "different_from_PRdfG            56\n",
      "STIMULATES_GstPR                55\n",
      "ISA_PRi>G                       45\n",
      "DIAGNOSES_PRdgG                 20\n",
      "different_than_GdtPR            20\n",
      "NEG_lower_than_PRnltG           14\n",
      "NEG_AUGMENTS_GnagPR             12\n",
      "PART_OF_PRpo>G                  12\n",
      "NEG_METHOD_OF_PRnmoG            11\n",
      "ASSOCIATED_WITH_GawPR           11\n",
      "NEG_CAUSES_GncPR                10\n",
      "NEG_INTERACTS_WITH_PRniwG        8\n",
      "NEG_PRECEDES_GnpcPR              7\n",
      "NEG_PRODUCES_PRnpdG              6\n",
      "NEG_STIMULATES_GnstPR            6\n",
      "NEG_TREATS_PRntG                 5\n",
      "PREVENTS_PRpvG                   4\n",
      "NEG_LOCATION_OF_PRnloG           4\n",
      "NEG_INHIBITS_GninPR              3\n",
      "PRODUCES_Gpd>PR                  3\n",
      "NEG_DISRUPTS_GndsPR              3\n",
      "PROCESS_OF_Gpro>PR               2\n",
      "PREDISPOSES_PRpsG                2\n",
      "NEG_PART_OF_PRnpoG               1\n",
      "PROCESS_OF_PRpro>G               1\n",
      "NEG_PREDISPOSES_PRnpsG           1\n",
      "CONVERTS_TO_Gct>PR               1\n",
      "NEG_COEXISTS_WITH_PRncwG         1\n",
      "ADMINISTERED_TO_GatPR            1\n",
      "Name: TYPE, dtype: int64\n"
     ]
    }
   ],
   "source": [
    "combo_num = 82\n",
    "\n",
    "pair = combos[combo_num]\n",
    "\n",
    "print(pair[0], '---', pair[1], '\\n')\n",
    "print(combo_counts[combos[combo_num]])"
   ]
  },
  {
   "cell_type": "code",
   "execution_count": 129,
   "metadata": {
    "collapsed": true
   },
   "outputs": [],
   "source": [
    "# This is the only real edge in here: 'USES_PRuG'\n",
    "# However method_of can be added to it\n",
    "change_edge_type('METHOD_OF_GmoPR', 'USES_PRuG', swap=True)"
   ]
  },
  {
   "cell_type": "code",
   "execution_count": 130,
   "metadata": {
    "scrolled": false
   },
   "outputs": [
    {
     "name": "stdout",
     "output_type": "stream",
     "text": [
      "Geographic Areas --- Geographic Areas \n",
      "\n",
      "ISA_GAi>GA    1999\n",
      "Name: TYPE, dtype: int64\n"
     ]
    }
   ],
   "source": [
    "combo_num = 83\n",
    "\n",
    "pair = combos[combo_num]\n",
    "\n",
    "print(pair[0], '---', pair[1], '\\n')\n",
    "print(combo_counts[combos[combo_num]])"
   ]
  },
  {
   "cell_type": "code",
   "execution_count": 131,
   "metadata": {
    "scrolled": false
   },
   "outputs": [
    {
     "name": "stdout",
     "output_type": "stream",
     "text": [
      "Geographic Areas --- Living Beings \n",
      "\n",
      "ISA_GAi>LB            3\n",
      "LOCATION_OF_LBloGA    1\n",
      "TREATS_GAtLB          1\n",
      "ISA_LBi>GA            1\n",
      "Name: TYPE, dtype: int64\n"
     ]
    }
   ],
   "source": [
    "combo_num = 84\n",
    "\n",
    "pair = combos[combo_num]\n",
    "\n",
    "print(pair[0], '---', pair[1], '\\n')\n",
    "print(combo_counts[combos[combo_num]])"
   ]
  },
  {
   "cell_type": "code",
   "execution_count": 132,
   "metadata": {
    "scrolled": false
   },
   "outputs": [
    {
     "name": "stdout",
     "output_type": "stream",
     "text": [
      "Geographic Areas --- Phenomena \n",
      "\n",
      "ISA_PHi>GA        1\n",
      "AFFECTS_GAafPH    1\n",
      "Name: TYPE, dtype: int64\n"
     ]
    }
   ],
   "source": [
    "combo_num = 85\n",
    "\n",
    "pair = combos[combo_num]\n",
    "\n",
    "print(pair[0], '---', pair[1], '\\n')\n",
    "print(combo_counts[combos[combo_num]])"
   ]
  },
  {
   "cell_type": "code",
   "execution_count": 133,
   "metadata": {
    "scrolled": false
   },
   "outputs": [
    {
     "name": "stdout",
     "output_type": "stream",
     "text": [
      "Geographic Areas --- Physiology \n",
      "\n",
      "PROCESS_OF_PSpro>GA       1\n",
      "AUGMENTS_GAagPS           1\n",
      "ASSOCIATED_WITH_PSawGA    1\n",
      "AFFECTS_GAafPS            1\n",
      "Name: TYPE, dtype: int64\n"
     ]
    }
   ],
   "source": [
    "combo_num = 86\n",
    "\n",
    "pair = combos[combo_num]\n",
    "\n",
    "print(pair[0], '---', pair[1], '\\n')\n",
    "print(combo_counts[combos[combo_num]])"
   ]
  },
  {
   "cell_type": "code",
   "execution_count": 134,
   "metadata": {
    "scrolled": false
   },
   "outputs": [
    {
     "name": "stdout",
     "output_type": "stream",
     "text": [
      "Geographic Areas --- Procedures \n",
      "\n",
      "LOCATION_OF_GAloPR    5\n",
      "METHOD_OF_GAmoPR      2\n",
      "USES_PRuGA            1\n",
      "Name: TYPE, dtype: int64\n"
     ]
    }
   ],
   "source": [
    "combo_num = 87\n",
    "\n",
    "pair = combos[combo_num]\n",
    "\n",
    "print(pair[0], '---', pair[1], '\\n')\n",
    "print(combo_counts[combos[combo_num]])"
   ]
  },
  {
   "cell_type": "code",
   "execution_count": 135,
   "metadata": {
    "scrolled": false
   },
   "outputs": [
    {
     "name": "stdout",
     "output_type": "stream",
     "text": [
      "Living Beings --- Living Beings \n",
      "\n",
      "ISA_LBi>LB                    73724\n",
      "INTERACTS_WITH_LBiwLB         38429\n",
      "PROCESS_OF_LBpro>LB           17331\n",
      "COEXISTS_WITH_LBcwLB           3518\n",
      "TREATS_LBtLB                   1917\n",
      "NEG_INTERACTS_WITH_LBniwLB     1448\n",
      "PART_OF_LBpo>LB                1397\n",
      "LOCATION_OF_LBloLB             1288\n",
      "NEG_PROCESS_OF_LBnproLB         351\n",
      "NEG_COEXISTS_WITH_LBncwLB        94\n",
      "NEG_TREATS_LBntLB                87\n",
      "ADMINISTERED_TO_LBatLB           48\n",
      "NEG_LOCATION_OF_LBnloLB          31\n",
      "AFFECTS_LBafLB                   28\n",
      "NEG_PART_OF_LBnpoLB              27\n",
      "USES_LBuLB                       14\n",
      "compared_with_LBcpwLB            11\n",
      "OCCURS_IN_LBoiLB                  6\n",
      "CAUSES_LBcLB                      5\n",
      "higher_than_LBhtLB                3\n",
      "DIAGNOSES_LBdgLB                  3\n",
      "lower_than_LBltLB                 1\n",
      "AUGMENTS_LBagLB                   1\n",
      "same_as_LBsaLB                    1\n",
      "NEG_higher_than_LBnhtLB           1\n",
      "ASSOCIATED_WITH_LBawLB            1\n",
      "PREVENTS_LBpvLB                   1\n",
      "Name: TYPE, dtype: int64\n"
     ]
    }
   ],
   "source": [
    "combo_num = 88\n",
    "\n",
    "pair = combos[combo_num]\n",
    "\n",
    "print(pair[0], '---', pair[1], '\\n')\n",
    "print(combo_counts[combos[combo_num]])"
   ]
  },
  {
   "cell_type": "code",
   "execution_count": 136,
   "metadata": {
    "collapsed": true
   },
   "outputs": [],
   "source": [
    "to_merge = ['ISA_LBi>LB','PART_OF_LBpo>LB']\n",
    "merge_edge_types(to_merge, 'ISA_LBi>LB')\n",
    "\n",
    "to_merge = ['INTERACTS_WITH_LBiwLB','COEXISTS_WITH_LBcwLB']\n",
    "merge_edge_types(to_merge, 'INTERACTS_WITH_LBiwLB')"
   ]
  },
  {
   "cell_type": "code",
   "execution_count": 137,
   "metadata": {
    "scrolled": false
   },
   "outputs": [
    {
     "name": "stdout",
     "output_type": "stream",
     "text": [
      "Living Beings --- Objects \n",
      "\n",
      "TREATS_OBtLB                   1447\n",
      "LOCATION_OF_LBloOB              966\n",
      "USES_LBuOB                      744\n",
      "PART_OF_OBpo>LB                 672\n",
      "ADMINISTERED_TO_OBatLB          479\n",
      "DIAGNOSES_OBdgLB                 58\n",
      "NEG_ADMINISTERED_TO_OBnatLB      44\n",
      "PRODUCES_LBpd>OB                 43\n",
      "NEG_TREATS_OBntLB                41\n",
      "NEG_USES_LBnuOB                  18\n",
      "NEG_LOCATION_OF_LBnloOB          17\n",
      "PROCESS_OF_OBpro>LB              16\n",
      "NEG_PART_OF_OBnpoLB              14\n",
      "ISA_OBi>LB                       10\n",
      "INTERACTS_WITH_LBiwOB             9\n",
      "ISA_LBi>OB                        6\n",
      "AFFECTS_OBafLB                    4\n",
      "PREVENTS_OBpvLB                   2\n",
      "ASSOCIATED_WITH_OBawLB            2\n",
      "OCCURS_IN_OBoiLB                  1\n",
      "METHOD_OF_OBmoLB                  1\n",
      "NEG_PROCESS_OF_OBnproLB           1\n",
      "DISRUPTS_OBdsLB                   1\n",
      "AUGMENTS_OBagLB                   1\n",
      "Name: TYPE, dtype: int64\n"
     ]
    }
   ],
   "source": [
    "combo_num = 89\n",
    "\n",
    "pair = combos[combo_num]\n",
    "\n",
    "print(pair[0], '---', pair[1], '\\n')\n",
    "print(combo_counts[combos[combo_num]])"
   ]
  },
  {
   "cell_type": "code",
   "execution_count": 138,
   "metadata": {
    "scrolled": false
   },
   "outputs": [
    {
     "name": "stdout",
     "output_type": "stream",
     "text": [
      "Living Beings --- Occupations \n",
      "\n",
      "PROCESS_OF_OCpro>LB            286\n",
      "TREATS_OCtLB                   224\n",
      "ADMINISTERED_TO_OCatLB          90\n",
      "AFFECTS_OCafLB                  28\n",
      "INTERACTS_WITH_OCiwLB           16\n",
      "NEG_TREATS_OCntLB               14\n",
      "NEG_ADMINISTERED_TO_OCnatLB     13\n",
      "ISA_LBi>OC                       7\n",
      "ISA_OCi>LB                       7\n",
      "DIAGNOSES_LBdgOC                 4\n",
      "METHOD_OF_LBmoOC                 4\n",
      "PROCESS_OF_LBpro>OC              2\n",
      "OCCURS_IN_OCoiLB                 2\n",
      "NEG_PROCESS_OF_OCnproLB          1\n",
      "NEG_INTERACTS_WITH_LBniwOC       1\n",
      "Name: TYPE, dtype: int64\n"
     ]
    }
   ],
   "source": [
    "combo_num = 90\n",
    "\n",
    "pair = combos[combo_num]\n",
    "\n",
    "print(pair[0], '---', pair[1], '\\n')\n",
    "print(combo_counts[combos[combo_num]])"
   ]
  },
  {
   "cell_type": "code",
   "execution_count": 139,
   "metadata": {
    "scrolled": false
   },
   "outputs": [
    {
     "name": "stdout",
     "output_type": "stream",
     "text": [
      "Living Beings --- Organizations \n",
      "\n",
      "TREATS_ORtLB                  20\n",
      "LOCATION_OF_ORloLB            16\n",
      "PROCESS_OF_ORpro>LB            7\n",
      "ADMINISTERED_TO_ORatLB         4\n",
      "PART_OF_ORpo>LB                2\n",
      "INTERACTS_WITH_ORiwLB          1\n",
      "NEG_INTERACTS_WITH_ORniwLB     1\n",
      "NEG_TREATS_ORntLB              1\n",
      "USES_LBuOR                     1\n",
      "Name: TYPE, dtype: int64\n"
     ]
    }
   ],
   "source": [
    "combo_num = 91\n",
    "\n",
    "pair = combos[combo_num]\n",
    "\n",
    "print(pair[0], '---', pair[1], '\\n')\n",
    "print(combo_counts[combos[combo_num]])"
   ]
  },
  {
   "cell_type": "code",
   "execution_count": 140,
   "metadata": {
    "scrolled": false
   },
   "outputs": [
    {
     "name": "stdout",
     "output_type": "stream",
     "text": [
      "Living Beings --- Phenomena \n",
      "\n",
      "PROCESS_OF_PHpro>LB        10143\n",
      "AFFECTS_PHafLB              1238\n",
      "OCCURS_IN_PHoiLB             516\n",
      "NEG_PROCESS_OF_PHnproLB      248\n",
      "LOCATION_OF_LBloPH           218\n",
      "TREATS_PHtLB                  67\n",
      "NEG_AFFECTS_PHnafLB           62\n",
      "PART_OF_PHpo>LB               46\n",
      "NEG_OCCURS_IN_PHnoiLB         24\n",
      "ADMINISTERED_TO_PHatLB        20\n",
      "CAUSES_LBcPH                  17\n",
      "DIAGNOSES_PHdgLB              12\n",
      "NEG_LOCATION_OF_LBnloPH       11\n",
      "INTERACTS_WITH_LBiwPH          8\n",
      "PROCESS_OF_LBpro>PH            7\n",
      "DISRUPTS_LBdsPH                4\n",
      "PRODUCES_PHpd>LB               4\n",
      "COEXISTS_WITH_PHcwLB           3\n",
      "PREDISPOSES_PHpsLB             2\n",
      "USES_LBuPH                     2\n",
      "NEG_CAUSES_LBncPH              1\n",
      "NEG_TREATS_PHntLB              1\n",
      "NEG_DIAGNOSES_PHndgLB          1\n",
      "AUGMENTS_LBagPH                1\n",
      "PART_OF_LBpo>PH                1\n",
      "Name: TYPE, dtype: int64\n"
     ]
    }
   ],
   "source": [
    "combo_num = 92\n",
    "\n",
    "pair = combos[combo_num]\n",
    "\n",
    "print(pair[0], '---', pair[1], '\\n')\n",
    "print(combo_counts[combos[combo_num]])"
   ]
  },
  {
   "cell_type": "code",
   "execution_count": 141,
   "metadata": {
    "scrolled": false
   },
   "outputs": [
    {
     "name": "stdout",
     "output_type": "stream",
     "text": [
      "Living Beings --- Physiology \n",
      "\n",
      "PROCESS_OF_PSpro>LB            146805\n",
      "AFFECTS_PSafLB                  18044\n",
      "NEG_PROCESS_OF_PSnproLB          3954\n",
      "NEG_AFFECTS_PSnafLB              1039\n",
      "CAUSES_LBcPS                     1026\n",
      "OCCURS_IN_PSoiLB                  816\n",
      "PRODUCES_PSpd>LB                  318\n",
      "TREATS_PStLB                      260\n",
      "INTERACTS_WITH_PSiwLB             241\n",
      "ADMINISTERED_TO_PSatLB            144\n",
      "LOCATION_OF_LBloPS                102\n",
      "DIAGNOSES_LBdgPS                   99\n",
      "PROCESS_OF_LBpro>PS                88\n",
      "PART_OF_PSpo>LB                    63\n",
      "NEG_OCCURS_IN_PSnoiLB              43\n",
      "NEG_CAUSES_LBncPS                  32\n",
      "AUGMENTS_LBagPS                    27\n",
      "DISRUPTS_LBdsPS                    21\n",
      "ASSOCIATED_WITH_PSawLB             20\n",
      "ISA_LBi>PS                         20\n",
      "ISA_PSi>LB                         17\n",
      "NEG_INTERACTS_WITH_PSniwLB         13\n",
      "NEG_ADMINISTERED_TO_PSnatLB        10\n",
      "NEG_PRODUCES_PSnpdLB               10\n",
      "MANIFESTATION_OF_LBmfo>PS           9\n",
      "NEG_TREATS_PSntLB                   9\n",
      "COEXISTS_WITH_PScwLB                6\n",
      "USES_LBuPS                          5\n",
      "PRODUCES_LBpd>PS                    4\n",
      "NEG_PART_OF_PSnpoLB                 3\n",
      "NEG_DIAGNOSES_PSndgLB               3\n",
      "PREVENTS_PSpvLB                     2\n",
      "PREDISPOSES_LBpsPS                  2\n",
      "NEG_DISRUPTS_LBndsPS                2\n",
      "INHIBITS_PSinLB                     1\n",
      "same_as_LBsaPS                      1\n",
      "PART_OF_LBpo>PS                     1\n",
      "NEG_ASSOCIATED_WITH_PSnawLB         1\n",
      "NEG_AUGMENTS_LBnagPS                1\n",
      "compared_with_LBcpwPS               1\n",
      "NEG_LOCATION_OF_LBnloPS             1\n",
      "NEG_INHIBITS_LBninPS                1\n",
      "Name: TYPE, dtype: int64\n"
     ]
    }
   ],
   "source": [
    "combo_num = 93\n",
    "\n",
    "pair = combos[combo_num]\n",
    "\n",
    "print(pair[0], '---', pair[1], '\\n')\n",
    "print(combo_counts[combos[combo_num]])"
   ]
  },
  {
   "cell_type": "code",
   "execution_count": 142,
   "metadata": {
    "collapsed": true
   },
   "outputs": [],
   "source": [
    "change_edge_type('PROCESS_OF_PSpr>LB', 'PROCESS_OF_PSprLB')\n",
    "change_edge_type('CAUSES_LBcPS', 'PROCESS_OF_PSprLB', swap=True)\n",
    "\n",
    "to_merge = ['AFFECTS_PSafLB', 'OCCURS_IN_PSoiLB','PRODUCES_PSpd>LB']\n",
    "merge_edge_types(to_merge, 'AFFECTS_PSafLB')"
   ]
  },
  {
   "cell_type": "code",
   "execution_count": 143,
   "metadata": {
    "scrolled": false
   },
   "outputs": [
    {
     "name": "stdout",
     "output_type": "stream",
     "text": [
      "Living Beings --- Procedures \n",
      "\n",
      "TREATS_PRtLB                   98453\n",
      "ADMINISTERED_TO_PRatLB         54764\n",
      "DIAGNOSES_PRdgLB                6274\n",
      "NEG_TREATS_PRntLB               4212\n",
      "NEG_ADMINISTERED_TO_PRnatLB     3742\n",
      "AFFECTS_PRafLB                  3097\n",
      "PROCESS_OF_PRpro>LB             1302\n",
      "PREVENTS_PRpvLB                  502\n",
      "USES_LBuPR                       402\n",
      "NEG_AFFECTS_PRnafLB              325\n",
      "LOCATION_OF_LBloPR               274\n",
      "METHOD_OF_PRmoLB                 193\n",
      "NEG_DIAGNOSES_PRndgLB            171\n",
      "PART_OF_PRpo>LB                  107\n",
      "NEG_PROCESS_OF_PRnproLB           66\n",
      "INTERACTS_WITH_PRiwLB             25\n",
      "compared_with_PRcpwLB             18\n",
      "NEG_PREVENTS_PRnpvLB              16\n",
      "NEG_USES_LBnuPR                   14\n",
      "CAUSES_PRcLB                      12\n",
      "OCCURS_IN_PRoiLB                   9\n",
      "COEXISTS_WITH_PRcwLB               9\n",
      "PROCESS_OF_LBpro>PR                5\n",
      "PRODUCES_LBpd>PR                   5\n",
      "NEG_LOCATION_OF_LBnloPR            4\n",
      "ISA_LBi>PR                         4\n",
      "higher_than_LBhtPR                 3\n",
      "NEG_CAUSES_PRncLB                  2\n",
      "NEG_PREDISPOSES_PRnpsLB            1\n",
      "NEG_INTERACTS_WITH_LBniwPR         1\n",
      "different_from_PRdfLB              1\n",
      "NEG_OCCURS_IN_PRnoiLB              1\n",
      "NEG_METHOD_OF_PRnmoLB              1\n",
      "NEG_PRODUCES_LBnpdPR               1\n",
      "PRECEDES_PRpc>LB                   1\n",
      "NEG_higher_than_LBnhtPR            1\n",
      "DISRUPTS_LBdsPR                    1\n",
      "PRODUCES_PRpd>LB                   1\n",
      "NEG_PART_OF_PRnpoLB                1\n",
      "ISA_PRi>LB                         1\n",
      "same_as_PRsaLB                     1\n",
      "PREDISPOSES_PRpsLB                 1\n",
      "Name: TYPE, dtype: int64\n"
     ]
    }
   ],
   "source": [
    "combo_num = 94\n",
    "\n",
    "pair = combos[combo_num]\n",
    "\n",
    "print(pair[0], '---', pair[1], '\\n')\n",
    "print(combo_counts[combos[combo_num]])"
   ]
  },
  {
   "cell_type": "code",
   "execution_count": 144,
   "metadata": {
    "collapsed": true
   },
   "outputs": [],
   "source": [
    "# keep 'TREATS_PRtLB' edge as-is\n",
    " \n",
    "to_merge = ['ADMINISTERED_TO_PRatLB', 'AFFECTS_PRafLB']\n",
    "merge_edge_types(to_merge, 'ADMINISTERED_TO_PRatLB')"
   ]
  },
  {
   "cell_type": "code",
   "execution_count": 145,
   "metadata": {
    "scrolled": false
   },
   "outputs": [
    {
     "name": "stdout",
     "output_type": "stream",
     "text": [
      "Objects --- Objects \n",
      "\n",
      "ISA_OBi>OB                   2807\n",
      "USES_OBuOB                   1214\n",
      "compared_with_OBcpwOB         195\n",
      "higher_than_OBhtOB             78\n",
      "COEXISTS_WITH_OBcwOB           77\n",
      "INTERACTS_WITH_OBiwOB          58\n",
      "STIMULATES_OBstOB              21\n",
      "same_as_OBsaOB                 20\n",
      "lower_than_OBltOB              17\n",
      "INHIBITS_OBinOB                15\n",
      "NEG_USES_OBnuOB                15\n",
      "NEG_higher_than_OBnhtOB        11\n",
      "LOCATION_OF_OBloOB              8\n",
      "different_from_OBdfOB           5\n",
      "CONVERTS_TO_OBct>OB             5\n",
      "NEG_COEXISTS_WITH_OBncwOB       4\n",
      "different_than_OBdtOB           3\n",
      "PRODUCES_OBpd>OB                1\n",
      "NEG_INHIBITS_OBninOB            1\n",
      "CAUSES_OBcOB                    1\n",
      "TREATS_OBtOB                    1\n",
      "NEG_lower_than_OBnltOB          1\n",
      "Name: TYPE, dtype: int64\n"
     ]
    }
   ],
   "source": [
    "combo_num = 95\n",
    "\n",
    "pair = combos[combo_num]\n",
    "\n",
    "print(pair[0], '---', pair[1], '\\n')\n",
    "print(combo_counts[combos[combo_num]])"
   ]
  },
  {
   "cell_type": "code",
   "execution_count": 146,
   "metadata": {
    "scrolled": false
   },
   "outputs": [
    {
     "name": "stdout",
     "output_type": "stream",
     "text": [
      "Objects --- Occupations \n",
      "\n",
      "METHOD_OF_OBmoOC       27\n",
      "AFFECTS_OBafOC          5\n",
      "TREATS_OBtOC            1\n",
      "NEG_AFFECTS_OBnafOC     1\n",
      "Name: TYPE, dtype: int64\n"
     ]
    }
   ],
   "source": [
    "combo_num = 96\n",
    "\n",
    "pair = combos[combo_num]\n",
    "\n",
    "print(pair[0], '---', pair[1], '\\n')\n",
    "print(combo_counts[combos[combo_num]])"
   ]
  },
  {
   "cell_type": "code",
   "execution_count": 147,
   "metadata": {
    "scrolled": true
   },
   "outputs": [
    {
     "name": "stdout",
     "output_type": "stream",
     "text": [
      "Objects --- Organizations \n",
      "\n",
      "USES_OBuOR            112\n",
      "LOCATION_OF_ORloOB     65\n",
      "ISA_OBi>OR             27\n",
      "ISA_ORi>OB             10\n",
      "NEG_USES_OBnuOR         1\n",
      "Name: TYPE, dtype: int64\n"
     ]
    }
   ],
   "source": [
    "combo_num = 97\n",
    "\n",
    "pair = combos[combo_num]\n",
    "\n",
    "print(pair[0], '---', pair[1], '\\n')\n",
    "print(combo_counts[combos[combo_num]])"
   ]
  },
  {
   "cell_type": "code",
   "execution_count": 148,
   "metadata": {
    "scrolled": false
   },
   "outputs": [
    {
     "name": "stdout",
     "output_type": "stream",
     "text": [
      "Objects --- Phenomena \n",
      "\n",
      "AFFECTS_OBafPH            437\n",
      "AUGMENTS_OBagPH            46\n",
      "DISRUPTS_OBdsPH            29\n",
      "NEG_AFFECTS_OBnafPH        28\n",
      "USES_PHuOB                 16\n",
      "TREATS_OBtPH                7\n",
      "CAUSES_OBcPH                7\n",
      "LOCATION_OF_OBloPH          5\n",
      "PROCESS_OF_PHpro>OB         2\n",
      "COEXISTS_WITH_OBcwPH        2\n",
      "NEG_AUGMENTS_OBnagPH        2\n",
      "NEG_USES_PHnuOB             2\n",
      "INHIBITS_OBinPH             1\n",
      "PREDISPOSES_OBpsPH          1\n",
      "compared_with_PHcpwOB       1\n",
      "ISA_OBi>PH                  1\n",
      "PRODUCES_OBpd>PH            1\n",
      "ASSOCIATED_WITH_OBawPH      1\n",
      "ISA_PHi>OB                  1\n",
      "Name: TYPE, dtype: int64\n"
     ]
    }
   ],
   "source": [
    "combo_num = 98\n",
    "\n",
    "pair = combos[combo_num]\n",
    "\n",
    "print(pair[0], '---', pair[1], '\\n')\n",
    "print(combo_counts[combos[combo_num]])"
   ]
  },
  {
   "cell_type": "code",
   "execution_count": 149,
   "metadata": {
    "scrolled": false
   },
   "outputs": [
    {
     "name": "stdout",
     "output_type": "stream",
     "text": [
      "Objects --- Physiology \n",
      "\n",
      "AFFECTS_OBafPS                 3743\n",
      "NEG_AFFECTS_OBnafPS             416\n",
      "AUGMENTS_OBagPS                 248\n",
      "DISRUPTS_OBdsPS                 144\n",
      "CAUSES_OBcPS                     74\n",
      "USES_PSuOB                       46\n",
      "TREATS_OBtPS                     31\n",
      "NEG_AUGMENTS_OBnagPS             14\n",
      "INHIBITS_OBinPS                  14\n",
      "NEG_DISRUPTS_OBndsPS             13\n",
      "ASSOCIATED_WITH_PSawOB           13\n",
      "PRODUCES_PSpd>OB                 11\n",
      "LOCATION_OF_PSloOB                6\n",
      "PROCESS_OF_PSpro>OB               6\n",
      "ISA_OBi>PS                        5\n",
      "COEXISTS_WITH_PScwOB              3\n",
      "PART_OF_OBpo>PS                   3\n",
      "ADMINISTERED_TO_OBatPS            2\n",
      "STIMULATES_OBstPS                 2\n",
      "ISA_PSi>OB                        1\n",
      "PART_OF_PSpo>OB                   1\n",
      "NEG_ASSOCIATED_WITH_OBnawPS       1\n",
      "Name: TYPE, dtype: int64\n"
     ]
    }
   ],
   "source": [
    "combo_num = 99\n",
    "\n",
    "pair = combos[combo_num]\n",
    "\n",
    "print(pair[0], '---', pair[1], '\\n')\n",
    "print(combo_counts[combos[combo_num]])"
   ]
  },
  {
   "cell_type": "code",
   "execution_count": 150,
   "metadata": {
    "scrolled": false
   },
   "outputs": [
    {
     "name": "stdout",
     "output_type": "stream",
     "text": [
      "Objects --- Procedures \n",
      "\n",
      "USES_PRuOB                   9720\n",
      "compared_with_PRcpwOB         442\n",
      "LOCATION_OF_OBloPR            177\n",
      "NEG_USES_PRnuOB               166\n",
      "higher_than_OBhtPR             88\n",
      "METHOD_OF_OBmoPR               79\n",
      "ISA_OBi>PR                     37\n",
      "same_as_PRsaOB                 29\n",
      "AFFECTS_OBafPR                 23\n",
      "PRECEDES_OBpc>PR               17\n",
      "lower_than_PRltOB              17\n",
      "TREATS_OBtPR                   16\n",
      "COEXISTS_WITH_PRcwOB           16\n",
      "PRECEDES_PRpc>OB                9\n",
      "ISA_PRi>OB                      8\n",
      "NEG_higher_than_PRnhtOB         7\n",
      "AUGMENTS_OBagPR                 6\n",
      "NEG_AFFECTS_OBnafPR             4\n",
      "CAUSES_OBcPR                    4\n",
      "DIAGNOSES_PRdgOB                2\n",
      "NEG_LOCATION_OF_OBnloPR         2\n",
      "different_from_OBdfPR           2\n",
      "NEG_CAUSES_OBncPR               2\n",
      "STIMULATES_OBstPR               1\n",
      "NEG_PRECEDES_OBnpcPR            1\n",
      "PART_OF_OBpo>PR                 1\n",
      "NEG_COEXISTS_WITH_PRncwOB       1\n",
      "ASSOCIATED_WITH_OBawPR          1\n",
      "Name: TYPE, dtype: int64\n"
     ]
    }
   ],
   "source": [
    "combo_num = 100\n",
    "\n",
    "pair = combos[combo_num]\n",
    "\n",
    "print(pair[0], '---', pair[1], '\\n')\n",
    "print(combo_counts[combos[combo_num]])"
   ]
  },
  {
   "cell_type": "code",
   "execution_count": 151,
   "metadata": {
    "scrolled": false
   },
   "outputs": [
    {
     "name": "stdout",
     "output_type": "stream",
     "text": [
      "Occupations --- Occupations \n",
      "\n",
      "ISA_OCi>OC               1435\n",
      "METHOD_OF_OCmoOC           16\n",
      "compared_with_OCcpwOC       1\n",
      "higher_than_OChtOC          1\n",
      "Name: TYPE, dtype: int64\n"
     ]
    }
   ],
   "source": [
    "combo_num = 101\n",
    "\n",
    "pair = combos[combo_num]\n",
    "\n",
    "print(pair[0], '---', pair[1], '\\n')\n",
    "print(combo_counts[combos[combo_num]])"
   ]
  },
  {
   "cell_type": "code",
   "execution_count": 152,
   "metadata": {
    "scrolled": false
   },
   "outputs": [
    {
     "name": "stdout",
     "output_type": "stream",
     "text": [
      "Occupations --- Organizations \n",
      "\n",
      "LOCATION_OF_ORloOC    67\n",
      "METHOD_OF_ORmoOC       4\n",
      "Name: TYPE, dtype: int64\n"
     ]
    }
   ],
   "source": [
    "combo_num = 102\n",
    "\n",
    "pair = combos[combo_num]\n",
    "\n",
    "print(pair[0], '---', pair[1], '\\n')\n",
    "print(combo_counts[combos[combo_num]])"
   ]
  },
  {
   "cell_type": "code",
   "execution_count": 153,
   "metadata": {
    "scrolled": false
   },
   "outputs": [
    {
     "name": "stdout",
     "output_type": "stream",
     "text": [
      "Occupations --- Phenomena \n",
      "\n",
      "METHOD_OF_PHmoOC        15\n",
      "AFFECTS_PHafOC          12\n",
      "PROCESS_OF_OCpro>PH      9\n",
      "COEXISTS_WITH_OCcwPH     3\n",
      "TREATS_OCtPH             2\n",
      "NEG_CAUSES_OCncPH        1\n",
      "PROCESS_OF_PHpro>OC      1\n",
      "PREVENTS_OCpvPH          1\n",
      "NEG_AFFECTS_PHnafOC      1\n",
      "Name: TYPE, dtype: int64\n"
     ]
    }
   ],
   "source": [
    "combo_num = 103\n",
    "\n",
    "pair = combos[combo_num]\n",
    "\n",
    "print(pair[0], '---', pair[1], '\\n')\n",
    "print(combo_counts[combos[combo_num]])"
   ]
  },
  {
   "cell_type": "code",
   "execution_count": 154,
   "metadata": {
    "scrolled": false
   },
   "outputs": [
    {
     "name": "stdout",
     "output_type": "stream",
     "text": [
      "Occupations --- Physiology \n",
      "\n",
      "AFFECTS_PSafOC               72\n",
      "COEXISTS_WITH_OCcwPS         38\n",
      "METHOD_OF_PSmoOC             34\n",
      "CAUSES_OCcPS                 23\n",
      "PROCESS_OF_PSpro>OC          15\n",
      "PROCESS_OF_OCpro>PS          10\n",
      "TREATS_OCtPS                  6\n",
      "ISA_OCi>PS                    6\n",
      "ISA_PSi>OC                    5\n",
      "DISRUPTS_PSdsOC               5\n",
      "NEG_COEXISTS_WITH_OCncwPS     2\n",
      "PRECEDES_PSpc>OC              2\n",
      "NEG_CAUSES_OCncPS             1\n",
      "AUGMENTS_OCagPS               1\n",
      "Name: TYPE, dtype: int64\n"
     ]
    }
   ],
   "source": [
    "combo_num = 104\n",
    "\n",
    "pair = combos[combo_num]\n",
    "\n",
    "print(pair[0], '---', pair[1], '\\n')\n",
    "print(combo_counts[combos[combo_num]])"
   ]
  },
  {
   "cell_type": "code",
   "execution_count": 155,
   "metadata": {
    "scrolled": false
   },
   "outputs": [
    {
     "name": "stdout",
     "output_type": "stream",
     "text": [
      "Occupations --- Procedures \n",
      "\n",
      "METHOD_OF_PRmoOC             14437\n",
      "COEXISTS_WITH_PRcwOC           256\n",
      "NEG_METHOD_OF_PRnmoOC          192\n",
      "PRECEDES_OCpc>PR                84\n",
      "TREATS_PRtOC                    50\n",
      "ADMINISTERED_TO_PRatOC          46\n",
      "PRECEDES_PRpc>OC                26\n",
      "USES_OCuPR                      26\n",
      "AFFECTS_PRafOC                  22\n",
      "ISA_PRi>OC                      22\n",
      "compared_with_PRcpwOC           21\n",
      "DIAGNOSES_PRdgOC                18\n",
      "ISA_OCi>PR                      15\n",
      "NEG_COEXISTS_WITH_PRncwOC        4\n",
      "NEG_PRECEDES_OCnpcPR             3\n",
      "higher_than_PRhtOC               3\n",
      "STIMULATES_PRstOC                3\n",
      "NEG_DIAGNOSES_PRndgOC            2\n",
      "same_as_OCsaPR                   2\n",
      "lower_than_OCltPR                1\n",
      "PREVENTS_PRpvOC                  1\n",
      "NEG_USES_OCnuPR                  1\n",
      "NEG_AFFECTS_PRnafOC              1\n",
      "NEG_PREVENTS_PRnpvOC             1\n",
      "Name: TYPE, dtype: int64\n"
     ]
    }
   ],
   "source": [
    "combo_num = 105\n",
    "\n",
    "pair = combos[combo_num]\n",
    "\n",
    "print(pair[0], '---', pair[1], '\\n')\n",
    "print(combo_counts[combos[combo_num]])"
   ]
  },
  {
   "cell_type": "code",
   "execution_count": 156,
   "metadata": {
    "scrolled": true
   },
   "outputs": [
    {
     "name": "stdout",
     "output_type": "stream",
     "text": [
      "Organizations --- Organizations \n",
      "\n",
      "ISA_ORi>OR            606\n",
      "LOCATION_OF_ORloOR      7\n",
      "Name: TYPE, dtype: int64\n"
     ]
    }
   ],
   "source": [
    "combo_num = 106\n",
    "\n",
    "pair = combos[combo_num]\n",
    "\n",
    "print(pair[0], '---', pair[1], '\\n')\n",
    "print(combo_counts[combos[combo_num]])"
   ]
  },
  {
   "cell_type": "code",
   "execution_count": 157,
   "metadata": {
    "scrolled": false
   },
   "outputs": [
    {
     "name": "stdout",
     "output_type": "stream",
     "text": [
      "Organizations --- Phenomena \n",
      "\n",
      "LOCATION_OF_ORloPH    78\n",
      "ISA_ORi>PH             2\n",
      "ISA_PHi>OR             1\n",
      "Name: TYPE, dtype: int64\n"
     ]
    }
   ],
   "source": [
    "combo_num = 107\n",
    "\n",
    "pair = combos[combo_num]\n",
    "\n",
    "print(pair[0], '---', pair[1], '\\n')\n",
    "print(combo_counts[combos[combo_num]])"
   ]
  },
  {
   "cell_type": "code",
   "execution_count": 158,
   "metadata": {
    "scrolled": false
   },
   "outputs": [
    {
     "name": "stdout",
     "output_type": "stream",
     "text": [
      "Organizations --- Physiology \n",
      "\n",
      "LOCATION_OF_ORloPS         95\n",
      "PROCESS_OF_PSpro>OR         7\n",
      "USES_PSuOR                  3\n",
      "COEXISTS_WITH_ORcwPS        2\n",
      "NEG_LOCATION_OF_ORnloPS     1\n",
      "AFFECTS_ORafPS              1\n",
      "DISRUPTS_ORdsPS             1\n",
      "NEG_AFFECTS_ORnafPS         1\n",
      "TREATS_ORtPS                1\n",
      "Name: TYPE, dtype: int64\n"
     ]
    }
   ],
   "source": [
    "combo_num = 108\n",
    "\n",
    "pair = combos[combo_num]\n",
    "\n",
    "print(pair[0], '---', pair[1], '\\n')\n",
    "print(combo_counts[combos[combo_num]])"
   ]
  },
  {
   "cell_type": "code",
   "execution_count": 159,
   "metadata": {
    "scrolled": false
   },
   "outputs": [
    {
     "name": "stdout",
     "output_type": "stream",
     "text": [
      "Organizations --- Procedures \n",
      "\n",
      "LOCATION_OF_ORloPR         31645\n",
      "NEG_LOCATION_OF_ORnloPR      410\n",
      "USES_PRuOR                   155\n",
      "METHOD_OF_PRmoOR              25\n",
      "TREATS_PRtOR                  12\n",
      "COEXISTS_WITH_PRcwOR           4\n",
      "NEG_USES_PRnuOR                3\n",
      "ADMINISTERED_TO_PRatOR         2\n",
      "compared_with_PRcpwOR          1\n",
      "PRECEDES_PRpc>OR               1\n",
      "PRODUCES_ORpd>PR               1\n",
      "NEG_TREATS_PRntOR              1\n",
      "Name: TYPE, dtype: int64\n"
     ]
    }
   ],
   "source": [
    "combo_num = 109\n",
    "\n",
    "pair = combos[combo_num]\n",
    "\n",
    "print(pair[0], '---', pair[1], '\\n')\n",
    "print(combo_counts[combos[combo_num]])"
   ]
  },
  {
   "cell_type": "code",
   "execution_count": 160,
   "metadata": {
    "collapsed": true
   },
   "outputs": [],
   "source": [
    "# Merge these on Location_of\n",
    "to_merge = ['METHOD_OF_PRmoOR','USES_PRuOR']\n",
    "merge_edge_types(to_merge, 'LOCATION_OF_ORloPR', swap=True)"
   ]
  },
  {
   "cell_type": "code",
   "execution_count": 161,
   "metadata": {
    "scrolled": false
   },
   "outputs": [
    {
     "name": "stdout",
     "output_type": "stream",
     "text": [
      "Phenomena --- Phenomena \n",
      "\n",
      "PROCESS_OF_PHpro>PH              7416\n",
      "AFFECTS_PHafPH                   4907\n",
      "ISA_PHi>PH                        823\n",
      "NEG_AFFECTS_PHnafPH               307\n",
      "COEXISTS_WITH_PHcwPH              270\n",
      "NEG_PROCESS_OF_PHnproPH           195\n",
      "NEG_COEXISTS_WITH_PHncwPH          32\n",
      "MANIFESTATION_OF_PHmfo>PH          13\n",
      "AUGMENTS_PHagPH                     9\n",
      "DISRUPTS_PHdsPH                     5\n",
      "CAUSES_PHcPH                        4\n",
      "compared_with_PHcpwPH               2\n",
      "METHOD_OF_PHmoPH                    2\n",
      "PREDISPOSES_PHpsPH                  2\n",
      "higher_than_PHhtPH                  1\n",
      "NEG_DISRUPTS_PHndsPH                1\n",
      "NEG_MANIFESTATION_OF_PHnmfoPH       1\n",
      "TREATS_PHtPH                        1\n",
      "ASSOCIATED_WITH_PHawPH              1\n",
      "NEG_PREDISPOSES_PHnpsPH             1\n",
      "Name: TYPE, dtype: int64\n"
     ]
    }
   ],
   "source": [
    "combo_num = 110\n",
    "\n",
    "pair = combos[combo_num]\n",
    "\n",
    "print(pair[0], '---', pair[1], '\\n')\n",
    "print(combo_counts[combos[combo_num]])"
   ]
  },
  {
   "cell_type": "code",
   "execution_count": 162,
   "metadata": {
    "scrolled": false
   },
   "outputs": [
    {
     "name": "stdout",
     "output_type": "stream",
     "text": [
      "Phenomena --- Physiology \n",
      "\n",
      "AFFECTS_PHafPS                   15858\n",
      "PROCESS_OF_PSpro>PH               8443\n",
      "PROCESS_OF_PHpro>PS               4134\n",
      "NEG_AFFECTS_PHnafPS               1358\n",
      "COEXISTS_WITH_PScwPH              1053\n",
      "NEG_PROCESS_OF_PSnproPH            336\n",
      "CAUSES_PScPH                       178\n",
      "MANIFESTATION_OF_PHmfo>PS          166\n",
      "PRECEDES_PSpc>PH                    70\n",
      "ISA_PSi>PH                          62\n",
      "AUGMENTS_PHagPS                     59\n",
      "NEG_COEXISTS_WITH_PHncwPS           58\n",
      "DISRUPTS_PHdsPS                     50\n",
      "ISA_PHi>PS                          45\n",
      "PRECEDES_PHpc>PS                    21\n",
      "MANIFESTATION_OF_PSmfo>PH           10\n",
      "OCCURS_IN_PHoiPS                    10\n",
      "ASSOCIATED_WITH_PSawPH               9\n",
      "PREDISPOSES_PHpsPS                   9\n",
      "TREATS_PStPH                         6\n",
      "NEG_MANIFESTATION_OF_PHnmfoPS        6\n",
      "NEG_CAUSES_PSncPH                    6\n",
      "DIAGNOSES_PSdgPH                     4\n",
      "NEG_DISRUPTS_PHndsPS                 3\n",
      "NEG_AUGMENTS_PHnagPS                 3\n",
      "INHIBITS_PHinPS                      2\n",
      "LOCATION_OF_PSloPH                   1\n",
      "METHOD_OF_PHmoPS                     1\n",
      "PRODUCES_PSpd>PH                     1\n",
      "PRODUCES_PHpd>PS                     1\n",
      "PART_OF_PSpo>PH                      1\n",
      "Name: TYPE, dtype: int64\n"
     ]
    }
   ],
   "source": [
    "combo_num = 111\n",
    "\n",
    "pair = combos[combo_num]\n",
    "\n",
    "print(pair[0], '---', pair[1], '\\n')\n",
    "print(combo_counts[combos[combo_num]])"
   ]
  },
  {
   "cell_type": "code",
   "execution_count": 163,
   "metadata": {},
   "outputs": [],
   "source": [
    "to_merge = ['AFFECTS_PHafPS',  'PROCESS_OF_PHpro>PS']\n",
    "merge_edge_types(to_merge, 'AFFECTS_PHafPS')\n",
    "\n",
    "change_edge_type('PROCESS_OF_PSpro>PH', 'AFFECTS_PHafPS', swap=True)"
   ]
  },
  {
   "cell_type": "code",
   "execution_count": 164,
   "metadata": {
    "scrolled": false
   },
   "outputs": [
    {
     "name": "stdout",
     "output_type": "stream",
     "text": [
      "Phenomena --- Procedures \n",
      "\n",
      "TREATS_PRtPH                 1383\n",
      "AFFECTS_PRafPH               1193\n",
      "DIAGNOSES_PRdgPH              577\n",
      "METHOD_OF_PHmoPR              430\n",
      "USES_PHuPR                    204\n",
      "PRODUCES_PRpd>PH              164\n",
      "PROCESS_OF_PHpro>PR           128\n",
      "NEG_AFFECTS_PRnafPH           122\n",
      "PROCESS_OF_PRpro>PH           100\n",
      "STIMULATES_PRstPH              71\n",
      "NEG_TREATS_PRntPH              68\n",
      "PREVENTS_PRpvPH                56\n",
      "COEXISTS_WITH_PRcwPH           28\n",
      "PRECEDES_PRpc>PH               22\n",
      "NEG_DIAGNOSES_PRndgPH          16\n",
      "CAUSES_PRcPH                   13\n",
      "LOCATION_OF_PHloPR              9\n",
      "NEG_METHOD_OF_PHnmoPR           8\n",
      "COMPLICATES_PRcpPH              7\n",
      "PREDISPOSES_PRpsPH              6\n",
      "NEG_USES_PRnuPH                 6\n",
      "AUGMENTS_PRagPH                 6\n",
      "compared_with_PHcpwPR           6\n",
      "ISA_PRi>PH                      6\n",
      "NEG_PROCESS_OF_PHnproPR         5\n",
      "PRECEDES_PHpc>PR                4\n",
      "INHIBITS_PHinPR                 2\n",
      "NEG_STIMULATES_PRnstPH          2\n",
      "DISRUPTS_PRdsPH                 2\n",
      "ISA_PHi>PR                      2\n",
      "NEG_PRODUCES_PRnpdPH            1\n",
      "ASSOCIATED_WITH_PHawPR          1\n",
      "higher_than_PHhtPR              1\n",
      "NEG_PREVENTS_PRnpvPH            1\n",
      "NEG_COEXISTS_WITH_PHncwPR       1\n",
      "NEG_PRECEDES_PRnpcPH            1\n",
      "Name: TYPE, dtype: int64\n"
     ]
    }
   ],
   "source": [
    "combo_num = 112\n",
    "\n",
    "pair = combos[combo_num]\n",
    "\n",
    "print(pair[0], '---', pair[1], '\\n')\n",
    "print(combo_counts[combos[combo_num]])"
   ]
  },
  {
   "cell_type": "code",
   "execution_count": 165,
   "metadata": {
    "scrolled": false
   },
   "outputs": [
    {
     "name": "stdout",
     "output_type": "stream",
     "text": [
      "Physiology --- Physiology \n",
      "\n",
      "AFFECTS_PSafPS                   56131\n",
      "COEXISTS_WITH_PScwPS             45656\n",
      "PROCESS_OF_PSpro>PS              18340\n",
      "CAUSES_PScPS                     11676\n",
      "ISA_PSi>PS                        6247\n",
      "PRECEDES_PSpc>PS                  4853\n",
      "NEG_AFFECTS_PSnafPS               4598\n",
      "NEG_COEXISTS_WITH_PSncwPS         1679\n",
      "DISRUPTS_PSdsPS                   1422\n",
      "MANIFESTATION_OF_PSmfo>PS          926\n",
      "NEG_PROCESS_OF_PSnproPS            740\n",
      "NEG_CAUSES_PSncPS                  714\n",
      "NEG_DISRUPTS_PSndsPS                83\n",
      "AUGMENTS_PSagPS                     70\n",
      "PREDISPOSES_PSpsPS                  45\n",
      "ASSOCIATED_WITH_PSawPS              39\n",
      "NEG_PRECEDES_PSnpcPS                31\n",
      "NEG_MANIFESTATION_OF_PSnmfoPS       16\n",
      "OCCURS_IN_PSoiPS                    15\n",
      "INTERACTS_WITH_PSiwPS               13\n",
      "PRODUCES_PSpd>PS                    12\n",
      "DIAGNOSES_PSdgPS                    10\n",
      "TREATS_PStPS                         8\n",
      "compared_with_PScpwPS                7\n",
      "INHIBITS_PSinPS                      5\n",
      "STIMULATES_PSstPS                    4\n",
      "NEG_INTERACTS_WITH_PSniwPS           4\n",
      "LOCATION_OF_PSloPS                   3\n",
      "higher_than_PShtPS                   3\n",
      "METHOD_OF_PSmoPS                     3\n",
      "PREVENTS_PSpvPS                      3\n",
      "NEG_AUGMENTS_PSnagPS                 2\n",
      "NEG_ASSOCIATED_WITH_PSnawPS          2\n",
      "NEG_PREDISPOSES_PSnpsPS              2\n",
      "USES_PSuPS                           2\n",
      "NEG_DIAGNOSES_PSndgPS                2\n",
      "COMPLICATES_PScpPS                   1\n",
      "ADMINISTERED_TO_PSatPS               1\n",
      "same_as_PSsaPS                       1\n",
      "Name: TYPE, dtype: int64\n"
     ]
    }
   ],
   "source": [
    "combo_num = 113\n",
    "\n",
    "pair = combos[combo_num]\n",
    "\n",
    "print(pair[0], '---', pair[1], '\\n')\n",
    "print(combo_counts[combos[combo_num]])"
   ]
  },
  {
   "cell_type": "code",
   "execution_count": 166,
   "metadata": {
    "collapsed": true
   },
   "outputs": [],
   "source": [
    "# Just merge the tops to a general assocation\n",
    "to_merge = ['AFFECTS_PSafPS', 'CAUSES_PScPS', 'PROCESS_OF_PSpro>PS', 'COEXISTS_WITH_PScwPS', 'DISRUPTS_PSdsPS']\n",
    "merge_edge_types(to_merge, 'AFFECTS_PSafPS')"
   ]
  },
  {
   "cell_type": "code",
   "execution_count": 167,
   "metadata": {
    "scrolled": false
   },
   "outputs": [
    {
     "name": "stdout",
     "output_type": "stream",
     "text": [
      "Physiology --- Procedures \n",
      "\n",
      "AFFECTS_PRafPS                 31765\n",
      "TREATS_PRtPS                   10764\n",
      "STIMULATES_PRstPS               4891\n",
      "NEG_AFFECTS_PRnafPS             4183\n",
      "DIAGNOSES_PRdgPS                 730\n",
      "NEG_TREATS_PRntPS                592\n",
      "METHOD_OF_PRmoPS                 558\n",
      "COEXISTS_WITH_PScwPR             543\n",
      "USES_PRuPS                       430\n",
      "PRECEDES_PRpc>PS                 366\n",
      "NEG_STIMULATES_PRnstPS           356\n",
      "PROCESS_OF_PSpro>PR              309\n",
      "CAUSES_PRcPS                     280\n",
      "COMPLICATES_PRcpPS               236\n",
      "PREVENTS_PRpvPS                  189\n",
      "ADMINISTERED_TO_PRatPS           155\n",
      "PROCESS_OF_PRpro>PS              148\n",
      "DISRUPTS_PRdsPS                   99\n",
      "PREDISPOSES_PRpsPS                79\n",
      "PRECEDES_PSpc>PR                  52\n",
      "NEG_PROCESS_OF_PSnproPR           50\n",
      "NEG_DIAGNOSES_PRndgPS             46\n",
      "NEG_COEXISTS_WITH_PRncwPS         41\n",
      "AUGMENTS_PRagPS                   40\n",
      "ISA_PRi>PS                        35\n",
      "LOCATION_OF_PSloPR                25\n",
      "NEG_COMPLICATES_PRncpPS           20\n",
      "NEG_CAUSES_PRncPS                 19\n",
      "ASSOCIATED_WITH_PSawPR            18\n",
      "compared_with_PScpwPR             18\n",
      "NEG_PREDISPOSES_PRnpsPS           16\n",
      "ISA_PSi>PR                        14\n",
      "PRODUCES_PRpd>PS                  12\n",
      "MANIFESTATION_OF_PRmfo>PS         12\n",
      "NEG_PREVENTS_PRnpvPS              10\n",
      "NEG_ADMINISTERED_TO_PRnatPS        8\n",
      "NEG_METHOD_OF_PSnmoPR              8\n",
      "NEG_PRECEDES_PRnpcPS               6\n",
      "NEG_USES_PRnuPS                    5\n",
      "PRODUCES_PSpd>PR                   3\n",
      "same_as_PSsaPR                     3\n",
      "higher_than_PShtPR                 3\n",
      "MANIFESTATION_OF_PSmfo>PR          2\n",
      "NEG_INTERACTS_WITH_PRniwPS         2\n",
      "NEG_AUGMENTS_PRnagPS               2\n",
      "INHIBITS_PRinPS                    2\n",
      "lower_than_PRltPS                  2\n",
      "NEG_ASSOCIATED_WITH_PSnawPR        2\n",
      "NEG_DISRUPTS_PRndsPS               2\n",
      "PART_OF_PSpo>PR                    1\n",
      "NEG_lower_than_PSnltPR             1\n",
      "NEG_LOCATION_OF_PSnloPR            1\n",
      "Name: TYPE, dtype: int64\n"
     ]
    }
   ],
   "source": [
    "combo_num = 114\n",
    "\n",
    "pair = combos[combo_num]\n",
    "\n",
    "print(pair[0], '---', pair[1], '\\n')\n",
    "print(combo_counts[combos[combo_num]])"
   ]
  },
  {
   "cell_type": "code",
   "execution_count": 168,
   "metadata": {
    "collapsed": true
   },
   "outputs": [],
   "source": [
    "to_merge = ['AFFECTS_PRafPS', 'TREATS_PRtPS', 'STIMULATES_PRstPS']\n",
    "merge_edge_types(to_merge, 'AFFECTS_PRafPS')"
   ]
  },
  {
   "cell_type": "code",
   "execution_count": 169,
   "metadata": {
    "scrolled": false
   },
   "outputs": [
    {
     "name": "stdout",
     "output_type": "stream",
     "text": [
      "Procedures --- Procedures \n",
      "\n",
      "METHOD_OF_PRmoPR               163645\n",
      "PRECEDES_PRpc>PR                58615\n",
      "COEXISTS_WITH_PRcwPR            27740\n",
      "compared_with_PRcpwPR           26839\n",
      "USES_PRuPR                      26415\n",
      "ISA_PRi>PR                      20017\n",
      "higher_than_PRhtPR               7089\n",
      "NEG_METHOD_OF_PRnmoPR            4677\n",
      "AFFECTS_PRafPR                   2991\n",
      "same_as_PRsaPR                   1915\n",
      "lower_than_PRltPR                1733\n",
      "NEG_PRECEDES_PRnpcPR             1130\n",
      "TREATS_PRtPR                      906\n",
      "NEG_COEXISTS_WITH_PRncwPR         671\n",
      "NEG_higher_than_PRnhtPR           600\n",
      "NEG_USES_PRnuPR                   566\n",
      "DIAGNOSES_PRdgPR                  272\n",
      "NEG_AFFECTS_PRnafPR               243\n",
      "LOCATION_OF_PRloPR                157\n",
      "different_from_PRdfPR             150\n",
      "NEG_lower_than_PRnltPR             73\n",
      "NEG_TREATS_PRntPR                  52\n",
      "different_than_PRdtPR              47\n",
      "ADMINISTERED_TO_PRatPR             46\n",
      "CAUSES_PRcPR                       28\n",
      "PREVENTS_PRpvPR                    24\n",
      "NEG_DIAGNOSES_PRndgPR              18\n",
      "PROCESS_OF_PRpro>PR                 8\n",
      "PRODUCES_PRpd>PR                    3\n",
      "NEG_CAUSES_PRncPR                   3\n",
      "STIMULATES_PRstPR                   3\n",
      "COMPLICATES_PRcpPR                  2\n",
      "PREDISPOSES_PRpsPR                  2\n",
      "NEG_ADMINISTERED_TO_PRnatPR         2\n",
      "AUGMENTS_PRagPR                     1\n",
      "NEG_PREVENTS_PRnpvPR                1\n",
      "Name: TYPE, dtype: int64\n"
     ]
    }
   ],
   "source": [
    "combo_num = 115\n",
    "\n",
    "pair = combos[combo_num]\n",
    "\n",
    "print(pair[0], '---', pair[1], '\\n')\n",
    "print(combo_counts[combos[combo_num]])"
   ]
  },
  {
   "cell_type": "code",
   "execution_count": 170,
   "metadata": {
    "collapsed": true
   },
   "outputs": [],
   "source": [
    "to_merge = ['METHOD_OF_PRmoPR', 'USES_PRuPR',  'ISA_PRi>PR', 'COEXISTS_WITH_PRcwPR']\n",
    "merge_edge_types(to_merge, 'METHOD_OF_PRmoPR')"
   ]
  },
  {
   "cell_type": "code",
   "execution_count": 171,
   "metadata": {},
   "outputs": [
    {
     "data": {
      "text/plain": [
       "2874"
      ]
     },
     "execution_count": 171,
     "metadata": {},
     "output_type": "execute_result"
    }
   ],
   "source": [
    "edges['TYPE'].nunique()"
   ]
  },
  {
   "cell_type": "code",
   "execution_count": 172,
   "metadata": {},
   "outputs": [
    {
     "name": "stdout",
     "output_type": "stream",
     "text": [
      "19857710\n",
      "17730091\n"
     ]
    }
   ],
   "source": [
    "print(len(edges))\n",
    "\n",
    "# sort by pmid and keep the first so the highest number of counts is retained\n",
    "edges = edges.sort_values('pmids', ascending=False)\n",
    "edges = edges.drop_duplicates(subset=['START_ID', 'END_ID', 'TYPE'], keep='first').reset_index(drop=True)\n",
    "\n",
    "print(len(edges))"
   ]
  },
  {
   "cell_type": "code",
   "execution_count": 173,
   "metadata": {
    "collapsed": true
   },
   "outputs": [],
   "source": [
    "# Sort values before writing to disk\n",
    "nodes = nodes.sort_values('LABEL')\n",
    "edges = edges.sort_values('TYPE')\n",
    "\n",
    "# Add in colons required by neo4j\n",
    "nodes = nodes.rename(columns={'ID': ':ID', 'LABEL': ':LABEL'})\n",
    "edges = edges.rename(columns={'START_ID': ':START_ID', 'END_ID': ':END_ID', 'TYPE': ':TYPE'})\n",
    "\n",
    "nodes.to_csv('../data/nodes_condesed.csv', index=False)\n",
    "edges.to_csv('../data/edges_condesed.csv', index=False)"
   ]
  }
 ],
 "metadata": {
  "kernelspec": {
   "display_name": "Python 3",
   "language": "python",
   "name": "python3"
  },
  "language_info": {
   "codemirror_mode": {
    "name": "ipython",
    "version": 3
   },
   "file_extension": ".py",
   "mimetype": "text/x-python",
   "name": "python",
   "nbconvert_exporter": "python",
   "pygments_lexer": "ipython3",
   "version": "3.5.4"
  }
 },
 "nbformat": 4,
 "nbformat_minor": 1
}
