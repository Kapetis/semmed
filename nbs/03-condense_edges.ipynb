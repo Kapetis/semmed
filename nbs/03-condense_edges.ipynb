{
 "cells": [
  {
   "cell_type": "code",
   "execution_count": 1,
   "metadata": {
    "collapsed": true
   },
   "outputs": [],
   "source": [
    "import os\n",
    "import pickle\n",
    "%matplotlib inline\n",
    "import pandas as pd\n",
    "import seaborn as sns\n",
    "from tqdm import tqdm"
   ]
  },
  {
   "cell_type": "code",
   "execution_count": 2,
   "metadata": {
    "collapsed": true
   },
   "outputs": [],
   "source": [
    "nodes = pd.read_csv('../data/nodes.csv')\n",
    "edges = pd.read_csv('../data/edges.csv')\n",
    "\n",
    "# remove : character from column names to make them queryabke\n",
    "nodes.columns = ['ID', 'name', 'LABEL']\n",
    "edges.columns = ['START_ID', 'END_ID', 'TYPE']"
   ]
  },
  {
   "cell_type": "code",
   "execution_count": 3,
   "metadata": {},
   "outputs": [
    {
     "data": {
      "text/html": [
       "<div>\n",
       "<style>\n",
       "    .dataframe thead tr:only-child th {\n",
       "        text-align: right;\n",
       "    }\n",
       "\n",
       "    .dataframe thead th {\n",
       "        text-align: left;\n",
       "    }\n",
       "\n",
       "    .dataframe tbody tr th {\n",
       "        vertical-align: top;\n",
       "    }\n",
       "</style>\n",
       "<table border=\"1\" class=\"dataframe\">\n",
       "  <thead>\n",
       "    <tr style=\"text-align: right;\">\n",
       "      <th></th>\n",
       "      <th>ID</th>\n",
       "      <th>name</th>\n",
       "      <th>LABEL</th>\n",
       "    </tr>\n",
       "  </thead>\n",
       "  <tbody>\n",
       "    <tr>\n",
       "      <th>0</th>\n",
       "      <td>C0871898</td>\n",
       "      <td>Self Defense</td>\n",
       "      <td>Activities &amp; Behaviors</td>\n",
       "    </tr>\n",
       "    <tr>\n",
       "      <th>1</th>\n",
       "      <td>C0281991</td>\n",
       "      <td>Steroid Use</td>\n",
       "      <td>Activities &amp; Behaviors</td>\n",
       "    </tr>\n",
       "    <tr>\n",
       "      <th>2</th>\n",
       "      <td>C0336963</td>\n",
       "      <td>Mountain climbing</td>\n",
       "      <td>Activities &amp; Behaviors</td>\n",
       "    </tr>\n",
       "    <tr>\n",
       "      <th>3</th>\n",
       "      <td>C0010383</td>\n",
       "      <td>Crowding</td>\n",
       "      <td>Activities &amp; Behaviors</td>\n",
       "    </tr>\n",
       "    <tr>\n",
       "      <th>4</th>\n",
       "      <td>C1513375</td>\n",
       "      <td>Moderate Exercise</td>\n",
       "      <td>Activities &amp; Behaviors</td>\n",
       "    </tr>\n",
       "  </tbody>\n",
       "</table>\n",
       "</div>"
      ],
      "text/plain": [
       "         ID               name                   LABEL\n",
       "0  C0871898       Self Defense  Activities & Behaviors\n",
       "1  C0281991        Steroid Use  Activities & Behaviors\n",
       "2  C0336963  Mountain climbing  Activities & Behaviors\n",
       "3  C0010383           Crowding  Activities & Behaviors\n",
       "4  C1513375  Moderate Exercise  Activities & Behaviors"
      ]
     },
     "execution_count": 3,
     "metadata": {},
     "output_type": "execute_result"
    }
   ],
   "source": [
    "nodes.head()"
   ]
  },
  {
   "cell_type": "code",
   "execution_count": 4,
   "metadata": {},
   "outputs": [
    {
     "data": {
      "text/html": [
       "<div>\n",
       "<style>\n",
       "    .dataframe thead tr:only-child th {\n",
       "        text-align: right;\n",
       "    }\n",
       "\n",
       "    .dataframe thead th {\n",
       "        text-align: left;\n",
       "    }\n",
       "\n",
       "    .dataframe tbody tr th {\n",
       "        vertical-align: top;\n",
       "    }\n",
       "</style>\n",
       "<table border=\"1\" class=\"dataframe\">\n",
       "  <thead>\n",
       "    <tr style=\"text-align: right;\">\n",
       "      <th></th>\n",
       "      <th>START_ID</th>\n",
       "      <th>END_ID</th>\n",
       "      <th>TYPE</th>\n",
       "    </tr>\n",
       "  </thead>\n",
       "  <tbody>\n",
       "    <tr>\n",
       "      <th>0</th>\n",
       "      <td>C1273870</td>\n",
       "      <td>C0282623</td>\n",
       "      <td>ADMINISTERED_TO_ABatAB</td>\n",
       "    </tr>\n",
       "    <tr>\n",
       "      <th>1</th>\n",
       "      <td>C1273870</td>\n",
       "      <td>C1138603</td>\n",
       "      <td>ADMINISTERED_TO_ABatCI</td>\n",
       "    </tr>\n",
       "    <tr>\n",
       "      <th>2</th>\n",
       "      <td>C0556656</td>\n",
       "      <td>C0221192</td>\n",
       "      <td>ADMINISTERED_TO_ABatCI</td>\n",
       "    </tr>\n",
       "    <tr>\n",
       "      <th>3</th>\n",
       "      <td>C0441648</td>\n",
       "      <td>C0221192</td>\n",
       "      <td>ADMINISTERED_TO_ABatCI</td>\n",
       "    </tr>\n",
       "    <tr>\n",
       "      <th>4</th>\n",
       "      <td>C1273870</td>\n",
       "      <td>C0221192</td>\n",
       "      <td>ADMINISTERED_TO_ABatCI</td>\n",
       "    </tr>\n",
       "  </tbody>\n",
       "</table>\n",
       "</div>"
      ],
      "text/plain": [
       "   START_ID    END_ID                    TYPE\n",
       "0  C1273870  C0282623  ADMINISTERED_TO_ABatAB\n",
       "1  C1273870  C1138603  ADMINISTERED_TO_ABatCI\n",
       "2  C0556656  C0221192  ADMINISTERED_TO_ABatCI\n",
       "3  C0441648  C0221192  ADMINISTERED_TO_ABatCI\n",
       "4  C1273870  C0221192  ADMINISTERED_TO_ABatCI"
      ]
     },
     "execution_count": 4,
     "metadata": {},
     "output_type": "execute_result"
    }
   ],
   "source": [
    "edges.head()"
   ]
  },
  {
   "cell_type": "code",
   "execution_count": 5,
   "metadata": {},
   "outputs": [
    {
     "name": "stdout",
     "output_type": "stream",
     "text": [
      "20619991\n"
     ]
    },
    {
     "data": {
      "text/plain": [
       "(20619991, 3)"
      ]
     },
     "execution_count": 5,
     "metadata": {},
     "output_type": "execute_result"
    }
   ],
   "source": [
    "print(edges.shape[0])\n",
    "edges = edges.drop_duplicates()\n",
    "edges = edges.dropna()\n",
    "edges.shape"
   ]
  },
  {
   "cell_type": "markdown",
   "metadata": {
    "collapsed": true
   },
   "source": [
    "# Look at the Metagraph to see if some edges can be combined"
   ]
  },
  {
   "cell_type": "code",
   "execution_count": 12,
   "metadata": {
    "collapsed": true
   },
   "outputs": [],
   "source": [
    "def list_connections(metanode1, metanode2):\n",
    "    \n",
    "    # get the ids for the given node\n",
    "    ids1 = list(nodes.query(\"LABEL == @metanode1\")['ID'])\n",
    "    \n",
    "    # if looking at edges between the same metanode, can get edges right away\n",
    "    if metanode1 == metanode2:\n",
    "        res = edges.query('START_ID in @ids1 and END_ID in @ids1')\n",
    "    \n",
    "    else:\n",
    "        # Ids for second metanode\n",
    "        ids2 = list(nodes.query(\"LABEL == @metanode2\")['ID'])\n",
    "    \n",
    "        # \n",
    "        res1 = edges.query('START_ID in @ids1 and END_ID in @ids2')\n",
    "        res2 = edges.query('START_ID in @ids2 and END_ID in @ids1')\n",
    "    \n",
    "        res = pd.concat([res1, res2])\n",
    "    \n",
    "    return res['TYPE'].value_counts()\n",
    "    "
   ]
  },
  {
   "cell_type": "code",
   "execution_count": 7,
   "metadata": {
    "collapsed": true
   },
   "outputs": [],
   "source": [
    "id_to_type = nodes.set_index('ID')['LABEL'].to_dict()"
   ]
  },
  {
   "cell_type": "code",
   "execution_count": 9,
   "metadata": {},
   "outputs": [
    {
     "data": {
      "text/plain": [
       "116"
      ]
     },
     "execution_count": 9,
     "metadata": {},
     "output_type": "execute_result"
    }
   ],
   "source": [
    "combos = []\n",
    "for row in edges.drop_duplicates(subset='TYPE').itertuples(index=False):\n",
    "    combos.append((id_to_type[row[0]], id_to_type[row[1]]))\n",
    "combos = [tuple(sorted(c)) for c in combos]\n",
    "combos = sorted(list(set(combos)))\n",
    "len(combos)"
   ]
  },
  {
   "cell_type": "code",
   "execution_count": 10,
   "metadata": {},
   "outputs": [
    {
     "data": {
      "text/plain": [
       "[('Activities & Behaviors', 'Activities & Behaviors'),\n",
       " ('Activities & Behaviors', 'Anatomy'),\n",
       " ('Activities & Behaviors', 'Chemicals & Drugs'),\n",
       " ('Activities & Behaviors', 'Concepts & Ideas'),\n",
       " ('Activities & Behaviors', 'Devices'),\n",
       " ('Activities & Behaviors', 'Disorders'),\n",
       " ('Activities & Behaviors', 'Genes & Molecular Sequences'),\n",
       " ('Activities & Behaviors', 'Living Beings'),\n",
       " ('Activities & Behaviors', 'Objects'),\n",
       " ('Activities & Behaviors', 'Occupations'),\n",
       " ('Activities & Behaviors', 'Organizations'),\n",
       " ('Activities & Behaviors', 'Phenomena'),\n",
       " ('Activities & Behaviors', 'Physiology'),\n",
       " ('Activities & Behaviors', 'Procedures'),\n",
       " ('Anatomy', 'Anatomy'),\n",
       " ('Anatomy', 'Chemicals & Drugs'),\n",
       " ('Anatomy', 'Concepts & Ideas'),\n",
       " ('Anatomy', 'Devices'),\n",
       " ('Anatomy', 'Disorders'),\n",
       " ('Anatomy', 'Genes & Molecular Sequences'),\n",
       " ('Anatomy', 'Geographic Areas'),\n",
       " ('Anatomy', 'Living Beings'),\n",
       " ('Anatomy', 'Objects'),\n",
       " ('Anatomy', 'Occupations'),\n",
       " ('Anatomy', 'Organizations'),\n",
       " ('Anatomy', 'Phenomena'),\n",
       " ('Anatomy', 'Physiology'),\n",
       " ('Anatomy', 'Procedures'),\n",
       " ('Chemicals & Drugs', 'Chemicals & Drugs'),\n",
       " ('Chemicals & Drugs', 'Concepts & Ideas'),\n",
       " ('Chemicals & Drugs', 'Devices'),\n",
       " ('Chemicals & Drugs', 'Disorders'),\n",
       " ('Chemicals & Drugs', 'Genes & Molecular Sequences'),\n",
       " ('Chemicals & Drugs', 'Geographic Areas'),\n",
       " ('Chemicals & Drugs', 'Living Beings'),\n",
       " ('Chemicals & Drugs', 'Objects'),\n",
       " ('Chemicals & Drugs', 'Occupations'),\n",
       " ('Chemicals & Drugs', 'Organizations'),\n",
       " ('Chemicals & Drugs', 'Phenomena'),\n",
       " ('Chemicals & Drugs', 'Physiology'),\n",
       " ('Chemicals & Drugs', 'Procedures'),\n",
       " ('Concepts & Ideas', 'Concepts & Ideas'),\n",
       " ('Concepts & Ideas', 'Devices'),\n",
       " ('Concepts & Ideas', 'Disorders'),\n",
       " ('Concepts & Ideas', 'Genes & Molecular Sequences'),\n",
       " ('Concepts & Ideas', 'Geographic Areas'),\n",
       " ('Concepts & Ideas', 'Living Beings'),\n",
       " ('Concepts & Ideas', 'Objects'),\n",
       " ('Concepts & Ideas', 'Occupations'),\n",
       " ('Concepts & Ideas', 'Organizations'),\n",
       " ('Concepts & Ideas', 'Phenomena'),\n",
       " ('Concepts & Ideas', 'Physiology'),\n",
       " ('Concepts & Ideas', 'Procedures'),\n",
       " ('Devices', 'Devices'),\n",
       " ('Devices', 'Disorders'),\n",
       " ('Devices', 'Genes & Molecular Sequences'),\n",
       " ('Devices', 'Geographic Areas'),\n",
       " ('Devices', 'Living Beings'),\n",
       " ('Devices', 'Objects'),\n",
       " ('Devices', 'Occupations'),\n",
       " ('Devices', 'Organizations'),\n",
       " ('Devices', 'Phenomena'),\n",
       " ('Devices', 'Physiology'),\n",
       " ('Devices', 'Procedures'),\n",
       " ('Disorders', 'Disorders'),\n",
       " ('Disorders', 'Genes & Molecular Sequences'),\n",
       " ('Disorders', 'Geographic Areas'),\n",
       " ('Disorders', 'Living Beings'),\n",
       " ('Disorders', 'Objects'),\n",
       " ('Disorders', 'Occupations'),\n",
       " ('Disorders', 'Organizations'),\n",
       " ('Disorders', 'Phenomena'),\n",
       " ('Disorders', 'Physiology'),\n",
       " ('Disorders', 'Procedures'),\n",
       " ('Genes & Molecular Sequences', 'Genes & Molecular Sequences'),\n",
       " ('Genes & Molecular Sequences', 'Geographic Areas'),\n",
       " ('Genes & Molecular Sequences', 'Living Beings'),\n",
       " ('Genes & Molecular Sequences', 'Objects'),\n",
       " ('Genes & Molecular Sequences', 'Occupations'),\n",
       " ('Genes & Molecular Sequences', 'Organizations'),\n",
       " ('Genes & Molecular Sequences', 'Phenomena'),\n",
       " ('Genes & Molecular Sequences', 'Physiology'),\n",
       " ('Genes & Molecular Sequences', 'Procedures'),\n",
       " ('Geographic Areas', 'Geographic Areas'),\n",
       " ('Geographic Areas', 'Living Beings'),\n",
       " ('Geographic Areas', 'Phenomena'),\n",
       " ('Geographic Areas', 'Physiology'),\n",
       " ('Geographic Areas', 'Procedures'),\n",
       " ('Living Beings', 'Living Beings'),\n",
       " ('Living Beings', 'Objects'),\n",
       " ('Living Beings', 'Occupations'),\n",
       " ('Living Beings', 'Organizations'),\n",
       " ('Living Beings', 'Phenomena'),\n",
       " ('Living Beings', 'Physiology'),\n",
       " ('Living Beings', 'Procedures'),\n",
       " ('Objects', 'Objects'),\n",
       " ('Objects', 'Occupations'),\n",
       " ('Objects', 'Organizations'),\n",
       " ('Objects', 'Phenomena'),\n",
       " ('Objects', 'Physiology'),\n",
       " ('Objects', 'Procedures'),\n",
       " ('Occupations', 'Occupations'),\n",
       " ('Occupations', 'Organizations'),\n",
       " ('Occupations', 'Phenomena'),\n",
       " ('Occupations', 'Physiology'),\n",
       " ('Occupations', 'Procedures'),\n",
       " ('Organizations', 'Organizations'),\n",
       " ('Organizations', 'Phenomena'),\n",
       " ('Organizations', 'Physiology'),\n",
       " ('Organizations', 'Procedures'),\n",
       " ('Phenomena', 'Phenomena'),\n",
       " ('Phenomena', 'Physiology'),\n",
       " ('Phenomena', 'Procedures'),\n",
       " ('Physiology', 'Physiology'),\n",
       " ('Physiology', 'Procedures'),\n",
       " ('Procedures', 'Procedures')]"
      ]
     },
     "execution_count": 10,
     "metadata": {},
     "output_type": "execute_result"
    }
   ],
   "source": [
    "combos"
   ]
  },
  {
   "cell_type": "code",
   "execution_count": 13,
   "metadata": {},
   "outputs": [
    {
     "name": "stderr",
     "output_type": "stream",
     "text": [
      "100%|██████████| 116/116 [6:53:34<00:00, 170.02s/it] \n"
     ]
    }
   ],
   "source": [
    "if os.path.exists(\"../data/edge_pair_counts_orig.pkl\"):\n",
    "    combo_counts = pickle.load(open( \"../data/edge_pair_counts_orig.pkl\", \"rb\" ))\n",
    "else:\n",
    "    # This block took over 7 hours to run, pickleing for future use\n",
    "    combo_counts = dict()\n",
    "    for comb in tqdm(combos):\n",
    "        combo_counts[comb] = list_connections(comb[0], comb[1])\n",
    "    pickle.dump(combo_counts, open( \"../data/edge_pair_counts_orig.pkl\", \"wb\" ) )"
   ]
  },
  {
   "cell_type": "code",
   "execution_count": 14,
   "metadata": {
    "collapsed": true
   },
   "outputs": [],
   "source": [
    "edge_numbs = {k: len(v) for k, v in combo_counts.items()}"
   ]
  },
  {
   "cell_type": "code",
   "execution_count": 15,
   "metadata": {},
   "outputs": [
    {
     "name": "stdout",
     "output_type": "stream",
     "text": [
      "('Chemicals & Drugs', 'Disorders') : 56\n",
      "('Chemicals & Drugs', 'Procedures') : 55\n",
      "('Chemicals & Drugs', 'Concepts & Ideas') : 54\n",
      "('Chemicals & Drugs', 'Physiology') : 53\n",
      "('Disorders', 'Procedures') : 53\n",
      "('Disorders', 'Genes & Molecular Sequences') : 52\n",
      "('Genes & Molecular Sequences', 'Procedures') : 52\n",
      "('Genes & Molecular Sequences', 'Physiology') : 52\n",
      "('Chemicals & Drugs', 'Genes & Molecular Sequences') : 52\n",
      "('Physiology', 'Procedures') : 52\n",
      "('Disorders', 'Physiology') : 51\n",
      "('Concepts & Ideas', 'Genes & Molecular Sequences') : 50\n",
      "('Concepts & Ideas', 'Disorders') : 49\n",
      "('Chemicals & Drugs', 'Living Beings') : 49\n",
      "('Disorders', 'Disorders') : 48\n",
      "('Chemicals & Drugs', 'Phenomena') : 48\n",
      "('Concepts & Ideas', 'Procedures') : 46\n",
      "('Disorders', 'Living Beings') : 46\n",
      "('Chemicals & Drugs', 'Chemicals & Drugs') : 46\n",
      "('Anatomy', 'Chemicals & Drugs') : 45\n",
      "('Concepts & Ideas', 'Physiology') : 45\n",
      "('Genes & Molecular Sequences', 'Living Beings') : 43\n",
      "('Anatomy', 'Procedures') : 42\n",
      "('Living Beings', 'Physiology') : 42\n",
      "('Activities & Behaviors', 'Chemicals & Drugs') : 42\n",
      "('Living Beings', 'Procedures') : 42\n",
      "('Anatomy', 'Disorders') : 41\n",
      "('Activities & Behaviors', 'Procedures') : 40\n",
      "('Chemicals & Drugs', 'Objects') : 40\n",
      "('Disorders', 'Phenomena') : 40\n",
      "('Genes & Molecular Sequences', 'Phenomena') : 40\n",
      "('Physiology', 'Physiology') : 39\n",
      "('Activities & Behaviors', 'Disorders') : 39\n",
      "('Anatomy', 'Genes & Molecular Sequences') : 38\n",
      "('Genes & Molecular Sequences', 'Genes & Molecular Sequences') : 38\n",
      "('Chemicals & Drugs', 'Devices') : 38\n",
      "('Phenomena', 'Procedures') : 36\n",
      "('Procedures', 'Procedures') : 36\n",
      "('Concepts & Ideas', 'Phenomena') : 36\n",
      "('Concepts & Ideas', 'Living Beings') : 35\n",
      "('Devices', 'Disorders') : 35\n",
      "('Anatomy', 'Concepts & Ideas') : 35\n",
      "('Concepts & Ideas', 'Concepts & Ideas') : 35\n",
      "('Disorders', 'Objects') : 35\n",
      "('Activities & Behaviors', 'Concepts & Ideas') : 34\n",
      "('Anatomy', 'Physiology') : 34\n",
      "('Activities & Behaviors', 'Physiology') : 32\n",
      "('Phenomena', 'Physiology') : 31\n",
      "('Activities & Behaviors', 'Genes & Molecular Sequences') : 30\n",
      "('Genes & Molecular Sequences', 'Objects') : 30\n",
      "('Concepts & Ideas', 'Objects') : 30\n",
      "('Objects', 'Procedures') : 28\n",
      "('Anatomy', 'Living Beings') : 28\n",
      "('Activities & Behaviors', 'Activities & Behaviors') : 28\n",
      "('Devices', 'Procedures') : 27\n",
      "('Living Beings', 'Living Beings') : 27\n",
      "('Anatomy', 'Anatomy') : 26\n",
      "('Devices', 'Genes & Molecular Sequences') : 26\n",
      "('Living Beings', 'Phenomena') : 25\n",
      "('Disorders', 'Occupations') : 25\n",
      "('Devices', 'Physiology') : 25\n",
      "('Anatomy', 'Phenomena') : 25\n",
      "('Concepts & Ideas', 'Devices') : 24\n",
      "('Living Beings', 'Objects') : 24\n",
      "('Anatomy', 'Objects') : 24\n",
      "('Activities & Behaviors', 'Living Beings') : 24\n",
      "('Occupations', 'Procedures') : 24\n",
      "('Activities & Behaviors', 'Anatomy') : 23\n",
      "('Anatomy', 'Devices') : 23\n",
      "('Objects', 'Objects') : 22\n",
      "('Chemicals & Drugs', 'Occupations') : 22\n",
      "('Objects', 'Physiology') : 22\n",
      "('Activities & Behaviors', 'Phenomena') : 21\n",
      "('Devices', 'Living Beings') : 21\n",
      "('Activities & Behaviors', 'Objects') : 20\n",
      "('Phenomena', 'Phenomena') : 20\n",
      "('Objects', 'Phenomena') : 19\n",
      "('Devices', 'Devices') : 16\n",
      "('Activities & Behaviors', 'Devices') : 16\n",
      "('Disorders', 'Organizations') : 15\n",
      "('Living Beings', 'Occupations') : 15\n",
      "('Occupations', 'Physiology') : 14\n",
      "('Devices', 'Phenomena') : 14\n",
      "('Concepts & Ideas', 'Occupations') : 14\n",
      "('Chemicals & Drugs', 'Organizations') : 13\n",
      "('Devices', 'Objects') : 13\n",
      "('Activities & Behaviors', 'Organizations') : 12\n",
      "('Genes & Molecular Sequences', 'Occupations') : 12\n",
      "('Organizations', 'Procedures') : 12\n",
      "('Activities & Behaviors', 'Occupations') : 11\n",
      "('Concepts & Ideas', 'Organizations') : 11\n",
      "('Genes & Molecular Sequences', 'Organizations') : 10\n",
      "('Living Beings', 'Organizations') : 9\n",
      "('Organizations', 'Physiology') : 9\n",
      "('Occupations', 'Phenomena') : 9\n",
      "('Anatomy', 'Occupations') : 7\n",
      "('Disorders', 'Geographic Areas') : 6\n",
      "('Devices', 'Organizations') : 5\n",
      "('Anatomy', 'Organizations') : 5\n",
      "('Anatomy', 'Geographic Areas') : 5\n",
      "('Objects', 'Organizations') : 5\n",
      "('Geographic Areas', 'Physiology') : 4\n",
      "('Devices', 'Occupations') : 4\n",
      "('Geographic Areas', 'Living Beings') : 4\n",
      "('Occupations', 'Occupations') : 4\n",
      "('Objects', 'Occupations') : 4\n",
      "('Organizations', 'Phenomena') : 3\n",
      "('Concepts & Ideas', 'Geographic Areas') : 3\n",
      "('Geographic Areas', 'Procedures') : 3\n",
      "('Chemicals & Drugs', 'Geographic Areas') : 3\n",
      "('Organizations', 'Organizations') : 2\n",
      "('Geographic Areas', 'Phenomena') : 2\n",
      "('Genes & Molecular Sequences', 'Geographic Areas') : 2\n",
      "('Occupations', 'Organizations') : 2\n",
      "('Devices', 'Geographic Areas') : 1\n",
      "('Geographic Areas', 'Geographic Areas') : 1\n"
     ]
    }
   ],
   "source": [
    "most_to_least = sorted(list(edge_numbs.items()), key = lambda x: x[1], reverse=True)\n",
    "for item in most_to_least:\n",
    "    print(item[0], ':', item[1])"
   ]
  },
  {
   "cell_type": "code",
   "execution_count": 50,
   "metadata": {
    "collapsed": true
   },
   "outputs": [],
   "source": [
    "def change_edge_type(from_type, to_type, swap=False):\n",
    "    idx = edges.query('TYPE == @from_type').index\n",
    "    edges.loc[idx, 'TYPE'] = to_type\n",
    "    if swap:\n",
    "        tmp = edges.loc[idx, 'START_ID']\n",
    "        edges.loc[idx, 'START_ID'] = edges.loc[idx, 'END_ID']\n",
    "        edges.loc[idx, 'END_ID'] = tmp\n",
    "                                             \n",
    "def merge_edge_types(from_list, to_type, swap=False):\n",
    "    for from_type in from_list:\n",
    "        change_edge_type(from_type, to_type, swap=swap)\n",
    "        \n",
    "def drop_edges_from_list(drop_edges):\n",
    "    idx = edges.query('TYPE in @drop_edges').index\n",
    "    edges.drop(idx, inplace=True)"
   ]
  },
  {
   "cell_type": "code",
   "execution_count": 17,
   "metadata": {},
   "outputs": [
    {
     "name": "stdout",
     "output_type": "stream",
     "text": [
      "Activities & Behaviors --- Activities & Behaviors \n",
      "\n",
      "AFFECTS_ABafAB                   2467\n",
      "ISA_ABi>AB                       1738\n",
      "NEG_AFFECTS_ABnafAB               226\n",
      "METHOD_OF_ABmoAB                  147\n",
      "LOCATION_OF_ABloAB                100\n",
      "PREDISPOSES_ABpsAB                 37\n",
      "COEXISTS_WITH_ABcwAB               13\n",
      "STIMULATES_ABstAB                  12\n",
      "TREATS_ABtAB                       12\n",
      "MANIFESTATION_OF_ABmfo>AB          10\n",
      "CAUSES_ABcAB                       10\n",
      "PROCESS_OF_ABpro>AB                 6\n",
      "PREVENTS_ABpvAB                     4\n",
      "USES_ABuAB                          4\n",
      "compared_with_ABcpwAB               3\n",
      "NEG_PREDISPOSES_ABnpsAB             3\n",
      "higher_than_ABhtAB                  3\n",
      "DIAGNOSES_ABdgAB                    2\n",
      "PRECEDES_ABpc>AB                    2\n",
      "lower_than_ABltAB                   2\n",
      "NEG_LOCATION_OF_ABnloAB             2\n",
      "same_as_ABsaAB                      1\n",
      "ADMINISTERED_TO_ABatAB              1\n",
      "NEG_COEXISTS_WITH_ABncwAB           1\n",
      "different_from_ABdfAB               1\n",
      "NEG_MANIFESTATION_OF_ABnmfoAB       1\n",
      "NEG_STIMULATES_ABnstAB              1\n",
      "NEG_CAUSES_ABncAB                   1\n",
      "Name: TYPE, dtype: int64\n"
     ]
    }
   ],
   "source": [
    "combo_num = 0\n",
    "\n",
    "pair = combos[combo_num]\n",
    "\n",
    "print(pair[0], '---', pair[1], '\\n')\n",
    "print(combo_counts[combos[combo_num]])"
   ]
  },
  {
   "cell_type": "code",
   "execution_count": 20,
   "metadata": {
    "collapsed": true
   },
   "outputs": [],
   "source": [
    "# Small number of total relations, will push all edges that would modulate to AFFECTS edge \n",
    "to_merge = ['AFFECTS_ABafAB', 'PREDISPOSES_ABpsAB', 'STIMULATES_ABstAB', 'TREATS_ABtAB', 'CAUSES_ABcAB', 'PREVENTS_ABpvAB']\n",
    "merge_edge_types(to_merge, 'AFFECTS_ABafAB')"
   ]
  },
  {
   "cell_type": "code",
   "execution_count": 21,
   "metadata": {},
   "outputs": [
    {
     "name": "stdout",
     "output_type": "stream",
     "text": [
      "Activities & Behaviors --- Anatomy \n",
      "\n",
      "LOCATION_OF_AloAB         1202\n",
      "AFFECTS_AafAB               80\n",
      "ASSOCIATED_WITH_AawAB       31\n",
      "PRODUCES_ABpd>A             28\n",
      "NEG_LOCATION_OF_AnloAB      23\n",
      "TREATS_ABtA                  9\n",
      "NEG_AFFECTS_AnafAB           9\n",
      "CAUSES_AcAB                  5\n",
      "METHOD_OF_ABmoA              4\n",
      "COEXISTS_WITH_ABcwA          4\n",
      "DISRUPTS_AdsAB               4\n",
      "NEG_PRODUCES_ABnpdA          2\n",
      "PROCESS_OF_Apro>AB           2\n",
      "USES_ABuA                    2\n",
      "PREDISPOSES_ABpsA            2\n",
      "PREVENTS_ABpvA               1\n",
      "STIMULATES_ABstA             1\n",
      "PRECEDES_ABpc>A              1\n",
      "AUGMENTS_ABagA               1\n",
      "DIAGNOSES_ABdgA              1\n",
      "NEG_PREVENTS_ABnpvA          1\n",
      "PART_OF_Apo>AB               1\n",
      "NEG_TREATS_ABntA             1\n",
      "Name: TYPE, dtype: int64\n"
     ]
    }
   ],
   "source": [
    "combo_num = 1\n",
    "\n",
    "pair = combos[combo_num]\n",
    "\n",
    "print(pair[0], '---', pair[1], '\\n')\n",
    "print(combo_counts[combos[combo_num]])"
   ]
  },
  {
   "cell_type": "markdown",
   "metadata": {
    "collapsed": true
   },
   "source": [
    "Small counts here, No need to do anything, these will get dropped"
   ]
  },
  {
   "cell_type": "code",
   "execution_count": 22,
   "metadata": {},
   "outputs": [
    {
     "name": "stdout",
     "output_type": "stream",
     "text": [
      "Activities & Behaviors --- Chemicals & Drugs \n",
      "\n",
      "AFFECTS_CDafAB                 3662\n",
      "USES_ABuCD                     3637\n",
      "AUGMENTS_CDagAB                2217\n",
      "CAUSES_CDcAB                   1139\n",
      "DISRUPTS_CDdsAB                1118\n",
      "TREATS_CDtAB                    596\n",
      "ASSOCIATED_WITH_CDawAB          554\n",
      "NEG_AFFECTS_CDnafAB             521\n",
      "PRODUCES_ABpd>CD                420\n",
      "compared_with_ABcpwCD           350\n",
      "PREDISPOSES_CDpsAB              249\n",
      "PREVENTS_CDpvAB                 233\n",
      "INHIBITS_CDinAB                 232\n",
      "COEXISTS_WITH_CDcwAB            146\n",
      "METHOD_OF_ABmoCD                117\n",
      "STIMULATES_ABstCD               116\n",
      "NEG_AUGMENTS_CDnagAB            108\n",
      "higher_than_ABhtCD              100\n",
      "NEG_CAUSES_CDncAB                65\n",
      "NEG_DISRUPTS_CDndsAB             56\n",
      "NEG_USES_ABnuCD                  51\n",
      "NEG_ASSOCIATED_WITH_CDnawAB      26\n",
      "COMPLICATES_CDcpAB               24\n",
      "NEG_TREATS_CDntAB                20\n",
      "PRECEDES_CDpc>AB                 19\n",
      "lower_than_ABltCD                18\n",
      "NEG_INHIBITS_CDninAB             18\n",
      "same_as_ABsaCD                   14\n",
      "LOCATION_OF_CDloAB                9\n",
      "NEG_PREVENTS_CDnpvAB              8\n",
      "NEG_higher_than_ABnhtCD           6\n",
      "NEG_PRODUCES_ABnpdCD              6\n",
      "NEG_STIMULATES_CDnstAB            5\n",
      "INTERACTS_WITH_CDiwAB             5\n",
      "NEG_PREDISPOSES_CDnpsAB           5\n",
      "PROCESS_OF_ABpro>CD               4\n",
      "NEG_METHOD_OF_ABnmoCD             1\n",
      "PART_OF_CDpo>AB                   1\n",
      "different_than_ABdtCD             1\n",
      "NEG_COEXISTS_WITH_CDncwAB         1\n",
      "different_from_ABdfCD             1\n",
      "NEG_INTERACTS_WITH_ABniwCD        1\n",
      "Name: TYPE, dtype: int64\n"
     ]
    }
   ],
   "source": [
    "combo_num = 2\n",
    "\n",
    "pair = combos[combo_num]\n",
    "\n",
    "print(pair[0], '---', pair[1], '\\n')\n",
    "print(combo_counts[combos[combo_num]])"
   ]
  },
  {
   "cell_type": "code",
   "execution_count": 25,
   "metadata": {
    "collapsed": true
   },
   "outputs": [],
   "source": [
    "# Small numbers again, will merge to 1 type. AFFECTS for anyhthing would modulate\n",
    "\n",
    "to_merge = ['AFFECTS_CDafAB', 'AUGMENTS_CDagAB', 'CAUSES_CDcAB',\n",
    "'DISRUPTS_CDdsAB', 'TREATS_CDtAB', 'ASSOCIATED_WITH_CDawAB',\n",
    "'PREDISPOSES_CDpsAB', 'PREVENTS_CDpvAB', 'INHIBITS_CDinAB',\n",
    "'COMPLICATES_CDcpAB']\n",
    "\n",
    "merge_edge_types(to_merge, 'AFFECTS_CDafAB')"
   ]
  },
  {
   "cell_type": "code",
   "execution_count": 26,
   "metadata": {},
   "outputs": [
    {
     "name": "stdout",
     "output_type": "stream",
     "text": [
      "Activities & Behaviors --- Concepts & Ideas \n",
      "\n",
      "ISA_CIi>AB                       302\n",
      "PROCESS_OF_ABpro>CI              195\n",
      "AFFECTS_CIafAB                   189\n",
      "TREATS_ABtCI                     155\n",
      "METHOD_OF_CImoAB                  84\n",
      "ISA_ABi>CI                        59\n",
      "USES_ABuCI                        47\n",
      "CAUSES_ABcCI                      42\n",
      "OCCURS_IN_ABoiCI                  42\n",
      "PREVENTS_ABpvCI                   34\n",
      "NEG_AFFECTS_CInafAB               33\n",
      "LOCATION_OF_CIloAB                32\n",
      "COEXISTS_WITH_ABcwCI              20\n",
      "DIAGNOSES_ABdgCI                  15\n",
      "PREDISPOSES_CIpsAB                11\n",
      "NEG_TREATS_ABntCI                  9\n",
      "PROCESS_OF_CIpro>AB                8\n",
      "ADMINISTERED_TO_ABatCI             6\n",
      "STIMULATES_ABstCI                  6\n",
      "NEG_PROCESS_OF_ABnproCI            6\n",
      "MANIFESTATION_OF_CImfo>AB          4\n",
      "NEG_OCCURS_IN_ABnoiCI              4\n",
      "PRECEDES_CIpc>AB                   3\n",
      "AUGMENTS_CIagAB                    2\n",
      "MANIFESTATION_OF_ABmfo>CI          2\n",
      "PRECEDES_ABpc>CI                   1\n",
      "NEG_PREDISPOSES_CInpsAB            1\n",
      "NEG_MANIFESTATION_OF_CInmfoAB      1\n",
      "compared_with_CIcpwAB              1\n",
      "NEG_METHOD_OF_ABnmoCI              1\n",
      "ASSOCIATED_WITH_ABawCI             1\n",
      "PRODUCES_ABpd>CI                   1\n",
      "NEG_CAUSES_ABncCI                  1\n",
      "NEG_PREVENTS_ABnpvCI               1\n",
      "Name: TYPE, dtype: int64\n"
     ]
    }
   ],
   "source": [
    "combo_num = 3\n",
    "\n",
    "pair = combos[combo_num]\n",
    "\n",
    "print(pair[0], '---', pair[1], '\\n')\n",
    "print(combo_counts[combos[combo_num]])"
   ]
  },
  {
   "cell_type": "markdown",
   "metadata": {},
   "source": [
    "All way to small in number to ever make it past filtering"
   ]
  },
  {
   "cell_type": "code",
   "execution_count": 27,
   "metadata": {},
   "outputs": [
    {
     "name": "stdout",
     "output_type": "stream",
     "text": [
      "Activities & Behaviors --- Devices \n",
      "\n",
      "USES_ABuDV               493\n",
      "TREATS_DVtAB              94\n",
      "compared_with_DVcpwAB     22\n",
      "METHOD_OF_ABmoDV          18\n",
      "COEXISTS_WITH_DVcwAB      15\n",
      "NEG_USES_ABnuDV           11\n",
      "CAUSES_DVcAB              10\n",
      "PREVENTS_DVpvAB            9\n",
      "higher_than_DVhtAB         6\n",
      "LOCATION_OF_DVloAB         3\n",
      "STIMULATES_DVstAB          2\n",
      "AFFECTS_DVafAB             2\n",
      "NEG_PREVENTS_DVnpvAB       1\n",
      "PROCESS_OF_ABpro>DV        1\n",
      "NEG_METHOD_OF_DVnmoAB      1\n",
      "NEG_CAUSES_DVncAB          1\n",
      "Name: TYPE, dtype: int64\n"
     ]
    }
   ],
   "source": [
    "combo_num = 4\n",
    "\n",
    "pair = combos[combo_num]\n",
    "\n",
    "print(pair[0], '---', pair[1], '\\n')\n",
    "print(combo_counts[combos[combo_num]])"
   ]
  },
  {
   "cell_type": "code",
   "execution_count": 28,
   "metadata": {},
   "outputs": [
    {
     "name": "stdout",
     "output_type": "stream",
     "text": [
      "Activities & Behaviors --- Disorders \n",
      "\n",
      "TREATS_ABtDO                     14003\n",
      "PREDISPOSES_ABpsDO                5493\n",
      "AFFECTS_DOafAB                    4329\n",
      "PREVENTS_ABpvDO                   3315\n",
      "CAUSES_ABcDO                      2176\n",
      "COEXISTS_WITH_ABcwDO              1255\n",
      "DISRUPTS_DOdsAB                    968\n",
      "ASSOCIATED_WITH_ABawDO             784\n",
      "DIAGNOSES_ABdgDO                   651\n",
      "NEG_TREATS_ABntDO                  532\n",
      "PROCESS_OF_DOpro>AB                336\n",
      "NEG_AFFECTS_ABnafDO                319\n",
      "NEG_PREDISPOSES_DOnpsAB            289\n",
      "MANIFESTATION_OF_ABmfo>DO          216\n",
      "PROCESS_OF_ABpro>DO                132\n",
      "MANIFESTATION_OF_DOmfo>AB          128\n",
      "NEG_PREVENTS_ABnpvDO               120\n",
      "ISA_DOi>AB                         108\n",
      "ISA_ABi>DO                          78\n",
      "NEG_CAUSES_ABncDO                   72\n",
      "NEG_COEXISTS_WITH_DOncwAB           52\n",
      "PRECEDES_DOpc>AB                    32\n",
      "METHOD_OF_ABmoDO                    28\n",
      "NEG_DISRUPTS_DOndsAB                27\n",
      "NEG_ASSOCIATED_WITH_ABnawDO         23\n",
      "OCCURS_IN_ABoiDO                    21\n",
      "LOCATION_OF_DOloAB                  20\n",
      "COMPLICATES_ABcpDO                  15\n",
      "PRECEDES_ABpc>DO                    12\n",
      "NEG_PROCESS_OF_DOnproAB             11\n",
      "USES_ABuDO                           7\n",
      "NEG_MANIFESTATION_OF_DOnmfoAB        5\n",
      "STIMULATES_DOstAB                    5\n",
      "NEG_DIAGNOSES_ABndgDO                4\n",
      "ADMINISTERED_TO_ABatDO               2\n",
      "NEG_PRECEDES_ABnpcDO                 2\n",
      "NEG_METHOD_OF_DOnmoAB                1\n",
      "NEG_LOCATION_OF_DOnloAB              1\n",
      "PRODUCES_ABpd>DO                     1\n",
      "Name: TYPE, dtype: int64\n"
     ]
    }
   ],
   "source": [
    "combo_num = 5\n",
    "\n",
    "pair = combos[combo_num]\n",
    "\n",
    "print(pair[0], '---', pair[1], '\\n')\n",
    "print(combo_counts[combos[combo_num]])"
   ]
  },
  {
   "cell_type": "markdown",
   "metadata": {
    "collapsed": true
   },
   "source": [
    "Larger numbers here, will try for negative and positive regulation"
   ]
  },
  {
   "cell_type": "code",
   "execution_count": 30,
   "metadata": {
    "collapsed": true
   },
   "outputs": [],
   "source": [
    "# AB that lessens DO\n",
    "merge_edge_types(['TREATS_ABtDO',  'PREVENTS_ABpvDO', 'DIAGNOSES_ABdgDO'], 'TREATS_ABtDO')\n",
    "# AB that increases or assoc with DO\n",
    "merge_edge_types(['PREDISPOSES_ABpsDO', 'CAUSES_ABcDO',  \n",
    "                  'COEXISTS_WITH_ABcwDO', 'ASSOCIATED_WITH_ABawDO'], 'ASSOCIATED_WITH_ABawDO')\n",
    "\n",
    "# DO to AB edges\n",
    "merge_edge_types(['AFFECTS_DOafAB', 'DISRUPTS_DOdsAB'], 'AFFECTS_DOafAB')\n",
    "\n"
   ]
  },
  {
   "cell_type": "code",
   "execution_count": 31,
   "metadata": {},
   "outputs": [
    {
     "name": "stdout",
     "output_type": "stream",
     "text": [
      "Activities & Behaviors --- Genes & Molecular Sequences \n",
      "\n",
      "AFFECTS_GafAB                 1151\n",
      "USES_ABuG                      668\n",
      "ASSOCIATED_WITH_GawAB          598\n",
      "AUGMENTS_GagAB                 588\n",
      "CAUSES_GcAB                    417\n",
      "PREDISPOSES_GpsAB              319\n",
      "DISRUPTS_GdsAB                 220\n",
      "TREATS_ABtG                    167\n",
      "PRODUCES_ABpd>G                115\n",
      "compared_with_GcpwAB            77\n",
      "NEG_AFFECTS_GnafAB              72\n",
      "PREVENTS_GpvAB                  35\n",
      "NEG_ASSOCIATED_WITH_GnawAB      22\n",
      "higher_than_GhtAB               21\n",
      "COEXISTS_WITH_GcwAB             18\n",
      "NEG_AUGMENTS_GnagAB             18\n",
      "NEG_CAUSES_GncAB                14\n",
      "METHOD_OF_GmoAB                 12\n",
      "INHIBITS_GinAB                  10\n",
      "STIMULATES_GstAB                 9\n",
      "NEG_USES_ABnuG                   8\n",
      "LOCATION_OF_GloAB                5\n",
      "lower_than_GltAB                 3\n",
      "NEG_PREDISPOSES_GnpsAB           3\n",
      "NEG_DISRUPTS_GndsAB              3\n",
      "NEG_STIMULATES_GnstAB            2\n",
      "same_as_ABsaG                    1\n",
      "NEG_TREATS_GntAB                 1\n",
      "INTERACTS_WITH_ABiwG             1\n",
      "PROCESS_OF_ABpro>G               1\n",
      "Name: TYPE, dtype: int64\n"
     ]
    }
   ],
   "source": [
    "combo_num = 6\n",
    "\n",
    "pair = combos[combo_num]\n",
    "\n",
    "print(pair[0], '---', pair[1], '\\n')\n",
    "print(combo_counts[combos[combo_num]])"
   ]
  },
  {
   "cell_type": "markdown",
   "metadata": {},
   "source": [
    "All too small to matter"
   ]
  },
  {
   "cell_type": "code",
   "execution_count": 32,
   "metadata": {},
   "outputs": [
    {
     "name": "stdout",
     "output_type": "stream",
     "text": [
      "Activities & Behaviors --- Living Beings \n",
      "\n",
      "PROCESS_OF_ABpro>LB            20632\n",
      "TREATS_ABtLB                    4972\n",
      "NEG_PROCESS_OF_ABnproLB          655\n",
      "AFFECTS_ABafLB                   483\n",
      "ADMINISTERED_TO_ABatLB           400\n",
      "USES_LBuAB                       280\n",
      "NEG_TREATS_ABntLB                233\n",
      "OCCURS_IN_ABoiLB                  79\n",
      "DIAGNOSES_LBdgAB                  59\n",
      "NEG_AFFECTS_ABnafLB               37\n",
      "CAUSES_LBcAB                      35\n",
      "NEG_ADMINISTERED_TO_ABnatLB       29\n",
      "METHOD_OF_ABmoLB                  28\n",
      "LOCATION_OF_LBloAB                26\n",
      "PRODUCES_ABpd>LB                   6\n",
      "NEG_USES_LBnuAB                    4\n",
      "INTERACTS_WITH_LBiwAB              4\n",
      "NEG_CAUSES_LBncAB                  3\n",
      "PRODUCES_LBpd>AB                   3\n",
      "NEG_OCCURS_IN_ABnoiLB              2\n",
      "PREVENTS_ABpvLB                    2\n",
      "PROCESS_OF_LBpro>AB                1\n",
      "DISRUPTS_LBdsAB                    1\n",
      "NEG_ASSOCIATED_WITH_LBnawAB        1\n",
      "Name: TYPE, dtype: int64\n"
     ]
    }
   ],
   "source": [
    "combo_num = 7\n",
    "\n",
    "pair = combos[combo_num]\n",
    "\n",
    "print(pair[0], '---', pair[1], '\\n')\n",
    "print(combo_counts[combos[combo_num]])"
   ]
  },
  {
   "cell_type": "markdown",
   "metadata": {},
   "source": [
    "'process_of' here is the only potentially useable edge, but we will make undirected"
   ]
  },
  {
   "cell_type": "code",
   "execution_count": 34,
   "metadata": {
    "collapsed": true
   },
   "outputs": [],
   "source": [
    "merge_edge_types(['PROCESS_OF_ABpro>LB', 'OCCURS_IN_ABoiLB'], 'OCCURS_IN_ABoiLB')\n",
    "change_edge_type('USES_LBuAB', 'OCCURS_IN_ABoiLB', swap=True)"
   ]
  },
  {
   "cell_type": "code",
   "execution_count": 35,
   "metadata": {},
   "outputs": [
    {
     "name": "stdout",
     "output_type": "stream",
     "text": [
      "Activities & Behaviors --- Objects \n",
      "\n",
      "USES_ABuOB                 81\n",
      "LOCATION_OF_OBloAB         62\n",
      "AFFECTS_OBafAB             60\n",
      "CAUSES_OBcAB               11\n",
      "TREATS_OBtAB               10\n",
      "NEG_AFFECTS_OBnafAB         7\n",
      "METHOD_OF_OBmoAB            3\n",
      "compared_with_ABcpwOB       3\n",
      "ISA_OBi>AB                  3\n",
      "PREDISPOSES_OBpsAB          3\n",
      "NEG_USES_ABnuOB             2\n",
      "AUGMENTS_OBagAB             2\n",
      "ASSOCIATED_WITH_OBawAB      1\n",
      "NEG_LOCATION_OF_OBnloAB     1\n",
      "PART_OF_OBpo>AB             1\n",
      "same_as_ABsaOB              1\n",
      "PROCESS_OF_ABpro>OB         1\n",
      "STIMULATES_OBstAB           1\n",
      "ISA_ABi>OB                  1\n",
      "PRODUCES_ABpd>OB            1\n",
      "Name: TYPE, dtype: int64\n"
     ]
    }
   ],
   "source": [
    "combo_num = 8\n",
    "\n",
    "pair = combos[combo_num]\n",
    "\n",
    "print(pair[0], '---', pair[1], '\\n')\n",
    "print(combo_counts[combos[combo_num]])"
   ]
  },
  {
   "cell_type": "markdown",
   "metadata": {},
   "source": [
    "Too small to use"
   ]
  },
  {
   "cell_type": "code",
   "execution_count": 36,
   "metadata": {},
   "outputs": [
    {
     "name": "stdout",
     "output_type": "stream",
     "text": [
      "Activities & Behaviors --- Occupations \n",
      "\n",
      "METHOD_OF_ABmoOC          1911\n",
      "ISA_ABi>OC                  25\n",
      "NEG_METHOD_OF_ABnmoOC       20\n",
      "PROCESS_OF_ABpro>OC         18\n",
      "COEXISTS_WITH_ABcwOC         5\n",
      "TREATS_ABtOC                 4\n",
      "ISA_OCi>AB                   3\n",
      "PREVENTS_OCpvAB              1\n",
      "LOCATION_OF_ABloOC           1\n",
      "ADMINISTERED_TO_ABatOC       1\n",
      "PREDISPOSES_OCpsAB           1\n",
      "Name: TYPE, dtype: int64\n"
     ]
    }
   ],
   "source": [
    "combo_num = 9\n",
    "\n",
    "pair = combos[combo_num]\n",
    "\n",
    "print(pair[0], '---', pair[1], '\\n')\n",
    "print(combo_counts[combos[combo_num]])"
   ]
  },
  {
   "cell_type": "markdown",
   "metadata": {},
   "source": [
    "Too small"
   ]
  },
  {
   "cell_type": "code",
   "execution_count": 37,
   "metadata": {},
   "outputs": [
    {
     "name": "stdout",
     "output_type": "stream",
     "text": [
      "Activities & Behaviors --- Organizations \n",
      "\n",
      "LOCATION_OF_ORloAB           6786\n",
      "NEG_LOCATION_OF_ORnloAB        85\n",
      "ISA_ORi>AB                     55\n",
      "AFFECTS_ABafOR                 40\n",
      "ISA_ABi>OR                      6\n",
      "NEG_AFFECTS_ABnafOR             4\n",
      "PROCESS_OF_ABpro>OR             3\n",
      "PRODUCES_ORpd>AB                2\n",
      "COEXISTS_WITH_ORcwAB            2\n",
      "TREATS_ABtOR                    2\n",
      "METHOD_OF_ABmoOR                1\n",
      "NEG_COEXISTS_WITH_ORncwAB       1\n",
      "Name: TYPE, dtype: int64\n"
     ]
    }
   ],
   "source": [
    "combo_num = 10\n",
    "\n",
    "pair = combos[combo_num]\n",
    "\n",
    "print(pair[0], '---', pair[1], '\\n')\n",
    "print(combo_counts[combos[combo_num]])"
   ]
  },
  {
   "cell_type": "markdown",
   "metadata": {},
   "source": [
    "Too small"
   ]
  },
  {
   "cell_type": "code",
   "execution_count": 38,
   "metadata": {},
   "outputs": [
    {
     "name": "stdout",
     "output_type": "stream",
     "text": [
      "Activities & Behaviors --- Phenomena \n",
      "\n",
      "AFFECTS_PHafAB               288\n",
      "PROCESS_OF_ABpro>PH          188\n",
      "PROCESS_OF_PHpro>AB           94\n",
      "TREATS_ABtPH                  48\n",
      "NEG_AFFECTS_ABnafPH           28\n",
      "NEG_PROCESS_OF_PHnproAB       14\n",
      "CAUSES_ABcPH                  11\n",
      "METHOD_OF_PHmoAB              10\n",
      "COEXISTS_WITH_ABcwPH           9\n",
      "ISA_PHi>AB                     6\n",
      "ISA_ABi>PH                     5\n",
      "DIAGNOSES_ABdgPH               5\n",
      "PRECEDES_ABpc>PH               4\n",
      "PREDISPOSES_PHpsAB             3\n",
      "MANIFESTATION_OF_PHmfo>AB      3\n",
      "PREVENTS_ABpvPH                3\n",
      "NEG_TREATS_ABntPH              2\n",
      "DISRUPTS_PHdsAB                2\n",
      "STIMULATES_ABstPH              1\n",
      "LOCATION_OF_PHloAB             1\n",
      "NEG_COEXISTS_WITH_ABncwPH      1\n",
      "Name: TYPE, dtype: int64\n"
     ]
    }
   ],
   "source": [
    "combo_num = 11\n",
    "\n",
    "pair = combos[combo_num]\n",
    "\n",
    "print(pair[0], '---', pair[1], '\\n')\n",
    "print(combo_counts[combos[combo_num]])"
   ]
  },
  {
   "cell_type": "code",
   "execution_count": 39,
   "metadata": {},
   "outputs": [
    {
     "name": "stdout",
     "output_type": "stream",
     "text": [
      "Activities & Behaviors --- Physiology \n",
      "\n",
      "AFFECTS_ABafPS               1469\n",
      "COEXISTS_WITH_PScwAB          836\n",
      "PROCESS_OF_ABpro>PS           582\n",
      "TREATS_ABtPS                  210\n",
      "PROCESS_OF_PSpro>AB           195\n",
      "NEG_AFFECTS_PSnafAB           177\n",
      "PRECEDES_ABpc>PS              157\n",
      "CAUSES_PScAB                  107\n",
      "PRECEDES_PSpc>AB              100\n",
      "NEG_PROCESS_OF_ABnproPS        52\n",
      "NEG_COEXISTS_WITH_PSncwAB      51\n",
      "DISRUPTS_ABdsPS                44\n",
      "STIMULATES_ABstPS              34\n",
      "PREVENTS_ABpvPS                32\n",
      "ISA_PSi>AB                     29\n",
      "ISA_ABi>PS                     25\n",
      "PREDISPOSES_ABpsPS             22\n",
      "NEG_TREATS_ABntPS              19\n",
      "USES_PSuAB                     14\n",
      "METHOD_OF_ABmoPS               11\n",
      "MANIFESTATION_OF_ABmfo>PS      10\n",
      "MANIFESTATION_OF_PSmfo>AB       7\n",
      "NEG_CAUSES_PSncAB               5\n",
      "DIAGNOSES_ABdgPS                4\n",
      "NEG_DISRUPTS_ABndsPS            4\n",
      "NEG_PRECEDES_ABnpcPS            3\n",
      "NEG_PREDISPOSES_PSnpsAB         2\n",
      "OCCURS_IN_ABoiPS                2\n",
      "ASSOCIATED_WITH_ABawPS          2\n",
      "PRODUCES_ABpd>PS                1\n",
      "NEG_OCCURS_IN_ABnoiPS           1\n",
      "ADMINISTERED_TO_ABatPS          1\n",
      "Name: TYPE, dtype: int64\n"
     ]
    }
   ],
   "source": [
    "combo_num = 12\n",
    "\n",
    "pair = combos[combo_num]\n",
    "\n",
    "print(pair[0], '---', pair[1], '\\n')\n",
    "print(combo_counts[combos[combo_num]])"
   ]
  },
  {
   "cell_type": "code",
   "execution_count": 41,
   "metadata": {},
   "outputs": [
    {
     "name": "stdout",
     "output_type": "stream",
     "text": [
      "Activities & Behaviors --- Procedures \n",
      "\n",
      "METHOD_OF_ABmoPR             4368\n",
      "COEXISTS_WITH_ABcwPR         2112\n",
      "AFFECTS_PRafAB               1142\n",
      "STIMULATES_ABstPR             994\n",
      "USES_ABuPR                    797\n",
      "ISA_PRi>AB                    663\n",
      "TREATS_PRtAB                  300\n",
      "LOCATION_OF_PRloAB            224\n",
      "PRECEDES_PRpc>AB              202\n",
      "NEG_AFFECTS_PRnafAB           164\n",
      "DIAGNOSES_PRdgAB              163\n",
      "compared_with_ABcpwPR         121\n",
      "NEG_METHOD_OF_PRnmoAB         100\n",
      "PREVENTS_PRpvAB                89\n",
      "NEG_COEXISTS_WITH_PRncwAB      62\n",
      "NEG_STIMULATES_PRnstAB         54\n",
      "ISA_ABi>PR                     37\n",
      "higher_than_PRhtAB             30\n",
      "PRECEDES_ABpc>PR               30\n",
      "NEG_USES_ABnuPR                21\n",
      "PROCESS_OF_ABpro>PR            14\n",
      "CAUSES_ABcPR                   14\n",
      "COMPLICATES_PRcpAB             13\n",
      "NEG_TREATS_PRntAB              11\n",
      "lower_than_PRltAB               6\n",
      "NEG_LOCATION_OF_ABnloPR         5\n",
      "NEG_DIAGNOSES_PRndgAB           4\n",
      "NEG_PREVENTS_PRnpvAB            4\n",
      "NEG_higher_than_PRnhtAB         3\n",
      "DISRUPTS_PRdsAB                 3\n",
      "NEG_PRECEDES_PRnpcAB            3\n",
      "ADMINISTERED_TO_PRatAB          3\n",
      "same_as_ABsaPR                  2\n",
      "PROCESS_OF_PRpro>AB             2\n",
      "different_from_PRdfAB           1\n",
      "NEG_PROCESS_OF_ABnproPR         1\n",
      "PREDISPOSES_PRpsAB              1\n",
      "ASSOCIATED_WITH_PRawAB          1\n",
      "NEG_AUGMENTS_PRnagAB            1\n",
      "NEG_COMPLICATES_PRncpAB         1\n",
      "Name: TYPE, dtype: int64\n"
     ]
    }
   ],
   "source": [
    "combo_num = 13\n",
    "\n",
    "pair = combos[combo_num]\n",
    "\n",
    "print(pair[0], '---', pair[1], '\\n')\n",
    "print(combo_counts[combos[combo_num]])"
   ]
  },
  {
   "cell_type": "code",
   "execution_count": 42,
   "metadata": {},
   "outputs": [
    {
     "name": "stdout",
     "output_type": "stream",
     "text": [
      "Anatomy --- Anatomy \n",
      "\n",
      "PART_OF_Apo>A              202994\n",
      "LOCATION_OF_AloA            72116\n",
      "NEG_PART_OF_AnpoA            3290\n",
      "PRODUCES_Apd>A               1860\n",
      "NEG_LOCATION_OF_AnloA        1827\n",
      "AFFECTS_AafA                  142\n",
      "COEXISTS_WITH_AcwA            138\n",
      "NEG_PRODUCES_AnpdA             63\n",
      "AUGMENTS_AagA                  36\n",
      "INHIBITS_AinA                  20\n",
      "ASSOCIATED_WITH_AawA           19\n",
      "DISRUPTS_AdsA                  15\n",
      "NEG_AFFECTS_AnafA               8\n",
      "compared_with_AcpwA             7\n",
      "INTERACTS_WITH_AiwA             5\n",
      "STIMULATES_AstA                 4\n",
      "higher_than_AhtA                3\n",
      "CONVERTS_TO_Act>A               3\n",
      "NEG_COEXISTS_WITH_AncwA         2\n",
      "ADMINISTERED_TO_AatA            2\n",
      "CAUSES_AcA                      2\n",
      "lower_than_AltA                 1\n",
      "PROCESS_OF_Apro>A               1\n",
      "NEG_AUGMENTS_AnagA              1\n",
      "same_as_AsaA                    1\n",
      "different_from_AdfA             1\n",
      "Name: TYPE, dtype: int64\n"
     ]
    }
   ],
   "source": [
    "combo_num = 14\n",
    "\n",
    "pair = combos[combo_num]\n",
    "\n",
    "print(pair[0], '---', pair[1], '\\n')\n",
    "print(combo_counts[combos[combo_num]])"
   ]
  },
  {
   "cell_type": "code",
   "execution_count": 44,
   "metadata": {
    "collapsed": true
   },
   "outputs": [],
   "source": [
    "merge_edge_types(['PART_OF_Apo>A', 'LOCATION_OF_AloA'], 'LOCATION_OF_AloA')"
   ]
  },
  {
   "cell_type": "code",
   "execution_count": 45,
   "metadata": {},
   "outputs": [
    {
     "name": "stdout",
     "output_type": "stream",
     "text": [
      "Anatomy --- Chemicals & Drugs \n",
      "\n",
      "LOCATION_OF_AloCD             860360\n",
      "PART_OF_CDpo>A                325076\n",
      "AFFECTS_CDafA                 180888\n",
      "AUGMENTS_CDagA                157053\n",
      "PRODUCES_Apd>CD               108397\n",
      "DISRUPTS_CDdsA                 76820\n",
      "NEG_LOCATION_OF_AnloCD         21307\n",
      "NEG_AFFECTS_CDnafA             15580\n",
      "ADMINISTERED_TO_CDatA          12451\n",
      "NEG_PART_OF_CDnpoA              6877\n",
      "NEG_PRODUCES_AnpdCD             6827\n",
      "NEG_AUGMENTS_CDnagA             5232\n",
      "PRODUCES_CDpd>A                 3913\n",
      "NEG_DISRUPTS_CDndsA             2937\n",
      "COEXISTS_WITH_AcwCD              642\n",
      "PART_OF_Apo>CD                   334\n",
      "INTERACTS_WITH_AiwCD             324\n",
      "TREATS_CDtA                      278\n",
      "CAUSES_CDcA                      264\n",
      "ASSOCIATED_WITH_AawCD            205\n",
      "NEG_ADMINISTERED_TO_CDnatA       163\n",
      "STIMULATES_CDstA                 128\n",
      "USES_AuCD                        108\n",
      "INHIBITS_AinCD                   102\n",
      "compared_with_CDcpwA              50\n",
      "higher_than_AhtCD                 12\n",
      "NEG_INTERACTS_WITH_CDniwA         10\n",
      "NEG_CAUSES_CDncA                   8\n",
      "ISA_Ai>CD                          7\n",
      "NEG_COEXISTS_WITH_CDncwA           7\n",
      "PREVENTS_CDpvA                     7\n",
      "CONVERTS_TO_Act>CD                 6\n",
      "NEG_ASSOCIATED_WITH_CDnawA         6\n",
      "NEG_INHIBITS_CDninA                4\n",
      "ISA_CDi>A                          4\n",
      "PREDISPOSES_CDpsA                  4\n",
      "NEG_TREATS_CDntA                   3\n",
      "METHOD_OF_CDmoA                    3\n",
      "lower_than_CDltA                   3\n",
      "CONVERTS_TO_CDct>A                 3\n",
      "NEG_STIMULATES_CDnstA              3\n",
      "NEG_USES_AnuCD                     2\n",
      "PROCESS_OF_CDpro>A                 2\n",
      "PRECEDES_CDpc>A                    1\n",
      "same_as_AsaCD                      1\n",
      "Name: TYPE, dtype: int64\n"
     ]
    }
   ],
   "source": [
    "combo_num = 15\n",
    "\n",
    "pair = combos[combo_num]\n",
    "\n",
    "print(pair[0], '---', pair[1], '\\n')\n",
    "print(combo_counts[combos[combo_num]])"
   ]
  },
  {
   "cell_type": "markdown",
   "metadata": {},
   "source": [
    "We will go for two distinct types.  \n",
    "\n",
    "1. Location where CD naturally exists\n",
    "2. Location where CD has an effect"
   ]
  },
  {
   "cell_type": "code",
   "execution_count": 47,
   "metadata": {
    "collapsed": true
   },
   "outputs": [],
   "source": [
    "# Change to a localization of compound\n",
    "to_merge = ['LOCATION_OF_AloCD', 'PART_OF_CDpo>A', 'PRODUCES_Apd>CD','COEXISTS_WITH_AcwCD']\n",
    "merge_edge_types(to_merge, 'LOCATION_OF_AloCD')\n",
    "change_edge_type('PRODUCES_CDpd>A', 'LOCATION_OF_AloCD', swap=True)\n",
    " \n",
    "# Change to localization of compound's affect\n",
    "to_merge = ['AFFECTS_CDafA', 'AUGMENTS_CDagA',  'DISRUPTS_CDdsA', 'ADMINISTERED_TO_CDatA',  'TREATS_CDtA']\n",
    "merge_edge_types(to_merge, 'AFFECTS_CDafA')"
   ]
  },
  {
   "cell_type": "code",
   "execution_count": 48,
   "metadata": {},
   "outputs": [
    {
     "name": "stdout",
     "output_type": "stream",
     "text": [
      "Anatomy --- Concepts & Ideas \n",
      "\n",
      "LOCATION_OF_AloCI             33058\n",
      "NEG_LOCATION_OF_CInloA         1196\n",
      "PART_OF_CIpo>A                 1074\n",
      "PART_OF_Apo>CI                 1025\n",
      "AFFECTS_CIafA                   193\n",
      "ASSOCIATED_WITH_AawCI           146\n",
      "PROCESS_OF_CIpro>A               69\n",
      "AUGMENTS_CIagA                   47\n",
      "PRODUCES_Apd>CI                  44\n",
      "NEG_PART_OF_AnpoCI               26\n",
      "CAUSES_AcCI                      24\n",
      "DISRUPTS_CIdsA                   24\n",
      "PRODUCES_CIpd>A                  22\n",
      "NEG_AFFECTS_CInafA               14\n",
      "OCCURS_IN_AoiCI                  13\n",
      "COEXISTS_WITH_AcwCI              13\n",
      "NEG_ASSOCIATED_WITH_AnawCI       12\n",
      "PROCESS_OF_Apro>CI                9\n",
      "ADMINISTERED_TO_CIatA             7\n",
      "ISA_Ai>CI                         7\n",
      "USES_CIuA                         6\n",
      "TREATS_AtCI                       6\n",
      "DIAGNOSES_CIdgA                   5\n",
      "NEG_CAUSES_AncCI                  2\n",
      "compared_with_AcpwCI              2\n",
      "NEG_PRODUCES_AnpdCI               1\n",
      "PRECEDES_Apc>CI                   1\n",
      "PRECEDES_CIpc>A                   1\n",
      "NEG_AUGMENTS_CInagA               1\n",
      "NEG_COEXISTS_WITH_AncwCI          1\n",
      "METHOD_OF_CImoA                   1\n",
      "INHIBITS_AinCI                    1\n",
      "STIMULATES_CIstA                  1\n",
      "MANIFESTATION_OF_CImfo>A          1\n",
      "PREDISPOSES_ApsCI                 1\n",
      "Name: TYPE, dtype: int64\n"
     ]
    }
   ],
   "source": [
    "combo_num = 16\n",
    "\n",
    "pair = combos[combo_num]\n",
    "\n",
    "print(pair[0], '---', pair[1], '\\n')\n",
    "print(combo_counts[combos[combo_num]])"
   ]
  },
  {
   "cell_type": "markdown",
   "metadata": {},
   "source": [
    "Only 1 true relation here:  Location_of"
   ]
  },
  {
   "cell_type": "code",
   "execution_count": 51,
   "metadata": {
    "collapsed": true
   },
   "outputs": [],
   "source": [
    "to_merge = ['LOCATION_OF_AloCI', 'ASSOCIATED_WITH_AawCI','PRODUCES_Apd>CI', 'PART_OF_Apo>CI']\n",
    "merge_edge_types(to_merge, 'LOCATION_OF_AloCI')       \n",
    "\n",
    "to_merge = ['AFFECTS_CIafA', 'PART_OF_CIpo>A','PROCESS_OF_CIpro>A']\n",
    "merge_edge_types(to_merge, 'LOCATION_OF_AloCI', swap=True)       "
   ]
  },
  {
   "cell_type": "code",
   "execution_count": 52,
   "metadata": {
    "scrolled": false
   },
   "outputs": [
    {
     "name": "stdout",
     "output_type": "stream",
     "text": [
      "Anatomy --- Devices \n",
      "\n",
      "LOCATION_OF_AloDV         33917\n",
      "NEG_LOCATION_OF_AnloDV      433\n",
      "USES_AuDV                   126\n",
      "PART_OF_Apo>DV               97\n",
      "PART_OF_DVpo>A               71\n",
      "TREATS_DVtA                  64\n",
      "compared_with_DVcpwA         19\n",
      "AFFECTS_DVafA                 8\n",
      "CAUSES_DVcA                   7\n",
      "DISRUPTS_DVdsA                4\n",
      "AUGMENTS_DVagA                3\n",
      "PRODUCES_Apd>DV               2\n",
      "NEG_TREATS_DVntA              2\n",
      "higher_than_DVhtA             2\n",
      "NEG_PART_OF_AnpoDV            2\n",
      "METHOD_OF_DVmoA               2\n",
      "PREVENTS_DVpvA                1\n",
      "ADMINISTERED_TO_DVatA         1\n",
      "NEG_AUGMENTS_DVnagA           1\n",
      "lower_than_DVltA              1\n",
      "ASSOCIATED_WITH_AawDV         1\n",
      "NEG_USES_AnuDV                1\n",
      "COEXISTS_WITH_AcwDV           1\n",
      "Name: TYPE, dtype: int64\n"
     ]
    }
   ],
   "source": [
    "combo_num = 17\n",
    "\n",
    "pair = combos[combo_num]\n",
    "\n",
    "print(pair[0], '---', pair[1], '\\n')\n",
    "print(combo_counts[combos[combo_num]])"
   ]
  },
  {
   "cell_type": "markdown",
   "metadata": {},
   "source": [
    "Location of is the only useable edge, no merges needed"
   ]
  },
  {
   "cell_type": "code",
   "execution_count": 53,
   "metadata": {},
   "outputs": [
    {
     "name": "stdout",
     "output_type": "stream",
     "text": [
      "Anatomy --- Disorders \n",
      "\n",
      "LOCATION_OF_AloDO             500137\n",
      "PART_OF_DOpo>A                 57619\n",
      "PART_OF_Apo>DO                 20042\n",
      "AFFECTS_DOafA                  15019\n",
      "NEG_LOCATION_OF_AnloDO         10574\n",
      "ASSOCIATED_WITH_AawDO           9586\n",
      "CAUSES_AcDO                     5788\n",
      "PRODUCES_DOpd>A                 3900\n",
      "DISRUPTS_DOdsA                  1812\n",
      "NEG_PART_OF_DOnpoA               738\n",
      "COEXISTS_WITH_AcwDO              607\n",
      "NEG_AFFECTS_AnafDO               574\n",
      "PREDISPOSES_DOpsA                373\n",
      "NEG_ASSOCIATED_WITH_AnawDO       279\n",
      "NEG_CAUSES_AncDO                 200\n",
      "TREATS_AtDO                      185\n",
      "PROCESS_OF_DOpro>A               183\n",
      "AUGMENTS_AagDO                   111\n",
      "NEG_PRODUCES_DOnpdA              103\n",
      "MANIFESTATION_OF_DOmfo>A          54\n",
      "NEG_DISRUPTS_DOndsA               48\n",
      "PRODUCES_Apd>DO                   43\n",
      "DIAGNOSES_AdgDO                   40\n",
      "PREVENTS_ApvDO                    23\n",
      "PRECEDES_Apc>DO                   15\n",
      "ISA_DOi>A                         12\n",
      "NEG_PREDISPOSES_AnpsDO            12\n",
      "COMPLICATES_AcpDO                 11\n",
      "ISA_Ai>DO                         11\n",
      "NEG_COEXISTS_WITH_DOncwA           9\n",
      "PROCESS_OF_Apro>DO                 9\n",
      "PRECEDES_DOpc>A                    8\n",
      "OCCURS_IN_AoiDO                    7\n",
      "MANIFESTATION_OF_Amfo>DO           6\n",
      "NEG_TREATS_AntDO                   4\n",
      "NEG_AUGMENTS_DOnagA                3\n",
      "INTERACTS_WITH_DOiwA               2\n",
      "higher_than_DOhtA                  1\n",
      "ADMINISTERED_TO_DOatA              1\n",
      "NEG_PROCESS_OF_DOnproA             1\n",
      "compared_with_DOcpwA               1\n",
      "Name: TYPE, dtype: int64\n"
     ]
    }
   ],
   "source": [
    "combo_num = 18\n",
    "\n",
    "pair = combos[combo_num]\n",
    "\n",
    "print(pair[0], '---', pair[1], '\\n')\n",
    "print(combo_counts[combos[combo_num]])"
   ]
  },
  {
   "cell_type": "markdown",
   "metadata": {},
   "source": [
    "Several large count edges here, all will be merged to 'location_of'"
   ]
  },
  {
   "cell_type": "code",
   "execution_count": 55,
   "metadata": {
    "collapsed": true
   },
   "outputs": [],
   "source": [
    "to_merge = ['LOCATION_OF_AloDO', 'PART_OF_Apo>DO','ASSOCIATED_WITH_AawDO', 'PRODUCES_Apd>DO']\n",
    "merge_edge_types(to_merge, 'LOCATION_OF_AloDO')\n",
    "\n",
    "to_merge = ['PART_OF_DOpo>A',  'AFFECTS_DOafA', 'PROCESS_OF_DOpro>A']\n",
    "merge_edge_types(to_merge, 'LOCATION_OF_AloDO', swap=True)"
   ]
  },
  {
   "cell_type": "code",
   "execution_count": 56,
   "metadata": {
    "scrolled": false
   },
   "outputs": [
    {
     "name": "stdout",
     "output_type": "stream",
     "text": [
      "Anatomy --- Genes & Molecular Sequences \n",
      "\n",
      "LOCATION_OF_AloG             419681\n",
      "PART_OF_Gpo>A                234502\n",
      "PRODUCES_Apd>G                72412\n",
      "AFFECTS_GafA                  68662\n",
      "AUGMENTS_GagA                 68194\n",
      "DISRUPTS_GdsA                 28793\n",
      "NEG_LOCATION_OF_AnloG         10738\n",
      "NEG_PART_OF_GnpoA              4658\n",
      "NEG_PRODUCES_AnpdG             4569\n",
      "NEG_AFFECTS_GnafA              4437\n",
      "PRODUCES_Gpd>A                 2772\n",
      "ADMINISTERED_TO_GatA           2461\n",
      "NEG_AUGMENTS_GnagA             1857\n",
      "COEXISTS_WITH_GcwA             1798\n",
      "NEG_DISRUPTS_GndsA              747\n",
      "INTERACTS_WITH_AiwG             519\n",
      "INHIBITS_GinA                   127\n",
      "STIMULATES_GstA                 118\n",
      "PART_OF_Apo>G                   110\n",
      "CAUSES_GcA                      103\n",
      "ISA_Ai>G                         72\n",
      "ASSOCIATED_WITH_GawA             62\n",
      "compared_with_GcpwA              28\n",
      "TREATS_GtA                       27\n",
      "NEG_INTERACTS_WITH_GniwA         25\n",
      "USES_AuG                         22\n",
      "NEG_COEXISTS_WITH_AncwG          18\n",
      "NEG_ADMINISTERED_TO_GnatA        16\n",
      "CONVERTS_TO_Act>G                11\n",
      "higher_than_GhtA                  6\n",
      "CONVERTS_TO_Gct>A                 6\n",
      "NEG_ASSOCIATED_WITH_GnawA         3\n",
      "NEG_INHIBITS_AninG                3\n",
      "PREVENTS_GpvA                     2\n",
      "PRECEDES_Gpc>A                    2\n",
      "NEG_STIMULATES_GnstA              1\n",
      "PREDISPOSES_GpsA                  1\n",
      "NEG_CAUSES_GncA                   1\n",
      "Name: TYPE, dtype: int64\n"
     ]
    }
   ],
   "source": [
    "combo_num = 19\n",
    "\n",
    "pair = combos[combo_num]\n",
    "\n",
    "print(pair[0], '---', pair[1], '\\n')\n",
    "print(combo_counts[combos[combo_num]])"
   ]
  },
  {
   "cell_type": "markdown",
   "metadata": {},
   "source": [
    "Here we will try for 3 associations:\n",
    "\n",
    "1. Associated With (or localizes to)\n",
    "2. Positive assocation (upregulated in)\n",
    "3. Negative Association (downregulated in)"
   ]
  },
  {
   "cell_type": "code",
   "execution_count": 58,
   "metadata": {
    "collapsed": true
   },
   "outputs": [],
   "source": [
    "to_merge = ['LOCATION_OF_AloG', 'PRODUCES_Apd>G']\n",
    "merge_edge_types(to_merge, 'LOCATION_OF_AloG')\n",
    "to_merge = ['ASSOCIATED_WITH_GawA', 'COEXISTS_WITH_GcwA', 'PART_OF_Gpo>A']\n",
    "merge_edge_types(to_merge, 'LOCATION_OF_AloG', swap=True)\n",
    "\n",
    " \n",
    "to_merge = ['AFFECTS_GafA', 'AUGMENTS_GagA', 'DISRUPTS_GdsA', 'INHIBITS_GinA', 'STIMULATES_GstA']\n",
    "merge_edge_types(to_merge, 'AFFECTS_GafA')\n",
    "change_edge_type('INTERACTS_WITH_AiwG', 'AFFECTS_GafA', swap=True)\n",
    "\n",
    "\n",
    "to_merge = ['NEG_LOCATION_OF_AnloG', 'NEG_PRODUCES_AnpdG', 'NEG_COEXISTS_WITH_AncwG']\n",
    "merge_edge_types(to_merge, 'NEG_LOCATION_OF_AnloG')\n",
    "to_merge = ['NEG_ASSOCIATED_WITH_GnawA','NEG_PART_OF_GnpoA']\n",
    "merge_edge_types(to_merge, 'NEG_LOCATION_OF_AnloG', swap=True)"
   ]
  },
  {
   "cell_type": "code",
   "execution_count": 59,
   "metadata": {
    "scrolled": true
   },
   "outputs": [
    {
     "name": "stdout",
     "output_type": "stream",
     "text": [
      "Anatomy --- Geographic Areas \n",
      "\n",
      "LOCATION_OF_GAloA      26\n",
      "AFFECTS_GAafA           2\n",
      "PART_OF_Apo>GA          1\n",
      "PART_OF_GApo>A          1\n",
      "NEG_AUGMENTS_GAnagA     1\n",
      "Name: TYPE, dtype: int64\n"
     ]
    }
   ],
   "source": [
    "combo_num = 20\n",
    "\n",
    "pair = combos[combo_num]\n",
    "\n",
    "print(pair[0], '---', pair[1], '\\n')\n",
    "print(combo_counts[combos[combo_num]])"
   ]
  },
  {
   "cell_type": "markdown",
   "metadata": {},
   "source": [
    "Too Small"
   ]
  },
  {
   "cell_type": "code",
   "execution_count": 60,
   "metadata": {
    "scrolled": false
   },
   "outputs": [
    {
     "name": "stdout",
     "output_type": "stream",
     "text": [
      "Anatomy --- Living Beings \n",
      "\n",
      "PART_OF_Apo>LB                164385\n",
      "LOCATION_OF_AloLB              40804\n",
      "NEG_PART_OF_AnpoLB              1622\n",
      "NEG_LOCATION_OF_AnloLB           891\n",
      "PROCESS_OF_Apro>LB               678\n",
      "PART_OF_LBpo>A                   400\n",
      "AFFECTS_LBafA                    126\n",
      "TREATS_AtLB                       99\n",
      "ASSOCIATED_WITH_AawLB             64\n",
      "ADMINISTERED_TO_LBatA             49\n",
      "USES_LBuA                         34\n",
      "PRODUCES_Apd>LB                   32\n",
      "PRODUCES_LBpd>A                   27\n",
      "AUGMENTS_LBagA                    27\n",
      "NEG_PROCESS_OF_AnproLB            23\n",
      "OCCURS_IN_AoiLB                   18\n",
      "CAUSES_LBcA                       17\n",
      "DIAGNOSES_LBdgA                   10\n",
      "DISRUPTS_LBdsA                     8\n",
      "INTERACTS_WITH_AiwLB               8\n",
      "NEG_AFFECTS_AnafLB                 7\n",
      "COEXISTS_WITH_LBcwA                3\n",
      "ISA_Ai>LB                          2\n",
      "NEG_PRODUCES_AnpdLB                2\n",
      "NEG_TREATS_AntLB                   2\n",
      "NEG_COEXISTS_WITH_LBncwA           1\n",
      "NEG_AUGMENTS_LBnagA                1\n",
      "NEG_ADMINISTERED_TO_AnatLB         1\n",
      "Name: TYPE, dtype: int64\n"
     ]
    }
   ],
   "source": [
    "combo_num = 21\n",
    "\n",
    "pair = combos[combo_num]\n",
    "\n",
    "print(pair[0], '---', pair[1], '\\n')\n",
    "print(combo_counts[combos[combo_num]])"
   ]
  },
  {
   "cell_type": "markdown",
   "metadata": {},
   "source": [
    "After spotchecking several instantances of each of part_of and location_of;\n",
    "\n",
    "`Part_of` shows a partiuclar anatomy belongs to a particular living being  \n",
    "`Location_of` shows where a particular living being (usually a microorganism) occurs\n",
    "\n",
    "We will change Part_of to occurs_in to remove the directionality of the edge, which is unimportant for this study."
   ]
  },
  {
   "cell_type": "code",
   "execution_count": 63,
   "metadata": {
    "collapsed": true
   },
   "outputs": [],
   "source": [
    "to_merge = ['OCCURS_IN_AoiLB' 'PART_OF_Apo>LB']\n",
    "merge_edge_types(to_merge, 'OCCURS_IN_AoiLB')"
   ]
  },
  {
   "cell_type": "code",
   "execution_count": 64,
   "metadata": {
    "scrolled": false
   },
   "outputs": [
    {
     "name": "stdout",
     "output_type": "stream",
     "text": [
      "Anatomy --- Objects \n",
      "\n",
      "LOCATION_OF_AloOB         3031\n",
      "PART_OF_OBpo>A             332\n",
      "AFFECTS_OBafA              242\n",
      "AUGMENTS_OBagA             107\n",
      "PART_OF_Apo>OB              60\n",
      "DISRUPTS_OBdsA              58\n",
      "NEG_LOCATION_OF_AnloOB      39\n",
      "PRODUCES_Apd>OB             25\n",
      "NEG_AFFECTS_OBnafA          25\n",
      "USES_AuOB                   14\n",
      "ISA_Ai>OB                    4\n",
      "ADMINISTERED_TO_OBatA        3\n",
      "TREATS_OBtA                  3\n",
      "compared_with_OBcpwA         3\n",
      "NEG_PART_OF_OBnpoA           3\n",
      "INTERACTS_WITH_OBiwA         2\n",
      "PRODUCES_OBpd>A              2\n",
      "NEG_PRODUCES_AnpdOB          2\n",
      "NEG_CAUSES_OBncA             1\n",
      "NEG_AUGMENTS_OBnagA          1\n",
      "CAUSES_OBcA                  1\n",
      "higher_than_OBhtA            1\n",
      "INHIBITS_OBinA               1\n",
      "ASSOCIATED_WITH_OBawA        1\n",
      "Name: TYPE, dtype: int64\n"
     ]
    }
   ],
   "source": [
    "combo_num = 22\n",
    "\n",
    "pair = combos[combo_num]\n",
    "\n",
    "print(pair[0], '---', pair[1], '\\n')\n",
    "print(combo_counts[combos[combo_num]])"
   ]
  },
  {
   "cell_type": "markdown",
   "metadata": {},
   "source": [
    "Too small for any need"
   ]
  },
  {
   "cell_type": "code",
   "execution_count": 65,
   "metadata": {
    "scrolled": false
   },
   "outputs": [
    {
     "name": "stdout",
     "output_type": "stream",
     "text": [
      "Anatomy --- Occupations \n",
      "\n",
      "LOCATION_OF_OCloA     59\n",
      "METHOD_OF_AmoOC        7\n",
      "PART_OF_Apo>OC         3\n",
      "AFFECTS_OCafA          1\n",
      "PROCESS_OF_OCpro>A     1\n",
      "TREATS_OCtA            1\n",
      "CAUSES_AcOC            1\n",
      "Name: TYPE, dtype: int64\n"
     ]
    }
   ],
   "source": [
    "combo_num = 23\n",
    "\n",
    "pair = combos[combo_num]\n",
    "\n",
    "print(pair[0], '---', pair[1], '\\n')\n",
    "print(combo_counts[combos[combo_num]])"
   ]
  },
  {
   "cell_type": "code",
   "execution_count": 66,
   "metadata": {
    "scrolled": false
   },
   "outputs": [
    {
     "name": "stdout",
     "output_type": "stream",
     "text": [
      "Anatomy --- Organizations \n",
      "\n",
      "LOCATION_OF_AloOR    8\n",
      "PART_OF_Apo>OR       6\n",
      "PART_OF_ORpo>A       6\n",
      "AUGMENTS_ORagA       4\n",
      "NEG_USES_AnuOR       1\n",
      "Name: TYPE, dtype: int64\n"
     ]
    }
   ],
   "source": [
    "combo_num = 24\n",
    "\n",
    "pair = combos[combo_num]\n",
    "\n",
    "print(pair[0], '---', pair[1], '\\n')\n",
    "print(combo_counts[combos[combo_num]])"
   ]
  },
  {
   "cell_type": "code",
   "execution_count": 67,
   "metadata": {
    "scrolled": false
   },
   "outputs": [
    {
     "name": "stdout",
     "output_type": "stream",
     "text": [
      "Anatomy --- Phenomena \n",
      "\n",
      "LOCATION_OF_AloPH             6824\n",
      "AFFECTS_AafPH                  400\n",
      "PROCESS_OF_Apro>PH             158\n",
      "ASSOCIATED_WITH_AawPH          136\n",
      "NEG_LOCATION_OF_AnloPH         121\n",
      "PART_OF_PHpo>A                 103\n",
      "PART_OF_Apo>PH                  59\n",
      "AUGMENTS_PHagA                  53\n",
      "PRODUCES_PHpd>A                 42\n",
      "PROCESS_OF_PHpro>A              34\n",
      "NEG_AFFECTS_PHnafA              33\n",
      "DISRUPTS_PHdsA                  28\n",
      "PRODUCES_Apd>PH                 15\n",
      "CAUSES_PHcA                      9\n",
      "NEG_PROCESS_OF_AnproPH           5\n",
      "COEXISTS_WITH_AcwPH              4\n",
      "NEG_ASSOCIATED_WITH_AnawPH       3\n",
      "DIAGNOSES_PHdgA                  1\n",
      "NEG_DISRUPTS_PHndsA              1\n",
      "ISA_PHi>A                        1\n",
      "NEG_PRODUCES_PHnpdA              1\n",
      "TREATS_AtPH                      1\n",
      "MANIFESTATION_OF_PHmfo>A         1\n",
      "NEG_COEXISTS_WITH_AncwPH         1\n",
      "PREDISPOSES_ApsPH                1\n",
      "Name: TYPE, dtype: int64\n"
     ]
    }
   ],
   "source": [
    "combo_num = 25\n",
    "\n",
    "pair = combos[combo_num]\n",
    "\n",
    "print(pair[0], '---', pair[1], '\\n')\n",
    "print(combo_counts[combos[combo_num]])"
   ]
  },
  {
   "cell_type": "code",
   "execution_count": 68,
   "metadata": {
    "scrolled": false
   },
   "outputs": [
    {
     "name": "stdout",
     "output_type": "stream",
     "text": [
      "Anatomy --- Physiology \n",
      "\n",
      "AFFECTS_AafPS                 18336\n",
      "PROCESS_OF_PSpro>A             8893\n",
      "LOCATION_OF_AloPS              3490\n",
      "PRODUCES_PSpd>A                1301\n",
      "NEG_AFFECTS_AnafPS             1265\n",
      "PART_OF_PSpo>A                  459\n",
      "PART_OF_Apo>PS                  452\n",
      "ASSOCIATED_WITH_AawPS           191\n",
      "NEG_PROCESS_OF_PSnproA          167\n",
      "COEXISTS_WITH_AcwPS             145\n",
      "CAUSES_PScA                      75\n",
      "AUGMENTS_PSagA                   74\n",
      "NEG_LOCATION_OF_AnloPS           70\n",
      "PROCESS_OF_Apro>PS               67\n",
      "DISRUPTS_PSdsA                   50\n",
      "NEG_PRODUCES_PSnpdA              43\n",
      "PRODUCES_Apd>PS                  38\n",
      "PRECEDES_PSpc>A                  22\n",
      "MANIFESTATION_OF_Amfo>PS         12\n",
      "PRECEDES_Apc>PS                   9\n",
      "TREATS_AtPS                       9\n",
      "NEG_COEXISTS_WITH_AncwPS          8\n",
      "NEG_ASSOCIATED_WITH_PSnawA        6\n",
      "NEG_PART_OF_PSnpoA                6\n",
      "MANIFESTATION_OF_PSmfo>A          4\n",
      "NEG_CAUSES_AncPS                  2\n",
      "NEG_DISRUPTS_PSndsA               2\n",
      "ISA_Ai>PS                         2\n",
      "NEG_AUGMENTS_AnagPS               2\n",
      "ADMINISTERED_TO_PSatA             1\n",
      "NEG_INHIBITS_AninPS               1\n",
      "NEG_STIMULATES_AnstPS             1\n",
      "USES_AuPS                         1\n",
      "PREDISPOSES_PSpsA                 1\n",
      "Name: TYPE, dtype: int64\n"
     ]
    }
   ],
   "source": [
    "combo_num = 26\n",
    "\n",
    "pair = combos[combo_num]\n",
    "\n",
    "print(pair[0], '---', pair[1], '\\n')\n",
    "print(combo_counts[combos[combo_num]])"
   ]
  },
  {
   "cell_type": "code",
   "execution_count": 69,
   "metadata": {},
   "outputs": [
    {
     "data": {
      "text/plain": [
       "Index(['AFFECTS_AafPS', 'PROCESS_OF_PSpro>A', 'LOCATION_OF_AloPS',\n",
       "       'PRODUCES_PSpd>A', 'NEG_AFFECTS_AnafPS', 'PART_OF_PSpo>A',\n",
       "       'PART_OF_Apo>PS', 'ASSOCIATED_WITH_AawPS', 'NEG_PROCESS_OF_PSnproA',\n",
       "       'COEXISTS_WITH_AcwPS', 'CAUSES_PScA', 'AUGMENTS_PSagA',\n",
       "       'NEG_LOCATION_OF_AnloPS', 'PROCESS_OF_Apro>PS', 'DISRUPTS_PSdsA',\n",
       "       'NEG_PRODUCES_PSnpdA', 'PRODUCES_Apd>PS', 'PRECEDES_PSpc>A',\n",
       "       'MANIFESTATION_OF_Amfo>PS', 'PRECEDES_Apc>PS', 'TREATS_AtPS',\n",
       "       'NEG_COEXISTS_WITH_AncwPS', 'NEG_ASSOCIATED_WITH_PSnawA',\n",
       "       'NEG_PART_OF_PSnpoA', 'MANIFESTATION_OF_PSmfo>A', 'NEG_CAUSES_AncPS',\n",
       "       'NEG_DISRUPTS_PSndsA', 'ISA_Ai>PS', 'NEG_AUGMENTS_AnagPS',\n",
       "       'ADMINISTERED_TO_PSatA', 'NEG_INHIBITS_AninPS', 'NEG_STIMULATES_AnstPS',\n",
       "       'USES_AuPS', 'PREDISPOSES_PSpsA'],\n",
       "      dtype='object')"
      ]
     },
     "execution_count": 69,
     "metadata": {},
     "output_type": "execute_result"
    }
   ],
   "source": [
    "['AFFECTS_AafPS', 'LOCATION_OF_AloPS', 'PROCESS_OF_PSpro>A'\n",
    "'PRODUCES_PSpd>A', 'NEG_AFFECTS_AnafPS', 'PART_OF_PSpo>A',\n",
    "'PART_OF_Apo>PS', 'ASSOCIATED_WITH_AawPS', 'NEG_PROCESS_OF_PSnproA',\n",
    "'COEXISTS_WITH_AcwPS', 'CAUSES_PScA', 'AUGMENTS_PSagA',\n",
    "'NEG_LOCATION_OF_AnloPS', 'PROCESS_OF_Apro>PS', 'DISRUPTS_PSdsA',\n",
    "'NEG_PRODUCES_PSnpdA', 'PRODUCES_Apd>PS', 'PRECEDES_PSpc>A',\n",
    "'MANIFESTATION_OF_Amfo>PS', 'PRECEDES_Apc>PS', 'TREATS_AtPS',\n",
    "'NEG_COEXISTS_WITH_AncwPS', 'NEG_ASSOCIATED_WITH_PSnawA',\n",
    "'NEG_PART_OF_PSnpoA', 'MANIFESTATION_OF_PSmfo>A', 'NEG_CAUSES_AncPS',\n",
    "'NEG_DISRUPTS_PSndsA', 'ISA_Ai>PS', 'NEG_AUGMENTS_AnagPS',\n",
    "'ADMINISTERED_TO_PSatA', 'NEG_INHIBITS_AninPS', 'NEG_STIMULATES_AnstPS',\n",
    "'USES_AuPS', 'PREDISPOSES_PSpsA']"
   ]
  },
  {
   "cell_type": "code",
   "execution_count": 71,
   "metadata": {},
   "outputs": [
    {
     "data": {
      "text/html": [
       "<div>\n",
       "<style>\n",
       "    .dataframe thead tr:only-child th {\n",
       "        text-align: right;\n",
       "    }\n",
       "\n",
       "    .dataframe thead th {\n",
       "        text-align: left;\n",
       "    }\n",
       "\n",
       "    .dataframe tbody tr th {\n",
       "        vertical-align: top;\n",
       "    }\n",
       "</style>\n",
       "<table border=\"1\" class=\"dataframe\">\n",
       "  <thead>\n",
       "    <tr style=\"text-align: right;\">\n",
       "      <th></th>\n",
       "      <th>START_ID</th>\n",
       "      <th>END_ID</th>\n",
       "      <th>TYPE</th>\n",
       "    </tr>\n",
       "  </thead>\n",
       "  <tbody>\n",
       "    <tr>\n",
       "      <th>183392</th>\n",
       "      <td>C1179962</td>\n",
       "      <td>C1516334</td>\n",
       "      <td>AFFECTS_AafPS</td>\n",
       "    </tr>\n",
       "    <tr>\n",
       "      <th>183393</th>\n",
       "      <td>C0025979</td>\n",
       "      <td>C1160107</td>\n",
       "      <td>AFFECTS_AafPS</td>\n",
       "    </tr>\n",
       "    <tr>\n",
       "      <th>183394</th>\n",
       "      <td>C0014239</td>\n",
       "      <td>C1154402</td>\n",
       "      <td>AFFECTS_AafPS</td>\n",
       "    </tr>\n",
       "    <tr>\n",
       "      <th>183395</th>\n",
       "      <td>C0085262</td>\n",
       "      <td>C0015283</td>\n",
       "      <td>AFFECTS_AafPS</td>\n",
       "    </tr>\n",
       "    <tr>\n",
       "      <th>183396</th>\n",
       "      <td>C0037863</td>\n",
       "      <td>C0037864</td>\n",
       "      <td>AFFECTS_AafPS</td>\n",
       "    </tr>\n",
       "    <tr>\n",
       "      <th>183397</th>\n",
       "      <td>C1167250</td>\n",
       "      <td>C0301872</td>\n",
       "      <td>AFFECTS_AafPS</td>\n",
       "    </tr>\n",
       "    <tr>\n",
       "      <th>183398</th>\n",
       "      <td>C0040578</td>\n",
       "      <td>C0243144</td>\n",
       "      <td>AFFECTS_AafPS</td>\n",
       "    </tr>\n",
       "    <tr>\n",
       "      <th>183399</th>\n",
       "      <td>C0038250</td>\n",
       "      <td>C0007620</td>\n",
       "      <td>AFFECTS_AafPS</td>\n",
       "    </tr>\n",
       "    <tr>\n",
       "      <th>183400</th>\n",
       "      <td>C1518439</td>\n",
       "      <td>C0037083</td>\n",
       "      <td>AFFECTS_AafPS</td>\n",
       "    </tr>\n",
       "    <tr>\n",
       "      <th>183401</th>\n",
       "      <td>C0230931</td>\n",
       "      <td>C0016243</td>\n",
       "      <td>AFFECTS_AafPS</td>\n",
       "    </tr>\n",
       "    <tr>\n",
       "      <th>183402</th>\n",
       "      <td>C0014239</td>\n",
       "      <td>C0025251</td>\n",
       "      <td>AFFECTS_AafPS</td>\n",
       "    </tr>\n",
       "    <tr>\n",
       "      <th>183403</th>\n",
       "      <td>C0085187</td>\n",
       "      <td>C0302167</td>\n",
       "      <td>AFFECTS_AafPS</td>\n",
       "    </tr>\n",
       "    <tr>\n",
       "      <th>183404</th>\n",
       "      <td>C0682523</td>\n",
       "      <td>C0007595</td>\n",
       "      <td>AFFECTS_AafPS</td>\n",
       "    </tr>\n",
       "    <tr>\n",
       "      <th>183405</th>\n",
       "      <td>C0887944</td>\n",
       "      <td>C0599896</td>\n",
       "      <td>AFFECTS_AafPS</td>\n",
       "    </tr>\n",
       "    <tr>\n",
       "      <th>183406</th>\n",
       "      <td>C0040578</td>\n",
       "      <td>C1514503</td>\n",
       "      <td>AFFECTS_AafPS</td>\n",
       "    </tr>\n",
       "    <tr>\n",
       "      <th>183407</th>\n",
       "      <td>C0008520</td>\n",
       "      <td>C0597170</td>\n",
       "      <td>AFFECTS_AafPS</td>\n",
       "    </tr>\n",
       "    <tr>\n",
       "      <th>183408</th>\n",
       "      <td>C1518275</td>\n",
       "      <td>C1154413</td>\n",
       "      <td>AFFECTS_AafPS</td>\n",
       "    </tr>\n",
       "    <tr>\n",
       "      <th>183409</th>\n",
       "      <td>C0022688</td>\n",
       "      <td>C0596290</td>\n",
       "      <td>AFFECTS_AafPS</td>\n",
       "    </tr>\n",
       "    <tr>\n",
       "      <th>183410</th>\n",
       "      <td>C0596901</td>\n",
       "      <td>C0869026</td>\n",
       "      <td>AFFECTS_AafPS</td>\n",
       "    </tr>\n",
       "    <tr>\n",
       "      <th>183411</th>\n",
       "      <td>C0525009</td>\n",
       "      <td>C0031843</td>\n",
       "      <td>AFFECTS_AafPS</td>\n",
       "    </tr>\n",
       "    <tr>\n",
       "      <th>183412</th>\n",
       "      <td>C0031346</td>\n",
       "      <td>C0871359</td>\n",
       "      <td>AFFECTS_AafPS</td>\n",
       "    </tr>\n",
       "    <tr>\n",
       "      <th>183413</th>\n",
       "      <td>C1321301</td>\n",
       "      <td>C1260960</td>\n",
       "      <td>AFFECTS_AafPS</td>\n",
       "    </tr>\n",
       "    <tr>\n",
       "      <th>183414</th>\n",
       "      <td>C1167331</td>\n",
       "      <td>C0599894</td>\n",
       "      <td>AFFECTS_AafPS</td>\n",
       "    </tr>\n",
       "    <tr>\n",
       "      <th>183415</th>\n",
       "      <td>C1325596</td>\n",
       "      <td>C0040711</td>\n",
       "      <td>AFFECTS_AafPS</td>\n",
       "    </tr>\n",
       "    <tr>\n",
       "      <th>183416</th>\n",
       "      <td>C1166607</td>\n",
       "      <td>C0011065</td>\n",
       "      <td>AFFECTS_AafPS</td>\n",
       "    </tr>\n",
       "    <tr>\n",
       "      <th>183417</th>\n",
       "      <td>C1167322</td>\n",
       "      <td>C0544683</td>\n",
       "      <td>AFFECTS_AafPS</td>\n",
       "    </tr>\n",
       "    <tr>\n",
       "      <th>183418</th>\n",
       "      <td>C1518997</td>\n",
       "      <td>C0301896</td>\n",
       "      <td>AFFECTS_AafPS</td>\n",
       "    </tr>\n",
       "    <tr>\n",
       "      <th>183419</th>\n",
       "      <td>C0025979</td>\n",
       "      <td>C0027793</td>\n",
       "      <td>AFFECTS_AafPS</td>\n",
       "    </tr>\n",
       "    <tr>\n",
       "      <th>183420</th>\n",
       "      <td>C1167317</td>\n",
       "      <td>C0015283</td>\n",
       "      <td>AFFECTS_AafPS</td>\n",
       "    </tr>\n",
       "    <tr>\n",
       "      <th>183421</th>\n",
       "      <td>C0230770</td>\n",
       "      <td>C0026649</td>\n",
       "      <td>AFFECTS_AafPS</td>\n",
       "    </tr>\n",
       "    <tr>\n",
       "      <th>...</th>\n",
       "      <td>...</td>\n",
       "      <td>...</td>\n",
       "      <td>...</td>\n",
       "    </tr>\n",
       "    <tr>\n",
       "      <th>201698</th>\n",
       "      <td>C0221284</td>\n",
       "      <td>C0007582</td>\n",
       "      <td>AFFECTS_AafPS</td>\n",
       "    </tr>\n",
       "    <tr>\n",
       "      <th>201699</th>\n",
       "      <td>C1278908</td>\n",
       "      <td>C0035203</td>\n",
       "      <td>AFFECTS_AafPS</td>\n",
       "    </tr>\n",
       "    <tr>\n",
       "      <th>201700</th>\n",
       "      <td>C0037993</td>\n",
       "      <td>C0751982</td>\n",
       "      <td>AFFECTS_AafPS</td>\n",
       "    </tr>\n",
       "    <tr>\n",
       "      <th>201701</th>\n",
       "      <td>C0025148</td>\n",
       "      <td>C0442696</td>\n",
       "      <td>AFFECTS_AafPS</td>\n",
       "    </tr>\n",
       "    <tr>\n",
       "      <th>201702</th>\n",
       "      <td>C0596901</td>\n",
       "      <td>C1155631</td>\n",
       "      <td>AFFECTS_AafPS</td>\n",
       "    </tr>\n",
       "    <tr>\n",
       "      <th>201703</th>\n",
       "      <td>C0007634</td>\n",
       "      <td>C0007588</td>\n",
       "      <td>AFFECTS_AafPS</td>\n",
       "    </tr>\n",
       "    <tr>\n",
       "      <th>201704</th>\n",
       "      <td>C0008266</td>\n",
       "      <td>C0596074</td>\n",
       "      <td>AFFECTS_AafPS</td>\n",
       "    </tr>\n",
       "    <tr>\n",
       "      <th>201705</th>\n",
       "      <td>C0805525</td>\n",
       "      <td>C0018131</td>\n",
       "      <td>AFFECTS_AafPS</td>\n",
       "    </tr>\n",
       "    <tr>\n",
       "      <th>201706</th>\n",
       "      <td>C0008668</td>\n",
       "      <td>C0018951</td>\n",
       "      <td>AFFECTS_AafPS</td>\n",
       "    </tr>\n",
       "    <tr>\n",
       "      <th>201707</th>\n",
       "      <td>C0026237</td>\n",
       "      <td>C0000934</td>\n",
       "      <td>AFFECTS_AafPS</td>\n",
       "    </tr>\n",
       "    <tr>\n",
       "      <th>201708</th>\n",
       "      <td>C1113654</td>\n",
       "      <td>C1515672</td>\n",
       "      <td>AFFECTS_AafPS</td>\n",
       "    </tr>\n",
       "    <tr>\n",
       "      <th>201709</th>\n",
       "      <td>C1268455</td>\n",
       "      <td>C0021826</td>\n",
       "      <td>AFFECTS_AafPS</td>\n",
       "    </tr>\n",
       "    <tr>\n",
       "      <th>201710</th>\n",
       "      <td>C0175996</td>\n",
       "      <td>C1160681</td>\n",
       "      <td>AFFECTS_AafPS</td>\n",
       "    </tr>\n",
       "    <tr>\n",
       "      <th>201711</th>\n",
       "      <td>C0020663</td>\n",
       "      <td>C0031843</td>\n",
       "      <td>AFFECTS_AafPS</td>\n",
       "    </tr>\n",
       "    <tr>\n",
       "      <th>201712</th>\n",
       "      <td>C0026973</td>\n",
       "      <td>C1523857</td>\n",
       "      <td>AFFECTS_AafPS</td>\n",
       "    </tr>\n",
       "    <tr>\n",
       "      <th>201713</th>\n",
       "      <td>C1563924</td>\n",
       "      <td>C0007587</td>\n",
       "      <td>AFFECTS_AafPS</td>\n",
       "    </tr>\n",
       "    <tr>\n",
       "      <th>201714</th>\n",
       "      <td>C0038856</td>\n",
       "      <td>C0008018</td>\n",
       "      <td>AFFECTS_AafPS</td>\n",
       "    </tr>\n",
       "    <tr>\n",
       "      <th>201715</th>\n",
       "      <td>C0014597</td>\n",
       "      <td>C0599894</td>\n",
       "      <td>AFFECTS_AafPS</td>\n",
       "    </tr>\n",
       "    <tr>\n",
       "      <th>201716</th>\n",
       "      <td>C0036087</td>\n",
       "      <td>C0032174</td>\n",
       "      <td>AFFECTS_AafPS</td>\n",
       "    </tr>\n",
       "    <tr>\n",
       "      <th>201717</th>\n",
       "      <td>C0021358</td>\n",
       "      <td>C0232896</td>\n",
       "      <td>AFFECTS_AafPS</td>\n",
       "    </tr>\n",
       "    <tr>\n",
       "      <th>201718</th>\n",
       "      <td>C0230518</td>\n",
       "      <td>C0544888</td>\n",
       "      <td>AFFECTS_AafPS</td>\n",
       "    </tr>\n",
       "    <tr>\n",
       "      <th>201719</th>\n",
       "      <td>C0175217</td>\n",
       "      <td>C0149784</td>\n",
       "      <td>AFFECTS_AafPS</td>\n",
       "    </tr>\n",
       "    <tr>\n",
       "      <th>201720</th>\n",
       "      <td>C0376604</td>\n",
       "      <td>C1325901</td>\n",
       "      <td>AFFECTS_AafPS</td>\n",
       "    </tr>\n",
       "    <tr>\n",
       "      <th>201721</th>\n",
       "      <td>C1167322</td>\n",
       "      <td>C0596897</td>\n",
       "      <td>AFFECTS_AafPS</td>\n",
       "    </tr>\n",
       "    <tr>\n",
       "      <th>201722</th>\n",
       "      <td>C1517186</td>\n",
       "      <td>C1158507</td>\n",
       "      <td>AFFECTS_AafPS</td>\n",
       "    </tr>\n",
       "    <tr>\n",
       "      <th>201723</th>\n",
       "      <td>C0007603</td>\n",
       "      <td>C0312542</td>\n",
       "      <td>AFFECTS_AafPS</td>\n",
       "    </tr>\n",
       "    <tr>\n",
       "      <th>201724</th>\n",
       "      <td>C0175996</td>\n",
       "      <td>C1516334</td>\n",
       "      <td>AFFECTS_AafPS</td>\n",
       "    </tr>\n",
       "    <tr>\n",
       "      <th>201725</th>\n",
       "      <td>C0026029</td>\n",
       "      <td>C0301626</td>\n",
       "      <td>AFFECTS_AafPS</td>\n",
       "    </tr>\n",
       "    <tr>\n",
       "      <th>201726</th>\n",
       "      <td>C0026240</td>\n",
       "      <td>C1372398</td>\n",
       "      <td>AFFECTS_AafPS</td>\n",
       "    </tr>\n",
       "    <tr>\n",
       "      <th>201727</th>\n",
       "      <td>C1166848</td>\n",
       "      <td>C1160185</td>\n",
       "      <td>AFFECTS_AafPS</td>\n",
       "    </tr>\n",
       "  </tbody>\n",
       "</table>\n",
       "<p>18336 rows × 3 columns</p>\n",
       "</div>"
      ],
      "text/plain": [
       "        START_ID    END_ID           TYPE\n",
       "183392  C1179962  C1516334  AFFECTS_AafPS\n",
       "183393  C0025979  C1160107  AFFECTS_AafPS\n",
       "183394  C0014239  C1154402  AFFECTS_AafPS\n",
       "183395  C0085262  C0015283  AFFECTS_AafPS\n",
       "183396  C0037863  C0037864  AFFECTS_AafPS\n",
       "183397  C1167250  C0301872  AFFECTS_AafPS\n",
       "183398  C0040578  C0243144  AFFECTS_AafPS\n",
       "183399  C0038250  C0007620  AFFECTS_AafPS\n",
       "183400  C1518439  C0037083  AFFECTS_AafPS\n",
       "183401  C0230931  C0016243  AFFECTS_AafPS\n",
       "183402  C0014239  C0025251  AFFECTS_AafPS\n",
       "183403  C0085187  C0302167  AFFECTS_AafPS\n",
       "183404  C0682523  C0007595  AFFECTS_AafPS\n",
       "183405  C0887944  C0599896  AFFECTS_AafPS\n",
       "183406  C0040578  C1514503  AFFECTS_AafPS\n",
       "183407  C0008520  C0597170  AFFECTS_AafPS\n",
       "183408  C1518275  C1154413  AFFECTS_AafPS\n",
       "183409  C0022688  C0596290  AFFECTS_AafPS\n",
       "183410  C0596901  C0869026  AFFECTS_AafPS\n",
       "183411  C0525009  C0031843  AFFECTS_AafPS\n",
       "183412  C0031346  C0871359  AFFECTS_AafPS\n",
       "183413  C1321301  C1260960  AFFECTS_AafPS\n",
       "183414  C1167331  C0599894  AFFECTS_AafPS\n",
       "183415  C1325596  C0040711  AFFECTS_AafPS\n",
       "183416  C1166607  C0011065  AFFECTS_AafPS\n",
       "183417  C1167322  C0544683  AFFECTS_AafPS\n",
       "183418  C1518997  C0301896  AFFECTS_AafPS\n",
       "183419  C0025979  C0027793  AFFECTS_AafPS\n",
       "183420  C1167317  C0015283  AFFECTS_AafPS\n",
       "183421  C0230770  C0026649  AFFECTS_AafPS\n",
       "...          ...       ...            ...\n",
       "201698  C0221284  C0007582  AFFECTS_AafPS\n",
       "201699  C1278908  C0035203  AFFECTS_AafPS\n",
       "201700  C0037993  C0751982  AFFECTS_AafPS\n",
       "201701  C0025148  C0442696  AFFECTS_AafPS\n",
       "201702  C0596901  C1155631  AFFECTS_AafPS\n",
       "201703  C0007634  C0007588  AFFECTS_AafPS\n",
       "201704  C0008266  C0596074  AFFECTS_AafPS\n",
       "201705  C0805525  C0018131  AFFECTS_AafPS\n",
       "201706  C0008668  C0018951  AFFECTS_AafPS\n",
       "201707  C0026237  C0000934  AFFECTS_AafPS\n",
       "201708  C1113654  C1515672  AFFECTS_AafPS\n",
       "201709  C1268455  C0021826  AFFECTS_AafPS\n",
       "201710  C0175996  C1160681  AFFECTS_AafPS\n",
       "201711  C0020663  C0031843  AFFECTS_AafPS\n",
       "201712  C0026973  C1523857  AFFECTS_AafPS\n",
       "201713  C1563924  C0007587  AFFECTS_AafPS\n",
       "201714  C0038856  C0008018  AFFECTS_AafPS\n",
       "201715  C0014597  C0599894  AFFECTS_AafPS\n",
       "201716  C0036087  C0032174  AFFECTS_AafPS\n",
       "201717  C0021358  C0232896  AFFECTS_AafPS\n",
       "201718  C0230518  C0544888  AFFECTS_AafPS\n",
       "201719  C0175217  C0149784  AFFECTS_AafPS\n",
       "201720  C0376604  C1325901  AFFECTS_AafPS\n",
       "201721  C1167322  C0596897  AFFECTS_AafPS\n",
       "201722  C1517186  C1158507  AFFECTS_AafPS\n",
       "201723  C0007603  C0312542  AFFECTS_AafPS\n",
       "201724  C0175996  C1516334  AFFECTS_AafPS\n",
       "201725  C0026029  C0301626  AFFECTS_AafPS\n",
       "201726  C0026240  C1372398  AFFECTS_AafPS\n",
       "201727  C1166848  C1160185  AFFECTS_AafPS\n",
       "\n",
       "[18336 rows x 3 columns]"
      ]
     },
     "execution_count": 71,
     "metadata": {},
     "output_type": "execute_result"
    }
   ],
   "source": [
    "edges.query('TYPE == \"AFFECTS_AafPS\"')"
   ]
  },
  {
   "cell_type": "code",
   "execution_count": null,
   "metadata": {
    "collapsed": true
   },
   "outputs": [],
   "source": []
  }
 ],
 "metadata": {
  "kernelspec": {
   "display_name": "Python 3",
   "language": "python",
   "name": "python3"
  },
  "language_info": {
   "codemirror_mode": {
    "name": "ipython",
    "version": 3
   },
   "file_extension": ".py",
   "mimetype": "text/x-python",
   "name": "python",
   "nbconvert_exporter": "python",
   "pygments_lexer": "ipython3",
   "version": "3.5.4"
  }
 },
 "nbformat": 4,
 "nbformat_minor": 1
}
