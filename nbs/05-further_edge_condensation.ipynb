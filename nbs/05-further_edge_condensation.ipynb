{
 "cells": [
  {
   "cell_type": "code",
   "execution_count": 1,
   "metadata": {
    "collapsed": true
   },
   "outputs": [],
   "source": [
    "import sys\n",
    "sys.path.append('../../hetnet-ml/src')\n",
    "\n",
    "import pandas as pd\n",
    "import graph_tools as gt\n",
    "from hetio.hetnet import MetaGraph"
   ]
  },
  {
   "cell_type": "code",
   "execution_count": 2,
   "metadata": {
    "collapsed": true
   },
   "outputs": [],
   "source": [
    "def num_metapaths(nodes, edges):\n",
    "    abv, met = gt.get_abbrev_dict_and_edge_tuples(gt.add_colons(nodes), gt.add_colons(edges))\n",
    "    return len(MetaGraph.from_edge_tuples(met, abv).extract_metapaths('Chemicals & Drugs', 'Disorders', 4))"
   ]
  },
  {
   "cell_type": "code",
   "execution_count": 3,
   "metadata": {
    "collapsed": true
   },
   "outputs": [],
   "source": [
    "nodes = gt.remove_colons(pd.read_csv('../data/nodes_condensed_filtered_001.csv'))\n",
    "edges = gt.remove_colons(pd.read_csv('../data/edges_condensed_filtered_001.csv', converters={'pmids':eval}))"
   ]
  },
  {
   "cell_type": "code",
   "execution_count": 4,
   "metadata": {},
   "outputs": [
    {
     "data": {
      "text/plain": [
       "23231"
      ]
     },
     "execution_count": 4,
     "metadata": {},
     "output_type": "execute_result"
    }
   ],
   "source": [
    "num_metapaths(nodes, edges)"
   ]
  },
  {
   "cell_type": "markdown",
   "metadata": {
    "collapsed": true
   },
   "source": [
    "Right now we have 23,231 potential metapahts of length 4 or fewer. With a very modest 4000 Compounds and 2000 diseases, this will produces over 185 Billion Degree-Weighted-Path-Count values upon feature extraction.  \n",
    "\n",
    "Removal of some edges is necesary. Compound-Compound, Disease-Disease, and Compound-Disease edges have the greatest impact computational complexity and memory use during the metapah feature extraction by ballooning the potnetial number of metapaths.  These will be targetd for removal first.\n",
    "\n",
    "A couple other edge types which are not very semanticly meaningful, but highly populated, will also be removed.\n",
    "\n",
    "Finally, directed edges produce twice as many metapaths as undirected edges, as you can traverse them in the forward or reverse direction.  Some of these directed edges may be repurposed into undirected edges.\n",
    "\n",
    "- REMOVE EDGES:\n",
    "    - Compound AW Disease\n",
    "    - Compound AG Disease\n",
    "    - ASSOCIATED_WITH_CDawCD\n",
    "    - ASSOCIATED_WITH_CDawDO\n",
    "    - AUGMENTS_DOag>DO\n",
    "    - PART_OF_Gpo>G\n",
    "    - NEG_LOCATION_OF_AnloCD \n",
    "    - NEG_LOCATION_OF_AnloG \n",
    "    - compared_with_PRcfpwPR\n",
    "\n",
    "Some nodes really have little to do with bio-medical knowledge and these will also be removed.\n",
    "\n",
    "- REMOVE NODES:\n",
    "    - Organizations\n",
    "    - Activities & Behaviors\n",
    "    - Concepts & Ideas\n",
    "\n",
    "Other nodes seem like they may or may not have much to do with biomedicine.  These will be examined for possible removal as well.\n",
    "   \n",
    "- LOOK AT NODES (for potential removal):\n",
    "    - Devices\n",
    "    - Phenomena\n",
    "    - Living Beings\n",
    "    - Procedures\n",
    "\n",
    "Finally, targeting edges that produce large numbers of extra metapaths, some edges will be further condensed in semmantic type.\n",
    "\n",
    "- COMPRESS EDGES:\n",
    "    - Self-referential: compound, gene, and disease edges   \n",
    "    - Any 2 metanodes connected by 4 or more edge types"
   ]
  },
  {
   "cell_type": "markdown",
   "metadata": {},
   "source": [
    "### Removing 'Organizations', 'Activities & Behaviors', and 'Concepts & Ideas'"
   ]
  },
  {
   "cell_type": "code",
   "execution_count": 6,
   "metadata": {},
   "outputs": [],
   "source": [
    "remove_types = ['Organizations', 'Activities & Behaviors', 'Concepts & Ideas']\n",
    "idx = gt.remove_colons(nodes).query('label in @remove_types').index\n",
    "nodes.drop(idx, inplace=True)"
   ]
  },
  {
   "cell_type": "code",
   "execution_count": 8,
   "metadata": {},
   "outputs": [],
   "source": [
    "ok_ids = nodes['id'].unique()\n",
    "edges = edges.query('start_id in @ok_ids and end_id in @ok_ids')"
   ]
  },
  {
   "cell_type": "code",
   "execution_count": 9,
   "metadata": {},
   "outputs": [
    {
     "data": {
      "text/plain": [
       "23218"
      ]
     },
     "execution_count": 9,
     "metadata": {},
     "output_type": "execute_result"
    }
   ],
   "source": [
    "num_metapaths(nodes, edges)"
   ]
  },
  {
   "cell_type": "markdown",
   "metadata": {},
   "source": [
    "### Begin dropping the edges no longer desired"
   ]
  },
  {
   "cell_type": "code",
   "execution_count": 10,
   "metadata": {
    "collapsed": true
   },
   "outputs": [],
   "source": [
    "def change_edge_type(df, from_type, to_type, swap=False):\n",
    "    idx = df.query('type == @from_type').index\n",
    "    df.loc[idx, 'type'] = to_type\n",
    "    if swap:\n",
    "        tmp = df.loc[idx, 'start_id']\n",
    "        df.loc[idx, 'start_id'] = df.loc[idx, 'end_id']\n",
    "        df.loc[idx, 'end_id'] = tmp\n",
    "                                             \n",
    "def merge_edge_types(df, from_list, to_type, swap=False):\n",
    "    for from_type in from_list:\n",
    "        change_edge_type(df, from_type, to_type, swap=swap)\n",
    "\n",
    "def drop_edges_from_list(df, drop_list):\n",
    "    idx = df.query('type in @drop_list').index\n",
    "    df.drop(idx, inplace=True)"
   ]
  },
  {
   "cell_type": "code",
   "execution_count": 11,
   "metadata": {
    "collapsed": true
   },
   "outputs": [],
   "source": [
    "drop = ['NEG_LOCATION_OF_AnloCD', 'NEG_LOCATION_OF_AnloG', 'compared_with_PRcfpwPR']"
   ]
  },
  {
   "cell_type": "code",
   "execution_count": 12,
   "metadata": {
    "collapsed": true
   },
   "outputs": [],
   "source": [
    "drop_edges_from_list(edges, drop)"
   ]
  },
  {
   "cell_type": "code",
   "execution_count": 13,
   "metadata": {},
   "outputs": [
    {
     "data": {
      "text/plain": [
       "21603"
      ]
     },
     "execution_count": 13,
     "metadata": {},
     "output_type": "execute_result"
    }
   ],
   "source": [
    "num_metapaths(nodes, edges)"
   ]
  },
  {
   "cell_type": "code",
   "execution_count": 14,
   "metadata": {},
   "outputs": [
    {
     "data": {
      "text/plain": [
       "14773"
      ]
     },
     "execution_count": 14,
     "metadata": {},
     "output_type": "execute_result"
    }
   ],
   "source": [
    "drop = ['ASSOCIATED_WITH_CDawDO', 'AUGMENTS_CDagDO']\n",
    "drop_edges_from_list(edges, drop)\n",
    "num_metapaths(nodes, edges)"
   ]
  },
  {
   "cell_type": "code",
   "execution_count": 15,
   "metadata": {
    "collapsed": true
   },
   "outputs": [],
   "source": [
    "# The associated-with edges in these contexts don't appear to be very meaningufl\n",
    "to_drop = ['ASSOCIATED_WITH_CDawCD', 'ASSOCIATED_WITH_CDawDO',  'AUGMENTS_DOag>DO', 'PART_OF_Gpo>G']\n",
    "drop_edges_from_list(edges, to_drop)\n",
    "\n",
    "# These edges could be combined into a simple regulates edge\n",
    "to_merge = ['STIMULATES_CDst>CD', 'INHIBITS_CDinCD']\n",
    "merge_edge_types(edges, to_merge, 'REGULATES_CDreg>CD')\n",
    "\n",
    "# See previous comment\n",
    "to_merge = ['STIMULATES_Gst>G', 'INHIBITS_GinG']\n",
    "merge_edge_types(edges, to_merge, 'REGULATES_Greg>G')\n",
    "\n",
    "# These should just be the same... too many differeing self-referental edges on diseases\n",
    "merge_edge_types(edges, ['ISA_DOi>DO', 'ASSOCIATED_WITH_DOawDO'], 'ASSOCIATED_WITH_DOawDO')\n",
    "\n",
    "# make this edge undirected for fewer metapaths.\n",
    "change_edge_type(edges, 'ISA_CDi>CD', 'RELATED_TO_CDrtCD')"
   ]
  },
  {
   "cell_type": "code",
   "execution_count": 16,
   "metadata": {},
   "outputs": [
    {
     "data": {
      "text/plain": [
       "7889"
      ]
     },
     "execution_count": 16,
     "metadata": {},
     "output_type": "execute_result"
    }
   ],
   "source": [
    "num_metapaths(nodes, edges)"
   ]
  },
  {
   "cell_type": "code",
   "execution_count": 17,
   "metadata": {
    "collapsed": true
   },
   "outputs": [],
   "source": [
    "both = gt.combine_nodes_and_edges(gt.add_colons(nodes), gt.add_colons(edges))"
   ]
  },
  {
   "cell_type": "code",
   "execution_count": 18,
   "metadata": {},
   "outputs": [
    {
     "data": {
      "text/html": [
       "<div>\n",
       "<style>\n",
       "    .dataframe thead tr:only-child th {\n",
       "        text-align: right;\n",
       "    }\n",
       "\n",
       "    .dataframe thead th {\n",
       "        text-align: left;\n",
       "    }\n",
       "\n",
       "    .dataframe tbody tr th {\n",
       "        vertical-align: top;\n",
       "    }\n",
       "</style>\n",
       "<table border=\"1\" class=\"dataframe\">\n",
       "  <thead>\n",
       "    <tr style=\"text-align: right;\">\n",
       "      <th></th>\n",
       "      <th>:START_ID</th>\n",
       "      <th>:END_ID</th>\n",
       "      <th>:TYPE</th>\n",
       "      <th>pmids</th>\n",
       "      <th>n_pmids</th>\n",
       "      <th>start_name</th>\n",
       "      <th>end_name</th>\n",
       "      <th>start_label</th>\n",
       "      <th>end_label</th>\n",
       "    </tr>\n",
       "  </thead>\n",
       "  <tbody>\n",
       "    <tr>\n",
       "      <th>0</th>\n",
       "      <td>C0041361</td>\n",
       "      <td>C0025920</td>\n",
       "      <td>ADMINISTERED_TO_CDatLB</td>\n",
       "      <td>{6642564}</td>\n",
       "      <td>1</td>\n",
       "      <td>Tumor Antigens</td>\n",
       "      <td>Mice, Inbred C3H</td>\n",
       "      <td>Chemicals &amp; Drugs</td>\n",
       "      <td>Living Beings</td>\n",
       "    </tr>\n",
       "    <tr>\n",
       "      <th>1</th>\n",
       "      <td>C0022924</td>\n",
       "      <td>C1123019</td>\n",
       "      <td>ADMINISTERED_TO_CDatLB</td>\n",
       "      <td>{7364689}</td>\n",
       "      <td>1</td>\n",
       "      <td>Lactates</td>\n",
       "      <td>Domestic Sheep</td>\n",
       "      <td>Chemicals &amp; Drugs</td>\n",
       "      <td>Living Beings</td>\n",
       "    </tr>\n",
       "    <tr>\n",
       "      <th>2</th>\n",
       "      <td>C0030827</td>\n",
       "      <td>C0031831</td>\n",
       "      <td>ADMINISTERED_TO_CDatLB</td>\n",
       "      <td>{8757705}</td>\n",
       "      <td>1</td>\n",
       "      <td>Penicillin G</td>\n",
       "      <td>Physicians</td>\n",
       "      <td>Chemicals &amp; Drugs</td>\n",
       "      <td>Living Beings</td>\n",
       "    </tr>\n",
       "    <tr>\n",
       "      <th>3</th>\n",
       "      <td>C0301532</td>\n",
       "      <td>C0031831</td>\n",
       "      <td>ADMINISTERED_TO_CDatLB</td>\n",
       "      <td>{8179050, 18774045}</td>\n",
       "      <td>2</td>\n",
       "      <td>Multivitamin preparation</td>\n",
       "      <td>Physicians</td>\n",
       "      <td>Chemicals &amp; Drugs</td>\n",
       "      <td>Living Beings</td>\n",
       "    </tr>\n",
       "    <tr>\n",
       "      <th>4</th>\n",
       "      <td>C0729237</td>\n",
       "      <td>C0012984</td>\n",
       "      <td>ADMINISTERED_TO_CDatLB</td>\n",
       "      <td>{1827854}</td>\n",
       "      <td>1</td>\n",
       "      <td>Photofrin II</td>\n",
       "      <td>Canis familiaris</td>\n",
       "      <td>Chemicals &amp; Drugs</td>\n",
       "      <td>Living Beings</td>\n",
       "    </tr>\n",
       "  </tbody>\n",
       "</table>\n",
       "</div>"
      ],
      "text/plain": [
       "  :START_ID   :END_ID                   :TYPE                pmids  n_pmids  \\\n",
       "0  C0041361  C0025920  ADMINISTERED_TO_CDatLB            {6642564}        1   \n",
       "1  C0022924  C1123019  ADMINISTERED_TO_CDatLB            {7364689}        1   \n",
       "2  C0030827  C0031831  ADMINISTERED_TO_CDatLB            {8757705}        1   \n",
       "3  C0301532  C0031831  ADMINISTERED_TO_CDatLB  {8179050, 18774045}        2   \n",
       "4  C0729237  C0012984  ADMINISTERED_TO_CDatLB            {1827854}        1   \n",
       "\n",
       "                 start_name          end_name        start_label  \\\n",
       "0            Tumor Antigens  Mice, Inbred C3H  Chemicals & Drugs   \n",
       "1                  Lactates    Domestic Sheep  Chemicals & Drugs   \n",
       "2              Penicillin G        Physicians  Chemicals & Drugs   \n",
       "3  Multivitamin preparation        Physicians  Chemicals & Drugs   \n",
       "4              Photofrin II  Canis familiaris  Chemicals & Drugs   \n",
       "\n",
       "       end_label  \n",
       "0  Living Beings  \n",
       "1  Living Beings  \n",
       "2  Living Beings  \n",
       "3  Living Beings  \n",
       "4  Living Beings  "
      ]
     },
     "execution_count": 18,
     "metadata": {},
     "output_type": "execute_result"
    }
   ],
   "source": [
    "both.head()"
   ]
  },
  {
   "cell_type": "code",
   "execution_count": 23,
   "metadata": {
    "scrolled": false
   },
   "outputs": [],
   "source": [
    "previews = []\n",
    "for sem in ['Devices', 'Phenomena', 'Living Beings', 'Procedures']:\n",
    "    previews.append(both.query('start_label == @sem or end_label == @sem').sample(10))"
   ]
  },
  {
   "cell_type": "code",
   "execution_count": 24,
   "metadata": {},
   "outputs": [
    {
     "data": {
      "text/html": [
       "<div>\n",
       "<style>\n",
       "    .dataframe thead tr:only-child th {\n",
       "        text-align: right;\n",
       "    }\n",
       "\n",
       "    .dataframe thead th {\n",
       "        text-align: left;\n",
       "    }\n",
       "\n",
       "    .dataframe tbody tr th {\n",
       "        vertical-align: top;\n",
       "    }\n",
       "</style>\n",
       "<table border=\"1\" class=\"dataframe\">\n",
       "  <thead>\n",
       "    <tr style=\"text-align: right;\">\n",
       "      <th></th>\n",
       "      <th>:START_ID</th>\n",
       "      <th>:END_ID</th>\n",
       "      <th>:TYPE</th>\n",
       "      <th>pmids</th>\n",
       "      <th>n_pmids</th>\n",
       "      <th>start_name</th>\n",
       "      <th>end_name</th>\n",
       "      <th>start_label</th>\n",
       "      <th>end_label</th>\n",
       "    </tr>\n",
       "  </thead>\n",
       "  <tbody>\n",
       "    <tr>\n",
       "      <th>14931305</th>\n",
       "      <td>C0183346</td>\n",
       "      <td>C0026056</td>\n",
       "      <td>USES_DVuCD</td>\n",
       "      <td>{21057337}</td>\n",
       "      <td>1</td>\n",
       "      <td>Sling, device</td>\n",
       "      <td>Midazolam</td>\n",
       "      <td>Devices</td>\n",
       "      <td>Chemicals &amp; Drugs</td>\n",
       "    </tr>\n",
       "    <tr>\n",
       "      <th>15253818</th>\n",
       "      <td>C0038136</td>\n",
       "      <td>C0183432</td>\n",
       "      <td>USES_PRuDV</td>\n",
       "      <td>{25657587, 25880766}</td>\n",
       "      <td>2</td>\n",
       "      <td>Standardization</td>\n",
       "      <td>Mercury sphygmomanometer</td>\n",
       "      <td>Procedures</td>\n",
       "      <td>Devices</td>\n",
       "    </tr>\n",
       "    <tr>\n",
       "      <th>14398937</th>\n",
       "      <td>C0180202</td>\n",
       "      <td>C0027651</td>\n",
       "      <td>TREATS_DVtDO</td>\n",
       "      <td>{12729775}</td>\n",
       "      <td>1</td>\n",
       "      <td>Cryostats</td>\n",
       "      <td>Neoplasm</td>\n",
       "      <td>Devices</td>\n",
       "      <td>Disorders</td>\n",
       "    </tr>\n",
       "    <tr>\n",
       "      <th>15250568</th>\n",
       "      <td>C0014098</td>\n",
       "      <td>C0175649</td>\n",
       "      <td>USES_PRuDV</td>\n",
       "      <td>{7218601, 25490369}</td>\n",
       "      <td>2</td>\n",
       "      <td>Endarterectomy</td>\n",
       "      <td>Prosthesis</td>\n",
       "      <td>Procedures</td>\n",
       "      <td>Devices</td>\n",
       "    </tr>\n",
       "    <tr>\n",
       "      <th>15263685</th>\n",
       "      <td>C0204229</td>\n",
       "      <td>C0600199</td>\n",
       "      <td>USES_PRuDV</td>\n",
       "      <td>{784958}</td>\n",
       "      <td>1</td>\n",
       "      <td>Restoration, resin</td>\n",
       "      <td>Cavity Liner, Dental</td>\n",
       "      <td>Procedures</td>\n",
       "      <td>Devices</td>\n",
       "    </tr>\n",
       "    <tr>\n",
       "      <th>15252226</th>\n",
       "      <td>C0013806</td>\n",
       "      <td>C0021102</td>\n",
       "      <td>USES_PRuDV</td>\n",
       "      <td>{21816465}</td>\n",
       "      <td>1</td>\n",
       "      <td>Electroconvulsive Therapy</td>\n",
       "      <td>Implants</td>\n",
       "      <td>Procedures</td>\n",
       "      <td>Devices</td>\n",
       "    </tr>\n",
       "    <tr>\n",
       "      <th>15237548</th>\n",
       "      <td>C1293122</td>\n",
       "      <td>C0021113</td>\n",
       "      <td>USES_PRuDV</td>\n",
       "      <td>{8436533, 24705238}</td>\n",
       "      <td>2</td>\n",
       "      <td>Augmentation procedure</td>\n",
       "      <td>Artificial Implants</td>\n",
       "      <td>Procedures</td>\n",
       "      <td>Devices</td>\n",
       "    </tr>\n",
       "    <tr>\n",
       "      <th>10642690</th>\n",
       "      <td>C0038293</td>\n",
       "      <td>C0009653</td>\n",
       "      <td>LOCATION_OF_AloDV</td>\n",
       "      <td>{2980051}</td>\n",
       "      <td>1</td>\n",
       "      <td>Sternum</td>\n",
       "      <td>Condoms, Male</td>\n",
       "      <td>Anatomy</td>\n",
       "      <td>Devices</td>\n",
       "    </tr>\n",
       "    <tr>\n",
       "      <th>14954813</th>\n",
       "      <td>C0438883</td>\n",
       "      <td>C0524491</td>\n",
       "      <td>USES_DVuDV</td>\n",
       "      <td>{24743451}</td>\n",
       "      <td>1</td>\n",
       "      <td>Above knee prosthesis</td>\n",
       "      <td>Leg Prosthesis</td>\n",
       "      <td>Devices</td>\n",
       "      <td>Devices</td>\n",
       "    </tr>\n",
       "    <tr>\n",
       "      <th>14437012</th>\n",
       "      <td>C0181722</td>\n",
       "      <td>C0679670</td>\n",
       "      <td>TREATS_DVtLB</td>\n",
       "      <td>{25435221}</td>\n",
       "      <td>1</td>\n",
       "      <td>Manifolds</td>\n",
       "      <td>network</td>\n",
       "      <td>Devices</td>\n",
       "      <td>Living Beings</td>\n",
       "    </tr>\n",
       "  </tbody>\n",
       "</table>\n",
       "</div>"
      ],
      "text/plain": [
       "         :START_ID   :END_ID              :TYPE                 pmids  \\\n",
       "14931305  C0183346  C0026056         USES_DVuCD            {21057337}   \n",
       "15253818  C0038136  C0183432         USES_PRuDV  {25657587, 25880766}   \n",
       "14398937  C0180202  C0027651       TREATS_DVtDO            {12729775}   \n",
       "15250568  C0014098  C0175649         USES_PRuDV   {7218601, 25490369}   \n",
       "15263685  C0204229  C0600199         USES_PRuDV              {784958}   \n",
       "15252226  C0013806  C0021102         USES_PRuDV            {21816465}   \n",
       "15237548  C1293122  C0021113         USES_PRuDV   {8436533, 24705238}   \n",
       "10642690  C0038293  C0009653  LOCATION_OF_AloDV             {2980051}   \n",
       "14954813  C0438883  C0524491         USES_DVuDV            {24743451}   \n",
       "14437012  C0181722  C0679670       TREATS_DVtLB            {25435221}   \n",
       "\n",
       "          n_pmids                 start_name                  end_name  \\\n",
       "14931305        1              Sling, device                 Midazolam   \n",
       "15253818        2            Standardization  Mercury sphygmomanometer   \n",
       "14398937        1                  Cryostats                  Neoplasm   \n",
       "15250568        2             Endarterectomy                Prosthesis   \n",
       "15263685        1         Restoration, resin      Cavity Liner, Dental   \n",
       "15252226        1  Electroconvulsive Therapy                  Implants   \n",
       "15237548        2     Augmentation procedure       Artificial Implants   \n",
       "10642690        1                    Sternum             Condoms, Male   \n",
       "14954813        1      Above knee prosthesis            Leg Prosthesis   \n",
       "14437012        1                  Manifolds                   network   \n",
       "\n",
       "         start_label          end_label  \n",
       "14931305     Devices  Chemicals & Drugs  \n",
       "15253818  Procedures            Devices  \n",
       "14398937     Devices          Disorders  \n",
       "15250568  Procedures            Devices  \n",
       "15263685  Procedures            Devices  \n",
       "15252226  Procedures            Devices  \n",
       "15237548  Procedures            Devices  \n",
       "10642690     Anatomy            Devices  \n",
       "14954813     Devices            Devices  \n",
       "14437012     Devices      Living Beings  "
      ]
     },
     "execution_count": 24,
     "metadata": {},
     "output_type": "execute_result"
    }
   ],
   "source": [
    "# Devices\n",
    "previews[0]"
   ]
  },
  {
   "cell_type": "code",
   "execution_count": 25,
   "metadata": {},
   "outputs": [
    {
     "data": {
      "text/html": [
       "<div>\n",
       "<style>\n",
       "    .dataframe thead tr:only-child th {\n",
       "        text-align: right;\n",
       "    }\n",
       "\n",
       "    .dataframe thead th {\n",
       "        text-align: left;\n",
       "    }\n",
       "\n",
       "    .dataframe tbody tr th {\n",
       "        vertical-align: top;\n",
       "    }\n",
       "</style>\n",
       "<table border=\"1\" class=\"dataframe\">\n",
       "  <thead>\n",
       "    <tr style=\"text-align: right;\">\n",
       "      <th></th>\n",
       "      <th>:START_ID</th>\n",
       "      <th>:END_ID</th>\n",
       "      <th>:TYPE</th>\n",
       "      <th>pmids</th>\n",
       "      <th>n_pmids</th>\n",
       "      <th>start_name</th>\n",
       "      <th>end_name</th>\n",
       "      <th>start_label</th>\n",
       "      <th>end_label</th>\n",
       "    </tr>\n",
       "  </thead>\n",
       "  <tbody>\n",
       "    <tr>\n",
       "      <th>477732</th>\n",
       "      <td>C1451465</td>\n",
       "      <td>C0005495</td>\n",
       "      <td>AFFECTS_CDafPH</td>\n",
       "      <td>{25848967, 17962579, 12963735}</td>\n",
       "      <td>3</td>\n",
       "      <td>CRK protein, human</td>\n",
       "      <td>Biogenesis</td>\n",
       "      <td>Chemicals &amp; Drugs</td>\n",
       "      <td>Phenomena</td>\n",
       "    </tr>\n",
       "    <tr>\n",
       "      <th>456222</th>\n",
       "      <td>C0018282</td>\n",
       "      <td>C0013203</td>\n",
       "      <td>AFFECTS_CDafPH</td>\n",
       "      <td>{26781210}</td>\n",
       "      <td>1</td>\n",
       "      <td>Growth Inhibitors</td>\n",
       "      <td>Drug resistance</td>\n",
       "      <td>Chemicals &amp; Drugs</td>\n",
       "      <td>Phenomena</td>\n",
       "    </tr>\n",
       "    <tr>\n",
       "      <th>1442016</th>\n",
       "      <td>C1413931</td>\n",
       "      <td>C0019868</td>\n",
       "      <td>AFFECTS_GafPH</td>\n",
       "      <td>{11716800, 9198890, 8743505, 3037173, 11097339...</td>\n",
       "      <td>6</td>\n",
       "      <td>ACE gene</td>\n",
       "      <td>Homeostasis</td>\n",
       "      <td>Genes &amp; Molecular Sequences</td>\n",
       "      <td>Phenomena</td>\n",
       "    </tr>\n",
       "    <tr>\n",
       "      <th>412241</th>\n",
       "      <td>C0136976</td>\n",
       "      <td>C0563227</td>\n",
       "      <td>AFFECTS_CDafPH</td>\n",
       "      <td>{12232088, 23964902, 20530216, 17982000, 25542...</td>\n",
       "      <td>9</td>\n",
       "      <td>Phytochrome B</td>\n",
       "      <td>Red light</td>\n",
       "      <td>Chemicals &amp; Drugs</td>\n",
       "      <td>Phenomena</td>\n",
       "    </tr>\n",
       "    <tr>\n",
       "      <th>473717</th>\n",
       "      <td>C0005456</td>\n",
       "      <td>C0085813</td>\n",
       "      <td>AFFECTS_CDafPH</td>\n",
       "      <td>{8504810}</td>\n",
       "      <td>1</td>\n",
       "      <td>Binding Sites</td>\n",
       "      <td>Anisotropy, Fluorescence</td>\n",
       "      <td>Chemicals &amp; Drugs</td>\n",
       "      <td>Phenomena</td>\n",
       "    </tr>\n",
       "    <tr>\n",
       "      <th>431853</th>\n",
       "      <td>C0014914</td>\n",
       "      <td>C0007382</td>\n",
       "      <td>AFFECTS_CDafPH</td>\n",
       "      <td>{9204000}</td>\n",
       "      <td>1</td>\n",
       "      <td>Estradiol 17 beta-Dehydrogenase</td>\n",
       "      <td>Catalysis</td>\n",
       "      <td>Chemicals &amp; Drugs</td>\n",
       "      <td>Phenomena</td>\n",
       "    </tr>\n",
       "    <tr>\n",
       "      <th>426637</th>\n",
       "      <td>C0055966</td>\n",
       "      <td>C0678587</td>\n",
       "      <td>AFFECTS_CDafPH</td>\n",
       "      <td>{21602277}</td>\n",
       "      <td>1</td>\n",
       "      <td>Clusterin</td>\n",
       "      <td>steady state</td>\n",
       "      <td>Chemicals &amp; Drugs</td>\n",
       "      <td>Phenomena</td>\n",
       "    </tr>\n",
       "    <tr>\n",
       "      <th>1750910</th>\n",
       "      <td>C0162691</td>\n",
       "      <td>C1326225</td>\n",
       "      <td>AFFECTS_PHafPS</td>\n",
       "      <td>{27729233}</td>\n",
       "      <td>1</td>\n",
       "      <td>Friction</td>\n",
       "      <td>cell homeostasis</td>\n",
       "      <td>Phenomena</td>\n",
       "      <td>Physiology</td>\n",
       "    </tr>\n",
       "    <tr>\n",
       "      <th>431157</th>\n",
       "      <td>C0009002</td>\n",
       "      <td>C0005495</td>\n",
       "      <td>AFFECTS_CDafPH</td>\n",
       "      <td>{4370900}</td>\n",
       "      <td>1</td>\n",
       "      <td>Clofibrate</td>\n",
       "      <td>Biogenesis</td>\n",
       "      <td>Chemicals &amp; Drugs</td>\n",
       "      <td>Phenomena</td>\n",
       "    </tr>\n",
       "    <tr>\n",
       "      <th>1718923</th>\n",
       "      <td>C0038817</td>\n",
       "      <td>C0011615</td>\n",
       "      <td>AFFECTS_PHafDO</td>\n",
       "      <td>{17073869, 1401486}</td>\n",
       "      <td>2</td>\n",
       "      <td>Sunlight</td>\n",
       "      <td>Dermatitis, Atopic</td>\n",
       "      <td>Phenomena</td>\n",
       "      <td>Disorders</td>\n",
       "    </tr>\n",
       "  </tbody>\n",
       "</table>\n",
       "</div>"
      ],
      "text/plain": [
       "        :START_ID   :END_ID           :TYPE  \\\n",
       "477732   C1451465  C0005495  AFFECTS_CDafPH   \n",
       "456222   C0018282  C0013203  AFFECTS_CDafPH   \n",
       "1442016  C1413931  C0019868   AFFECTS_GafPH   \n",
       "412241   C0136976  C0563227  AFFECTS_CDafPH   \n",
       "473717   C0005456  C0085813  AFFECTS_CDafPH   \n",
       "431853   C0014914  C0007382  AFFECTS_CDafPH   \n",
       "426637   C0055966  C0678587  AFFECTS_CDafPH   \n",
       "1750910  C0162691  C1326225  AFFECTS_PHafPS   \n",
       "431157   C0009002  C0005495  AFFECTS_CDafPH   \n",
       "1718923  C0038817  C0011615  AFFECTS_PHafDO   \n",
       "\n",
       "                                                     pmids  n_pmids  \\\n",
       "477732                      {25848967, 17962579, 12963735}        3   \n",
       "456222                                          {26781210}        1   \n",
       "1442016  {11716800, 9198890, 8743505, 3037173, 11097339...        6   \n",
       "412241   {12232088, 23964902, 20530216, 17982000, 25542...        9   \n",
       "473717                                           {8504810}        1   \n",
       "431853                                           {9204000}        1   \n",
       "426637                                          {21602277}        1   \n",
       "1750910                                         {27729233}        1   \n",
       "431157                                           {4370900}        1   \n",
       "1718923                                {17073869, 1401486}        2   \n",
       "\n",
       "                              start_name                  end_name  \\\n",
       "477732                CRK protein, human                Biogenesis   \n",
       "456222                 Growth Inhibitors           Drug resistance   \n",
       "1442016                         ACE gene               Homeostasis   \n",
       "412241                     Phytochrome B                 Red light   \n",
       "473717                     Binding Sites  Anisotropy, Fluorescence   \n",
       "431853   Estradiol 17 beta-Dehydrogenase                 Catalysis   \n",
       "426637                         Clusterin              steady state   \n",
       "1750910                         Friction          cell homeostasis   \n",
       "431157                        Clofibrate                Biogenesis   \n",
       "1718923                         Sunlight        Dermatitis, Atopic   \n",
       "\n",
       "                         start_label   end_label  \n",
       "477732             Chemicals & Drugs   Phenomena  \n",
       "456222             Chemicals & Drugs   Phenomena  \n",
       "1442016  Genes & Molecular Sequences   Phenomena  \n",
       "412241             Chemicals & Drugs   Phenomena  \n",
       "473717             Chemicals & Drugs   Phenomena  \n",
       "431853             Chemicals & Drugs   Phenomena  \n",
       "426637             Chemicals & Drugs   Phenomena  \n",
       "1750910                    Phenomena  Physiology  \n",
       "431157             Chemicals & Drugs   Phenomena  \n",
       "1718923                    Phenomena   Disorders  "
      ]
     },
     "execution_count": 25,
     "metadata": {},
     "output_type": "execute_result"
    }
   ],
   "source": [
    "# Phenomena\n",
    "previews[1]"
   ]
  },
  {
   "cell_type": "code",
   "execution_count": 26,
   "metadata": {},
   "outputs": [
    {
     "data": {
      "text/html": [
       "<div>\n",
       "<style>\n",
       "    .dataframe thead tr:only-child th {\n",
       "        text-align: right;\n",
       "    }\n",
       "\n",
       "    .dataframe thead th {\n",
       "        text-align: left;\n",
       "    }\n",
       "\n",
       "    .dataframe tbody tr th {\n",
       "        vertical-align: top;\n",
       "    }\n",
       "</style>\n",
       "<table border=\"1\" class=\"dataframe\">\n",
       "  <thead>\n",
       "    <tr style=\"text-align: right;\">\n",
       "      <th></th>\n",
       "      <th>:START_ID</th>\n",
       "      <th>:END_ID</th>\n",
       "      <th>:TYPE</th>\n",
       "      <th>pmids</th>\n",
       "      <th>n_pmids</th>\n",
       "      <th>start_name</th>\n",
       "      <th>end_name</th>\n",
       "      <th>start_label</th>\n",
       "      <th>end_label</th>\n",
       "    </tr>\n",
       "  </thead>\n",
       "  <tbody>\n",
       "    <tr>\n",
       "      <th>11950114</th>\n",
       "      <td>C0073306</td>\n",
       "      <td>C0036025</td>\n",
       "      <td>PART_OF_GpoLB</td>\n",
       "      <td>{23945946, 1733947, 27390266, 24129494}</td>\n",
       "      <td>4</td>\n",
       "      <td>ribosomal protein L7</td>\n",
       "      <td>Saccharomyces cerevisiae</td>\n",
       "      <td>Genes &amp; Molecular Sequences</td>\n",
       "      <td>Living Beings</td>\n",
       "    </tr>\n",
       "    <tr>\n",
       "      <th>12196387</th>\n",
       "      <td>C0598496</td>\n",
       "      <td>C0021585</td>\n",
       "      <td>PROCESS_OF_PSpro&gt;LB</td>\n",
       "      <td>{23667556, 27595655, 24859468, 16756557, 10620...</td>\n",
       "      <td>8</td>\n",
       "      <td>Gene Silencing</td>\n",
       "      <td>Insecta</td>\n",
       "      <td>Physiology</td>\n",
       "      <td>Living Beings</td>\n",
       "    </tr>\n",
       "    <tr>\n",
       "      <th>1004009</th>\n",
       "      <td>C0011164</td>\n",
       "      <td>C0521057</td>\n",
       "      <td>AFFECTS_DOafLB</td>\n",
       "      <td>{8148961, 27317023, 18318232, 14734837, 100749...</td>\n",
       "      <td>8</td>\n",
       "      <td>Degenerative abnormality</td>\n",
       "      <td>Hyphae</td>\n",
       "      <td>Disorders</td>\n",
       "      <td>Living Beings</td>\n",
       "    </tr>\n",
       "    <tr>\n",
       "      <th>12643538</th>\n",
       "      <td>C0599383</td>\n",
       "      <td>C0034085</td>\n",
       "      <td>PRODUCES_LBpdCD</td>\n",
       "      <td>{18304608}</td>\n",
       "      <td>1</td>\n",
       "      <td>Marine Organism</td>\n",
       "      <td>Pulmonary Surfactants</td>\n",
       "      <td>Living Beings</td>\n",
       "      <td>Chemicals &amp; Drugs</td>\n",
       "    </tr>\n",
       "    <tr>\n",
       "      <th>12327959</th>\n",
       "      <td>C0337845</td>\n",
       "      <td>C0063690</td>\n",
       "      <td>PRODUCES_LBpdCD</td>\n",
       "      <td>{12816089}</td>\n",
       "      <td>1</td>\n",
       "      <td>Pygmies</td>\n",
       "      <td>Integrase</td>\n",
       "      <td>Living Beings</td>\n",
       "      <td>Chemicals &amp; Drugs</td>\n",
       "    </tr>\n",
       "    <tr>\n",
       "      <th>12186079</th>\n",
       "      <td>C0042789</td>\n",
       "      <td>C0010212</td>\n",
       "      <td>PROCESS_OF_PSpro&gt;LB</td>\n",
       "      <td>{8916776}</td>\n",
       "      <td>1</td>\n",
       "      <td>Vision</td>\n",
       "      <td>Professional counsellor</td>\n",
       "      <td>Physiology</td>\n",
       "      <td>Living Beings</td>\n",
       "    </tr>\n",
       "    <tr>\n",
       "      <th>8389063</th>\n",
       "      <td>C0039679</td>\n",
       "      <td>C0599840</td>\n",
       "      <td>INTERACTS_WITH_LBiwLB</td>\n",
       "      <td>{9026146}</td>\n",
       "      <td>1</td>\n",
       "      <td>Tetrahymena</td>\n",
       "      <td>microbial</td>\n",
       "      <td>Living Beings</td>\n",
       "      <td>Living Beings</td>\n",
       "    </tr>\n",
       "    <tr>\n",
       "      <th>1203721</th>\n",
       "      <td>C1268666</td>\n",
       "      <td>C0870221</td>\n",
       "      <td>AFFECTS_DOafLB</td>\n",
       "      <td>{17241290, 22832109}</td>\n",
       "      <td>2</td>\n",
       "      <td>Circumscribed lesion</td>\n",
       "      <td>Boys</td>\n",
       "      <td>Disorders</td>\n",
       "      <td>Living Beings</td>\n",
       "    </tr>\n",
       "    <tr>\n",
       "      <th>1244150</th>\n",
       "      <td>C1442161</td>\n",
       "      <td>C0686882</td>\n",
       "      <td>AFFECTS_DOafLB</td>\n",
       "      <td>{13129521}</td>\n",
       "      <td>1</td>\n",
       "      <td>DELETION</td>\n",
       "      <td>Trophozoite</td>\n",
       "      <td>Disorders</td>\n",
       "      <td>Living Beings</td>\n",
       "    </tr>\n",
       "    <tr>\n",
       "      <th>19092</th>\n",
       "      <td>C0699612</td>\n",
       "      <td>C0324817</td>\n",
       "      <td>ADMINISTERED_TO_CDatLB</td>\n",
       "      <td>{1312241}</td>\n",
       "      <td>1</td>\n",
       "      <td>Osteogen</td>\n",
       "      <td>Papio ursinus</td>\n",
       "      <td>Chemicals &amp; Drugs</td>\n",
       "      <td>Living Beings</td>\n",
       "    </tr>\n",
       "  </tbody>\n",
       "</table>\n",
       "</div>"
      ],
      "text/plain": [
       "         :START_ID   :END_ID                   :TYPE  \\\n",
       "11950114  C0073306  C0036025           PART_OF_GpoLB   \n",
       "12196387  C0598496  C0021585     PROCESS_OF_PSpro>LB   \n",
       "1004009   C0011164  C0521057          AFFECTS_DOafLB   \n",
       "12643538  C0599383  C0034085         PRODUCES_LBpdCD   \n",
       "12327959  C0337845  C0063690         PRODUCES_LBpdCD   \n",
       "12186079  C0042789  C0010212     PROCESS_OF_PSpro>LB   \n",
       "8389063   C0039679  C0599840   INTERACTS_WITH_LBiwLB   \n",
       "1203721   C1268666  C0870221          AFFECTS_DOafLB   \n",
       "1244150   C1442161  C0686882          AFFECTS_DOafLB   \n",
       "19092     C0699612  C0324817  ADMINISTERED_TO_CDatLB   \n",
       "\n",
       "                                                      pmids  n_pmids  \\\n",
       "11950114            {23945946, 1733947, 27390266, 24129494}        4   \n",
       "12196387  {23667556, 27595655, 24859468, 16756557, 10620...        8   \n",
       "1004009   {8148961, 27317023, 18318232, 14734837, 100749...        8   \n",
       "12643538                                         {18304608}        1   \n",
       "12327959                                         {12816089}        1   \n",
       "12186079                                          {8916776}        1   \n",
       "8389063                                           {9026146}        1   \n",
       "1203721                                {17241290, 22832109}        2   \n",
       "1244150                                          {13129521}        1   \n",
       "19092                                             {1312241}        1   \n",
       "\n",
       "                        start_name                  end_name  \\\n",
       "11950114      ribosomal protein L7  Saccharomyces cerevisiae   \n",
       "12196387            Gene Silencing                   Insecta   \n",
       "1004009   Degenerative abnormality                    Hyphae   \n",
       "12643538           Marine Organism     Pulmonary Surfactants   \n",
       "12327959                   Pygmies                 Integrase   \n",
       "12186079                    Vision   Professional counsellor   \n",
       "8389063                Tetrahymena                 microbial   \n",
       "1203721       Circumscribed lesion                      Boys   \n",
       "1244150                   DELETION               Trophozoite   \n",
       "19092                     Osteogen             Papio ursinus   \n",
       "\n",
       "                          start_label          end_label  \n",
       "11950114  Genes & Molecular Sequences      Living Beings  \n",
       "12196387                   Physiology      Living Beings  \n",
       "1004009                     Disorders      Living Beings  \n",
       "12643538                Living Beings  Chemicals & Drugs  \n",
       "12327959                Living Beings  Chemicals & Drugs  \n",
       "12186079                   Physiology      Living Beings  \n",
       "8389063                 Living Beings      Living Beings  \n",
       "1203721                     Disorders      Living Beings  \n",
       "1244150                     Disorders      Living Beings  \n",
       "19092               Chemicals & Drugs      Living Beings  "
      ]
     },
     "execution_count": 26,
     "metadata": {},
     "output_type": "execute_result"
    }
   ],
   "source": [
    "# Living Beings\n",
    "previews[2]"
   ]
  },
  {
   "cell_type": "code",
   "execution_count": 27,
   "metadata": {},
   "outputs": [
    {
     "data": {
      "text/html": [
       "<div>\n",
       "<style>\n",
       "    .dataframe thead tr:only-child th {\n",
       "        text-align: right;\n",
       "    }\n",
       "\n",
       "    .dataframe thead th {\n",
       "        text-align: left;\n",
       "    }\n",
       "\n",
       "    .dataframe tbody tr th {\n",
       "        vertical-align: top;\n",
       "    }\n",
       "</style>\n",
       "<table border=\"1\" class=\"dataframe\">\n",
       "  <thead>\n",
       "    <tr style=\"text-align: right;\">\n",
       "      <th></th>\n",
       "      <th>:START_ID</th>\n",
       "      <th>:END_ID</th>\n",
       "      <th>:TYPE</th>\n",
       "      <th>pmids</th>\n",
       "      <th>n_pmids</th>\n",
       "      <th>start_name</th>\n",
       "      <th>end_name</th>\n",
       "      <th>start_label</th>\n",
       "      <th>end_label</th>\n",
       "    </tr>\n",
       "  </thead>\n",
       "  <tbody>\n",
       "    <tr>\n",
       "      <th>1817050</th>\n",
       "      <td>C1293900</td>\n",
       "      <td>C0234222</td>\n",
       "      <td>AFFECTS_PRafPS</td>\n",
       "      <td>{26233580}</td>\n",
       "      <td>1</td>\n",
       "      <td>Hand grip</td>\n",
       "      <td>Baresthesia</td>\n",
       "      <td>Procedures</td>\n",
       "      <td>Physiology</td>\n",
       "    </tr>\n",
       "    <tr>\n",
       "      <th>14759840</th>\n",
       "      <td>C0185010</td>\n",
       "      <td>C0003857</td>\n",
       "      <td>TREATS_PRtDO</td>\n",
       "      <td>{23406825}</td>\n",
       "      <td>1</td>\n",
       "      <td>Closure by clip procedure</td>\n",
       "      <td>Congenital arteriovenous malformation</td>\n",
       "      <td>Procedures</td>\n",
       "      <td>Disorders</td>\n",
       "    </tr>\n",
       "    <tr>\n",
       "      <th>14650267</th>\n",
       "      <td>C0203075</td>\n",
       "      <td>C0021933</td>\n",
       "      <td>TREATS_PRtDO</td>\n",
       "      <td>{7959392, 8854346}</td>\n",
       "      <td>2</td>\n",
       "      <td>Lower gastrointestinal tract contrast procedure</td>\n",
       "      <td>Intussusception</td>\n",
       "      <td>Procedures</td>\n",
       "      <td>Disorders</td>\n",
       "    </tr>\n",
       "    <tr>\n",
       "      <th>1831608</th>\n",
       "      <td>C1168098</td>\n",
       "      <td>C0600519</td>\n",
       "      <td>AFFECTS_PRafPS</td>\n",
       "      <td>{22954276}</td>\n",
       "      <td>1</td>\n",
       "      <td>Pulmonary arterial pressure</td>\n",
       "      <td>Ventricular Remodeling</td>\n",
       "      <td>Procedures</td>\n",
       "      <td>Physiology</td>\n",
       "    </tr>\n",
       "    <tr>\n",
       "      <th>14728440</th>\n",
       "      <td>C1303150</td>\n",
       "      <td>C0516977</td>\n",
       "      <td>TREATS_PRtDO</td>\n",
       "      <td>{21767927}</td>\n",
       "      <td>1</td>\n",
       "      <td>Disease management program</td>\n",
       "      <td>physical health</td>\n",
       "      <td>Procedures</td>\n",
       "      <td>Disorders</td>\n",
       "    </tr>\n",
       "    <tr>\n",
       "      <th>14836025</th>\n",
       "      <td>C0337280</td>\n",
       "      <td>C0027859</td>\n",
       "      <td>TREATS_PRtDO</td>\n",
       "      <td>{3703129}</td>\n",
       "      <td>1</td>\n",
       "      <td>Fenestration procedure</td>\n",
       "      <td>Acoustic Neuroma</td>\n",
       "      <td>Procedures</td>\n",
       "      <td>Disorders</td>\n",
       "    </tr>\n",
       "    <tr>\n",
       "      <th>14524230</th>\n",
       "      <td>C0014935</td>\n",
       "      <td>C0080179</td>\n",
       "      <td>TREATS_PRtDO</td>\n",
       "      <td>{23604900}</td>\n",
       "      <td>1</td>\n",
       "      <td>Estrogen Replacement Therapy</td>\n",
       "      <td>Spinal Fractures</td>\n",
       "      <td>Procedures</td>\n",
       "      <td>Disorders</td>\n",
       "    </tr>\n",
       "    <tr>\n",
       "      <th>11365515</th>\n",
       "      <td>C0013103</td>\n",
       "      <td>C0796679</td>\n",
       "      <td>METHOD_OF_PRmoPR</td>\n",
       "      <td>{18931875}</td>\n",
       "      <td>1</td>\n",
       "      <td>Drainage procedure</td>\n",
       "      <td>Chemoembolisation</td>\n",
       "      <td>Procedures</td>\n",
       "      <td>Procedures</td>\n",
       "    </tr>\n",
       "    <tr>\n",
       "      <th>6213921</th>\n",
       "      <td>C0005851</td>\n",
       "      <td>C0007820</td>\n",
       "      <td>DIAGNOSES_PRdgDO</td>\n",
       "      <td>{10835454}</td>\n",
       "      <td>1</td>\n",
       "      <td>Blood Volume Determination</td>\n",
       "      <td>Cerebrovascular Disorders</td>\n",
       "      <td>Procedures</td>\n",
       "      <td>Disorders</td>\n",
       "    </tr>\n",
       "    <tr>\n",
       "      <th>6334116</th>\n",
       "      <td>C0696138</td>\n",
       "      <td>C1522225</td>\n",
       "      <td>DIAGNOSES_PRdgDO</td>\n",
       "      <td>{11731130}</td>\n",
       "      <td>1</td>\n",
       "      <td>Metabolic analysis</td>\n",
       "      <td>Knock-out</td>\n",
       "      <td>Procedures</td>\n",
       "      <td>Disorders</td>\n",
       "    </tr>\n",
       "  </tbody>\n",
       "</table>\n",
       "</div>"
      ],
      "text/plain": [
       "         :START_ID   :END_ID             :TYPE               pmids  n_pmids  \\\n",
       "1817050   C1293900  C0234222    AFFECTS_PRafPS          {26233580}        1   \n",
       "14759840  C0185010  C0003857      TREATS_PRtDO          {23406825}        1   \n",
       "14650267  C0203075  C0021933      TREATS_PRtDO  {7959392, 8854346}        2   \n",
       "1831608   C1168098  C0600519    AFFECTS_PRafPS          {22954276}        1   \n",
       "14728440  C1303150  C0516977      TREATS_PRtDO          {21767927}        1   \n",
       "14836025  C0337280  C0027859      TREATS_PRtDO           {3703129}        1   \n",
       "14524230  C0014935  C0080179      TREATS_PRtDO          {23604900}        1   \n",
       "11365515  C0013103  C0796679  METHOD_OF_PRmoPR          {18931875}        1   \n",
       "6213921   C0005851  C0007820  DIAGNOSES_PRdgDO          {10835454}        1   \n",
       "6334116   C0696138  C1522225  DIAGNOSES_PRdgDO          {11731130}        1   \n",
       "\n",
       "                                               start_name  \\\n",
       "1817050                                         Hand grip   \n",
       "14759840                        Closure by clip procedure   \n",
       "14650267  Lower gastrointestinal tract contrast procedure   \n",
       "1831608                       Pulmonary arterial pressure   \n",
       "14728440                       Disease management program   \n",
       "14836025                           Fenestration procedure   \n",
       "14524230                     Estrogen Replacement Therapy   \n",
       "11365515                               Drainage procedure   \n",
       "6213921                        Blood Volume Determination   \n",
       "6334116                                Metabolic analysis   \n",
       "\n",
       "                                       end_name start_label   end_label  \n",
       "1817050                             Baresthesia  Procedures  Physiology  \n",
       "14759840  Congenital arteriovenous malformation  Procedures   Disorders  \n",
       "14650267                        Intussusception  Procedures   Disorders  \n",
       "1831608                  Ventricular Remodeling  Procedures  Physiology  \n",
       "14728440                        physical health  Procedures   Disorders  \n",
       "14836025                       Acoustic Neuroma  Procedures   Disorders  \n",
       "14524230                       Spinal Fractures  Procedures   Disorders  \n",
       "11365515                      Chemoembolisation  Procedures  Procedures  \n",
       "6213921               Cerebrovascular Disorders  Procedures   Disorders  \n",
       "6334116                               Knock-out  Procedures   Disorders  "
      ]
     },
     "execution_count": 27,
     "metadata": {},
     "output_type": "execute_result"
    }
   ],
   "source": [
    "# Procedures\n",
    "previews[3]"
   ]
  },
  {
   "cell_type": "code",
   "execution_count": 28,
   "metadata": {
    "collapsed": true
   },
   "outputs": [],
   "source": [
    "# I want to keep phenomena and Procedures if possible... Some examples seem biologically relevant"
   ]
  },
  {
   "cell_type": "code",
   "execution_count": 30,
   "metadata": {},
   "outputs": [
    {
     "data": {
      "text/plain": [
       "4888"
      ]
     },
     "execution_count": 30,
     "metadata": {},
     "output_type": "execute_result"
    }
   ],
   "source": [
    "remove_types = ['Procedures', 'Devices']\n",
    "idx = gt.remove_colons(nodes).query('label in @remove_types').index\n",
    "nodes.drop(idx, inplace=True)\n",
    "ok_ids = nodes['id'].unique()\n",
    "edges = edges.query('start_id in @ok_ids and end_id in @ok_ids')\n",
    "num_metapaths(nodes, edges)"
   ]
  },
  {
   "cell_type": "code",
   "execution_count": 31,
   "metadata": {
    "collapsed": true
   },
   "outputs": [],
   "source": [
    "# Can't have 4 edges between physiology and Chemicals & Drugs\n",
    "to_drop = ['AFFECTS_CDafPS']\n",
    "drop_edges_from_list(edges, to_drop)"
   ]
  },
  {
   "cell_type": "code",
   "execution_count": 32,
   "metadata": {},
   "outputs": [
    {
     "data": {
      "text/plain": [
       "4345"
      ]
     },
     "execution_count": 32,
     "metadata": {},
     "output_type": "execute_result"
    }
   ],
   "source": [
    "num_metapaths(nodes, edges)"
   ]
  },
  {
   "cell_type": "code",
   "execution_count": 33,
   "metadata": {},
   "outputs": [
    {
     "name": "stdout",
     "output_type": "stream",
     "text": [
      "234567\n",
      "215817\n"
     ]
    }
   ],
   "source": [
    "print(len(ok_ids))\n",
    "print(len(set(edges['start_id']).union(set(edges['end_id']))))"
   ]
  },
  {
   "cell_type": "code",
   "execution_count": 34,
   "metadata": {
    "collapsed": true
   },
   "outputs": [],
   "source": [
    "ok_ids = list(set(edges['start_id']).union(set(edges['end_id'])))\n",
    "nodes = nodes.query('id in @ok_ids')"
   ]
  },
  {
   "cell_type": "code",
   "execution_count": 35,
   "metadata": {},
   "outputs": [
    {
     "name": "stdout",
     "output_type": "stream",
     "text": [
      "215817\n",
      "215817\n"
     ]
    }
   ],
   "source": [
    "print(len(ok_ids))\n",
    "print(len(set(edges['start_id']).union(set(edges['end_id']))))"
   ]
  },
  {
   "cell_type": "code",
   "execution_count": 36,
   "metadata": {},
   "outputs": [
    {
     "data": {
      "text/plain": [
       "10501869"
      ]
     },
     "execution_count": 36,
     "metadata": {},
     "output_type": "execute_result"
    }
   ],
   "source": [
    "len(edges)"
   ]
  },
  {
   "cell_type": "code",
   "execution_count": 37,
   "metadata": {},
   "outputs": [
    {
     "data": {
      "text/plain": [
       "998318"
      ]
     },
     "execution_count": 37,
     "metadata": {},
     "output_type": "execute_result"
    }
   ],
   "source": [
    "len(edges.query('n_pmids >= 5'))"
   ]
  },
  {
   "cell_type": "code",
   "execution_count": 38,
   "metadata": {},
   "outputs": [
    {
     "data": {
      "text/plain": [
       "Chemicals & Drugs              84614\n",
       "Living Beings                  48191\n",
       "Disorders                      38511\n",
       "Genes & Molecular Sequences    20539\n",
       "Anatomy                        15100\n",
       "Physiology                      7727\n",
       "Phenomena                       1135\n",
       "Name: label, dtype: int64"
      ]
     },
     "execution_count": 38,
     "metadata": {},
     "output_type": "execute_result"
    }
   ],
   "source": [
    "nodes['label'].value_counts()"
   ]
  },
  {
   "cell_type": "code",
   "execution_count": 39,
   "metadata": {},
   "outputs": [
    {
     "data": {
      "text/plain": [
       "LOCATION_OF_AloCD         996348\n",
       "REGULATES_CDreg>CD        917174\n",
       "ASSOCIATED_WITH_DOawDO    755777\n",
       "INTERACTS_WITH_CDiwG      705394\n",
       "TREATS_CDtDO              599026\n",
       "LOCATION_OF_AloDO         540408\n",
       "LOCATION_OF_AloG          534310\n",
       "AFFECTS_DOafLB            462162\n",
       "PRODUCES_LBpdCD           449085\n",
       "STIMULATES_CDstG          373978\n",
       "AFFECTS_CDafA             313572\n",
       "ASSOCIATED_WITH_GawDO     309743\n",
       "LOCATION_OF_AloA          267214\n",
       "AFFECTS_GafPS             250457\n",
       "INHIBITS_CDinG            235809\n",
       "INTERACTS_WITH_GiwG       235187\n",
       "REGULATES_Greg>G          222314\n",
       "AUGMENTS_CDagPS           222088\n",
       "RELATED_TO_CDrtCD         216035\n",
       "PART_OF_GpoLB             205720\n",
       "DISRUPTS_CDdsPS           177044\n",
       "AFFECTS_PSafDO            140466\n",
       "AUGMENTS_GagDO            136697\n",
       "PART_OF_Apo>LB            133351\n",
       "PROCESS_OF_PSpro>LB       126722\n",
       "AFFECTS_GafA              124156\n",
       "INHIBITS_GinDO            111738\n",
       "AFFECTS_PSafPS            101491\n",
       "TREATS_CDtLB              101489\n",
       "AFFECTS_CDafPH             74460\n",
       "ISA_LBi>LB                 72658\n",
       "ADMINISTERED_TO_CDatLB     61085\n",
       "CAUSES_DOcPS               55697\n",
       "CAUSES_LBcDO               48171\n",
       "LOCATION_OF_AloLB          36757\n",
       "INTERACTS_WITH_LBiwLB      35328\n",
       "AFFECTS_PHafDO             34392\n",
       "ASSOCIATED_WITH_PSawCD     32409\n",
       "LOCATION_OF_AloPS          29184\n",
       "AFFECTS_PHafPS             22460\n",
       "AFFECTS_GafPH              20314\n",
       "AFFECTS_PSafLB             13999\n",
       "Name: type, dtype: int64"
      ]
     },
     "execution_count": 39,
     "metadata": {},
     "output_type": "execute_result"
    }
   ],
   "source": [
    "edges['type'].value_counts()"
   ]
  },
  {
   "cell_type": "code",
   "execution_count": 40,
   "metadata": {},
   "outputs": [
    {
     "data": {
      "text/plain": [
       "LOCATION_OF_AloCD         137304\n",
       "LOCATION_OF_AloDO          77730\n",
       "ASSOCIATED_WITH_DOawDO     67842\n",
       "AFFECTS_DOafLB             67678\n",
       "TREATS_CDtDO               54029\n",
       "LOCATION_OF_AloG           52690\n",
       "INTERACTS_WITH_CDiwG       50531\n",
       "PRODUCES_LBpdCD            49608\n",
       "REGULATES_CDreg>CD         46830\n",
       "LOCATION_OF_AloA           42602\n",
       "RELATED_TO_CDrtCD          38129\n",
       "AFFECTS_CDafA              23097\n",
       "STIMULATES_CDstG           22802\n",
       "PART_OF_Apo>LB             22417\n",
       "ASSOCIATED_WITH_GawDO      19701\n",
       "AFFECTS_GafPS              19294\n",
       "PROCESS_OF_PSpro>LB        19000\n",
       "PART_OF_GpoLB              17309\n",
       "AUGMENTS_CDagPS            17251\n",
       "ISA_LBi>LB                 14953\n",
       "AFFECTS_PSafDO             13614\n",
       "AFFECTS_PSafPS             13523\n",
       "TREATS_CDtLB               13170\n",
       "INTERACTS_WITH_GiwG        10507\n",
       "INHIBITS_CDinG             10386\n",
       "DISRUPTS_CDdsPS            10344\n",
       "REGULATES_Greg>G            9228\n",
       "AFFECTS_GafA                5935\n",
       "AUGMENTS_GagDO              5771\n",
       "AFFECTS_CDafPH              5752\n",
       "CAUSES_DOcPS                5341\n",
       "CAUSES_LBcDO                5087\n",
       "ADMINISTERED_TO_CDatLB      4829\n",
       "INHIBITS_GinDO              4426\n",
       "LOCATION_OF_AloLB           3850\n",
       "LOCATION_OF_AloPS           3822\n",
       "AFFECTS_PHafPS              3316\n",
       "AFFECTS_PHafDO              2982\n",
       "INTERACTS_WITH_LBiwLB       2104\n",
       "ASSOCIATED_WITH_PSawCD      1855\n",
       "AFFECTS_GafPH               1035\n",
       "AFFECTS_PSafLB               644\n",
       "Name: type, dtype: int64"
      ]
     },
     "execution_count": 40,
     "metadata": {},
     "output_type": "execute_result"
    }
   ],
   "source": [
    "edges.query('n_pmids >= 5')['type'].value_counts()"
   ]
  },
  {
   "cell_type": "code",
   "execution_count": 41,
   "metadata": {},
   "outputs": [
    {
     "name": "stdout",
     "output_type": "stream",
     "text": [
      "10501869\n",
      "10344754\n",
      "CPU times: user 14min, sys: 3 s, total: 14min 3s\n",
      "Wall time: 14min 3s\n"
     ]
    }
   ],
   "source": [
    "%%time\n",
    "# Some edges now duplicated, de-duplicate and combine pmids\n",
    "print(len(edges))\n",
    "grpd = edges.groupby(['start_id', 'end_id', 'type'])\n",
    "edges = grpd['pmids'].apply(lambda Series: set.union(*Series.values)).reset_index()\n",
    "\n",
    "# re-count the pmid numbers\n",
    "edges['n_pmids'] = edges['pmids'].apply(len)\n",
    "\n",
    "print(len(edges))"
   ]
  },
  {
   "cell_type": "code",
   "execution_count": 42,
   "metadata": {
    "collapsed": true
   },
   "outputs": [],
   "source": [
    "gt.add_colons(nodes).to_csv('../data/nodes_7_metanode.csv', index=False)\n",
    "gt.add_colons(edges).to_csv('../data/edges_7_metanode.csv', index=False)"
   ]
  }
 ],
 "metadata": {
  "kernelspec": {
   "display_name": "Python 3",
   "language": "python",
   "name": "python3"
  },
  "language_info": {
   "codemirror_mode": {
    "name": "ipython",
    "version": 3
   },
   "file_extension": ".py",
   "mimetype": "text/x-python",
   "name": "python",
   "nbconvert_exporter": "python",
   "pygments_lexer": "ipython3",
   "version": "3.5.4"
  }
 },
 "nbformat": 4,
 "nbformat_minor": 2
}
