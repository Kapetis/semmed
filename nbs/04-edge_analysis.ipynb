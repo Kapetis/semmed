{
 "cells": [
  {
   "cell_type": "code",
   "execution_count": 1,
   "metadata": {
    "collapsed": true
   },
   "outputs": [],
   "source": [
    "%matplotlib inline\n",
    "import pandas as pd\n",
    "import seaborn as sns\n",
    "from tqdm import tqdm"
   ]
  },
  {
   "cell_type": "code",
   "execution_count": 2,
   "metadata": {
    "collapsed": true
   },
   "outputs": [],
   "source": [
    "nodes = pd.read_csv('../data/nodes.csv')\n",
    "edges = pd.read_csv('../data/edges.csv')"
   ]
  },
  {
   "cell_type": "code",
   "execution_count": 3,
   "metadata": {},
   "outputs": [
    {
     "name": "stdout",
     "output_type": "stream",
     "text": [
      "20,196 Compounds x 4,943 Diseases = 99,828,828 C-D pairs\n"
     ]
    }
   ],
   "source": [
    "comps = (nodes[':LABEL'] == 'Compound').sum() \n",
    "diseases = (nodes[':LABEL'] == 'Disease').sum()\n",
    "\n",
    "print('{:,} Compounds x {:,} Diseases = {:,} C-D pairs'.format(comps, diseases, comps*diseases))"
   ]
  },
  {
   "cell_type": "code",
   "execution_count": 4,
   "metadata": {},
   "outputs": [
    {
     "data": {
      "text/html": [
       "<div>\n",
       "<style>\n",
       "    .dataframe thead tr:only-child th {\n",
       "        text-align: right;\n",
       "    }\n",
       "\n",
       "    .dataframe thead th {\n",
       "        text-align: left;\n",
       "    }\n",
       "\n",
       "    .dataframe tbody tr th {\n",
       "        vertical-align: top;\n",
       "    }\n",
       "</style>\n",
       "<table border=\"1\" class=\"dataframe\">\n",
       "  <thead>\n",
       "    <tr style=\"text-align: right;\">\n",
       "      <th></th>\n",
       "      <th>:ID</th>\n",
       "      <th>name</th>\n",
       "      <th>:LABEL</th>\n",
       "    </tr>\n",
       "  </thead>\n",
       "  <tbody>\n",
       "    <tr>\n",
       "      <th>0</th>\n",
       "      <td>C0026879</td>\n",
       "      <td>Mutagens</td>\n",
       "      <td>Chemicals &amp; Drugs</td>\n",
       "    </tr>\n",
       "    <tr>\n",
       "      <th>1</th>\n",
       "      <td>C0017725</td>\n",
       "      <td>Glucose</td>\n",
       "      <td>Chemicals &amp; Drugs</td>\n",
       "    </tr>\n",
       "    <tr>\n",
       "      <th>2</th>\n",
       "      <td>C0006147</td>\n",
       "      <td>Breast Feeding</td>\n",
       "      <td>Physiology</td>\n",
       "    </tr>\n",
       "    <tr>\n",
       "      <th>3</th>\n",
       "      <td>C0279494</td>\n",
       "      <td>Oestrogen therapy</td>\n",
       "      <td>Procedures</td>\n",
       "    </tr>\n",
       "    <tr>\n",
       "      <th>4</th>\n",
       "      <td>C0232338</td>\n",
       "      <td>Blood flow</td>\n",
       "      <td>Physiology</td>\n",
       "    </tr>\n",
       "  </tbody>\n",
       "</table>\n",
       "</div>"
      ],
      "text/plain": [
       "        :ID               name             :LABEL\n",
       "0  C0026879           Mutagens  Chemicals & Drugs\n",
       "1  C0017725            Glucose  Chemicals & Drugs\n",
       "2  C0006147     Breast Feeding         Physiology\n",
       "3  C0279494  Oestrogen therapy         Procedures\n",
       "4  C0232338         Blood flow         Physiology"
      ]
     },
     "execution_count": 4,
     "metadata": {},
     "output_type": "execute_result"
    }
   ],
   "source": [
    "nodes.head()"
   ]
  },
  {
   "cell_type": "code",
   "execution_count": 5,
   "metadata": {},
   "outputs": [
    {
     "data": {
      "text/html": [
       "<div>\n",
       "<style>\n",
       "    .dataframe thead tr:only-child th {\n",
       "        text-align: right;\n",
       "    }\n",
       "\n",
       "    .dataframe thead th {\n",
       "        text-align: left;\n",
       "    }\n",
       "\n",
       "    .dataframe tbody tr th {\n",
       "        vertical-align: top;\n",
       "    }\n",
       "</style>\n",
       "<table border=\"1\" class=\"dataframe\">\n",
       "  <thead>\n",
       "    <tr style=\"text-align: right;\">\n",
       "      <th></th>\n",
       "      <th>:START_ID</th>\n",
       "      <th>:END_ID</th>\n",
       "      <th>:TYPE</th>\n",
       "    </tr>\n",
       "  </thead>\n",
       "  <tbody>\n",
       "    <tr>\n",
       "      <th>0</th>\n",
       "      <td>C0026879</td>\n",
       "      <td>C0220806</td>\n",
       "      <td>ISA_CDi&gt;CD</td>\n",
       "    </tr>\n",
       "    <tr>\n",
       "      <th>1</th>\n",
       "      <td>C0017725</td>\n",
       "      <td>C0022378</td>\n",
       "      <td>PART_OF_CDpo&gt;A</td>\n",
       "    </tr>\n",
       "    <tr>\n",
       "      <th>2</th>\n",
       "      <td>C0006147</td>\n",
       "      <td>C0020114</td>\n",
       "      <td>PROCESS_OF_PSproLB</td>\n",
       "    </tr>\n",
       "    <tr>\n",
       "      <th>3</th>\n",
       "      <td>C0279494</td>\n",
       "      <td>C0043210</td>\n",
       "      <td>TREATS_PRtLB</td>\n",
       "    </tr>\n",
       "    <tr>\n",
       "      <th>4</th>\n",
       "      <td>C0232338</td>\n",
       "      <td>C0012984</td>\n",
       "      <td>PROCESS_OF_PSproLB</td>\n",
       "    </tr>\n",
       "  </tbody>\n",
       "</table>\n",
       "</div>"
      ],
      "text/plain": [
       "  :START_ID   :END_ID               :TYPE\n",
       "0  C0026879  C0220806          ISA_CDi>CD\n",
       "1  C0017725  C0022378      PART_OF_CDpo>A\n",
       "2  C0006147  C0020114  PROCESS_OF_PSproLB\n",
       "3  C0279494  C0043210        TREATS_PRtLB\n",
       "4  C0232338  C0012984  PROCESS_OF_PSproLB"
      ]
     },
     "execution_count": 5,
     "metadata": {},
     "output_type": "execute_result"
    }
   ],
   "source": [
    "edges.head()"
   ]
  },
  {
   "cell_type": "code",
   "execution_count": 6,
   "metadata": {},
   "outputs": [
    {
     "name": "stdout",
     "output_type": "stream",
     "text": [
      "20891084\n"
     ]
    },
    {
     "data": {
      "text/plain": [
       "(20544920, 3)"
      ]
     },
     "execution_count": 6,
     "metadata": {},
     "output_type": "execute_result"
    }
   ],
   "source": [
    "print(edges.shape[0])\n",
    "edges = edges.drop_duplicates()\n",
    "edges = edges.dropna()\n",
    "edges.shape"
   ]
  },
  {
   "cell_type": "code",
   "execution_count": 7,
   "metadata": {},
   "outputs": [
    {
     "data": {
      "text/plain": [
       "INTERACTS_WITH_CDiwCD         828685\n",
       "LOCATION_OF_AloCD             800579\n",
       "STIMULATES_CDstCD             452324\n",
       "COEXISTS_WITH_CDcwCD          450955\n",
       "INTERACTS_WITH_GiwCD          424928\n",
       "LOCATION_OF_AloG              419681\n",
       "PROCESS_OF_DOproLB            410718\n",
       "INHIBITS_CDin>CD              379340\n",
       "LOCATION_OF_AloDO             366582\n",
       "LOCATION_OF_LBloCD            352224\n",
       "AFFECTS_CDafPS                351362\n",
       "PART_OF_CDpo>A                317538\n",
       "STIMULATES_GstCD              317084\n",
       "TREATS_CDtDO                  310916\n",
       "TREATS_PRtDO                  292562\n",
       "USES_PRuCD                    278386\n",
       "COEXISTS_WITH_DOcwDO          259293\n",
       "COEXISTS_WITH_CDcwG           255227\n",
       "COEXISTS_WITH_DOcwD           243032\n",
       "PART_OF_Gpo>A                 234502\n",
       "ASSOCIATED_WITH_CDawDO        217893\n",
       "PART_OF_Apo>A                 202994\n",
       "CAUSES_CDcDO                  202497\n",
       "PART_OF_CDpo>LB               193324\n",
       "compared_with_CDcpwCD         186585\n",
       "LOCATION_OF_LBloG             185404\n",
       "ASSOCIATED_WITH_CDawD         178711\n",
       "TREATS_CDtD                   176919\n",
       "AUGMENTS_CDagPS               176067\n",
       "AFFECTS_GafPS                 174080\n",
       "                               ...  \n",
       "ASSOCIATED_WITH_PSawGA             1\n",
       "NEG_METHOD_OF_CDnmoCD              1\n",
       "PART_OF_LBpo>PH                    1\n",
       "PRECEDES_DVpc>CI                   1\n",
       "NEG_STIMULATES_CInstC              1\n",
       "PRODUCES_Dpd>OR                    1\n",
       "PRODUCES_OBpd>PH                   1\n",
       "NEG_lower_than_LBnltCD             1\n",
       "MANIFESTATION_OF_PRmfoCI           1\n",
       "NEG_INHIBITS_OBninDO               1\n",
       "NEG_CAUSES_ABncCI                  1\n",
       "NEG_STIMULATES_GnstDO              1\n",
       "PROCESS_OF_OBproCI                 1\n",
       "NEG_ADMINISTERED_TO_AnatLB         1\n",
       "COMPLICATES_OBcpDO                 1\n",
       "STIMULATES_DOstDO                  1\n",
       "NEG_PREDISPOSES_CDnpsG             1\n",
       "higher_than_ChtPH                  1\n",
       "NEG_PREVENTS_OBnpvCI               1\n",
       "same_as_LBsaPS                     1\n",
       "LOCATION_OF_PHloAB                 1\n",
       "NEG_OCCURS_IN_CInoiDO              1\n",
       "CONVERTS_TO_Gct>PH                 1\n",
       "ASSOCIATED_WITH_GawC               1\n",
       "NEG_COEXISTS_WITH_AncwCI           1\n",
       "PREDISPOSES_ApsCI                  1\n",
       "PRODUCES_DVpd>DV                   1\n",
       "LOCATION_OF_OCloG                  1\n",
       "LOCATION_OF_GAloD                  1\n",
       "NEG_AFFECTS_CDnafDV                1\n",
       "Name: :TYPE, Length: 3959, dtype: int64"
      ]
     },
     "execution_count": 7,
     "metadata": {},
     "output_type": "execute_result"
    }
   ],
   "source": [
    "counts = edges[\":TYPE\"].value_counts()\n",
    "counts"
   ]
  },
  {
   "cell_type": "code",
   "execution_count": 8,
   "metadata": {},
   "outputs": [
    {
     "data": {
      "image/png": "[encoded data removed]",
      "text/plain": [
       "<matplotlib.figure.Figure at 0x7f5dff2ccbe0>"
      ]
     },
     "metadata": {},
     "output_type": "display_data"
    }
   ],
   "source": [
    "counts[:20].plot(kind='bar');"
   ]
  },
  {
   "cell_type": "markdown",
   "metadata": {},
   "source": [
    "Several relationships with low counts, A->B and B->A relationships could potentially be combined into A-B relationships"
   ]
  },
  {
   "cell_type": "markdown",
   "metadata": {},
   "source": [
    "# Filter out the lower count edge types"
   ]
  },
  {
   "cell_type": "code",
   "execution_count": 9,
   "metadata": {},
   "outputs": [
    {
     "data": {
      "text/plain": [
       "'20,544,920'"
      ]
     },
     "execution_count": 9,
     "metadata": {},
     "output_type": "execute_result"
    }
   ],
   "source": [
    "'{:,}'.format(edges.shape[0])"
   ]
  },
  {
   "cell_type": "code",
   "execution_count": 10,
   "metadata": {},
   "outputs": [
    {
     "name": "stdout",
     "output_type": "stream",
     "text": [
      "Number of edge types with this cutoff: 157\n",
      "Number of edges that remain with this cutoff: 17,694,379\n"
     ]
    }
   ],
   "source": [
    "cutoff = .001\n",
    "\n",
    "print(\"Number of edge types with this cutoff: {}\".format((counts > cutoff*len(edges)).sum()))\n",
    "print(\"Number of edges that remain with this cutoff: {:,}\".format(counts[counts > cutoff*len(edges)].sum()))"
   ]
  },
  {
   "cell_type": "code",
   "execution_count": 11,
   "metadata": {
    "collapsed": true
   },
   "outputs": [],
   "source": [
    "ok_edges = list(counts[counts > cutoff*len(edges)].index)"
   ]
  },
  {
   "cell_type": "code",
   "execution_count": 12,
   "metadata": {},
   "outputs": [],
   "source": [
    "edges.columns = ['START_ID', 'END_ID', 'TYPE']\n",
    "\n",
    "result = edges.query('TYPE in @ok_edges')\n",
    "\n",
    "result.columns = [':START_ID', ':END_ID', ':TYPE']"
   ]
  },
  {
   "cell_type": "code",
   "execution_count": 13,
   "metadata": {},
   "outputs": [
    {
     "data": {
      "text/plain": [
       "'17,694,379'"
      ]
     },
     "execution_count": 13,
     "metadata": {},
     "output_type": "execute_result"
    }
   ],
   "source": [
    "'{:,}'.format(result.shape[0])"
   ]
  },
  {
   "cell_type": "markdown",
   "metadata": {},
   "source": [
    "# Some quick validation that all ids are the same between nodes and edges"
   ]
  },
  {
   "cell_type": "code",
   "execution_count": 14,
   "metadata": {
    "collapsed": true
   },
   "outputs": [],
   "source": [
    "edge_ids = set(result[':START_ID'].unique()).intersection(set(result[':END_ID'].unique()))"
   ]
  },
  {
   "cell_type": "code",
   "execution_count": 15,
   "metadata": {
    "collapsed": true
   },
   "outputs": [],
   "source": [
    "node_ids = set(nodes[':ID'].unique())"
   ]
  },
  {
   "cell_type": "code",
   "execution_count": 16,
   "metadata": {
    "collapsed": true
   },
   "outputs": [],
   "source": [
    "not_in_edges = node_ids - edge_ids"
   ]
  },
  {
   "cell_type": "code",
   "execution_count": 17,
   "metadata": {
    "collapsed": true
   },
   "outputs": [],
   "source": [
    "not_in_edges = list(not_in_edges)"
   ]
  },
  {
   "cell_type": "code",
   "execution_count": 18,
   "metadata": {},
   "outputs": [
    {
     "data": {
      "text/html": [
       "<div>\n",
       "<style>\n",
       "    .dataframe thead tr:only-child th {\n",
       "        text-align: right;\n",
       "    }\n",
       "\n",
       "    .dataframe thead th {\n",
       "        text-align: left;\n",
       "    }\n",
       "\n",
       "    .dataframe tbody tr th {\n",
       "        vertical-align: top;\n",
       "    }\n",
       "</style>\n",
       "<table border=\"1\" class=\"dataframe\">\n",
       "  <thead>\n",
       "    <tr style=\"text-align: right;\">\n",
       "      <th></th>\n",
       "      <th>:ID</th>\n",
       "      <th>name</th>\n",
       "      <th>:LABEL</th>\n",
       "    </tr>\n",
       "  </thead>\n",
       "  <tbody>\n",
       "    <tr>\n",
       "      <th>31</th>\n",
       "      <td>C1273870</td>\n",
       "      <td>Management procedure</td>\n",
       "      <td>Activities &amp; Behaviors</td>\n",
       "    </tr>\n",
       "    <tr>\n",
       "      <th>61</th>\n",
       "      <td>C0008044</td>\n",
       "      <td>Chicago</td>\n",
       "      <td>Geographic Areas</td>\n",
       "    </tr>\n",
       "    <tr>\n",
       "      <th>81</th>\n",
       "      <td>C0002424</td>\n",
       "      <td>Ambulatory Care Facilities</td>\n",
       "      <td>Organizations</td>\n",
       "    </tr>\n",
       "    <tr>\n",
       "      <th>134</th>\n",
       "      <td>C0597198</td>\n",
       "      <td>Performance</td>\n",
       "      <td>Activities &amp; Behaviors</td>\n",
       "    </tr>\n",
       "    <tr>\n",
       "      <th>194</th>\n",
       "      <td>C0019994</td>\n",
       "      <td>Hospitals</td>\n",
       "      <td>Organizations</td>\n",
       "    </tr>\n",
       "    <tr>\n",
       "      <th>198</th>\n",
       "      <td>C0015272</td>\n",
       "      <td>Exhibits</td>\n",
       "      <td>Concepts &amp; Ideas</td>\n",
       "    </tr>\n",
       "    <tr>\n",
       "      <th>256</th>\n",
       "      <td>C0001712</td>\n",
       "      <td>Aerosols</td>\n",
       "      <td>Objects</td>\n",
       "    </tr>\n",
       "    <tr>\n",
       "      <th>281</th>\n",
       "      <td>C0199960</td>\n",
       "      <td>Transfusion - action</td>\n",
       "      <td>Concepts &amp; Ideas</td>\n",
       "    </tr>\n",
       "    <tr>\n",
       "      <th>283</th>\n",
       "      <td>C0020026</td>\n",
       "      <td>Hospitals, State</td>\n",
       "      <td>Organizations</td>\n",
       "    </tr>\n",
       "    <tr>\n",
       "      <th>301</th>\n",
       "      <td>C1074887</td>\n",
       "      <td>Bufo stomaticus</td>\n",
       "      <td>Living Beings</td>\n",
       "    </tr>\n",
       "    <tr>\n",
       "      <th>351</th>\n",
       "      <td>C0023625</td>\n",
       "      <td>Libraries, Medical</td>\n",
       "      <td>Organizations</td>\n",
       "    </tr>\n",
       "    <tr>\n",
       "      <th>422</th>\n",
       "      <td>C0000849</td>\n",
       "      <td>Absenteeism</td>\n",
       "      <td>Activities &amp; Behaviors</td>\n",
       "    </tr>\n",
       "    <tr>\n",
       "      <th>431</th>\n",
       "      <td>C0232478</td>\n",
       "      <td>Ingestion</td>\n",
       "      <td>Phenomena</td>\n",
       "    </tr>\n",
       "    <tr>\n",
       "      <th>462</th>\n",
       "      <td>C0392673</td>\n",
       "      <td>Adaptation</td>\n",
       "      <td>Phenomena</td>\n",
       "    </tr>\n",
       "    <tr>\n",
       "      <th>484</th>\n",
       "      <td>C0039593</td>\n",
       "      <td>Testing</td>\n",
       "      <td>Concepts &amp; Ideas</td>\n",
       "    </tr>\n",
       "    <tr>\n",
       "      <th>539</th>\n",
       "      <td>C0036861</td>\n",
       "      <td>Sewage</td>\n",
       "      <td>Phenomena</td>\n",
       "    </tr>\n",
       "    <tr>\n",
       "      <th>547</th>\n",
       "      <td>C0036378</td>\n",
       "      <td>Schools, Medical</td>\n",
       "      <td>Organizations</td>\n",
       "    </tr>\n",
       "    <tr>\n",
       "      <th>556</th>\n",
       "      <td>C0871745</td>\n",
       "      <td>Family Crises</td>\n",
       "      <td>Phenomena</td>\n",
       "    </tr>\n",
       "    <tr>\n",
       "      <th>624</th>\n",
       "      <td>C0924207</td>\n",
       "      <td>Inferior temporal vein</td>\n",
       "      <td>Anatomy</td>\n",
       "    </tr>\n",
       "    <tr>\n",
       "      <th>635</th>\n",
       "      <td>C0189471</td>\n",
       "      <td>Incision of lung</td>\n",
       "      <td>Procedures</td>\n",
       "    </tr>\n",
       "    <tr>\n",
       "      <th>657</th>\n",
       "      <td>C0010399</td>\n",
       "      <td>Crying</td>\n",
       "      <td>Activities &amp; Behaviors</td>\n",
       "    </tr>\n",
       "    <tr>\n",
       "      <th>660</th>\n",
       "      <td>C0205476</td>\n",
       "      <td>Medical</td>\n",
       "      <td>Concepts &amp; Ideas</td>\n",
       "    </tr>\n",
       "    <tr>\n",
       "      <th>683</th>\n",
       "      <td>C1306056</td>\n",
       "      <td>Worker</td>\n",
       "      <td>Occupations</td>\n",
       "    </tr>\n",
       "    <tr>\n",
       "      <th>702</th>\n",
       "      <td>C0205191</td>\n",
       "      <td>chronic</td>\n",
       "      <td>Concepts &amp; Ideas</td>\n",
       "    </tr>\n",
       "    <tr>\n",
       "      <th>708</th>\n",
       "      <td>C0443315</td>\n",
       "      <td>subcutaneous</td>\n",
       "      <td>Concepts &amp; Ideas</td>\n",
       "    </tr>\n",
       "    <tr>\n",
       "      <th>754</th>\n",
       "      <td>C0021622</td>\n",
       "      <td>Institutes</td>\n",
       "      <td>Organizations</td>\n",
       "    </tr>\n",
       "    <tr>\n",
       "      <th>780</th>\n",
       "      <td>C0004927</td>\n",
       "      <td>Behavior</td>\n",
       "      <td>Activities &amp; Behaviors</td>\n",
       "    </tr>\n",
       "    <tr>\n",
       "      <th>795</th>\n",
       "      <td>C1043051</td>\n",
       "      <td>Halacaridae</td>\n",
       "      <td>Living Beings</td>\n",
       "    </tr>\n",
       "    <tr>\n",
       "      <th>803</th>\n",
       "      <td>C0456984</td>\n",
       "      <td>Test Result</td>\n",
       "      <td>Phenomena</td>\n",
       "    </tr>\n",
       "    <tr>\n",
       "      <th>839</th>\n",
       "      <td>C0017399</td>\n",
       "      <td>genetic aspects</td>\n",
       "      <td>Concepts &amp; Ideas</td>\n",
       "    </tr>\n",
       "    <tr>\n",
       "      <th>...</th>\n",
       "      <td>...</td>\n",
       "      <td>...</td>\n",
       "      <td>...</td>\n",
       "    </tr>\n",
       "    <tr>\n",
       "      <th>268811</th>\n",
       "      <td>C0530008</td>\n",
       "      <td>MAD2L1 protein, human</td>\n",
       "      <td>Genes &amp; Molecular Sequences</td>\n",
       "    </tr>\n",
       "    <tr>\n",
       "      <th>268812</th>\n",
       "      <td>C1416707</td>\n",
       "      <td>KPNB3 gene</td>\n",
       "      <td>Genes &amp; Molecular Sequences</td>\n",
       "    </tr>\n",
       "    <tr>\n",
       "      <th>268827</th>\n",
       "      <td>C1420646</td>\n",
       "      <td>TCFL1 gene</td>\n",
       "      <td>Genes &amp; Molecular Sequences</td>\n",
       "    </tr>\n",
       "    <tr>\n",
       "      <th>268830</th>\n",
       "      <td>C1420704</td>\n",
       "      <td>TFP gene</td>\n",
       "      <td>Genes &amp; Molecular Sequences</td>\n",
       "    </tr>\n",
       "    <tr>\n",
       "      <th>268833</th>\n",
       "      <td>C1538576</td>\n",
       "      <td>PARK11 gene</td>\n",
       "      <td>Genes &amp; Molecular Sequences</td>\n",
       "    </tr>\n",
       "    <tr>\n",
       "      <th>268842</th>\n",
       "      <td>C1336667</td>\n",
       "      <td>TRAG3 gene</td>\n",
       "      <td>Genes &amp; Molecular Sequences</td>\n",
       "    </tr>\n",
       "    <tr>\n",
       "      <th>268843</th>\n",
       "      <td>C0908992</td>\n",
       "      <td>annexin A10 protein</td>\n",
       "      <td>Genes &amp; Molecular Sequences</td>\n",
       "    </tr>\n",
       "    <tr>\n",
       "      <th>268845</th>\n",
       "      <td>C1412542</td>\n",
       "      <td>ARL7 gene</td>\n",
       "      <td>Genes &amp; Molecular Sequences</td>\n",
       "    </tr>\n",
       "    <tr>\n",
       "      <th>268852</th>\n",
       "      <td>C1414652</td>\n",
       "      <td>FND gene</td>\n",
       "      <td>Genes &amp; Molecular Sequences</td>\n",
       "    </tr>\n",
       "    <tr>\n",
       "      <th>268855</th>\n",
       "      <td>C1120970</td>\n",
       "      <td>PAP protein, human</td>\n",
       "      <td>Genes &amp; Molecular Sequences</td>\n",
       "    </tr>\n",
       "    <tr>\n",
       "      <th>268857</th>\n",
       "      <td>C1427707</td>\n",
       "      <td>C7orf24 gene</td>\n",
       "      <td>Genes &amp; Molecular Sequences</td>\n",
       "    </tr>\n",
       "    <tr>\n",
       "      <th>268860</th>\n",
       "      <td>C1333656</td>\n",
       "      <td>GAGED3 gene</td>\n",
       "      <td>Genes &amp; Molecular Sequences</td>\n",
       "    </tr>\n",
       "    <tr>\n",
       "      <th>268876</th>\n",
       "      <td>C1426897</td>\n",
       "      <td>KIAA0317 gene</td>\n",
       "      <td>Genes &amp; Molecular Sequences</td>\n",
       "    </tr>\n",
       "    <tr>\n",
       "      <th>268880</th>\n",
       "      <td>C1537733</td>\n",
       "      <td>MIRN29B1 gene</td>\n",
       "      <td>Genes &amp; Molecular Sequences</td>\n",
       "    </tr>\n",
       "    <tr>\n",
       "      <th>268887</th>\n",
       "      <td>C1414610</td>\n",
       "      <td>FGS1 gene</td>\n",
       "      <td>Genes &amp; Molecular Sequences</td>\n",
       "    </tr>\n",
       "    <tr>\n",
       "      <th>268895</th>\n",
       "      <td>C1427893</td>\n",
       "      <td>TRAPPC9 gene</td>\n",
       "      <td>Genes &amp; Molecular Sequences</td>\n",
       "    </tr>\n",
       "    <tr>\n",
       "      <th>268899</th>\n",
       "      <td>C0138799</td>\n",
       "      <td>salivary protein A</td>\n",
       "      <td>Genes &amp; Molecular Sequences</td>\n",
       "    </tr>\n",
       "    <tr>\n",
       "      <th>268901</th>\n",
       "      <td>C0076182</td>\n",
       "      <td>testosterone 17 beta-dehydrogenase</td>\n",
       "      <td>Genes &amp; Molecular Sequences</td>\n",
       "    </tr>\n",
       "    <tr>\n",
       "      <th>268902</th>\n",
       "      <td>C0072121</td>\n",
       "      <td>proline-beta-naphthylamidase</td>\n",
       "      <td>Genes &amp; Molecular Sequences</td>\n",
       "    </tr>\n",
       "    <tr>\n",
       "      <th>268904</th>\n",
       "      <td>C1413669</td>\n",
       "      <td>CPL1 gene</td>\n",
       "      <td>Genes &amp; Molecular Sequences</td>\n",
       "    </tr>\n",
       "    <tr>\n",
       "      <th>268905</th>\n",
       "      <td>C0214555</td>\n",
       "      <td>engrailed 1 protein</td>\n",
       "      <td>Genes &amp; Molecular Sequences</td>\n",
       "    </tr>\n",
       "    <tr>\n",
       "      <th>268906</th>\n",
       "      <td>C0297351</td>\n",
       "      <td>protein-tyrosine phosphatase HA2</td>\n",
       "      <td>Genes &amp; Molecular Sequences</td>\n",
       "    </tr>\n",
       "    <tr>\n",
       "      <th>268908</th>\n",
       "      <td>C0910046</td>\n",
       "      <td>CCR4 protein, mammalian</td>\n",
       "      <td>Genes &amp; Molecular Sequences</td>\n",
       "    </tr>\n",
       "    <tr>\n",
       "      <th>268911</th>\n",
       "      <td>C0967676</td>\n",
       "      <td>interleukin-2-15 receptor-beta</td>\n",
       "      <td>Genes &amp; Molecular Sequences</td>\n",
       "    </tr>\n",
       "    <tr>\n",
       "      <th>268912</th>\n",
       "      <td>C1424301</td>\n",
       "      <td>FNBP3 gene</td>\n",
       "      <td>Genes &amp; Molecular Sequences</td>\n",
       "    </tr>\n",
       "    <tr>\n",
       "      <th>268913</th>\n",
       "      <td>C1427950</td>\n",
       "      <td>HSN2 gene</td>\n",
       "      <td>Genes &amp; Molecular Sequences</td>\n",
       "    </tr>\n",
       "    <tr>\n",
       "      <th>268914</th>\n",
       "      <td>C1419045</td>\n",
       "      <td>PSORS1 gene</td>\n",
       "      <td>Genes &amp; Molecular Sequences</td>\n",
       "    </tr>\n",
       "    <tr>\n",
       "      <th>268915</th>\n",
       "      <td>C1418987</td>\n",
       "      <td>PSF1 gene</td>\n",
       "      <td>Genes &amp; Molecular Sequences</td>\n",
       "    </tr>\n",
       "    <tr>\n",
       "      <th>268916</th>\n",
       "      <td>C1419878</td>\n",
       "      <td>CCL4L gene</td>\n",
       "      <td>Genes &amp; Molecular Sequences</td>\n",
       "    </tr>\n",
       "    <tr>\n",
       "      <th>268917</th>\n",
       "      <td>C1426568</td>\n",
       "      <td>KIAA1409 gene</td>\n",
       "      <td>Genes &amp; Molecular Sequences</td>\n",
       "    </tr>\n",
       "  </tbody>\n",
       "</table>\n",
       "<p>101706 rows × 3 columns</p>\n",
       "</div>"
      ],
      "text/plain": [
       "             :ID                                name  \\\n",
       "31      C1273870                Management procedure   \n",
       "61      C0008044                             Chicago   \n",
       "81      C0002424          Ambulatory Care Facilities   \n",
       "134     C0597198                         Performance   \n",
       "194     C0019994                           Hospitals   \n",
       "198     C0015272                            Exhibits   \n",
       "256     C0001712                            Aerosols   \n",
       "281     C0199960                Transfusion - action   \n",
       "283     C0020026                    Hospitals, State   \n",
       "301     C1074887                     Bufo stomaticus   \n",
       "351     C0023625                  Libraries, Medical   \n",
       "422     C0000849                         Absenteeism   \n",
       "431     C0232478                           Ingestion   \n",
       "462     C0392673                          Adaptation   \n",
       "484     C0039593                             Testing   \n",
       "539     C0036861                              Sewage   \n",
       "547     C0036378                    Schools, Medical   \n",
       "556     C0871745                       Family Crises   \n",
       "624     C0924207              Inferior temporal vein   \n",
       "635     C0189471                    Incision of lung   \n",
       "657     C0010399                              Crying   \n",
       "660     C0205476                             Medical   \n",
       "683     C1306056                              Worker   \n",
       "702     C0205191                             chronic   \n",
       "708     C0443315                        subcutaneous   \n",
       "754     C0021622                          Institutes   \n",
       "780     C0004927                            Behavior   \n",
       "795     C1043051                         Halacaridae   \n",
       "803     C0456984                         Test Result   \n",
       "839     C0017399                     genetic aspects   \n",
       "...          ...                                 ...   \n",
       "268811  C0530008               MAD2L1 protein, human   \n",
       "268812  C1416707                          KPNB3 gene   \n",
       "268827  C1420646                          TCFL1 gene   \n",
       "268830  C1420704                            TFP gene   \n",
       "268833  C1538576                         PARK11 gene   \n",
       "268842  C1336667                          TRAG3 gene   \n",
       "268843  C0908992                 annexin A10 protein   \n",
       "268845  C1412542                           ARL7 gene   \n",
       "268852  C1414652                            FND gene   \n",
       "268855  C1120970                  PAP protein, human   \n",
       "268857  C1427707                        C7orf24 gene   \n",
       "268860  C1333656                         GAGED3 gene   \n",
       "268876  C1426897                       KIAA0317 gene   \n",
       "268880  C1537733                       MIRN29B1 gene   \n",
       "268887  C1414610                           FGS1 gene   \n",
       "268895  C1427893                        TRAPPC9 gene   \n",
       "268899  C0138799                  salivary protein A   \n",
       "268901  C0076182  testosterone 17 beta-dehydrogenase   \n",
       "268902  C0072121        proline-beta-naphthylamidase   \n",
       "268904  C1413669                           CPL1 gene   \n",
       "268905  C0214555                 engrailed 1 protein   \n",
       "268906  C0297351    protein-tyrosine phosphatase HA2   \n",
       "268908  C0910046             CCR4 protein, mammalian   \n",
       "268911  C0967676      interleukin-2-15 receptor-beta   \n",
       "268912  C1424301                          FNBP3 gene   \n",
       "268913  C1427950                           HSN2 gene   \n",
       "268914  C1419045                         PSORS1 gene   \n",
       "268915  C1418987                           PSF1 gene   \n",
       "268916  C1419878                          CCL4L gene   \n",
       "268917  C1426568                       KIAA1409 gene   \n",
       "\n",
       "                             :LABEL  \n",
       "31           Activities & Behaviors  \n",
       "61                 Geographic Areas  \n",
       "81                    Organizations  \n",
       "134          Activities & Behaviors  \n",
       "194                   Organizations  \n",
       "198                Concepts & Ideas  \n",
       "256                         Objects  \n",
       "281                Concepts & Ideas  \n",
       "283                   Organizations  \n",
       "301                   Living Beings  \n",
       "351                   Organizations  \n",
       "422          Activities & Behaviors  \n",
       "431                       Phenomena  \n",
       "462                       Phenomena  \n",
       "484                Concepts & Ideas  \n",
       "539                       Phenomena  \n",
       "547                   Organizations  \n",
       "556                       Phenomena  \n",
       "624                         Anatomy  \n",
       "635                      Procedures  \n",
       "657          Activities & Behaviors  \n",
       "660                Concepts & Ideas  \n",
       "683                     Occupations  \n",
       "702                Concepts & Ideas  \n",
       "708                Concepts & Ideas  \n",
       "754                   Organizations  \n",
       "780          Activities & Behaviors  \n",
       "795                   Living Beings  \n",
       "803                       Phenomena  \n",
       "839                Concepts & Ideas  \n",
       "...                             ...  \n",
       "268811  Genes & Molecular Sequences  \n",
       "268812  Genes & Molecular Sequences  \n",
       "268827  Genes & Molecular Sequences  \n",
       "268830  Genes & Molecular Sequences  \n",
       "268833  Genes & Molecular Sequences  \n",
       "268842  Genes & Molecular Sequences  \n",
       "268843  Genes & Molecular Sequences  \n",
       "268845  Genes & Molecular Sequences  \n",
       "268852  Genes & Molecular Sequences  \n",
       "268855  Genes & Molecular Sequences  \n",
       "268857  Genes & Molecular Sequences  \n",
       "268860  Genes & Molecular Sequences  \n",
       "268876  Genes & Molecular Sequences  \n",
       "268880  Genes & Molecular Sequences  \n",
       "268887  Genes & Molecular Sequences  \n",
       "268895  Genes & Molecular Sequences  \n",
       "268899  Genes & Molecular Sequences  \n",
       "268901  Genes & Molecular Sequences  \n",
       "268902  Genes & Molecular Sequences  \n",
       "268904  Genes & Molecular Sequences  \n",
       "268905  Genes & Molecular Sequences  \n",
       "268906  Genes & Molecular Sequences  \n",
       "268908  Genes & Molecular Sequences  \n",
       "268911  Genes & Molecular Sequences  \n",
       "268912  Genes & Molecular Sequences  \n",
       "268913  Genes & Molecular Sequences  \n",
       "268914  Genes & Molecular Sequences  \n",
       "268915  Genes & Molecular Sequences  \n",
       "268916  Genes & Molecular Sequences  \n",
       "268917  Genes & Molecular Sequences  \n",
       "\n",
       "[101706 rows x 3 columns]"
      ]
     },
     "execution_count": 18,
     "metadata": {},
     "output_type": "execute_result"
    }
   ],
   "source": [
    "nodes.columns = ['ID', 'name', 'LABEL']\n",
    "idx = nodes.query('ID in @not_in_edges').index\n",
    "nodes.columns = [':ID', 'name', ':LABEL']\n",
    "nodes.loc[idx]"
   ]
  },
  {
   "cell_type": "code",
   "execution_count": 19,
   "metadata": {
    "collapsed": true
   },
   "outputs": [],
   "source": [
    "nodes = nodes.drop(idx)"
   ]
  },
  {
   "cell_type": "code",
   "execution_count": 20,
   "metadata": {},
   "outputs": [
    {
     "data": {
      "text/plain": [
       "167212"
      ]
     },
     "execution_count": 20,
     "metadata": {},
     "output_type": "execute_result"
    }
   ],
   "source": [
    "len(nodes)"
   ]
  },
  {
   "cell_type": "code",
   "execution_count": 21,
   "metadata": {
    "collapsed": true
   },
   "outputs": [],
   "source": [
    "result = result.sort_values(':TYPE')\n",
    "nodes = nodes.sort_values(':LABEL')"
   ]
  },
  {
   "cell_type": "code",
   "execution_count": 22,
   "metadata": {
    "collapsed": true
   },
   "outputs": [],
   "source": [
    "result.to_csv('../data/edges_filtered_001.csv', index=False)\n",
    "nodes.to_csv('../data/nodes_filtered_001.csv', index=False)"
   ]
  },
  {
   "cell_type": "code",
   "execution_count": 23,
   "metadata": {},
   "outputs": [
    {
     "data": {
      "image/png": "[encoded data removed]",
      "text/plain": [
       "<matplotlib.figure.Figure at 0x7f5dff2cc0b8>"
      ]
     },
     "metadata": {},
     "output_type": "display_data"
    }
   ],
   "source": [
    "nodes[':LABEL'].value_counts().plot(kind='bar');"
   ]
  }
 ],
 "metadata": {
  "kernelspec": {
   "display_name": "Python 3",
   "language": "python",
   "name": "python3"
  },
  "language_info": {
   "codemirror_mode": {
    "name": "ipython",
    "version": 3
   },
   "file_extension": ".py",
   "mimetype": "text/x-python",
   "name": "python",
   "nbconvert_exporter": "python",
   "pygments_lexer": "ipython3",
   "version": "3.5.4"
  }
 },
 "nbformat": 4,
 "nbformat_minor": 1
}
