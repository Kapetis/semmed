{
 "cells": [
  {
   "cell_type": "code",
   "execution_count": 1,
   "metadata": {
    "collapsed": false,
    "deletable": true,
    "editable": true
   },
   "outputs": [],
   "source": [
    "%matplotlib inline\n",
    "import pandas as pd\n",
    "import seaborn as sns\n",
    "import matplotlib.pyplot as plt"
   ]
  },
  {
   "cell_type": "code",
   "execution_count": 2,
   "metadata": {
    "collapsed": false,
    "deletable": true,
    "editable": true
   },
   "outputs": [
    {
     "name": "stderr",
     "output_type": "stream",
     "text": [
      "/home/mmayers/software/anaconda3/envs/integrate/lib/python3.5/site-packages/IPython/core/interactiveshell.py:2723: DtypeWarning: Columns (2) have mixed types. Specify dtype option on import or set low_memory=False.\n",
      "  interactivity=interactivity, compiler=compiler, result=result)\n"
     ]
    }
   ],
   "source": [
    "sem_df = pd.read_csv('../data/semmedVER30_A.csv')"
   ]
  },
  {
   "cell_type": "code",
   "execution_count": 3,
   "metadata": {
    "collapsed": false,
    "deletable": true,
    "editable": true
   },
   "outputs": [
    {
     "name": "stdout",
     "output_type": "stream",
     "text": [
      "Rows: 89,173,359\n",
      "Cols: 12\n"
     ]
    }
   ],
   "source": [
    "print('Rows: {:,}'.format(sem_df.shape[0]))\n",
    "print('Cols: {}'.format(sem_df.shape[1]))"
   ]
  },
  {
   "cell_type": "code",
   "execution_count": 4,
   "metadata": {
    "collapsed": false,
    "deletable": true,
    "editable": true
   },
   "outputs": [
    {
     "data": {
      "text/html": [
       "<div>\n",
       "<style>\n",
       "    .dataframe thead tr:only-child th {\n",
       "        text-align: right;\n",
       "    }\n",
       "\n",
       "    .dataframe thead th {\n",
       "        text-align: left;\n",
       "    }\n",
       "\n",
       "    .dataframe tbody tr th {\n",
       "        vertical-align: top;\n",
       "    }\n",
       "</style>\n",
       "<table border=\"1\" class=\"dataframe\">\n",
       "  <thead>\n",
       "    <tr style=\"text-align: right;\">\n",
       "      <th></th>\n",
       "      <th>PREDICATION_ID</th>\n",
       "      <th>SENTENCE_ID</th>\n",
       "      <th>PMID</th>\n",
       "      <th>PREDICATE</th>\n",
       "      <th>SUBJECT_CUI</th>\n",
       "      <th>SUBJECT_NAME</th>\n",
       "      <th>SUBJECT_SEMTYPE</th>\n",
       "      <th>SUBJECT_NOVELTY</th>\n",
       "      <th>OBJECT_CUI</th>\n",
       "      <th>OBJECT_NAME</th>\n",
       "      <th>OBJECT_SEMTYPE</th>\n",
       "      <th>OBJECT_NOVELTY</th>\n",
       "    </tr>\n",
       "  </thead>\n",
       "  <tbody>\n",
       "    <tr>\n",
       "      <th>0</th>\n",
       "      <td>61</td>\n",
       "      <td>128</td>\n",
       "      <td>14420371</td>\n",
       "      <td>ISA</td>\n",
       "      <td>C0026879</td>\n",
       "      <td>Mutagens</td>\n",
       "      <td>hops</td>\n",
       "      <td>1</td>\n",
       "      <td>C0220806</td>\n",
       "      <td>Chemicals</td>\n",
       "      <td>chem</td>\n",
       "      <td>1</td>\n",
       "    </tr>\n",
       "    <tr>\n",
       "      <th>1</th>\n",
       "      <td>62</td>\n",
       "      <td>116</td>\n",
       "      <td>5659339</td>\n",
       "      <td>PART_OF</td>\n",
       "      <td>C0017725</td>\n",
       "      <td>Glucose</td>\n",
       "      <td>bacs</td>\n",
       "      <td>1</td>\n",
       "      <td>C0022378</td>\n",
       "      <td>jejunum</td>\n",
       "      <td>bpoc</td>\n",
       "      <td>1</td>\n",
       "    </tr>\n",
       "    <tr>\n",
       "      <th>2</th>\n",
       "      <td>63</td>\n",
       "      <td>146</td>\n",
       "      <td>12255310</td>\n",
       "      <td>PROCESS_OF</td>\n",
       "      <td>C0006147</td>\n",
       "      <td>Breast Feeding</td>\n",
       "      <td>orgf</td>\n",
       "      <td>1</td>\n",
       "      <td>C0020114</td>\n",
       "      <td>Human</td>\n",
       "      <td>humn</td>\n",
       "      <td>1</td>\n",
       "    </tr>\n",
       "    <tr>\n",
       "      <th>3</th>\n",
       "      <td>64</td>\n",
       "      <td>170</td>\n",
       "      <td>12305488</td>\n",
       "      <td>TREATS</td>\n",
       "      <td>C0279494</td>\n",
       "      <td>Oestrogen therapy</td>\n",
       "      <td>topp</td>\n",
       "      <td>1</td>\n",
       "      <td>C0043210</td>\n",
       "      <td>Woman</td>\n",
       "      <td>popg</td>\n",
       "      <td>1</td>\n",
       "    </tr>\n",
       "    <tr>\n",
       "      <th>4</th>\n",
       "      <td>65</td>\n",
       "      <td>116</td>\n",
       "      <td>5659339</td>\n",
       "      <td>PROCESS_OF</td>\n",
       "      <td>C0232338</td>\n",
       "      <td>Blood flow</td>\n",
       "      <td>orgf</td>\n",
       "      <td>1</td>\n",
       "      <td>C0012984</td>\n",
       "      <td>Canis familiaris</td>\n",
       "      <td>mamm</td>\n",
       "      <td>1</td>\n",
       "    </tr>\n",
       "  </tbody>\n",
       "</table>\n",
       "</div>"
      ],
      "text/plain": [
       "   PREDICATION_ID  SENTENCE_ID      PMID   PREDICATE SUBJECT_CUI  \\\n",
       "0              61          128  14420371         ISA    C0026879   \n",
       "1              62          116   5659339     PART_OF    C0017725   \n",
       "2              63          146  12255310  PROCESS_OF    C0006147   \n",
       "3              64          170  12305488      TREATS    C0279494   \n",
       "4              65          116   5659339  PROCESS_OF    C0232338   \n",
       "\n",
       "        SUBJECT_NAME SUBJECT_SEMTYPE  SUBJECT_NOVELTY OBJECT_CUI  \\\n",
       "0           Mutagens            hops                1   C0220806   \n",
       "1            Glucose            bacs                1   C0022378   \n",
       "2     Breast Feeding            orgf                1   C0020114   \n",
       "3  Oestrogen therapy            topp                1   C0043210   \n",
       "4         Blood flow            orgf                1   C0012984   \n",
       "\n",
       "        OBJECT_NAME OBJECT_SEMTYPE  OBJECT_NOVELTY  \n",
       "0         Chemicals           chem               1  \n",
       "1           jejunum           bpoc               1  \n",
       "2             Human           humn               1  \n",
       "3             Woman           popg               1  \n",
       "4  Canis familiaris           mamm               1  "
      ]
     },
     "execution_count": 4,
     "metadata": {},
     "output_type": "execute_result"
    }
   ],
   "source": [
    "sem_df.head()"
   ]
  },
  {
   "cell_type": "markdown",
   "metadata": {
    "deletable": true,
    "editable": true
   },
   "source": [
    "# Predicates"
   ]
  },
  {
   "cell_type": "code",
   "execution_count": 5,
   "metadata": {
    "collapsed": true,
    "deletable": true,
    "editable": true
   },
   "outputs": [],
   "source": [
    "preds = sem_df['PREDICATE'].value_counts()"
   ]
  },
  {
   "cell_type": "code",
   "execution_count": 6,
   "metadata": {
    "collapsed": false,
    "deletable": true,
    "editable": true
   },
   "outputs": [
    {
     "data": {
      "text/plain": [
       "68"
      ]
     },
     "execution_count": 6,
     "metadata": {},
     "output_type": "execute_result"
    }
   ],
   "source": [
    "len(preds)"
   ]
  },
  {
   "cell_type": "code",
   "execution_count": 8,
   "metadata": {
    "collapsed": false,
    "deletable": true,
    "editable": true
   },
   "outputs": [
    {
     "data": {
      "image/png": "[encoded data removed]",
      "text/plain": [
       "<matplotlib.figure.Figure at 0x7f7798bec358>"
      ]
     },
     "metadata": {},
     "output_type": "display_data"
    }
   ],
   "source": [
    "preds[:15].plot(kind='bar');"
   ]
  },
  {
   "cell_type": "code",
   "execution_count": 9,
   "metadata": {
    "collapsed": false,
    "deletable": true,
    "editable": true,
    "scrolled": false
   },
   "outputs": [
    {
     "data": {
      "image/png": "[encoded data removed]",
      "text/plain": [
       "<matplotlib.figure.Figure at 0x7f77499e1be0>"
      ]
     },
     "metadata": {},
     "output_type": "display_data"
    }
   ],
   "source": [
    "preds[-15:].plot(kind='bar');"
   ]
  },
  {
   "cell_type": "code",
   "execution_count": 9,
   "metadata": {
    "collapsed": false,
    "deletable": true,
    "editable": true
   },
   "outputs": [
    {
     "data": {
      "text/html": [
       "<div>\n",
       "<style>\n",
       "    .dataframe thead tr:only-child th {\n",
       "        text-align: right;\n",
       "    }\n",
       "\n",
       "    .dataframe thead th {\n",
       "        text-align: left;\n",
       "    }\n",
       "\n",
       "    .dataframe tbody tr th {\n",
       "        vertical-align: top;\n",
       "    }\n",
       "</style>\n",
       "<table border=\"1\" class=\"dataframe\">\n",
       "  <thead>\n",
       "    <tr style=\"text-align: right;\">\n",
       "      <th></th>\n",
       "      <th>PREDICATION_ID</th>\n",
       "      <th>SENTENCE_ID</th>\n",
       "      <th>PMID</th>\n",
       "      <th>PREDICATE</th>\n",
       "      <th>SUBJECT_CUI</th>\n",
       "      <th>SUBJECT_NAME</th>\n",
       "      <th>SUBJECT_SEMTYPE</th>\n",
       "      <th>SUBJECT_NOVELTY</th>\n",
       "      <th>OBJECT_CUI</th>\n",
       "      <th>OBJECT_NAME</th>\n",
       "      <th>OBJECT_SEMTYPE</th>\n",
       "      <th>OBJECT_NOVELTY</th>\n",
       "    </tr>\n",
       "  </thead>\n",
       "  <tbody>\n",
       "    <tr>\n",
       "      <th>78562985</th>\n",
       "      <td>78924979</td>\n",
       "      <td>136605831</td>\n",
       "      <td>11116842</td>\n",
       "      <td>1176</td>\n",
       "      <td>C0024485</td>\n",
       "      <td>Magnetic Resonance Imaging</td>\n",
       "      <td>diap</td>\n",
       "      <td>1</td>\n",
       "      <td>1333|Arthroscopy</td>\n",
       "      <td>0|diap</td>\n",
       "      <td>0</td>\n",
       "      <td>1</td>\n",
       "    </tr>\n",
       "    <tr>\n",
       "      <th>78562986</th>\n",
       "      <td>78924980</td>\n",
       "      <td>136605831</td>\n",
       "      <td>11116842</td>\n",
       "      <td>1176</td>\n",
       "      <td>C0024485</td>\n",
       "      <td>Magnetic Resonance Imaging</td>\n",
       "      <td>diap</td>\n",
       "      <td>1</td>\n",
       "      <td>1333|Diagnosis</td>\n",
       "      <td>0|hlca</td>\n",
       "      <td>0</td>\n",
       "      <td>1</td>\n",
       "    </tr>\n",
       "  </tbody>\n",
       "</table>\n",
       "</div>"
      ],
      "text/plain": [
       "          PREDICATION_ID  SENTENCE_ID      PMID PREDICATE SUBJECT_CUI  \\\n",
       "78562985        78924979    136605831  11116842      1176    C0024485   \n",
       "78562986        78924980    136605831  11116842      1176    C0024485   \n",
       "\n",
       "                        SUBJECT_NAME SUBJECT_SEMTYPE  SUBJECT_NOVELTY  \\\n",
       "78562985  Magnetic Resonance Imaging            diap                1   \n",
       "78562986  Magnetic Resonance Imaging            diap                1   \n",
       "\n",
       "                OBJECT_CUI OBJECT_NAME OBJECT_SEMTYPE  OBJECT_NOVELTY  \n",
       "78562985  1333|Arthroscopy      0|diap              0               1  \n",
       "78562986    1333|Diagnosis      0|hlca              0               1  "
      ]
     },
     "execution_count": 9,
     "metadata": {},
     "output_type": "execute_result"
    }
   ],
   "source": [
    "sem_df.query('PREDICATE == \"1176\"')"
   ]
  },
  {
   "cell_type": "markdown",
   "metadata": {
    "deletable": true,
    "editable": true
   },
   "source": [
    "    mysql> SELECT * FROM PREDICATION where PREDICATION_ID=78924979;\n",
    "    +----------------+-------------+----------+-----------+-------------+----------------------------+-----------------+-----------------+------------------+-------------+----------------+----------------+\n",
    "    | PREDICATION_ID | SENTENCE_ID | PMID     | PREDICATE | SUBJECT_CUI | SUBJECT_NAME               | SUBJECT_SEMTYPE | SUBJECT_NOVELTY | OBJECT_CUI       | OBJECT_NAME | OBJECT_SEMTYPE | OBJECT_NOVELTY |\n",
    "    +----------------+-------------+----------+-----------+-------------+----------------------------+-----------------+-----------------+------------------+-------------+----------------+----------------+\n",
    "    |       78924979 |   136605831 | 11116842 | 1176      | C0024485    | Magnetic Resonance Imaging | diap            |               1 | 1333|Arthroscopy | 0|diap      | 0              |              1 |\n",
    "    +----------------+-------------+----------+-----------+-------------+----------------------------+-----------------+-----------------+------------------+-------------+----------------+----------------+\n",
    "    1 row in set (0.00 sec)"
   ]
  },
  {
   "cell_type": "markdown",
   "metadata": {
    "deletable": true,
    "editable": true
   },
   "source": [
    "# Sem-Types\n",
    "\n",
    "Semtypes are abbreviated, so need to get mappings to true name.  \n",
    "Examining the length of the map file, there should be 133 semtypes.\n",
    "\n",
    "### Semmtypes abbreviation mappings"
   ]
  },
  {
   "cell_type": "code",
   "execution_count": 10,
   "metadata": {
    "collapsed": true,
    "deletable": true,
    "editable": true
   },
   "outputs": [],
   "source": [
    "abbv_to_type = dict()\n",
    "with open('../SemanticTypes_2013AA.txt') as fin:\n",
    "    for line in fin:\n",
    "        lspt = line.split('|')\n",
    "        abbv_to_type[lspt[0]] = lspt[-1]\n",
    "type_to_abbv = {v:k for k, v in abbv_to_type.items()}"
   ]
  },
  {
   "cell_type": "markdown",
   "metadata": {
    "deletable": true,
    "editable": true
   },
   "source": [
    "Semtypes also have a supertype.   \n",
    "The mapping file has this structure:\n",
    "\n",
    "    ANAT|Anatomy|T017|Anatomical Structure\n",
    "\n",
    "### Semtype supertypes mappings"
   ]
  },
  {
   "cell_type": "code",
   "execution_count": 11,
   "metadata": {
    "collapsed": true,
    "deletable": true,
    "editable": true
   },
   "outputs": [],
   "source": [
    "abbv_to_super = dict()\n",
    "with open('../SemGroups_2013.txt') as fin:\n",
    "    for line in fin:\n",
    "        lspt = line.split('|')\n",
    "        abbv_to_super[type_to_abbv[lspt[-1]]] = lspt[1]"
   ]
  },
  {
   "cell_type": "markdown",
   "metadata": {
    "deletable": true,
    "editable": true
   },
   "source": [
    "### See what sem_types exist"
   ]
  },
  {
   "cell_type": "code",
   "execution_count": 12,
   "metadata": {
    "collapsed": false,
    "deletable": true,
    "editable": true,
    "scrolled": true
   },
   "outputs": [
    {
     "data": {
      "text/plain": [
       "133"
      ]
     },
     "execution_count": 12,
     "metadata": {},
     "output_type": "execute_result"
    }
   ],
   "source": [
    "sem_df['SUBJECT_SEMTYPE'].nunique()"
   ]
  },
  {
   "cell_type": "code",
   "execution_count": 13,
   "metadata": {
    "collapsed": false,
    "deletable": true,
    "editable": true
   },
   "outputs": [
    {
     "data": {
      "text/plain": [
       "143"
      ]
     },
     "execution_count": 13,
     "metadata": {},
     "output_type": "execute_result"
    }
   ],
   "source": [
    "sem_df['OBJECT_SEMTYPE'].nunique()"
   ]
  },
  {
   "cell_type": "markdown",
   "metadata": {
    "deletable": true,
    "editable": true
   },
   "source": [
    "There should only be 133 Semtypes, so something went wrong with some of these.  Assuming errors are rare, lets extract the sem-types and look at the 15 least common to see if there are errornious SemTypes.  "
   ]
  },
  {
   "cell_type": "code",
   "execution_count": 14,
   "metadata": {
    "collapsed": true,
    "deletable": true,
    "editable": true
   },
   "outputs": [],
   "source": [
    "sub_sems = sem_df['SUBJECT_SEMTYPE'].value_counts()\n",
    "obj_sems = sem_df['OBJECT_SEMTYPE'].value_counts()"
   ]
  },
  {
   "cell_type": "code",
   "execution_count": 15,
   "metadata": {
    "collapsed": false,
    "deletable": true,
    "editable": true,
    "scrolled": false
   },
   "outputs": [
    {
     "data": {
      "text/plain": [
       "bhvr            177\n",
       "drdd            153\n",
       "shro             64\n",
       "pros             43\n",
       "phob              6\n",
       "0                 2\n",
       "Bands             2\n",
       "1                 2\n",
       "Symptoms          1\n",
       "Animal Model      1\n",
       "Hepatitis E       1\n",
       "Avalanche         1\n",
       "C0647605          1\n",
       "Interleukins      1\n",
       "Patients          1\n",
       "Name: OBJECT_SEMTYPE, dtype: int64"
      ]
     },
     "execution_count": 15,
     "metadata": {},
     "output_type": "execute_result"
    }
   ],
   "source": [
    "obj_sems[-15:]"
   ]
  },
  {
   "cell_type": "markdown",
   "metadata": {
    "deletable": true,
    "editable": true
   },
   "source": [
    "So the last 10 definitely look erronious, Will compare the values in the .csv to those in the mysql DB.  "
   ]
  },
  {
   "cell_type": "code",
   "execution_count": 16,
   "metadata": {
    "collapsed": false,
    "deletable": true,
    "editable": true,
    "scrolled": true
   },
   "outputs": [
    {
     "data": {
      "text/html": [
       "<div>\n",
       "<style>\n",
       "    .dataframe thead tr:only-child th {\n",
       "        text-align: right;\n",
       "    }\n",
       "\n",
       "    .dataframe thead th {\n",
       "        text-align: left;\n",
       "    }\n",
       "\n",
       "    .dataframe tbody tr th {\n",
       "        vertical-align: top;\n",
       "    }\n",
       "</style>\n",
       "<table border=\"1\" class=\"dataframe\">\n",
       "  <thead>\n",
       "    <tr style=\"text-align: right;\">\n",
       "      <th></th>\n",
       "      <th>PREDICATION_ID</th>\n",
       "      <th>SENTENCE_ID</th>\n",
       "      <th>PMID</th>\n",
       "      <th>PREDICATE</th>\n",
       "      <th>SUBJECT_CUI</th>\n",
       "      <th>SUBJECT_NAME</th>\n",
       "      <th>SUBJECT_SEMTYPE</th>\n",
       "      <th>SUBJECT_NOVELTY</th>\n",
       "      <th>OBJECT_CUI</th>\n",
       "      <th>OBJECT_NAME</th>\n",
       "      <th>OBJECT_SEMTYPE</th>\n",
       "      <th>OBJECT_NOVELTY</th>\n",
       "    </tr>\n",
       "  </thead>\n",
       "  <tbody>\n",
       "    <tr>\n",
       "      <th>71691690</th>\n",
       "      <td>71932030</td>\n",
       "      <td>130086309</td>\n",
       "      <td>26191840</td>\n",
       "      <td>PREP</td>\n",
       "      <td>1756</td>\n",
       "      <td>DMD</td>\n",
       "      <td>gngm</td>\n",
       "      <td>1</td>\n",
       "      <td>1|medd</td>\n",
       "      <td>C0175723</td>\n",
       "      <td>Bands</td>\n",
       "      <td>1</td>\n",
       "    </tr>\n",
       "    <tr>\n",
       "      <th>71691694</th>\n",
       "      <td>71932034</td>\n",
       "      <td>130086309</td>\n",
       "      <td>26191840</td>\n",
       "      <td>PREP</td>\n",
       "      <td>1756</td>\n",
       "      <td>DMD</td>\n",
       "      <td>gngm</td>\n",
       "      <td>1</td>\n",
       "      <td>1|medd</td>\n",
       "      <td>C0175723</td>\n",
       "      <td>Bands</td>\n",
       "      <td>1</td>\n",
       "    </tr>\n",
       "  </tbody>\n",
       "</table>\n",
       "</div>"
      ],
      "text/plain": [
       "          PREDICATION_ID  SENTENCE_ID      PMID PREDICATE SUBJECT_CUI  \\\n",
       "71691690        71932030    130086309  26191840      PREP        1756   \n",
       "71691694        71932034    130086309  26191840      PREP        1756   \n",
       "\n",
       "         SUBJECT_NAME SUBJECT_SEMTYPE  SUBJECT_NOVELTY OBJECT_CUI OBJECT_NAME  \\\n",
       "71691690          DMD            gngm                1     1|medd    C0175723   \n",
       "71691694          DMD            gngm                1     1|medd    C0175723   \n",
       "\n",
       "         OBJECT_SEMTYPE  OBJECT_NOVELTY  \n",
       "71691690          Bands               1  \n",
       "71691694          Bands               1  "
      ]
     },
     "execution_count": 16,
     "metadata": {},
     "output_type": "execute_result"
    }
   ],
   "source": [
    "sem_df.query('OBJECT_SEMTYPE == \"Bands\"')"
   ]
  },
  {
   "cell_type": "markdown",
   "metadata": {
    "deletable": true,
    "editable": true
   },
   "source": [
    "    mysql> SELECT * FROM PREDICATION where PREDICATION_ID=71932030;\n",
    "    +----------------+-------------+----------+-----------+-------------+--------------+-----------------+-----------------+------------+-------------+----------------+----------------+\n",
    "    | PREDICATION_ID | SENTENCE_ID | PMID     | PREDICATE | SUBJECT_CUI | SUBJECT_NAME | SUBJECT_SEMTYPE | SUBJECT_NOVELTY | OBJECT_CUI | OBJECT_NAME | OBJECT_SEMTYPE | OBJECT_NOVELTY |\n",
    "    +----------------+-------------+----------+-----------+-------------+--------------+-----------------+-----------------+------------+-------------+----------------+----------------+\n",
    "    |       71932030 |   130086309 | 26191840 | PREP      | 1756        | DMD          | gngm            |               1 | 1|medd     | C0175723    | Bands          |              1 |\n",
    "    +----------------+-------------+----------+-----------+-------------+--------------+-----------------+-----------------+------------+-------------+----------------+----------------+\n",
    "    1 row in set (0.00 sec)"
   ]
  },
  {
   "cell_type": "markdown",
   "metadata": {
    "deletable": true,
    "editable": true
   },
   "source": [
    "They both look erronious so either the source has errors, or there was an issue when gunzipping. (DL was ok, as MD5sum matched that of the source)"
   ]
  },
  {
   "cell_type": "code",
   "execution_count": 17,
   "metadata": {
    "collapsed": false,
    "deletable": true,
    "editable": true
   },
   "outputs": [
    {
     "data": {
      "image/png": "[encoded data removed]",
      "text/plain": [
       "<matplotlib.figure.Figure at 0x7f0bb6ae9c50>"
      ]
     },
     "metadata": {},
     "output_type": "display_data"
    }
   ],
   "source": [
    "all_sems = sub_sems+obj_sems\n",
    "all_sems.index  = [abbv_to_type.get(x, x) for x in all_sems.index]\n",
    "\n",
    "all_sems = all_sems.dropna()\n",
    "all_sems = all_sems.sort_values(ascending=False)\n",
    "all_sems[:15].plot(kind='bar');"
   ]
  },
  {
   "cell_type": "code",
   "execution_count": 18,
   "metadata": {
    "collapsed": false,
    "deletable": true,
    "editable": true
   },
   "outputs": [
    {
     "data": {
      "image/png": "[encoded data removed]",
      "text/plain": [
       "<matplotlib.figure.Figure at 0x7f0bb6a404a8>"
      ]
     },
     "metadata": {},
     "output_type": "display_data"
    }
   ],
   "source": [
    "all_sems[-15:].plot(kind='bar');"
   ]
  },
  {
   "cell_type": "code",
   "execution_count": 19,
   "metadata": {
    "collapsed": true,
    "deletable": true,
    "editable": true
   },
   "outputs": [],
   "source": [
    "sub_super = sem_df['SUBJECT_SEMTYPE'].apply(lambda x: abbv_to_super.get(x, x))\n",
    "obj_super = sem_df['OBJECT_SEMTYPE'].apply(lambda x: abbv_to_super.get(x, x))"
   ]
  },
  {
   "cell_type": "code",
   "execution_count": 20,
   "metadata": {
    "collapsed": true,
    "deletable": true,
    "editable": true
   },
   "outputs": [],
   "source": [
    "sub_super_counts = sub_super.value_counts()\n",
    "obj_super_counts = obj_super.value_counts()"
   ]
  },
  {
   "cell_type": "code",
   "execution_count": 21,
   "metadata": {
    "collapsed": false,
    "deletable": true,
    "editable": true
   },
   "outputs": [
    {
     "data": {
      "image/png": "[encoded data removed]",
      "text/plain": [
       "<matplotlib.figure.Figure at 0x7f0bb69d1780>"
      ]
     },
     "metadata": {},
     "output_type": "display_data"
    }
   ],
   "source": [
    "all_super = sub_super_counts + obj_super_counts\n",
    "all_super = all_super.dropna()\n",
    "all_super = all_super.sort_values(ascending=False)\n",
    "\n",
    "all_super.plot(kind='bar');"
   ]
  },
  {
   "cell_type": "code",
   "execution_count": 18,
   "metadata": {
    "collapsed": false
   },
   "outputs": [
    {
     "name": "stdout",
     "output_type": "stream",
     "text": [
      "68\n",
      "68\n"
     ]
    }
   ],
   "source": [
    "# Get predicate abbreviations\n",
    "\n",
    "print(len(preds.index))\n",
    "p_abv = {}\n",
    "for p in preds.index:\n",
    "    pspl = p.split('_')\n",
    "    \n",
    "    p_abv[p] = ''.join([c[0].lower() for c in pspl])\n",
    "print(len(p_abv))"
   ]
  },
  {
   "cell_type": "code",
   "execution_count": 31,
   "metadata": {
    "collapsed": false
   },
   "outputs": [
    {
     "data": {
      "text/plain": [
       "{'Activities & Behaviors',\n",
       " 'Anatomy',\n",
       " 'Chemicals & Drugs',\n",
       " 'Concepts & Ideas',\n",
       " 'Devices',\n",
       " 'Disorders',\n",
       " 'Genes & Molecular Sequences',\n",
       " 'Geographic Areas',\n",
       " 'Living Beings',\n",
       " 'Objects',\n",
       " 'Occupations',\n",
       " 'Organizations',\n",
       " 'Phenomena',\n",
       " 'Physiology',\n",
       " 'Procedures'}"
      ]
     },
     "execution_count": 31,
     "metadata": {},
     "output_type": "execute_result"
    }
   ],
   "source": [
    "# get abbreviations for semtypes\n",
    "super_sems = set(abbv_to_super.values())\n",
    "\n",
    "len(super_sems)\n",
    "super_sems"
   ]
  },
  {
   "cell_type": "code",
   "execution_count": 32,
   "metadata": {
    "collapsed": false
   },
   "outputs": [],
   "source": [
    "# Run these by hand as there are few, and some don't lend themselves well to auto-generation\n",
    "sem_abv = {\n",
    " 'Activities & Behaviors': 'AB',\n",
    " 'Anatomy': 'A',\n",
    " 'Chemicals & Drugs': 'C',\n",
    " 'Concepts & Ideas': 'CI',\n",
    " 'Devices': 'DV',\n",
    " 'Disorders': 'D',\n",
    " 'Genes & Molecular Sequences': 'G',\n",
    " 'Geographic Areas': 'GA',\n",
    " 'Living Beings': 'LB',\n",
    " 'Objects': 'OB',\n",
    " 'Occupations': 'OC',\n",
    " 'Organizations': 'OR',\n",
    " 'Phenomena': 'PH',\n",
    " 'Physiology': 'PS',\n",
    " 'Procedures': 'PR'\n",
    "}"
   ]
  },
  {
   "cell_type": "code",
   "execution_count": 33,
   "metadata": {
    "collapsed": false
   },
   "outputs": [
    {
     "name": "stdout",
     "output_type": "stream",
     "text": [
      "(341122, 3)\n"
     ]
    },
    {
     "data": {
      "text/html": [
       "<div>\n",
       "<style>\n",
       "    .dataframe thead tr:only-child th {\n",
       "        text-align: right;\n",
       "    }\n",
       "\n",
       "    .dataframe thead th {\n",
       "        text-align: left;\n",
       "    }\n",
       "\n",
       "    .dataframe tbody tr th {\n",
       "        vertical-align: top;\n",
       "    }\n",
       "</style>\n",
       "<table border=\"1\" class=\"dataframe\">\n",
       "  <thead>\n",
       "    <tr style=\"text-align: right;\">\n",
       "      <th></th>\n",
       "      <th>:ID</th>\n",
       "      <th>name</th>\n",
       "      <th>:LABEL</th>\n",
       "    </tr>\n",
       "  </thead>\n",
       "  <tbody>\n",
       "    <tr>\n",
       "      <th>0</th>\n",
       "      <td>C0026879</td>\n",
       "      <td>Mutagens</td>\n",
       "      <td>Chemicals &amp; Drugs</td>\n",
       "    </tr>\n",
       "    <tr>\n",
       "      <th>1</th>\n",
       "      <td>C0017725</td>\n",
       "      <td>Glucose</td>\n",
       "      <td>Chemicals &amp; Drugs</td>\n",
       "    </tr>\n",
       "    <tr>\n",
       "      <th>2</th>\n",
       "      <td>C0006147</td>\n",
       "      <td>Breast Feeding</td>\n",
       "      <td>Physiology</td>\n",
       "    </tr>\n",
       "    <tr>\n",
       "      <th>3</th>\n",
       "      <td>C0279494</td>\n",
       "      <td>Oestrogen therapy</td>\n",
       "      <td>Procedures</td>\n",
       "    </tr>\n",
       "    <tr>\n",
       "      <th>4</th>\n",
       "      <td>C0232338</td>\n",
       "      <td>Blood flow</td>\n",
       "      <td>Physiology</td>\n",
       "    </tr>\n",
       "  </tbody>\n",
       "</table>\n",
       "</div>"
      ],
      "text/plain": [
       "        :ID               name             :LABEL\n",
       "0  C0026879           Mutagens  Chemicals & Drugs\n",
       "1  C0017725            Glucose  Chemicals & Drugs\n",
       "2  C0006147     Breast Feeding         Physiology\n",
       "3  C0279494  Oestrogen therapy         Procedures\n",
       "4  C0232338         Blood flow         Physiology"
      ]
     },
     "execution_count": 33,
     "metadata": {},
     "output_type": "execute_result"
    }
   ],
   "source": [
    "# Make a nodes csv\n",
    "\n",
    "snodes = pd.DataFrame()\n",
    "onodes = pd.DataFrame()\n",
    "\n",
    "\n",
    "snodes[':ID'] = sem_df['SUBJECT_CUI']\n",
    "snodes['name'] = sem_df['SUBJECT_NAME']\n",
    "snodes[':LABEL'] = sem_df['SUBJECT_SEMTYPE'].apply(lambda x: abbv_to_super.get(x))\n",
    "\n",
    "onodes[':ID'] = sem_df['OBJECT_CUI']\n",
    "onodes['name'] = sem_df['OBJECT_NAME']\n",
    "onodes[':LABEL'] = sem_df['OBJECT_SEMTYPE'].apply(lambda x: abbv_to_super.get(x))\n",
    "\n",
    "\n",
    "nodes = pd.concat([snodes, onodes])\n",
    "nodes.drop_duplicates(inplace=True)\n",
    "\n",
    "print(nodes.shape)\n",
    "nodes.head()"
   ]
  },
  {
   "cell_type": "code",
   "execution_count": 34,
   "metadata": {
    "collapsed": true,
    "deletable": true,
    "editable": true
   },
   "outputs": [],
   "source": [
    "# Make a mapper from SEMTYPE to sem abbrev\n",
    "kind_map = {}\n",
    "\n",
    "for k, v in abbv_to_super.items():\n",
    "    kind_map[k] = sem_abv[v]"
   ]
  },
  {
   "cell_type": "code",
   "execution_count": 36,
   "metadata": {
    "collapsed": true
   },
   "outputs": [],
   "source": [
    "id_to_type = nodes.set_index(':ID')[':LABEL'].to_dict()\n",
    "id_to_type_abbv = {k: sem_abv.get(v) for k, v in id_to_type.items()}"
   ]
  },
  {
   "cell_type": "code",
   "execution_count": 41,
   "metadata": {
    "collapsed": false
   },
   "outputs": [
    {
     "name": "stdout",
     "output_type": "stream",
     "text": [
      "(89173359, 3)\n"
     ]
    },
    {
     "data": {
      "text/html": [
       "<div>\n",
       "<style>\n",
       "    .dataframe thead tr:only-child th {\n",
       "        text-align: right;\n",
       "    }\n",
       "\n",
       "    .dataframe thead th {\n",
       "        text-align: left;\n",
       "    }\n",
       "\n",
       "    .dataframe tbody tr th {\n",
       "        vertical-align: top;\n",
       "    }\n",
       "</style>\n",
       "<table border=\"1\" class=\"dataframe\">\n",
       "  <thead>\n",
       "    <tr style=\"text-align: right;\">\n",
       "      <th></th>\n",
       "      <th>:START_ID</th>\n",
       "      <th>:END_ID</th>\n",
       "      <th>:TYPE</th>\n",
       "    </tr>\n",
       "  </thead>\n",
       "  <tbody>\n",
       "    <tr>\n",
       "      <th>0</th>\n",
       "      <td>C0026879</td>\n",
       "      <td>C0220806</td>\n",
       "      <td>ISA_CiC</td>\n",
       "    </tr>\n",
       "    <tr>\n",
       "      <th>1</th>\n",
       "      <td>C0017725</td>\n",
       "      <td>C0022378</td>\n",
       "      <td>PART_OF_CpoC</td>\n",
       "    </tr>\n",
       "    <tr>\n",
       "      <th>2</th>\n",
       "      <td>C0006147</td>\n",
       "      <td>C0020114</td>\n",
       "      <td>PROCESS_OF_PSpoPS</td>\n",
       "    </tr>\n",
       "    <tr>\n",
       "      <th>3</th>\n",
       "      <td>C0279494</td>\n",
       "      <td>C0043210</td>\n",
       "      <td>TREATS_PRtPR</td>\n",
       "    </tr>\n",
       "    <tr>\n",
       "      <th>4</th>\n",
       "      <td>C0232338</td>\n",
       "      <td>C0012984</td>\n",
       "      <td>PROCESS_OF_PSpoPS</td>\n",
       "    </tr>\n",
       "  </tbody>\n",
       "</table>\n",
       "</div>"
      ],
      "text/plain": [
       "  :START_ID   :END_ID              :TYPE\n",
       "0  C0026879  C0220806            ISA_CiC\n",
       "1  C0017725  C0022378       PART_OF_CpoC\n",
       "2  C0006147  C0020114  PROCESS_OF_PSpoPS\n",
       "3  C0279494  C0043210       TREATS_PRtPR\n",
       "4  C0232338  C0012984  PROCESS_OF_PSpoPS"
      ]
     },
     "execution_count": 41,
     "metadata": {},
     "output_type": "execute_result"
    }
   ],
   "source": [
    "edges = pd.DataFrame()\n",
    "\n",
    "edges[':START_ID'] = sem_df['SUBJECT_CUI']\n",
    "edges[':END_ID'] = sem_df['OBJECT_CUI']\n",
    "edges[':TYPE'] = sem_df['PREDICATE']\n",
    "\n",
    "edges[':TYPE'] = (edges[':TYPE'] + '_' + edges[':START_ID'].apply(lambda x: id_to_type_abbv.get(x,x)) \n",
    "                    + edges[':TYPE'].apply(lambda x: p_abv.get(x,x))\n",
    "                    + edges[':START_ID'].apply(lambda x: id_to_type_abbv.get(x,x)))\n",
    "\n",
    "print(edges.shape)\n",
    "edges.head()"
   ]
  },
  {
   "cell_type": "code",
   "execution_count": 43,
   "metadata": {
    "collapsed": false
   },
   "outputs": [
    {
     "data": {
      "text/plain": [
       "155"
      ]
     },
     "execution_count": 43,
     "metadata": {},
     "output_type": "execute_result"
    }
   ],
   "source": [
    "(edges[':TYPE'].value_counts() > (.0001 * len(edges)) ).sum()"
   ]
  },
  {
   "cell_type": "code",
   "execution_count": 45,
   "metadata": {
    "collapsed": true
   },
   "outputs": [],
   "source": [
    "nodes.to_csv('../data/nodes.csv')\n",
    "edges.to_csv('../data/edges.csv')"
   ]
  }
 ],
 "metadata": {
  "kernelspec": {
   "display_name": "Python 3",
   "language": "python",
   "name": "python3"
  },
  "language_info": {
   "codemirror_mode": {
    "name": "ipython",
    "version": 3
   },
   "file_extension": ".py",
   "mimetype": "text/x-python",
   "name": "python",
   "nbconvert_exporter": "python",
   "pygments_lexer": "ipython3",
   "version": "3.5.3"
  }
 },
 "nbformat": 4,
 "nbformat_minor": 0
}
