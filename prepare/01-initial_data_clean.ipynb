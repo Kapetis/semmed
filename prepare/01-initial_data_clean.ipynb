{
 "cells": [
  {
   "cell_type": "markdown",
   "metadata": {},
   "source": [
    "# Initial Data Cleaning of Semmed DB\n",
    "\n",
    "This notebook will go through the SemmedDB database and clean it of most of the errors before it can be\n",
    "processed into a hetnet.\n",
    "\n",
    "\n",
    "There are two main problems found when first looking into semmedDB:\n",
    "\n",
    "1. There are several rows where there are multiple subjects or objects, sepearted by a pipe `|` character.\n",
    "2. The database is not entirely in CUI space, some concepts are given entrez gene ids.\n",
    "\n",
    "\n",
    "There are also two minor problems that we will help clear up:\n",
    "\n",
    "1. There is a third minor problem of data corruption, however this is on less than 0.001% of the data, so when identified, these will just be removed.\n",
    "2. Finally, some of the CUIs contained in SemmedDB are either depricated or have been merged with other CUIs.  These will be resolved"
   ]
  },
  {
   "cell_type": "code",
   "execution_count": 1,
   "metadata": {
    "collapsed": true
   },
   "outputs": [],
   "source": [
    "import os\n",
    "import pickle\n",
    "%matplotlib inline\n",
    "import pandas as pd\n",
    "import seaborn as sns\n",
    "import matplotlib.pyplot as plt\n",
    "\n",
    "import sys\n",
    "sys.path.append('../tools')\n",
    "import load_umls"
   ]
  },
  {
   "cell_type": "code",
   "execution_count": 2,
   "metadata": {},
   "outputs": [
    {
     "name": "stderr",
     "output_type": "stream",
     "text": [
      "/opt/mmayers/software/anaconda3/envs/integrate/lib/python3.5/site-packages/IPython/core/interactiveshell.py:2698: DtypeWarning: Columns (2) have mixed types. Specify dtype option on import or set low_memory=False.\n",
      "  interactivity=interactivity, compiler=compiler, result=result)\n"
     ]
    }
   ],
   "source": [
    "sem_df = pd.read_csv('../data/semmedVER31_R.csv')"
   ]
  },
  {
   "cell_type": "code",
   "execution_count": 3,
   "metadata": {},
   "outputs": [
    {
     "name": "stdout",
     "output_type": "stream",
     "text": [
      "Rows: 96,363,098\n",
      "Cols: 12\n"
     ]
    }
   ],
   "source": [
    "print('Rows: {:,}'.format(sem_df.shape[0]))\n",
    "print('Cols: {}'.format(sem_df.shape[1]))"
   ]
  },
  {
   "cell_type": "code",
   "execution_count": 4,
   "metadata": {},
   "outputs": [
    {
     "data": {
      "text/html": [
       "<div>\n",
       "<style scoped>\n",
       "    .dataframe tbody tr th:only-of-type {\n",
       "        vertical-align: middle;\n",
       "    }\n",
       "\n",
       "    .dataframe tbody tr th {\n",
       "        vertical-align: top;\n",
       "    }\n",
       "\n",
       "    .dataframe thead th {\n",
       "        text-align: right;\n",
       "    }\n",
       "</style>\n",
       "<table border=\"1\" class=\"dataframe\">\n",
       "  <thead>\n",
       "    <tr style=\"text-align: right;\">\n",
       "      <th></th>\n",
       "      <th>PREDICATION_ID</th>\n",
       "      <th>SENTENCE_ID</th>\n",
       "      <th>PMID</th>\n",
       "      <th>PREDICATE</th>\n",
       "      <th>SUBJECT_CUI</th>\n",
       "      <th>SUBJECT_NAME</th>\n",
       "      <th>SUBJECT_SEMTYPE</th>\n",
       "      <th>SUBJECT_NOVELTY</th>\n",
       "      <th>OBJECT_CUI</th>\n",
       "      <th>OBJECT_NAME</th>\n",
       "      <th>OBJECT_SEMTYPE</th>\n",
       "      <th>OBJECT_NOVELTY</th>\n",
       "    </tr>\n",
       "  </thead>\n",
       "  <tbody>\n",
       "    <tr>\n",
       "      <th>0</th>\n",
       "      <td>38999</td>\n",
       "      <td>87169</td>\n",
       "      <td>4958141</td>\n",
       "      <td>PART_OF</td>\n",
       "      <td>C0040291</td>\n",
       "      <td>Tissue Extracts</td>\n",
       "      <td>bacs</td>\n",
       "      <td>1</td>\n",
       "      <td>C0085979</td>\n",
       "      <td>Cavia</td>\n",
       "      <td>mamm</td>\n",
       "      <td>1</td>\n",
       "    </tr>\n",
       "    <tr>\n",
       "      <th>1</th>\n",
       "      <td>39000</td>\n",
       "      <td>87167</td>\n",
       "      <td>13997680</td>\n",
       "      <td>LOCATION_OF</td>\n",
       "      <td>C0005767</td>\n",
       "      <td>Blood</td>\n",
       "      <td>tisu</td>\n",
       "      <td>1</td>\n",
       "      <td>C0007061</td>\n",
       "      <td>Carboxyhemoglobin</td>\n",
       "      <td>aapp</td>\n",
       "      <td>1</td>\n",
       "    </tr>\n",
       "    <tr>\n",
       "      <th>2</th>\n",
       "      <td>39001</td>\n",
       "      <td>87171</td>\n",
       "      <td>12254865</td>\n",
       "      <td>PROCESS_OF</td>\n",
       "      <td>C0702166</td>\n",
       "      <td>Acne</td>\n",
       "      <td>dsyn</td>\n",
       "      <td>1</td>\n",
       "      <td>C0043210</td>\n",
       "      <td>Woman</td>\n",
       "      <td>humn</td>\n",
       "      <td>1</td>\n",
       "    </tr>\n",
       "    <tr>\n",
       "      <th>3</th>\n",
       "      <td>39002</td>\n",
       "      <td>87175</td>\n",
       "      <td>14847741</td>\n",
       "      <td>PART_OF</td>\n",
       "      <td>C0027809</td>\n",
       "      <td>Neurilemmoma</td>\n",
       "      <td>neop</td>\n",
       "      <td>1</td>\n",
       "      <td>C0038351</td>\n",
       "      <td>Stomach</td>\n",
       "      <td>bpoc</td>\n",
       "      <td>1</td>\n",
       "    </tr>\n",
       "    <tr>\n",
       "      <th>4</th>\n",
       "      <td>39003</td>\n",
       "      <td>87165</td>\n",
       "      <td>11396507</td>\n",
       "      <td>PART_OF</td>\n",
       "      <td>C0221921</td>\n",
       "      <td>Stratum corneum</td>\n",
       "      <td>tisu</td>\n",
       "      <td>1</td>\n",
       "      <td>C0020114</td>\n",
       "      <td>Human</td>\n",
       "      <td>humn</td>\n",
       "      <td>0</td>\n",
       "    </tr>\n",
       "  </tbody>\n",
       "</table>\n",
       "</div>"
      ],
      "text/plain": [
       "   PREDICATION_ID  SENTENCE_ID      PMID    PREDICATE SUBJECT_CUI  \\\n",
       "0           38999        87169   4958141      PART_OF    C0040291   \n",
       "1           39000        87167  13997680  LOCATION_OF    C0005767   \n",
       "2           39001        87171  12254865   PROCESS_OF    C0702166   \n",
       "3           39002        87175  14847741      PART_OF    C0027809   \n",
       "4           39003        87165  11396507      PART_OF    C0221921   \n",
       "\n",
       "      SUBJECT_NAME SUBJECT_SEMTYPE  SUBJECT_NOVELTY OBJECT_CUI  \\\n",
       "0  Tissue Extracts            bacs                1   C0085979   \n",
       "1            Blood            tisu                1   C0007061   \n",
       "2             Acne            dsyn                1   C0043210   \n",
       "3     Neurilemmoma            neop                1   C0038351   \n",
       "4  Stratum corneum            tisu                1   C0020114   \n",
       "\n",
       "         OBJECT_NAME OBJECT_SEMTYPE  OBJECT_NOVELTY  \n",
       "0              Cavia           mamm               1  \n",
       "1  Carboxyhemoglobin           aapp               1  \n",
       "2              Woman           humn               1  \n",
       "3            Stomach           bpoc               1  \n",
       "4              Human           humn               0  "
      ]
     },
     "execution_count": 4,
     "metadata": {},
     "output_type": "execute_result"
    }
   ],
   "source": [
    "sem_df.head()"
   ]
  },
  {
   "cell_type": "code",
   "execution_count": 5,
   "metadata": {},
   "outputs": [
    {
     "name": "stdout",
     "output_type": "stream",
     "text": [
      "17,899,155\n",
      "17,898,897\n",
      "Done!\n"
     ]
    }
   ],
   "source": [
    "# Get all the pmids and save them to a file\n",
    "pmids = set(sem_df['PMID'])\n",
    "out = []\n",
    "print('{:,}'.format(len(pmids)))\n",
    "for pmid in pmids:\n",
    "    try:\n",
    "        # PMIDs should be convertable to int, if not, probably corrupted so don't add\n",
    "        out.append(int(pmid))\n",
    "    except:\n",
    "        pass\n",
    "print('{:,}'.format(len(out)))\n",
    "with open('../data/pmid_list_ver31.txt', 'w') as out_file:\n",
    "    for pmid in out:\n",
    "        out_file.write(str(pmid)+'\\n')\n",
    "print('Done!')"
   ]
  },
  {
   "cell_type": "markdown",
   "metadata": {},
   "source": [
    "# Expanding the pipes in subjects and objects\n",
    "\n",
    "One of the first things that was noticed upon look at the data in semmedDB was that some subjects and objects of extracted statments contained the pipe character `|` as an indicator of multiple concepts in the sentence."
   ]
  },
  {
   "cell_type": "markdown",
   "metadata": {},
   "source": [
    "## Examining Pipes in Subject/Object IDs\n",
    "\n",
    "First thing to do is just examine some of these pipes and took at their correspodning sentences in the database, see if they do infact correspond to two concepts."
   ]
  },
  {
   "cell_type": "code",
   "execution_count": 6,
   "metadata": {},
   "outputs": [
    {
     "name": "stdout",
     "output_type": "stream",
     "text": [
      "There are 3,645,614 lines that contain a pipe in the subject\n"
     ]
    }
   ],
   "source": [
    "multi_subject = sem_df[sem_df['SUBJECT_CUI'].str.contains('|', regex=False)]\n",
    "print(\"There are {:,} lines that contain a pipe in the subject\".format(multi_subject.shape[0]))\n",
    "\n",
    "sentence_ids = multi_subject['SENTENCE_ID'].values"
   ]
  },
  {
   "cell_type": "code",
   "execution_count": 7,
   "metadata": {},
   "outputs": [
    {
     "data": {
      "text/html": [
       "<div>\n",
       "<style scoped>\n",
       "    .dataframe tbody tr th:only-of-type {\n",
       "        vertical-align: middle;\n",
       "    }\n",
       "\n",
       "    .dataframe tbody tr th {\n",
       "        vertical-align: top;\n",
       "    }\n",
       "\n",
       "    .dataframe thead th {\n",
       "        text-align: right;\n",
       "    }\n",
       "</style>\n",
       "<table border=\"1\" class=\"dataframe\">\n",
       "  <thead>\n",
       "    <tr style=\"text-align: right;\">\n",
       "      <th></th>\n",
       "      <th>PREDICATION_ID</th>\n",
       "      <th>SENTENCE_ID</th>\n",
       "      <th>PMID</th>\n",
       "      <th>PREDICATE</th>\n",
       "      <th>SUBJECT_CUI</th>\n",
       "      <th>SUBJECT_NAME</th>\n",
       "      <th>SUBJECT_SEMTYPE</th>\n",
       "      <th>SUBJECT_NOVELTY</th>\n",
       "      <th>OBJECT_CUI</th>\n",
       "      <th>OBJECT_NAME</th>\n",
       "      <th>OBJECT_SEMTYPE</th>\n",
       "      <th>OBJECT_NOVELTY</th>\n",
       "    </tr>\n",
       "  </thead>\n",
       "  <tbody>\n",
       "    <tr>\n",
       "      <th>213</th>\n",
       "      <td>39212</td>\n",
       "      <td>87854</td>\n",
       "      <td>13384314</td>\n",
       "      <td>INTERACTS_WITH</td>\n",
       "      <td>C1366490|156</td>\n",
       "      <td>ADRBK1 gene|ADRBK1</td>\n",
       "      <td>gngm</td>\n",
       "      <td>1</td>\n",
       "      <td>C0040615</td>\n",
       "      <td>Antipsychotic Agents</td>\n",
       "      <td>phsu</td>\n",
       "      <td>1</td>\n",
       "    </tr>\n",
       "    <tr>\n",
       "      <th>290</th>\n",
       "      <td>39289</td>\n",
       "      <td>88096</td>\n",
       "      <td>14782737</td>\n",
       "      <td>ASSOCIATED_WITH</td>\n",
       "      <td>C0001655|5443</td>\n",
       "      <td>Corticotropin|POMC</td>\n",
       "      <td>horm</td>\n",
       "      <td>1</td>\n",
       "      <td>C0021311</td>\n",
       "      <td>Infection</td>\n",
       "      <td>dsyn</td>\n",
       "      <td>1</td>\n",
       "    </tr>\n",
       "    <tr>\n",
       "      <th>354</th>\n",
       "      <td>39353</td>\n",
       "      <td>88296</td>\n",
       "      <td>4229045</td>\n",
       "      <td>PART_OF</td>\n",
       "      <td>C0032140|5340</td>\n",
       "      <td>Plasminogen|PLG</td>\n",
       "      <td>aapp</td>\n",
       "      <td>1</td>\n",
       "      <td>C0020114</td>\n",
       "      <td>Human</td>\n",
       "      <td>humn</td>\n",
       "      <td>0</td>\n",
       "    </tr>\n",
       "    <tr>\n",
       "      <th>785</th>\n",
       "      <td>39784</td>\n",
       "      <td>89525</td>\n",
       "      <td>18933908</td>\n",
       "      <td>PART_OF</td>\n",
       "      <td>C0001924|213</td>\n",
       "      <td>Albumins|ALB</td>\n",
       "      <td>aapp</td>\n",
       "      <td>1</td>\n",
       "      <td>C0020114</td>\n",
       "      <td>Human</td>\n",
       "      <td>humn</td>\n",
       "      <td>0</td>\n",
       "    </tr>\n",
       "    <tr>\n",
       "      <th>818</th>\n",
       "      <td>39817</td>\n",
       "      <td>89640</td>\n",
       "      <td>6065080</td>\n",
       "      <td>PART_OF</td>\n",
       "      <td>C0001457|100</td>\n",
       "      <td>ADENOSINE DEAMINASE|ADA</td>\n",
       "      <td>aapp</td>\n",
       "      <td>1</td>\n",
       "      <td>C0013303</td>\n",
       "      <td>Duodenum</td>\n",
       "      <td>bpoc</td>\n",
       "      <td>1</td>\n",
       "    </tr>\n",
       "    <tr>\n",
       "      <th>1045</th>\n",
       "      <td>40044</td>\n",
       "      <td>90238</td>\n",
       "      <td>4165881</td>\n",
       "      <td>PART_OF</td>\n",
       "      <td>C0034833|5241</td>\n",
       "      <td>Receptors, Progesterone|PGR</td>\n",
       "      <td>aapp</td>\n",
       "      <td>1</td>\n",
       "      <td>C0027567</td>\n",
       "      <td>African race</td>\n",
       "      <td>humn</td>\n",
       "      <td>1</td>\n",
       "    </tr>\n",
       "    <tr>\n",
       "      <th>1050</th>\n",
       "      <td>40049</td>\n",
       "      <td>90257</td>\n",
       "      <td>13680884</td>\n",
       "      <td>PART_OF</td>\n",
       "      <td>C0017796|2744</td>\n",
       "      <td>Glutaminase|GLS</td>\n",
       "      <td>aapp</td>\n",
       "      <td>1</td>\n",
       "      <td>C0014792</td>\n",
       "      <td>Erythrocytes</td>\n",
       "      <td>cell</td>\n",
       "      <td>1</td>\n",
       "    </tr>\n",
       "    <tr>\n",
       "      <th>1122</th>\n",
       "      <td>40121</td>\n",
       "      <td>90444</td>\n",
       "      <td>14770469</td>\n",
       "      <td>TREATS</td>\n",
       "      <td>C0001655|5443</td>\n",
       "      <td>Corticotropin|POMC</td>\n",
       "      <td>aapp</td>\n",
       "      <td>1</td>\n",
       "      <td>C0023418</td>\n",
       "      <td>leukemia</td>\n",
       "      <td>neop</td>\n",
       "      <td>1</td>\n",
       "    </tr>\n",
       "    <tr>\n",
       "      <th>1236</th>\n",
       "      <td>40235</td>\n",
       "      <td>90801</td>\n",
       "      <td>14880803</td>\n",
       "      <td>TREATS</td>\n",
       "      <td>C0001655|5443</td>\n",
       "      <td>Corticotropin|POMC</td>\n",
       "      <td>horm</td>\n",
       "      <td>1</td>\n",
       "      <td>C0003873</td>\n",
       "      <td>Rheumatoid Arthritis</td>\n",
       "      <td>dsyn</td>\n",
       "      <td>1</td>\n",
       "    </tr>\n",
       "    <tr>\n",
       "      <th>1743</th>\n",
       "      <td>40742</td>\n",
       "      <td>92151</td>\n",
       "      <td>13680882</td>\n",
       "      <td>PART_OF</td>\n",
       "      <td>C0001457|100</td>\n",
       "      <td>ADENOSINE DEAMINASE|ADA</td>\n",
       "      <td>aapp</td>\n",
       "      <td>1</td>\n",
       "      <td>C0014792</td>\n",
       "      <td>Erythrocytes</td>\n",
       "      <td>cell</td>\n",
       "      <td>1</td>\n",
       "    </tr>\n",
       "  </tbody>\n",
       "</table>\n",
       "</div>"
      ],
      "text/plain": [
       "      PREDICATION_ID  SENTENCE_ID      PMID        PREDICATE    SUBJECT_CUI  \\\n",
       "213            39212        87854  13384314   INTERACTS_WITH   C1366490|156   \n",
       "290            39289        88096  14782737  ASSOCIATED_WITH  C0001655|5443   \n",
       "354            39353        88296   4229045          PART_OF  C0032140|5340   \n",
       "785            39784        89525  18933908          PART_OF   C0001924|213   \n",
       "818            39817        89640   6065080          PART_OF   C0001457|100   \n",
       "1045           40044        90238   4165881          PART_OF  C0034833|5241   \n",
       "1050           40049        90257  13680884          PART_OF  C0017796|2744   \n",
       "1122           40121        90444  14770469           TREATS  C0001655|5443   \n",
       "1236           40235        90801  14880803           TREATS  C0001655|5443   \n",
       "1743           40742        92151  13680882          PART_OF   C0001457|100   \n",
       "\n",
       "                     SUBJECT_NAME SUBJECT_SEMTYPE  SUBJECT_NOVELTY OBJECT_CUI  \\\n",
       "213            ADRBK1 gene|ADRBK1            gngm                1   C0040615   \n",
       "290            Corticotropin|POMC            horm                1   C0021311   \n",
       "354               Plasminogen|PLG            aapp                1   C0020114   \n",
       "785                  Albumins|ALB            aapp                1   C0020114   \n",
       "818       ADENOSINE DEAMINASE|ADA            aapp                1   C0013303   \n",
       "1045  Receptors, Progesterone|PGR            aapp                1   C0027567   \n",
       "1050              Glutaminase|GLS            aapp                1   C0014792   \n",
       "1122           Corticotropin|POMC            aapp                1   C0023418   \n",
       "1236           Corticotropin|POMC            horm                1   C0003873   \n",
       "1743      ADENOSINE DEAMINASE|ADA            aapp                1   C0014792   \n",
       "\n",
       "               OBJECT_NAME OBJECT_SEMTYPE  OBJECT_NOVELTY  \n",
       "213   Antipsychotic Agents           phsu               1  \n",
       "290              Infection           dsyn               1  \n",
       "354                  Human           humn               0  \n",
       "785                  Human           humn               0  \n",
       "818               Duodenum           bpoc               1  \n",
       "1045          African race           humn               1  \n",
       "1050          Erythrocytes           cell               1  \n",
       "1122              leukemia           neop               1  \n",
       "1236  Rheumatoid Arthritis           dsyn               1  \n",
       "1743          Erythrocytes           cell               1  "
      ]
     },
     "execution_count": 7,
     "metadata": {},
     "output_type": "execute_result"
    }
   ],
   "source": [
    "multi_subject.iloc[:10]"
   ]
  },
  {
   "cell_type": "markdown",
   "metadata": {},
   "source": [
    "Before we go any further, lets drop any rows that conatin NaN values, as these are corrupted rows that have no good data"
   ]
  },
  {
   "cell_type": "code",
   "execution_count": 8,
   "metadata": {},
   "outputs": [
    {
     "name": "stdout",
     "output_type": "stream",
     "text": [
      "Rows before NaN removal 96,363,098\n",
      "Rows after NaN removal 96,363,098\n"
     ]
    }
   ],
   "source": [
    "# Remove any NaN values\n",
    "print('Rows before NaN removal {:,}'.format(sem_df.shape[0]))\n",
    "sem_df = sem_df.dropna()\n",
    "print('Rows after NaN removal {:,}'.format(sem_df.shape[0]))"
   ]
  },
  {
   "cell_type": "code",
   "execution_count": 9,
   "metadata": {
    "collapsed": true
   },
   "outputs": [],
   "source": [
    "multi_start = sem_df['SUBJECT_CUI'].str.contains('|', regex=False)\n",
    "multi_end = sem_df['OBJECT_CUI'].str.contains('|', regex=False)"
   ]
  },
  {
   "cell_type": "code",
   "execution_count": 10,
   "metadata": {},
   "outputs": [
    {
     "name": "stdout",
     "output_type": "stream",
     "text": [
      "Rows with multiple subjects or objects 6,476,260\n",
      "Rows with only 1 subject AND only 1 object 89,886,838\n"
     ]
    }
   ],
   "source": [
    "pipe_lines = sem_df[multi_start | multi_end]\n",
    "good_lines = sem_df[~multi_start & ~multi_end]\n",
    "print('Rows with multiple subjects or objects {:,}'.format(len(pipe_lines)))\n",
    "print('Rows with only 1 subject AND only 1 object {:,}'.format(len(good_lines)))"
   ]
  },
  {
   "cell_type": "markdown",
   "metadata": {},
   "source": [
    "Lines with a pipe in the subject XOR a pipe in the object can be delt with in a rather straightforward mannor. \n",
    "\n",
    "Those with a pipe in both the subject AND the object will require a slightly different algorithm, so we'll separate those out."
   ]
  },
  {
   "cell_type": "code",
   "execution_count": 11,
   "metadata": {
    "collapsed": true
   },
   "outputs": [],
   "source": [
    "# get indices for those only with a multi start, multi end, and those with bith a multi start and multi end\n",
    "multi_start_subset = multi_start[multi_start | multi_end]\n",
    "multi_end_subset = multi_end[multi_start | multi_end]\n",
    "multi_both_subset = multi_start_subset & multi_end_subset"
   ]
  },
  {
   "cell_type": "code",
   "execution_count": 12,
   "metadata": {
    "collapsed": true
   },
   "outputs": [],
   "source": [
    "start_only_subset = multi_start_subset & ~multi_end_subset\n",
    "end_only_subset = multi_end_subset & ~multi_start_subset"
   ]
  },
  {
   "cell_type": "markdown",
   "metadata": {},
   "source": [
    "### Splitting the IDs of the Subjects OR Objects\n",
    "\n",
    "To split the IDs, the IDs and names will be split into `n+1` rows where `n` is the number of pipes `|`, then the data from the rest of the columns will be duplicated across these new rows."
   ]
  },
  {
   "cell_type": "code",
   "execution_count": 13,
   "metadata": {
    "collapsed": true
   },
   "outputs": [],
   "source": [
    "from itertools import chain"
   ]
  },
  {
   "cell_type": "code",
   "execution_count": 14,
   "metadata": {
    "collapsed": true
   },
   "outputs": [],
   "source": [
    "# Split the IDs and Names\n",
    "start_id_split = pipe_lines.loc[start_only_subset, 'SUBJECT_CUI'].str.split('|')\n",
    "start_name_split = pipe_lines.loc[start_only_subset, 'SUBJECT_NAME'].str.split('|')"
   ]
  },
  {
   "cell_type": "code",
   "execution_count": 15,
   "metadata": {
    "collapsed": true
   },
   "outputs": [],
   "source": [
    "# Get the number of items after splitting\n",
    "start_lens = start_id_split.apply(len)"
   ]
  },
  {
   "cell_type": "code",
   "execution_count": 16,
   "metadata": {
    "collapsed": true
   },
   "outputs": [],
   "source": [
    "# Need the column names for duplicating the data\n",
    "all_cols = list(pipe_lines.columns)\n",
    "\n",
    "# Copy the columns and only keep those where the data will be duped\n",
    "start_cols = all_cols[:]\n",
    "start_cols.remove('SUBJECT_CUI')\n",
    "start_cols.remove('SUBJECT_NAME')"
   ]
  },
  {
   "cell_type": "code",
   "execution_count": 17,
   "metadata": {
    "collapsed": true
   },
   "outputs": [],
   "source": [
    "# Retaining the same order, duplicate the data times of the new number of rows after the split\n",
    "new_starts = dict()\n",
    "for c in start_cols:\n",
    "    tmp = pipe_lines.loc[start_only_subset, c].apply(lambda x: [x]) * start_lens\n",
    "    new_starts[c] = [x for x in chain(*tmp.values)]"
   ]
  },
  {
   "cell_type": "code",
   "execution_count": 18,
   "metadata": {},
   "outputs": [
    {
     "data": {
      "text/html": [
       "<div>\n",
       "<style scoped>\n",
       "    .dataframe tbody tr th:only-of-type {\n",
       "        vertical-align: middle;\n",
       "    }\n",
       "\n",
       "    .dataframe tbody tr th {\n",
       "        vertical-align: top;\n",
       "    }\n",
       "\n",
       "    .dataframe thead th {\n",
       "        text-align: right;\n",
       "    }\n",
       "</style>\n",
       "<table border=\"1\" class=\"dataframe\">\n",
       "  <thead>\n",
       "    <tr style=\"text-align: right;\">\n",
       "      <th></th>\n",
       "      <th>OBJECT_CUI</th>\n",
       "      <th>OBJECT_NAME</th>\n",
       "      <th>OBJECT_NOVELTY</th>\n",
       "      <th>OBJECT_SEMTYPE</th>\n",
       "      <th>PMID</th>\n",
       "      <th>PREDICATE</th>\n",
       "      <th>PREDICATION_ID</th>\n",
       "      <th>SENTENCE_ID</th>\n",
       "      <th>SUBJECT_NOVELTY</th>\n",
       "      <th>SUBJECT_SEMTYPE</th>\n",
       "    </tr>\n",
       "  </thead>\n",
       "  <tbody>\n",
       "    <tr>\n",
       "      <th>0</th>\n",
       "      <td>C0040615</td>\n",
       "      <td>Antipsychotic Agents</td>\n",
       "      <td>1</td>\n",
       "      <td>phsu</td>\n",
       "      <td>13384314</td>\n",
       "      <td>INTERACTS_WITH</td>\n",
       "      <td>39212</td>\n",
       "      <td>87854</td>\n",
       "      <td>1</td>\n",
       "      <td>gngm</td>\n",
       "    </tr>\n",
       "    <tr>\n",
       "      <th>1</th>\n",
       "      <td>C0040615</td>\n",
       "      <td>Antipsychotic Agents</td>\n",
       "      <td>1</td>\n",
       "      <td>phsu</td>\n",
       "      <td>13384314</td>\n",
       "      <td>INTERACTS_WITH</td>\n",
       "      <td>39212</td>\n",
       "      <td>87854</td>\n",
       "      <td>1</td>\n",
       "      <td>gngm</td>\n",
       "    </tr>\n",
       "    <tr>\n",
       "      <th>2</th>\n",
       "      <td>C0021311</td>\n",
       "      <td>Infection</td>\n",
       "      <td>1</td>\n",
       "      <td>dsyn</td>\n",
       "      <td>14782737</td>\n",
       "      <td>ASSOCIATED_WITH</td>\n",
       "      <td>39289</td>\n",
       "      <td>88096</td>\n",
       "      <td>1</td>\n",
       "      <td>horm</td>\n",
       "    </tr>\n",
       "    <tr>\n",
       "      <th>3</th>\n",
       "      <td>C0021311</td>\n",
       "      <td>Infection</td>\n",
       "      <td>1</td>\n",
       "      <td>dsyn</td>\n",
       "      <td>14782737</td>\n",
       "      <td>ASSOCIATED_WITH</td>\n",
       "      <td>39289</td>\n",
       "      <td>88096</td>\n",
       "      <td>1</td>\n",
       "      <td>horm</td>\n",
       "    </tr>\n",
       "    <tr>\n",
       "      <th>4</th>\n",
       "      <td>C0020114</td>\n",
       "      <td>Human</td>\n",
       "      <td>0</td>\n",
       "      <td>humn</td>\n",
       "      <td>4229045</td>\n",
       "      <td>PART_OF</td>\n",
       "      <td>39353</td>\n",
       "      <td>88296</td>\n",
       "      <td>1</td>\n",
       "      <td>aapp</td>\n",
       "    </tr>\n",
       "    <tr>\n",
       "      <th>5</th>\n",
       "      <td>C0020114</td>\n",
       "      <td>Human</td>\n",
       "      <td>0</td>\n",
       "      <td>humn</td>\n",
       "      <td>4229045</td>\n",
       "      <td>PART_OF</td>\n",
       "      <td>39353</td>\n",
       "      <td>88296</td>\n",
       "      <td>1</td>\n",
       "      <td>aapp</td>\n",
       "    </tr>\n",
       "    <tr>\n",
       "      <th>6</th>\n",
       "      <td>C0020114</td>\n",
       "      <td>Human</td>\n",
       "      <td>0</td>\n",
       "      <td>humn</td>\n",
       "      <td>18933908</td>\n",
       "      <td>PART_OF</td>\n",
       "      <td>39784</td>\n",
       "      <td>89525</td>\n",
       "      <td>1</td>\n",
       "      <td>aapp</td>\n",
       "    </tr>\n",
       "    <tr>\n",
       "      <th>7</th>\n",
       "      <td>C0020114</td>\n",
       "      <td>Human</td>\n",
       "      <td>0</td>\n",
       "      <td>humn</td>\n",
       "      <td>18933908</td>\n",
       "      <td>PART_OF</td>\n",
       "      <td>39784</td>\n",
       "      <td>89525</td>\n",
       "      <td>1</td>\n",
       "      <td>aapp</td>\n",
       "    </tr>\n",
       "    <tr>\n",
       "      <th>8</th>\n",
       "      <td>C0013303</td>\n",
       "      <td>Duodenum</td>\n",
       "      <td>1</td>\n",
       "      <td>bpoc</td>\n",
       "      <td>6065080</td>\n",
       "      <td>PART_OF</td>\n",
       "      <td>39817</td>\n",
       "      <td>89640</td>\n",
       "      <td>1</td>\n",
       "      <td>aapp</td>\n",
       "    </tr>\n",
       "    <tr>\n",
       "      <th>9</th>\n",
       "      <td>C0013303</td>\n",
       "      <td>Duodenum</td>\n",
       "      <td>1</td>\n",
       "      <td>bpoc</td>\n",
       "      <td>6065080</td>\n",
       "      <td>PART_OF</td>\n",
       "      <td>39817</td>\n",
       "      <td>89640</td>\n",
       "      <td>1</td>\n",
       "      <td>aapp</td>\n",
       "    </tr>\n",
       "  </tbody>\n",
       "</table>\n",
       "</div>"
      ],
      "text/plain": [
       "  OBJECT_CUI           OBJECT_NAME  OBJECT_NOVELTY OBJECT_SEMTYPE      PMID  \\\n",
       "0   C0040615  Antipsychotic Agents               1           phsu  13384314   \n",
       "1   C0040615  Antipsychotic Agents               1           phsu  13384314   \n",
       "2   C0021311             Infection               1           dsyn  14782737   \n",
       "3   C0021311             Infection               1           dsyn  14782737   \n",
       "4   C0020114                 Human               0           humn   4229045   \n",
       "5   C0020114                 Human               0           humn   4229045   \n",
       "6   C0020114                 Human               0           humn  18933908   \n",
       "7   C0020114                 Human               0           humn  18933908   \n",
       "8   C0013303              Duodenum               1           bpoc   6065080   \n",
       "9   C0013303              Duodenum               1           bpoc   6065080   \n",
       "\n",
       "         PREDICATE  PREDICATION_ID  SENTENCE_ID  SUBJECT_NOVELTY  \\\n",
       "0   INTERACTS_WITH           39212        87854                1   \n",
       "1   INTERACTS_WITH           39212        87854                1   \n",
       "2  ASSOCIATED_WITH           39289        88096                1   \n",
       "3  ASSOCIATED_WITH           39289        88096                1   \n",
       "4          PART_OF           39353        88296                1   \n",
       "5          PART_OF           39353        88296                1   \n",
       "6          PART_OF           39784        89525                1   \n",
       "7          PART_OF           39784        89525                1   \n",
       "8          PART_OF           39817        89640                1   \n",
       "9          PART_OF           39817        89640                1   \n",
       "\n",
       "  SUBJECT_SEMTYPE  \n",
       "0            gngm  \n",
       "1            gngm  \n",
       "2            horm  \n",
       "3            horm  \n",
       "4            aapp  \n",
       "5            aapp  \n",
       "6            aapp  \n",
       "7            aapp  \n",
       "8            aapp  \n",
       "9            aapp  "
      ]
     },
     "execution_count": 18,
     "metadata": {},
     "output_type": "execute_result"
    }
   ],
   "source": [
    "# Now we have the expanded rows with everthing except the subject CUIs and Names\n",
    "fixed_starts = pd.DataFrame(new_starts)\n",
    "fixed_starts.head(10)"
   ]
  },
  {
   "cell_type": "code",
   "execution_count": 19,
   "metadata": {
    "collapsed": true
   },
   "outputs": [],
   "source": [
    "# Add in the subject CUIs and Names\n",
    "fixed_starts['SUBJECT_CUI'] = [x for x in chain(*start_id_split.values)]\n",
    "fixed_starts['SUBJECT_NAME'] = [x for x in chain(*start_name_split.values)]\n",
    "\n",
    "fixed_starts = fixed_starts[all_cols]"
   ]
  },
  {
   "cell_type": "code",
   "execution_count": 20,
   "metadata": {},
   "outputs": [
    {
     "data": {
      "text/html": [
       "<div>\n",
       "<style scoped>\n",
       "    .dataframe tbody tr th:only-of-type {\n",
       "        vertical-align: middle;\n",
       "    }\n",
       "\n",
       "    .dataframe tbody tr th {\n",
       "        vertical-align: top;\n",
       "    }\n",
       "\n",
       "    .dataframe thead th {\n",
       "        text-align: right;\n",
       "    }\n",
       "</style>\n",
       "<table border=\"1\" class=\"dataframe\">\n",
       "  <thead>\n",
       "    <tr style=\"text-align: right;\">\n",
       "      <th></th>\n",
       "      <th>PREDICATION_ID</th>\n",
       "      <th>SENTENCE_ID</th>\n",
       "      <th>PMID</th>\n",
       "      <th>PREDICATE</th>\n",
       "      <th>SUBJECT_CUI</th>\n",
       "      <th>SUBJECT_NAME</th>\n",
       "      <th>SUBJECT_SEMTYPE</th>\n",
       "      <th>SUBJECT_NOVELTY</th>\n",
       "      <th>OBJECT_CUI</th>\n",
       "      <th>OBJECT_NAME</th>\n",
       "      <th>OBJECT_SEMTYPE</th>\n",
       "      <th>OBJECT_NOVELTY</th>\n",
       "    </tr>\n",
       "  </thead>\n",
       "  <tbody>\n",
       "    <tr>\n",
       "      <th>0</th>\n",
       "      <td>39212</td>\n",
       "      <td>87854</td>\n",
       "      <td>13384314</td>\n",
       "      <td>INTERACTS_WITH</td>\n",
       "      <td>C1366490</td>\n",
       "      <td>ADRBK1 gene</td>\n",
       "      <td>gngm</td>\n",
       "      <td>1</td>\n",
       "      <td>C0040615</td>\n",
       "      <td>Antipsychotic Agents</td>\n",
       "      <td>phsu</td>\n",
       "      <td>1</td>\n",
       "    </tr>\n",
       "    <tr>\n",
       "      <th>1</th>\n",
       "      <td>39212</td>\n",
       "      <td>87854</td>\n",
       "      <td>13384314</td>\n",
       "      <td>INTERACTS_WITH</td>\n",
       "      <td>156</td>\n",
       "      <td>ADRBK1</td>\n",
       "      <td>gngm</td>\n",
       "      <td>1</td>\n",
       "      <td>C0040615</td>\n",
       "      <td>Antipsychotic Agents</td>\n",
       "      <td>phsu</td>\n",
       "      <td>1</td>\n",
       "    </tr>\n",
       "    <tr>\n",
       "      <th>2</th>\n",
       "      <td>39289</td>\n",
       "      <td>88096</td>\n",
       "      <td>14782737</td>\n",
       "      <td>ASSOCIATED_WITH</td>\n",
       "      <td>C0001655</td>\n",
       "      <td>Corticotropin</td>\n",
       "      <td>horm</td>\n",
       "      <td>1</td>\n",
       "      <td>C0021311</td>\n",
       "      <td>Infection</td>\n",
       "      <td>dsyn</td>\n",
       "      <td>1</td>\n",
       "    </tr>\n",
       "    <tr>\n",
       "      <th>3</th>\n",
       "      <td>39289</td>\n",
       "      <td>88096</td>\n",
       "      <td>14782737</td>\n",
       "      <td>ASSOCIATED_WITH</td>\n",
       "      <td>5443</td>\n",
       "      <td>POMC</td>\n",
       "      <td>horm</td>\n",
       "      <td>1</td>\n",
       "      <td>C0021311</td>\n",
       "      <td>Infection</td>\n",
       "      <td>dsyn</td>\n",
       "      <td>1</td>\n",
       "    </tr>\n",
       "    <tr>\n",
       "      <th>4</th>\n",
       "      <td>39353</td>\n",
       "      <td>88296</td>\n",
       "      <td>4229045</td>\n",
       "      <td>PART_OF</td>\n",
       "      <td>C0032140</td>\n",
       "      <td>Plasminogen</td>\n",
       "      <td>aapp</td>\n",
       "      <td>1</td>\n",
       "      <td>C0020114</td>\n",
       "      <td>Human</td>\n",
       "      <td>humn</td>\n",
       "      <td>0</td>\n",
       "    </tr>\n",
       "    <tr>\n",
       "      <th>5</th>\n",
       "      <td>39353</td>\n",
       "      <td>88296</td>\n",
       "      <td>4229045</td>\n",
       "      <td>PART_OF</td>\n",
       "      <td>5340</td>\n",
       "      <td>PLG</td>\n",
       "      <td>aapp</td>\n",
       "      <td>1</td>\n",
       "      <td>C0020114</td>\n",
       "      <td>Human</td>\n",
       "      <td>humn</td>\n",
       "      <td>0</td>\n",
       "    </tr>\n",
       "    <tr>\n",
       "      <th>6</th>\n",
       "      <td>39784</td>\n",
       "      <td>89525</td>\n",
       "      <td>18933908</td>\n",
       "      <td>PART_OF</td>\n",
       "      <td>C0001924</td>\n",
       "      <td>Albumins</td>\n",
       "      <td>aapp</td>\n",
       "      <td>1</td>\n",
       "      <td>C0020114</td>\n",
       "      <td>Human</td>\n",
       "      <td>humn</td>\n",
       "      <td>0</td>\n",
       "    </tr>\n",
       "    <tr>\n",
       "      <th>7</th>\n",
       "      <td>39784</td>\n",
       "      <td>89525</td>\n",
       "      <td>18933908</td>\n",
       "      <td>PART_OF</td>\n",
       "      <td>213</td>\n",
       "      <td>ALB</td>\n",
       "      <td>aapp</td>\n",
       "      <td>1</td>\n",
       "      <td>C0020114</td>\n",
       "      <td>Human</td>\n",
       "      <td>humn</td>\n",
       "      <td>0</td>\n",
       "    </tr>\n",
       "    <tr>\n",
       "      <th>8</th>\n",
       "      <td>39817</td>\n",
       "      <td>89640</td>\n",
       "      <td>6065080</td>\n",
       "      <td>PART_OF</td>\n",
       "      <td>C0001457</td>\n",
       "      <td>ADENOSINE DEAMINASE</td>\n",
       "      <td>aapp</td>\n",
       "      <td>1</td>\n",
       "      <td>C0013303</td>\n",
       "      <td>Duodenum</td>\n",
       "      <td>bpoc</td>\n",
       "      <td>1</td>\n",
       "    </tr>\n",
       "    <tr>\n",
       "      <th>9</th>\n",
       "      <td>39817</td>\n",
       "      <td>89640</td>\n",
       "      <td>6065080</td>\n",
       "      <td>PART_OF</td>\n",
       "      <td>100</td>\n",
       "      <td>ADA</td>\n",
       "      <td>aapp</td>\n",
       "      <td>1</td>\n",
       "      <td>C0013303</td>\n",
       "      <td>Duodenum</td>\n",
       "      <td>bpoc</td>\n",
       "      <td>1</td>\n",
       "    </tr>\n",
       "  </tbody>\n",
       "</table>\n",
       "</div>"
      ],
      "text/plain": [
       "   PREDICATION_ID  SENTENCE_ID      PMID        PREDICATE SUBJECT_CUI  \\\n",
       "0           39212        87854  13384314   INTERACTS_WITH    C1366490   \n",
       "1           39212        87854  13384314   INTERACTS_WITH         156   \n",
       "2           39289        88096  14782737  ASSOCIATED_WITH    C0001655   \n",
       "3           39289        88096  14782737  ASSOCIATED_WITH        5443   \n",
       "4           39353        88296   4229045          PART_OF    C0032140   \n",
       "5           39353        88296   4229045          PART_OF        5340   \n",
       "6           39784        89525  18933908          PART_OF    C0001924   \n",
       "7           39784        89525  18933908          PART_OF         213   \n",
       "8           39817        89640   6065080          PART_OF    C0001457   \n",
       "9           39817        89640   6065080          PART_OF         100   \n",
       "\n",
       "          SUBJECT_NAME SUBJECT_SEMTYPE  SUBJECT_NOVELTY OBJECT_CUI  \\\n",
       "0          ADRBK1 gene            gngm                1   C0040615   \n",
       "1               ADRBK1            gngm                1   C0040615   \n",
       "2        Corticotropin            horm                1   C0021311   \n",
       "3                 POMC            horm                1   C0021311   \n",
       "4          Plasminogen            aapp                1   C0020114   \n",
       "5                  PLG            aapp                1   C0020114   \n",
       "6             Albumins            aapp                1   C0020114   \n",
       "7                  ALB            aapp                1   C0020114   \n",
       "8  ADENOSINE DEAMINASE            aapp                1   C0013303   \n",
       "9                  ADA            aapp                1   C0013303   \n",
       "\n",
       "            OBJECT_NAME OBJECT_SEMTYPE  OBJECT_NOVELTY  \n",
       "0  Antipsychotic Agents           phsu               1  \n",
       "1  Antipsychotic Agents           phsu               1  \n",
       "2             Infection           dsyn               1  \n",
       "3             Infection           dsyn               1  \n",
       "4                 Human           humn               0  \n",
       "5                 Human           humn               0  \n",
       "6                 Human           humn               0  \n",
       "7                 Human           humn               0  \n",
       "8              Duodenum           bpoc               1  \n",
       "9              Duodenum           bpoc               1  "
      ]
     },
     "execution_count": 20,
     "metadata": {},
     "output_type": "execute_result"
    }
   ],
   "source": [
    "fixed_starts.head(10)"
   ]
  },
  {
   "cell_type": "markdown",
   "metadata": {
    "collapsed": true
   },
   "source": [
    "#### Fixing the lines where the Objects contain pipes"
   ]
  },
  {
   "cell_type": "code",
   "execution_count": 21,
   "metadata": {
    "collapsed": true
   },
   "outputs": [],
   "source": [
    "end_id_split = pipe_lines.loc[end_only_subset, 'OBJECT_CUI'].str.split('|')\n",
    "end_name_split = pipe_lines.loc[end_only_subset, 'OBJECT_NAME'].str.split('|')"
   ]
  },
  {
   "cell_type": "markdown",
   "metadata": {},
   "source": [
    "When examining the data, we can see that some of the lines were not parsed correctly.  This must have happened before the data was downloaded, because mysql shows the same issues when the dump is loaded and queried. \n",
    "\n",
    "These line will be dropped since there aren't many and they're pretty much garbage."
   ]
  },
  {
   "cell_type": "code",
   "execution_count": 22,
   "metadata": {},
   "outputs": [
    {
     "name": "stdout",
     "output_type": "stream",
     "text": [
      "There are 0 lines with data corruped in this manner\n"
     ]
    },
    {
     "data": {
      "text/html": [
       "<div>\n",
       "<style scoped>\n",
       "    .dataframe tbody tr th:only-of-type {\n",
       "        vertical-align: middle;\n",
       "    }\n",
       "\n",
       "    .dataframe tbody tr th {\n",
       "        vertical-align: top;\n",
       "    }\n",
       "\n",
       "    .dataframe thead th {\n",
       "        text-align: right;\n",
       "    }\n",
       "</style>\n",
       "<table border=\"1\" class=\"dataframe\">\n",
       "  <thead>\n",
       "    <tr style=\"text-align: right;\">\n",
       "      <th></th>\n",
       "      <th>PREDICATION_ID</th>\n",
       "      <th>SENTENCE_ID</th>\n",
       "      <th>PMID</th>\n",
       "      <th>PREDICATE</th>\n",
       "      <th>SUBJECT_CUI</th>\n",
       "      <th>SUBJECT_NAME</th>\n",
       "      <th>SUBJECT_SEMTYPE</th>\n",
       "      <th>SUBJECT_NOVELTY</th>\n",
       "      <th>OBJECT_CUI</th>\n",
       "      <th>OBJECT_NAME</th>\n",
       "      <th>OBJECT_SEMTYPE</th>\n",
       "      <th>OBJECT_NOVELTY</th>\n",
       "    </tr>\n",
       "  </thead>\n",
       "  <tbody>\n",
       "  </tbody>\n",
       "</table>\n",
       "</div>"
      ],
      "text/plain": [
       "Empty DataFrame\n",
       "Columns: [PREDICATION_ID, SENTENCE_ID, PMID, PREDICATE, SUBJECT_CUI, SUBJECT_NAME, SUBJECT_SEMTYPE, SUBJECT_NOVELTY, OBJECT_CUI, OBJECT_NAME, OBJECT_SEMTYPE, OBJECT_NOVELTY]\n",
       "Index: []"
      ]
     },
     "execution_count": 22,
     "metadata": {},
     "output_type": "execute_result"
    }
   ],
   "source": [
    "end_lens = end_id_split.apply(len)\n",
    "end_lens1 = end_name_split.apply(len)\n",
    "\n",
    "print('There are {} lines with data corruped in this manner'.format(sum(end_lens != end_lens1)))\n",
    "\n",
    "pipe_lines.loc[end_only_subset][(end_lens != end_lens1)]"
   ]
  },
  {
   "cell_type": "code",
   "execution_count": 23,
   "metadata": {
    "collapsed": true
   },
   "outputs": [],
   "source": [
    "# get the index for the bad lines\n",
    "bad_lines = pipe_lines.loc[end_only_subset][(end_lens != end_lens1)].index\n",
    "\n",
    "# Remove them from the main dataframe\n",
    "pipe_lines = pipe_lines.drop(bad_lines)\n",
    "\n",
    "# Remove from the indicies that still need to be used as well...\n",
    "end_only_subset = end_only_subset.drop(bad_lines)\n",
    "multi_both_subset = multi_both_subset.drop(bad_lines)"
   ]
  },
  {
   "cell_type": "markdown",
   "metadata": {},
   "source": [
    "Now the splitting algorithm is identical to that used for the Subject lines"
   ]
  },
  {
   "cell_type": "code",
   "execution_count": 24,
   "metadata": {
    "collapsed": true
   },
   "outputs": [],
   "source": [
    "end_id_split = pipe_lines.loc[end_only_subset, 'OBJECT_CUI'].str.split('|')\n",
    "end_name_split = pipe_lines.loc[end_only_subset, 'OBJECT_NAME'].str.split('|')\n",
    "end_lens = end_id_split.apply(len)"
   ]
  },
  {
   "cell_type": "code",
   "execution_count": 25,
   "metadata": {
    "collapsed": true
   },
   "outputs": [],
   "source": [
    "end_cols = all_cols[:]\n",
    "end_cols.remove('OBJECT_CUI')\n",
    "end_cols.remove('OBJECT_NAME')"
   ]
  },
  {
   "cell_type": "code",
   "execution_count": 26,
   "metadata": {
    "collapsed": true
   },
   "outputs": [],
   "source": [
    "new_ends = dict()\n",
    "for c in end_cols:\n",
    "    tmp = pipe_lines.loc[end_only_subset, c].apply(lambda x: [x]) * end_lens\n",
    "    new_ends[c] = [x for x in chain(*tmp.values)]"
   ]
  },
  {
   "cell_type": "code",
   "execution_count": 27,
   "metadata": {
    "collapsed": true
   },
   "outputs": [],
   "source": [
    "fixed_ends = pd.DataFrame(new_ends)\n",
    "fixed_ends['OBJECT_CUI'] = [x for x in chain(*end_id_split.values)]\n",
    "fixed_ends['OBJECT_NAME'] = [x for x in chain(*end_name_split.values)]\n",
    "\n",
    "fixed_ends = fixed_ends[all_cols]"
   ]
  },
  {
   "cell_type": "code",
   "execution_count": 28,
   "metadata": {},
   "outputs": [
    {
     "data": {
      "text/html": [
       "<div>\n",
       "<style scoped>\n",
       "    .dataframe tbody tr th:only-of-type {\n",
       "        vertical-align: middle;\n",
       "    }\n",
       "\n",
       "    .dataframe tbody tr th {\n",
       "        vertical-align: top;\n",
       "    }\n",
       "\n",
       "    .dataframe thead th {\n",
       "        text-align: right;\n",
       "    }\n",
       "</style>\n",
       "<table border=\"1\" class=\"dataframe\">\n",
       "  <thead>\n",
       "    <tr style=\"text-align: right;\">\n",
       "      <th></th>\n",
       "      <th>PREDICATION_ID</th>\n",
       "      <th>SENTENCE_ID</th>\n",
       "      <th>PMID</th>\n",
       "      <th>PREDICATE</th>\n",
       "      <th>SUBJECT_CUI</th>\n",
       "      <th>SUBJECT_NAME</th>\n",
       "      <th>SUBJECT_SEMTYPE</th>\n",
       "      <th>SUBJECT_NOVELTY</th>\n",
       "      <th>OBJECT_CUI</th>\n",
       "      <th>OBJECT_NAME</th>\n",
       "      <th>OBJECT_SEMTYPE</th>\n",
       "      <th>OBJECT_NOVELTY</th>\n",
       "    </tr>\n",
       "  </thead>\n",
       "  <tbody>\n",
       "    <tr>\n",
       "      <th>0</th>\n",
       "      <td>39356</td>\n",
       "      <td>88174</td>\n",
       "      <td>4291298</td>\n",
       "      <td>LOCATION_OF</td>\n",
       "      <td>C0006104</td>\n",
       "      <td>Brain</td>\n",
       "      <td>bpoc</td>\n",
       "      <td>1</td>\n",
       "      <td>C0001655</td>\n",
       "      <td>Corticotropin</td>\n",
       "      <td>aapp</td>\n",
       "      <td>1</td>\n",
       "    </tr>\n",
       "    <tr>\n",
       "      <th>1</th>\n",
       "      <td>39356</td>\n",
       "      <td>88174</td>\n",
       "      <td>4291298</td>\n",
       "      <td>LOCATION_OF</td>\n",
       "      <td>C0006104</td>\n",
       "      <td>Brain</td>\n",
       "      <td>bpoc</td>\n",
       "      <td>1</td>\n",
       "      <td>5443</td>\n",
       "      <td>POMC</td>\n",
       "      <td>aapp</td>\n",
       "      <td>1</td>\n",
       "    </tr>\n",
       "    <tr>\n",
       "      <th>2</th>\n",
       "      <td>39870</td>\n",
       "      <td>89730</td>\n",
       "      <td>14770466</td>\n",
       "      <td>USES</td>\n",
       "      <td>C0087111</td>\n",
       "      <td>Therapeutic procedure</td>\n",
       "      <td>topp</td>\n",
       "      <td>0</td>\n",
       "      <td>C0001655</td>\n",
       "      <td>Corticotropin</td>\n",
       "      <td>aapp</td>\n",
       "      <td>1</td>\n",
       "    </tr>\n",
       "    <tr>\n",
       "      <th>3</th>\n",
       "      <td>39870</td>\n",
       "      <td>89730</td>\n",
       "      <td>14770466</td>\n",
       "      <td>USES</td>\n",
       "      <td>C0087111</td>\n",
       "      <td>Therapeutic procedure</td>\n",
       "      <td>topp</td>\n",
       "      <td>0</td>\n",
       "      <td>5443</td>\n",
       "      <td>POMC</td>\n",
       "      <td>aapp</td>\n",
       "      <td>1</td>\n",
       "    </tr>\n",
       "    <tr>\n",
       "      <th>4</th>\n",
       "      <td>40015</td>\n",
       "      <td>90197</td>\n",
       "      <td>13738601</td>\n",
       "      <td>LOCATION_OF</td>\n",
       "      <td>C0022646</td>\n",
       "      <td>Kidney</td>\n",
       "      <td>bpoc</td>\n",
       "      <td>1</td>\n",
       "      <td>708</td>\n",
       "      <td>C1QBP</td>\n",
       "      <td>aapp</td>\n",
       "      <td>1</td>\n",
       "    </tr>\n",
       "  </tbody>\n",
       "</table>\n",
       "</div>"
      ],
      "text/plain": [
       "   PREDICATION_ID  SENTENCE_ID      PMID    PREDICATE SUBJECT_CUI  \\\n",
       "0           39356        88174   4291298  LOCATION_OF    C0006104   \n",
       "1           39356        88174   4291298  LOCATION_OF    C0006104   \n",
       "2           39870        89730  14770466         USES    C0087111   \n",
       "3           39870        89730  14770466         USES    C0087111   \n",
       "4           40015        90197  13738601  LOCATION_OF    C0022646   \n",
       "\n",
       "            SUBJECT_NAME SUBJECT_SEMTYPE  SUBJECT_NOVELTY OBJECT_CUI  \\\n",
       "0                  Brain            bpoc                1   C0001655   \n",
       "1                  Brain            bpoc                1       5443   \n",
       "2  Therapeutic procedure            topp                0   C0001655   \n",
       "3  Therapeutic procedure            topp                0       5443   \n",
       "4                 Kidney            bpoc                1        708   \n",
       "\n",
       "     OBJECT_NAME OBJECT_SEMTYPE  OBJECT_NOVELTY  \n",
       "0  Corticotropin           aapp               1  \n",
       "1           POMC           aapp               1  \n",
       "2  Corticotropin           aapp               1  \n",
       "3           POMC           aapp               1  \n",
       "4          C1QBP           aapp               1  "
      ]
     },
     "execution_count": 28,
     "metadata": {},
     "output_type": "execute_result"
    }
   ],
   "source": [
    "fixed_ends.head()"
   ]
  },
  {
   "cell_type": "markdown",
   "metadata": {},
   "source": [
    "### Splitting of lines where both the subject and object contain pipes\n",
    "\n",
    "These differ slightly in the way that they will have to be treated.  First, the number of pipe in the subject and object can be different.  The total number of new lines to be created is `(n+1) * (m+1)` where `n` is the number of pipes in the subject and `m` is the number of pipes in the object.\n",
    "\n",
    "Secondly, every possible combination of subject and object will need to be made.  Given subjects `A` and `B`, and objects `X` and `Y`, and predicate `p` you will need rows for the following combinatinos `ApX`, `ApY`, `BpX`, `BpY`."
   ]
  },
  {
   "cell_type": "code",
   "execution_count": 29,
   "metadata": {
    "collapsed": true
   },
   "outputs": [],
   "source": [
    "start_id_split = pipe_lines.loc[multi_both_subset, 'SUBJECT_CUI'].str.split('|')\n",
    "start_name_split = pipe_lines.loc[multi_both_subset, 'SUBJECT_NAME'].str.split('|')\n",
    "start_lens = start_id_split.apply(len)\n",
    "\n",
    "end_id_split = pipe_lines.loc[multi_both_subset, 'OBJECT_CUI'].str.split('|')\n",
    "end_name_split = pipe_lines.loc[multi_both_subset, 'OBJECT_NAME'].str.split('|')\n",
    "end_lens = end_id_split.apply(len)"
   ]
  },
  {
   "cell_type": "code",
   "execution_count": 30,
   "metadata": {
    "collapsed": true
   },
   "outputs": [],
   "source": [
    "# Multiply the start splits by the end length, so you get end_len*start_len total rows\n",
    "start_id_split = start_id_split * end_lens\n",
    "start_name_split = start_name_split * end_lens\n",
    "\n",
    "end_id_split = end_id_split * start_lens\n",
    "end_name_split = end_name_split * start_lens"
   ]
  },
  {
   "cell_type": "code",
   "execution_count": 31,
   "metadata": {
    "collapsed": true
   },
   "outputs": [],
   "source": [
    "# only sort the starts so that you get all possible combinations....\n",
    "# For example right now we have start = [A, B, C, A, B, C] and end = [X, Y, X, Y, X, Y]\n",
    "# By sorting the start we will have start = [A, A, B, B, C, C] and end = [X, Y, X, Y, X, Y]\n",
    "# Therefore when combined element-wise, all possible combinatinos will arise\n",
    "\n",
    "sorting_df = pd.DataFrame()\n",
    "sorting_df['ID'] = start_id_split\n",
    "sorting_df['NAME'] = start_name_split\n",
    "\n",
    "sorted_start_id_split = sorting_df['ID'].apply(lambda x: sorted(x))\n",
    "# Need to sort the names based on IDs so that the same name still corresponds to the same ID\n",
    "sorted_start_name_split = sorting_df.apply(lambda row: [x for y,x in sorted(zip(row['ID'], row['NAME']))], axis = 1)"
   ]
  },
  {
   "cell_type": "code",
   "execution_count": 32,
   "metadata": {},
   "outputs": [
    {
     "data": {
      "text/html": [
       "<div>\n",
       "<style scoped>\n",
       "    .dataframe tbody tr th:only-of-type {\n",
       "        vertical-align: middle;\n",
       "    }\n",
       "\n",
       "    .dataframe tbody tr th {\n",
       "        vertical-align: top;\n",
       "    }\n",
       "\n",
       "    .dataframe thead th {\n",
       "        text-align: right;\n",
       "    }\n",
       "</style>\n",
       "<table border=\"1\" class=\"dataframe\">\n",
       "  <thead>\n",
       "    <tr style=\"text-align: right;\">\n",
       "      <th></th>\n",
       "      <th>ID</th>\n",
       "      <th>NAME</th>\n",
       "    </tr>\n",
       "  </thead>\n",
       "  <tbody>\n",
       "    <tr>\n",
       "      <th>45788</th>\n",
       "      <td>[C0001924, 213, C0001924, 213, C0001924, 213]</td>\n",
       "      <td>[Albumins, ALB, Albumins, ALB, Albumins, ALB]</td>\n",
       "    </tr>\n",
       "    <tr>\n",
       "      <th>47644</th>\n",
       "      <td>[C0001655, 5443, C0001655, 5443]</td>\n",
       "      <td>[Corticotropin, POMC, Corticotropin, POMC]</td>\n",
       "    </tr>\n",
       "    <tr>\n",
       "      <th>51488</th>\n",
       "      <td>[C0755813, 325, 4068, C0755813, 325, 4068, C07...</td>\n",
       "      <td>[SKAP55-related protein, APCS, SH2D1A, SKAP55-...</td>\n",
       "    </tr>\n",
       "    <tr>\n",
       "      <th>51517</th>\n",
       "      <td>[C0755813, 325, 4068, C0755813, 325, 4068, C07...</td>\n",
       "      <td>[SKAP55-related protein, APCS, SH2D1A, SKAP55-...</td>\n",
       "    </tr>\n",
       "    <tr>\n",
       "      <th>51548</th>\n",
       "      <td>[C0755813, 325, 4068, C0755813, 325, 4068]</td>\n",
       "      <td>[SKAP55-related protein, APCS, SH2D1A, SKAP55-...</td>\n",
       "    </tr>\n",
       "  </tbody>\n",
       "</table>\n",
       "</div>"
      ],
      "text/plain": [
       "                                                      ID  \\\n",
       "45788      [C0001924, 213, C0001924, 213, C0001924, 213]   \n",
       "47644                   [C0001655, 5443, C0001655, 5443]   \n",
       "51488  [C0755813, 325, 4068, C0755813, 325, 4068, C07...   \n",
       "51517  [C0755813, 325, 4068, C0755813, 325, 4068, C07...   \n",
       "51548         [C0755813, 325, 4068, C0755813, 325, 4068]   \n",
       "\n",
       "                                                    NAME  \n",
       "45788      [Albumins, ALB, Albumins, ALB, Albumins, ALB]  \n",
       "47644         [Corticotropin, POMC, Corticotropin, POMC]  \n",
       "51488  [SKAP55-related protein, APCS, SH2D1A, SKAP55-...  \n",
       "51517  [SKAP55-related protein, APCS, SH2D1A, SKAP55-...  \n",
       "51548  [SKAP55-related protein, APCS, SH2D1A, SKAP55-...  "
      ]
     },
     "execution_count": 32,
     "metadata": {},
     "output_type": "execute_result"
    }
   ],
   "source": [
    "sorting_df.head()"
   ]
  },
  {
   "cell_type": "code",
   "execution_count": 33,
   "metadata": {},
   "outputs": [
    {
     "data": {
      "text/plain": [
       "45788        [213, 213, 213, C0001924, C0001924, C0001924]\n",
       "47644                     [5443, 5443, C0001655, C0001655]\n",
       "51488    [325, 325, 325, 4068, 4068, 4068, C0755813, C0...\n",
       "51517    [325, 325, 325, 4068, 4068, 4068, C0755813, C0...\n",
       "51548           [325, 325, 4068, 4068, C0755813, C0755813]\n",
       "Name: ID, dtype: object"
      ]
     },
     "execution_count": 33,
     "metadata": {},
     "output_type": "execute_result"
    }
   ],
   "source": [
    "sorted_start_id_split.head()"
   ]
  },
  {
   "cell_type": "code",
   "execution_count": 34,
   "metadata": {},
   "outputs": [
    {
     "data": {
      "text/plain": [
       "45788        [ALB, ALB, ALB, Albumins, Albumins, Albumins]\n",
       "47644           [POMC, POMC, Corticotropin, Corticotropin]\n",
       "51488    [APCS, APCS, APCS, SH2D1A, SH2D1A, SH2D1A, SKA...\n",
       "51517    [APCS, APCS, APCS, SH2D1A, SH2D1A, SH2D1A, SKA...\n",
       "51548    [APCS, APCS, SH2D1A, SH2D1A, SKAP55-related pr...\n",
       "dtype: object"
      ]
     },
     "execution_count": 34,
     "metadata": {},
     "output_type": "execute_result"
    }
   ],
   "source": [
    "sorted_start_name_split.head()"
   ]
  },
  {
   "cell_type": "markdown",
   "metadata": {},
   "source": [
    "Now the algorithm continues in a simialr mannor to that of the Only subject or Only Object corrections"
   ]
  },
  {
   "cell_type": "code",
   "execution_count": 35,
   "metadata": {
    "collapsed": true
   },
   "outputs": [],
   "source": [
    "both_cols = all_cols[:]\n",
    "both_cols.remove('SUBJECT_CUI')\n",
    "both_cols.remove('SUBJECT_NAME')\n",
    "both_cols.remove('OBJECT_CUI')\n",
    "both_cols.remove('OBJECT_NAME')"
   ]
  },
  {
   "cell_type": "code",
   "execution_count": 36,
   "metadata": {
    "collapsed": true
   },
   "outputs": [],
   "source": [
    "new_both = dict()\n",
    "for c in both_cols:\n",
    "    tmp = pipe_lines.loc[multi_both_subset, c].apply(lambda x: [x]) * (start_lens * end_lens)\n",
    "    new_both[c] = [x for x in chain(*tmp.values)]"
   ]
  },
  {
   "cell_type": "code",
   "execution_count": 37,
   "metadata": {
    "collapsed": true
   },
   "outputs": [],
   "source": [
    "fixed_both = pd.DataFrame(new_both)\n",
    "\n",
    "fixed_both['SUBJECT_CUI'] = [x for x in chain(*sorted_start_id_split.values)]\n",
    "fixed_both['SUBJECT_NAME'] = [x for x in chain(*sorted_start_name_split.values)]\n",
    "\n",
    "fixed_both['OBJECT_CUI'] = [x for x in chain(*end_id_split.values)]\n",
    "fixed_both['OBJECT_NAME'] = [x for x in chain(*end_name_split.values)]\n",
    "\n",
    "fixed_both = fixed_both[all_cols]"
   ]
  },
  {
   "cell_type": "code",
   "execution_count": 38,
   "metadata": {},
   "outputs": [
    {
     "data": {
      "text/html": [
       "<div>\n",
       "<style scoped>\n",
       "    .dataframe tbody tr th:only-of-type {\n",
       "        vertical-align: middle;\n",
       "    }\n",
       "\n",
       "    .dataframe tbody tr th {\n",
       "        vertical-align: top;\n",
       "    }\n",
       "\n",
       "    .dataframe thead th {\n",
       "        text-align: right;\n",
       "    }\n",
       "</style>\n",
       "<table border=\"1\" class=\"dataframe\">\n",
       "  <thead>\n",
       "    <tr style=\"text-align: right;\">\n",
       "      <th></th>\n",
       "      <th>PREDICATION_ID</th>\n",
       "      <th>SENTENCE_ID</th>\n",
       "      <th>PMID</th>\n",
       "      <th>PREDICATE</th>\n",
       "      <th>SUBJECT_CUI</th>\n",
       "      <th>SUBJECT_NAME</th>\n",
       "      <th>SUBJECT_SEMTYPE</th>\n",
       "      <th>SUBJECT_NOVELTY</th>\n",
       "      <th>OBJECT_CUI</th>\n",
       "      <th>OBJECT_NAME</th>\n",
       "      <th>OBJECT_SEMTYPE</th>\n",
       "      <th>OBJECT_NOVELTY</th>\n",
       "    </tr>\n",
       "  </thead>\n",
       "  <tbody>\n",
       "    <tr>\n",
       "      <th>0</th>\n",
       "      <td>84787</td>\n",
       "      <td>211961</td>\n",
       "      <td>5634523</td>\n",
       "      <td>PART_OF</td>\n",
       "      <td>213</td>\n",
       "      <td>ALB</td>\n",
       "      <td>bacs</td>\n",
       "      <td>1</td>\n",
       "      <td>C1412332</td>\n",
       "      <td>ALB gene</td>\n",
       "      <td>aapp</td>\n",
       "      <td>1</td>\n",
       "    </tr>\n",
       "    <tr>\n",
       "      <th>1</th>\n",
       "      <td>84787</td>\n",
       "      <td>211961</td>\n",
       "      <td>5634523</td>\n",
       "      <td>PART_OF</td>\n",
       "      <td>213</td>\n",
       "      <td>ALB</td>\n",
       "      <td>bacs</td>\n",
       "      <td>1</td>\n",
       "      <td>213</td>\n",
       "      <td>ALB</td>\n",
       "      <td>aapp</td>\n",
       "      <td>1</td>\n",
       "    </tr>\n",
       "    <tr>\n",
       "      <th>2</th>\n",
       "      <td>84787</td>\n",
       "      <td>211961</td>\n",
       "      <td>5634523</td>\n",
       "      <td>PART_OF</td>\n",
       "      <td>213</td>\n",
       "      <td>ALB</td>\n",
       "      <td>bacs</td>\n",
       "      <td>1</td>\n",
       "      <td>85302</td>\n",
       "      <td>FBF1</td>\n",
       "      <td>aapp</td>\n",
       "      <td>1</td>\n",
       "    </tr>\n",
       "    <tr>\n",
       "      <th>3</th>\n",
       "      <td>84787</td>\n",
       "      <td>211961</td>\n",
       "      <td>5634523</td>\n",
       "      <td>PART_OF</td>\n",
       "      <td>C0001924</td>\n",
       "      <td>Albumins</td>\n",
       "      <td>bacs</td>\n",
       "      <td>1</td>\n",
       "      <td>C1412332</td>\n",
       "      <td>ALB gene</td>\n",
       "      <td>aapp</td>\n",
       "      <td>1</td>\n",
       "    </tr>\n",
       "    <tr>\n",
       "      <th>4</th>\n",
       "      <td>84787</td>\n",
       "      <td>211961</td>\n",
       "      <td>5634523</td>\n",
       "      <td>PART_OF</td>\n",
       "      <td>C0001924</td>\n",
       "      <td>Albumins</td>\n",
       "      <td>bacs</td>\n",
       "      <td>1</td>\n",
       "      <td>213</td>\n",
       "      <td>ALB</td>\n",
       "      <td>aapp</td>\n",
       "      <td>1</td>\n",
       "    </tr>\n",
       "  </tbody>\n",
       "</table>\n",
       "</div>"
      ],
      "text/plain": [
       "   PREDICATION_ID  SENTENCE_ID     PMID PREDICATE SUBJECT_CUI SUBJECT_NAME  \\\n",
       "0           84787       211961  5634523   PART_OF         213          ALB   \n",
       "1           84787       211961  5634523   PART_OF         213          ALB   \n",
       "2           84787       211961  5634523   PART_OF         213          ALB   \n",
       "3           84787       211961  5634523   PART_OF    C0001924     Albumins   \n",
       "4           84787       211961  5634523   PART_OF    C0001924     Albumins   \n",
       "\n",
       "  SUBJECT_SEMTYPE  SUBJECT_NOVELTY OBJECT_CUI OBJECT_NAME OBJECT_SEMTYPE  \\\n",
       "0            bacs                1   C1412332    ALB gene           aapp   \n",
       "1            bacs                1        213         ALB           aapp   \n",
       "2            bacs                1      85302        FBF1           aapp   \n",
       "3            bacs                1   C1412332    ALB gene           aapp   \n",
       "4            bacs                1        213         ALB           aapp   \n",
       "\n",
       "   OBJECT_NOVELTY  \n",
       "0               1  \n",
       "1               1  \n",
       "2               1  \n",
       "3               1  \n",
       "4               1  "
      ]
     },
     "execution_count": 38,
     "metadata": {},
     "output_type": "execute_result"
    }
   ],
   "source": [
    "fixed_both.head()"
   ]
  },
  {
   "cell_type": "markdown",
   "metadata": {},
   "source": [
    "Recombine these lines into the new dataframe."
   ]
  },
  {
   "cell_type": "code",
   "execution_count": 39,
   "metadata": {
    "collapsed": true
   },
   "outputs": [],
   "source": [
    "sem_df = pd.concat([good_lines, fixed_starts, fixed_ends, fixed_both]).reset_index(drop=True)"
   ]
  },
  {
   "cell_type": "code",
   "execution_count": 40,
   "metadata": {},
   "outputs": [
    {
     "name": "stdout",
     "output_type": "stream",
     "text": [
      "The data now contains 104,929,678 rows\n"
     ]
    }
   ],
   "source": [
    "print('The data now contains {:,} rows'.format(sem_df.shape[0]))"
   ]
  },
  {
   "cell_type": "markdown",
   "metadata": {},
   "source": [
    "# NORMALIZE IDS FOR GENES to CUIs\n",
    "\n",
    "Sometimes genes appear with a CUI as an identifier, other times they have an entrez gene id."
   ]
  },
  {
   "cell_type": "code",
   "execution_count": 41,
   "metadata": {},
   "outputs": [
    {
     "data": {
      "text/html": [
       "<div>\n",
       "<style scoped>\n",
       "    .dataframe tbody tr th:only-of-type {\n",
       "        vertical-align: middle;\n",
       "    }\n",
       "\n",
       "    .dataframe tbody tr th {\n",
       "        vertical-align: top;\n",
       "    }\n",
       "\n",
       "    .dataframe thead th {\n",
       "        text-align: right;\n",
       "    }\n",
       "</style>\n",
       "<table border=\"1\" class=\"dataframe\">\n",
       "  <thead>\n",
       "    <tr style=\"text-align: right;\">\n",
       "      <th></th>\n",
       "      <th>PREDICATION_ID</th>\n",
       "      <th>SENTENCE_ID</th>\n",
       "      <th>PMID</th>\n",
       "      <th>PREDICATE</th>\n",
       "      <th>SUBJECT_CUI</th>\n",
       "      <th>SUBJECT_NAME</th>\n",
       "      <th>SUBJECT_SEMTYPE</th>\n",
       "      <th>SUBJECT_NOVELTY</th>\n",
       "      <th>OBJECT_CUI</th>\n",
       "      <th>OBJECT_NAME</th>\n",
       "      <th>OBJECT_SEMTYPE</th>\n",
       "      <th>OBJECT_NOVELTY</th>\n",
       "    </tr>\n",
       "  </thead>\n",
       "  <tbody>\n",
       "    <tr>\n",
       "      <th>89886940</th>\n",
       "      <td>48911</td>\n",
       "      <td>115433</td>\n",
       "      <td>13029321</td>\n",
       "      <td>TREATS</td>\n",
       "      <td>C1337111</td>\n",
       "      <td>POMC gene</td>\n",
       "      <td>aapp</td>\n",
       "      <td>1</td>\n",
       "      <td>C0023449</td>\n",
       "      <td>Leukemia, Lymphocytic, Acute</td>\n",
       "      <td>neop</td>\n",
       "      <td>1</td>\n",
       "    </tr>\n",
       "    <tr>\n",
       "      <th>89887794</th>\n",
       "      <td>123811</td>\n",
       "      <td>320122</td>\n",
       "      <td>13584735</td>\n",
       "      <td>NEG_AFFECTS</td>\n",
       "      <td>C1337111</td>\n",
       "      <td>POMC gene</td>\n",
       "      <td>gngm</td>\n",
       "      <td>1</td>\n",
       "      <td>C0232804</td>\n",
       "      <td>Renal function</td>\n",
       "      <td>ortf</td>\n",
       "      <td>1</td>\n",
       "    </tr>\n",
       "  </tbody>\n",
       "</table>\n",
       "</div>"
      ],
      "text/plain": [
       "          PREDICATION_ID  SENTENCE_ID      PMID    PREDICATE SUBJECT_CUI  \\\n",
       "89886940           48911       115433  13029321       TREATS    C1337111   \n",
       "89887794          123811       320122  13584735  NEG_AFFECTS    C1337111   \n",
       "\n",
       "         SUBJECT_NAME SUBJECT_SEMTYPE  SUBJECT_NOVELTY OBJECT_CUI  \\\n",
       "89886940    POMC gene            aapp                1   C0023449   \n",
       "89887794    POMC gene            gngm                1   C0232804   \n",
       "\n",
       "                           OBJECT_NAME OBJECT_SEMTYPE  OBJECT_NOVELTY  \n",
       "89886940  Leukemia, Lymphocytic, Acute           neop               1  \n",
       "89887794                Renal function           ortf               1  "
      ]
     },
     "execution_count": 41,
     "metadata": {},
     "output_type": "execute_result"
    }
   ],
   "source": [
    "# POMC Gene is 5443 and has CUI C1337111\n",
    "sem_df.query('SUBJECT_CUI == \"C1337111\"').head(2)"
   ]
  },
  {
   "cell_type": "code",
   "execution_count": 42,
   "metadata": {
    "scrolled": true
   },
   "outputs": [
    {
     "data": {
      "text/html": [
       "<div>\n",
       "<style scoped>\n",
       "    .dataframe tbody tr th:only-of-type {\n",
       "        vertical-align: middle;\n",
       "    }\n",
       "\n",
       "    .dataframe tbody tr th {\n",
       "        vertical-align: top;\n",
       "    }\n",
       "\n",
       "    .dataframe thead th {\n",
       "        text-align: right;\n",
       "    }\n",
       "</style>\n",
       "<table border=\"1\" class=\"dataframe\">\n",
       "  <thead>\n",
       "    <tr style=\"text-align: right;\">\n",
       "      <th></th>\n",
       "      <th>PREDICATION_ID</th>\n",
       "      <th>SENTENCE_ID</th>\n",
       "      <th>PMID</th>\n",
       "      <th>PREDICATE</th>\n",
       "      <th>SUBJECT_CUI</th>\n",
       "      <th>SUBJECT_NAME</th>\n",
       "      <th>SUBJECT_SEMTYPE</th>\n",
       "      <th>SUBJECT_NOVELTY</th>\n",
       "      <th>OBJECT_CUI</th>\n",
       "      <th>OBJECT_NAME</th>\n",
       "      <th>OBJECT_SEMTYPE</th>\n",
       "      <th>OBJECT_NOVELTY</th>\n",
       "    </tr>\n",
       "  </thead>\n",
       "  <tbody>\n",
       "    <tr>\n",
       "      <th>589719</th>\n",
       "      <td>633940</td>\n",
       "      <td>1759696</td>\n",
       "      <td>13841870</td>\n",
       "      <td>INHIBITS</td>\n",
       "      <td>5443</td>\n",
       "      <td>POMC</td>\n",
       "      <td>aapp</td>\n",
       "      <td>1</td>\n",
       "      <td>C0001655</td>\n",
       "      <td>Corticotropin</td>\n",
       "      <td>aapp</td>\n",
       "      <td>1</td>\n",
       "    </tr>\n",
       "    <tr>\n",
       "      <th>2707630</th>\n",
       "      <td>2792160</td>\n",
       "      <td>6541453</td>\n",
       "      <td>4366303</td>\n",
       "      <td>INTERACTS_WITH</td>\n",
       "      <td>5443</td>\n",
       "      <td>POMC</td>\n",
       "      <td>aapp</td>\n",
       "      <td>1</td>\n",
       "      <td>C0001655</td>\n",
       "      <td>Corticotropin</td>\n",
       "      <td>aapp</td>\n",
       "      <td>1</td>\n",
       "    </tr>\n",
       "  </tbody>\n",
       "</table>\n",
       "</div>"
      ],
      "text/plain": [
       "         PREDICATION_ID  SENTENCE_ID      PMID       PREDICATE SUBJECT_CUI  \\\n",
       "589719           633940      1759696  13841870        INHIBITS        5443   \n",
       "2707630         2792160      6541453   4366303  INTERACTS_WITH        5443   \n",
       "\n",
       "        SUBJECT_NAME SUBJECT_SEMTYPE  SUBJECT_NOVELTY OBJECT_CUI  \\\n",
       "589719          POMC            aapp                1   C0001655   \n",
       "2707630         POMC            aapp                1   C0001655   \n",
       "\n",
       "           OBJECT_NAME OBJECT_SEMTYPE  OBJECT_NOVELTY  \n",
       "589719   Corticotropin           aapp               1  \n",
       "2707630  Corticotropin           aapp               1  "
      ]
     },
     "execution_count": 42,
     "metadata": {},
     "output_type": "execute_result"
    }
   ],
   "source": [
    "sem_df.query('SUBJECT_CUI == \"5443\"').head(2)"
   ]
  },
  {
   "cell_type": "markdown",
   "metadata": {},
   "source": [
    "## Strategy for normalizing to CUI\n",
    "\n",
    "mygene.info has umls data now so we will use this as a reliable, up-to-date soruce for mapping.  For those that cannot be acquired by mygene.info, we will use HGNC Mappings as UMLS contains those values"
   ]
  },
  {
   "cell_type": "code",
   "execution_count": 43,
   "metadata": {
    "collapsed": true
   },
   "outputs": [],
   "source": [
    "import mygene\n",
    "mg = mygene.MyGeneInfo()"
   ]
  },
  {
   "cell_type": "code",
   "execution_count": 44,
   "metadata": {
    "collapsed": true
   },
   "outputs": [],
   "source": [
    "gene_lines = ~sem_df['SUBJECT_CUI'].str.startswith('C')\n",
    "genes_entrez = set(sem_df.loc[gene_lines, 'SUBJECT_CUI'])\n",
    "\n",
    "gene_lines1 = ~sem_df['OBJECT_CUI'].str.startswith('C')\n",
    "genes_entrez.update(set(sem_df.loc[gene_lines1, 'OBJECT_CUI']))\n",
    "\n",
    "genes_need_fixing = gene_lines | gene_lines1"
   ]
  },
  {
   "cell_type": "code",
   "execution_count": 45,
   "metadata": {
    "scrolled": true
   },
   "outputs": [
    {
     "name": "stdout",
     "output_type": "stream",
     "text": [
      "19503 genes appear with Entrez IDs that will need to be mapped\n"
     ]
    }
   ],
   "source": [
    "print(\"{} genes appear with Entrez IDs that will need to be mapped\".format(len(genes_entrez)))"
   ]
  },
  {
   "cell_type": "code",
   "execution_count": 46,
   "metadata": {},
   "outputs": [
    {
     "name": "stdout",
     "output_type": "stream",
     "text": [
      "querying 1-1000...done.\n",
      "querying 1001-2000...done.\n",
      "querying 2001-3000...done.\n",
      "querying 3001-4000...done.\n",
      "querying 4001-5000...done.\n",
      "querying 5001-6000...done.\n",
      "querying 6001-7000...done.\n",
      "querying 7001-8000...done.\n",
      "querying 8001-9000...done.\n",
      "querying 9001-10000...done.\n",
      "querying 10001-11000...done.\n",
      "querying 11001-12000...done.\n",
      "querying 12001-13000...done.\n",
      "querying 13001-14000...done.\n",
      "querying 14001-15000...done.\n",
      "querying 15001-16000...done.\n",
      "querying 16001-17000...done.\n",
      "querying 17001-18000...done.\n",
      "querying 18001-19000...done.\n",
      "querying 19001-19503...done.\n"
     ]
    }
   ],
   "source": [
    "# Query Mygene.info and make the result a DataFrame\n",
    "mg_result = mg.getgenes(list(genes_entrez), fields='symbol,namel,umls,HGNC', dotfield=True)\n",
    "mg_result = pd.DataFrame(mg_result)\n",
    "mg_result.columns = [c.replace('.', '_') for c in mg_result.columns]"
   ]
  },
  {
   "cell_type": "code",
   "execution_count": 47,
   "metadata": {},
   "outputs": [
    {
     "name": "stdout",
     "output_type": "stream",
     "text": [
      "18913 out of 19503 Entrez IDs can be mapped to CUI via mygene.info\n"
     ]
    }
   ],
   "source": [
    "e_to_cui = mg_result.dropna(subset=['umls_cui']).set_index('query')['umls_cui'].to_dict()\n",
    "print(\"{} out of {} Entrez IDs can be mapped to CUI via mygene.info\".format(len(e_to_cui), len(genes_entrez)))"
   ]
  },
  {
   "cell_type": "markdown",
   "metadata": {},
   "source": [
    "### Get some more mappings from umls\n",
    "\n",
    "Although UMLS does not have direct Entrez Gene IDs mappings to UMLS CUIs, it does have HGNC IDs.  Some Entrez to HGNC values were picked up from mygene, so they will be used to further increase the maps size."
   ]
  },
  {
   "cell_type": "code",
   "execution_count": 48,
   "metadata": {
    "collapsed": true
   },
   "outputs": [],
   "source": [
    "# Fix mygene result so it has HGNC: at start of HGNC ids\n",
    "mg_result['HGNC'] = 'HGNC:' + mg_result['HGNC']"
   ]
  },
  {
   "cell_type": "code",
   "execution_count": 49,
   "metadata": {},
   "outputs": [
    {
     "data": {
      "text/plain": [
       "45"
      ]
     },
     "execution_count": 49,
     "metadata": {},
     "output_type": "execute_result"
    }
   ],
   "source": [
    "need_map = genes_entrez - set(e_to_cui.keys())\n",
    "e_to_hgnc = mg_result.query('query in @need_map').dropna(subset=['HGNC']).set_index('query')['HGNC'].to_dict()\n",
    "\n",
    "hgnc_ids = list(e_to_hgnc.values())\n",
    "\n",
    "len(hgnc_ids)"
   ]
  },
  {
   "cell_type": "code",
   "execution_count": 50,
   "metadata": {},
   "outputs": [
    {
     "name": "stderr",
     "output_type": "stream",
     "text": [
      "/opt/mmayers/software/anaconda3/envs/integrate/lib/python3.5/site-packages/IPython/core/interactiveshell.py:2862: DtypeWarning: Columns (9,10,13) have mixed types. Specify dtype option on import or set low_memory=False.\n",
      "  exec(code_obj, self.user_global_ns, self.user_ns)\n"
     ]
    },
    {
     "data": {
      "text/plain": [
       "33"
      ]
     },
     "execution_count": 50,
     "metadata": {},
     "output_type": "execute_result"
    }
   ],
   "source": [
    "# Get the values from the UMLS metathesaurus\n",
    "conso = load_umls.open_mrconso()\n",
    "q_res = conso.query('SCUI in @hgnc_ids and TTY == \"MTH_ACR\"')\n",
    "len(q_res)"
   ]
  },
  {
   "cell_type": "code",
   "execution_count": 51,
   "metadata": {
    "collapsed": true
   },
   "outputs": [],
   "source": [
    "hgnc_to_cui = q_res.set_index('SCUI')['CUI'].to_dict()\n",
    "e_to_cui_1 = {k: hgnc_to_cui[v] for k, v in e_to_hgnc.items() if v in hgnc_to_cui.keys()}\n",
    "\n",
    "e_to_cui = {**e_to_cui_1, **e_to_cui}"
   ]
  },
  {
   "cell_type": "code",
   "execution_count": 52,
   "metadata": {},
   "outputs": [
    {
     "name": "stdout",
     "output_type": "stream",
     "text": [
      "18946 out of 19503 Entrez IDs now mapped\n"
     ]
    }
   ],
   "source": [
    "print(\"{} out of {} Entrez IDs now mapped\".format(len(e_to_cui), len(genes_entrez)))"
   ]
  },
  {
   "cell_type": "markdown",
   "metadata": {},
   "source": [
    "### Generate a CUI to name map\n",
    "\n",
    "\n",
    "Once the Entrez IDs are changed to CUIs, the names will not be the true name that is associated with that CUI.  We will use the UMLS API to get the correct names. This will ensure the correct UMLS name appears with the CUI.\n"
   ]
  },
  {
   "cell_type": "code",
   "execution_count": 53,
   "metadata": {
    "collapsed": true
   },
   "outputs": [],
   "source": [
    "# First get the names from semmed for everything that already has a CUI\n",
    "d = sem_df[sem_df['SUBJECT_CUI'].str.startswith('C')].set_index('SUBJECT_CUI')['SUBJECT_NAME'].to_dict()\n",
    "od = sem_df[sem_df['OBJECT_CUI'].str.startswith('C')].set_index('OBJECT_CUI')['OBJECT_NAME'].to_dict()\n",
    "\n",
    "c_to_name_dict = {**d, **od}"
   ]
  },
  {
   "cell_type": "code",
   "execution_count": 54,
   "metadata": {
    "scrolled": true
   },
   "outputs": [
    {
     "data": {
      "text/plain": [
       "261315"
      ]
     },
     "execution_count": 54,
     "metadata": {},
     "output_type": "execute_result"
    }
   ],
   "source": [
    "len(c_to_name_dict)"
   ]
  },
  {
   "cell_type": "code",
   "execution_count": 55,
   "metadata": {},
   "outputs": [
    {
     "data": {
      "text/plain": [
       "9823"
      ]
     },
     "execution_count": 55,
     "metadata": {},
     "output_type": "execute_result"
    }
   ],
   "source": [
    "need_name = set(e_to_cui.values()) - set(c_to_name_dict.keys())\n",
    "len(need_name)"
   ]
  },
  {
   "cell_type": "code",
   "execution_count": 56,
   "metadata": {},
   "outputs": [
    {
     "data": {
      "text/plain": [
       "9808"
      ]
     },
     "execution_count": 56,
     "metadata": {},
     "output_type": "execute_result"
    }
   ],
   "source": [
    "# Get as many names as possible directly from UMLS\n",
    "# ISPREF == Y gets preferred names for preferred name\n",
    "c_to_name_1 = conso.query('CUI in @need_name and ISPREF == \"Y\"').set_index('CUI')['STR'].to_dict()\n",
    "len(c_to_name_1)"
   ]
  },
  {
   "cell_type": "code",
   "execution_count": 57,
   "metadata": {},
   "outputs": [
    {
     "data": {
      "text/plain": [
       "15"
      ]
     },
     "execution_count": 57,
     "metadata": {},
     "output_type": "execute_result"
    }
   ],
   "source": [
    "c_to_name_dict = {**c_to_name_1, **c_to_name_dict}\n",
    "to_query = set(e_to_cui.values()) - set(c_to_name_dict.keys())\n",
    "len(to_query)"
   ]
  },
  {
   "cell_type": "code",
   "execution_count": 58,
   "metadata": {
    "collapsed": true
   },
   "outputs": [],
   "source": [
    "# Most names are the Gene symbol + 'gene' so we'll use that for the remainder\n",
    "name_from_mygene = mg_result.query('umls_cui in @to_query').set_index('umls_cui')['symbol'].to_dict()\n",
    "\n",
    "# Make sure those mapped from mygene via HGNC have names\n",
    "to_query_1 = [k for k, v in hgnc_to_cui.items() if v in to_query]\n",
    "hgnc_to_name = mg_result.query('HGNC in @to_query_1').set_index('HGNC')['symbol'].to_dict()\n",
    "\n",
    "name_from_mygene.update({hgnc_to_cui[k]: v for k, v in hgnc_to_name.items()})\n",
    "\n",
    "name_from_mygene = {k: v+' gene' for k, v in name_from_mygene.items()}"
   ]
  },
  {
   "cell_type": "code",
   "execution_count": 59,
   "metadata": {},
   "outputs": [
    {
     "data": {
      "text/plain": [
       "0"
      ]
     },
     "execution_count": 59,
     "metadata": {},
     "output_type": "execute_result"
    }
   ],
   "source": [
    "# Ensure that all mappable genes now have a mappable name\n",
    "c_to_name_dict = {**name_from_mygene, **c_to_name_dict}\n",
    "to_query = set(e_to_cui.values()) - set(c_to_name_dict.keys())\n",
    "len(to_query)"
   ]
  },
  {
   "cell_type": "code",
   "execution_count": 60,
   "metadata": {},
   "outputs": [
    {
     "data": {
      "text/plain": [
       "271138"
      ]
     },
     "execution_count": 60,
     "metadata": {},
     "output_type": "execute_result"
    }
   ],
   "source": [
    "len(c_to_name_dict)"
   ]
  },
  {
   "cell_type": "code",
   "execution_count": 61,
   "metadata": {
    "collapsed": true
   },
   "outputs": [],
   "source": [
    "pickle.dump(c_to_name_dict, open( \"../data/cui_to_name.pkl\", \"wb\" ) )\n",
    "pickle.dump(e_to_cui, open( \"../data/entrez_to_cui.pkl\", \"wb\" ) )"
   ]
  },
  {
   "cell_type": "code",
   "execution_count": 62,
   "metadata": {},
   "outputs": [
    {
     "data": {
      "text/plain": [
       "'POMC gene'"
      ]
     },
     "execution_count": 62,
     "metadata": {},
     "output_type": "execute_result"
    }
   ],
   "source": [
    "# Check that the mapper produces the correct name when given the CUI for POMC gene\n",
    "c_to_name_dict[e_to_cui['5443']]"
   ]
  },
  {
   "cell_type": "markdown",
   "metadata": {},
   "source": [
    "### Apply the Changes"
   ]
  },
  {
   "cell_type": "code",
   "execution_count": 63,
   "metadata": {},
   "outputs": [
    {
     "data": {
      "text/html": [
       "<div>\n",
       "<style scoped>\n",
       "    .dataframe tbody tr th:only-of-type {\n",
       "        vertical-align: middle;\n",
       "    }\n",
       "\n",
       "    .dataframe tbody tr th {\n",
       "        vertical-align: top;\n",
       "    }\n",
       "\n",
       "    .dataframe thead th {\n",
       "        text-align: right;\n",
       "    }\n",
       "</style>\n",
       "<table border=\"1\" class=\"dataframe\">\n",
       "  <thead>\n",
       "    <tr style=\"text-align: right;\">\n",
       "      <th></th>\n",
       "      <th>PREDICATION_ID</th>\n",
       "      <th>SENTENCE_ID</th>\n",
       "      <th>PMID</th>\n",
       "      <th>PREDICATE</th>\n",
       "      <th>SUBJECT_CUI</th>\n",
       "      <th>SUBJECT_NAME</th>\n",
       "      <th>SUBJECT_SEMTYPE</th>\n",
       "      <th>SUBJECT_NOVELTY</th>\n",
       "      <th>OBJECT_CUI</th>\n",
       "      <th>OBJECT_NAME</th>\n",
       "      <th>OBJECT_SEMTYPE</th>\n",
       "      <th>OBJECT_NOVELTY</th>\n",
       "    </tr>\n",
       "  </thead>\n",
       "  <tbody>\n",
       "    <tr>\n",
       "      <th>2815</th>\n",
       "      <td>41841</td>\n",
       "      <td>95436</td>\n",
       "      <td>4892304</td>\n",
       "      <td>PART_OF</td>\n",
       "      <td>820</td>\n",
       "      <td>CAMP</td>\n",
       "      <td>gngm</td>\n",
       "      <td>1</td>\n",
       "      <td>C0949876</td>\n",
       "      <td>Nazis</td>\n",
       "      <td>humn</td>\n",
       "      <td>1</td>\n",
       "    </tr>\n",
       "    <tr>\n",
       "      <th>3344</th>\n",
       "      <td>42376</td>\n",
       "      <td>96958</td>\n",
       "      <td>20342456</td>\n",
       "      <td>LOCATION_OF</td>\n",
       "      <td>C0003062</td>\n",
       "      <td>Animals</td>\n",
       "      <td>anim</td>\n",
       "      <td>0</td>\n",
       "      <td>55578</td>\n",
       "      <td>SUPT20H</td>\n",
       "      <td>aapp</td>\n",
       "      <td>1</td>\n",
       "    </tr>\n",
       "    <tr>\n",
       "      <th>5126</th>\n",
       "      <td>44178</td>\n",
       "      <td>102317</td>\n",
       "      <td>13930654</td>\n",
       "      <td>PART_OF</td>\n",
       "      <td>C0036825</td>\n",
       "      <td>Serum Proteins</td>\n",
       "      <td>bacs</td>\n",
       "      <td>1</td>\n",
       "      <td>567</td>\n",
       "      <td>B2M</td>\n",
       "      <td>aapp</td>\n",
       "      <td>1</td>\n",
       "    </tr>\n",
       "    <tr>\n",
       "      <th>5205</th>\n",
       "      <td>44257</td>\n",
       "      <td>102517</td>\n",
       "      <td>13738792</td>\n",
       "      <td>LOCATION_OF</td>\n",
       "      <td>C0459385</td>\n",
       "      <td>Brain tissue</td>\n",
       "      <td>bpoc</td>\n",
       "      <td>1</td>\n",
       "      <td>23038</td>\n",
       "      <td>WDTC1</td>\n",
       "      <td>aapp</td>\n",
       "      <td>1</td>\n",
       "    </tr>\n",
       "    <tr>\n",
       "      <th>6278</th>\n",
       "      <td>45345</td>\n",
       "      <td>105754</td>\n",
       "      <td>13310143</td>\n",
       "      <td>PART_OF</td>\n",
       "      <td>115825</td>\n",
       "      <td>WDFY2</td>\n",
       "      <td>gngm</td>\n",
       "      <td>1</td>\n",
       "      <td>C0402112</td>\n",
       "      <td>Scientist</td>\n",
       "      <td>humn</td>\n",
       "      <td>1</td>\n",
       "    </tr>\n",
       "    <tr>\n",
       "      <th>6486</th>\n",
       "      <td>45556</td>\n",
       "      <td>106326</td>\n",
       "      <td>4872999</td>\n",
       "      <td>AFFECTS</td>\n",
       "      <td>1652</td>\n",
       "      <td>DDT</td>\n",
       "      <td>gngm</td>\n",
       "      <td>1</td>\n",
       "      <td>C0018270</td>\n",
       "      <td>Growth</td>\n",
       "      <td>orgf</td>\n",
       "      <td>1</td>\n",
       "    </tr>\n",
       "    <tr>\n",
       "      <th>7581</th>\n",
       "      <td>46657</td>\n",
       "      <td>109086</td>\n",
       "      <td>4221862</td>\n",
       "      <td>PART_OF</td>\n",
       "      <td>23038</td>\n",
       "      <td>WDTC1</td>\n",
       "      <td>gngm</td>\n",
       "      <td>1</td>\n",
       "      <td>C0034652</td>\n",
       "      <td>Rana esculenta</td>\n",
       "      <td>amph</td>\n",
       "      <td>1</td>\n",
       "    </tr>\n",
       "    <tr>\n",
       "      <th>7616</th>\n",
       "      <td>46692</td>\n",
       "      <td>109086</td>\n",
       "      <td>4221862</td>\n",
       "      <td>PART_OF</td>\n",
       "      <td>51761</td>\n",
       "      <td>ATP8A2</td>\n",
       "      <td>gngm</td>\n",
       "      <td>1</td>\n",
       "      <td>C0034652</td>\n",
       "      <td>Rana esculenta</td>\n",
       "      <td>amph</td>\n",
       "      <td>1</td>\n",
       "    </tr>\n",
       "    <tr>\n",
       "      <th>7660</th>\n",
       "      <td>46736</td>\n",
       "      <td>109086</td>\n",
       "      <td>4221862</td>\n",
       "      <td>PART_OF</td>\n",
       "      <td>51761</td>\n",
       "      <td>ATP8A2</td>\n",
       "      <td>gngm</td>\n",
       "      <td>1</td>\n",
       "      <td>C0260307</td>\n",
       "      <td>Triturus cristatus</td>\n",
       "      <td>amph</td>\n",
       "      <td>1</td>\n",
       "    </tr>\n",
       "    <tr>\n",
       "      <th>7700</th>\n",
       "      <td>46776</td>\n",
       "      <td>109086</td>\n",
       "      <td>4221862</td>\n",
       "      <td>PART_OF</td>\n",
       "      <td>23038</td>\n",
       "      <td>WDTC1</td>\n",
       "      <td>gngm</td>\n",
       "      <td>1</td>\n",
       "      <td>C0260307</td>\n",
       "      <td>Triturus cristatus</td>\n",
       "      <td>amph</td>\n",
       "      <td>1</td>\n",
       "    </tr>\n",
       "  </tbody>\n",
       "</table>\n",
       "</div>"
      ],
      "text/plain": [
       "      PREDICATION_ID  SENTENCE_ID      PMID    PREDICATE SUBJECT_CUI  \\\n",
       "2815           41841        95436   4892304      PART_OF         820   \n",
       "3344           42376        96958  20342456  LOCATION_OF    C0003062   \n",
       "5126           44178       102317  13930654      PART_OF    C0036825   \n",
       "5205           44257       102517  13738792  LOCATION_OF    C0459385   \n",
       "6278           45345       105754  13310143      PART_OF      115825   \n",
       "6486           45556       106326   4872999      AFFECTS        1652   \n",
       "7581           46657       109086   4221862      PART_OF       23038   \n",
       "7616           46692       109086   4221862      PART_OF       51761   \n",
       "7660           46736       109086   4221862      PART_OF       51761   \n",
       "7700           46776       109086   4221862      PART_OF       23038   \n",
       "\n",
       "        SUBJECT_NAME SUBJECT_SEMTYPE  SUBJECT_NOVELTY OBJECT_CUI  \\\n",
       "2815            CAMP            gngm                1   C0949876   \n",
       "3344         Animals            anim                0      55578   \n",
       "5126  Serum Proteins            bacs                1        567   \n",
       "5205    Brain tissue            bpoc                1      23038   \n",
       "6278           WDFY2            gngm                1   C0402112   \n",
       "6486             DDT            gngm                1   C0018270   \n",
       "7581           WDTC1            gngm                1   C0034652   \n",
       "7616          ATP8A2            gngm                1   C0034652   \n",
       "7660          ATP8A2            gngm                1   C0260307   \n",
       "7700           WDTC1            gngm                1   C0260307   \n",
       "\n",
       "             OBJECT_NAME OBJECT_SEMTYPE  OBJECT_NOVELTY  \n",
       "2815               Nazis           humn               1  \n",
       "3344             SUPT20H           aapp               1  \n",
       "5126                 B2M           aapp               1  \n",
       "5205               WDTC1           aapp               1  \n",
       "6278           Scientist           humn               1  \n",
       "6486              Growth           orgf               1  \n",
       "7581      Rana esculenta           amph               1  \n",
       "7616      Rana esculenta           amph               1  \n",
       "7660  Triturus cristatus           amph               1  \n",
       "7700  Triturus cristatus           amph               1  "
      ]
     },
     "execution_count": 63,
     "metadata": {},
     "output_type": "execute_result"
    }
   ],
   "source": [
    "genes_need_fixing = gene_lines | gene_lines1\n",
    "\n",
    "sem_df[genes_need_fixing].head(10)"
   ]
  },
  {
   "cell_type": "code",
   "execution_count": 64,
   "metadata": {
    "collapsed": true
   },
   "outputs": [],
   "source": [
    "sem_df.loc[genes_need_fixing, 'SUBJECT_CUI'] = sem_df.loc[genes_need_fixing, 'SUBJECT_CUI'].apply(lambda e: e_to_cui.get(e,e))\n",
    "sem_df.loc[genes_need_fixing, 'OBJECT_CUI'] = sem_df.loc[genes_need_fixing, 'OBJECT_CUI'].apply(lambda e: e_to_cui.get(e,e))"
   ]
  },
  {
   "cell_type": "code",
   "execution_count": 65,
   "metadata": {
    "collapsed": true
   },
   "outputs": [],
   "source": [
    "sem_df.loc[genes_need_fixing, 'SUBJECT_NAME'] = sem_df.loc[genes_need_fixing, 'SUBJECT_CUI'].apply(lambda e: c_to_name_dict.get(e,e))\n",
    "sem_df.loc[genes_need_fixing, 'OBJECT_NAME'] = sem_df.loc[genes_need_fixing, 'OBJECT_CUI'].apply(lambda e: c_to_name_dict.get(e,e))"
   ]
  },
  {
   "cell_type": "code",
   "execution_count": 66,
   "metadata": {},
   "outputs": [
    {
     "data": {
      "text/html": [
       "<div>\n",
       "<style scoped>\n",
       "    .dataframe tbody tr th:only-of-type {\n",
       "        vertical-align: middle;\n",
       "    }\n",
       "\n",
       "    .dataframe tbody tr th {\n",
       "        vertical-align: top;\n",
       "    }\n",
       "\n",
       "    .dataframe thead th {\n",
       "        text-align: right;\n",
       "    }\n",
       "</style>\n",
       "<table border=\"1\" class=\"dataframe\">\n",
       "  <thead>\n",
       "    <tr style=\"text-align: right;\">\n",
       "      <th></th>\n",
       "      <th>PREDICATION_ID</th>\n",
       "      <th>SENTENCE_ID</th>\n",
       "      <th>PMID</th>\n",
       "      <th>PREDICATE</th>\n",
       "      <th>SUBJECT_CUI</th>\n",
       "      <th>SUBJECT_NAME</th>\n",
       "      <th>SUBJECT_SEMTYPE</th>\n",
       "      <th>SUBJECT_NOVELTY</th>\n",
       "      <th>OBJECT_CUI</th>\n",
       "      <th>OBJECT_NAME</th>\n",
       "      <th>OBJECT_SEMTYPE</th>\n",
       "      <th>OBJECT_NOVELTY</th>\n",
       "    </tr>\n",
       "  </thead>\n",
       "  <tbody>\n",
       "    <tr>\n",
       "      <th>2815</th>\n",
       "      <td>41841</td>\n",
       "      <td>95436</td>\n",
       "      <td>4892304</td>\n",
       "      <td>PART_OF</td>\n",
       "      <td>C1413106</td>\n",
       "      <td>CAMP gene</td>\n",
       "      <td>gngm</td>\n",
       "      <td>1</td>\n",
       "      <td>C0949876</td>\n",
       "      <td>Nazis</td>\n",
       "      <td>humn</td>\n",
       "      <td>1</td>\n",
       "    </tr>\n",
       "    <tr>\n",
       "      <th>3344</th>\n",
       "      <td>42376</td>\n",
       "      <td>96958</td>\n",
       "      <td>20342456</td>\n",
       "      <td>LOCATION_OF</td>\n",
       "      <td>C0003062</td>\n",
       "      <td>Animals</td>\n",
       "      <td>anim</td>\n",
       "      <td>0</td>\n",
       "      <td>C1539449</td>\n",
       "      <td>C13ORF19</td>\n",
       "      <td>aapp</td>\n",
       "      <td>1</td>\n",
       "    </tr>\n",
       "    <tr>\n",
       "      <th>5126</th>\n",
       "      <td>44178</td>\n",
       "      <td>102317</td>\n",
       "      <td>13930654</td>\n",
       "      <td>PART_OF</td>\n",
       "      <td>C0036825</td>\n",
       "      <td>Serum Proteins</td>\n",
       "      <td>bacs</td>\n",
       "      <td>1</td>\n",
       "      <td>C1412709</td>\n",
       "      <td>B2M gene</td>\n",
       "      <td>aapp</td>\n",
       "      <td>1</td>\n",
       "    </tr>\n",
       "    <tr>\n",
       "      <th>5205</th>\n",
       "      <td>44257</td>\n",
       "      <td>102517</td>\n",
       "      <td>13738792</td>\n",
       "      <td>LOCATION_OF</td>\n",
       "      <td>C0459385</td>\n",
       "      <td>Brain tissue</td>\n",
       "      <td>bpoc</td>\n",
       "      <td>1</td>\n",
       "      <td>C1428806</td>\n",
       "      <td>DCAF9</td>\n",
       "      <td>aapp</td>\n",
       "      <td>1</td>\n",
       "    </tr>\n",
       "    <tr>\n",
       "      <th>6278</th>\n",
       "      <td>45345</td>\n",
       "      <td>105754</td>\n",
       "      <td>13310143</td>\n",
       "      <td>PART_OF</td>\n",
       "      <td>C1426966</td>\n",
       "      <td>WD REPEAT- AND FYVE DOMAIN-CONTAINING PROTEIN 2</td>\n",
       "      <td>gngm</td>\n",
       "      <td>1</td>\n",
       "      <td>C0402112</td>\n",
       "      <td>Scientist</td>\n",
       "      <td>humn</td>\n",
       "      <td>1</td>\n",
       "    </tr>\n",
       "    <tr>\n",
       "      <th>6486</th>\n",
       "      <td>45556</td>\n",
       "      <td>106326</td>\n",
       "      <td>4872999</td>\n",
       "      <td>AFFECTS</td>\n",
       "      <td>C1413950</td>\n",
       "      <td>DDT gene</td>\n",
       "      <td>gngm</td>\n",
       "      <td>1</td>\n",
       "      <td>C0018270</td>\n",
       "      <td>Growth</td>\n",
       "      <td>orgf</td>\n",
       "      <td>1</td>\n",
       "    </tr>\n",
       "    <tr>\n",
       "      <th>7581</th>\n",
       "      <td>46657</td>\n",
       "      <td>109086</td>\n",
       "      <td>4221862</td>\n",
       "      <td>PART_OF</td>\n",
       "      <td>C1428806</td>\n",
       "      <td>DCAF9</td>\n",
       "      <td>gngm</td>\n",
       "      <td>1</td>\n",
       "      <td>C0034652</td>\n",
       "      <td>Rana esculenta</td>\n",
       "      <td>amph</td>\n",
       "      <td>1</td>\n",
       "    </tr>\n",
       "    <tr>\n",
       "      <th>7616</th>\n",
       "      <td>46692</td>\n",
       "      <td>109086</td>\n",
       "      <td>4221862</td>\n",
       "      <td>PART_OF</td>\n",
       "      <td>C1366628</td>\n",
       "      <td>ATP8A2 gene</td>\n",
       "      <td>gngm</td>\n",
       "      <td>1</td>\n",
       "      <td>C0034652</td>\n",
       "      <td>Rana esculenta</td>\n",
       "      <td>amph</td>\n",
       "      <td>1</td>\n",
       "    </tr>\n",
       "    <tr>\n",
       "      <th>7660</th>\n",
       "      <td>46736</td>\n",
       "      <td>109086</td>\n",
       "      <td>4221862</td>\n",
       "      <td>PART_OF</td>\n",
       "      <td>C1366628</td>\n",
       "      <td>ATP8A2 gene</td>\n",
       "      <td>gngm</td>\n",
       "      <td>1</td>\n",
       "      <td>C0260307</td>\n",
       "      <td>Triturus cristatus</td>\n",
       "      <td>amph</td>\n",
       "      <td>1</td>\n",
       "    </tr>\n",
       "    <tr>\n",
       "      <th>7700</th>\n",
       "      <td>46776</td>\n",
       "      <td>109086</td>\n",
       "      <td>4221862</td>\n",
       "      <td>PART_OF</td>\n",
       "      <td>C1428806</td>\n",
       "      <td>DCAF9</td>\n",
       "      <td>gngm</td>\n",
       "      <td>1</td>\n",
       "      <td>C0260307</td>\n",
       "      <td>Triturus cristatus</td>\n",
       "      <td>amph</td>\n",
       "      <td>1</td>\n",
       "    </tr>\n",
       "  </tbody>\n",
       "</table>\n",
       "</div>"
      ],
      "text/plain": [
       "      PREDICATION_ID  SENTENCE_ID      PMID    PREDICATE SUBJECT_CUI  \\\n",
       "2815           41841        95436   4892304      PART_OF    C1413106   \n",
       "3344           42376        96958  20342456  LOCATION_OF    C0003062   \n",
       "5126           44178       102317  13930654      PART_OF    C0036825   \n",
       "5205           44257       102517  13738792  LOCATION_OF    C0459385   \n",
       "6278           45345       105754  13310143      PART_OF    C1426966   \n",
       "6486           45556       106326   4872999      AFFECTS    C1413950   \n",
       "7581           46657       109086   4221862      PART_OF    C1428806   \n",
       "7616           46692       109086   4221862      PART_OF    C1366628   \n",
       "7660           46736       109086   4221862      PART_OF    C1366628   \n",
       "7700           46776       109086   4221862      PART_OF    C1428806   \n",
       "\n",
       "                                         SUBJECT_NAME SUBJECT_SEMTYPE  \\\n",
       "2815                                        CAMP gene            gngm   \n",
       "3344                                          Animals            anim   \n",
       "5126                                   Serum Proteins            bacs   \n",
       "5205                                     Brain tissue            bpoc   \n",
       "6278  WD REPEAT- AND FYVE DOMAIN-CONTAINING PROTEIN 2            gngm   \n",
       "6486                                         DDT gene            gngm   \n",
       "7581                                            DCAF9            gngm   \n",
       "7616                                      ATP8A2 gene            gngm   \n",
       "7660                                      ATP8A2 gene            gngm   \n",
       "7700                                            DCAF9            gngm   \n",
       "\n",
       "      SUBJECT_NOVELTY OBJECT_CUI         OBJECT_NAME OBJECT_SEMTYPE  \\\n",
       "2815                1   C0949876               Nazis           humn   \n",
       "3344                0   C1539449            C13ORF19           aapp   \n",
       "5126                1   C1412709            B2M gene           aapp   \n",
       "5205                1   C1428806               DCAF9           aapp   \n",
       "6278                1   C0402112           Scientist           humn   \n",
       "6486                1   C0018270              Growth           orgf   \n",
       "7581                1   C0034652      Rana esculenta           amph   \n",
       "7616                1   C0034652      Rana esculenta           amph   \n",
       "7660                1   C0260307  Triturus cristatus           amph   \n",
       "7700                1   C0260307  Triturus cristatus           amph   \n",
       "\n",
       "      OBJECT_NOVELTY  \n",
       "2815               1  \n",
       "3344               1  \n",
       "5126               1  \n",
       "5205               1  \n",
       "6278               1  \n",
       "6486               1  \n",
       "7581               1  \n",
       "7616               1  \n",
       "7660               1  \n",
       "7700               1  "
      ]
     },
     "execution_count": 66,
     "metadata": {},
     "output_type": "execute_result"
    }
   ],
   "source": [
    "sem_df[genes_need_fixing].head(10)"
   ]
  },
  {
   "cell_type": "markdown",
   "metadata": {
    "collapsed": true
   },
   "source": [
    "### The lines that got no Query Result\n",
    "\n",
    "Some of the ID produced no query result.  They should still have a SUBJECT_CUI with only a number. We'll examine those and see if they produce any insight."
   ]
  },
  {
   "cell_type": "code",
   "execution_count": 67,
   "metadata": {
    "scrolled": true
   },
   "outputs": [
    {
     "data": {
      "text/html": [
       "<div>\n",
       "<style scoped>\n",
       "    .dataframe tbody tr th:only-of-type {\n",
       "        vertical-align: middle;\n",
       "    }\n",
       "\n",
       "    .dataframe tbody tr th {\n",
       "        vertical-align: top;\n",
       "    }\n",
       "\n",
       "    .dataframe thead th {\n",
       "        text-align: right;\n",
       "    }\n",
       "</style>\n",
       "<table border=\"1\" class=\"dataframe\">\n",
       "  <thead>\n",
       "    <tr style=\"text-align: right;\">\n",
       "      <th></th>\n",
       "      <th>PREDICATION_ID</th>\n",
       "      <th>SENTENCE_ID</th>\n",
       "      <th>PMID</th>\n",
       "      <th>PREDICATE</th>\n",
       "      <th>SUBJECT_CUI</th>\n",
       "      <th>SUBJECT_NAME</th>\n",
       "      <th>SUBJECT_SEMTYPE</th>\n",
       "      <th>SUBJECT_NOVELTY</th>\n",
       "      <th>OBJECT_CUI</th>\n",
       "      <th>OBJECT_NAME</th>\n",
       "      <th>OBJECT_SEMTYPE</th>\n",
       "      <th>OBJECT_NOVELTY</th>\n",
       "    </tr>\n",
       "  </thead>\n",
       "  <tbody>\n",
       "    <tr>\n",
       "      <th>54563</th>\n",
       "      <td>94072</td>\n",
       "      <td>236814</td>\n",
       "      <td>5699417</td>\n",
       "      <td>AFFECTS</td>\n",
       "      <td>8066</td>\n",
       "      <td>8066</td>\n",
       "      <td>gngm</td>\n",
       "      <td>1</td>\n",
       "      <td>C0234222</td>\n",
       "      <td>Baresthesia</td>\n",
       "      <td>ortf</td>\n",
       "      <td>1</td>\n",
       "    </tr>\n",
       "    <tr>\n",
       "      <th>78984</th>\n",
       "      <td>118725</td>\n",
       "      <td>305854</td>\n",
       "      <td>13032397</td>\n",
       "      <td>USES</td>\n",
       "      <td>C0033573</td>\n",
       "      <td>Prostatectomy</td>\n",
       "      <td>topp</td>\n",
       "      <td>1</td>\n",
       "      <td>100188776</td>\n",
       "      <td>100188776</td>\n",
       "      <td>aapp</td>\n",
       "      <td>1</td>\n",
       "    </tr>\n",
       "    <tr>\n",
       "      <th>144137</th>\n",
       "      <td>184485</td>\n",
       "      <td>486340</td>\n",
       "      <td>13388624</td>\n",
       "      <td>PART_OF</td>\n",
       "      <td>C0870883</td>\n",
       "      <td>Metabolites</td>\n",
       "      <td>bacs</td>\n",
       "      <td>0</td>\n",
       "      <td>619511</td>\n",
       "      <td>619511</td>\n",
       "      <td>aapp</td>\n",
       "      <td>1</td>\n",
       "    </tr>\n",
       "    <tr>\n",
       "      <th>146503</th>\n",
       "      <td>186864</td>\n",
       "      <td>493343</td>\n",
       "      <td>4961715</td>\n",
       "      <td>PART_OF</td>\n",
       "      <td>57306</td>\n",
       "      <td>57306</td>\n",
       "      <td>gngm</td>\n",
       "      <td>1</td>\n",
       "      <td>C0162547</td>\n",
       "      <td>Pseudomonas Phages</td>\n",
       "      <td>virs</td>\n",
       "      <td>1</td>\n",
       "    </tr>\n",
       "    <tr>\n",
       "      <th>286382</th>\n",
       "      <td>327941</td>\n",
       "      <td>894450</td>\n",
       "      <td>5637040</td>\n",
       "      <td>DISRUPTS</td>\n",
       "      <td>100188784</td>\n",
       "      <td>100188784</td>\n",
       "      <td>gngm</td>\n",
       "      <td>1</td>\n",
       "      <td>C1328948</td>\n",
       "      <td>RNA Synthesis</td>\n",
       "      <td>moft</td>\n",
       "      <td>1</td>\n",
       "    </tr>\n",
       "    <tr>\n",
       "      <th>288201</th>\n",
       "      <td>329778</td>\n",
       "      <td>899989</td>\n",
       "      <td>5217476</td>\n",
       "      <td>PART_OF</td>\n",
       "      <td>C0035668</td>\n",
       "      <td>RNA</td>\n",
       "      <td>bacs</td>\n",
       "      <td>0</td>\n",
       "      <td>100271694</td>\n",
       "      <td>100271694</td>\n",
       "      <td>aapp</td>\n",
       "      <td>1</td>\n",
       "    </tr>\n",
       "    <tr>\n",
       "      <th>315546</th>\n",
       "      <td>357320</td>\n",
       "      <td>980127</td>\n",
       "      <td>5723528</td>\n",
       "      <td>PART_OF</td>\n",
       "      <td>474256</td>\n",
       "      <td>474256</td>\n",
       "      <td>gngm</td>\n",
       "      <td>1</td>\n",
       "      <td>C0004651</td>\n",
       "      <td>Bacteriophages</td>\n",
       "      <td>virs</td>\n",
       "      <td>1</td>\n",
       "    </tr>\n",
       "    <tr>\n",
       "      <th>327550</th>\n",
       "      <td>369417</td>\n",
       "      <td>1015074</td>\n",
       "      <td>14192648</td>\n",
       "      <td>PART_OF</td>\n",
       "      <td>C0035668</td>\n",
       "      <td>RNA</td>\n",
       "      <td>bacs</td>\n",
       "      <td>0</td>\n",
       "      <td>100271694</td>\n",
       "      <td>100271694</td>\n",
       "      <td>aapp</td>\n",
       "      <td>1</td>\n",
       "    </tr>\n",
       "    <tr>\n",
       "      <th>406805</th>\n",
       "      <td>449380</td>\n",
       "      <td>1248536</td>\n",
       "      <td>5638139</td>\n",
       "      <td>PART_OF</td>\n",
       "      <td>544326</td>\n",
       "      <td>544326</td>\n",
       "      <td>gngm</td>\n",
       "      <td>1</td>\n",
       "      <td>C0007125</td>\n",
       "      <td>Carcinoma, Ehrlich Tumor</td>\n",
       "      <td>neop</td>\n",
       "      <td>1</td>\n",
       "    </tr>\n",
       "    <tr>\n",
       "      <th>421409</th>\n",
       "      <td>464105</td>\n",
       "      <td>1291919</td>\n",
       "      <td>14114111</td>\n",
       "      <td>ASSOCIATED_WITH</td>\n",
       "      <td>100188864</td>\n",
       "      <td>100188864</td>\n",
       "      <td>gngm</td>\n",
       "      <td>1</td>\n",
       "      <td>C0027708</td>\n",
       "      <td>Nephroblastoma</td>\n",
       "      <td>neop</td>\n",
       "      <td>1</td>\n",
       "    </tr>\n",
       "  </tbody>\n",
       "</table>\n",
       "</div>"
      ],
      "text/plain": [
       "        PREDICATION_ID  SENTENCE_ID      PMID        PREDICATE SUBJECT_CUI  \\\n",
       "54563            94072       236814   5699417          AFFECTS        8066   \n",
       "78984           118725       305854  13032397             USES    C0033573   \n",
       "144137          184485       486340  13388624          PART_OF    C0870883   \n",
       "146503          186864       493343   4961715          PART_OF       57306   \n",
       "286382          327941       894450   5637040         DISRUPTS   100188784   \n",
       "288201          329778       899989   5217476          PART_OF    C0035668   \n",
       "315546          357320       980127   5723528          PART_OF      474256   \n",
       "327550          369417      1015074  14192648          PART_OF    C0035668   \n",
       "406805          449380      1248536   5638139          PART_OF      544326   \n",
       "421409          464105      1291919  14114111  ASSOCIATED_WITH   100188864   \n",
       "\n",
       "         SUBJECT_NAME SUBJECT_SEMTYPE  SUBJECT_NOVELTY OBJECT_CUI  \\\n",
       "54563            8066            gngm                1   C0234222   \n",
       "78984   Prostatectomy            topp                1  100188776   \n",
       "144137    Metabolites            bacs                0     619511   \n",
       "146503          57306            gngm                1   C0162547   \n",
       "286382      100188784            gngm                1   C1328948   \n",
       "288201            RNA            bacs                0  100271694   \n",
       "315546         474256            gngm                1   C0004651   \n",
       "327550            RNA            bacs                0  100271694   \n",
       "406805         544326            gngm                1   C0007125   \n",
       "421409      100188864            gngm                1   C0027708   \n",
       "\n",
       "                     OBJECT_NAME OBJECT_SEMTYPE  OBJECT_NOVELTY  \n",
       "54563                Baresthesia           ortf               1  \n",
       "78984                  100188776           aapp               1  \n",
       "144137                    619511           aapp               1  \n",
       "146503        Pseudomonas Phages           virs               1  \n",
       "286382             RNA Synthesis           moft               1  \n",
       "288201                 100271694           aapp               1  \n",
       "315546            Bacteriophages           virs               1  \n",
       "327550                 100271694           aapp               1  \n",
       "406805  Carcinoma, Ehrlich Tumor           neop               1  \n",
       "421409            Nephroblastoma           neop               1  "
      ]
     },
     "execution_count": 67,
     "metadata": {},
     "output_type": "execute_result"
    }
   ],
   "source": [
    "gene_lines2 = ~sem_df['SUBJECT_CUI'].str.startswith('C')\n",
    "gene_lines3 = ~sem_df['OBJECT_CUI'].str.startswith('C')\n",
    "\n",
    "genes_need_fixing1 = gene_lines2 | gene_lines3\n",
    "\n",
    "sem_df[genes_need_fixing1].head(10)"
   ]
  },
  {
   "cell_type": "code",
   "execution_count": 68,
   "metadata": {},
   "outputs": [
    {
     "data": {
      "text/plain": [
       "96693"
      ]
     },
     "execution_count": 68,
     "metadata": {},
     "output_type": "execute_result"
    }
   ],
   "source": [
    "len(sem_df[genes_need_fixing1])"
   ]
  },
  {
   "cell_type": "markdown",
   "metadata": {},
   "source": [
    "For now we will save these to their own file and remove them from the 'cleaned' data."
   ]
  },
  {
   "cell_type": "code",
   "execution_count": 69,
   "metadata": {
    "collapsed": true
   },
   "outputs": [],
   "source": [
    "sem_df[genes_need_fixing1].to_csv('../data/semmedVER31_R_no_CUI.csv', index=False)"
   ]
  },
  {
   "cell_type": "code",
   "execution_count": 70,
   "metadata": {
    "collapsed": true
   },
   "outputs": [],
   "source": [
    "sem_df = sem_df.drop(sem_df[genes_need_fixing1].index)\n",
    "sem_df.to_csv('../data/semmedVER31_R_clean.csv', index=False)"
   ]
  },
  {
   "cell_type": "markdown",
   "metadata": {},
   "source": [
    "## Remove Depricated CUIs\n",
    "\n",
    "Some CUIs in the database are depreicated.  They may have newer versions to which they have not yet been mapped.  However, UMLS has record of these deprecated values that can be used to map "
   ]
  },
  {
   "cell_type": "code",
   "execution_count": 71,
   "metadata": {},
   "outputs": [
    {
     "name": "stderr",
     "output_type": "stream",
     "text": [
      "/opt/mmayers/software/anaconda3/envs/integrate/lib/python3.5/site-packages/IPython/core/interactiveshell.py:2862: DtypeWarning: Columns (4) have mixed types. Specify dtype option on import or set low_memory=False.\n",
      "  exec(code_obj, self.user_global_ns, self.user_ns)\n"
     ]
    },
    {
     "data": {
      "text/html": [
       "<div>\n",
       "<style scoped>\n",
       "    .dataframe tbody tr th:only-of-type {\n",
       "        vertical-align: middle;\n",
       "    }\n",
       "\n",
       "    .dataframe tbody tr th {\n",
       "        vertical-align: top;\n",
       "    }\n",
       "\n",
       "    .dataframe thead th {\n",
       "        text-align: right;\n",
       "    }\n",
       "</style>\n",
       "<table border=\"1\" class=\"dataframe\">\n",
       "  <thead>\n",
       "    <tr style=\"text-align: right;\">\n",
       "      <th></th>\n",
       "      <th>CUI1</th>\n",
       "      <th>VER</th>\n",
       "      <th>REL</th>\n",
       "      <th>RELA</th>\n",
       "      <th>MAPREASON</th>\n",
       "      <th>CUI2</th>\n",
       "      <th>MAPIN</th>\n",
       "    </tr>\n",
       "  </thead>\n",
       "  <tbody>\n",
       "    <tr>\n",
       "      <th>0</th>\n",
       "      <td>C0000002</td>\n",
       "      <td>2000AC</td>\n",
       "      <td>SY</td>\n",
       "      <td>NaN</td>\n",
       "      <td>NaN</td>\n",
       "      <td>C0007404</td>\n",
       "      <td>Y</td>\n",
       "    </tr>\n",
       "    <tr>\n",
       "      <th>1</th>\n",
       "      <td>C0000003</td>\n",
       "      <td>1999AA</td>\n",
       "      <td>SY</td>\n",
       "      <td>NaN</td>\n",
       "      <td>NaN</td>\n",
       "      <td>C0010504</td>\n",
       "      <td>Y</td>\n",
       "    </tr>\n",
       "  </tbody>\n",
       "</table>\n",
       "</div>"
      ],
      "text/plain": [
       "       CUI1     VER REL  RELA MAPREASON      CUI2 MAPIN\n",
       "0  C0000002  2000AC  SY   NaN       NaN  C0007404     Y\n",
       "1  C0000003  1999AA  SY   NaN       NaN  C0010504     Y"
      ]
     },
     "execution_count": 71,
     "metadata": {},
     "output_type": "execute_result"
    }
   ],
   "source": [
    "# Get the map from old CUIs to new CUIs\n",
    "retired_cui = load_umls.open_mrcui()\n",
    "retired_cui.head(2)"
   ]
  },
  {
   "cell_type": "code",
   "execution_count": 72,
   "metadata": {},
   "outputs": [
    {
     "name": "stdout",
     "output_type": "stream",
     "text": [
      "94 concepts identifiers could not be mapped to a name\n"
     ]
    }
   ],
   "source": [
    "# Make a mapper from the old to the new\n",
    "cui_map = retired_cui.set_index('CUI1')['CUI2'].to_dict()\n",
    "\n",
    "# Ensure we have names for all the new values\n",
    "no_name = set(cui_map.values()) - set(c_to_name_dict.keys())\n",
    "if len(no_name) > 0:\n",
    "    query_result = conso.query('CUI in @no_name and ISPREF == \"Y\"').set_index('CUI')['STR'].to_dict()\n",
    "    c_to_name_dict.update(query_result)\n",
    "    pickle.dump(c_to_name_dict, open( \"../data/cui_to_name.pkl\", \"wb\" ) )\n",
    "print('{} concepts identifiers could not be mapped to a name'.format(len(no_name) - len(query_result)))"
   ]
  },
  {
   "cell_type": "code",
   "execution_count": 73,
   "metadata": {},
   "outputs": [
    {
     "data": {
      "text/plain": [
       "'21,626,024 Unique S-P-O triples before de-deprecation'"
      ]
     },
     "execution_count": 73,
     "metadata": {},
     "output_type": "execute_result"
    }
   ],
   "source": [
    "# How many unique s-p-o triples before de-depreication?\n",
    "'{:,} Unique S-P-O triples before de-deprecation'.format(len(sem_df.drop_duplicates(subset=['SUBJECT_CUI', 'PREDICATE', 'OBJECT_CUI'])))"
   ]
  },
  {
   "cell_type": "code",
   "execution_count": 74,
   "metadata": {},
   "outputs": [
    {
     "data": {
      "text/plain": [
       "'21,416,739 Unique S-P-O triples after de-deprecation'"
      ]
     },
     "execution_count": 74,
     "metadata": {},
     "output_type": "execute_result"
    }
   ],
   "source": [
    "# Map the depricated values to their new CUIs\n",
    "sem_df['SUBJECT_CUI'] = sem_df['SUBJECT_CUI'].apply(lambda c: cui_map.get(c, c))\n",
    "sem_df['OBJECT_CUI'] = sem_df['OBJECT_CUI'].apply(lambda c: cui_map.get(c, c))\n",
    "\n",
    "# Any removed CUIs should be taken out\n",
    "sem_df = sem_df.dropna(subset=['SUBJECT_CUI', 'OBJECT_CUI'])\n",
    "\n",
    "# Ensure the names are now corrected\n",
    "sem_df['SUBJECT_NAME'] = sem_df['SUBJECT_CUI'].apply(lambda c: c_to_name_dict.get(c, c))\n",
    "sem_df['OBJECT_NAME'] = sem_df['OBJECT_CUI'].apply(lambda c: c_to_name_dict.get(c, c))\n",
    "\n",
    "# How many unique spo triples after the corrections?\n",
    "'{:,} Unique S-P-O triples after de-deprecation'.format(len(sem_df.drop_duplicates(subset=['SUBJECT_CUI', 'PREDICATE', 'OBJECT_CUI'])))"
   ]
  },
  {
   "cell_type": "code",
   "execution_count": 75,
   "metadata": {
    "collapsed": true
   },
   "outputs": [],
   "source": [
    "sem_df.to_csv('../data/semmedVER31_R_clean_de-depricate.csv', index=False)"
   ]
  }
 ],
 "metadata": {
  "kernelspec": {
   "display_name": "Python 3",
   "language": "python",
   "name": "python3"
  },
  "language_info": {
   "codemirror_mode": {
    "name": "ipython",
    "version": 3
   },
   "file_extension": ".py",
   "mimetype": "text/x-python",
   "name": "python",
   "nbconvert_exporter": "python",
   "pygments_lexer": "ipython3",
   "version": "3.5.3"
  }
 },
 "nbformat": 4,
 "nbformat_minor": 1
}
