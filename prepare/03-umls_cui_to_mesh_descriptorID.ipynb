{
 "cells": [
  {
   "cell_type": "code",
   "execution_count": 1,
   "metadata": {
    "collapsed": true
   },
   "outputs": [],
   "source": [
    "import pickle\n",
    "import pandas as pd"
   ]
  },
  {
   "cell_type": "code",
   "execution_count": 2,
   "metadata": {
    "collapsed": true
   },
   "outputs": [],
   "source": [
    "col_names = ['CUI', 'LAT', 'TS', 'LUI', 'STT', 'SUI', 'ISPREF', 'AUI', 'SAUI',\n",
    "             'SCUI', 'SDUI', 'SAB', 'TTY', 'CODE', 'STR', 'SRL', 'SUPPRESS', 'CVF']"
   ]
  },
  {
   "cell_type": "code",
   "execution_count": 3,
   "metadata": {},
   "outputs": [
    {
     "name": "stderr",
     "output_type": "stream",
     "text": [
      "/opt/mmayers/software/anaconda3/envs/integrate/lib/python3.5/site-packages/IPython/core/interactiveshell.py:2698: DtypeWarning: Columns (9,10,13) have mixed types. Specify dtype option on import or set low_memory=False.\n",
      "  interactivity=interactivity, compiler=compiler, result=result)\n"
     ]
    }
   ],
   "source": [
    "df = pd.read_csv('../2017AA-full/2017AA/META/MRCONSO.RRF', header=None, sep='|')"
   ]
  },
  {
   "cell_type": "code",
   "execution_count": 4,
   "metadata": {},
   "outputs": [
    {
     "name": "stdout",
     "output_type": "stream",
     "text": [
      "13518565\n",
      "0\n"
     ]
    }
   ],
   "source": [
    "print(len(df))\n",
    "print(df[18].count())"
   ]
  },
  {
   "cell_type": "code",
   "execution_count": 5,
   "metadata": {
    "collapsed": true
   },
   "outputs": [],
   "source": [
    "# Fix the fact that rows end with a pipe, producing an extra entirely empty column\n",
    "df = df.iloc[:, :-1]"
   ]
  },
  {
   "cell_type": "code",
   "execution_count": 6,
   "metadata": {
    "collapsed": true
   },
   "outputs": [],
   "source": [
    "df.columns = col_names"
   ]
  },
  {
   "cell_type": "code",
   "execution_count": 7,
   "metadata": {},
   "outputs": [
    {
     "data": {
      "text/html": [
       "<div>\n",
       "<style scoped>\n",
       "    .dataframe tbody tr th:only-of-type {\n",
       "        vertical-align: middle;\n",
       "    }\n",
       "\n",
       "    .dataframe tbody tr th {\n",
       "        vertical-align: top;\n",
       "    }\n",
       "\n",
       "    .dataframe thead th {\n",
       "        text-align: right;\n",
       "    }\n",
       "</style>\n",
       "<table border=\"1\" class=\"dataframe\">\n",
       "  <thead>\n",
       "    <tr style=\"text-align: right;\">\n",
       "      <th></th>\n",
       "      <th>CUI</th>\n",
       "      <th>LAT</th>\n",
       "      <th>TS</th>\n",
       "      <th>LUI</th>\n",
       "      <th>STT</th>\n",
       "      <th>SUI</th>\n",
       "      <th>ISPREF</th>\n",
       "      <th>AUI</th>\n",
       "      <th>SAUI</th>\n",
       "      <th>SCUI</th>\n",
       "      <th>SDUI</th>\n",
       "      <th>SAB</th>\n",
       "      <th>TTY</th>\n",
       "      <th>CODE</th>\n",
       "      <th>STR</th>\n",
       "      <th>SRL</th>\n",
       "      <th>SUPPRESS</th>\n",
       "      <th>CVF</th>\n",
       "    </tr>\n",
       "  </thead>\n",
       "  <tbody>\n",
       "    <tr>\n",
       "      <th>0</th>\n",
       "      <td>C0000005</td>\n",
       "      <td>ENG</td>\n",
       "      <td>P</td>\n",
       "      <td>L0000005</td>\n",
       "      <td>PF</td>\n",
       "      <td>S0007492</td>\n",
       "      <td>Y</td>\n",
       "      <td>A26634265</td>\n",
       "      <td>NaN</td>\n",
       "      <td>M0019694</td>\n",
       "      <td>D012711</td>\n",
       "      <td>MSH</td>\n",
       "      <td>PEP</td>\n",
       "      <td>D012711</td>\n",
       "      <td>(131)I-Macroaggregated Albumin</td>\n",
       "      <td>0</td>\n",
       "      <td>N</td>\n",
       "      <td>256.0</td>\n",
       "    </tr>\n",
       "    <tr>\n",
       "      <th>1</th>\n",
       "      <td>C0000005</td>\n",
       "      <td>ENG</td>\n",
       "      <td>S</td>\n",
       "      <td>L0270109</td>\n",
       "      <td>PF</td>\n",
       "      <td>S0007491</td>\n",
       "      <td>Y</td>\n",
       "      <td>A26634266</td>\n",
       "      <td>NaN</td>\n",
       "      <td>M0019694</td>\n",
       "      <td>D012711</td>\n",
       "      <td>MSH</td>\n",
       "      <td>ET</td>\n",
       "      <td>D012711</td>\n",
       "      <td>(131)I-MAA</td>\n",
       "      <td>0</td>\n",
       "      <td>N</td>\n",
       "      <td>256.0</td>\n",
       "    </tr>\n",
       "    <tr>\n",
       "      <th>2</th>\n",
       "      <td>C0000005</td>\n",
       "      <td>FRE</td>\n",
       "      <td>P</td>\n",
       "      <td>L6220710</td>\n",
       "      <td>PF</td>\n",
       "      <td>S7133957</td>\n",
       "      <td>Y</td>\n",
       "      <td>A13433185</td>\n",
       "      <td>NaN</td>\n",
       "      <td>M0019694</td>\n",
       "      <td>D012711</td>\n",
       "      <td>MSHFRE</td>\n",
       "      <td>PEP</td>\n",
       "      <td>D012711</td>\n",
       "      <td>Macroagrégats d'albumine marquée à l'iode 131</td>\n",
       "      <td>3</td>\n",
       "      <td>N</td>\n",
       "      <td>NaN</td>\n",
       "    </tr>\n",
       "    <tr>\n",
       "      <th>3</th>\n",
       "      <td>C0000005</td>\n",
       "      <td>FRE</td>\n",
       "      <td>S</td>\n",
       "      <td>L6215648</td>\n",
       "      <td>PF</td>\n",
       "      <td>S7133916</td>\n",
       "      <td>Y</td>\n",
       "      <td>A27488794</td>\n",
       "      <td>NaN</td>\n",
       "      <td>M0019694</td>\n",
       "      <td>D012711</td>\n",
       "      <td>MSHFRE</td>\n",
       "      <td>ET</td>\n",
       "      <td>D012711</td>\n",
       "      <td>MAA-I 131</td>\n",
       "      <td>3</td>\n",
       "      <td>N</td>\n",
       "      <td>NaN</td>\n",
       "    </tr>\n",
       "    <tr>\n",
       "      <th>4</th>\n",
       "      <td>C0000005</td>\n",
       "      <td>FRE</td>\n",
       "      <td>S</td>\n",
       "      <td>L6215656</td>\n",
       "      <td>PF</td>\n",
       "      <td>S7133956</td>\n",
       "      <td>Y</td>\n",
       "      <td>A27614225</td>\n",
       "      <td>NaN</td>\n",
       "      <td>M0019694</td>\n",
       "      <td>D012711</td>\n",
       "      <td>MSHFRE</td>\n",
       "      <td>ET</td>\n",
       "      <td>D012711</td>\n",
       "      <td>Macroagrégats d'albumine humaine marquée à l'i...</td>\n",
       "      <td>3</td>\n",
       "      <td>N</td>\n",
       "      <td>NaN</td>\n",
       "    </tr>\n",
       "  </tbody>\n",
       "</table>\n",
       "</div>"
      ],
      "text/plain": [
       "        CUI  LAT TS       LUI STT       SUI ISPREF        AUI  SAUI      SCUI  \\\n",
       "0  C0000005  ENG  P  L0000005  PF  S0007492      Y  A26634265   NaN  M0019694   \n",
       "1  C0000005  ENG  S  L0270109  PF  S0007491      Y  A26634266   NaN  M0019694   \n",
       "2  C0000005  FRE  P  L6220710  PF  S7133957      Y  A13433185   NaN  M0019694   \n",
       "3  C0000005  FRE  S  L6215648  PF  S7133916      Y  A27488794   NaN  M0019694   \n",
       "4  C0000005  FRE  S  L6215656  PF  S7133956      Y  A27614225   NaN  M0019694   \n",
       "\n",
       "      SDUI     SAB  TTY     CODE  \\\n",
       "0  D012711     MSH  PEP  D012711   \n",
       "1  D012711     MSH   ET  D012711   \n",
       "2  D012711  MSHFRE  PEP  D012711   \n",
       "3  D012711  MSHFRE   ET  D012711   \n",
       "4  D012711  MSHFRE   ET  D012711   \n",
       "\n",
       "                                                 STR  SRL SUPPRESS    CVF  \n",
       "0                     (131)I-Macroaggregated Albumin    0        N  256.0  \n",
       "1                                         (131)I-MAA    0        N  256.0  \n",
       "2      Macroagrégats d'albumine marquée à l'iode 131    3        N    NaN  \n",
       "3                                          MAA-I 131    3        N    NaN  \n",
       "4  Macroagrégats d'albumine humaine marquée à l'i...    3        N    NaN  "
      ]
     },
     "execution_count": 7,
     "metadata": {},
     "output_type": "execute_result"
    }
   ],
   "source": [
    "df.head(5)"
   ]
  },
  {
   "cell_type": "code",
   "execution_count": 8,
   "metadata": {
    "collapsed": true
   },
   "outputs": [],
   "source": [
    "msh_rows = df.query('SAB == \"MSH\"')"
   ]
  },
  {
   "cell_type": "code",
   "execution_count": 9,
   "metadata": {
    "collapsed": true
   },
   "outputs": [],
   "source": [
    "grpd = msh_rows.groupby('CUI')\n",
    "cui_to_msh = dict()\n",
    "for label, df in grpd:\n",
    "    cui_to_msh[label] = list(set(df['SDUI']))\n",
    "    "
   ]
  },
  {
   "cell_type": "code",
   "execution_count": 10,
   "metadata": {},
   "outputs": [
    {
     "name": "stdout",
     "output_type": "stream",
     "text": [
      "366386\n"
     ]
    }
   ],
   "source": [
    "print(len(cui_to_msh))"
   ]
  },
  {
   "cell_type": "code",
   "execution_count": 11,
   "metadata": {},
   "outputs": [
    {
     "name": "stdout",
     "output_type": "stream",
     "text": [
      "['C000613045', 'C469892']\n",
      "['C565753', 'C536684']\n",
      "['C000612721', 'D013390']\n",
      "['C540133', 'C000600295']\n",
      "['C000613846', 'C052620']\n",
      "['C008976', 'C000595128']\n",
      "['C423967', 'C000610146']\n",
      "['D011070', 'C000609731']\n",
      "['C014096', 'C000611472']\n",
      "['C536345', 'D005413']\n",
      "['C537539', 'C537536']\n",
      "['D002707', 'C586041']\n",
      "['C416903', 'D000519']\n",
      "['C000609658', 'C037508']\n",
      "['C538162', 'C563821']\n",
      "['C503999', 'D027381']\n",
      "['C000605502', 'D000071677']\n",
      "['C086742', 'C043567']\n",
      "['D008751', 'C469427']\n",
      "['D020434', 'C564661']\n",
      "['C057224', 'C449219']\n",
      "['C038678', 'C063153']\n",
      "['C006753', 'C014081']\n",
      "['C000606873', 'C540264']\n",
      "['C574884', 'C004315']\n",
      "['C000605855', 'C000613559']\n",
      "['C032538', 'C042041']\n",
      "['C000605449', 'C571874']\n",
      "['C000605628', 'C574187']\n",
      "['C114026', 'C093788']\n",
      "['C026055', 'C400713']\n",
      "['C000606932', 'C040008']\n",
      "['C099565', 'C475721']\n",
      "['C035125', 'C000611492']\n",
      "['C011394', 'C456820']\n",
      "['C000611407', 'C444299']\n",
      "['C586680', 'C000609785']\n",
      "['C008430', 'C479199']\n",
      "['C486292', 'C000613139']\n",
      "['C410423', 'C000609666']\n",
      "['C090722', 'C000611018']\n",
      "['C515073', 'C000611680']\n",
      "['D008680', 'C401902']\n",
      "['C559002', 'C000614145']\n",
      "['C474135', 'C049935']\n",
      "['C101222', 'C008169']\n",
      "['C000598745', 'D003882']\n"
     ]
    }
   ],
   "source": [
    "# There are a few with multiple mappings...\n",
    "for v in cui_to_msh.values():\n",
    "    if len(v) > 1:\n",
    "        print(v)"
   ]
  },
  {
   "cell_type": "code",
   "execution_count": 12,
   "metadata": {
    "collapsed": true
   },
   "outputs": [],
   "source": [
    "pickle.dump(cui_to_msh, open('../data/UMLS-CUI_to_MeSH-Descripctor.pkl', 'wb'))"
   ]
  },
  {
   "cell_type": "markdown",
   "metadata": {},
   "source": [
    "## Get a quick and dirty name map for the 1to1 id to values"
   ]
  },
  {
   "cell_type": "code",
   "execution_count": 13,
   "metadata": {},
   "outputs": [],
   "source": [
    "cui_to_msh_1t1 = {k: v[0] for k, v in cui_to_msh.items() if len(v) == 1}"
   ]
  },
  {
   "cell_type": "markdown",
   "metadata": {},
   "source": [
    "Just take any mapping... we'll get more \"Correct\" names for as many as we can later"
   ]
  },
  {
   "cell_type": "code",
   "execution_count": 14,
   "metadata": {
    "collapsed": true
   },
   "outputs": [],
   "source": [
    "cuis = list(cui_to_msh_1t1.keys())\n",
    "to_name = msh_rows.query('CUI in @cuis')\n",
    "msh_to_name = to_name.drop_duplicates(subset=[\"SDUI\"]).set_index('SDUI')['STR'].to_dict()"
   ]
  },
  {
   "cell_type": "code",
   "execution_count": 15,
   "metadata": {
    "collapsed": true
   },
   "outputs": [],
   "source": [
    "pickle.dump(msh_to_name, open('../data/MeSH_to_name_quick_n_dirty.pkl', 'wb'))"
   ]
  }
 ],
 "metadata": {
  "kernelspec": {
   "display_name": "Python 3",
   "language": "python",
   "name": "python3"
  },
  "language_info": {
   "codemirror_mode": {
    "name": "ipython",
    "version": 3
   },
   "file_extension": ".py",
   "mimetype": "text/x-python",
   "name": "python",
   "nbconvert_exporter": "python",
   "pygments_lexer": "ipython3",
   "version": "3.5.3"
  }
 },
 "nbformat": 4,
 "nbformat_minor": 2
}
