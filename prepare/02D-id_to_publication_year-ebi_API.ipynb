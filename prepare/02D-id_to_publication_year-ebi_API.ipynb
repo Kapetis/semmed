{
 "cells": [
  {
   "cell_type": "markdown",
   "metadata": {},
   "source": [
    "## EuropePMC API for remainder\n",
    "\n",
    "This will get as many of the reamaining unmapped PMIDs as possible from the EurpoPMC API."
   ]
  },
  {
   "cell_type": "code",
   "execution_count": 1,
   "metadata": {
    "collapsed": true
   },
   "outputs": [],
   "source": [
    "import pandas as pd\n",
    "from tqdm import tqdm\n",
    "import pickle\n",
    "import requests\n",
    "import json"
   ]
  },
  {
   "cell_type": "code",
   "execution_count": 2,
   "metadata": {
    "collapsed": true
   },
   "outputs": [],
   "source": [
    "still_no_map = pickle.load(open('../data/no_map_NLM.pkl', 'rb'))\n",
    "new_map = {}"
   ]
  },
  {
   "cell_type": "code",
   "execution_count": 3,
   "metadata": {
    "collapsed": true
   },
   "outputs": [],
   "source": [
    "URL=\"https://www.ebi.ac.uk/europepmc/webservices/rest/search?query=ext_id:{}%20src:med&format=json\""
   ]
  },
  {
   "cell_type": "code",
   "execution_count": 4,
   "metadata": {
    "collapsed": true
   },
   "outputs": [],
   "source": [
    "def get_date(result):\n",
    "    res = result['resultList']['result']\n",
    "    if len(res) == 1 and type(res[0]) == dict:\n",
    "        return res[0].get('firstPublicationDate', None)\n",
    "    elif len(res) > 1 and type(res[0]) == dict:\n",
    "        dates = []\n",
    "        for r in res:\n",
    "            date = res[0].get('firstPublicationDate', '9999-99-99')\n",
    "            dates.append(date)\n",
    "        return min(dates)\n",
    "    \n",
    "    return None"
   ]
  },
  {
   "cell_type": "markdown",
   "metadata": {},
   "source": [
    "Saving this for last because I don't want to hammer the API... but... looking at the docs:\n",
    "\n",
    "https://europepmc.org/RestfulWebService\n",
    "\n",
    "I don't see a way to do a batch query..."
   ]
  },
  {
   "cell_type": "code",
   "execution_count": 5,
   "metadata": {},
   "outputs": [
    {
     "name": "stderr",
     "output_type": "stream",
     "text": [
      "100%|██████████| 14048/14048 [2:33:38<00:00,  1.53it/s] \n"
     ]
    }
   ],
   "source": [
    "# Slow, but only way to get is to query API individually...\n",
    "for pmid in tqdm(still_no_map):\n",
    "    r = requests.get(URL.format(pmid))\n",
    "    result = json.loads(r.text)\n",
    "    date = get_date(result)\n",
    "    new_map[pmid] = date"
   ]
  },
  {
   "cell_type": "code",
   "execution_count": 6,
   "metadata": {},
   "outputs": [
    {
     "name": "stdout",
     "output_type": "stream",
     "text": [
      "7,937\n",
      "6,111\n"
     ]
    }
   ],
   "source": [
    "new_map = {k: v for k, v in new_map.items() if v is not None}\n",
    "print('{:,}'.format(len(new_map)))\n",
    "\n",
    "final_no_map = still_no_map - set(new_map.keys())\n",
    "print('{:,}'.format(len(final_no_map)))"
   ]
  },
  {
   "cell_type": "markdown",
   "metadata": {},
   "source": [
    "Got mappings for another 7,937 PMIDs... great!"
   ]
  },
  {
   "cell_type": "code",
   "execution_count": 7,
   "metadata": {
    "collapsed": true
   },
   "outputs": [],
   "source": [
    "pickle.dump(new_map, open('../data/pmid_to_year_EBI.pkl', 'wb'))\n",
    "pickle.dump(final_no_map, open('../data/no_map_EBI.pkl', 'wb'))"
   ]
  }
 ],
 "metadata": {
  "kernelspec": {
   "display_name": "Python 3",
   "language": "python",
   "name": "python3"
  },
  "language_info": {
   "codemirror_mode": {
    "name": "ipython",
    "version": 3
   },
   "file_extension": ".py",
   "mimetype": "text/x-python",
   "name": "python",
   "nbconvert_exporter": "python",
   "pygments_lexer": "ipython3",
   "version": "3.5.3"
  }
 },
 "nbformat": 4,
 "nbformat_minor": 2
}
