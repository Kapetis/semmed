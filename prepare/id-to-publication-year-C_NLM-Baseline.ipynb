{
 "cells": [
  {
   "cell_type": "code",
   "execution_count": 1,
   "metadata": {
    "collapsed": true
   },
   "outputs": [],
   "source": [
    "import pandas as pd\n",
    "from tqdm import tqdm\n",
    "import gzip\n",
    "import xml.etree.ElementTree as ET"
   ]
  },
  {
   "cell_type": "markdown",
   "metadata": {},
   "source": [
    "Data downloaded from:  \n",
    "ftp://ftp.ncbi.nlm.nih.gov/pubmed/baseline/"
   ]
  },
  {
   "cell_type": "code",
   "execution_count": 2,
   "metadata": {
    "collapsed": true
   },
   "outputs": [],
   "source": [
    "def get_child_tag(child, tag):\n",
    "    for c in child.getchildren():\n",
    "        if c.tag == tag:\n",
    "            return c"
   ]
  },
  {
   "cell_type": "code",
   "execution_count": 3,
   "metadata": {
    "collapsed": true
   },
   "outputs": [],
   "source": [
    "def get_year_from_article(article):\n",
    "    journal = get_child_tag(article, 'Journal')\n",
    "    issue = get_child_tag(journal, 'JournalIssue')\n",
    "    pub_date = get_child_tag(issue, 'PubDate')\n",
    "    year = get_child_tag(pub_date, 'Year')\n",
    "    \n",
    "    if year is not None:\n",
    "        return year.text"
   ]
  },
  {
   "cell_type": "code",
   "execution_count": 4,
   "metadata": {
    "collapsed": true
   },
   "outputs": [],
   "source": [
    "def get_year_from_pubmed(pubmed_data):\n",
    "    history = get_child_tag(pubmed_data, 'History')   \n",
    "    for child in history.getchildren():\n",
    "        if child.tag == 'PubMedPubDate' and child.items()[0][1] == 'pubmed':\n",
    "            year = get_child_tag(child, 'Year')\n",
    "    if year is not None:\n",
    "        return year.text"
   ]
  },
  {
   "cell_type": "code",
   "execution_count": 5,
   "metadata": {
    "collapsed": true
   },
   "outputs": [],
   "source": [
    "def get_pmid_year(pubmed_article):\n",
    "    medline_cit = get_child_tag(pubmed_article, 'MedlineCitation')\n",
    "    pubmed_data = get_child_tag(pubmed_article, 'PubmedData')\n",
    "    \n",
    "    pmid = get_child_tag(medline_cit, 'PMID')\n",
    "    try:\n",
    "        year = get_year_from_pubmed(pubmed_data)\n",
    "    except:\n",
    "        article = get_child_tag(medline_cit, 'Article')\n",
    "        year = get_year_from_article(article)\n",
    "        \n",
    "    if pmid is not None:\n",
    "        pmid = pmid.text\n",
    "    \n",
    "    return pmid, year\n",
    "    "
   ]
  },
  {
   "cell_type": "code",
   "execution_count": 6,
   "metadata": {},
   "outputs": [
    {
     "name": "stderr",
     "output_type": "stream",
     "text": [
      "xmlread: 100%|██████████| 928/928 [4:52:30<00:00, 20.01s/it]  \n"
     ]
    },
    {
     "name": "stdout",
     "output_type": "stream",
     "text": [
      "27,836,723\n",
      "27,836,723\n"
     ]
    }
   ],
   "source": [
    "id_to_year = {}\n",
    "\n",
    "for i in tqdm(range(928), desc='xmlread'):\n",
    "    tree = ET.parse(gzip.open('../data/baseline/pubmed18n{:04}.xml.gz'.format(i+1)))\n",
    "    root = tree.getroot()\n",
    "\n",
    "    for cit in root.getchildren():\n",
    "        pmid, year = get_pmid_year(cit)\n",
    "        id_to_year[pmid] = year\n",
    "        \n",
    "print('{:,}'.format(len(id_to_year)))\n",
    "id_to_year_filt = {k:v for k, v, in id_to_year.items() if v is not None}\n",
    "print('{:,}'.format(len(id_to_year_filt)))"
   ]
  },
  {
   "cell_type": "code",
   "execution_count": 8,
   "metadata": {
    "collapsed": true
   },
   "outputs": [],
   "source": [
    "import pickle\n",
    "prev_no_map = pickle.load(open('../data/no_map_Eur.pkl', 'rb'))"
   ]
  },
  {
   "cell_type": "code",
   "execution_count": 9,
   "metadata": {},
   "outputs": [
    {
     "name": "stdout",
     "output_type": "stream",
     "text": [
      "14,048\n"
     ]
    }
   ],
   "source": [
    "still_no_map = set(prev_no_map) - set(id_to_year.keys())\n",
    "print('{:,}'.format(len(still_no_map)))"
   ]
  },
  {
   "cell_type": "code",
   "execution_count": 10,
   "metadata": {
    "collapsed": true
   },
   "outputs": [],
   "source": [
    "pickle.dump(id_to_year, open('../data/pmid_to_year_NLM.pkl', 'wb'))\n",
    "pickle.dump(still_no_map, open('../data/no_map_NLM.pkl', 'wb'))"
   ]
  }
 ],
 "metadata": {
  "kernelspec": {
   "display_name": "Python 3",
   "language": "python",
   "name": "python3"
  },
  "language_info": {
   "codemirror_mode": {
    "name": "ipython",
    "version": 3
   },
   "file_extension": ".py",
   "mimetype": "text/x-python",
   "name": "python",
   "nbconvert_exporter": "python",
   "pygments_lexer": "ipython3",
   "version": "3.5.3"
  }
 },
 "nbformat": 4,
 "nbformat_minor": 2
}
