{
 "cells": [
  {
   "cell_type": "code",
   "execution_count": 1,
   "metadata": {
    "collapsed": true
   },
   "outputs": [],
   "source": [
    "import os\n",
    "import pandas as pd\n",
    "from tqdm import tqdm\n",
    "import gzip\n",
    "import xml.etree.ElementTree as ET"
   ]
  },
  {
   "cell_type": "markdown",
   "metadata": {},
   "source": [
    "Data downloaded from:  \n",
    "ftp://ftp.ncbi.nlm.nih.gov/pubmed/baseline/\n",
    "\n",
    "Run `./download_baseline.sh` script first before running this noteboook"
   ]
  },
  {
   "cell_type": "code",
   "execution_count": 2,
   "metadata": {
    "collapsed": true
   },
   "outputs": [],
   "source": [
    "def get_child_tag(child, tag):\n",
    "    for c in child.getchildren():\n",
    "        if c.tag == tag:\n",
    "            return c"
   ]
  },
  {
   "cell_type": "code",
   "execution_count": 3,
   "metadata": {
    "collapsed": true
   },
   "outputs": [],
   "source": [
    "def get_year_from_article(article):\n",
    "    journal = get_child_tag(article, 'Journal')\n",
    "    issue = get_child_tag(journal, 'JournalIssue')\n",
    "    pub_date = get_child_tag(issue, 'PubDate')\n",
    "    year = get_child_tag(pub_date, 'Year')\n",
    "    \n",
    "    if year is not None:\n",
    "        return year.text"
   ]
  },
  {
   "cell_type": "code",
   "execution_count": 4,
   "metadata": {
    "collapsed": true
   },
   "outputs": [],
   "source": [
    "def get_year_from_pubmed(pubmed_data):\n",
    "    history = get_child_tag(pubmed_data, 'History')   \n",
    "    for child in history.getchildren():\n",
    "        if child.tag == 'PubMedPubDate' and child.items()[0][1] == 'pubmed':\n",
    "            year = get_child_tag(child, 'Year')\n",
    "    if year is not None:\n",
    "        return year.text"
   ]
  },
  {
   "cell_type": "code",
   "execution_count": 5,
   "metadata": {
    "collapsed": true
   },
   "outputs": [],
   "source": [
    "def get_pmid_year(pubmed_article):\n",
    "    medline_cit = get_child_tag(pubmed_article, 'MedlineCitation')\n",
    "    pubmed_data = get_child_tag(pubmed_article, 'PubmedData')\n",
    "    \n",
    "    pmid = get_child_tag(medline_cit, 'PMID')\n",
    "    try:\n",
    "        year = get_year_from_pubmed(pubmed_data)\n",
    "    except:\n",
    "        article = get_child_tag(medline_cit, 'Article')\n",
    "        year = get_year_from_article(article)\n",
    "        \n",
    "    if pmid is not None:\n",
    "        pmid = pmid.text\n",
    "    \n",
    "    return pmid, year\n",
    "    "
   ]
  },
  {
   "cell_type": "code",
   "execution_count": 6,
   "metadata": {},
   "outputs": [
    {
     "name": "stdout",
     "output_type": "stream",
     "text": [
      "pubmed18n0071.xml.gz\n"
     ]
    },
    {
     "data": {
      "text/plain": [
       "928"
      ]
     },
     "execution_count": 6,
     "metadata": {},
     "output_type": "execute_result"
    }
   ],
   "source": [
    "base = '../data/baseline/'\n",
    "files = [f for f in os.listdir(base) if f.endswith('.xml.gz')]\n",
    "\n",
    "print(files[0])\n",
    "\n",
    "# Last 4 characters before .xml indicate file's order\n",
    "files = sorted(files, key = lambda f: int(f.split('.')[0][-4:]))\n",
    "\n",
    "len(files)"
   ]
  },
  {
   "cell_type": "code",
   "execution_count": 7,
   "metadata": {
    "collapsed": true
   },
   "outputs": [],
   "source": [
    "# This is a stupidly-slow problem of opening g-zipped files... \n",
    "# Could be sped up massively via parallel processing\n",
    "\n",
    "import sys\n",
    "sys.path.append('../../hetnet-ml/src')\n",
    "from parallel import parallel_process"
   ]
  },
  {
   "cell_type": "code",
   "execution_count": 8,
   "metadata": {},
   "outputs": [],
   "source": [
    "def get_id_to_year_map(file):\n",
    "    id_to_year = {}\n",
    "    tree = ET.parse(gzip.open(os.path.join(base, file)))\n",
    "    root = tree.getroot()\n",
    "\n",
    "    for cit in root.getchildren():\n",
    "        pmid, year = get_pmid_year(cit)\n",
    "        id_to_year[pmid] = year\n",
    "    return id_to_year"
   ]
  },
  {
   "cell_type": "code",
   "execution_count": 9,
   "metadata": {},
   "outputs": [
    {
     "name": "stderr",
     "output_type": "stream",
     "text": [
      "100%|██████████| 928/928 [14:08<00:00,  1.06it/s]\n"
     ]
    },
    {
     "name": "stdout",
     "output_type": "stream",
     "text": [
      "27,836,723\n",
      "27,836,723\n"
     ]
    }
   ],
   "source": [
    "id_to_year = {}\n",
    "results = parallel_process(files, get_id_to_year_map, n_jobs=32, front_num=0)\n",
    "\n",
    "for r in results:\n",
    "    id_to_year.update(r)\n",
    "    \n",
    "    \n",
    "print('{:,}'.format(len(id_to_year)))\n",
    "id_to_year_filt = {k:v for k, v, in id_to_year.items() if v is not None}\n",
    "print('{:,}'.format(len(id_to_year_filt)))"
   ]
  },
  {
   "cell_type": "code",
   "execution_count": 10,
   "metadata": {
    "collapsed": true
   },
   "outputs": [],
   "source": [
    "import pickle\n",
    "prev_no_map = pickle.load(open('../data/no_map_Eur.pkl', 'rb'))"
   ]
  },
  {
   "cell_type": "code",
   "execution_count": 11,
   "metadata": {},
   "outputs": [
    {
     "name": "stdout",
     "output_type": "stream",
     "text": [
      "14,048\n"
     ]
    }
   ],
   "source": [
    "still_no_map = set(prev_no_map) - set(id_to_year.keys())\n",
    "print('{:,}'.format(len(still_no_map)))"
   ]
  },
  {
   "cell_type": "code",
   "execution_count": 12,
   "metadata": {
    "collapsed": true
   },
   "outputs": [],
   "source": [
    "pickle.dump(id_to_year, open('../data/pmid_to_year_NLM.pkl', 'wb'))\n",
    "pickle.dump(still_no_map, open('../data/no_map_NLM.pkl', 'wb'))"
   ]
  }
 ],
 "metadata": {
  "kernelspec": {
   "display_name": "Python 3",
   "language": "python",
   "name": "python3"
  },
  "language_info": {
   "codemirror_mode": {
    "name": "ipython",
    "version": 3
   },
   "file_extension": ".py",
   "mimetype": "text/x-python",
   "name": "python",
   "nbconvert_exporter": "python",
   "pygments_lexer": "ipython3",
   "version": "3.5.3"
  }
 },
 "nbformat": 4,
 "nbformat_minor": 2
}
