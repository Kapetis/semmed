{
 "cells": [
  {
   "cell_type": "code",
   "execution_count": null,
   "metadata": {},
   "outputs": [
    {
     "name": "stdout",
     "output_type": "stream",
     "text": [
      "--2018-09-27 18:28:02--  ftp://nlmpubs.nlm.nih.gov/online/mesh/MESH_FILES/xmlmesh/supp2018.xml\n",
      "           => ‘../data/supp2018.xml’\n",
      "Resolving nlmpubs.nlm.nih.gov (nlmpubs.nlm.nih.gov)... 130.14.74.3\n",
      "Connecting to nlmpubs.nlm.nih.gov (nlmpubs.nlm.nih.gov)|130.14.74.3|:21... connected.\n",
      "Logging in as anonymous ... Logged in!\n",
      "==> SYST ... done.    ==> PWD ... done.\n",
      "==> TYPE I ... done.  ==> CWD (1) /online/mesh/MESH_FILES/xmlmesh ... done.\n",
      "==> SIZE supp2018.xml ... 596638171\n",
      "==> PASV ... done.    ==> RETR supp2018.xml ... done.\n",
      "Length: 596638171 (569M) (unauthoritative)\n",
      "\n",
      "supp2018.xml         96%[==================> ] 548.04M  27.7MB/s    eta 1s     "
     ]
    }
   ],
   "source": [
    "!wget -O ../data/supp2018.xml ftp://nlmpubs.nlm.nih.gov/online/mesh/MESH_FILES/xmlmesh/supp2018.xml\n",
    "!wget -O ../data/desc2018.xml ftp://nlmpubs.nlm.nih.gov/online/mesh/MESH_FILES/xmlmesh/desc2018.xml"
   ]
  },
  {
   "cell_type": "code",
   "execution_count": null,
   "metadata": {
    "collapsed": true
   },
   "outputs": [],
   "source": [
    "import pickle\n",
    "import xml.etree.ElementTree as ET\n",
    "from collections import defaultdict"
   ]
  },
  {
   "cell_type": "markdown",
   "metadata": {},
   "source": [
    "## Go from MeSH Descriptor IDs or MeSH Supplemental IDs to name"
   ]
  },
  {
   "cell_type": "code",
   "execution_count": null,
   "metadata": {
    "collapsed": true
   },
   "outputs": [],
   "source": [
    "root = ET.parse('../data/desc2018.xml').getroot()\n",
    "root1 = ET.parse('../data/supp2018.xml').getroot()"
   ]
  },
  {
   "cell_type": "code",
   "execution_count": null,
   "metadata": {
    "collapsed": true
   },
   "outputs": [],
   "source": [
    "id_to_name = dict()\n",
    "for descriptor in root.getchildren():\n",
    "    for child in descriptor.getchildren():\n",
    "        if child.tag == 'DescriptorUI':\n",
    "            uid = child.text\n",
    "        if child.tag == 'DescriptorName':\n",
    "            name = child.getchildren()[0].text\n",
    "    id_to_name[uid] = name"
   ]
  },
  {
   "cell_type": "code",
   "execution_count": null,
   "metadata": {
    "collapsed": true
   },
   "outputs": [],
   "source": [
    "for supplement in root1.getchildren():\n",
    "    for child in supplement.getchildren():\n",
    "        if child.tag == 'SupplementalRecordUI':\n",
    "            uid = child.text\n",
    "        if child.tag == 'SupplementalRecordName':\n",
    "            name = child.getchildren()[0].text\n",
    "    id_to_name[uid] = name"
   ]
  },
  {
   "cell_type": "code",
   "execution_count": null,
   "metadata": {},
   "outputs": [],
   "source": [
    "len(id_to_name)"
   ]
  },
  {
   "cell_type": "code",
   "execution_count": null,
   "metadata": {
    "collapsed": true
   },
   "outputs": [],
   "source": [
    "pickle.dump(id_to_name, open('../data/MeSH_DescUID_to_Name.pkl', 'wb'))"
   ]
  },
  {
   "cell_type": "markdown",
   "metadata": {},
   "source": [
    "## Also get tree-values for childern"
   ]
  },
  {
   "cell_type": "code",
   "execution_count": null,
   "metadata": {},
   "outputs": [],
   "source": [
    "id_to_treenumbs = defaultdict(list)\n",
    "for descriptor in root.getchildren():\n",
    "    for child in descriptor.getchildren():\n",
    "        if child.tag == 'DescriptorUI':\n",
    "            uid = child.text\n",
    "        if child.tag == 'TreeNumberList':\n",
    "            for tn in child.getchildren():\n",
    "                id_to_treenumbs[uid].append(tn.text)"
   ]
  },
  {
   "cell_type": "code",
   "execution_count": null,
   "metadata": {
    "collapsed": true
   },
   "outputs": [],
   "source": [
    "pickle.dump(id_to_treenumbs, open('../data/MeSH_DescUID_to_TreeNumbs.pkl', 'wb'))"
   ]
  }
 ],
 "metadata": {
  "kernelspec": {
   "display_name": "Python 3",
   "language": "python",
   "name": "python3"
  },
  "language_info": {
   "codemirror_mode": {
    "name": "ipython",
    "version": 3
   },
   "file_extension": ".py",
   "mimetype": "text/x-python",
   "name": "python",
   "nbconvert_exporter": "python",
   "pygments_lexer": "ipython3",
   "version": "3.5.3"
  }
 },
 "nbformat": 4,
 "nbformat_minor": 2
}
